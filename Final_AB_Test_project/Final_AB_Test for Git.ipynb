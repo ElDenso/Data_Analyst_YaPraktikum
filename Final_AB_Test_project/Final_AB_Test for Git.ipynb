{
 "cells": [
  {
   "cell_type": "markdown",
   "metadata": {},
   "source": [
    "# Финальный проект. Кейс \"АВ-тест\""
   ]
  },
  {
   "cell_type": "markdown",
   "metadata": {},
   "source": [
    "## Описание"
   ]
  },
  {
   "cell_type": "markdown",
   "metadata": {},
   "source": [
    "Задача — провести оценку результатов A/B-теста. В нашем распоряжении датасет с действиями пользователей, датасет с маркетинговыми кампаниями, датасет с группами АВ-тестов, датасет с датами регистрации пользователей.\n",
    "\n",
    "- Рассматриваемый АВ-тест: recommender_system_test\n",
    "- Группы: А (контрольная), B (новая платёжная воронка);\n",
    "- Дата запуска: 2020-12-07;\n",
    "- Дата остановки набора новых пользователей: 2020-12-21;\n",
    "- Дата остановки теста: 2021-01-04;\n",
    "- Ожидаемое количество участников теста: 15% новых пользователей из региона EU;\n",
    "- Назначение теста: тестирование изменений, связанных с внедрением улучшенной рекомендательной системы;\n",
    "- Ожидаемый эффект: за 14 дней с момента регистрации в системе пользователи покажут улучшение каждой метрики не менее, чем на 5 процентных пунктов:\n",
    " * конверсии в просмотр карточек товаров — событие product_page\n",
    " * просмотры корзины — product_cart\n",
    " * покупки — purchase\n",
    "\n",
    "Поставленные задачи:\n",
    "* Оценить корректность проведения теста.\n",
    "* Проанализировать результаты теста.\n",
    "\n",
    "План работы:\n",
    "* Подготовить данные, оценить их целостность:\n",
    " * Требуется ли преобразование типов?\n",
    " * Присутствуют ли пропущенные значения и дубликаты? Какова их природа?\n",
    "\n",
    "* Оценить корректность проведения теста:\n",
    " * Выделить пользователей участвующих в тесте и проверить:\n",
    "  * период набора пользователей в тест и его соответствие требованиям технического задания;\n",
    "  * регион регистрации пользователей: все ли попавшие в тест пользователи представляют целевой регион и составляет ли общее количество пользователей из целевого региона 15% от общего числа пользователей из целевого региона, зарегистрированных в период набора пользователей в тест;\n",
    "  * динамику набора пользователей в группы теста и равномерность распределения пользователей по группам теста и корректность их формирования;\n",
    "  \n",
    "* Удостовериться, что нет пересечений с конкурирующим тестом и нет пользователей, участвующих в двух группах теста одновременно.\n",
    "\n",
    "* Изучить данные о пользовательской активности:\n",
    "  * даты совершения событий участниками теста: совпадают ли они с датами проведения теста, согласно техническому заданию;\n",
    "  * активность пользователей: все ли зарегистрированные пользователи прошли авторизацию и совершали переход по продуктовой воронке; если есть пользователи, которые не совершали событий после регистрации, изучить их количество и распределение между группами теста; принять решение о необходимости учитывать пользователей без событий при изучении результатов теста;\n",
    "  * горизонт анализа: рассчитать лайфтайм совершения события пользователем после регистрации, оставить только те события, которые были совершены в первые 14 дней с момента регистрации; проверить, что все участники теста имели возможность совершать события все 14 дней с момента регистрации, оценить когда пользователи совершают свои первые события каждого вида.\n",
    "  * Представьте развернутый вывод о соответствии теста требованиям технического задания и возможности получения достоверных результатов АБ-теста, исходя из базового показателя конверсии в 50%.\n",
    "\n",
    "* Провести исследовательский анализ данных:\n",
    "  * Распределение количества событий на пользователя в разрезе групп теста: гистограмма распределения этой величины в разрезе групп и сравнение её средних значений между собой у групп теста;\n",
    "  * Динамика количества событий в группах теста по дням: изучите распределение числа событий по дням и сравните динамику групп теста между собой.\n",
    "  * Время проведения теста не совпадает с маркетинговыми и другими активностями. Добавить автоматическую проверку, выдающую список событий, пересекающихся с тестом. При необходимости оценить воздействие маркетинговых событий на динамику количества событий.\n",
    "  * Продуктовая воронка: построить простые продуктовые воронки для двух групп теста с учетом логической последовательности совершения событий; изучить изменение конверсии в продуктовой воронке тестовой группы, по сравнению с контрольной: наблюдается ли ожидаемый эффект увеличения конверсии в группе В, относительно конверсии в группе А?\n",
    "  * Сделать общий вывод об изменении пользовательской активности в тестовой группе, по сравнению с контрольной.\n",
    "\n",
    "* Провести оценку результатов A/B-тестирования:\n",
    "  * Проверить статистическую разницу долей z-критерием.\n",
    "  * Сделать выводы о результатах A/B-тестирования. Был ли достигнут ожидаемый эффект в изменении конверсии?\n",
    "\n",
    "* Сделать финальные выводы на основе проведенного исследовательского анализа данных, анализа результатов АВ-теста, дать рекомендации."
   ]
  },
  {
   "cell_type": "markdown",
   "metadata": {},
   "source": [
    "## Загрузка данных и оценка"
   ]
  },
  {
   "cell_type": "markdown",
   "metadata": {},
   "source": [
    "### Загрузка библиотек и данных, основные параметры"
   ]
  },
  {
   "cell_type": "markdown",
   "metadata": {},
   "source": [
    "В первую очередь загрузим библиотеки, необходимые для исследования и сами датасеты, чтобы понять, как они устроены, и как с ними предстоит работать."
   ]
  },
  {
   "cell_type": "code",
   "execution_count": 1,
   "metadata": {},
   "outputs": [],
   "source": [
    "import pandas as pd\n",
    "import datetime as dt\n",
    "import numpy as np\n",
    "import matplotlib.pyplot as plt\n",
    "from pandas.plotting import register_matplotlib_converters\n",
    "import warnings\n",
    "# конвертеры, которые позволяют использовать типы pandas в matplotlib  \n",
    "register_matplotlib_converters()\n",
    "import scipy.stats as stats\n",
    "from datetime import datetime, timedelta\n",
    "import plotly.express as px\n",
    "from plotly import graph_objects as go \n",
    "from plotly.subplots import make_subplots\n",
    "from scipy import stats as st\n",
    "import math as mth"
   ]
  },
  {
   "cell_type": "code",
   "execution_count": 2,
   "metadata": {},
   "outputs": [],
   "source": [
    "market_events = pd.read_csv('ab_project_marketing_events.csv')"
   ]
  },
  {
   "cell_type": "code",
   "execution_count": 3,
   "metadata": {},
   "outputs": [],
   "source": [
    "users = pd.read_csv('final_ab_new_users.csv')"
   ]
  },
  {
   "cell_type": "code",
   "execution_count": 4,
   "metadata": {},
   "outputs": [],
   "source": [
    "events = pd.read_csv('final_ab_events.csv')"
   ]
  },
  {
   "cell_type": "code",
   "execution_count": 5,
   "metadata": {},
   "outputs": [],
   "source": [
    "groups = pd.read_csv('final_ab_participants.csv')"
   ]
  },
  {
   "cell_type": "code",
   "execution_count": 6,
   "metadata": {},
   "outputs": [
    {
     "name": "stdout",
     "output_type": "stream",
     "text": [
      "<class 'pandas.core.frame.DataFrame'>\n",
      "RangeIndex: 14 entries, 0 to 13\n",
      "Data columns (total 4 columns):\n",
      " #   Column     Non-Null Count  Dtype \n",
      "---  ------     --------------  ----- \n",
      " 0   name       14 non-null     object\n",
      " 1   regions    14 non-null     object\n",
      " 2   start_dt   14 non-null     object\n",
      " 3   finish_dt  14 non-null     object\n",
      "dtypes: object(4)\n",
      "memory usage: 576.0+ bytes\n"
     ]
    },
    {
     "data": {
      "text/html": [
       "<div>\n",
       "<style scoped>\n",
       "    .dataframe tbody tr th:only-of-type {\n",
       "        vertical-align: middle;\n",
       "    }\n",
       "\n",
       "    .dataframe tbody tr th {\n",
       "        vertical-align: top;\n",
       "    }\n",
       "\n",
       "    .dataframe thead th {\n",
       "        text-align: right;\n",
       "    }\n",
       "</style>\n",
       "<table border=\"1\" class=\"dataframe\">\n",
       "  <thead>\n",
       "    <tr style=\"text-align: right;\">\n",
       "      <th></th>\n",
       "      <th>name</th>\n",
       "      <th>regions</th>\n",
       "      <th>start_dt</th>\n",
       "      <th>finish_dt</th>\n",
       "    </tr>\n",
       "  </thead>\n",
       "  <tbody>\n",
       "    <tr>\n",
       "      <th>0</th>\n",
       "      <td>Christmas&amp;New Year Promo</td>\n",
       "      <td>EU, N.America</td>\n",
       "      <td>2020-12-25</td>\n",
       "      <td>2021-01-03</td>\n",
       "    </tr>\n",
       "    <tr>\n",
       "      <th>1</th>\n",
       "      <td>St. Valentine's Day Giveaway</td>\n",
       "      <td>EU, CIS, APAC, N.America</td>\n",
       "      <td>2020-02-14</td>\n",
       "      <td>2020-02-16</td>\n",
       "    </tr>\n",
       "    <tr>\n",
       "      <th>2</th>\n",
       "      <td>St. Patric's Day Promo</td>\n",
       "      <td>EU, N.America</td>\n",
       "      <td>2020-03-17</td>\n",
       "      <td>2020-03-19</td>\n",
       "    </tr>\n",
       "    <tr>\n",
       "      <th>3</th>\n",
       "      <td>Easter Promo</td>\n",
       "      <td>EU, CIS, APAC, N.America</td>\n",
       "      <td>2020-04-12</td>\n",
       "      <td>2020-04-19</td>\n",
       "    </tr>\n",
       "    <tr>\n",
       "      <th>4</th>\n",
       "      <td>4th of July Promo</td>\n",
       "      <td>N.America</td>\n",
       "      <td>2020-07-04</td>\n",
       "      <td>2020-07-11</td>\n",
       "    </tr>\n",
       "  </tbody>\n",
       "</table>\n",
       "</div>"
      ],
      "text/plain": [
       "                           name                   regions    start_dt  \\\n",
       "0      Christmas&New Year Promo             EU, N.America  2020-12-25   \n",
       "1  St. Valentine's Day Giveaway  EU, CIS, APAC, N.America  2020-02-14   \n",
       "2        St. Patric's Day Promo             EU, N.America  2020-03-17   \n",
       "3                  Easter Promo  EU, CIS, APAC, N.America  2020-04-12   \n",
       "4             4th of July Promo                 N.America  2020-07-04   \n",
       "\n",
       "    finish_dt  \n",
       "0  2021-01-03  \n",
       "1  2020-02-16  \n",
       "2  2020-03-19  \n",
       "3  2020-04-19  \n",
       "4  2020-07-11  "
      ]
     },
     "metadata": {},
     "output_type": "display_data"
    },
    {
     "name": "stdout",
     "output_type": "stream",
     "text": [
      "<class 'pandas.core.frame.DataFrame'>\n",
      "RangeIndex: 440317 entries, 0 to 440316\n",
      "Data columns (total 4 columns):\n",
      " #   Column      Non-Null Count   Dtype  \n",
      "---  ------      --------------   -----  \n",
      " 0   user_id     440317 non-null  object \n",
      " 1   event_dt    440317 non-null  object \n",
      " 2   event_name  440317 non-null  object \n",
      " 3   details     62740 non-null   float64\n",
      "dtypes: float64(1), object(3)\n",
      "memory usage: 13.4+ MB\n"
     ]
    },
    {
     "data": {
      "text/html": [
       "<div>\n",
       "<style scoped>\n",
       "    .dataframe tbody tr th:only-of-type {\n",
       "        vertical-align: middle;\n",
       "    }\n",
       "\n",
       "    .dataframe tbody tr th {\n",
       "        vertical-align: top;\n",
       "    }\n",
       "\n",
       "    .dataframe thead th {\n",
       "        text-align: right;\n",
       "    }\n",
       "</style>\n",
       "<table border=\"1\" class=\"dataframe\">\n",
       "  <thead>\n",
       "    <tr style=\"text-align: right;\">\n",
       "      <th></th>\n",
       "      <th>user_id</th>\n",
       "      <th>event_dt</th>\n",
       "      <th>event_name</th>\n",
       "      <th>details</th>\n",
       "    </tr>\n",
       "  </thead>\n",
       "  <tbody>\n",
       "    <tr>\n",
       "      <th>0</th>\n",
       "      <td>E1BDDCE0DAFA2679</td>\n",
       "      <td>2020-12-07 20:22:03</td>\n",
       "      <td>purchase</td>\n",
       "      <td>99.99</td>\n",
       "    </tr>\n",
       "    <tr>\n",
       "      <th>1</th>\n",
       "      <td>7B6452F081F49504</td>\n",
       "      <td>2020-12-07 09:22:53</td>\n",
       "      <td>purchase</td>\n",
       "      <td>9.99</td>\n",
       "    </tr>\n",
       "    <tr>\n",
       "      <th>2</th>\n",
       "      <td>9CD9F34546DF254C</td>\n",
       "      <td>2020-12-07 12:59:29</td>\n",
       "      <td>purchase</td>\n",
       "      <td>4.99</td>\n",
       "    </tr>\n",
       "    <tr>\n",
       "      <th>3</th>\n",
       "      <td>96F27A054B191457</td>\n",
       "      <td>2020-12-07 04:02:40</td>\n",
       "      <td>purchase</td>\n",
       "      <td>4.99</td>\n",
       "    </tr>\n",
       "    <tr>\n",
       "      <th>4</th>\n",
       "      <td>1FD7660FDF94CA1F</td>\n",
       "      <td>2020-12-07 10:15:09</td>\n",
       "      <td>purchase</td>\n",
       "      <td>4.99</td>\n",
       "    </tr>\n",
       "  </tbody>\n",
       "</table>\n",
       "</div>"
      ],
      "text/plain": [
       "            user_id             event_dt event_name  details\n",
       "0  E1BDDCE0DAFA2679  2020-12-07 20:22:03   purchase    99.99\n",
       "1  7B6452F081F49504  2020-12-07 09:22:53   purchase     9.99\n",
       "2  9CD9F34546DF254C  2020-12-07 12:59:29   purchase     4.99\n",
       "3  96F27A054B191457  2020-12-07 04:02:40   purchase     4.99\n",
       "4  1FD7660FDF94CA1F  2020-12-07 10:15:09   purchase     4.99"
      ]
     },
     "metadata": {},
     "output_type": "display_data"
    },
    {
     "name": "stdout",
     "output_type": "stream",
     "text": [
      "<class 'pandas.core.frame.DataFrame'>\n",
      "RangeIndex: 18268 entries, 0 to 18267\n",
      "Data columns (total 3 columns):\n",
      " #   Column   Non-Null Count  Dtype \n",
      "---  ------   --------------  ----- \n",
      " 0   user_id  18268 non-null  object\n",
      " 1   group    18268 non-null  object\n",
      " 2   ab_test  18268 non-null  object\n",
      "dtypes: object(3)\n",
      "memory usage: 428.3+ KB\n"
     ]
    },
    {
     "data": {
      "text/html": [
       "<div>\n",
       "<style scoped>\n",
       "    .dataframe tbody tr th:only-of-type {\n",
       "        vertical-align: middle;\n",
       "    }\n",
       "\n",
       "    .dataframe tbody tr th {\n",
       "        vertical-align: top;\n",
       "    }\n",
       "\n",
       "    .dataframe thead th {\n",
       "        text-align: right;\n",
       "    }\n",
       "</style>\n",
       "<table border=\"1\" class=\"dataframe\">\n",
       "  <thead>\n",
       "    <tr style=\"text-align: right;\">\n",
       "      <th></th>\n",
       "      <th>user_id</th>\n",
       "      <th>group</th>\n",
       "      <th>ab_test</th>\n",
       "    </tr>\n",
       "  </thead>\n",
       "  <tbody>\n",
       "    <tr>\n",
       "      <th>0</th>\n",
       "      <td>D1ABA3E2887B6A73</td>\n",
       "      <td>A</td>\n",
       "      <td>recommender_system_test</td>\n",
       "    </tr>\n",
       "    <tr>\n",
       "      <th>1</th>\n",
       "      <td>A7A3664BD6242119</td>\n",
       "      <td>A</td>\n",
       "      <td>recommender_system_test</td>\n",
       "    </tr>\n",
       "    <tr>\n",
       "      <th>2</th>\n",
       "      <td>DABC14FDDFADD29E</td>\n",
       "      <td>A</td>\n",
       "      <td>recommender_system_test</td>\n",
       "    </tr>\n",
       "    <tr>\n",
       "      <th>3</th>\n",
       "      <td>04988C5DF189632E</td>\n",
       "      <td>A</td>\n",
       "      <td>recommender_system_test</td>\n",
       "    </tr>\n",
       "    <tr>\n",
       "      <th>4</th>\n",
       "      <td>482F14783456D21B</td>\n",
       "      <td>B</td>\n",
       "      <td>recommender_system_test</td>\n",
       "    </tr>\n",
       "  </tbody>\n",
       "</table>\n",
       "</div>"
      ],
      "text/plain": [
       "            user_id group                  ab_test\n",
       "0  D1ABA3E2887B6A73     A  recommender_system_test\n",
       "1  A7A3664BD6242119     A  recommender_system_test\n",
       "2  DABC14FDDFADD29E     A  recommender_system_test\n",
       "3  04988C5DF189632E     A  recommender_system_test\n",
       "4  482F14783456D21B     B  recommender_system_test"
      ]
     },
     "metadata": {},
     "output_type": "display_data"
    },
    {
     "name": "stdout",
     "output_type": "stream",
     "text": [
      "<class 'pandas.core.frame.DataFrame'>\n",
      "RangeIndex: 61733 entries, 0 to 61732\n",
      "Data columns (total 4 columns):\n",
      " #   Column      Non-Null Count  Dtype \n",
      "---  ------      --------------  ----- \n",
      " 0   user_id     61733 non-null  object\n",
      " 1   first_date  61733 non-null  object\n",
      " 2   region      61733 non-null  object\n",
      " 3   device      61733 non-null  object\n",
      "dtypes: object(4)\n",
      "memory usage: 1.9+ MB\n"
     ]
    },
    {
     "data": {
      "text/html": [
       "<div>\n",
       "<style scoped>\n",
       "    .dataframe tbody tr th:only-of-type {\n",
       "        vertical-align: middle;\n",
       "    }\n",
       "\n",
       "    .dataframe tbody tr th {\n",
       "        vertical-align: top;\n",
       "    }\n",
       "\n",
       "    .dataframe thead th {\n",
       "        text-align: right;\n",
       "    }\n",
       "</style>\n",
       "<table border=\"1\" class=\"dataframe\">\n",
       "  <thead>\n",
       "    <tr style=\"text-align: right;\">\n",
       "      <th></th>\n",
       "      <th>user_id</th>\n",
       "      <th>first_date</th>\n",
       "      <th>region</th>\n",
       "      <th>device</th>\n",
       "    </tr>\n",
       "  </thead>\n",
       "  <tbody>\n",
       "    <tr>\n",
       "      <th>0</th>\n",
       "      <td>D72A72121175D8BE</td>\n",
       "      <td>2020-12-07</td>\n",
       "      <td>EU</td>\n",
       "      <td>PC</td>\n",
       "    </tr>\n",
       "    <tr>\n",
       "      <th>1</th>\n",
       "      <td>F1C668619DFE6E65</td>\n",
       "      <td>2020-12-07</td>\n",
       "      <td>N.America</td>\n",
       "      <td>Android</td>\n",
       "    </tr>\n",
       "    <tr>\n",
       "      <th>2</th>\n",
       "      <td>2E1BF1D4C37EA01F</td>\n",
       "      <td>2020-12-07</td>\n",
       "      <td>EU</td>\n",
       "      <td>PC</td>\n",
       "    </tr>\n",
       "    <tr>\n",
       "      <th>3</th>\n",
       "      <td>50734A22C0C63768</td>\n",
       "      <td>2020-12-07</td>\n",
       "      <td>EU</td>\n",
       "      <td>iPhone</td>\n",
       "    </tr>\n",
       "    <tr>\n",
       "      <th>4</th>\n",
       "      <td>E1BDDCE0DAFA2679</td>\n",
       "      <td>2020-12-07</td>\n",
       "      <td>N.America</td>\n",
       "      <td>iPhone</td>\n",
       "    </tr>\n",
       "  </tbody>\n",
       "</table>\n",
       "</div>"
      ],
      "text/plain": [
       "            user_id  first_date     region   device\n",
       "0  D72A72121175D8BE  2020-12-07         EU       PC\n",
       "1  F1C668619DFE6E65  2020-12-07  N.America  Android\n",
       "2  2E1BF1D4C37EA01F  2020-12-07         EU       PC\n",
       "3  50734A22C0C63768  2020-12-07         EU   iPhone\n",
       "4  E1BDDCE0DAFA2679  2020-12-07  N.America   iPhone"
      ]
     },
     "metadata": {},
     "output_type": "display_data"
    }
   ],
   "source": [
    "df_list=[market_events,events,groups,users]\n",
    "for dfrm in df_list:\n",
    "    dfrm.info()\n",
    "    display(dfrm.head(5))"
   ]
  },
  {
   "cell_type": "markdown",
   "metadata": {},
   "source": [
    "**Маркетинговые мероприятия** \n",
    "\n",
    "Всего 14 записей, сразу можно увидеть, что представлены все регионы мира, а также некоторые мероприятия пересекаются по датам проведения с временем проведения теста (новогодние активности).\n",
    "\n",
    "Однако столбцы с датами не имеют правильный формат, позднее это будет исправлено."
   ]
  },
  {
   "cell_type": "markdown",
   "metadata": {},
   "source": [
    "**Список всех пользователей**\n",
    "\n",
    "Следующий набор данных - список пользователей с информацией о регистрации, регионе пользователя и устройстве.\n",
    "\n",
    "Здесь важно сразу обратить внимание, что в тесте рассматриваются пользователи из ЕС."
   ]
  },
  {
   "cell_type": "markdown",
   "metadata": {},
   "source": [
    "Всего 61733 пользователя из различных регионов. На текущий момент никаких манипуляций с данными не проводим. Обращаем внимание на то, что тип данных в столбце с датой регистрации не соответствует нужному."
   ]
  },
  {
   "cell_type": "markdown",
   "metadata": {},
   "source": [
    "**Пользовательские события**\n",
    "\n",
    "Главный датасет исследования - набор данных о событиях пользователей. В основном для целей исследования будет использоваться он, после дополнения данными из других датасетов."
   ]
  },
  {
   "cell_type": "markdown",
   "metadata": {},
   "source": [
    "Всего представлено 440317 записей, из них 62740 записей с дополнительной информацией по событию. Эта информация - сумма покупки, как видно из выдержки датасета. Тип данных в столбце даты также некорректный."
   ]
  },
  {
   "cell_type": "markdown",
   "metadata": {},
   "source": [
    "**Группы теста**\n",
    "\n",
    "Последний датасет - с группами АВ-теста. Требуемый поставленной задачей тест - recommender_system_test."
   ]
  },
  {
   "cell_type": "markdown",
   "metadata": {},
   "source": [
    "В нашем распоряжении 18267 записей с информацией о группах пользователей по АБ тесту. При этом имеется как минимум один конкурирующий АВ-тест \"interface_eu_test\", группы которого могут пересекаться с рассматриваемым тестом."
   ]
  },
  {
   "cell_type": "markdown",
   "metadata": {},
   "source": [
    "### Изменение типов данных"
   ]
  },
  {
   "cell_type": "markdown",
   "metadata": {},
   "source": [
    "Как было обнаружено ранее, присутствуют ошибочные типы данных в трех датасетах в части дат событий. Поэтому переведем их в корректный формат."
   ]
  },
  {
   "cell_type": "code",
   "execution_count": 7,
   "metadata": {
    "scrolled": false
   },
   "outputs": [
    {
     "name": "stdout",
     "output_type": "stream",
     "text": [
      "<class 'pandas.core.frame.DataFrame'>\n",
      "RangeIndex: 440317 entries, 0 to 440316\n",
      "Data columns (total 4 columns):\n",
      " #   Column      Non-Null Count   Dtype         \n",
      "---  ------      --------------   -----         \n",
      " 0   user_id     440317 non-null  object        \n",
      " 1   event_dt    440317 non-null  datetime64[ns]\n",
      " 2   event_name  440317 non-null  object        \n",
      " 3   details     62740 non-null   float64       \n",
      "dtypes: datetime64[ns](1), float64(1), object(2)\n",
      "memory usage: 13.4+ MB\n"
     ]
    }
   ],
   "source": [
    "events['event_dt']=pd.to_datetime(events['event_dt']).dt.strftime('%Y-%m-%d')\n",
    "events['event_dt']=pd.to_datetime(events['event_dt'])\n",
    "events.info()"
   ]
  },
  {
   "cell_type": "code",
   "execution_count": 8,
   "metadata": {},
   "outputs": [
    {
     "name": "stdout",
     "output_type": "stream",
     "text": [
      "<class 'pandas.core.frame.DataFrame'>\n",
      "RangeIndex: 14 entries, 0 to 13\n",
      "Data columns (total 4 columns):\n",
      " #   Column     Non-Null Count  Dtype         \n",
      "---  ------     --------------  -----         \n",
      " 0   name       14 non-null     object        \n",
      " 1   regions    14 non-null     object        \n",
      " 2   start_dt   14 non-null     datetime64[ns]\n",
      " 3   finish_dt  14 non-null     datetime64[ns]\n",
      "dtypes: datetime64[ns](2), object(2)\n",
      "memory usage: 576.0+ bytes\n"
     ]
    }
   ],
   "source": [
    "market_events['start_dt']=pd.to_datetime(market_events['start_dt'])\n",
    "market_events['finish_dt']=pd.to_datetime(market_events['finish_dt'])\n",
    "market_events.info()"
   ]
  },
  {
   "cell_type": "code",
   "execution_count": 9,
   "metadata": {},
   "outputs": [
    {
     "name": "stdout",
     "output_type": "stream",
     "text": [
      "<class 'pandas.core.frame.DataFrame'>\n",
      "RangeIndex: 61733 entries, 0 to 61732\n",
      "Data columns (total 4 columns):\n",
      " #   Column      Non-Null Count  Dtype         \n",
      "---  ------      --------------  -----         \n",
      " 0   user_id     61733 non-null  object        \n",
      " 1   first_date  61733 non-null  datetime64[ns]\n",
      " 2   region      61733 non-null  object        \n",
      " 3   device      61733 non-null  object        \n",
      "dtypes: datetime64[ns](1), object(3)\n",
      "memory usage: 1.9+ MB\n"
     ]
    }
   ],
   "source": [
    "users['first_date']=pd.to_datetime(users['first_date'])\n",
    "users.info()"
   ]
  },
  {
   "cell_type": "markdown",
   "metadata": {},
   "source": [
    "## Предобработка данных и отбор"
   ]
  },
  {
   "cell_type": "markdown",
   "metadata": {},
   "source": [
    "Для корректной работы с данными по требуемому тесту, необходимо изучить и отсортировать данные, которые имеются в наличии, в рамках соответствия ТЗ. Начнем с календаря маркетинговых активностей."
   ]
  },
  {
   "cell_type": "markdown",
   "metadata": {},
   "source": [
    "### Маркетинговые активности и период теста"
   ]
  },
  {
   "cell_type": "markdown",
   "metadata": {},
   "source": [
    "Поскольку тест проводится в рамках региона EU, отобразим маркетинговые кампании, относящиеся к этому региону."
   ]
  },
  {
   "cell_type": "code",
   "execution_count": 10,
   "metadata": {},
   "outputs": [
    {
     "data": {
      "text/html": [
       "<div>\n",
       "<style scoped>\n",
       "    .dataframe tbody tr th:only-of-type {\n",
       "        vertical-align: middle;\n",
       "    }\n",
       "\n",
       "    .dataframe tbody tr th {\n",
       "        vertical-align: top;\n",
       "    }\n",
       "\n",
       "    .dataframe thead th {\n",
       "        text-align: right;\n",
       "    }\n",
       "</style>\n",
       "<table border=\"1\" class=\"dataframe\">\n",
       "  <thead>\n",
       "    <tr style=\"text-align: right;\">\n",
       "      <th></th>\n",
       "      <th>name</th>\n",
       "      <th>regions</th>\n",
       "      <th>start_dt</th>\n",
       "      <th>finish_dt</th>\n",
       "    </tr>\n",
       "  </thead>\n",
       "  <tbody>\n",
       "    <tr>\n",
       "      <th>0</th>\n",
       "      <td>Christmas&amp;New Year Promo</td>\n",
       "      <td>EU, N.America</td>\n",
       "      <td>2020-12-25</td>\n",
       "      <td>2021-01-03</td>\n",
       "    </tr>\n",
       "    <tr>\n",
       "      <th>1</th>\n",
       "      <td>St. Valentine's Day Giveaway</td>\n",
       "      <td>EU, CIS, APAC, N.America</td>\n",
       "      <td>2020-02-14</td>\n",
       "      <td>2020-02-16</td>\n",
       "    </tr>\n",
       "    <tr>\n",
       "      <th>2</th>\n",
       "      <td>St. Patric's Day Promo</td>\n",
       "      <td>EU, N.America</td>\n",
       "      <td>2020-03-17</td>\n",
       "      <td>2020-03-19</td>\n",
       "    </tr>\n",
       "    <tr>\n",
       "      <th>3</th>\n",
       "      <td>Easter Promo</td>\n",
       "      <td>EU, CIS, APAC, N.America</td>\n",
       "      <td>2020-04-12</td>\n",
       "      <td>2020-04-19</td>\n",
       "    </tr>\n",
       "    <tr>\n",
       "      <th>5</th>\n",
       "      <td>Black Friday Ads Campaign</td>\n",
       "      <td>EU, CIS, APAC, N.America</td>\n",
       "      <td>2020-11-26</td>\n",
       "      <td>2020-12-01</td>\n",
       "    </tr>\n",
       "    <tr>\n",
       "      <th>7</th>\n",
       "      <td>Labor day (May 1st) Ads Campaign</td>\n",
       "      <td>EU, CIS, APAC</td>\n",
       "      <td>2020-05-01</td>\n",
       "      <td>2020-05-03</td>\n",
       "    </tr>\n",
       "    <tr>\n",
       "      <th>8</th>\n",
       "      <td>International Women's Day Promo</td>\n",
       "      <td>EU, CIS, APAC</td>\n",
       "      <td>2020-03-08</td>\n",
       "      <td>2020-03-10</td>\n",
       "    </tr>\n",
       "  </tbody>\n",
       "</table>\n",
       "</div>"
      ],
      "text/plain": [
       "                               name                   regions   start_dt  \\\n",
       "0          Christmas&New Year Promo             EU, N.America 2020-12-25   \n",
       "1      St. Valentine's Day Giveaway  EU, CIS, APAC, N.America 2020-02-14   \n",
       "2            St. Patric's Day Promo             EU, N.America 2020-03-17   \n",
       "3                      Easter Promo  EU, CIS, APAC, N.America 2020-04-12   \n",
       "5         Black Friday Ads Campaign  EU, CIS, APAC, N.America 2020-11-26   \n",
       "7  Labor day (May 1st) Ads Campaign             EU, CIS, APAC 2020-05-01   \n",
       "8   International Women's Day Promo             EU, CIS, APAC 2020-03-08   \n",
       "\n",
       "   finish_dt  \n",
       "0 2021-01-03  \n",
       "1 2020-02-16  \n",
       "2 2020-03-19  \n",
       "3 2020-04-19  \n",
       "5 2020-12-01  \n",
       "7 2020-05-03  \n",
       "8 2020-03-10  "
      ]
     },
     "execution_count": 10,
     "metadata": {},
     "output_type": "execute_result"
    }
   ],
   "source": [
    "market_events[market_events['regions'].str.contains(\"EU\")]"
   ]
  },
  {
   "cell_type": "markdown",
   "metadata": {},
   "source": [
    "Судя по датам маркетинговых активностей, единственной попадающей в рамки проведения теста кампанией является рождественская и новогодняя кампании для ЕС и Северной Америки. Нам неизвестны подробности этой кампании, однако можно предположить, что в этот период **может наблюдаться резкий рост заказов** пользователей, поскольку новогодние скидки позволяют привлечь в итоге больше денег, чем в непраздничное время.\n",
    "\n",
    "При этом, данные об активности в это время **нельзя исключать**, поскольку тестируется новая система рекомендаций товаров.\n",
    "\n",
    "Более подробно вопрос пересечения времения теста с маркетинговой кампанией будет рассмотрен **в разделе 4.4 настоящего исследования**."
   ]
  },
  {
   "cell_type": "markdown",
   "metadata": {},
   "source": [
    "### Пользователи и группы А/В-теста"
   ]
  },
  {
   "cell_type": "markdown",
   "metadata": {},
   "source": [
    "По ТЗ исследования, рассматриваются пользователи, которые были зарегистрированы в период с 7 по 21 декабря 2020 года. При этом есть информация о группах пользователей, которые были им присвоены. Поэтому для начала объединим таблицу данных по группам пользователей и проверим корректность набора пользователей в группы по регионам и по датам."
   ]
  },
  {
   "cell_type": "code",
   "execution_count": 11,
   "metadata": {},
   "outputs": [
    {
     "data": {
      "text/html": [
       "<div>\n",
       "<style scoped>\n",
       "    .dataframe tbody tr th:only-of-type {\n",
       "        vertical-align: middle;\n",
       "    }\n",
       "\n",
       "    .dataframe tbody tr th {\n",
       "        vertical-align: top;\n",
       "    }\n",
       "\n",
       "    .dataframe thead th {\n",
       "        text-align: right;\n",
       "    }\n",
       "</style>\n",
       "<table border=\"1\" class=\"dataframe\">\n",
       "  <thead>\n",
       "    <tr style=\"text-align: right;\">\n",
       "      <th></th>\n",
       "      <th>user_id</th>\n",
       "      <th>first_date</th>\n",
       "      <th>region</th>\n",
       "      <th>device</th>\n",
       "      <th>group</th>\n",
       "      <th>ab_test</th>\n",
       "    </tr>\n",
       "  </thead>\n",
       "  <tbody>\n",
       "    <tr>\n",
       "      <th>0</th>\n",
       "      <td>D72A72121175D8BE</td>\n",
       "      <td>2020-12-07</td>\n",
       "      <td>EU</td>\n",
       "      <td>PC</td>\n",
       "      <td>A</td>\n",
       "      <td>recommender_system_test</td>\n",
       "    </tr>\n",
       "    <tr>\n",
       "      <th>1</th>\n",
       "      <td>2E1BF1D4C37EA01F</td>\n",
       "      <td>2020-12-07</td>\n",
       "      <td>EU</td>\n",
       "      <td>PC</td>\n",
       "      <td>A</td>\n",
       "      <td>interface_eu_test</td>\n",
       "    </tr>\n",
       "    <tr>\n",
       "      <th>2</th>\n",
       "      <td>50734A22C0C63768</td>\n",
       "      <td>2020-12-07</td>\n",
       "      <td>EU</td>\n",
       "      <td>iPhone</td>\n",
       "      <td>B</td>\n",
       "      <td>interface_eu_test</td>\n",
       "    </tr>\n",
       "    <tr>\n",
       "      <th>3</th>\n",
       "      <td>E6DE857AFBDC6102</td>\n",
       "      <td>2020-12-07</td>\n",
       "      <td>EU</td>\n",
       "      <td>PC</td>\n",
       "      <td>B</td>\n",
       "      <td>recommender_system_test</td>\n",
       "    </tr>\n",
       "    <tr>\n",
       "      <th>4</th>\n",
       "      <td>E6DE857AFBDC6102</td>\n",
       "      <td>2020-12-07</td>\n",
       "      <td>EU</td>\n",
       "      <td>PC</td>\n",
       "      <td>B</td>\n",
       "      <td>interface_eu_test</td>\n",
       "    </tr>\n",
       "    <tr>\n",
       "      <th>...</th>\n",
       "      <td>...</td>\n",
       "      <td>...</td>\n",
       "      <td>...</td>\n",
       "      <td>...</td>\n",
       "      <td>...</td>\n",
       "      <td>...</td>\n",
       "    </tr>\n",
       "    <tr>\n",
       "      <th>18263</th>\n",
       "      <td>27007FC1A9B62FC5</td>\n",
       "      <td>2020-12-20</td>\n",
       "      <td>EU</td>\n",
       "      <td>iPhone</td>\n",
       "      <td>B</td>\n",
       "      <td>interface_eu_test</td>\n",
       "    </tr>\n",
       "    <tr>\n",
       "      <th>18264</th>\n",
       "      <td>89CB0BFBC3F35126</td>\n",
       "      <td>2020-12-20</td>\n",
       "      <td>EU</td>\n",
       "      <td>PC</td>\n",
       "      <td>B</td>\n",
       "      <td>recommender_system_test</td>\n",
       "    </tr>\n",
       "    <tr>\n",
       "      <th>18265</th>\n",
       "      <td>75F25D4DADA37ABB</td>\n",
       "      <td>2020-12-20</td>\n",
       "      <td>EU</td>\n",
       "      <td>Android</td>\n",
       "      <td>B</td>\n",
       "      <td>interface_eu_test</td>\n",
       "    </tr>\n",
       "    <tr>\n",
       "      <th>18266</th>\n",
       "      <td>2C29721DDDA76B2A</td>\n",
       "      <td>2020-12-20</td>\n",
       "      <td>EU</td>\n",
       "      <td>iPhone</td>\n",
       "      <td>B</td>\n",
       "      <td>interface_eu_test</td>\n",
       "    </tr>\n",
       "    <tr>\n",
       "      <th>18267</th>\n",
       "      <td>1C7D23927835213F</td>\n",
       "      <td>2020-12-20</td>\n",
       "      <td>EU</td>\n",
       "      <td>iPhone</td>\n",
       "      <td>B</td>\n",
       "      <td>interface_eu_test</td>\n",
       "    </tr>\n",
       "  </tbody>\n",
       "</table>\n",
       "<p>18268 rows × 6 columns</p>\n",
       "</div>"
      ],
      "text/plain": [
       "                user_id first_date region   device group  \\\n",
       "0      D72A72121175D8BE 2020-12-07     EU       PC     A   \n",
       "1      2E1BF1D4C37EA01F 2020-12-07     EU       PC     A   \n",
       "2      50734A22C0C63768 2020-12-07     EU   iPhone     B   \n",
       "3      E6DE857AFBDC6102 2020-12-07     EU       PC     B   \n",
       "4      E6DE857AFBDC6102 2020-12-07     EU       PC     B   \n",
       "...                 ...        ...    ...      ...   ...   \n",
       "18263  27007FC1A9B62FC5 2020-12-20     EU   iPhone     B   \n",
       "18264  89CB0BFBC3F35126 2020-12-20     EU       PC     B   \n",
       "18265  75F25D4DADA37ABB 2020-12-20     EU  Android     B   \n",
       "18266  2C29721DDDA76B2A 2020-12-20     EU   iPhone     B   \n",
       "18267  1C7D23927835213F 2020-12-20     EU   iPhone     B   \n",
       "\n",
       "                       ab_test  \n",
       "0      recommender_system_test  \n",
       "1            interface_eu_test  \n",
       "2            interface_eu_test  \n",
       "3      recommender_system_test  \n",
       "4            interface_eu_test  \n",
       "...                        ...  \n",
       "18263        interface_eu_test  \n",
       "18264  recommender_system_test  \n",
       "18265        interface_eu_test  \n",
       "18266        interface_eu_test  \n",
       "18267        interface_eu_test  \n",
       "\n",
       "[18268 rows x 6 columns]"
      ]
     },
     "execution_count": 11,
     "metadata": {},
     "output_type": "execute_result"
    }
   ],
   "source": [
    "users_groups = users.merge(groups,on='user_id',how='inner')\n",
    "users_groups"
   ]
  },
  {
   "cell_type": "code",
   "execution_count": 12,
   "metadata": {},
   "outputs": [
    {
     "name": "stdout",
     "output_type": "stream",
     "text": [
      "<class 'pandas.core.frame.DataFrame'>\n",
      "Int64Index: 18268 entries, 0 to 18267\n",
      "Data columns (total 6 columns):\n",
      " #   Column      Non-Null Count  Dtype         \n",
      "---  ------      --------------  -----         \n",
      " 0   user_id     18268 non-null  object        \n",
      " 1   first_date  18268 non-null  datetime64[ns]\n",
      " 2   region      18268 non-null  object        \n",
      " 3   device      18268 non-null  object        \n",
      " 4   group       18268 non-null  object        \n",
      " 5   ab_test     18268 non-null  object        \n",
      "dtypes: datetime64[ns](1), object(5)\n",
      "memory usage: 999.0+ KB\n"
     ]
    }
   ],
   "source": [
    "users_groups.info()"
   ]
  },
  {
   "cell_type": "markdown",
   "metadata": {},
   "source": [
    "Построим сводную таблицу совмещенного датасета для того, чтобы понять, пользователи каких регионов попали в группы, какие даты набора их в группы, и сколько всего отобрано пользователей."
   ]
  },
  {
   "cell_type": "code",
   "execution_count": 13,
   "metadata": {},
   "outputs": [
    {
     "data": {
      "text/html": [
       "<div>\n",
       "<style scoped>\n",
       "    .dataframe tbody tr th:only-of-type {\n",
       "        vertical-align: middle;\n",
       "    }\n",
       "\n",
       "    .dataframe tbody tr th {\n",
       "        vertical-align: top;\n",
       "    }\n",
       "\n",
       "    .dataframe thead tr th {\n",
       "        text-align: left;\n",
       "    }\n",
       "</style>\n",
       "<table border=\"1\" class=\"dataframe\">\n",
       "  <thead>\n",
       "    <tr>\n",
       "      <th></th>\n",
       "      <th>ab_test</th>\n",
       "      <th>region</th>\n",
       "      <th>group</th>\n",
       "      <th colspan=\"2\" halign=\"left\">first_date</th>\n",
       "      <th>user_id</th>\n",
       "    </tr>\n",
       "    <tr>\n",
       "      <th></th>\n",
       "      <th></th>\n",
       "      <th></th>\n",
       "      <th></th>\n",
       "      <th>max</th>\n",
       "      <th>min</th>\n",
       "      <th>nunique</th>\n",
       "    </tr>\n",
       "  </thead>\n",
       "  <tbody>\n",
       "    <tr>\n",
       "      <th>0</th>\n",
       "      <td>interface_eu_test</td>\n",
       "      <td>EU</td>\n",
       "      <td>A</td>\n",
       "      <td>2020-12-23</td>\n",
       "      <td>2020-12-07</td>\n",
       "      <td>5831</td>\n",
       "    </tr>\n",
       "    <tr>\n",
       "      <th>1</th>\n",
       "      <td>interface_eu_test</td>\n",
       "      <td>EU</td>\n",
       "      <td>B</td>\n",
       "      <td>2020-12-23</td>\n",
       "      <td>2020-12-07</td>\n",
       "      <td>5736</td>\n",
       "    </tr>\n",
       "    <tr>\n",
       "      <th>2</th>\n",
       "      <td>recommender_system_test</td>\n",
       "      <td>APAC</td>\n",
       "      <td>A</td>\n",
       "      <td>2020-12-21</td>\n",
       "      <td>2020-12-07</td>\n",
       "      <td>37</td>\n",
       "    </tr>\n",
       "    <tr>\n",
       "      <th>3</th>\n",
       "      <td>recommender_system_test</td>\n",
       "      <td>APAC</td>\n",
       "      <td>B</td>\n",
       "      <td>2020-12-21</td>\n",
       "      <td>2020-12-07</td>\n",
       "      <td>35</td>\n",
       "    </tr>\n",
       "    <tr>\n",
       "      <th>4</th>\n",
       "      <td>recommender_system_test</td>\n",
       "      <td>CIS</td>\n",
       "      <td>A</td>\n",
       "      <td>2020-12-21</td>\n",
       "      <td>2020-12-07</td>\n",
       "      <td>25</td>\n",
       "    </tr>\n",
       "    <tr>\n",
       "      <th>5</th>\n",
       "      <td>recommender_system_test</td>\n",
       "      <td>CIS</td>\n",
       "      <td>B</td>\n",
       "      <td>2020-12-21</td>\n",
       "      <td>2020-12-07</td>\n",
       "      <td>30</td>\n",
       "    </tr>\n",
       "    <tr>\n",
       "      <th>6</th>\n",
       "      <td>recommender_system_test</td>\n",
       "      <td>EU</td>\n",
       "      <td>A</td>\n",
       "      <td>2020-12-21</td>\n",
       "      <td>2020-12-07</td>\n",
       "      <td>3634</td>\n",
       "    </tr>\n",
       "    <tr>\n",
       "      <th>7</th>\n",
       "      <td>recommender_system_test</td>\n",
       "      <td>EU</td>\n",
       "      <td>B</td>\n",
       "      <td>2020-12-21</td>\n",
       "      <td>2020-12-07</td>\n",
       "      <td>2717</td>\n",
       "    </tr>\n",
       "    <tr>\n",
       "      <th>8</th>\n",
       "      <td>recommender_system_test</td>\n",
       "      <td>N.America</td>\n",
       "      <td>A</td>\n",
       "      <td>2020-12-21</td>\n",
       "      <td>2020-12-07</td>\n",
       "      <td>128</td>\n",
       "    </tr>\n",
       "    <tr>\n",
       "      <th>9</th>\n",
       "      <td>recommender_system_test</td>\n",
       "      <td>N.America</td>\n",
       "      <td>B</td>\n",
       "      <td>2020-12-21</td>\n",
       "      <td>2020-12-07</td>\n",
       "      <td>95</td>\n",
       "    </tr>\n",
       "  </tbody>\n",
       "</table>\n",
       "</div>"
      ],
      "text/plain": [
       "                   ab_test     region group first_date            user_id\n",
       "                                                   max        min nunique\n",
       "0        interface_eu_test         EU     A 2020-12-23 2020-12-07    5831\n",
       "1        interface_eu_test         EU     B 2020-12-23 2020-12-07    5736\n",
       "2  recommender_system_test       APAC     A 2020-12-21 2020-12-07      37\n",
       "3  recommender_system_test       APAC     B 2020-12-21 2020-12-07      35\n",
       "4  recommender_system_test        CIS     A 2020-12-21 2020-12-07      25\n",
       "5  recommender_system_test        CIS     B 2020-12-21 2020-12-07      30\n",
       "6  recommender_system_test         EU     A 2020-12-21 2020-12-07    3634\n",
       "7  recommender_system_test         EU     B 2020-12-21 2020-12-07    2717\n",
       "8  recommender_system_test  N.America     A 2020-12-21 2020-12-07     128\n",
       "9  recommender_system_test  N.America     B 2020-12-21 2020-12-07      95"
      ]
     },
     "execution_count": 13,
     "metadata": {},
     "output_type": "execute_result"
    }
   ],
   "source": [
    "users_groups.pivot_table(index=['ab_test','region','group'],\n",
    "                         values=['user_id','first_date'],\n",
    "                         aggfunc={'user_id':'nunique','first_date':['min','max']}).reset_index()"
   ]
  },
  {
   "cell_type": "markdown",
   "metadata": {},
   "source": [
    "Сводная таблица показывает, что в целевой тест попали пользователи не только из ЕС, но и в том числе из США, АТР, СНГ. \n",
    "\n",
    "Одновременно с этим, даты регистрации пользователей выбраны корректно для целевого теста, с 07 декабря по 21 декабря 2020 года. Даты регистрации пользователей конкурирующего теста пересекаются с целевым тестом.\n",
    "\n",
    "Поскольку в тест рекомендательной системы для ЕС попали пользователи из других регионов, уже на этом этапе возникает сомнение в корректности отбора данных к проведенному тесту."
   ]
  },
  {
   "cell_type": "markdown",
   "metadata": {},
   "source": [
    "Для дополнительной проверки набора пользователей из целевого региона, необходимо установить общее количество пользователей по регионам и подсчитать необходимую величину выборки."
   ]
  },
  {
   "cell_type": "code",
   "execution_count": 14,
   "metadata": {},
   "outputs": [
    {
     "data": {
      "text/plain": [
       "EU           46270\n",
       "N.America     9155\n",
       "CIS           3155\n",
       "APAC          3153\n",
       "Name: region, dtype: int64"
      ]
     },
     "execution_count": 14,
     "metadata": {},
     "output_type": "execute_result"
    }
   ],
   "source": [
    "users['region'].value_counts()"
   ]
  },
  {
   "cell_type": "markdown",
   "metadata": {},
   "source": [
    "В выборке пользователи из Северной Америки, СНГ и Азиатско-Тихоокеанского региона. Оставим только пользователей из ЕС. "
   ]
  },
  {
   "cell_type": "code",
   "execution_count": 15,
   "metadata": {},
   "outputs": [
    {
     "name": "stdout",
     "output_type": "stream",
     "text": [
      "<class 'pandas.core.frame.DataFrame'>\n",
      "Int64Index: 46270 entries, 0 to 61732\n",
      "Data columns (total 4 columns):\n",
      " #   Column      Non-Null Count  Dtype         \n",
      "---  ------      --------------  -----         \n",
      " 0   user_id     46270 non-null  object        \n",
      " 1   first_date  46270 non-null  datetime64[ns]\n",
      " 2   region      46270 non-null  object        \n",
      " 3   device      46270 non-null  object        \n",
      "dtypes: datetime64[ns](1), object(3)\n",
      "memory usage: 1.8+ MB\n"
     ]
    }
   ],
   "source": [
    "users=users.query('region==\"EU\"')\n",
    "users.info()"
   ]
  },
  {
   "cell_type": "markdown",
   "metadata": {},
   "source": [
    "**Всего** у сервиса **46270** пользователей **из ЕС**.\n",
    "\n",
    "Согласно ТЗ исследования, в тесте должно участвовать **15% новых пользователей региона**, зарегистрированных в целевом периоде, поэтому выведем целевое количество пользователей для использования в дальнейшем."
   ]
  },
  {
   "cell_type": "code",
   "execution_count": 16,
   "metadata": {
    "scrolled": false
   },
   "outputs": [
    {
     "name": "stdout",
     "output_type": "stream",
     "text": [
      "Целевое количество пользователей региона EU для АВ-теста 6351.0\n"
     ]
    }
   ],
   "source": [
    "print('Целевое количество пользователей региона EU для АВ-теста', users.query('first_date <= \"2020-12-21\"')['user_id'].count() * 0.15)"
   ]
  },
  {
   "cell_type": "markdown",
   "metadata": {},
   "source": [
    "Как было обнаружено ранее, в целевой тест были отобраны пользователи в том числе из других регионов, поэтому для оценки результатов теста нужно исключить пользователей, которые не принадлежат к целевому региону.\n",
    "\n",
    "Дополнительно, были обнаружены пользователи, которые принадлежат к другому конкурирующему тесту. Поэтому сначала подсчитаем дополнительно число таких пересечений.\n",
    "\n",
    "Также будет необходимо исключить пользователей, которые попали одновременно в оба теста, поскольку в этом случае для них данные могут оказаться искаженными и повлиять на результаты целевого теста."
   ]
  },
  {
   "cell_type": "code",
   "execution_count": 17,
   "metadata": {},
   "outputs": [
    {
     "data": {
      "text/plain": [
       "interface_eu_test          11567\n",
       "recommender_system_test     6701\n",
       "Name: ab_test, dtype: int64"
      ]
     },
     "execution_count": 17,
     "metadata": {},
     "output_type": "execute_result"
    }
   ],
   "source": [
    "groups['ab_test'].value_counts()"
   ]
  },
  {
   "cell_type": "markdown",
   "metadata": {},
   "source": [
    "Конкурирующий тест для ЕС - тест неких изменений интерфейса. Поскольку изменения в интерфейсе могут оказывать влияние на покупательское поведение пользователей, эти тесты частично могут пересекаться и искажать данные друг друга. Поэтому необходимо определить пользователей (если такие есть), которые одновременно попали в оба теста."
   ]
  },
  {
   "cell_type": "code",
   "execution_count": 18,
   "metadata": {},
   "outputs": [
    {
     "data": {
      "text/html": [
       "<div>\n",
       "<style scoped>\n",
       "    .dataframe tbody tr th:only-of-type {\n",
       "        vertical-align: middle;\n",
       "    }\n",
       "\n",
       "    .dataframe tbody tr th {\n",
       "        vertical-align: top;\n",
       "    }\n",
       "\n",
       "    .dataframe thead th {\n",
       "        text-align: right;\n",
       "    }\n",
       "</style>\n",
       "<table border=\"1\" class=\"dataframe\">\n",
       "  <thead>\n",
       "    <tr style=\"text-align: right;\">\n",
       "      <th></th>\n",
       "      <th>user_id</th>\n",
       "      <th>ab_test</th>\n",
       "    </tr>\n",
       "  </thead>\n",
       "  <tbody>\n",
       "    <tr>\n",
       "      <th>2</th>\n",
       "      <td>001064FEAAB631A1</td>\n",
       "      <td>2</td>\n",
       "    </tr>\n",
       "    <tr>\n",
       "      <th>10</th>\n",
       "      <td>00341D8401F0F665</td>\n",
       "      <td>2</td>\n",
       "    </tr>\n",
       "    <tr>\n",
       "      <th>12</th>\n",
       "      <td>003B6786B4FF5B03</td>\n",
       "      <td>2</td>\n",
       "    </tr>\n",
       "    <tr>\n",
       "      <th>29</th>\n",
       "      <td>0082295A41A867B5</td>\n",
       "      <td>2</td>\n",
       "    </tr>\n",
       "    <tr>\n",
       "      <th>46</th>\n",
       "      <td>00E68F103C66C1F7</td>\n",
       "      <td>2</td>\n",
       "    </tr>\n",
       "    <tr>\n",
       "      <th>...</th>\n",
       "      <td>...</td>\n",
       "      <td>...</td>\n",
       "    </tr>\n",
       "    <tr>\n",
       "      <th>16638</th>\n",
       "      <td>FF7BE2897FC0380D</td>\n",
       "      <td>2</td>\n",
       "    </tr>\n",
       "    <tr>\n",
       "      <th>16644</th>\n",
       "      <td>FF9A81323FA67D6E</td>\n",
       "      <td>2</td>\n",
       "    </tr>\n",
       "    <tr>\n",
       "      <th>16652</th>\n",
       "      <td>FFC53FD45DDA5EE8</td>\n",
       "      <td>2</td>\n",
       "    </tr>\n",
       "    <tr>\n",
       "      <th>16662</th>\n",
       "      <td>FFED90241D04503F</td>\n",
       "      <td>2</td>\n",
       "    </tr>\n",
       "    <tr>\n",
       "      <th>16664</th>\n",
       "      <td>FFF28D02B1EACBE1</td>\n",
       "      <td>2</td>\n",
       "    </tr>\n",
       "  </tbody>\n",
       "</table>\n",
       "<p>1602 rows × 2 columns</p>\n",
       "</div>"
      ],
      "text/plain": [
       "                user_id  ab_test\n",
       "2      001064FEAAB631A1        2\n",
       "10     00341D8401F0F665        2\n",
       "12     003B6786B4FF5B03        2\n",
       "29     0082295A41A867B5        2\n",
       "46     00E68F103C66C1F7        2\n",
       "...                 ...      ...\n",
       "16638  FF7BE2897FC0380D        2\n",
       "16644  FF9A81323FA67D6E        2\n",
       "16652  FFC53FD45DDA5EE8        2\n",
       "16662  FFED90241D04503F        2\n",
       "16664  FFF28D02B1EACBE1        2\n",
       "\n",
       "[1602 rows x 2 columns]"
      ]
     },
     "execution_count": 18,
     "metadata": {},
     "output_type": "execute_result"
    }
   ],
   "source": [
    "doubles=groups.groupby('user_id').agg({'ab_test': 'nunique'}).reset_index()\n",
    "selection = doubles.query('ab_test == 2')\n",
    "selection"
   ]
  },
  {
   "cell_type": "markdown",
   "metadata": {},
   "source": [
    "Всего пользователей, попавших в обе группы, 1602.\n",
    "В этой связи, попробуем удалить тех пользователей, которые попали в таблицу двойников, и оценим результат."
   ]
  },
  {
   "cell_type": "code",
   "execution_count": 19,
   "metadata": {},
   "outputs": [
    {
     "data": {
      "text/plain": [
       "interface_eu_test          9965\n",
       "recommender_system_test    5099\n",
       "Name: ab_test, dtype: int64"
      ]
     },
     "execution_count": 19,
     "metadata": {},
     "output_type": "execute_result"
    }
   ],
   "source": [
    "groups_clr = groups[~groups['user_id'].isin(selection['user_id'])]\n",
    "groups_clr['ab_test'].value_counts()"
   ]
  },
  {
   "cell_type": "markdown",
   "metadata": {},
   "source": [
    "В группе пользователей, попавших в тест новой системы рекомендаций, оказалось всего 5099 пользователей, что ниже целевого значения количества пользователей для теста (6351), поэтому для корректности теста является нецелесообразным исключать пользователей, попавших сразу в два теста одновременно. Однако, этот факт необходимо учитывать в дальнейшем при изучении результата теста, поскольку такие пользователи могут исказить итоги."
   ]
  },
  {
   "cell_type": "code",
   "execution_count": 20,
   "metadata": {},
   "outputs": [
    {
     "name": "stdout",
     "output_type": "stream",
     "text": [
      "<class 'pandas.core.frame.DataFrame'>\n",
      "Int64Index: 6701 entries, 0 to 6700\n",
      "Data columns (total 2 columns):\n",
      " #   Column   Non-Null Count  Dtype \n",
      "---  ------   --------------  ----- \n",
      " 0   user_id  6701 non-null   object\n",
      " 1   group    6701 non-null   object\n",
      "dtypes: object(2)\n",
      "memory usage: 157.1+ KB\n"
     ]
    }
   ],
   "source": [
    "groups=groups.query('ab_test == \"recommender_system_test\"')\n",
    "groups=groups.drop(columns='ab_test')\n",
    "groups.info()"
   ]
  },
  {
   "cell_type": "markdown",
   "metadata": {},
   "source": [
    "В датасете с группами пользователей осталось 6701 человек, что несколько больше, чем необходимо для теста. Поэтому, продолжаем работу с получившимся набором данных.\n",
    "\n",
    "Рассмотрим, есть ли дубликаты в датасете среди пользователей."
   ]
  },
  {
   "cell_type": "code",
   "execution_count": 21,
   "metadata": {},
   "outputs": [
    {
     "data": {
      "text/html": [
       "<div>\n",
       "<style scoped>\n",
       "    .dataframe tbody tr th:only-of-type {\n",
       "        vertical-align: middle;\n",
       "    }\n",
       "\n",
       "    .dataframe tbody tr th {\n",
       "        vertical-align: top;\n",
       "    }\n",
       "\n",
       "    .dataframe thead th {\n",
       "        text-align: right;\n",
       "    }\n",
       "</style>\n",
       "<table border=\"1\" class=\"dataframe\">\n",
       "  <thead>\n",
       "    <tr style=\"text-align: right;\">\n",
       "      <th></th>\n",
       "      <th>user_id</th>\n",
       "      <th>group</th>\n",
       "    </tr>\n",
       "  </thead>\n",
       "  <tbody>\n",
       "  </tbody>\n",
       "</table>\n",
       "</div>"
      ],
      "text/plain": [
       "Empty DataFrame\n",
       "Columns: [user_id, group]\n",
       "Index: []"
      ]
     },
     "execution_count": 21,
     "metadata": {},
     "output_type": "execute_result"
    }
   ],
   "source": [
    "duplicates = groups[groups.duplicated()]\n",
    "duplicates"
   ]
  },
  {
   "cell_type": "markdown",
   "metadata": {},
   "source": [
    "Дублированных пользователей нет, поэтому рассмотрим число пользователей в каждой из групп АВ-теста."
   ]
  },
  {
   "cell_type": "code",
   "execution_count": 22,
   "metadata": {},
   "outputs": [
    {
     "data": {
      "text/plain": [
       "A    3824\n",
       "B    2877\n",
       "Name: group, dtype: int64"
      ]
     },
     "execution_count": 22,
     "metadata": {},
     "output_type": "execute_result"
    }
   ],
   "source": [
    "groups['group'].value_counts()"
   ]
  },
  {
   "cell_type": "markdown",
   "metadata": {},
   "source": [
    "Проверим, не попали ли пользователи одновременно в группы А и В."
   ]
  },
  {
   "cell_type": "code",
   "execution_count": 23,
   "metadata": {},
   "outputs": [
    {
     "data": {
      "text/html": [
       "<div>\n",
       "<style scoped>\n",
       "    .dataframe tbody tr th:only-of-type {\n",
       "        vertical-align: middle;\n",
       "    }\n",
       "\n",
       "    .dataframe tbody tr th {\n",
       "        vertical-align: top;\n",
       "    }\n",
       "\n",
       "    .dataframe thead th {\n",
       "        text-align: right;\n",
       "    }\n",
       "</style>\n",
       "<table border=\"1\" class=\"dataframe\">\n",
       "  <thead>\n",
       "    <tr style=\"text-align: right;\">\n",
       "      <th></th>\n",
       "      <th>user_id</th>\n",
       "      <th>group</th>\n",
       "    </tr>\n",
       "  </thead>\n",
       "  <tbody>\n",
       "  </tbody>\n",
       "</table>\n",
       "</div>"
      ],
      "text/plain": [
       "Empty DataFrame\n",
       "Columns: [user_id, group]\n",
       "Index: []"
      ]
     },
     "execution_count": 23,
     "metadata": {},
     "output_type": "execute_result"
    }
   ],
   "source": [
    "groups[(groups['group'] == 'A')&(groups['group'] == 'B')]"
   ]
  },
  {
   "cell_type": "markdown",
   "metadata": {},
   "source": [
    "Таких пользователей нет, поэтому, с учетом уже сделанных выводов, оставим в объединенном датасете пользователей только из recommender_system_test и региона ЕС."
   ]
  },
  {
   "cell_type": "code",
   "execution_count": 24,
   "metadata": {},
   "outputs": [
    {
     "data": {
      "text/html": [
       "<div>\n",
       "<style scoped>\n",
       "    .dataframe tbody tr th:only-of-type {\n",
       "        vertical-align: middle;\n",
       "    }\n",
       "\n",
       "    .dataframe tbody tr th {\n",
       "        vertical-align: top;\n",
       "    }\n",
       "\n",
       "    .dataframe thead th {\n",
       "        text-align: right;\n",
       "    }\n",
       "</style>\n",
       "<table border=\"1\" class=\"dataframe\">\n",
       "  <thead>\n",
       "    <tr style=\"text-align: right;\">\n",
       "      <th></th>\n",
       "      <th>user_id</th>\n",
       "      <th>first_date</th>\n",
       "      <th>region</th>\n",
       "      <th>device</th>\n",
       "      <th>group</th>\n",
       "      <th>ab_test</th>\n",
       "    </tr>\n",
       "  </thead>\n",
       "  <tbody>\n",
       "    <tr>\n",
       "      <th>0</th>\n",
       "      <td>D72A72121175D8BE</td>\n",
       "      <td>2020-12-07</td>\n",
       "      <td>EU</td>\n",
       "      <td>PC</td>\n",
       "      <td>A</td>\n",
       "      <td>recommender_system_test</td>\n",
       "    </tr>\n",
       "    <tr>\n",
       "      <th>1</th>\n",
       "      <td>2E1BF1D4C37EA01F</td>\n",
       "      <td>2020-12-07</td>\n",
       "      <td>EU</td>\n",
       "      <td>PC</td>\n",
       "      <td>A</td>\n",
       "      <td>interface_eu_test</td>\n",
       "    </tr>\n",
       "    <tr>\n",
       "      <th>2</th>\n",
       "      <td>50734A22C0C63768</td>\n",
       "      <td>2020-12-07</td>\n",
       "      <td>EU</td>\n",
       "      <td>iPhone</td>\n",
       "      <td>B</td>\n",
       "      <td>interface_eu_test</td>\n",
       "    </tr>\n",
       "    <tr>\n",
       "      <th>3</th>\n",
       "      <td>E6DE857AFBDC6102</td>\n",
       "      <td>2020-12-07</td>\n",
       "      <td>EU</td>\n",
       "      <td>PC</td>\n",
       "      <td>B</td>\n",
       "      <td>recommender_system_test</td>\n",
       "    </tr>\n",
       "    <tr>\n",
       "      <th>4</th>\n",
       "      <td>E6DE857AFBDC6102</td>\n",
       "      <td>2020-12-07</td>\n",
       "      <td>EU</td>\n",
       "      <td>PC</td>\n",
       "      <td>B</td>\n",
       "      <td>interface_eu_test</td>\n",
       "    </tr>\n",
       "    <tr>\n",
       "      <th>...</th>\n",
       "      <td>...</td>\n",
       "      <td>...</td>\n",
       "      <td>...</td>\n",
       "      <td>...</td>\n",
       "      <td>...</td>\n",
       "      <td>...</td>\n",
       "    </tr>\n",
       "    <tr>\n",
       "      <th>18263</th>\n",
       "      <td>27007FC1A9B62FC5</td>\n",
       "      <td>2020-12-20</td>\n",
       "      <td>EU</td>\n",
       "      <td>iPhone</td>\n",
       "      <td>B</td>\n",
       "      <td>interface_eu_test</td>\n",
       "    </tr>\n",
       "    <tr>\n",
       "      <th>18264</th>\n",
       "      <td>89CB0BFBC3F35126</td>\n",
       "      <td>2020-12-20</td>\n",
       "      <td>EU</td>\n",
       "      <td>PC</td>\n",
       "      <td>B</td>\n",
       "      <td>recommender_system_test</td>\n",
       "    </tr>\n",
       "    <tr>\n",
       "      <th>18265</th>\n",
       "      <td>75F25D4DADA37ABB</td>\n",
       "      <td>2020-12-20</td>\n",
       "      <td>EU</td>\n",
       "      <td>Android</td>\n",
       "      <td>B</td>\n",
       "      <td>interface_eu_test</td>\n",
       "    </tr>\n",
       "    <tr>\n",
       "      <th>18266</th>\n",
       "      <td>2C29721DDDA76B2A</td>\n",
       "      <td>2020-12-20</td>\n",
       "      <td>EU</td>\n",
       "      <td>iPhone</td>\n",
       "      <td>B</td>\n",
       "      <td>interface_eu_test</td>\n",
       "    </tr>\n",
       "    <tr>\n",
       "      <th>18267</th>\n",
       "      <td>1C7D23927835213F</td>\n",
       "      <td>2020-12-20</td>\n",
       "      <td>EU</td>\n",
       "      <td>iPhone</td>\n",
       "      <td>B</td>\n",
       "      <td>interface_eu_test</td>\n",
       "    </tr>\n",
       "  </tbody>\n",
       "</table>\n",
       "<p>18268 rows × 6 columns</p>\n",
       "</div>"
      ],
      "text/plain": [
       "                user_id first_date region   device group  \\\n",
       "0      D72A72121175D8BE 2020-12-07     EU       PC     A   \n",
       "1      2E1BF1D4C37EA01F 2020-12-07     EU       PC     A   \n",
       "2      50734A22C0C63768 2020-12-07     EU   iPhone     B   \n",
       "3      E6DE857AFBDC6102 2020-12-07     EU       PC     B   \n",
       "4      E6DE857AFBDC6102 2020-12-07     EU       PC     B   \n",
       "...                 ...        ...    ...      ...   ...   \n",
       "18263  27007FC1A9B62FC5 2020-12-20     EU   iPhone     B   \n",
       "18264  89CB0BFBC3F35126 2020-12-20     EU       PC     B   \n",
       "18265  75F25D4DADA37ABB 2020-12-20     EU  Android     B   \n",
       "18266  2C29721DDDA76B2A 2020-12-20     EU   iPhone     B   \n",
       "18267  1C7D23927835213F 2020-12-20     EU   iPhone     B   \n",
       "\n",
       "                       ab_test  \n",
       "0      recommender_system_test  \n",
       "1            interface_eu_test  \n",
       "2            interface_eu_test  \n",
       "3      recommender_system_test  \n",
       "4            interface_eu_test  \n",
       "...                        ...  \n",
       "18263        interface_eu_test  \n",
       "18264  recommender_system_test  \n",
       "18265        interface_eu_test  \n",
       "18266        interface_eu_test  \n",
       "18267        interface_eu_test  \n",
       "\n",
       "[18268 rows x 6 columns]"
      ]
     },
     "execution_count": 24,
     "metadata": {},
     "output_type": "execute_result"
    }
   ],
   "source": [
    "users_groups"
   ]
  },
  {
   "cell_type": "code",
   "execution_count": 25,
   "metadata": {},
   "outputs": [
    {
     "data": {
      "text/html": [
       "<div>\n",
       "<style scoped>\n",
       "    .dataframe tbody tr th:only-of-type {\n",
       "        vertical-align: middle;\n",
       "    }\n",
       "\n",
       "    .dataframe tbody tr th {\n",
       "        vertical-align: top;\n",
       "    }\n",
       "\n",
       "    .dataframe thead tr th {\n",
       "        text-align: left;\n",
       "    }\n",
       "</style>\n",
       "<table border=\"1\" class=\"dataframe\">\n",
       "  <thead>\n",
       "    <tr>\n",
       "      <th></th>\n",
       "      <th>ab_test</th>\n",
       "      <th>region</th>\n",
       "      <th>group</th>\n",
       "      <th colspan=\"2\" halign=\"left\">first_date</th>\n",
       "      <th>user_id</th>\n",
       "    </tr>\n",
       "    <tr>\n",
       "      <th></th>\n",
       "      <th></th>\n",
       "      <th></th>\n",
       "      <th></th>\n",
       "      <th>max</th>\n",
       "      <th>min</th>\n",
       "      <th>nunique</th>\n",
       "    </tr>\n",
       "  </thead>\n",
       "  <tbody>\n",
       "    <tr>\n",
       "      <th>0</th>\n",
       "      <td>recommender_system_test</td>\n",
       "      <td>EU</td>\n",
       "      <td>A</td>\n",
       "      <td>2020-12-21</td>\n",
       "      <td>2020-12-07</td>\n",
       "      <td>3634</td>\n",
       "    </tr>\n",
       "    <tr>\n",
       "      <th>1</th>\n",
       "      <td>recommender_system_test</td>\n",
       "      <td>EU</td>\n",
       "      <td>B</td>\n",
       "      <td>2020-12-21</td>\n",
       "      <td>2020-12-07</td>\n",
       "      <td>2717</td>\n",
       "    </tr>\n",
       "  </tbody>\n",
       "</table>\n",
       "</div>"
      ],
      "text/plain": [
       "                   ab_test region group first_date            user_id\n",
       "                                               max        min nunique\n",
       "0  recommender_system_test     EU     A 2020-12-21 2020-12-07    3634\n",
       "1  recommender_system_test     EU     B 2020-12-21 2020-12-07    2717"
      ]
     },
     "execution_count": 25,
     "metadata": {},
     "output_type": "execute_result"
    }
   ],
   "source": [
    "users_groups=users_groups.query('region == \"EU\" & ab_test == \"recommender_system_test\"')\n",
    "users_groups.pivot_table(index=['ab_test','region','group'],\n",
    "                         values=['user_id','first_date'],\n",
    "                         aggfunc={'user_id':'nunique','first_date':['min','max']}).reset_index()"
   ]
  },
  {
   "cell_type": "markdown",
   "metadata": {},
   "source": [
    "Получили набор данных по всем пользователям, для которых есть информация по группам. В целом, общее количество участников попало в требуемое целевое число (6351), поэтому можно продолжать работу далее."
   ]
  },
  {
   "cell_type": "markdown",
   "metadata": {},
   "source": [
    "### События пользователей"
   ]
  },
  {
   "cell_type": "markdown",
   "metadata": {},
   "source": [
    "Главный датасет исследования содержит информацию о пользовательских событиях. Необходимо проверить соответствие данных в нем техническому заданию, а именно дату последнего зарегистрированного события для пользователя - 2021-01-04."
   ]
  },
  {
   "cell_type": "code",
   "execution_count": 26,
   "metadata": {},
   "outputs": [
    {
     "name": "stdout",
     "output_type": "stream",
     "text": [
      "<class 'pandas.core.frame.DataFrame'>\n",
      "RangeIndex: 440317 entries, 0 to 440316\n",
      "Data columns (total 4 columns):\n",
      " #   Column      Non-Null Count   Dtype         \n",
      "---  ------      --------------   -----         \n",
      " 0   user_id     440317 non-null  object        \n",
      " 1   event_dt    440317 non-null  datetime64[ns]\n",
      " 2   event_name  440317 non-null  object        \n",
      " 3   details     62740 non-null   float64       \n",
      "dtypes: datetime64[ns](1), float64(1), object(2)\n",
      "memory usage: 13.4+ MB\n"
     ]
    }
   ],
   "source": [
    "events.info()"
   ]
  },
  {
   "cell_type": "code",
   "execution_count": 27,
   "metadata": {},
   "outputs": [
    {
     "name": "stdout",
     "output_type": "stream",
     "text": [
      "Дата последнего события 2020-12-30 00:00:00\n"
     ]
    }
   ],
   "source": [
    "print('Дата последнего события',events['event_dt'].max())"
   ]
  },
  {
   "cell_type": "markdown",
   "metadata": {},
   "source": [
    "Последнее событие в сервисе зарегистрировано в 23:36, 30 декабря 2020 года. Таким образом, получается, что за период с 23:36 30 декабря 2020 года по 23:59 04 января 2021 года в сервисе не было пользовательской активности вообще."
   ]
  },
  {
   "cell_type": "code",
   "execution_count": 28,
   "metadata": {},
   "outputs": [
    {
     "data": {
      "text/html": [
       "<div>\n",
       "<style scoped>\n",
       "    .dataframe tbody tr th:only-of-type {\n",
       "        vertical-align: middle;\n",
       "    }\n",
       "\n",
       "    .dataframe tbody tr th {\n",
       "        vertical-align: top;\n",
       "    }\n",
       "\n",
       "    .dataframe thead th {\n",
       "        text-align: right;\n",
       "    }\n",
       "</style>\n",
       "<table border=\"1\" class=\"dataframe\">\n",
       "  <thead>\n",
       "    <tr style=\"text-align: right;\">\n",
       "      <th></th>\n",
       "      <th>user_id</th>\n",
       "      <th>event_dt</th>\n",
       "      <th>event_name</th>\n",
       "      <th>details</th>\n",
       "    </tr>\n",
       "  </thead>\n",
       "  <tbody>\n",
       "    <tr>\n",
       "      <th>0</th>\n",
       "      <td>E1BDDCE0DAFA2679</td>\n",
       "      <td>2020-12-07</td>\n",
       "      <td>purchase</td>\n",
       "      <td>99.99</td>\n",
       "    </tr>\n",
       "    <tr>\n",
       "      <th>1</th>\n",
       "      <td>7B6452F081F49504</td>\n",
       "      <td>2020-12-07</td>\n",
       "      <td>purchase</td>\n",
       "      <td>9.99</td>\n",
       "    </tr>\n",
       "    <tr>\n",
       "      <th>2</th>\n",
       "      <td>9CD9F34546DF254C</td>\n",
       "      <td>2020-12-07</td>\n",
       "      <td>purchase</td>\n",
       "      <td>4.99</td>\n",
       "    </tr>\n",
       "    <tr>\n",
       "      <th>3</th>\n",
       "      <td>96F27A054B191457</td>\n",
       "      <td>2020-12-07</td>\n",
       "      <td>purchase</td>\n",
       "      <td>4.99</td>\n",
       "    </tr>\n",
       "    <tr>\n",
       "      <th>4</th>\n",
       "      <td>1FD7660FDF94CA1F</td>\n",
       "      <td>2020-12-07</td>\n",
       "      <td>purchase</td>\n",
       "      <td>4.99</td>\n",
       "    </tr>\n",
       "    <tr>\n",
       "      <th>...</th>\n",
       "      <td>...</td>\n",
       "      <td>...</td>\n",
       "      <td>...</td>\n",
       "      <td>...</td>\n",
       "    </tr>\n",
       "    <tr>\n",
       "      <th>440312</th>\n",
       "      <td>245E85F65C358E08</td>\n",
       "      <td>2020-12-30</td>\n",
       "      <td>login</td>\n",
       "      <td>NaN</td>\n",
       "    </tr>\n",
       "    <tr>\n",
       "      <th>440313</th>\n",
       "      <td>9385A108F5A0A7A7</td>\n",
       "      <td>2020-12-30</td>\n",
       "      <td>login</td>\n",
       "      <td>NaN</td>\n",
       "    </tr>\n",
       "    <tr>\n",
       "      <th>440314</th>\n",
       "      <td>DB650B7559AC6EAC</td>\n",
       "      <td>2020-12-30</td>\n",
       "      <td>login</td>\n",
       "      <td>NaN</td>\n",
       "    </tr>\n",
       "    <tr>\n",
       "      <th>440315</th>\n",
       "      <td>F80C9BDDEA02E53C</td>\n",
       "      <td>2020-12-30</td>\n",
       "      <td>login</td>\n",
       "      <td>NaN</td>\n",
       "    </tr>\n",
       "    <tr>\n",
       "      <th>440316</th>\n",
       "      <td>7AEC61159B672CC5</td>\n",
       "      <td>2020-12-30</td>\n",
       "      <td>login</td>\n",
       "      <td>NaN</td>\n",
       "    </tr>\n",
       "  </tbody>\n",
       "</table>\n",
       "<p>440317 rows × 4 columns</p>\n",
       "</div>"
      ],
      "text/plain": [
       "                 user_id   event_dt event_name  details\n",
       "0       E1BDDCE0DAFA2679 2020-12-07   purchase    99.99\n",
       "1       7B6452F081F49504 2020-12-07   purchase     9.99\n",
       "2       9CD9F34546DF254C 2020-12-07   purchase     4.99\n",
       "3       96F27A054B191457 2020-12-07   purchase     4.99\n",
       "4       1FD7660FDF94CA1F 2020-12-07   purchase     4.99\n",
       "...                  ...        ...        ...      ...\n",
       "440312  245E85F65C358E08 2020-12-30      login      NaN\n",
       "440313  9385A108F5A0A7A7 2020-12-30      login      NaN\n",
       "440314  DB650B7559AC6EAC 2020-12-30      login      NaN\n",
       "440315  F80C9BDDEA02E53C 2020-12-30      login      NaN\n",
       "440316  7AEC61159B672CC5 2020-12-30      login      NaN\n",
       "\n",
       "[440317 rows x 4 columns]"
      ]
     },
     "execution_count": 28,
     "metadata": {},
     "output_type": "execute_result"
    }
   ],
   "source": [
    "events"
   ]
  },
  {
   "cell_type": "markdown",
   "metadata": {},
   "source": [
    "Поскольку в данном датасете могут содержаться данные для пользователей, которые не участвуют в тесте, либо пользователи теста могут быть неактивны за период отбора данных, нужно понять, какое количество их было активно."
   ]
  },
  {
   "cell_type": "code",
   "execution_count": 29,
   "metadata": {
    "scrolled": true
   },
   "outputs": [],
   "source": [
    "usr = users_groups['user_id']"
   ]
  },
  {
   "cell_type": "code",
   "execution_count": 30,
   "metadata": {
    "scrolled": false
   },
   "outputs": [
    {
     "data": {
      "text/plain": [
       "3481"
      ]
     },
     "execution_count": 30,
     "metadata": {},
     "output_type": "execute_result"
    }
   ],
   "source": [
    "active = events.query('user_id in @usr')['user_id']\n",
    "active.nunique()"
   ]
  },
  {
   "cell_type": "markdown",
   "metadata": {},
   "source": [
    "Всего из начального количества 6351 отобранных пользователей, активность наблюдалась всего у 3481 человека, остальные же по той или иной причине ограничились только регистрацией. Дополнительно изучим соотношение активных и неактивных пользователей."
   ]
  },
  {
   "cell_type": "code",
   "execution_count": 31,
   "metadata": {
    "scrolled": true
   },
   "outputs": [
    {
     "name": "stderr",
     "output_type": "stream",
     "text": [
      "C:\\Users\\Admin\\AppData\\Local\\Temp\\ipykernel_14652\\3213211541.py:8: SettingWithCopyWarning: \n",
      "A value is trying to be set on a copy of a slice from a DataFrame.\n",
      "Try using .loc[row_indexer,col_indexer] = value instead\n",
      "\n",
      "See the caveats in the documentation: https://pandas.pydata.org/pandas-docs/stable/user_guide/indexing.html#returning-a-view-versus-a-copy\n",
      "  users_groups['is_active'] = users_groups.apply(cat_act, axis=1)\n"
     ]
    }
   ],
   "source": [
    "def cat_act(row):\n",
    "    user = row['user_id']\n",
    "    if user in active.unique():\n",
    "        return 'active'\n",
    "    else:\n",
    "        return 'inactive'\n",
    "\n",
    "users_groups['is_active'] = users_groups.apply(cat_act, axis=1)"
   ]
  },
  {
   "cell_type": "code",
   "execution_count": 32,
   "metadata": {},
   "outputs": [
    {
     "data": {
      "text/html": [
       "<div>\n",
       "<style scoped>\n",
       "    .dataframe tbody tr th:only-of-type {\n",
       "        vertical-align: middle;\n",
       "    }\n",
       "\n",
       "    .dataframe tbody tr th {\n",
       "        vertical-align: top;\n",
       "    }\n",
       "\n",
       "    .dataframe thead th {\n",
       "        text-align: right;\n",
       "    }\n",
       "</style>\n",
       "<table border=\"1\" class=\"dataframe\">\n",
       "  <thead>\n",
       "    <tr style=\"text-align: right;\">\n",
       "      <th></th>\n",
       "      <th>is_active</th>\n",
       "      <th>group</th>\n",
       "      <th>user_id</th>\n",
       "    </tr>\n",
       "  </thead>\n",
       "  <tbody>\n",
       "    <tr>\n",
       "      <th>0</th>\n",
       "      <td>active</td>\n",
       "      <td>A</td>\n",
       "      <td>2604</td>\n",
       "    </tr>\n",
       "    <tr>\n",
       "      <th>1</th>\n",
       "      <td>active</td>\n",
       "      <td>B</td>\n",
       "      <td>877</td>\n",
       "    </tr>\n",
       "    <tr>\n",
       "      <th>2</th>\n",
       "      <td>inactive</td>\n",
       "      <td>A</td>\n",
       "      <td>1030</td>\n",
       "    </tr>\n",
       "    <tr>\n",
       "      <th>3</th>\n",
       "      <td>inactive</td>\n",
       "      <td>B</td>\n",
       "      <td>1840</td>\n",
       "    </tr>\n",
       "  </tbody>\n",
       "</table>\n",
       "</div>"
      ],
      "text/plain": [
       "  is_active group  user_id\n",
       "0    active     A     2604\n",
       "1    active     B      877\n",
       "2  inactive     A     1030\n",
       "3  inactive     B     1840"
      ]
     },
     "execution_count": 32,
     "metadata": {},
     "output_type": "execute_result"
    }
   ],
   "source": [
    "piv_1=users_groups.pivot_table(index=['is_active','group'],values='user_id',aggfunc='count').reset_index()\n",
    "piv_1"
   ]
  },
  {
   "cell_type": "code",
   "execution_count": 33,
   "metadata": {},
   "outputs": [
    {
     "data": {
      "image/png": "[encoded data removed]"
     },
     "metadata": {},
     "output_type": "display_data"
    }
   ],
   "source": [
    "fig = px.sunburst(piv_1, path=['is_active','group'], values='user_id', color_discrete_sequence=px.colors.qualitative.Vivid)\n",
    "\n",
    "fig.update_layout(title='Число активных пользователей по группам А/В-теста',\n",
    "                  width=700,\n",
    "                  height=700)\n",
    "fig.update_traces(textinfo='label+percent parent+value', insidetextorientation='horizontal')\n",
    "fig.show(\"png\")"
   ]
  },
  {
   "cell_type": "markdown",
   "metadata": {},
   "source": [
    "Дополнительно рассмотрим динамику набора пользователей в группы среди активных и среди неактивных пользователей."
   ]
  },
  {
   "cell_type": "code",
   "execution_count": 34,
   "metadata": {},
   "outputs": [
    {
     "data": {
      "text/html": [
       "<div>\n",
       "<style scoped>\n",
       "    .dataframe tbody tr th:only-of-type {\n",
       "        vertical-align: middle;\n",
       "    }\n",
       "\n",
       "    .dataframe tbody tr th {\n",
       "        vertical-align: top;\n",
       "    }\n",
       "\n",
       "    .dataframe thead th {\n",
       "        text-align: right;\n",
       "    }\n",
       "</style>\n",
       "<table border=\"1\" class=\"dataframe\">\n",
       "  <thead>\n",
       "    <tr style=\"text-align: right;\">\n",
       "      <th></th>\n",
       "      <th>user_id</th>\n",
       "      <th>first_date</th>\n",
       "      <th>region</th>\n",
       "      <th>device</th>\n",
       "      <th>group</th>\n",
       "      <th>ab_test</th>\n",
       "      <th>is_active</th>\n",
       "    </tr>\n",
       "  </thead>\n",
       "  <tbody>\n",
       "    <tr>\n",
       "      <th>0</th>\n",
       "      <td>D72A72121175D8BE</td>\n",
       "      <td>2020-12-07</td>\n",
       "      <td>EU</td>\n",
       "      <td>PC</td>\n",
       "      <td>A</td>\n",
       "      <td>recommender_system_test</td>\n",
       "      <td>active</td>\n",
       "    </tr>\n",
       "    <tr>\n",
       "      <th>3</th>\n",
       "      <td>E6DE857AFBDC6102</td>\n",
       "      <td>2020-12-07</td>\n",
       "      <td>EU</td>\n",
       "      <td>PC</td>\n",
       "      <td>B</td>\n",
       "      <td>recommender_system_test</td>\n",
       "      <td>inactive</td>\n",
       "    </tr>\n",
       "    <tr>\n",
       "      <th>7</th>\n",
       "      <td>DD4352CDCF8C3D57</td>\n",
       "      <td>2020-12-07</td>\n",
       "      <td>EU</td>\n",
       "      <td>Android</td>\n",
       "      <td>B</td>\n",
       "      <td>recommender_system_test</td>\n",
       "      <td>active</td>\n",
       "    </tr>\n",
       "    <tr>\n",
       "      <th>10</th>\n",
       "      <td>831887FE7F2D6CBA</td>\n",
       "      <td>2020-12-07</td>\n",
       "      <td>EU</td>\n",
       "      <td>Android</td>\n",
       "      <td>A</td>\n",
       "      <td>recommender_system_test</td>\n",
       "      <td>active</td>\n",
       "    </tr>\n",
       "    <tr>\n",
       "      <th>12</th>\n",
       "      <td>4CB179C7F847320B</td>\n",
       "      <td>2020-12-07</td>\n",
       "      <td>EU</td>\n",
       "      <td>iPhone</td>\n",
       "      <td>B</td>\n",
       "      <td>recommender_system_test</td>\n",
       "      <td>active</td>\n",
       "    </tr>\n",
       "    <tr>\n",
       "      <th>...</th>\n",
       "      <td>...</td>\n",
       "      <td>...</td>\n",
       "      <td>...</td>\n",
       "      <td>...</td>\n",
       "      <td>...</td>\n",
       "      <td>...</td>\n",
       "      <td>...</td>\n",
       "    </tr>\n",
       "    <tr>\n",
       "      <th>18255</th>\n",
       "      <td>A09DFE27D4CFF8E8</td>\n",
       "      <td>2020-12-20</td>\n",
       "      <td>EU</td>\n",
       "      <td>Android</td>\n",
       "      <td>B</td>\n",
       "      <td>recommender_system_test</td>\n",
       "      <td>active</td>\n",
       "    </tr>\n",
       "    <tr>\n",
       "      <th>18259</th>\n",
       "      <td>0F7D49FC184EDCDE</td>\n",
       "      <td>2020-12-20</td>\n",
       "      <td>EU</td>\n",
       "      <td>PC</td>\n",
       "      <td>A</td>\n",
       "      <td>recommender_system_test</td>\n",
       "      <td>active</td>\n",
       "    </tr>\n",
       "    <tr>\n",
       "      <th>18261</th>\n",
       "      <td>574ACBC674BC385D</td>\n",
       "      <td>2020-12-20</td>\n",
       "      <td>EU</td>\n",
       "      <td>Mac</td>\n",
       "      <td>A</td>\n",
       "      <td>recommender_system_test</td>\n",
       "      <td>active</td>\n",
       "    </tr>\n",
       "    <tr>\n",
       "      <th>18262</th>\n",
       "      <td>0416B34D35C8C8B8</td>\n",
       "      <td>2020-12-20</td>\n",
       "      <td>EU</td>\n",
       "      <td>Android</td>\n",
       "      <td>A</td>\n",
       "      <td>recommender_system_test</td>\n",
       "      <td>active</td>\n",
       "    </tr>\n",
       "    <tr>\n",
       "      <th>18264</th>\n",
       "      <td>89CB0BFBC3F35126</td>\n",
       "      <td>2020-12-20</td>\n",
       "      <td>EU</td>\n",
       "      <td>PC</td>\n",
       "      <td>B</td>\n",
       "      <td>recommender_system_test</td>\n",
       "      <td>inactive</td>\n",
       "    </tr>\n",
       "  </tbody>\n",
       "</table>\n",
       "<p>6351 rows × 7 columns</p>\n",
       "</div>"
      ],
      "text/plain": [
       "                user_id first_date region   device group  \\\n",
       "0      D72A72121175D8BE 2020-12-07     EU       PC     A   \n",
       "3      E6DE857AFBDC6102 2020-12-07     EU       PC     B   \n",
       "7      DD4352CDCF8C3D57 2020-12-07     EU  Android     B   \n",
       "10     831887FE7F2D6CBA 2020-12-07     EU  Android     A   \n",
       "12     4CB179C7F847320B 2020-12-07     EU   iPhone     B   \n",
       "...                 ...        ...    ...      ...   ...   \n",
       "18255  A09DFE27D4CFF8E8 2020-12-20     EU  Android     B   \n",
       "18259  0F7D49FC184EDCDE 2020-12-20     EU       PC     A   \n",
       "18261  574ACBC674BC385D 2020-12-20     EU      Mac     A   \n",
       "18262  0416B34D35C8C8B8 2020-12-20     EU  Android     A   \n",
       "18264  89CB0BFBC3F35126 2020-12-20     EU       PC     B   \n",
       "\n",
       "                       ab_test is_active  \n",
       "0      recommender_system_test    active  \n",
       "3      recommender_system_test  inactive  \n",
       "7      recommender_system_test    active  \n",
       "10     recommender_system_test    active  \n",
       "12     recommender_system_test    active  \n",
       "...                        ...       ...  \n",
       "18255  recommender_system_test    active  \n",
       "18259  recommender_system_test    active  \n",
       "18261  recommender_system_test    active  \n",
       "18262  recommender_system_test    active  \n",
       "18264  recommender_system_test  inactive  \n",
       "\n",
       "[6351 rows x 7 columns]"
      ]
     },
     "execution_count": 34,
     "metadata": {},
     "output_type": "execute_result"
    }
   ],
   "source": [
    "users_groups"
   ]
  },
  {
   "cell_type": "code",
   "execution_count": 35,
   "metadata": {
    "scrolled": false
   },
   "outputs": [
    {
     "data": {
      "image/png": "[encoded data removed]"
     },
     "metadata": {},
     "output_type": "display_data"
    }
   ],
   "source": [
    "tmp=users_groups.query('is_active==\"inactive\"').pivot_table(index=['first_date','group','is_active'],values='user_id',aggfunc='nunique').reset_index()\n",
    "fig = px.line(tmp, x=\"first_date\", y=\"user_id\",color='group')\n",
    "fig.update_layout(title='Динамика набора неактивных пользователей в группы А/В теста',\n",
    "                   xaxis_title='Дата',\n",
    "                   yaxis_title='Пользователи, чел.',\n",
    "                 legend_title_text='Группа')\n",
    "fig.show(\"png\")"
   ]
  },
  {
   "cell_type": "code",
   "execution_count": 36,
   "metadata": {},
   "outputs": [
    {
     "data": {
      "image/png": "[encoded data removed]"
     },
     "metadata": {},
     "output_type": "display_data"
    }
   ],
   "source": [
    "tmp=users_groups.query('is_active==\"active\"').pivot_table(index=['first_date','group','is_active'],values='user_id',aggfunc='nunique').reset_index()\n",
    "fig = px.line(tmp, x=\"first_date\", y=\"user_id\",color='group')\n",
    "fig.update_layout(title='Динамика набора активных пользователей в группы А/В теста',\n",
    "                   xaxis_title='Дата',\n",
    "                   yaxis_title='Пользователи, чел.',\n",
    "                 legend_title_text='Группа')\n",
    "fig.show(\"png\")"
   ]
  },
  {
   "cell_type": "markdown",
   "metadata": {},
   "source": [
    "Графики динамики набора пользователей в группы показывают, что **активные** пользователи набирались в группы **на протяжении всего заданного периода**, причем **в группу А 14 декабря было** набрано значительно **больше** активных пользователей, чем **в группу В**, и число их имеет тенденцию к увеличению к концу заданного периода.\n",
    "\n",
    "В то же время, график **динамики набора неактивных пользователей** показывает, что они набирались в обе группы примерно одними темпами, но 13 декабря их набор в **группу А прекратился**, а в **группу В** они продолжали набираться все оставшееся время.\n",
    "\n",
    "Скорее всего, именно этой аномалией объясняется такое значительное расхождение между активными пользователями в группах теста.\n",
    "\n",
    "Более того, подобная аномалия может говорить о **серьезной ошибке**, допущенной при **формировании тестовой выборки**, что дополнительно ставит под сомнение эффективность проведения теста с такими данными в таком виде."
   ]
  },
  {
   "cell_type": "markdown",
   "metadata": {},
   "source": [
    "Судя по диаграмме, среди **активных** пользователей всего **25% из тестовой** выборки и **75% из контрольной** выборки. Впоследствии при изучении результатов АВ-теста это может привести к множеству сдвигов в определении итогового результата. Главный принцип АВ-теста - деление выборки на равные доли, и в конечном случае результаты должны получиться приблизительно похожими на реальную картину. В нашем же случае выборка значительно перекошена в сторону контрольной группы, которой изменения не предлагались, и **результат может иметь аналогичную ошибку**.\n",
    "\n",
    "Учитывая, что базовый показатель конверсии составляет 50%, и нам необходимо протестировать группу В на изменение конверсии на 5%, калькуляторы для А/В-тестов (https://www.evanmiller.org/ab-testing/sample-size.html и https://www.optimizely.com/sample-size-calculator/?conversion=20&effect=5&significance=95#/?conversion=50&effect=5&significance=95) показывают требование к минимальному размеру выборки **5100 или 6277 человек на 1 группу теста**.\n",
    "\n",
    "В нашем же случае для группы А это 2604 человека и для группы В это 877 человек. При таких показателях активности пользователей, результаты теста могут быть некорректными, что приведет к приняюти неверных бизнес-решений. Поэтому настоящее исследование следует рассматривать только как **проверку уже имеющихся данных**.\n",
    "\n",
    "Более того, в исследовании нет смысла учитывать пользователей без активности вообще, поскольку это увеличит неопределенность в итоговых результатов, поскольку в отдельных случайных выборках при проверке могут оказаться и нулевые показатели, и ненулевые, что приведет к занижению или завышению средних величин по каждой из групп, а это дополнительно увеличит вероятность неверной оценки результатов."
   ]
  },
  {
   "cell_type": "markdown",
   "metadata": {},
   "source": [
    "**Лайфтайм событий**\n",
    "\n",
    "Согласно ТЗ исследования, за 14 дней с момента регистрации в системе пользователи должны показать улучшение метрики не менее, чем на 5 процентных пунктов по целевым событиям - product_page, product_cart, purchase. Для этого необходимо будет дополнить таблицу событий датой регистрации пользователя, подсчитать срок в днях с момента регистрации до момента совершения события.\n",
    "\n",
    "Но перед этим необходимо понять, какие события кроме целевых представлены."
   ]
  },
  {
   "cell_type": "code",
   "execution_count": 37,
   "metadata": {},
   "outputs": [
    {
     "data": {
      "text/plain": [
       "login           189552\n",
       "product_page    125563\n",
       "purchase         62740\n",
       "product_cart     62462\n",
       "Name: event_name, dtype: int64"
      ]
     },
     "execution_count": 37,
     "metadata": {},
     "output_type": "execute_result"
    }
   ],
   "source": [
    "events['event_name'].value_counts()"
   ]
  },
  {
   "cell_type": "markdown",
   "metadata": {},
   "source": [
    "Итого имеются 4 типа событий:\n",
    "- login - вход на ресурс (первоначальное действие)\n",
    "- product_page - просмотр карточки товара\n",
    "- purchase - покупка\n",
    "- product_cart - продуктовая корзина\n",
    "\n",
    "Каждое из этих событий важно для исследования, однако есть вероятность, что просмотр корзины может пропускаться ввиду \"покупки в 1 клик\", это будет рассмотрено позже."
   ]
  },
  {
   "cell_type": "markdown",
   "metadata": {},
   "source": [
    "Дополним датасет столбцом лайфтайма с момента регистрации для каждого события. Будем рассчитывать её как разницу между днем регистрации и днем события (в количестве дней)."
   ]
  },
  {
   "cell_type": "code",
   "execution_count": 38,
   "metadata": {},
   "outputs": [
    {
     "data": {
      "text/html": [
       "<div>\n",
       "<style scoped>\n",
       "    .dataframe tbody tr th:only-of-type {\n",
       "        vertical-align: middle;\n",
       "    }\n",
       "\n",
       "    .dataframe tbody tr th {\n",
       "        vertical-align: top;\n",
       "    }\n",
       "\n",
       "    .dataframe thead th {\n",
       "        text-align: right;\n",
       "    }\n",
       "</style>\n",
       "<table border=\"1\" class=\"dataframe\">\n",
       "  <thead>\n",
       "    <tr style=\"text-align: right;\">\n",
       "      <th></th>\n",
       "      <th>user_id</th>\n",
       "      <th>event_dt</th>\n",
       "      <th>event_name</th>\n",
       "      <th>details</th>\n",
       "      <th>first_date</th>\n",
       "      <th>days_to_event</th>\n",
       "    </tr>\n",
       "  </thead>\n",
       "  <tbody>\n",
       "    <tr>\n",
       "      <th>0</th>\n",
       "      <td>831887FE7F2D6CBA</td>\n",
       "      <td>2020-12-07</td>\n",
       "      <td>purchase</td>\n",
       "      <td>4.99</td>\n",
       "      <td>2020-12-07</td>\n",
       "      <td>0</td>\n",
       "    </tr>\n",
       "    <tr>\n",
       "      <th>1</th>\n",
       "      <td>831887FE7F2D6CBA</td>\n",
       "      <td>2020-12-09</td>\n",
       "      <td>purchase</td>\n",
       "      <td>99.99</td>\n",
       "      <td>2020-12-07</td>\n",
       "      <td>2</td>\n",
       "    </tr>\n",
       "    <tr>\n",
       "      <th>2</th>\n",
       "      <td>831887FE7F2D6CBA</td>\n",
       "      <td>2020-12-07</td>\n",
       "      <td>product_cart</td>\n",
       "      <td>NaN</td>\n",
       "      <td>2020-12-07</td>\n",
       "      <td>0</td>\n",
       "    </tr>\n",
       "    <tr>\n",
       "      <th>3</th>\n",
       "      <td>831887FE7F2D6CBA</td>\n",
       "      <td>2020-12-08</td>\n",
       "      <td>product_cart</td>\n",
       "      <td>NaN</td>\n",
       "      <td>2020-12-07</td>\n",
       "      <td>1</td>\n",
       "    </tr>\n",
       "    <tr>\n",
       "      <th>4</th>\n",
       "      <td>831887FE7F2D6CBA</td>\n",
       "      <td>2020-12-09</td>\n",
       "      <td>product_cart</td>\n",
       "      <td>NaN</td>\n",
       "      <td>2020-12-07</td>\n",
       "      <td>2</td>\n",
       "    </tr>\n",
       "    <tr>\n",
       "      <th>...</th>\n",
       "      <td>...</td>\n",
       "      <td>...</td>\n",
       "      <td>...</td>\n",
       "      <td>...</td>\n",
       "      <td>...</td>\n",
       "      <td>...</td>\n",
       "    </tr>\n",
       "    <tr>\n",
       "      <th>23415</th>\n",
       "      <td>1484BBF124DB1B18</td>\n",
       "      <td>2020-12-27</td>\n",
       "      <td>login</td>\n",
       "      <td>NaN</td>\n",
       "      <td>2020-12-21</td>\n",
       "      <td>6</td>\n",
       "    </tr>\n",
       "    <tr>\n",
       "      <th>23416</th>\n",
       "      <td>BEF16764A13AEC34</td>\n",
       "      <td>2020-12-21</td>\n",
       "      <td>login</td>\n",
       "      <td>NaN</td>\n",
       "      <td>2020-12-21</td>\n",
       "      <td>0</td>\n",
       "    </tr>\n",
       "    <tr>\n",
       "      <th>23417</th>\n",
       "      <td>BEF16764A13AEC34</td>\n",
       "      <td>2020-12-22</td>\n",
       "      <td>login</td>\n",
       "      <td>NaN</td>\n",
       "      <td>2020-12-21</td>\n",
       "      <td>1</td>\n",
       "    </tr>\n",
       "    <tr>\n",
       "      <th>23418</th>\n",
       "      <td>BEF16764A13AEC34</td>\n",
       "      <td>2020-12-24</td>\n",
       "      <td>login</td>\n",
       "      <td>NaN</td>\n",
       "      <td>2020-12-21</td>\n",
       "      <td>3</td>\n",
       "    </tr>\n",
       "    <tr>\n",
       "      <th>23419</th>\n",
       "      <td>23DDD27AC3FEFA63</td>\n",
       "      <td>2020-12-21</td>\n",
       "      <td>login</td>\n",
       "      <td>NaN</td>\n",
       "      <td>2020-12-21</td>\n",
       "      <td>0</td>\n",
       "    </tr>\n",
       "  </tbody>\n",
       "</table>\n",
       "<p>23420 rows × 6 columns</p>\n",
       "</div>"
      ],
      "text/plain": [
       "                user_id   event_dt    event_name  details first_date  \\\n",
       "0      831887FE7F2D6CBA 2020-12-07      purchase     4.99 2020-12-07   \n",
       "1      831887FE7F2D6CBA 2020-12-09      purchase    99.99 2020-12-07   \n",
       "2      831887FE7F2D6CBA 2020-12-07  product_cart      NaN 2020-12-07   \n",
       "3      831887FE7F2D6CBA 2020-12-08  product_cart      NaN 2020-12-07   \n",
       "4      831887FE7F2D6CBA 2020-12-09  product_cart      NaN 2020-12-07   \n",
       "...                 ...        ...           ...      ...        ...   \n",
       "23415  1484BBF124DB1B18 2020-12-27         login      NaN 2020-12-21   \n",
       "23416  BEF16764A13AEC34 2020-12-21         login      NaN 2020-12-21   \n",
       "23417  BEF16764A13AEC34 2020-12-22         login      NaN 2020-12-21   \n",
       "23418  BEF16764A13AEC34 2020-12-24         login      NaN 2020-12-21   \n",
       "23419  23DDD27AC3FEFA63 2020-12-21         login      NaN 2020-12-21   \n",
       "\n",
       "       days_to_event  \n",
       "0                  0  \n",
       "1                  2  \n",
       "2                  0  \n",
       "3                  1  \n",
       "4                  2  \n",
       "...              ...  \n",
       "23415              6  \n",
       "23416              0  \n",
       "23417              1  \n",
       "23418              3  \n",
       "23419              0  \n",
       "\n",
       "[23420 rows x 6 columns]"
      ]
     },
     "execution_count": 38,
     "metadata": {},
     "output_type": "execute_result"
    }
   ],
   "source": [
    "events = events.merge(users_groups[['user_id','first_date']])\n",
    "events['days_to_event'] = (events['event_dt'] - events['first_date']).dt.days\n",
    "events"
   ]
  },
  {
   "cell_type": "code",
   "execution_count": 39,
   "metadata": {},
   "outputs": [
    {
     "data": {
      "text/plain": [
       "23"
      ]
     },
     "execution_count": 39,
     "metadata": {},
     "output_type": "execute_result"
    }
   ],
   "source": [
    "events['days_to_event'].max()"
   ]
  },
  {
   "cell_type": "markdown",
   "metadata": {},
   "source": [
    "Максимальный срок между действиями пользователей - 23 дня, но поскольку проверяется активность в течение первых 14 дней с даты регистрации, уберем все лишние значения, в которых лайфтайм более 14."
   ]
  },
  {
   "cell_type": "code",
   "execution_count": 40,
   "metadata": {},
   "outputs": [
    {
     "data": {
      "text/html": [
       "<div>\n",
       "<style scoped>\n",
       "    .dataframe tbody tr th:only-of-type {\n",
       "        vertical-align: middle;\n",
       "    }\n",
       "\n",
       "    .dataframe tbody tr th {\n",
       "        vertical-align: top;\n",
       "    }\n",
       "\n",
       "    .dataframe thead th {\n",
       "        text-align: right;\n",
       "    }\n",
       "</style>\n",
       "<table border=\"1\" class=\"dataframe\">\n",
       "  <thead>\n",
       "    <tr style=\"text-align: right;\">\n",
       "      <th></th>\n",
       "      <th>user_id</th>\n",
       "      <th>event_dt</th>\n",
       "      <th>event_name</th>\n",
       "      <th>details</th>\n",
       "      <th>first_date</th>\n",
       "      <th>days_to_event</th>\n",
       "    </tr>\n",
       "  </thead>\n",
       "  <tbody>\n",
       "    <tr>\n",
       "      <th>0</th>\n",
       "      <td>831887FE7F2D6CBA</td>\n",
       "      <td>2020-12-07</td>\n",
       "      <td>purchase</td>\n",
       "      <td>4.99</td>\n",
       "      <td>2020-12-07</td>\n",
       "      <td>0</td>\n",
       "    </tr>\n",
       "    <tr>\n",
       "      <th>1</th>\n",
       "      <td>831887FE7F2D6CBA</td>\n",
       "      <td>2020-12-09</td>\n",
       "      <td>purchase</td>\n",
       "      <td>99.99</td>\n",
       "      <td>2020-12-07</td>\n",
       "      <td>2</td>\n",
       "    </tr>\n",
       "    <tr>\n",
       "      <th>2</th>\n",
       "      <td>831887FE7F2D6CBA</td>\n",
       "      <td>2020-12-07</td>\n",
       "      <td>product_cart</td>\n",
       "      <td>NaN</td>\n",
       "      <td>2020-12-07</td>\n",
       "      <td>0</td>\n",
       "    </tr>\n",
       "    <tr>\n",
       "      <th>3</th>\n",
       "      <td>831887FE7F2D6CBA</td>\n",
       "      <td>2020-12-08</td>\n",
       "      <td>product_cart</td>\n",
       "      <td>NaN</td>\n",
       "      <td>2020-12-07</td>\n",
       "      <td>1</td>\n",
       "    </tr>\n",
       "    <tr>\n",
       "      <th>4</th>\n",
       "      <td>831887FE7F2D6CBA</td>\n",
       "      <td>2020-12-09</td>\n",
       "      <td>product_cart</td>\n",
       "      <td>NaN</td>\n",
       "      <td>2020-12-07</td>\n",
       "      <td>2</td>\n",
       "    </tr>\n",
       "    <tr>\n",
       "      <th>...</th>\n",
       "      <td>...</td>\n",
       "      <td>...</td>\n",
       "      <td>...</td>\n",
       "      <td>...</td>\n",
       "      <td>...</td>\n",
       "      <td>...</td>\n",
       "    </tr>\n",
       "    <tr>\n",
       "      <th>23415</th>\n",
       "      <td>1484BBF124DB1B18</td>\n",
       "      <td>2020-12-27</td>\n",
       "      <td>login</td>\n",
       "      <td>NaN</td>\n",
       "      <td>2020-12-21</td>\n",
       "      <td>6</td>\n",
       "    </tr>\n",
       "    <tr>\n",
       "      <th>23416</th>\n",
       "      <td>BEF16764A13AEC34</td>\n",
       "      <td>2020-12-21</td>\n",
       "      <td>login</td>\n",
       "      <td>NaN</td>\n",
       "      <td>2020-12-21</td>\n",
       "      <td>0</td>\n",
       "    </tr>\n",
       "    <tr>\n",
       "      <th>23417</th>\n",
       "      <td>BEF16764A13AEC34</td>\n",
       "      <td>2020-12-22</td>\n",
       "      <td>login</td>\n",
       "      <td>NaN</td>\n",
       "      <td>2020-12-21</td>\n",
       "      <td>1</td>\n",
       "    </tr>\n",
       "    <tr>\n",
       "      <th>23418</th>\n",
       "      <td>BEF16764A13AEC34</td>\n",
       "      <td>2020-12-24</td>\n",
       "      <td>login</td>\n",
       "      <td>NaN</td>\n",
       "      <td>2020-12-21</td>\n",
       "      <td>3</td>\n",
       "    </tr>\n",
       "    <tr>\n",
       "      <th>23419</th>\n",
       "      <td>23DDD27AC3FEFA63</td>\n",
       "      <td>2020-12-21</td>\n",
       "      <td>login</td>\n",
       "      <td>NaN</td>\n",
       "      <td>2020-12-21</td>\n",
       "      <td>0</td>\n",
       "    </tr>\n",
       "  </tbody>\n",
       "</table>\n",
       "<p>22828 rows × 6 columns</p>\n",
       "</div>"
      ],
      "text/plain": [
       "                user_id   event_dt    event_name  details first_date  \\\n",
       "0      831887FE7F2D6CBA 2020-12-07      purchase     4.99 2020-12-07   \n",
       "1      831887FE7F2D6CBA 2020-12-09      purchase    99.99 2020-12-07   \n",
       "2      831887FE7F2D6CBA 2020-12-07  product_cart      NaN 2020-12-07   \n",
       "3      831887FE7F2D6CBA 2020-12-08  product_cart      NaN 2020-12-07   \n",
       "4      831887FE7F2D6CBA 2020-12-09  product_cart      NaN 2020-12-07   \n",
       "...                 ...        ...           ...      ...        ...   \n",
       "23415  1484BBF124DB1B18 2020-12-27         login      NaN 2020-12-21   \n",
       "23416  BEF16764A13AEC34 2020-12-21         login      NaN 2020-12-21   \n",
       "23417  BEF16764A13AEC34 2020-12-22         login      NaN 2020-12-21   \n",
       "23418  BEF16764A13AEC34 2020-12-24         login      NaN 2020-12-21   \n",
       "23419  23DDD27AC3FEFA63 2020-12-21         login      NaN 2020-12-21   \n",
       "\n",
       "       days_to_event  \n",
       "0                  0  \n",
       "1                  2  \n",
       "2                  0  \n",
       "3                  1  \n",
       "4                  2  \n",
       "...              ...  \n",
       "23415              6  \n",
       "23416              0  \n",
       "23417              1  \n",
       "23418              3  \n",
       "23419              0  \n",
       "\n",
       "[22828 rows x 6 columns]"
      ]
     },
     "execution_count": 40,
     "metadata": {},
     "output_type": "execute_result"
    }
   ],
   "source": [
    "events=events.query('days_to_event <= 14')\n",
    "events"
   ]
  },
  {
   "cell_type": "code",
   "execution_count": 41,
   "metadata": {},
   "outputs": [
    {
     "data": {
      "text/html": [
       "<div>\n",
       "<style scoped>\n",
       "    .dataframe tbody tr th:only-of-type {\n",
       "        vertical-align: middle;\n",
       "    }\n",
       "\n",
       "    .dataframe tbody tr th {\n",
       "        vertical-align: top;\n",
       "    }\n",
       "\n",
       "    .dataframe thead tr th {\n",
       "        text-align: left;\n",
       "    }\n",
       "</style>\n",
       "<table border=\"1\" class=\"dataframe\">\n",
       "  <thead>\n",
       "    <tr>\n",
       "      <th></th>\n",
       "      <th>event_name</th>\n",
       "      <th>median</th>\n",
       "      <th>mean</th>\n",
       "    </tr>\n",
       "    <tr>\n",
       "      <th></th>\n",
       "      <th></th>\n",
       "      <th>days_to_event</th>\n",
       "      <th>days_to_event</th>\n",
       "    </tr>\n",
       "  </thead>\n",
       "  <tbody>\n",
       "    <tr>\n",
       "      <th>0</th>\n",
       "      <td>login</td>\n",
       "      <td>2</td>\n",
       "      <td>2.947833</td>\n",
       "    </tr>\n",
       "    <tr>\n",
       "      <th>1</th>\n",
       "      <td>product_cart</td>\n",
       "      <td>2</td>\n",
       "      <td>2.926246</td>\n",
       "    </tr>\n",
       "    <tr>\n",
       "      <th>2</th>\n",
       "      <td>product_page</td>\n",
       "      <td>2</td>\n",
       "      <td>2.939674</td>\n",
       "    </tr>\n",
       "    <tr>\n",
       "      <th>3</th>\n",
       "      <td>purchase</td>\n",
       "      <td>2</td>\n",
       "      <td>2.887928</td>\n",
       "    </tr>\n",
       "  </tbody>\n",
       "</table>\n",
       "</div>"
      ],
      "text/plain": [
       "     event_name        median          mean\n",
       "                days_to_event days_to_event\n",
       "0         login             2      2.947833\n",
       "1  product_cart             2      2.926246\n",
       "2  product_page             2      2.939674\n",
       "3      purchase             2      2.887928"
      ]
     },
     "execution_count": 41,
     "metadata": {},
     "output_type": "execute_result"
    }
   ],
   "source": [
    "events.pivot_table(index='event_name',values='days_to_event',aggfunc=['median','mean']).reset_index()"
   ]
  },
  {
   "cell_type": "markdown",
   "metadata": {},
   "source": [
    "В среднем между регистрацией и каждым действием у имеющихся пользователей проходит чуть менее чем 3 дня. Это, скорее всего, достаточно хороший показатель, если сервис предлагает товары или услуги достаточно высокой стоимости. Таким образом, покупательское поведение вполне нормально."
   ]
  },
  {
   "cell_type": "markdown",
   "metadata": {},
   "source": [
    "Для большей наглядности построим гистограмму лайфтаймов событий."
   ]
  },
  {
   "cell_type": "code",
   "execution_count": 42,
   "metadata": {},
   "outputs": [
    {
     "data": {
      "image/png": "[encoded data removed]"
     },
     "metadata": {},
     "output_type": "display_data"
    }
   ],
   "source": [
    "fig = px.histogram(events, x=\"days_to_event\",color='event_name')\n",
    "fig.update_layout(title='Частота лайфтаймов событий пользователей',\n",
    "                   xaxis_title='Число событий',\n",
    "                   yaxis_title='Частота',\n",
    "                 legend_title_text='Событие',\n",
    "                 barmode='group')\n",
    "fig.show(\"png\")"
   ]
  },
  {
   "cell_type": "markdown",
   "metadata": {},
   "source": [
    "Действительно, большинство событий происходят в первые пару дней со дня регистрации пользователя. При этом, среди самых частых событий, в день регистрации происходит большинство действий, как входов в сервис, так и просмотров карточки товара, корзины, и покупки. Одновременно, просмотров корзины немногим меньше, чем покупок. Далее этот фактор будет рассмотрен отдельно."
   ]
  },
  {
   "cell_type": "markdown",
   "metadata": {},
   "source": [
    "### Выводы предобработки данных"
   ]
  },
  {
   "cell_type": "markdown",
   "metadata": {},
   "source": [
    "По итогам предобработки данных и первого их обзора были обработаны все массивы данных и приведены к должному виду форматы записей в таблицах.\n",
    "\n",
    "Предварительное изучение данных позволило сделать выводы о том, что:\n",
    "- Существуют **маркетинговые активности**, которые **пересекаются** с временем активности пользователей сервиса.\n",
    "- Выборка пользователей **по дате регистрации была** проведена **некорректно** и в нее попала часть некорретных дат регистрации. Расхождения ликвидированы.\n",
    "- Были отобраны пользователи целевого региона и рассчитано целевое количество пользователей для теста: **6371 человек**\n",
    "- Были обнаружены данные конфликтующего теста, причем пользователи обоих тестов частично пересекаются между собой. Ввиду недостаточности количества пользователей целевого теста, остающихся в выборке, принято решение сохранить пересекающихся пользователей. *Для этих пользователей данные активности могут быть искажены*\n",
    "- Последнее событие пользователей в выборке относится к 30 декабря 2020 года. Правая граница исследования - 04 января 2021 года. *Данные по активности пользователей могут быть неполными, в связи с чем возможны искажения в показателях активностей по типам*.\n",
    "- Имеются данные по **активности** только **55%** пользователей из всей выборки АВ-теста. При этом, среди активных пользователей **75%** приходится на **контрольную группу (А)** и только **25%** на **группу В**. *Результаты АВ-теста могут быть значительно искажены при таком значительном неравенстве выборок*.\n",
    "- Максимальный лайфтайм событий с момента регистрации для пользователей составляет **23 дня**, что значительно выше установленных техническим заданием **14 дней**. Излишние данные удалены, *возможны незначительные искажения результатов*.\n",
    "\n",
    "С учетом всего вышеописанного, можно уже на этапе подготовки данных тестов к проверке заявить о том, что конечный результат будет серьезно **искажен**. Для того, чтобы корректно составить выборку данных для теста и соблюсти основные принципы АВ-тестирования, необходимо значительно изменить методику отбора пользователей в группы. В частности, необходимо присваивать группу пользователю не только на этапе регистрации, но и рассматривать дополнительный фактор совершения как минимум **1 (одного) действия** после регистрации. В этом случае будет более корректно формироваться клиентская воронка, поскольку **факт регистрации не является показателем активности** пользователя."
   ]
  },
  {
   "cell_type": "markdown",
   "metadata": {},
   "source": [
    "## Исследовательский анализ данных"
   ]
  },
  {
   "cell_type": "markdown",
   "metadata": {},
   "source": [
    "Частично уже был проведен анализ данных при их загрузке и обработке.\n",
    "\n",
    "В рамках настоящего исследовательского анализа ответим на следующие вопросы:\n",
    "\n",
    "- Распределение количества событий на пользователя в разрезе групп теста: построим графикраспределения этой величины в разрезе групп и сравним её средние значения между собой у групп теста;\n",
    "- Динамика количества событий в группах теста по дням: изучим распределение числа событий по дням и сравним динамику групп теста между собой.\n",
    "- Убедимся, что время проведения теста не совпадает с маркетинговыми и другими активностями. Настройте автоматическую проверку, выдающую список событий, пересекающихся с тестом. Также оценим воздействие маркетинговых событий на динамику количества событий пользователей.\n",
    "- Продуктовая воронка: построим простые продуктовые воронки для двух групп теста с учетом логической последовательности совершения событий; изучим изменение конверсии в продуктовой воронке тестовой группы, по сравнению с контрольной.\n",
    "\n",
    "Для анализа будем использовать объединенный датасет пользователей по группам и пользовательских событий. В датасете будут встречаться только данные активных пользователей, число которых уже оценивалось выше и описывалась достаточность выборки для исследования."
   ]
  },
  {
   "cell_type": "code",
   "execution_count": 43,
   "metadata": {},
   "outputs": [
    {
     "data": {
      "text/html": [
       "<div>\n",
       "<style scoped>\n",
       "    .dataframe tbody tr th:only-of-type {\n",
       "        vertical-align: middle;\n",
       "    }\n",
       "\n",
       "    .dataframe tbody tr th {\n",
       "        vertical-align: top;\n",
       "    }\n",
       "\n",
       "    .dataframe thead th {\n",
       "        text-align: right;\n",
       "    }\n",
       "</style>\n",
       "<table border=\"1\" class=\"dataframe\">\n",
       "  <thead>\n",
       "    <tr style=\"text-align: right;\">\n",
       "      <th></th>\n",
       "      <th>user_id</th>\n",
       "      <th>event_dt</th>\n",
       "      <th>event_name</th>\n",
       "      <th>details</th>\n",
       "      <th>first_date</th>\n",
       "      <th>days_to_event</th>\n",
       "      <th>device</th>\n",
       "      <th>group</th>\n",
       "      <th>region</th>\n",
       "    </tr>\n",
       "  </thead>\n",
       "  <tbody>\n",
       "    <tr>\n",
       "      <th>0</th>\n",
       "      <td>831887FE7F2D6CBA</td>\n",
       "      <td>2020-12-07</td>\n",
       "      <td>purchase</td>\n",
       "      <td>4.99</td>\n",
       "      <td>2020-12-07</td>\n",
       "      <td>0</td>\n",
       "      <td>Android</td>\n",
       "      <td>A</td>\n",
       "      <td>EU</td>\n",
       "    </tr>\n",
       "    <tr>\n",
       "      <th>1</th>\n",
       "      <td>831887FE7F2D6CBA</td>\n",
       "      <td>2020-12-09</td>\n",
       "      <td>purchase</td>\n",
       "      <td>99.99</td>\n",
       "      <td>2020-12-07</td>\n",
       "      <td>2</td>\n",
       "      <td>Android</td>\n",
       "      <td>A</td>\n",
       "      <td>EU</td>\n",
       "    </tr>\n",
       "    <tr>\n",
       "      <th>2</th>\n",
       "      <td>831887FE7F2D6CBA</td>\n",
       "      <td>2020-12-07</td>\n",
       "      <td>product_cart</td>\n",
       "      <td>NaN</td>\n",
       "      <td>2020-12-07</td>\n",
       "      <td>0</td>\n",
       "      <td>Android</td>\n",
       "      <td>A</td>\n",
       "      <td>EU</td>\n",
       "    </tr>\n",
       "    <tr>\n",
       "      <th>3</th>\n",
       "      <td>831887FE7F2D6CBA</td>\n",
       "      <td>2020-12-08</td>\n",
       "      <td>product_cart</td>\n",
       "      <td>NaN</td>\n",
       "      <td>2020-12-07</td>\n",
       "      <td>1</td>\n",
       "      <td>Android</td>\n",
       "      <td>A</td>\n",
       "      <td>EU</td>\n",
       "    </tr>\n",
       "    <tr>\n",
       "      <th>4</th>\n",
       "      <td>831887FE7F2D6CBA</td>\n",
       "      <td>2020-12-09</td>\n",
       "      <td>product_cart</td>\n",
       "      <td>NaN</td>\n",
       "      <td>2020-12-07</td>\n",
       "      <td>2</td>\n",
       "      <td>Android</td>\n",
       "      <td>A</td>\n",
       "      <td>EU</td>\n",
       "    </tr>\n",
       "    <tr>\n",
       "      <th>...</th>\n",
       "      <td>...</td>\n",
       "      <td>...</td>\n",
       "      <td>...</td>\n",
       "      <td>...</td>\n",
       "      <td>...</td>\n",
       "      <td>...</td>\n",
       "      <td>...</td>\n",
       "      <td>...</td>\n",
       "      <td>...</td>\n",
       "    </tr>\n",
       "    <tr>\n",
       "      <th>22823</th>\n",
       "      <td>1484BBF124DB1B18</td>\n",
       "      <td>2020-12-27</td>\n",
       "      <td>login</td>\n",
       "      <td>NaN</td>\n",
       "      <td>2020-12-21</td>\n",
       "      <td>6</td>\n",
       "      <td>PC</td>\n",
       "      <td>A</td>\n",
       "      <td>EU</td>\n",
       "    </tr>\n",
       "    <tr>\n",
       "      <th>22824</th>\n",
       "      <td>BEF16764A13AEC34</td>\n",
       "      <td>2020-12-21</td>\n",
       "      <td>login</td>\n",
       "      <td>NaN</td>\n",
       "      <td>2020-12-21</td>\n",
       "      <td>0</td>\n",
       "      <td>PC</td>\n",
       "      <td>B</td>\n",
       "      <td>EU</td>\n",
       "    </tr>\n",
       "    <tr>\n",
       "      <th>22825</th>\n",
       "      <td>BEF16764A13AEC34</td>\n",
       "      <td>2020-12-22</td>\n",
       "      <td>login</td>\n",
       "      <td>NaN</td>\n",
       "      <td>2020-12-21</td>\n",
       "      <td>1</td>\n",
       "      <td>PC</td>\n",
       "      <td>B</td>\n",
       "      <td>EU</td>\n",
       "    </tr>\n",
       "    <tr>\n",
       "      <th>22826</th>\n",
       "      <td>BEF16764A13AEC34</td>\n",
       "      <td>2020-12-24</td>\n",
       "      <td>login</td>\n",
       "      <td>NaN</td>\n",
       "      <td>2020-12-21</td>\n",
       "      <td>3</td>\n",
       "      <td>PC</td>\n",
       "      <td>B</td>\n",
       "      <td>EU</td>\n",
       "    </tr>\n",
       "    <tr>\n",
       "      <th>22827</th>\n",
       "      <td>23DDD27AC3FEFA63</td>\n",
       "      <td>2020-12-21</td>\n",
       "      <td>login</td>\n",
       "      <td>NaN</td>\n",
       "      <td>2020-12-21</td>\n",
       "      <td>0</td>\n",
       "      <td>PC</td>\n",
       "      <td>A</td>\n",
       "      <td>EU</td>\n",
       "    </tr>\n",
       "  </tbody>\n",
       "</table>\n",
       "<p>22828 rows × 9 columns</p>\n",
       "</div>"
      ],
      "text/plain": [
       "                user_id   event_dt    event_name  details first_date  \\\n",
       "0      831887FE7F2D6CBA 2020-12-07      purchase     4.99 2020-12-07   \n",
       "1      831887FE7F2D6CBA 2020-12-09      purchase    99.99 2020-12-07   \n",
       "2      831887FE7F2D6CBA 2020-12-07  product_cart      NaN 2020-12-07   \n",
       "3      831887FE7F2D6CBA 2020-12-08  product_cart      NaN 2020-12-07   \n",
       "4      831887FE7F2D6CBA 2020-12-09  product_cart      NaN 2020-12-07   \n",
       "...                 ...        ...           ...      ...        ...   \n",
       "22823  1484BBF124DB1B18 2020-12-27         login      NaN 2020-12-21   \n",
       "22824  BEF16764A13AEC34 2020-12-21         login      NaN 2020-12-21   \n",
       "22825  BEF16764A13AEC34 2020-12-22         login      NaN 2020-12-21   \n",
       "22826  BEF16764A13AEC34 2020-12-24         login      NaN 2020-12-21   \n",
       "22827  23DDD27AC3FEFA63 2020-12-21         login      NaN 2020-12-21   \n",
       "\n",
       "       days_to_event   device group region  \n",
       "0                  0  Android     A     EU  \n",
       "1                  2  Android     A     EU  \n",
       "2                  0  Android     A     EU  \n",
       "3                  1  Android     A     EU  \n",
       "4                  2  Android     A     EU  \n",
       "...              ...      ...   ...    ...  \n",
       "22823              6       PC     A     EU  \n",
       "22824              0       PC     B     EU  \n",
       "22825              1       PC     B     EU  \n",
       "22826              3       PC     B     EU  \n",
       "22827              0       PC     A     EU  \n",
       "\n",
       "[22828 rows x 9 columns]"
      ]
     },
     "execution_count": 43,
     "metadata": {},
     "output_type": "execute_result"
    }
   ],
   "source": [
    "df=events.merge(users_groups[['user_id','device','group','region']])\n",
    "df"
   ]
  },
  {
   "cell_type": "markdown",
   "metadata": {},
   "source": [
    "### Общие параметры данных"
   ]
  },
  {
   "cell_type": "markdown",
   "metadata": {},
   "source": [
    "Для начала взглянем на основные распределения данных в объединенном датасете."
   ]
  },
  {
   "cell_type": "code",
   "execution_count": 44,
   "metadata": {},
   "outputs": [
    {
     "data": {
      "image/png": "[encoded data removed]",
      "text/plain": [
       "<Figure size 1500x2000 with 4 Axes>"
      ]
     },
     "metadata": {},
     "output_type": "display_data"
    }
   ],
   "source": [
    "df.hist(figsize=(15, 20))\n",
    "plt.show()"
   ]
  },
  {
   "cell_type": "code",
   "execution_count": 45,
   "metadata": {},
   "outputs": [
    {
     "data": {
      "text/html": [
       "<div>\n",
       "<style scoped>\n",
       "    .dataframe tbody tr th:only-of-type {\n",
       "        vertical-align: middle;\n",
       "    }\n",
       "\n",
       "    .dataframe tbody tr th {\n",
       "        vertical-align: top;\n",
       "    }\n",
       "\n",
       "    .dataframe thead th {\n",
       "        text-align: right;\n",
       "    }\n",
       "</style>\n",
       "<table border=\"1\" class=\"dataframe\">\n",
       "  <thead>\n",
       "    <tr style=\"text-align: right;\">\n",
       "      <th></th>\n",
       "      <th>details</th>\n",
       "      <th>days_to_event</th>\n",
       "    </tr>\n",
       "  </thead>\n",
       "  <tbody>\n",
       "    <tr>\n",
       "      <th>count</th>\n",
       "      <td>3123.000000</td>\n",
       "      <td>22828.00000</td>\n",
       "    </tr>\n",
       "    <tr>\n",
       "      <th>mean</th>\n",
       "      <td>23.046356</td>\n",
       "      <td>2.93451</td>\n",
       "    </tr>\n",
       "    <tr>\n",
       "      <th>std</th>\n",
       "      <td>70.266952</td>\n",
       "      <td>3.47750</td>\n",
       "    </tr>\n",
       "    <tr>\n",
       "      <th>min</th>\n",
       "      <td>4.990000</td>\n",
       "      <td>0.00000</td>\n",
       "    </tr>\n",
       "    <tr>\n",
       "      <th>25%</th>\n",
       "      <td>4.990000</td>\n",
       "      <td>0.00000</td>\n",
       "    </tr>\n",
       "    <tr>\n",
       "      <th>50%</th>\n",
       "      <td>4.990000</td>\n",
       "      <td>2.00000</td>\n",
       "    </tr>\n",
       "    <tr>\n",
       "      <th>75%</th>\n",
       "      <td>9.990000</td>\n",
       "      <td>5.00000</td>\n",
       "    </tr>\n",
       "    <tr>\n",
       "      <th>max</th>\n",
       "      <td>499.990000</td>\n",
       "      <td>14.00000</td>\n",
       "    </tr>\n",
       "  </tbody>\n",
       "</table>\n",
       "</div>"
      ],
      "text/plain": [
       "           details  days_to_event\n",
       "count  3123.000000    22828.00000\n",
       "mean     23.046356        2.93451\n",
       "std      70.266952        3.47750\n",
       "min       4.990000        0.00000\n",
       "25%       4.990000        0.00000\n",
       "50%       4.990000        2.00000\n",
       "75%       9.990000        5.00000\n",
       "max     499.990000       14.00000"
      ]
     },
     "execution_count": 45,
     "metadata": {},
     "output_type": "execute_result"
    }
   ],
   "source": [
    "df.describe()"
   ]
  },
  {
   "cell_type": "markdown",
   "metadata": {},
   "source": [
    "Из полученных гистограмм и описательных статистик видно, что чаще всего пользователи регистрировались в сервисе в середине декабря 2020 года. При этом, больше всего событий пользователей приходится на вторую половину месяца. Одновременно с этим, события пользователей происходили в первые три дня с даты регистрации. Покупки совершались на суммы до 100 долларов и также несколько покупок на сумму до 500 долларов.\n",
    "\n",
    "Из описательных статистик видно, что было сделано всего 3123 покупки от 4,99 до 499,99 долларов, со средним значением 23,04 доллара.\n",
    "\n",
    "Интервал между датой регистрации и событием в среднем составил 2,93 дня, минимальный интервал - 0 дней (то есть, событие происходило в день регистрации), максимальный - 14 дней."
   ]
  },
  {
   "cell_type": "markdown",
   "metadata": {},
   "source": [
    "Построим диаграмму распределения пользователей по группам в разрезе пользовательских устройств."
   ]
  },
  {
   "cell_type": "code",
   "execution_count": 46,
   "metadata": {},
   "outputs": [
    {
     "data": {
      "image/png": "[encoded data removed]"
     },
     "metadata": {},
     "output_type": "display_data"
    }
   ],
   "source": [
    "tmp=df.pivot_table(index=['group','device'],values='user_id',aggfunc='nunique').reset_index()\n",
    "fig = px.sunburst(tmp, path=['group','device'], values='user_id', color_discrete_sequence=px.colors.qualitative.Vivid)\n",
    "\n",
    "fig.update_layout(title='Число устройств пользователей по группам А/В-теста',\n",
    "                  width=700,\n",
    "                  height=700)\n",
    "fig.update_traces(textinfo='label+percent parent+value', insidetextorientation='horizontal')\n",
    "fig.show(\"png\")"
   ]
  },
  {
   "cell_type": "markdown",
   "metadata": {},
   "source": [
    "Несмотря на то, что, как подчеркивалось ранее, пользователи групп А и В распределены неравномерно и группа В значительно меньше контрольной группы А, распределение устройств пользователей приблизительно равное: чуть более 40% людей пользуется Android, около четверти - РС, по 20-21% приходится на iPhone и 8-10% приходится на Mac."
   ]
  },
  {
   "cell_type": "markdown",
   "metadata": {},
   "source": [
    "Дополнительно можно рассмотреть, какое количество денег принесла каждая группа теста по дням наблюдения."
   ]
  },
  {
   "cell_type": "code",
   "execution_count": 47,
   "metadata": {
    "scrolled": false
   },
   "outputs": [
    {
     "data": {
      "image/png": "[encoded data removed]"
     },
     "metadata": {},
     "output_type": "display_data"
    }
   ],
   "source": [
    "tmp=df.pivot_table(index=['event_dt','group'],values='details',aggfunc='sum').reset_index()\n",
    "fig = px.line(tmp, x=\"event_dt\", y=[\"details\"],color='group')\n",
    "fig.update_layout(title='Выручка групп теста по дням исследования',\n",
    "                   xaxis_title='Дата',\n",
    "                   yaxis_title='Выручка, долл.',\n",
    "                 legend_title_text='Группа')\n",
    "fig.show(\"png\")"
   ]
  },
  {
   "cell_type": "markdown",
   "metadata": {},
   "source": [
    "По двум графикам видно, что выручка контрольной группы стабильно выше, чем выручка группы В. Здесь серьезно сказывается эффект масштаба от того, что имеется значительный перекос в сторону контрольной группы, поэтому с 14 декабря появляется значительное расхождение между выручками по группам, и уменьшается только к последним датам исследования.\n",
    "\n",
    "Одновременно, наблюдается пик в районе 21 декабря. Учитывая, что в ЕС это канун Рождества, на которое, как правило, люди приобретают друг другу подарки, такое поведение графиков вполне логично. Вместе с этим, начавшаяся 25 декабря маркетинговая кампания дала второй пик для группы В, практически не повлияв на группу А.\n",
    "\n",
    "Дополнительно, если вернуться к графикам **динамики набора** пользователей в группу А, будет заметно, что первый значительный **пик пришелся на 14 декабря**, и **16 декабря** выручка незначительно **выросла**. Далее наблюдался восходящий тренд в наборе активных пользователей - и он выразился во втором значительном пике 21 декабря. Таким образом, **увеличение числа активных пользователей увеличивает выручку по группе.**"
   ]
  },
  {
   "cell_type": "markdown",
   "metadata": {},
   "source": [
    "### Количество событий на пользователя в разрезе групп теста"
   ]
  },
  {
   "cell_type": "markdown",
   "metadata": {},
   "source": [
    "Для каждой из групп теста можно рассмотреть количество событий на одного пользователя. Может оказаться так, что пользователи тестовой группы не только малочисленны, но и имеют количество событий меньше, чем пользователи контрольной группы."
   ]
  },
  {
   "cell_type": "code",
   "execution_count": 48,
   "metadata": {},
   "outputs": [
    {
     "data": {
      "image/png": "[encoded data removed]"
     },
     "metadata": {},
     "output_type": "display_data"
    }
   ],
   "source": [
    "tmp=df.pivot_table(index=['user_id','group'],values='event_name',aggfunc='count').reset_index()\n",
    "fig = px.histogram(tmp, x=\"event_name\",color='group')\n",
    "fig.update_layout(title='Частота событий на пользователя по группам теста',\n",
    "                   xaxis_title='Число событий',\n",
    "                   yaxis_title='Частота',\n",
    "                 legend_title_text='Группа',\n",
    "                 barmode='group')\n",
    "fig.show(\"png\")"
   ]
  },
  {
   "cell_type": "markdown",
   "metadata": {},
   "source": [
    "Гистограмма событий на пользователя показывает, что **в группе А** происходило намного **больше событий**, чем **в группе В**. При этом, **в тестовой** группе, несмотря на **в три раза меньшее** число участников, **до 3 событий** происходило **всего в два раза меньше**. \n",
    "\n",
    "Возможно, это связано с тем, что новая система рекомендаций работала и вызывала в пользователях желание создавать новые события. 4 и 6 событий в контрольной группе происходило значительно больше, чем в тестовой. Тем не менее, **с учетом разницы в числе активных** пользователей в группах теста, **нельзя однозначно судить** о том, вызвала ли новая система рекомендаций ожидаемый эффект."
   ]
  },
  {
   "cell_type": "markdown",
   "metadata": {},
   "source": [
    "### Динамика количества событий в группах теста по дням"
   ]
  },
  {
   "cell_type": "markdown",
   "metadata": {},
   "source": [
    "Также рассмотрим количество событий в группах теста по дням. Возможно, что ввиду малого количества пользователей в группе В, события в группе также будут значительно реже."
   ]
  },
  {
   "cell_type": "code",
   "execution_count": 49,
   "metadata": {
    "scrolled": false
   },
   "outputs": [
    {
     "data": {
      "image/png": "[encoded data removed]"
     },
     "metadata": {},
     "output_type": "display_data"
    }
   ],
   "source": [
    "tmp=df.pivot_table(index=['event_dt','group'],values='event_name',aggfunc='count').reset_index()\n",
    "fig = px.line(tmp, x=\"event_dt\", y=[\"event_name\"],color='group')\n",
    "fig.update_layout(title='Количество событий в группах по дням исследования',\n",
    "                   xaxis_title='Дата',\n",
    "                   yaxis_title='Событие',\n",
    "                 legend_title_text='Группа')\n",
    "fig.show(\"png\")"
   ]
  },
  {
   "cell_type": "markdown",
   "metadata": {},
   "source": [
    "Действительно, ввиду небольшого количества участников тестовой группы, **количество событий на группу В** в целом было **ниже**, чем в контрольной группе. При этом стоит отметить, что в **контрольной** группе наблюдался **рост числа событий с 13 декабря до достижения пика 21 декабря** с дальнейшим резким спадом. В **тестовой** же группе резкого роста событий в аналогичный период **не наблюдалось**. \n",
    "\n",
    "Субъективно можно предположить, что новая рекомендательная система не повлияла значительно на число событий. Более того, она могла даже оказать негативное влияние на **показатели тестовой группы**, поскольку **отсутствует предрождественский скачок** активности.\n",
    "\n",
    "Значительно б*о*льшее влияние на количество событий пользователей оказала активность их набора в тестовые группы. На графике явно видно первое резкое увеличение активности пользователей в числе их событий, соответствующее пику набора в группу А, далее активность пользователей стабильно возрастает синхронно с ростом числа набираемых активных пользователей в группу.\n",
    "\n",
    "Таким образом, показатели групп напрямую зависят от динамики набора именно **активных** пользователей в их состав."
   ]
  },
  {
   "cell_type": "markdown",
   "metadata": {},
   "source": [
    "### Пересечение с маркетинговыми кампаниями"
   ]
  },
  {
   "cell_type": "markdown",
   "metadata": {},
   "source": [
    "Как было установлено ранее, в целевой промежуток исследования попадает проведение одной маркетинговой кампании. Необходимо показать, какая маркетинговая кампания попадает в даты проведения теста."
   ]
  },
  {
   "cell_type": "code",
   "execution_count": 50,
   "metadata": {},
   "outputs": [
    {
     "data": {
      "text/html": [
       "<div>\n",
       "<style scoped>\n",
       "    .dataframe tbody tr th:only-of-type {\n",
       "        vertical-align: middle;\n",
       "    }\n",
       "\n",
       "    .dataframe tbody tr th {\n",
       "        vertical-align: top;\n",
       "    }\n",
       "\n",
       "    .dataframe thead th {\n",
       "        text-align: right;\n",
       "    }\n",
       "</style>\n",
       "<table border=\"1\" class=\"dataframe\">\n",
       "  <thead>\n",
       "    <tr style=\"text-align: right;\">\n",
       "      <th></th>\n",
       "      <th>name</th>\n",
       "      <th>regions</th>\n",
       "      <th>start_dt</th>\n",
       "      <th>finish_dt</th>\n",
       "    </tr>\n",
       "  </thead>\n",
       "  <tbody>\n",
       "    <tr>\n",
       "      <th>0</th>\n",
       "      <td>Christmas&amp;New Year Promo</td>\n",
       "      <td>EU, N.America</td>\n",
       "      <td>2020-12-25</td>\n",
       "      <td>2021-01-03</td>\n",
       "    </tr>\n",
       "  </tbody>\n",
       "</table>\n",
       "</div>"
      ],
      "text/plain": [
       "                       name        regions   start_dt  finish_dt\n",
       "0  Christmas&New Year Promo  EU, N.America 2020-12-25 2021-01-03"
      ]
     },
     "execution_count": 50,
     "metadata": {},
     "output_type": "execute_result"
    }
   ],
   "source": [
    "# Отбор кампании по региону выставляем руками по ТЗ\n",
    "reg_camp = market_events[(market_events['regions'].str.contains(\"EU\"))&(market_events['finish_dt'] > df['event_dt'].min())]\n",
    "reg_camp"
   ]
  },
  {
   "cell_type": "markdown",
   "metadata": {},
   "source": [
    "Кампания, попавшая в тест, - рождественско-новогодняя промо-кампания для ЕС и США. При этом, ранее в активности пользователей по датам, уже было обнаружено, что еще до начала этой кампании пользовательская активность начала снижаться.\n",
    "\n",
    "Можно показать это наглядно на графике."
   ]
  },
  {
   "cell_type": "code",
   "execution_count": 51,
   "metadata": {},
   "outputs": [
    {
     "data": {
      "image/png": "[encoded data removed]"
     },
     "metadata": {},
     "output_type": "display_data"
    }
   ],
   "source": [
    "tmp=df.pivot_table(index=['event_dt','group'],values='event_name',aggfunc='count').reset_index()\n",
    "fig = px.line(tmp, x=\"event_dt\", y=[\"event_name\"],color='group')\n",
    "fig.update_layout(title='Количество событий в группах по дням исследования',\n",
    "                   xaxis_title='Дата',\n",
    "                   yaxis_title='Событие',\n",
    "                 legend_title_text='Группа')\n",
    "fig.add_vline(x='2020-12-25', line_width=3, line_dash=\"dash\", line_color=\"green\")\n",
    "fig.show(\"png\")"
   ]
  },
  {
   "cell_type": "markdown",
   "metadata": {},
   "source": [
    "Таким образом, маркетинговая кампания не оказала влияния на пользовательскую активность, поэтому нельзя говорить о том, что ее проведение может дополнительно к уже упомянутым факторам исказить результаты теста."
   ]
  },
  {
   "cell_type": "code",
   "execution_count": 52,
   "metadata": {},
   "outputs": [
    {
     "data": {
      "image/png": "[encoded data removed]"
     },
     "metadata": {},
     "output_type": "display_data"
    }
   ],
   "source": [
    "tmp=df.pivot_table(index=['event_dt','group'],values='details',aggfunc='sum').reset_index()\n",
    "fig = px.line(tmp, x=\"event_dt\", y=[\"details\"],color='group')\n",
    "fig.update_layout(title='Выручка групп теста по дням исследования',\n",
    "                   xaxis_title='Дата',\n",
    "                   yaxis_title='Выручка, долл.',\n",
    "                 legend_title_text='Группа')\n",
    "fig.add_vline(x='2020-12-25', line_width=3, line_dash=\"dash\", line_color=\"green\")\n",
    "fig.show(\"png\")"
   ]
  },
  {
   "cell_type": "markdown",
   "metadata": {},
   "source": [
    "Маркетинговая кампания также не оказала значительного влияния на выручку по группам. с 25 декабря и до конца зарегистрированной активности для контрольной группы она стабильно снижалась, а у тестовой группы был зарегистрирован незначительный всплеск выручки 27 декабря, после чего снижение продолжилось."
   ]
  },
  {
   "cell_type": "markdown",
   "metadata": {},
   "source": [
    "### Пользовательская воронка"
   ]
  },
  {
   "cell_type": "markdown",
   "metadata": {},
   "source": [
    "Для рассмотрения пользовательской активности также можно построить пользовательскую воронку по известным этапам движения клиента.\n",
    "\n",
    "При этом необходимо понимать, что в отдельных случаях сервис может иметь возможность покупки в 1 клик, и тогда пользователь будет пропускать этап с открытием корзины и из этапа просмотра карточки товара будет переходить сразу к этапу покупки."
   ]
  },
  {
   "cell_type": "code",
   "execution_count": 53,
   "metadata": {
    "scrolled": false
   },
   "outputs": [
    {
     "data": {
      "image/png": "[encoded data removed]"
     },
     "metadata": {},
     "output_type": "display_data"
    }
   ],
   "source": [
    "tmp=df.pivot_table(index=['event_name','group'],values='user_id',aggfunc='count').reset_index()\n",
    "tmp=tmp.reindex(index=[0,1,4,5,2,3,6,7])\n",
    "fig = px.funnel(tmp, x='user_id', y='event_name', color='group')\n",
    "fig.update_layout(title='Воронка пользовательских событий по группам',\n",
    "                   yaxis_title='Событие',\n",
    "                 legend_title_text='Группа')\n",
    "fig.update_traces(textinfo='value+percent previous', selector=dict(type='funnel'))\n",
    "fig.show(\"png\")"
   ]
  },
  {
   "cell_type": "markdown",
   "metadata": {},
   "source": [
    "Поскольку **стадия корзины не является обязательной** в прохождении клиентом, к ней приходит немногим меньше пользователей, чем на стадию покупки. Поэтому, можно перестроить воронку без нее."
   ]
  },
  {
   "cell_type": "code",
   "execution_count": 54,
   "metadata": {},
   "outputs": [
    {
     "data": {
      "image/png": "[encoded data removed]"
     },
     "metadata": {},
     "output_type": "display_data"
    }
   ],
   "source": [
    "fig = px.funnel(tmp.query('event_name != \"product_cart\"'), x='user_id', y='event_name', color='group')\n",
    "fig.update_layout(title='Воронка пользовательских событий по группам',\n",
    "                   yaxis_title='Событие',\n",
    "                 legend_title_text='Группа')\n",
    "fig.update_traces(textinfo='value+percent previous', selector=dict(type='funnel'))\n",
    "fig.show(\"png\")"
   ]
  },
  {
   "cell_type": "markdown",
   "metadata": {},
   "source": [
    "По сокращенной воронке мы видим, что **из всех залогинившихся** пользователей **карточку товара** просматривают **64% из группы А** и **54% из группы В**. На стадию **покупки** проходят **49% пользователей из группы А** и **50% пользователей из группы В**.\n",
    "\n",
    "Учитывая, что из вводных параметров теста следует, что **базовый уровень конверсии 50%**, и тест должен был показать **прирост в целевые 5% для тестовой группы**, воронка показывает **значительное расхождение**. \n",
    "\n",
    "Выходит, что **контрольная группа** показала конверсию на **первом** переходе **на 14% больше базовой**, а **тестовая группа - на 4%**. В обоих случаях это неисполнение целевых показателей: для **контрольной** группы **перевыполнение**, для **тестовой - недовыполнение**.\n",
    "\n",
    "**Второй** переход показал еще более искаженные результаты: для **контрольной** группы перешло на этап покупки **49% пользователей (на 1% меньше целевой конверсии)**, для **тестовой** на этап покупки перешло **50% пользователей (равный базовому показатель, недовыполнение целевого для теста на 5%)**.\n",
    "\n",
    "Таким образом, **пользовательская воронка** событий **дополняет** ранее обозначавшиеся серьезные **искажения в данных**."
   ]
  },
  {
   "cell_type": "markdown",
   "metadata": {},
   "source": [
    "### Выводы исследовательского анализа данных"
   ]
  },
  {
   "cell_type": "markdown",
   "metadata": {},
   "source": [
    "Исследовательский анализ данных показал, что **между тестовой и контрольной группой имеются серьезные расхождения**. Активные **пользователи между группами распределены неравномерно**: **75%** находятся в **контрольной** группе и только **25%** - в **тестовой** группе. При этом по **типам устройств** в обеих группах наблюдаются **примерно равные пропорции**.\n",
    "\n",
    "**Выручка** групп теста по дням также показывает **значительное расхождение**, причем **группа А** показывает более **резкие увеличения выручки в предрождественские дни**. После **22 декабря** дневная **выручка снижается**, показывая **небольшие всплески** в тестовой группе в районе **27 декабря**.\n",
    "\n",
    "В части **пользовательской активности** тестовая **группа В** также значительно **отстает** от контрольной **группы А**, показывая в 2 и более раз низкую активность.\n",
    "\n",
    "**Число событий в группе А** по дням значительно **выше, чем в группе В**, поскольку активных **пользователей** в контрольной группе примерно **в 3 (три) раза больше, чем в тестовой**. Одновременно с этим наблюдается **резкое увеличение активности в периоде с 14 по 21 декабря**, когда, скорее всего, пользователи из ЕС заказывали подарки на католическое Рождество. **С 22 декабря** и до последнего дня с зарегистрированной активностью **(30 декабря)** пользователи совершают все меньше и **меньше событий в обеих группах.**\n",
    "\n",
    "На время проведения теста приходится проведение **1 (одной) маркетинговой промо-кампании** в ЕС с **25 декабря 2020 года по 4 января 2021 года**. Несмотря на эту кампанию, **поведение** пользователей **не изменялось**, равно как не изменялась и их активность, имея **тенденцию к снижению** в периоде по 30 декабря. Выручка контрольной группы не была подвержения влиянию кампании, стабильно снижаясь, а для тестовой группы наблюдался один небольшой всплеск 27 декабря.\n",
    "\n",
    "**Пользовательская воронка** дополнительно наглядно показала значительную смещенность выборок групп пользователей, где 3/4 пользователей относятся к контрольной группе. При этом дополнительно было установлено, что не все пользователи доходят до этапа покупки, проходя через корзину покупок, в связи с чем **посещение корзины** было определено как **необязательный этап пользовательского пути**. Без этого этапа конверсия по воронке показала результаты, которые изначально **не предусматривались ТЗ**, а именно:\n",
    "* Для **контрольной** группы конверсия на этапе **\"вход в сервис - просмотр карточки твоара\"** составила **64%**, при установленном базовом показателе **50%**. Для **тестовой группы** на этом же этапе конверсия показала **54%** при ожидаемом эффекте новой системы рекомендаций **55%**.\n",
    "* На этапе **\"просмотр карточки товара - покупка** также были показаны **нестандартные** результаты. В **группе А** конверсия в этап составила **49%** при ожидаемых стандартных **50%**. В **группе В** конверсия в этап составила ровно **50%**, что соответствует **стандартной** и **не соответствует ожидаемому эффекту**.\n",
    "\n",
    "По итогам исследовательского анализа данных уже можно сказать о том, что дорогостоящий А/В-тест, который провела кампания, ввиду **большого количества ошибок** в формировании **выборки пользователей**, не увенчался успехом. Оказалось, что в тест были включены пользователи, половина из которых **не была активна вообще**, что сказалось на итоговых результатах."
   ]
  },
  {
   "cell_type": "markdown",
   "metadata": {},
   "source": [
    "## Оценка результатов А/В-теста"
   ]
  },
  {
   "cell_type": "markdown",
   "metadata": {},
   "source": [
    "Несмотря на то, что уже установлено, что проведенный АВ-тест имеет множество ошибок при отборе пользователей в тестовые группы, необходимо подсчитать статистические критерии для того, что есть в распоряжении без исправлений. \n",
    "\n",
    "Цель теста была следующей:\n",
    "Проверить, что за 14 дней с момента регистрации в системе пользователи покажут улучшение каждой метрики не менее, чем на 5 процентных пунктов:\n",
    "* конверсии в просмотр карточек товаров — событие product_page\n",
    "* просмотры корзины — product_cart\n",
    "* покупки — purchase.\n",
    "\n",
    "Как уже было установлено при исследовательском анализе, просмотр корзины не является обязательным этапом пользовательского пути, поэтому проверим статистические показатели для конверсии login - product_page и для конверсии product_page - purchase.\n",
    "\n",
    "На пользовательской воронке это уже показывалось наглядно, поэтому проведем дополнительные статистические тесты для подкрепления доводов, сделанных ранее."
   ]
  },
  {
   "cell_type": "markdown",
   "metadata": {},
   "source": [
    "### Проверка гипотезы о равенстве долей тестовых выборок"
   ]
  },
  {
   "cell_type": "markdown",
   "metadata": {},
   "source": [
    "В первую очередь проверим гипотезу о равенстве долей тестовых выборок. Если опустить ранее сделанные выводы исследовательского анализа данных, выведем две гипотезы для проверки и проверим, статистически ли значимы различия в конверсии между группами для этапа login - product_page и потом для этапа product_page - purchase.\n",
    "\n",
    "Н0: Конверсии этапа login - product_page для обеих групп равны\n",
    "\n",
    "Н1: Конверсии этапа login - product_page для обеих групп неравны"
   ]
  },
  {
   "cell_type": "code",
   "execution_count": 55,
   "metadata": {
    "scrolled": true
   },
   "outputs": [
    {
     "data": {
      "text/html": [
       "<div>\n",
       "<style scoped>\n",
       "    .dataframe tbody tr th:only-of-type {\n",
       "        vertical-align: middle;\n",
       "    }\n",
       "\n",
       "    .dataframe tbody tr th {\n",
       "        vertical-align: top;\n",
       "    }\n",
       "\n",
       "    .dataframe thead th {\n",
       "        text-align: right;\n",
       "    }\n",
       "</style>\n",
       "<table border=\"1\" class=\"dataframe\">\n",
       "  <thead>\n",
       "    <tr style=\"text-align: right;\">\n",
       "      <th></th>\n",
       "      <th>event_name</th>\n",
       "      <th>group</th>\n",
       "      <th>user_id</th>\n",
       "    </tr>\n",
       "  </thead>\n",
       "  <tbody>\n",
       "    <tr>\n",
       "      <th>0</th>\n",
       "      <td>login</td>\n",
       "      <td>A</td>\n",
       "      <td>7968</td>\n",
       "    </tr>\n",
       "    <tr>\n",
       "      <th>1</th>\n",
       "      <td>login</td>\n",
       "      <td>B</td>\n",
       "      <td>2345</td>\n",
       "    </tr>\n",
       "    <tr>\n",
       "      <th>4</th>\n",
       "      <td>product_page</td>\n",
       "      <td>A</td>\n",
       "      <td>5125</td>\n",
       "    </tr>\n",
       "    <tr>\n",
       "      <th>5</th>\n",
       "      <td>product_page</td>\n",
       "      <td>B</td>\n",
       "      <td>1257</td>\n",
       "    </tr>\n",
       "    <tr>\n",
       "      <th>6</th>\n",
       "      <td>purchase</td>\n",
       "      <td>A</td>\n",
       "      <td>2499</td>\n",
       "    </tr>\n",
       "    <tr>\n",
       "      <th>7</th>\n",
       "      <td>purchase</td>\n",
       "      <td>B</td>\n",
       "      <td>624</td>\n",
       "    </tr>\n",
       "  </tbody>\n",
       "</table>\n",
       "</div>"
      ],
      "text/plain": [
       "     event_name group  user_id\n",
       "0         login     A     7968\n",
       "1         login     B     2345\n",
       "4  product_page     A     5125\n",
       "5  product_page     B     1257\n",
       "6      purchase     A     2499\n",
       "7      purchase     B      624"
      ]
     },
     "execution_count": 55,
     "metadata": {},
     "output_type": "execute_result"
    }
   ],
   "source": [
    "# Построим сводную таблицу для оценки.\n",
    "funnel=df.pivot_table(index=['event_name','group'],values='user_id',aggfunc='count').reset_index().query('event_name != \"product_cart\"')\n",
    "funnel"
   ]
  },
  {
   "cell_type": "code",
   "execution_count": 56,
   "metadata": {
    "scrolled": true
   },
   "outputs": [
    {
     "name": "stdout",
     "output_type": "stream",
     "text": [
      "p-значение:  0.0\n",
      "Отвергаем нулевую гипотезу: между конверсиями есть значимая разница\n"
     ]
    }
   ],
   "source": [
    "alpha = 0.05/2  # Вводим поправку Бонферрони, поскольку рассматривается две гипотезы\n",
    "\n",
    "product_page = np.array([5125, 1257])\n",
    "login = np.array([7968, 2345])\n",
    "\n",
    "p1 = product_page[0]/login[0]\n",
    "p2 = product_page[1]/login[1]\n",
    "\n",
    "p_combined = (product_page[0] + product_page[1])/(login[0] + login[1])\n",
    "\n",
    "difference = p1 - p2\n",
    "\n",
    "z_value = difference/mth.sqrt(p_combined * (1 - p_combined) * (1/login[0] + 1/login[1]))\n",
    "distr = st.norm(0,1)\n",
    "\n",
    "p_value = (1 - distr.cdf(abs(z_value))) * 2 \n",
    "\n",
    "print('p-значение: ', p_value)\n",
    "\n",
    "if p_value < alpha: \n",
    "    print('Отвергаем нулевую гипотезу: между конверсиями есть значимая разница')\n",
    "else:\n",
    "    print(\n",
    "        'Не получилось отвергнуть нулевую гипотезу, нет оснований считать конверсии разными'\n",
    "    )"
   ]
  },
  {
   "cell_type": "markdown",
   "metadata": {},
   "source": [
    "Впрочем, это было показано уже пользовательской воронкой, и Z-тест дополнительно показал, что конверсии в группах на первом этапе серьезно отличаются.\n",
    "\n",
    "Проверим разницу в конверсиях на этапе product_page - purchase\n",
    "\n",
    "Н0: Конверсии этапа product_page - purchase для обеих групп равны\n",
    "\n",
    "Н1: Конверсии этапа product_page - purchase для обеих групп неравны"
   ]
  },
  {
   "cell_type": "code",
   "execution_count": 57,
   "metadata": {},
   "outputs": [
    {
     "name": "stdout",
     "output_type": "stream",
     "text": [
      "p-значение:  0.5755084094397782\n",
      "Не получилось отвергнуть нулевую гипотезу, нет оснований считать конверсии разными\n"
     ]
    }
   ],
   "source": [
    "alpha = 0.05/2  # Вводим поправку Бонферрони, поскольку рассматривается две гипотезы\n",
    "\n",
    "product_page = np.array([5125, 1257])\n",
    "purchase = np.array([2499, 624])\n",
    "\n",
    "p1 = purchase[0]/product_page[0]\n",
    "p2 = purchase[1]/product_page[1]\n",
    "\n",
    "p_combined = (purchase[0] + purchase[1])/(product_page[0] + product_page[1])\n",
    "\n",
    "difference = p1 - p2\n",
    "\n",
    "z_value = difference/mth.sqrt(p_combined * (1 - p_combined) * (1/product_page[0] + 1/product_page[1]))\n",
    "distr = st.norm(0,1)\n",
    "\n",
    "p_value = (1 - distr.cdf(abs(z_value))) * 2 \n",
    "\n",
    "print('p-значение: ', p_value)\n",
    "\n",
    "if p_value < alpha: \n",
    "    print('Отвергаем нулевую гипотезу: между конверсиями есть значимая разница')\n",
    "else:\n",
    "    print(\n",
    "        'Не получилось отвергнуть нулевую гипотезу, нет оснований считать конверсии разными'\n",
    "    )"
   ]
  },
  {
   "cell_type": "markdown",
   "metadata": {},
   "source": [
    "На втором этапе конверсии практически одинаковы, поэтому нельзя говорить о том, что в тестовой группе был достигнут результат, который закладывался при введении новой системы рекомендаций."
   ]
  },
  {
   "cell_type": "markdown",
   "metadata": {},
   "source": [
    "**Выводы по Z-тесту**\n",
    "\n",
    "Как было установлено, конверсии на первом этапе в контрольной и тестовой группе разные. Это было отображено на пользовательской воронке и подтверждено статистическим тестом.\n",
    "\n",
    "На втором этапе конверсии в контрольной и тестовой группах оказались статистически равными, на пользовательской воронке это также было отражено, и была установлена разница между ними в 1%.\n",
    "\n",
    "Поскольку тестовая группа испытывала новую систему рекомендаций, и ожидалось, что конверсия в этой группе будет на 5% больше, чем в контрольной, уже на данном этапе можно говорить о том, что цели введения новой системы рекомендаций достигнуты не были, и эксперимент можно признать неудачным.\n",
    "\n",
    "Однако, не стоит забывать о том, что данные для А/В-теста были собраны некорректно и было получено значительное смещение в сторону контрольной группы, в связи с чем данные самого теста, скорее всего, искажены."
   ]
  },
  {
   "cell_type": "markdown",
   "metadata": {},
   "source": [
    "### Выводы о проведенном А/В-тесте"
   ]
  },
  {
   "cell_type": "markdown",
   "metadata": {},
   "source": [
    "Подытоживая ранее проведенный исследовательский анализ данных, изучение активности пользователей, пользовательскую воронку и проведенный статистический тест равенства конверсий по группам, можно прийти к следующим выводам.\n",
    "\n",
    "В целом, **тест был проведен некорректно** на этапе **сбора данных** и **распределения** пользователей по группам.\n",
    "\n",
    "Активных пользователей в контрольной группе А оказалось в три раза больше, чем в тестовой группе. Сказался эффект от масштаба и конечные показатели контрольной группы оказались выше.\n",
    "\n",
    "Показатели конверсии в обеих группах в свою очередь показали странные результаты. **На первом этапе** перехода от входа в учетную запись сервиса до просмотра карточки продукта, **конверсия группы А (64%) оказалась выше, чем группы В (54%), и выше базового показателя 50%.**\n",
    "\n",
    "**На втором этапе** при переходе от просмотра карточки товара к покупке, **группа А** показала конверсию **49%**, а **группа В - 50%**. В обоих случаях эти результаты:\n",
    "* Весьма похожи друг на друга, что подтверждается статистическим тестом;\n",
    "* Не соответствуют базовому (50%) для группы А и целевому (55%) для группы В.\n",
    "\n",
    "Тест **нельзя считать успешным**, поскольку были нарушены принципы формирования тестовых выборок."
   ]
  },
  {
   "cell_type": "markdown",
   "metadata": {},
   "source": [
    "## Выводы"
   ]
  },
  {
   "cell_type": "markdown",
   "metadata": {},
   "source": [
    "Проведенный исследовательский анализ данных, а также проверка статистических гипотез показали **результаты** проведенного дорогостоящего **А/В-теста, отличные от ожидаемых** руководством компании.\n",
    "\n",
    "Были допущены **серьезные ошибки**, повлиявшие на оценку результатов теста:\n",
    "* Были некорректно отобраны пользователи в группы, что привело к тому, что из общей выборки **активных пользователей было около половины**;\n",
    "* Ввиду некорректного отбора были **неравномерно сформированы группы теста**, и на контрольную группу пришлось 75% всех активных пользователей;\n",
    "* **Не были собраны данные** за период **с 30 декабря 2020 года по 04 января 2021 года**, что нарушило сроки проведения теста.\n",
    "\n",
    "Дополнительно, было установлено, что **одновременно с тестом** новой системы рекомендаций, **проходил другой тест** нового интерфейса для того же целевого региона, и часть пользователей участвовала в обоих тестах, что **могло сказаться** на их активности.\n",
    "\n",
    "Значительный **\"перекос\" в количестве пользователей контрольной группы исказил** показатели активности пользователей по дням, а также графики их выручки и гистограмму распределения пользовательских событий.\n",
    "\n",
    "Проводимая во время теста **маркетинговая кампания не оказала значительного влияния** на пользовательскую активность и поведение, поскольку проходила с 25 декабря 2020 года, когда рождественские праздники в целевом регионе ЕС уже прошли, и люди уже приобрели подарки ранее.\n",
    "\n",
    "**Пользовательская воронка** позволила установить, что в активность пользователей включается **необязательный фактор - просмотр корзины**, что утяжеляет исследование пользовательской активности, создавая излишний \"шум\" в данных. Сокращенная воронка показала также значительное преобладание контрольной группы и неожиданные данные о конверсии по этапам. **На первом этапе** перехода от входа в учетную запись сервиса до просмотра карточки продукта, **конверсия группы А (64%) оказалась выше, чем группы В (54%), и выше базового показателя 50%.** На **втором этапе** при переходе от просмотра карточки товара к покупке, **группа А** показала конверсию **49%**, а **группа В - 50%**.\n",
    "\n",
    "**Статистический тест** равенства конверсий по группам дополнил наглядные данные воронки и доказал, что конверсии на первом этапе статистически разные, а на втором этапе - практически не отличаются.\n",
    "\n",
    "**По итогам анализа** можно заявить, что **проведенный А/В-тест неуспешен**, и по имеющимся показателям, **новая система** рекомендаций **не оправдала** возлагавшихся на нее ожиданий.\n",
    "\n",
    "**Рекомендации**:\n",
    "* Изменить подход к набору пользователей в группы теста, обеспечив отбор действительно активных пользователей (тех, кто совершил как минимум одно действие после регистрации в требуемый период);\n",
    "* Разграничить пользователей, попадающих в группы параллельных тестирований для исключения влияния сторонних факторов;\n",
    "* Дополнить данные об активности пользователей отсутствующим периодом с 30 декабря 2020 года по 04 января 2021 года;\n",
    "* Заново провести сегментацию пользователей по группам теста с учетом упомянутых выше рекомендаций;\n",
    "* Заново провести новый тест с учетом предыдущих рекомендаций."
   ]
  }
 ],
 "metadata": {
  "ExecuteTimeLog": [
   {
    "duration": 1273,
    "start_time": "2023-11-04T06:58:38.609Z"
   },
   {
    "duration": 82,
    "start_time": "2023-11-04T07:14:58.588Z"
   },
   {
    "duration": 203,
    "start_time": "2023-11-04T07:15:50.321Z"
   },
   {
    "duration": 743,
    "start_time": "2023-11-04T07:16:26.399Z"
   },
   {
    "duration": 88,
    "start_time": "2023-11-04T07:17:33.367Z"
   },
   {
    "duration": 13,
    "start_time": "2023-11-04T07:18:00.982Z"
   },
   {
    "duration": 7,
    "start_time": "2023-11-04T07:18:27.542Z"
   },
   {
    "duration": 11,
    "start_time": "2023-11-04T07:18:41.550Z"
   },
   {
    "duration": 8,
    "start_time": "2023-11-04T07:19:02.581Z"
   },
   {
    "duration": 10,
    "start_time": "2023-11-04T07:25:40.192Z"
   },
   {
    "duration": 12,
    "start_time": "2023-11-04T07:29:02.740Z"
   },
   {
    "duration": 13,
    "start_time": "2023-11-04T07:29:07.323Z"
   },
   {
    "duration": 10,
    "start_time": "2023-11-04T07:30:08.977Z"
   },
   {
    "duration": 29,
    "start_time": "2023-11-04T07:30:44.609Z"
   },
   {
    "duration": 12,
    "start_time": "2023-11-04T07:31:47.960Z"
   },
   {
    "duration": 72,
    "start_time": "2023-11-04T07:31:55.056Z"
   },
   {
    "duration": 89,
    "start_time": "2023-11-04T07:32:26.192Z"
   },
   {
    "duration": 12,
    "start_time": "2023-11-04T07:32:33.368Z"
   },
   {
    "duration": 50,
    "start_time": "2023-11-04T07:32:37.616Z"
   },
   {
    "duration": 59,
    "start_time": "2023-11-04T07:32:58.263Z"
   },
   {
    "duration": 8,
    "start_time": "2023-11-04T07:35:18.037Z"
   },
   {
    "duration": 5,
    "start_time": "2023-11-04T07:35:36.421Z"
   },
   {
    "duration": 10,
    "start_time": "2023-11-04T07:38:38.545Z"
   },
   {
    "duration": 5,
    "start_time": "2023-11-04T07:42:04.789Z"
   },
   {
    "duration": 51,
    "start_time": "2023-11-04T07:43:37.756Z"
   },
   {
    "duration": 11,
    "start_time": "2023-11-04T07:45:16.291Z"
   },
   {
    "duration": 17,
    "start_time": "2023-11-04T07:45:23.218Z"
   },
   {
    "duration": 7,
    "start_time": "2023-11-04T07:46:10.298Z"
   },
   {
    "duration": 13,
    "start_time": "2023-11-04T07:46:49.889Z"
   },
   {
    "duration": 6,
    "start_time": "2023-11-04T07:47:07.992Z"
   },
   {
    "duration": 12,
    "start_time": "2023-11-04T07:47:46.064Z"
   },
   {
    "duration": 13,
    "start_time": "2023-11-04T07:49:24.470Z"
   },
   {
    "duration": 36,
    "start_time": "2023-11-04T07:51:23.379Z"
   },
   {
    "duration": 7,
    "start_time": "2023-11-04T07:52:28.803Z"
   },
   {
    "duration": 7,
    "start_time": "2023-11-04T07:52:41.075Z"
   },
   {
    "duration": 103,
    "start_time": "2023-11-04T07:54:06.305Z"
   },
   {
    "duration": 21,
    "start_time": "2023-11-04T07:55:05.713Z"
   },
   {
    "duration": 16,
    "start_time": "2023-11-04T08:18:59.057Z"
   },
   {
    "duration": 210,
    "start_time": "2023-11-04T08:19:43.463Z"
   },
   {
    "duration": 172,
    "start_time": "2023-11-04T08:20:15.639Z"
   },
   {
    "duration": 24,
    "start_time": "2023-11-04T08:23:58.283Z"
   },
   {
    "duration": 13,
    "start_time": "2023-11-04T08:24:25.146Z"
   },
   {
    "duration": 49,
    "start_time": "2023-11-04T08:24:32.851Z"
   },
   {
    "duration": 99,
    "start_time": "2023-11-04T08:25:59.073Z"
   },
   {
    "duration": 7,
    "start_time": "2023-11-04T08:26:46.281Z"
   },
   {
    "duration": 15,
    "start_time": "2023-11-04T08:28:43.711Z"
   },
   {
    "duration": 66,
    "start_time": "2023-11-04T08:29:23.678Z"
   },
   {
    "duration": 9,
    "start_time": "2023-11-04T08:46:28.189Z"
   },
   {
    "duration": 1106,
    "start_time": "2023-11-04T08:55:29.966Z"
   },
   {
    "duration": 36,
    "start_time": "2023-11-04T08:55:33.491Z"
   },
   {
    "duration": 17,
    "start_time": "2023-11-04T08:55:35.363Z"
   },
   {
    "duration": 95,
    "start_time": "2023-11-04T08:55:45.027Z"
   },
   {
    "duration": 7,
    "start_time": "2023-11-04T08:55:47.794Z"
   },
   {
    "duration": 556,
    "start_time": "2023-11-04T09:05:13.489Z"
   },
   {
    "duration": 9,
    "start_time": "2023-11-04T09:05:15.840Z"
   },
   {
    "duration": 49,
    "start_time": "2023-11-04T09:07:10.918Z"
   },
   {
    "duration": 10,
    "start_time": "2023-11-04T09:07:15.199Z"
   },
   {
    "duration": 12,
    "start_time": "2023-11-04T09:11:43.930Z"
   },
   {
    "duration": 34,
    "start_time": "2023-11-04T09:11:46.018Z"
   },
   {
    "duration": 139,
    "start_time": "2023-11-04T09:11:48.089Z"
   },
   {
    "duration": 10,
    "start_time": "2023-11-04T09:14:04.039Z"
   },
   {
    "duration": 5,
    "start_time": "2023-11-04T09:20:27.169Z"
   },
   {
    "duration": 13,
    "start_time": "2023-11-04T09:21:21.320Z"
   },
   {
    "duration": 118,
    "start_time": "2023-11-04T09:22:11.462Z"
   },
   {
    "duration": 10,
    "start_time": "2023-11-04T09:22:29.752Z"
   },
   {
    "duration": 17,
    "start_time": "2023-11-04T09:22:47.038Z"
   },
   {
    "duration": 10,
    "start_time": "2023-11-04T09:24:32.032Z"
   },
   {
    "duration": 9,
    "start_time": "2023-11-04T09:24:35.228Z"
   },
   {
    "duration": 19,
    "start_time": "2023-11-04T09:25:47.155Z"
   },
   {
    "duration": 7,
    "start_time": "2023-11-04T09:26:13.426Z"
   },
   {
    "duration": 34,
    "start_time": "2023-11-04T09:34:48.882Z"
   },
   {
    "duration": 30,
    "start_time": "2023-11-04T09:35:09.544Z"
   },
   {
    "duration": 28,
    "start_time": "2023-11-04T09:35:12.761Z"
   },
   {
    "duration": 29,
    "start_time": "2023-11-04T09:35:27.209Z"
   },
   {
    "duration": 33,
    "start_time": "2023-11-04T09:35:45.801Z"
   },
   {
    "duration": 7,
    "start_time": "2023-11-04T09:39:48.758Z"
   },
   {
    "duration": 6,
    "start_time": "2023-11-04T09:40:02.836Z"
   },
   {
    "duration": 6,
    "start_time": "2023-11-04T09:40:08.268Z"
   },
   {
    "duration": 7,
    "start_time": "2023-11-04T09:40:12.563Z"
   },
   {
    "duration": 32,
    "start_time": "2023-11-04T09:41:38.756Z"
   },
   {
    "duration": 31,
    "start_time": "2023-11-04T09:42:10.186Z"
   },
   {
    "duration": 14,
    "start_time": "2023-11-04T09:43:26.969Z"
   },
   {
    "duration": 51,
    "start_time": "2023-11-04T09:43:42.840Z"
   },
   {
    "duration": 10,
    "start_time": "2023-11-04T09:43:59.976Z"
   },
   {
    "duration": 11,
    "start_time": "2023-11-04T09:44:25.688Z"
   },
   {
    "duration": 47,
    "start_time": "2023-11-04T09:44:45.312Z"
   },
   {
    "duration": 6,
    "start_time": "2023-11-04T09:44:59.111Z"
   },
   {
    "duration": 14,
    "start_time": "2023-11-04T09:47:55.604Z"
   },
   {
    "duration": 9,
    "start_time": "2023-11-04T09:51:21.224Z"
   },
   {
    "duration": 8,
    "start_time": "2023-11-04T09:52:32.751Z"
   },
   {
    "duration": 9,
    "start_time": "2023-11-04T09:52:39.407Z"
   },
   {
    "duration": 8,
    "start_time": "2023-11-04T10:00:21.776Z"
   },
   {
    "duration": 36,
    "start_time": "2023-11-04T10:01:19.526Z"
   },
   {
    "duration": 6,
    "start_time": "2023-11-04T10:01:27.391Z"
   },
   {
    "duration": 20,
    "start_time": "2023-11-04T10:01:31.374Z"
   },
   {
    "duration": 11,
    "start_time": "2023-11-04T10:01:40.525Z"
   },
   {
    "duration": 30,
    "start_time": "2023-11-04T10:02:25.038Z"
   },
   {
    "duration": 58,
    "start_time": "2023-11-04T10:07:28.880Z"
   },
   {
    "duration": 111,
    "start_time": "2023-11-04T10:07:39.087Z"
   },
   {
    "duration": 10,
    "start_time": "2023-11-04T10:08:12.952Z"
   },
   {
    "duration": 14,
    "start_time": "2023-11-04T10:08:20.607Z"
   },
   {
    "duration": 9,
    "start_time": "2023-11-04T10:08:42.295Z"
   },
   {
    "duration": 11,
    "start_time": "2023-11-04T10:12:10.420Z"
   },
   {
    "duration": 5,
    "start_time": "2023-11-04T10:12:24.163Z"
   },
   {
    "duration": 18,
    "start_time": "2023-11-04T10:22:07.306Z"
   },
   {
    "duration": 82,
    "start_time": "2023-11-04T10:24:28.184Z"
   },
   {
    "duration": 77,
    "start_time": "2023-11-04T10:24:35.350Z"
   },
   {
    "duration": 42,
    "start_time": "2023-11-04T10:25:05.879Z"
   },
   {
    "duration": 2,
    "start_time": "2023-11-04T10:25:21.598Z"
   },
   {
    "duration": 5,
    "start_time": "2023-11-04T10:25:25.108Z"
   },
   {
    "duration": 51,
    "start_time": "2023-11-04T10:25:28.007Z"
   },
   {
    "duration": 18,
    "start_time": "2023-11-04T10:25:48.108Z"
   },
   {
    "duration": 117,
    "start_time": "2023-11-04T10:26:09.142Z"
   },
   {
    "duration": 3,
    "start_time": "2023-11-04T10:26:20.156Z"
   },
   {
    "duration": 8,
    "start_time": "2023-11-04T10:58:30.226Z"
   },
   {
    "duration": 13,
    "start_time": "2023-11-04T10:58:36.256Z"
   },
   {
    "duration": 17,
    "start_time": "2023-11-04T10:58:39.462Z"
   },
   {
    "duration": 13,
    "start_time": "2023-11-04T10:58:42.909Z"
   },
   {
    "duration": 11,
    "start_time": "2023-11-04T10:58:46.667Z"
   },
   {
    "duration": 48,
    "start_time": "2023-11-04T11:03:58.215Z"
   },
   {
    "duration": 41,
    "start_time": "2023-11-04T11:15:19.188Z"
   },
   {
    "duration": 41,
    "start_time": "2023-11-04T11:17:20.970Z"
   },
   {
    "duration": 38,
    "start_time": "2023-11-04T11:18:28.048Z"
   },
   {
    "duration": 26,
    "start_time": "2023-11-04T11:18:31.209Z"
   },
   {
    "duration": 37,
    "start_time": "2023-11-04T11:19:02.097Z"
   },
   {
    "duration": 17,
    "start_time": "2023-11-04T11:19:05.180Z"
   },
   {
    "duration": 89,
    "start_time": "2023-11-04T11:20:28.527Z"
   },
   {
    "duration": 5,
    "start_time": "2023-11-04T11:22:56.197Z"
   },
   {
    "duration": 79,
    "start_time": "2023-11-04T11:26:46.544Z"
   },
   {
    "duration": 6,
    "start_time": "2023-11-04T11:27:08.526Z"
   },
   {
    "duration": 11,
    "start_time": "2023-11-04T11:27:40.902Z"
   },
   {
    "duration": 5,
    "start_time": "2023-11-04T11:27:44.438Z"
   },
   {
    "duration": 117,
    "start_time": "2023-11-04T11:28:22.086Z"
   },
   {
    "duration": 6,
    "start_time": "2023-11-04T11:28:24.453Z"
   },
   {
    "duration": 6,
    "start_time": "2023-11-04T11:28:53.853Z"
   },
   {
    "duration": 8,
    "start_time": "2023-11-04T11:28:58.493Z"
   },
   {
    "duration": 9,
    "start_time": "2023-11-04T11:29:11.886Z"
   },
   {
    "duration": 8,
    "start_time": "2023-11-04T11:29:15.678Z"
   },
   {
    "duration": 43,
    "start_time": "2023-11-04T11:29:18.461Z"
   },
   {
    "duration": 7,
    "start_time": "2023-11-04T11:29:23.070Z"
   },
   {
    "duration": 91,
    "start_time": "2023-11-04T11:29:27.069Z"
   },
   {
    "duration": 6,
    "start_time": "2023-11-04T11:29:29.892Z"
   },
   {
    "duration": 2151,
    "start_time": "2023-11-04T11:30:02.902Z"
   },
   {
    "duration": 91,
    "start_time": "2023-11-04T11:30:12.237Z"
   },
   {
    "duration": 894,
    "start_time": "2023-11-04T11:30:28.437Z"
   },
   {
    "duration": 7,
    "start_time": "2023-11-04T11:30:31.907Z"
   },
   {
    "duration": 13,
    "start_time": "2023-11-04T11:31:44.667Z"
   },
   {
    "duration": 14,
    "start_time": "2023-11-04T11:31:51.818Z"
   },
   {
    "duration": 13,
    "start_time": "2023-11-04T11:34:36.840Z"
   },
   {
    "duration": 11,
    "start_time": "2023-11-04T11:34:40.983Z"
   },
   {
    "duration": 356,
    "start_time": "2023-11-04T11:34:42.591Z"
   },
   {
    "duration": 18,
    "start_time": "2023-11-04T11:34:58.023Z"
   },
   {
    "duration": 17,
    "start_time": "2023-11-04T11:36:29.469Z"
   },
   {
    "duration": 378,
    "start_time": "2023-11-04T11:37:35.853Z"
   },
   {
    "duration": 67,
    "start_time": "2023-11-04T11:38:03.332Z"
   },
   {
    "duration": 66,
    "start_time": "2023-11-04T12:13:24.484Z"
   },
   {
    "duration": 69,
    "start_time": "2023-11-04T12:36:06.410Z"
   },
   {
    "duration": 14,
    "start_time": "2023-11-04T12:44:29.118Z"
   },
   {
    "duration": 13,
    "start_time": "2023-11-04T12:44:45.805Z"
   },
   {
    "duration": 166,
    "start_time": "2023-11-04T12:45:18.598Z"
   },
   {
    "duration": 120,
    "start_time": "2023-11-04T12:46:45.045Z"
   },
   {
    "duration": 31,
    "start_time": "2023-11-04T12:51:24.465Z"
   },
   {
    "duration": 4,
    "start_time": "2023-11-04T12:51:49.062Z"
   },
   {
    "duration": 5,
    "start_time": "2023-11-04T12:52:12.118Z"
   },
   {
    "duration": 32,
    "start_time": "2023-11-04T12:52:29.231Z"
   },
   {
    "duration": 33,
    "start_time": "2023-11-04T12:52:45.439Z"
   },
   {
    "duration": 35,
    "start_time": "2023-11-04T12:54:57.375Z"
   },
   {
    "duration": 69,
    "start_time": "2023-11-04T12:55:00.908Z"
   },
   {
    "duration": 4,
    "start_time": "2023-11-04T12:55:08.444Z"
   },
   {
    "duration": 18,
    "start_time": "2023-11-04T12:57:09.041Z"
   },
   {
    "duration": 19,
    "start_time": "2023-11-04T12:58:01.415Z"
   },
   {
    "duration": 1183,
    "start_time": "2023-11-04T12:58:32.956Z"
   },
   {
    "duration": 34,
    "start_time": "2023-11-04T12:58:34.141Z"
   },
   {
    "duration": 13,
    "start_time": "2023-11-04T12:58:34.177Z"
   },
   {
    "duration": 101,
    "start_time": "2023-11-04T12:58:34.192Z"
   },
   {
    "duration": 7,
    "start_time": "2023-11-04T12:58:34.295Z"
   },
   {
    "duration": 584,
    "start_time": "2023-11-04T12:58:34.304Z"
   },
   {
    "duration": 18,
    "start_time": "2023-11-04T12:58:34.890Z"
   },
   {
    "duration": 43,
    "start_time": "2023-11-04T12:58:34.910Z"
   },
   {
    "duration": 9,
    "start_time": "2023-11-04T12:58:34.955Z"
   },
   {
    "duration": 17,
    "start_time": "2023-11-04T12:58:34.966Z"
   },
   {
    "duration": 29,
    "start_time": "2023-11-04T12:58:34.985Z"
   },
   {
    "duration": 145,
    "start_time": "2023-11-04T12:58:35.015Z"
   },
   {
    "duration": 9,
    "start_time": "2023-11-04T12:58:35.162Z"
   },
   {
    "duration": 7,
    "start_time": "2023-11-04T12:58:35.174Z"
   },
   {
    "duration": 31,
    "start_time": "2023-11-04T12:58:35.183Z"
   },
   {
    "duration": 12,
    "start_time": "2023-11-04T12:58:35.216Z"
   },
   {
    "duration": 17,
    "start_time": "2023-11-04T12:58:35.229Z"
   },
   {
    "duration": 11,
    "start_time": "2023-11-04T12:58:35.247Z"
   },
   {
    "duration": 27,
    "start_time": "2023-11-04T12:58:35.259Z"
   },
   {
    "duration": 6,
    "start_time": "2023-11-04T12:58:35.306Z"
   },
   {
    "duration": 10,
    "start_time": "2023-11-04T12:58:35.313Z"
   },
   {
    "duration": 41,
    "start_time": "2023-11-04T12:58:35.324Z"
   },
   {
    "duration": 9,
    "start_time": "2023-11-04T12:58:35.366Z"
   },
   {
    "duration": 11,
    "start_time": "2023-11-04T12:58:35.377Z"
   },
   {
    "duration": 10,
    "start_time": "2023-11-04T12:58:35.406Z"
   },
   {
    "duration": 5,
    "start_time": "2023-11-04T12:58:35.418Z"
   },
   {
    "duration": 9,
    "start_time": "2023-11-04T12:58:35.425Z"
   },
   {
    "duration": 31,
    "start_time": "2023-11-04T12:58:35.435Z"
   },
   {
    "duration": 72,
    "start_time": "2023-11-04T12:58:35.468Z"
   },
   {
    "duration": 5,
    "start_time": "2023-11-04T12:58:35.541Z"
   },
   {
    "duration": 15,
    "start_time": "2023-11-04T12:58:35.547Z"
   },
   {
    "duration": 13,
    "start_time": "2023-11-04T12:58:35.564Z"
   },
   {
    "duration": 58,
    "start_time": "2023-11-04T12:58:35.578Z"
   },
   {
    "duration": 5,
    "start_time": "2023-11-04T12:58:35.638Z"
   },
   {
    "duration": 23,
    "start_time": "2023-11-04T12:58:35.644Z"
   },
   {
    "duration": 826,
    "start_time": "2023-11-04T12:58:35.668Z"
   },
   {
    "duration": 16,
    "start_time": "2023-11-04T12:58:36.496Z"
   },
   {
    "duration": 345,
    "start_time": "2023-11-04T12:58:36.514Z"
   },
   {
    "duration": 74,
    "start_time": "2023-11-04T12:58:36.861Z"
   },
   {
    "duration": 77,
    "start_time": "2023-11-04T12:58:36.936Z"
   },
   {
    "duration": 23,
    "start_time": "2023-11-04T12:58:37.016Z"
   },
   {
    "duration": 160,
    "start_time": "2023-11-04T12:58:37.040Z"
   },
   {
    "duration": 5,
    "start_time": "2023-11-04T12:58:37.202Z"
   },
   {
    "duration": 17,
    "start_time": "2023-11-04T12:58:40.673Z"
   },
   {
    "duration": 135,
    "start_time": "2023-11-04T13:00:17.472Z"
   },
   {
    "duration": 13,
    "start_time": "2023-11-04T13:00:21.957Z"
   },
   {
    "duration": 18,
    "start_time": "2023-11-04T13:00:27.053Z"
   },
   {
    "duration": 20,
    "start_time": "2023-11-04T13:00:44.157Z"
   },
   {
    "duration": 15,
    "start_time": "2023-11-04T13:02:12.756Z"
   },
   {
    "duration": 13,
    "start_time": "2023-11-04T13:02:56.499Z"
   },
   {
    "duration": 10,
    "start_time": "2023-11-04T13:04:12.306Z"
   },
   {
    "duration": 15,
    "start_time": "2023-11-04T13:05:04.771Z"
   },
   {
    "duration": 50,
    "start_time": "2023-11-04T13:05:08.841Z"
   },
   {
    "duration": 20,
    "start_time": "2023-11-04T13:06:08.907Z"
   },
   {
    "duration": 97,
    "start_time": "2023-11-04T13:06:14.408Z"
   },
   {
    "duration": 21,
    "start_time": "2023-11-04T13:06:34.592Z"
   },
   {
    "duration": 15,
    "start_time": "2023-11-04T13:06:51.384Z"
   },
   {
    "duration": 4,
    "start_time": "2023-11-04T13:09:00.429Z"
   },
   {
    "duration": 1203,
    "start_time": "2023-11-04T13:57:47.662Z"
   },
   {
    "duration": 36,
    "start_time": "2023-11-04T13:57:50.278Z"
   },
   {
    "duration": 12,
    "start_time": "2023-11-04T13:57:52.212Z"
   },
   {
    "duration": 95,
    "start_time": "2023-11-04T13:57:55.083Z"
   },
   {
    "duration": 8,
    "start_time": "2023-11-04T13:57:57.369Z"
   },
   {
    "duration": 598,
    "start_time": "2023-11-04T13:58:00.050Z"
   },
   {
    "duration": 9,
    "start_time": "2023-11-04T13:58:02.515Z"
   },
   {
    "duration": 47,
    "start_time": "2023-11-04T13:58:08.179Z"
   },
   {
    "duration": 10,
    "start_time": "2023-11-04T13:58:10.171Z"
   },
   {
    "duration": 1690,
    "start_time": "2023-11-04T13:59:23.834Z"
   },
   {
    "duration": 6318,
    "start_time": "2023-11-04T14:00:02.771Z"
   },
   {
    "duration": 34,
    "start_time": "2023-11-04T14:00:09.091Z"
   },
   {
    "duration": 64,
    "start_time": "2023-11-04T14:00:09.127Z"
   },
   {
    "duration": 130,
    "start_time": "2023-11-04T14:00:09.193Z"
   },
   {
    "duration": 7,
    "start_time": "2023-11-04T14:00:09.325Z"
   },
   {
    "duration": 579,
    "start_time": "2023-11-04T14:00:09.334Z"
   },
   {
    "duration": 8,
    "start_time": "2023-11-04T14:00:09.915Z"
   },
   {
    "duration": 61,
    "start_time": "2023-11-04T14:00:09.925Z"
   },
   {
    "duration": 17,
    "start_time": "2023-11-04T14:00:09.987Z"
   },
   {
    "duration": 1812,
    "start_time": "2023-11-04T14:00:13.457Z"
   },
   {
    "duration": 1764,
    "start_time": "2023-11-04T14:00:24.808Z"
   },
   {
    "duration": 11,
    "start_time": "2023-11-04T14:00:26.574Z"
   },
   {
    "duration": 39,
    "start_time": "2023-11-04T14:00:26.586Z"
   },
   {
    "duration": 9,
    "start_time": "2023-11-04T14:00:26.627Z"
   },
   {
    "duration": 11,
    "start_time": "2023-11-04T14:00:26.638Z"
   },
   {
    "duration": 24,
    "start_time": "2023-11-04T14:00:26.651Z"
   },
   {
    "duration": 21,
    "start_time": "2023-11-04T14:00:26.676Z"
   },
   {
    "duration": 23,
    "start_time": "2023-11-04T14:00:26.699Z"
   },
   {
    "duration": 15,
    "start_time": "2023-11-04T14:00:26.723Z"
   },
   {
    "duration": 27,
    "start_time": "2023-11-04T14:00:26.741Z"
   },
   {
    "duration": 28,
    "start_time": "2023-11-04T14:00:26.770Z"
   },
   {
    "duration": 43,
    "start_time": "2023-11-04T14:00:26.800Z"
   },
   {
    "duration": 60,
    "start_time": "2023-11-04T14:00:26.845Z"
   },
   {
    "duration": 11,
    "start_time": "2023-11-04T14:00:26.907Z"
   },
   {
    "duration": 42,
    "start_time": "2023-11-04T14:00:26.920Z"
   },
   {
    "duration": 29,
    "start_time": "2023-11-04T14:00:26.964Z"
   },
   {
    "duration": 62,
    "start_time": "2023-11-04T14:00:26.995Z"
   },
   {
    "duration": 25,
    "start_time": "2023-11-04T14:00:27.059Z"
   },
   {
    "duration": 40,
    "start_time": "2023-11-04T14:00:27.086Z"
   },
   {
    "duration": 47,
    "start_time": "2023-11-04T14:00:27.128Z"
   },
   {
    "duration": 10,
    "start_time": "2023-11-04T14:00:27.177Z"
   },
   {
    "duration": 50,
    "start_time": "2023-11-04T14:00:27.189Z"
   },
   {
    "duration": 10,
    "start_time": "2023-11-04T14:00:27.241Z"
   },
   {
    "duration": 72,
    "start_time": "2023-11-04T14:00:27.253Z"
   },
   {
    "duration": 6,
    "start_time": "2023-11-04T14:00:27.327Z"
   },
   {
    "duration": 41,
    "start_time": "2023-11-04T14:00:27.334Z"
   },
   {
    "duration": 763,
    "start_time": "2023-11-04T14:00:27.376Z"
   },
   {
    "duration": 15,
    "start_time": "2023-11-04T14:00:28.142Z"
   },
   {
    "duration": 339,
    "start_time": "2023-11-04T14:00:28.159Z"
   },
   {
    "duration": 42,
    "start_time": "2023-11-04T14:00:28.500Z"
   },
   {
    "duration": 211,
    "start_time": "2023-11-04T14:00:28.544Z"
   },
   {
    "duration": 4,
    "start_time": "2023-11-04T14:00:28.756Z"
   },
   {
    "duration": 37,
    "start_time": "2023-11-04T14:00:28.762Z"
   },
   {
    "duration": 32,
    "start_time": "2023-11-04T14:00:28.800Z"
   },
   {
    "duration": 14,
    "start_time": "2023-11-04T14:02:58.263Z"
   },
   {
    "duration": 15,
    "start_time": "2023-11-04T14:03:08.798Z"
   },
   {
    "duration": 31,
    "start_time": "2023-11-04T14:04:09.261Z"
   },
   {
    "duration": 674,
    "start_time": "2023-11-04T14:06:44.514Z"
   },
   {
    "duration": 16,
    "start_time": "2023-11-04T14:07:22.858Z"
   },
   {
    "duration": 1581,
    "start_time": "2023-11-04T18:46:45.872Z"
   },
   {
    "duration": 90,
    "start_time": "2023-11-04T18:46:47.455Z"
   },
   {
    "duration": 14,
    "start_time": "2023-11-04T18:46:47.547Z"
   },
   {
    "duration": 205,
    "start_time": "2023-11-04T18:46:47.563Z"
   },
   {
    "duration": 9,
    "start_time": "2023-11-04T18:46:47.771Z"
   },
   {
    "duration": 857,
    "start_time": "2023-11-04T18:46:47.782Z"
   },
   {
    "duration": 10,
    "start_time": "2023-11-04T18:46:48.641Z"
   },
   {
    "duration": 104,
    "start_time": "2023-11-04T18:46:48.653Z"
   },
   {
    "duration": 15,
    "start_time": "2023-11-04T18:46:48.759Z"
   },
   {
    "duration": 2197,
    "start_time": "2023-11-04T18:46:48.776Z"
   },
   {
    "duration": 14,
    "start_time": "2023-11-04T18:46:50.975Z"
   },
   {
    "duration": 70,
    "start_time": "2023-11-04T18:46:50.991Z"
   },
   {
    "duration": 100,
    "start_time": "2023-11-04T18:46:51.063Z"
   },
   {
    "duration": 32,
    "start_time": "2023-11-04T18:46:51.167Z"
   },
   {
    "duration": 48,
    "start_time": "2023-11-04T18:46:51.201Z"
   },
   {
    "duration": 97,
    "start_time": "2023-11-04T18:46:51.252Z"
   },
   {
    "duration": 51,
    "start_time": "2023-11-04T18:46:51.351Z"
   },
   {
    "duration": 15,
    "start_time": "2023-11-04T18:46:51.404Z"
   },
   {
    "duration": 55,
    "start_time": "2023-11-04T18:46:51.421Z"
   },
   {
    "duration": 6,
    "start_time": "2023-11-04T18:46:51.478Z"
   },
   {
    "duration": 28,
    "start_time": "2023-11-04T18:46:51.486Z"
   },
   {
    "duration": 98,
    "start_time": "2023-11-04T18:46:51.516Z"
   },
   {
    "duration": 14,
    "start_time": "2023-11-04T18:46:51.616Z"
   },
   {
    "duration": 49,
    "start_time": "2023-11-04T18:46:51.632Z"
   },
   {
    "duration": 28,
    "start_time": "2023-11-04T18:46:51.683Z"
   },
   {
    "duration": 9,
    "start_time": "2023-11-04T18:46:51.713Z"
   },
   {
    "duration": 118,
    "start_time": "2023-11-04T18:46:51.724Z"
   },
   {
    "duration": 57,
    "start_time": "2023-11-04T18:46:51.844Z"
   },
   {
    "duration": 180,
    "start_time": "2023-11-04T18:46:51.903Z"
   },
   {
    "duration": 6,
    "start_time": "2023-11-04T18:46:52.085Z"
   },
   {
    "duration": 32,
    "start_time": "2023-11-04T18:46:52.093Z"
   },
   {
    "duration": 12,
    "start_time": "2023-11-04T18:46:52.127Z"
   },
   {
    "duration": 56,
    "start_time": "2023-11-04T18:46:52.141Z"
   },
   {
    "duration": 8,
    "start_time": "2023-11-04T18:46:52.199Z"
   },
   {
    "duration": 8,
    "start_time": "2023-11-04T18:46:52.224Z"
   },
   {
    "duration": 921,
    "start_time": "2023-11-04T18:46:52.235Z"
   },
   {
    "duration": 19,
    "start_time": "2023-11-04T18:46:53.157Z"
   },
   {
    "duration": 439,
    "start_time": "2023-11-04T18:46:53.178Z"
   },
   {
    "duration": 47,
    "start_time": "2023-11-04T18:46:53.621Z"
   },
   {
    "duration": 221,
    "start_time": "2023-11-04T18:46:53.723Z"
   },
   {
    "duration": 5,
    "start_time": "2023-11-04T18:46:53.948Z"
   },
   {
    "duration": 34,
    "start_time": "2023-11-04T18:46:53.954Z"
   },
   {
    "duration": 32,
    "start_time": "2023-11-04T18:46:53.991Z"
   },
   {
    "duration": 56,
    "start_time": "2023-11-04T18:46:54.025Z"
   },
   {
    "duration": 776,
    "start_time": "2023-11-04T18:46:54.083Z"
   },
   {
    "duration": 17,
    "start_time": "2023-11-04T18:46:54.860Z"
   },
   {
    "duration": 28,
    "start_time": "2023-11-04T18:50:48.122Z"
   },
   {
    "duration": 36,
    "start_time": "2023-11-04T18:55:22.182Z"
   },
   {
    "duration": 148,
    "start_time": "2023-11-04T18:56:40.717Z"
   },
   {
    "duration": 120,
    "start_time": "2023-11-04T18:59:05.075Z"
   },
   {
    "duration": 31,
    "start_time": "2023-11-04T19:09:48.645Z"
   },
   {
    "duration": 88,
    "start_time": "2023-11-04T19:11:23.375Z"
   },
   {
    "duration": 87,
    "start_time": "2023-11-04T19:12:02.814Z"
   },
   {
    "duration": 19,
    "start_time": "2023-11-04T19:18:31.088Z"
   },
   {
    "duration": 35,
    "start_time": "2023-11-04T19:19:07.214Z"
   },
   {
    "duration": 214,
    "start_time": "2023-11-04T19:21:09.285Z"
   },
   {
    "duration": 416,
    "start_time": "2023-11-04T19:21:50.184Z"
   },
   {
    "duration": 94,
    "start_time": "2023-11-04T19:22:26.382Z"
   },
   {
    "duration": 83,
    "start_time": "2023-11-04T19:22:36.997Z"
   },
   {
    "duration": 175,
    "start_time": "2023-11-04T19:23:36.819Z"
   },
   {
    "duration": 306,
    "start_time": "2023-11-04T19:25:57.448Z"
   },
   {
    "duration": 213,
    "start_time": "2023-11-04T19:27:30.784Z"
   },
   {
    "duration": 206,
    "start_time": "2023-11-04T19:27:36.239Z"
   },
   {
    "duration": 276,
    "start_time": "2023-11-04T19:27:56.359Z"
   },
   {
    "duration": 245,
    "start_time": "2023-11-04T19:28:11.799Z"
   },
   {
    "duration": 101,
    "start_time": "2023-11-04T19:28:15.164Z"
   },
   {
    "duration": 176,
    "start_time": "2023-11-04T19:28:24.141Z"
   },
   {
    "duration": 299,
    "start_time": "2023-11-04T19:28:30.505Z"
   },
   {
    "duration": 90,
    "start_time": "2023-11-04T19:28:48.141Z"
   },
   {
    "duration": 293,
    "start_time": "2023-11-04T19:28:52.580Z"
   },
   {
    "duration": 6518,
    "start_time": "2023-11-04T19:34:30.657Z"
   },
   {
    "duration": 503,
    "start_time": "2023-11-04T19:35:02.903Z"
   },
   {
    "duration": 20,
    "start_time": "2023-11-04T19:38:18.991Z"
   },
   {
    "duration": 106,
    "start_time": "2023-11-04T19:39:11.267Z"
   },
   {
    "duration": 13,
    "start_time": "2023-11-04T19:53:20.380Z"
   },
   {
    "duration": 22,
    "start_time": "2023-11-04T19:53:26.883Z"
   },
   {
    "duration": 168,
    "start_time": "2023-11-04T19:59:41.302Z"
   },
   {
    "duration": 12,
    "start_time": "2023-11-04T20:00:19.270Z"
   },
   {
    "duration": 15,
    "start_time": "2023-11-04T20:00:21.567Z"
   },
   {
    "duration": 363,
    "start_time": "2023-11-04T20:01:19.606Z"
   },
   {
    "duration": 151,
    "start_time": "2023-11-04T20:03:19.434Z"
   },
   {
    "duration": 476,
    "start_time": "2023-11-04T20:03:28.139Z"
   },
   {
    "duration": 877,
    "start_time": "2023-11-04T20:03:57.787Z"
   },
   {
    "duration": 136,
    "start_time": "2023-11-04T20:04:13.139Z"
   },
   {
    "duration": 247,
    "start_time": "2023-11-04T20:04:31.461Z"
   },
   {
    "duration": 160,
    "start_time": "2023-11-04T20:06:20.394Z"
   },
   {
    "duration": 257,
    "start_time": "2023-11-04T20:06:30.841Z"
   },
   {
    "duration": 140,
    "start_time": "2023-11-04T20:06:48.336Z"
   },
   {
    "duration": 246,
    "start_time": "2023-11-04T20:07:01.496Z"
   },
   {
    "duration": 133,
    "start_time": "2023-11-04T20:07:21.575Z"
   },
   {
    "duration": 13,
    "start_time": "2023-11-04T20:08:51.549Z"
   },
   {
    "duration": 260,
    "start_time": "2023-11-04T20:09:00.079Z"
   },
   {
    "duration": 136,
    "start_time": "2023-11-04T20:09:13.574Z"
   },
   {
    "duration": 246,
    "start_time": "2023-11-04T20:09:31.470Z"
   },
   {
    "duration": 131,
    "start_time": "2023-11-04T20:10:02.774Z"
   },
   {
    "duration": 12,
    "start_time": "2023-11-04T20:10:23.901Z"
   },
   {
    "duration": 17,
    "start_time": "2023-11-04T20:10:30.822Z"
   },
   {
    "duration": 13,
    "start_time": "2023-11-04T20:11:42.741Z"
   },
   {
    "duration": 158,
    "start_time": "2023-11-04T20:11:55.802Z"
   },
   {
    "duration": 128,
    "start_time": "2023-11-04T20:12:04.131Z"
   },
   {
    "duration": 1367,
    "start_time": "2023-11-04T20:12:25.415Z"
   },
   {
    "duration": 35,
    "start_time": "2023-11-04T20:12:26.784Z"
   },
   {
    "duration": 28,
    "start_time": "2023-11-04T20:12:26.822Z"
   },
   {
    "duration": 105,
    "start_time": "2023-11-04T20:12:26.852Z"
   },
   {
    "duration": 12,
    "start_time": "2023-11-04T20:12:26.958Z"
   },
   {
    "duration": 603,
    "start_time": "2023-11-04T20:12:26.972Z"
   },
   {
    "duration": 8,
    "start_time": "2023-11-04T20:12:27.577Z"
   },
   {
    "duration": 46,
    "start_time": "2023-11-04T20:12:27.587Z"
   },
   {
    "duration": 11,
    "start_time": "2023-11-04T20:12:27.635Z"
   },
   {
    "duration": 2244,
    "start_time": "2023-11-04T20:12:27.648Z"
   },
   {
    "duration": 11,
    "start_time": "2023-11-04T20:12:29.894Z"
   },
   {
    "duration": 58,
    "start_time": "2023-11-04T20:12:29.907Z"
   },
   {
    "duration": 13,
    "start_time": "2023-11-04T20:12:29.968Z"
   },
   {
    "duration": 19,
    "start_time": "2023-11-04T20:12:29.983Z"
   },
   {
    "duration": 33,
    "start_time": "2023-11-04T20:12:30.004Z"
   },
   {
    "duration": 47,
    "start_time": "2023-11-04T20:12:30.040Z"
   },
   {
    "duration": 49,
    "start_time": "2023-11-04T20:12:30.089Z"
   },
   {
    "duration": 11,
    "start_time": "2023-11-04T20:12:30.141Z"
   },
   {
    "duration": 21,
    "start_time": "2023-11-04T20:12:30.153Z"
   },
   {
    "duration": 6,
    "start_time": "2023-11-04T20:12:30.176Z"
   },
   {
    "duration": 24,
    "start_time": "2023-11-04T20:12:30.184Z"
   },
   {
    "duration": 83,
    "start_time": "2023-11-04T20:12:30.210Z"
   },
   {
    "duration": 13,
    "start_time": "2023-11-04T20:12:30.295Z"
   },
   {
    "duration": 47,
    "start_time": "2023-11-04T20:12:30.309Z"
   },
   {
    "duration": 30,
    "start_time": "2023-11-04T20:12:30.359Z"
   },
   {
    "duration": 52,
    "start_time": "2023-11-04T20:12:30.392Z"
   },
   {
    "duration": 45,
    "start_time": "2023-11-04T20:12:30.446Z"
   },
   {
    "duration": 59,
    "start_time": "2023-11-04T20:12:30.495Z"
   },
   {
    "duration": 97,
    "start_time": "2023-11-04T20:12:30.556Z"
   },
   {
    "duration": 5,
    "start_time": "2023-11-04T20:12:30.655Z"
   },
   {
    "duration": 58,
    "start_time": "2023-11-04T20:12:30.661Z"
   },
   {
    "duration": 36,
    "start_time": "2023-11-04T20:12:30.721Z"
   },
   {
    "duration": 85,
    "start_time": "2023-11-04T20:12:30.759Z"
   },
   {
    "duration": 11,
    "start_time": "2023-11-04T20:12:30.845Z"
   },
   {
    "duration": 29,
    "start_time": "2023-11-04T20:12:30.859Z"
   },
   {
    "duration": 1027,
    "start_time": "2023-11-04T20:12:30.889Z"
   },
   {
    "duration": 26,
    "start_time": "2023-11-04T20:12:31.918Z"
   },
   {
    "duration": 540,
    "start_time": "2023-11-04T20:12:31.947Z"
   },
   {
    "duration": 138,
    "start_time": "2023-11-04T20:12:32.489Z"
   },
   {
    "duration": 334,
    "start_time": "2023-11-04T20:12:32.631Z"
   },
   {
    "duration": 52,
    "start_time": "2023-11-04T20:12:32.967Z"
   },
   {
    "duration": 115,
    "start_time": "2023-11-04T20:12:33.021Z"
   },
   {
    "duration": 69,
    "start_time": "2023-11-04T20:12:33.138Z"
   },
   {
    "duration": 146,
    "start_time": "2023-11-04T20:12:33.209Z"
   },
   {
    "duration": 817,
    "start_time": "2023-11-04T20:12:33.357Z"
   },
   {
    "duration": 17,
    "start_time": "2023-11-04T20:12:34.177Z"
   },
   {
    "duration": 103,
    "start_time": "2023-11-04T20:12:34.196Z"
   },
   {
    "duration": 92,
    "start_time": "2023-11-04T20:12:34.301Z"
   },
   {
    "duration": 19,
    "start_time": "2023-11-04T20:12:34.394Z"
   },
   {
    "duration": 50,
    "start_time": "2023-11-04T20:12:34.425Z"
   },
   {
    "duration": 73,
    "start_time": "2023-11-04T20:12:34.477Z"
   },
   {
    "duration": 12,
    "start_time": "2023-11-04T20:12:43.867Z"
   },
   {
    "duration": 20,
    "start_time": "2023-11-04T20:12:46.059Z"
   },
   {
    "duration": 2081,
    "start_time": "2023-11-04T20:14:35.818Z"
   },
   {
    "duration": 110,
    "start_time": "2023-11-04T20:14:50.809Z"
   },
   {
    "duration": 71,
    "start_time": "2023-11-04T20:15:09.528Z"
   },
   {
    "duration": 82,
    "start_time": "2023-11-04T20:17:18.695Z"
   },
   {
    "duration": 75,
    "start_time": "2023-11-04T20:17:54.086Z"
   },
   {
    "duration": 80,
    "start_time": "2023-11-04T20:18:09.814Z"
   },
   {
    "duration": 73,
    "start_time": "2023-11-04T20:18:22.485Z"
   },
   {
    "duration": 71,
    "start_time": "2023-11-04T20:18:28.549Z"
   },
   {
    "duration": 234,
    "start_time": "2023-11-04T20:18:44.415Z"
   },
   {
    "duration": 1306,
    "start_time": "2023-11-04T20:19:53.362Z"
   },
   {
    "duration": 38,
    "start_time": "2023-11-04T20:19:54.670Z"
   },
   {
    "duration": 14,
    "start_time": "2023-11-04T20:19:54.711Z"
   },
   {
    "duration": 92,
    "start_time": "2023-11-04T20:19:54.726Z"
   },
   {
    "duration": 8,
    "start_time": "2023-11-04T20:19:54.820Z"
   },
   {
    "duration": 625,
    "start_time": "2023-11-04T20:19:54.830Z"
   },
   {
    "duration": 9,
    "start_time": "2023-11-04T20:19:55.457Z"
   },
   {
    "duration": 58,
    "start_time": "2023-11-04T20:19:55.468Z"
   },
   {
    "duration": 12,
    "start_time": "2023-11-04T20:19:55.528Z"
   },
   {
    "duration": 2083,
    "start_time": "2023-11-04T20:19:55.541Z"
   },
   {
    "duration": 13,
    "start_time": "2023-11-04T20:19:57.626Z"
   },
   {
    "duration": 29,
    "start_time": "2023-11-04T20:19:57.641Z"
   },
   {
    "duration": 15,
    "start_time": "2023-11-04T20:19:57.672Z"
   },
   {
    "duration": 5,
    "start_time": "2023-11-04T20:19:57.725Z"
   },
   {
    "duration": 15,
    "start_time": "2023-11-04T20:19:57.732Z"
   },
   {
    "duration": 41,
    "start_time": "2023-11-04T20:19:57.749Z"
   },
   {
    "duration": 19,
    "start_time": "2023-11-04T20:19:57.792Z"
   },
   {
    "duration": 25,
    "start_time": "2023-11-04T20:19:57.813Z"
   },
   {
    "duration": 23,
    "start_time": "2023-11-04T20:19:57.840Z"
   },
   {
    "duration": 6,
    "start_time": "2023-11-04T20:19:57.865Z"
   },
   {
    "duration": 22,
    "start_time": "2023-11-04T20:19:57.874Z"
   },
   {
    "duration": 59,
    "start_time": "2023-11-04T20:19:57.898Z"
   },
   {
    "duration": 12,
    "start_time": "2023-11-04T20:19:57.958Z"
   },
   {
    "duration": 13,
    "start_time": "2023-11-04T20:19:57.972Z"
   },
   {
    "duration": 8,
    "start_time": "2023-11-04T20:19:57.986Z"
   },
   {
    "duration": 31,
    "start_time": "2023-11-04T20:19:57.996Z"
   },
   {
    "duration": 9,
    "start_time": "2023-11-04T20:19:58.029Z"
   },
   {
    "duration": 49,
    "start_time": "2023-11-04T20:19:58.040Z"
   },
   {
    "duration": 88,
    "start_time": "2023-11-04T20:19:58.091Z"
   },
   {
    "duration": 30,
    "start_time": "2023-11-04T20:19:58.182Z"
   },
   {
    "duration": 59,
    "start_time": "2023-11-04T20:19:58.214Z"
   },
   {
    "duration": 70,
    "start_time": "2023-11-04T20:19:58.275Z"
   },
   {
    "duration": 74,
    "start_time": "2023-11-04T20:19:58.347Z"
   },
   {
    "duration": 8,
    "start_time": "2023-11-04T20:19:58.423Z"
   },
   {
    "duration": 32,
    "start_time": "2023-11-04T20:19:58.433Z"
   },
   {
    "duration": 826,
    "start_time": "2023-11-04T20:19:58.467Z"
   },
   {
    "duration": 30,
    "start_time": "2023-11-04T20:19:59.295Z"
   },
   {
    "duration": 382,
    "start_time": "2023-11-04T20:19:59.327Z"
   },
   {
    "duration": 116,
    "start_time": "2023-11-04T20:19:59.712Z"
   },
   {
    "duration": 217,
    "start_time": "2023-11-04T20:19:59.830Z"
   },
   {
    "duration": 5,
    "start_time": "2023-11-04T20:20:00.050Z"
   },
   {
    "duration": 77,
    "start_time": "2023-11-04T20:20:00.057Z"
   },
   {
    "duration": 48,
    "start_time": "2023-11-04T20:20:00.137Z"
   },
   {
    "duration": 46,
    "start_time": "2023-11-04T20:20:03.709Z"
   },
   {
    "duration": 836,
    "start_time": "2023-11-04T20:20:06.149Z"
   },
   {
    "duration": 18,
    "start_time": "2023-11-04T20:20:09.928Z"
   },
   {
    "duration": 84,
    "start_time": "2023-11-04T20:20:12.122Z"
   },
   {
    "duration": 89,
    "start_time": "2023-11-04T20:20:15.099Z"
   },
   {
    "duration": 26,
    "start_time": "2023-11-04T20:20:20.612Z"
   },
   {
    "duration": 29,
    "start_time": "2023-11-04T20:20:22.715Z"
   },
   {
    "duration": 69,
    "start_time": "2023-11-04T20:20:25.291Z"
   },
   {
    "duration": 13,
    "start_time": "2023-11-04T20:20:28.980Z"
   },
   {
    "duration": 18,
    "start_time": "2023-11-04T20:20:31.100Z"
   },
   {
    "duration": 1225,
    "start_time": "2023-11-05T06:35:23.962Z"
   },
   {
    "duration": 71,
    "start_time": "2023-11-05T06:35:25.189Z"
   },
   {
    "duration": 12,
    "start_time": "2023-11-05T06:35:25.261Z"
   },
   {
    "duration": 190,
    "start_time": "2023-11-05T06:35:25.274Z"
   },
   {
    "duration": 9,
    "start_time": "2023-11-05T06:35:25.465Z"
   },
   {
    "duration": 721,
    "start_time": "2023-11-05T06:35:25.475Z"
   },
   {
    "duration": 9,
    "start_time": "2023-11-05T06:35:26.197Z"
   },
   {
    "duration": 90,
    "start_time": "2023-11-05T06:35:26.207Z"
   },
   {
    "duration": 9,
    "start_time": "2023-11-05T06:35:26.299Z"
   },
   {
    "duration": 1925,
    "start_time": "2023-11-05T06:35:26.310Z"
   },
   {
    "duration": 12,
    "start_time": "2023-11-05T06:35:28.237Z"
   },
   {
    "duration": 51,
    "start_time": "2023-11-05T06:35:28.251Z"
   },
   {
    "duration": 13,
    "start_time": "2023-11-05T06:35:28.304Z"
   },
   {
    "duration": 6,
    "start_time": "2023-11-05T06:35:28.319Z"
   },
   {
    "duration": 17,
    "start_time": "2023-11-05T06:35:28.326Z"
   },
   {
    "duration": 25,
    "start_time": "2023-11-05T06:35:28.345Z"
   },
   {
    "duration": 35,
    "start_time": "2023-11-05T06:35:28.371Z"
   },
   {
    "duration": 11,
    "start_time": "2023-11-05T06:35:28.408Z"
   },
   {
    "duration": 21,
    "start_time": "2023-11-05T06:35:28.421Z"
   },
   {
    "duration": 7,
    "start_time": "2023-11-05T06:35:28.443Z"
   },
   {
    "duration": 10,
    "start_time": "2023-11-05T06:35:28.452Z"
   },
   {
    "duration": 80,
    "start_time": "2023-11-05T06:35:28.464Z"
   },
   {
    "duration": 14,
    "start_time": "2023-11-05T06:35:28.547Z"
   },
   {
    "duration": 15,
    "start_time": "2023-11-05T06:35:28.563Z"
   },
   {
    "duration": 8,
    "start_time": "2023-11-05T06:35:28.602Z"
   },
   {
    "duration": 5,
    "start_time": "2023-11-05T06:35:28.612Z"
   },
   {
    "duration": 13,
    "start_time": "2023-11-05T06:35:28.618Z"
   },
   {
    "duration": 33,
    "start_time": "2023-11-05T06:35:28.635Z"
   },
   {
    "duration": 81,
    "start_time": "2023-11-05T06:35:28.669Z"
   },
   {
    "duration": 6,
    "start_time": "2023-11-05T06:35:28.752Z"
   },
   {
    "duration": 14,
    "start_time": "2023-11-05T06:35:28.759Z"
   },
   {
    "duration": 26,
    "start_time": "2023-11-05T06:35:28.775Z"
   },
   {
    "duration": 48,
    "start_time": "2023-11-05T06:35:28.803Z"
   },
   {
    "duration": 5,
    "start_time": "2023-11-05T06:35:28.853Z"
   },
   {
    "duration": 4,
    "start_time": "2023-11-05T06:35:28.859Z"
   },
   {
    "duration": 720,
    "start_time": "2023-11-05T06:35:28.865Z"
   },
   {
    "duration": 23,
    "start_time": "2023-11-05T06:35:29.587Z"
   },
   {
    "duration": 378,
    "start_time": "2023-11-05T06:35:29.612Z"
   },
   {
    "duration": 111,
    "start_time": "2023-11-05T06:35:29.992Z"
   },
   {
    "duration": 161,
    "start_time": "2023-11-05T06:35:30.105Z"
   },
   {
    "duration": 4,
    "start_time": "2023-11-05T06:35:30.268Z"
   },
   {
    "duration": 69,
    "start_time": "2023-11-05T06:35:30.273Z"
   },
   {
    "duration": 46,
    "start_time": "2023-11-05T06:35:30.344Z"
   },
   {
    "duration": 49,
    "start_time": "2023-11-05T06:35:30.392Z"
   },
   {
    "duration": 701,
    "start_time": "2023-11-05T06:35:30.443Z"
   },
   {
    "duration": 16,
    "start_time": "2023-11-05T06:35:31.146Z"
   },
   {
    "duration": 152,
    "start_time": "2023-11-05T06:35:31.163Z"
   },
   {
    "duration": 72,
    "start_time": "2023-11-05T06:35:31.317Z"
   },
   {
    "duration": 21,
    "start_time": "2023-11-05T06:37:07.891Z"
   },
   {
    "duration": 28,
    "start_time": "2023-11-05T06:37:16.425Z"
   },
   {
    "duration": 72,
    "start_time": "2023-11-05T06:37:57.888Z"
   },
   {
    "duration": 57,
    "start_time": "2023-11-05T06:38:08.245Z"
   },
   {
    "duration": 61,
    "start_time": "2023-11-05T06:39:21.104Z"
   },
   {
    "duration": 61,
    "start_time": "2023-11-05T06:41:35.288Z"
   },
   {
    "duration": 65,
    "start_time": "2023-11-05T06:41:49.878Z"
   },
   {
    "duration": 59,
    "start_time": "2023-11-05T06:41:56.597Z"
   },
   {
    "duration": 68,
    "start_time": "2023-11-05T06:44:27.440Z"
   },
   {
    "duration": 58,
    "start_time": "2023-11-05T06:44:33.305Z"
   },
   {
    "duration": 61,
    "start_time": "2023-11-05T06:45:15.640Z"
   },
   {
    "duration": 58,
    "start_time": "2023-11-05T06:45:19.613Z"
   },
   {
    "duration": 59,
    "start_time": "2023-11-05T06:45:49.078Z"
   },
   {
    "duration": 228,
    "start_time": "2023-11-05T06:46:36.987Z"
   },
   {
    "duration": 70,
    "start_time": "2023-11-05T06:46:45.294Z"
   },
   {
    "duration": 64,
    "start_time": "2023-11-05T06:46:51.180Z"
   },
   {
    "duration": 66,
    "start_time": "2023-11-05T06:46:57.748Z"
   },
   {
    "duration": 68,
    "start_time": "2023-11-05T06:51:36.554Z"
   },
   {
    "duration": 81,
    "start_time": "2023-11-05T06:51:49.979Z"
   },
   {
    "duration": 81,
    "start_time": "2023-11-05T06:52:34.198Z"
   },
   {
    "duration": 13,
    "start_time": "2023-11-05T06:53:14.570Z"
   },
   {
    "duration": 16,
    "start_time": "2023-11-05T06:53:16.272Z"
   },
   {
    "duration": 11,
    "start_time": "2023-11-05T06:57:47.792Z"
   },
   {
    "duration": 12,
    "start_time": "2023-11-05T06:58:45.768Z"
   },
   {
    "duration": 19,
    "start_time": "2023-11-05T06:59:47.750Z"
   },
   {
    "duration": 10,
    "start_time": "2023-11-05T07:02:53.693Z"
   },
   {
    "duration": 21,
    "start_time": "2023-11-05T07:02:59.594Z"
   },
   {
    "duration": 354,
    "start_time": "2023-11-05T07:04:22.042Z"
   },
   {
    "duration": 61,
    "start_time": "2023-11-05T07:04:47.042Z"
   },
   {
    "duration": 58,
    "start_time": "2023-11-05T07:05:51.232Z"
   },
   {
    "duration": 65,
    "start_time": "2023-11-05T07:07:07.285Z"
   },
   {
    "duration": 69,
    "start_time": "2023-11-05T07:10:32.871Z"
   },
   {
    "duration": 67,
    "start_time": "2023-11-05T07:10:37.504Z"
   },
   {
    "duration": 60,
    "start_time": "2023-11-05T07:11:25.868Z"
   },
   {
    "duration": 11,
    "start_time": "2023-11-05T07:12:47.580Z"
   },
   {
    "duration": 8,
    "start_time": "2023-11-05T07:12:52.787Z"
   },
   {
    "duration": 13,
    "start_time": "2023-11-05T07:15:30.347Z"
   },
   {
    "duration": 10,
    "start_time": "2023-11-05T07:17:44.018Z"
   },
   {
    "duration": 13,
    "start_time": "2023-11-05T07:17:50.964Z"
   },
   {
    "duration": 15,
    "start_time": "2023-11-05T07:17:57.364Z"
   },
   {
    "duration": 81,
    "start_time": "2023-11-05T07:18:04.435Z"
   },
   {
    "duration": 10,
    "start_time": "2023-11-05T07:18:21.697Z"
   },
   {
    "duration": 59,
    "start_time": "2023-11-05T07:18:36.068Z"
   },
   {
    "duration": 8,
    "start_time": "2023-11-05T07:18:42.399Z"
   },
   {
    "duration": 9,
    "start_time": "2023-11-05T07:19:07.268Z"
   },
   {
    "duration": 72,
    "start_time": "2023-11-05T07:19:38.631Z"
   },
   {
    "duration": 14,
    "start_time": "2023-11-05T07:22:34.798Z"
   },
   {
    "duration": 60,
    "start_time": "2023-11-05T07:22:43.068Z"
   },
   {
    "duration": 11,
    "start_time": "2023-11-05T07:31:32.348Z"
   },
   {
    "duration": 21,
    "start_time": "2023-11-05T07:32:26.521Z"
   },
   {
    "duration": 21,
    "start_time": "2023-11-05T07:32:38.584Z"
   },
   {
    "duration": 4,
    "start_time": "2023-11-05T07:32:51.666Z"
   },
   {
    "duration": 15,
    "start_time": "2023-11-05T07:32:57.833Z"
   },
   {
    "duration": 5,
    "start_time": "2023-11-05T07:33:23.417Z"
   },
   {
    "duration": 6,
    "start_time": "2023-11-05T07:33:27.232Z"
   },
   {
    "duration": 15,
    "start_time": "2023-11-05T07:33:33.077Z"
   },
   {
    "duration": 23,
    "start_time": "2023-11-05T07:34:18.720Z"
   },
   {
    "duration": 13,
    "start_time": "2023-11-05T07:35:04.800Z"
   },
   {
    "duration": 16,
    "start_time": "2023-11-05T07:35:38.655Z"
   },
   {
    "duration": 20,
    "start_time": "2023-11-05T07:36:07.886Z"
   },
   {
    "duration": 14,
    "start_time": "2023-11-05T07:37:33.812Z"
   },
   {
    "duration": 11,
    "start_time": "2023-11-05T07:38:14.230Z"
   },
   {
    "duration": 8,
    "start_time": "2023-11-05T07:38:39.834Z"
   },
   {
    "duration": 13,
    "start_time": "2023-11-05T07:38:47.889Z"
   },
   {
    "duration": 14,
    "start_time": "2023-11-05T07:38:50.539Z"
   },
   {
    "duration": 8,
    "start_time": "2023-11-05T07:38:59.964Z"
   },
   {
    "duration": 7,
    "start_time": "2023-11-05T07:44:03.468Z"
   },
   {
    "duration": 5,
    "start_time": "2023-11-05T07:44:12.231Z"
   },
   {
    "duration": 14,
    "start_time": "2023-11-05T07:45:01.606Z"
   },
   {
    "duration": 7,
    "start_time": "2023-11-05T07:45:45.500Z"
   },
   {
    "duration": 17,
    "start_time": "2023-11-05T07:45:57.763Z"
   },
   {
    "duration": 18,
    "start_time": "2023-11-05T07:46:08.866Z"
   },
   {
    "duration": 16,
    "start_time": "2023-11-05T07:46:14.874Z"
   },
   {
    "duration": 12,
    "start_time": "2023-11-05T07:47:39.585Z"
   },
   {
    "duration": 6,
    "start_time": "2023-11-05T07:47:46.473Z"
   },
   {
    "duration": 26,
    "start_time": "2023-11-05T07:48:02.296Z"
   },
   {
    "duration": 7,
    "start_time": "2023-11-05T07:48:17.425Z"
   },
   {
    "duration": 13,
    "start_time": "2023-11-05T07:48:26.041Z"
   },
   {
    "duration": 11,
    "start_time": "2023-11-05T07:49:35.743Z"
   },
   {
    "duration": 12,
    "start_time": "2023-11-05T07:52:52.645Z"
   },
   {
    "duration": 4,
    "start_time": "2023-11-05T07:55:43.587Z"
   },
   {
    "duration": 217,
    "start_time": "2023-11-05T07:56:33.769Z"
   },
   {
    "duration": 130,
    "start_time": "2023-11-05T07:57:11.793Z"
   },
   {
    "duration": 246,
    "start_time": "2023-11-05T08:01:07.020Z"
   },
   {
    "duration": 158,
    "start_time": "2023-11-05T08:01:23.444Z"
   },
   {
    "duration": 256,
    "start_time": "2023-11-05T08:01:31.587Z"
   },
   {
    "duration": 124,
    "start_time": "2023-11-05T08:04:42.497Z"
   },
   {
    "duration": 235,
    "start_time": "2023-11-05T08:06:01.130Z"
   },
   {
    "duration": 140,
    "start_time": "2023-11-05T08:22:37.667Z"
   },
   {
    "duration": 202,
    "start_time": "2023-11-05T08:27:04.243Z"
   },
   {
    "duration": 179,
    "start_time": "2023-11-05T08:32:07.047Z"
   },
   {
    "duration": 254,
    "start_time": "2023-11-05T08:32:12.150Z"
   },
   {
    "duration": 132,
    "start_time": "2023-11-05T08:33:07.534Z"
   },
   {
    "duration": 14,
    "start_time": "2023-11-05T08:33:38.493Z"
   },
   {
    "duration": 23,
    "start_time": "2023-11-05T08:33:52.590Z"
   },
   {
    "duration": 18,
    "start_time": "2023-11-05T08:34:01.646Z"
   },
   {
    "duration": 6,
    "start_time": "2023-11-05T08:34:15.295Z"
   },
   {
    "duration": 5,
    "start_time": "2023-11-05T08:35:03.404Z"
   },
   {
    "duration": 6,
    "start_time": "2023-11-05T08:35:33.195Z"
   },
   {
    "duration": 98,
    "start_time": "2023-11-05T08:36:00.452Z"
   },
   {
    "duration": 8,
    "start_time": "2023-11-05T08:36:09.458Z"
   },
   {
    "duration": 11,
    "start_time": "2023-11-05T08:36:26.507Z"
   },
   {
    "duration": 4,
    "start_time": "2023-11-05T08:36:59.769Z"
   },
   {
    "duration": 9,
    "start_time": "2023-11-05T08:37:07.745Z"
   },
   {
    "duration": 4,
    "start_time": "2023-11-05T08:38:16.961Z"
   },
   {
    "duration": 18,
    "start_time": "2023-11-05T08:38:36.308Z"
   },
   {
    "duration": 19,
    "start_time": "2023-11-05T08:40:22.201Z"
   },
   {
    "duration": 11,
    "start_time": "2023-11-05T08:41:59.575Z"
   },
   {
    "duration": 18,
    "start_time": "2023-11-05T08:42:04.156Z"
   },
   {
    "duration": 11,
    "start_time": "2023-11-05T08:42:32.333Z"
   },
   {
    "duration": 11,
    "start_time": "2023-11-05T08:44:25.435Z"
   },
   {
    "duration": 301,
    "start_time": "2023-11-05T08:46:21.951Z"
   },
   {
    "duration": 1461,
    "start_time": "2023-11-06T14:11:03.839Z"
   },
   {
    "duration": 76,
    "start_time": "2023-11-06T14:11:05.302Z"
   },
   {
    "duration": 12,
    "start_time": "2023-11-06T14:11:05.379Z"
   },
   {
    "duration": 259,
    "start_time": "2023-11-06T14:11:05.392Z"
   },
   {
    "duration": 7,
    "start_time": "2023-11-06T14:11:05.653Z"
   },
   {
    "duration": 1594,
    "start_time": "2023-11-06T14:11:05.661Z"
   },
   {
    "duration": 8,
    "start_time": "2023-11-06T14:11:07.257Z"
   },
   {
    "duration": 138,
    "start_time": "2023-11-06T14:11:07.267Z"
   },
   {
    "duration": 10,
    "start_time": "2023-11-06T14:11:07.406Z"
   },
   {
    "duration": 1830,
    "start_time": "2023-11-06T14:11:07.418Z"
   },
   {
    "duration": 11,
    "start_time": "2023-11-06T14:11:09.250Z"
   },
   {
    "duration": 32,
    "start_time": "2023-11-06T14:11:09.262Z"
   },
   {
    "duration": 17,
    "start_time": "2023-11-06T14:11:09.295Z"
   },
   {
    "duration": 6,
    "start_time": "2023-11-06T14:11:09.316Z"
   },
   {
    "duration": 28,
    "start_time": "2023-11-06T14:11:09.324Z"
   },
   {
    "duration": 10,
    "start_time": "2023-11-06T14:11:09.354Z"
   },
   {
    "duration": 15,
    "start_time": "2023-11-06T14:11:09.366Z"
   },
   {
    "duration": 9,
    "start_time": "2023-11-06T14:11:09.383Z"
   },
   {
    "duration": 23,
    "start_time": "2023-11-06T14:11:09.393Z"
   },
   {
    "duration": 27,
    "start_time": "2023-11-06T14:11:09.418Z"
   },
   {
    "duration": 18,
    "start_time": "2023-11-06T14:11:09.447Z"
   },
   {
    "duration": 51,
    "start_time": "2023-11-06T14:11:09.467Z"
   },
   {
    "duration": 10,
    "start_time": "2023-11-06T14:11:09.519Z"
   },
   {
    "duration": 12,
    "start_time": "2023-11-06T14:11:09.530Z"
   },
   {
    "duration": 8,
    "start_time": "2023-11-06T14:11:09.543Z"
   },
   {
    "duration": 12,
    "start_time": "2023-11-06T14:11:09.552Z"
   },
   {
    "duration": 8,
    "start_time": "2023-11-06T14:11:09.565Z"
   },
   {
    "duration": 34,
    "start_time": "2023-11-06T14:11:09.575Z"
   },
   {
    "duration": 57,
    "start_time": "2023-11-06T14:11:09.610Z"
   },
   {
    "duration": 5,
    "start_time": "2023-11-06T14:11:09.668Z"
   },
   {
    "duration": 23,
    "start_time": "2023-11-06T14:11:09.674Z"
   },
   {
    "duration": 7,
    "start_time": "2023-11-06T14:11:09.698Z"
   },
   {
    "duration": 71,
    "start_time": "2023-11-06T14:11:09.706Z"
   },
   {
    "duration": 6,
    "start_time": "2023-11-06T14:11:09.778Z"
   },
   {
    "duration": 6,
    "start_time": "2023-11-06T14:11:09.785Z"
   },
   {
    "duration": 798,
    "start_time": "2023-11-06T14:11:09.792Z"
   },
   {
    "duration": 16,
    "start_time": "2023-11-06T14:11:10.592Z"
   },
   {
    "duration": 375,
    "start_time": "2023-11-06T14:11:10.610Z"
   },
   {
    "duration": 159,
    "start_time": "2023-11-06T14:11:10.987Z"
   },
   {
    "duration": 155,
    "start_time": "2023-11-06T14:11:11.148Z"
   },
   {
    "duration": 4,
    "start_time": "2023-11-06T14:11:11.306Z"
   },
   {
    "duration": 34,
    "start_time": "2023-11-06T14:11:11.311Z"
   },
   {
    "duration": 16,
    "start_time": "2023-11-06T14:11:11.348Z"
   },
   {
    "duration": 31,
    "start_time": "2023-11-06T14:11:11.366Z"
   },
   {
    "duration": 725,
    "start_time": "2023-11-06T14:11:11.399Z"
   },
   {
    "duration": 23,
    "start_time": "2023-11-06T14:11:12.126Z"
   },
   {
    "duration": 134,
    "start_time": "2023-11-06T14:11:12.151Z"
   },
   {
    "duration": 80,
    "start_time": "2023-11-06T14:11:12.287Z"
   },
   {
    "duration": 87,
    "start_time": "2023-11-06T14:11:12.368Z"
   },
   {
    "duration": 60,
    "start_time": "2023-11-06T14:11:12.456Z"
   },
   {
    "duration": 19,
    "start_time": "2023-11-06T14:14:06.632Z"
   },
   {
    "duration": 11,
    "start_time": "2023-11-06T14:14:13.159Z"
   },
   {
    "duration": 17,
    "start_time": "2023-11-06T14:14:16.454Z"
   },
   {
    "duration": 10,
    "start_time": "2023-11-06T14:14:19.895Z"
   },
   {
    "duration": 9,
    "start_time": "2023-11-06T14:20:45.565Z"
   },
   {
    "duration": 10,
    "start_time": "2023-11-06T14:21:55.640Z"
   },
   {
    "duration": 267,
    "start_time": "2023-11-06T14:23:07.486Z"
   },
   {
    "duration": 205,
    "start_time": "2023-11-06T14:24:15.493Z"
   },
   {
    "duration": 1326,
    "start_time": "2023-11-06T14:30:11.340Z"
   },
   {
    "duration": 74,
    "start_time": "2023-11-06T14:30:24.763Z"
   },
   {
    "duration": 98,
    "start_time": "2023-11-06T14:32:09.473Z"
   },
   {
    "duration": 9,
    "start_time": "2023-11-06T14:32:31.041Z"
   },
   {
    "duration": 5,
    "start_time": "2023-11-06T14:33:02.936Z"
   },
   {
    "duration": 89,
    "start_time": "2023-11-06T14:33:40.616Z"
   },
   {
    "duration": 71,
    "start_time": "2023-11-06T14:34:01.384Z"
   },
   {
    "duration": 107,
    "start_time": "2023-11-06T14:41:03.208Z"
   },
   {
    "duration": 49,
    "start_time": "2023-11-06T14:41:09.206Z"
   },
   {
    "duration": 68,
    "start_time": "2023-11-06T14:57:06.628Z"
   },
   {
    "duration": 19,
    "start_time": "2023-11-06T15:29:02.492Z"
   },
   {
    "duration": 21,
    "start_time": "2023-11-06T15:34:59.076Z"
   },
   {
    "duration": 20,
    "start_time": "2023-11-06T15:38:32.100Z"
   },
   {
    "duration": 4,
    "start_time": "2023-11-06T15:39:05.044Z"
   },
   {
    "duration": 13,
    "start_time": "2023-11-06T15:41:11.642Z"
   },
   {
    "duration": 7,
    "start_time": "2023-11-06T15:42:17.393Z"
   },
   {
    "duration": 8,
    "start_time": "2023-11-06T15:45:28.398Z"
   },
   {
    "duration": 24,
    "start_time": "2023-11-06T16:07:11.034Z"
   },
   {
    "duration": 11,
    "start_time": "2023-11-06T16:09:07.464Z"
   },
   {
    "duration": 14,
    "start_time": "2023-11-06T16:09:31.335Z"
   },
   {
    "duration": 12,
    "start_time": "2023-11-06T16:09:50.880Z"
   },
   {
    "duration": 1163,
    "start_time": "2023-11-06T17:32:02.310Z"
   },
   {
    "duration": 33,
    "start_time": "2023-11-06T17:32:03.475Z"
   },
   {
    "duration": 11,
    "start_time": "2023-11-06T17:32:03.509Z"
   },
   {
    "duration": 85,
    "start_time": "2023-11-06T17:32:03.522Z"
   },
   {
    "duration": 8,
    "start_time": "2023-11-06T17:32:03.609Z"
   },
   {
    "duration": 581,
    "start_time": "2023-11-06T17:32:03.618Z"
   },
   {
    "duration": 10,
    "start_time": "2023-11-06T17:32:04.201Z"
   },
   {
    "duration": 57,
    "start_time": "2023-11-06T17:32:04.213Z"
   },
   {
    "duration": 11,
    "start_time": "2023-11-06T17:32:04.272Z"
   },
   {
    "duration": 1917,
    "start_time": "2023-11-06T17:32:04.286Z"
   },
   {
    "duration": 11,
    "start_time": "2023-11-06T17:32:06.205Z"
   },
   {
    "duration": 57,
    "start_time": "2023-11-06T17:32:06.218Z"
   },
   {
    "duration": 57,
    "start_time": "2023-11-06T17:32:06.276Z"
   },
   {
    "duration": 79,
    "start_time": "2023-11-06T17:32:06.335Z"
   },
   {
    "duration": 42,
    "start_time": "2023-11-06T17:32:06.416Z"
   },
   {
    "duration": 59,
    "start_time": "2023-11-06T17:32:06.459Z"
   },
   {
    "duration": 32,
    "start_time": "2023-11-06T17:32:06.520Z"
   },
   {
    "duration": 44,
    "start_time": "2023-11-06T17:32:06.554Z"
   },
   {
    "duration": 22,
    "start_time": "2023-11-06T17:32:06.599Z"
   },
   {
    "duration": 6,
    "start_time": "2023-11-06T17:32:06.623Z"
   },
   {
    "duration": 25,
    "start_time": "2023-11-06T17:32:06.630Z"
   },
   {
    "duration": 44,
    "start_time": "2023-11-06T17:32:06.656Z"
   },
   {
    "duration": 11,
    "start_time": "2023-11-06T17:32:06.702Z"
   },
   {
    "duration": 16,
    "start_time": "2023-11-06T17:32:06.715Z"
   },
   {
    "duration": 11,
    "start_time": "2023-11-06T17:32:06.733Z"
   },
   {
    "duration": 8,
    "start_time": "2023-11-06T17:32:06.746Z"
   },
   {
    "duration": 11,
    "start_time": "2023-11-06T17:32:06.755Z"
   },
   {
    "duration": 55,
    "start_time": "2023-11-06T17:32:06.769Z"
   },
   {
    "duration": 50,
    "start_time": "2023-11-06T17:32:06.826Z"
   },
   {
    "duration": 5,
    "start_time": "2023-11-06T17:32:06.878Z"
   },
   {
    "duration": 22,
    "start_time": "2023-11-06T17:32:06.884Z"
   },
   {
    "duration": 6,
    "start_time": "2023-11-06T17:32:06.907Z"
   },
   {
    "duration": 62,
    "start_time": "2023-11-06T17:32:06.915Z"
   },
   {
    "duration": 6,
    "start_time": "2023-11-06T17:32:06.979Z"
   },
   {
    "duration": 10,
    "start_time": "2023-11-06T17:32:06.987Z"
   },
   {
    "duration": 849,
    "start_time": "2023-11-06T17:32:06.999Z"
   },
   {
    "duration": 15,
    "start_time": "2023-11-06T17:32:07.850Z"
   },
   {
    "duration": 353,
    "start_time": "2023-11-06T17:32:07.867Z"
   },
   {
    "duration": 53,
    "start_time": "2023-11-06T17:32:08.222Z"
   },
   {
    "duration": 205,
    "start_time": "2023-11-06T17:32:08.277Z"
   },
   {
    "duration": 4,
    "start_time": "2023-11-06T17:32:08.484Z"
   },
   {
    "duration": 24,
    "start_time": "2023-11-06T17:32:08.490Z"
   },
   {
    "duration": 30,
    "start_time": "2023-11-06T17:32:08.515Z"
   },
   {
    "duration": 31,
    "start_time": "2023-11-06T17:32:08.547Z"
   },
   {
    "duration": 694,
    "start_time": "2023-11-06T17:32:08.579Z"
   },
   {
    "duration": 15,
    "start_time": "2023-11-06T17:32:09.275Z"
   },
   {
    "duration": 91,
    "start_time": "2023-11-06T17:32:09.291Z"
   },
   {
    "duration": 79,
    "start_time": "2023-11-06T17:32:09.383Z"
   },
   {
    "duration": 93,
    "start_time": "2023-11-06T17:32:09.463Z"
   },
   {
    "duration": 66,
    "start_time": "2023-11-06T17:32:09.558Z"
   },
   {
    "duration": 26,
    "start_time": "2023-11-06T17:32:09.626Z"
   },
   {
    "duration": 71,
    "start_time": "2023-11-06T17:32:09.653Z"
   },
   {
    "duration": 78,
    "start_time": "2023-11-06T17:32:09.726Z"
   },
   {
    "duration": 78,
    "start_time": "2023-11-06T17:32:09.806Z"
   },
   {
    "duration": 61,
    "start_time": "2023-11-06T17:32:09.886Z"
   },
   {
    "duration": 21,
    "start_time": "2023-11-06T17:32:09.949Z"
   },
   {
    "duration": 6,
    "start_time": "2023-11-06T17:32:09.972Z"
   },
   {
    "duration": 19,
    "start_time": "2023-11-06T17:32:09.980Z"
   },
   {
    "duration": 1112,
    "start_time": "2023-11-06T21:00:55.561Z"
   },
   {
    "duration": 74,
    "start_time": "2023-11-06T21:00:56.675Z"
   },
   {
    "duration": 11,
    "start_time": "2023-11-06T21:00:56.754Z"
   },
   {
    "duration": 207,
    "start_time": "2023-11-06T21:00:56.767Z"
   },
   {
    "duration": 8,
    "start_time": "2023-11-06T21:00:56.975Z"
   },
   {
    "duration": 604,
    "start_time": "2023-11-06T21:00:56.985Z"
   },
   {
    "duration": 7,
    "start_time": "2023-11-06T21:00:57.591Z"
   },
   {
    "duration": 87,
    "start_time": "2023-11-06T21:00:57.600Z"
   },
   {
    "duration": 8,
    "start_time": "2023-11-06T21:00:57.688Z"
   },
   {
    "duration": 2033,
    "start_time": "2023-11-06T21:00:57.698Z"
   },
   {
    "duration": 27,
    "start_time": "2023-11-06T21:00:59.733Z"
   },
   {
    "duration": 23,
    "start_time": "2023-11-06T21:00:59.762Z"
   },
   {
    "duration": 9,
    "start_time": "2023-11-06T21:00:59.787Z"
   },
   {
    "duration": 12,
    "start_time": "2023-11-06T21:00:59.797Z"
   },
   {
    "duration": 12,
    "start_time": "2023-11-06T21:00:59.811Z"
   },
   {
    "duration": 35,
    "start_time": "2023-11-06T21:00:59.825Z"
   },
   {
    "duration": 13,
    "start_time": "2023-11-06T21:00:59.862Z"
   },
   {
    "duration": 22,
    "start_time": "2023-11-06T21:00:59.876Z"
   },
   {
    "duration": 7,
    "start_time": "2023-11-06T21:00:59.900Z"
   },
   {
    "duration": 11,
    "start_time": "2023-11-06T21:00:59.908Z"
   },
   {
    "duration": 38,
    "start_time": "2023-11-06T21:00:59.944Z"
   },
   {
    "duration": 10,
    "start_time": "2023-11-06T21:00:59.983Z"
   },
   {
    "duration": 68,
    "start_time": "2023-11-06T21:00:59.995Z"
   },
   {
    "duration": 18,
    "start_time": "2023-11-06T21:01:00.065Z"
   },
   {
    "duration": 7,
    "start_time": "2023-11-06T21:01:00.085Z"
   },
   {
    "duration": 19,
    "start_time": "2023-11-06T21:01:00.094Z"
   },
   {
    "duration": 53,
    "start_time": "2023-11-06T21:01:00.114Z"
   },
   {
    "duration": 38,
    "start_time": "2023-11-06T21:01:00.171Z"
   },
   {
    "duration": 12,
    "start_time": "2023-11-06T21:01:00.210Z"
   },
   {
    "duration": 29,
    "start_time": "2023-11-06T21:01:00.223Z"
   },
   {
    "duration": 10,
    "start_time": "2023-11-06T21:01:00.253Z"
   },
   {
    "duration": 58,
    "start_time": "2023-11-06T21:01:00.264Z"
   },
   {
    "duration": 75,
    "start_time": "2023-11-06T21:01:00.324Z"
   },
   {
    "duration": 15,
    "start_time": "2023-11-06T21:01:00.401Z"
   },
   {
    "duration": 462,
    "start_time": "2023-11-06T21:01:00.417Z"
   },
   {
    "duration": 85,
    "start_time": "2023-11-06T21:01:00.881Z"
   },
   {
    "duration": 162,
    "start_time": "2023-11-06T21:01:00.967Z"
   },
   {
    "duration": 16,
    "start_time": "2023-11-06T21:01:01.140Z"
   },
   {
    "duration": 30,
    "start_time": "2023-11-06T21:01:01.157Z"
   },
   {
    "duration": 65,
    "start_time": "2023-11-06T21:01:01.188Z"
   },
   {
    "duration": 52,
    "start_time": "2023-11-06T21:01:01.255Z"
   },
   {
    "duration": 688,
    "start_time": "2023-11-06T21:01:01.308Z"
   },
   {
    "duration": 14,
    "start_time": "2023-11-06T21:01:01.997Z"
   },
   {
    "duration": 113,
    "start_time": "2023-11-06T21:01:02.012Z"
   },
   {
    "duration": 72,
    "start_time": "2023-11-06T21:01:02.126Z"
   },
   {
    "duration": 86,
    "start_time": "2023-11-06T21:01:02.200Z"
   },
   {
    "duration": 83,
    "start_time": "2023-11-06T21:01:02.287Z"
   },
   {
    "duration": 13,
    "start_time": "2023-11-06T21:01:02.371Z"
   },
   {
    "duration": 118,
    "start_time": "2023-11-06T21:01:02.385Z"
   },
   {
    "duration": 110,
    "start_time": "2023-11-06T21:01:02.505Z"
   },
   {
    "duration": 77,
    "start_time": "2023-11-06T21:01:02.616Z"
   },
   {
    "duration": 60,
    "start_time": "2023-11-06T21:01:02.695Z"
   },
   {
    "duration": 25,
    "start_time": "2023-11-06T21:01:02.757Z"
   },
   {
    "duration": 6,
    "start_time": "2023-11-06T21:01:02.783Z"
   },
   {
    "duration": 9,
    "start_time": "2023-11-06T21:01:02.790Z"
   },
   {
    "duration": 1613,
    "start_time": "2023-11-07T05:42:11.977Z"
   },
   {
    "duration": 86,
    "start_time": "2023-11-07T05:42:13.592Z"
   },
   {
    "duration": 19,
    "start_time": "2023-11-07T05:42:13.680Z"
   },
   {
    "duration": 219,
    "start_time": "2023-11-07T05:42:13.701Z"
   },
   {
    "duration": 12,
    "start_time": "2023-11-07T05:42:13.923Z"
   },
   {
    "duration": 923,
    "start_time": "2023-11-07T05:42:13.937Z"
   },
   {
    "duration": 10,
    "start_time": "2023-11-07T05:42:14.862Z"
   },
   {
    "duration": 97,
    "start_time": "2023-11-07T05:42:14.874Z"
   },
   {
    "duration": 11,
    "start_time": "2023-11-07T05:42:14.973Z"
   },
   {
    "duration": 2322,
    "start_time": "2023-11-07T05:42:14.985Z"
   },
   {
    "duration": 14,
    "start_time": "2023-11-07T05:42:17.309Z"
   },
   {
    "duration": 51,
    "start_time": "2023-11-07T05:42:17.325Z"
   },
   {
    "duration": 11,
    "start_time": "2023-11-07T05:42:17.377Z"
   },
   {
    "duration": 14,
    "start_time": "2023-11-07T05:42:17.391Z"
   },
   {
    "duration": 40,
    "start_time": "2023-11-07T05:42:17.407Z"
   },
   {
    "duration": 20,
    "start_time": "2023-11-07T05:42:17.449Z"
   },
   {
    "duration": 11,
    "start_time": "2023-11-07T05:42:17.470Z"
   },
   {
    "duration": 27,
    "start_time": "2023-11-07T05:42:17.483Z"
   },
   {
    "duration": 37,
    "start_time": "2023-11-07T05:42:17.513Z"
   },
   {
    "duration": 26,
    "start_time": "2023-11-07T05:42:17.554Z"
   },
   {
    "duration": 92,
    "start_time": "2023-11-07T05:42:17.582Z"
   },
   {
    "duration": 14,
    "start_time": "2023-11-07T05:42:17.676Z"
   },
   {
    "duration": 15,
    "start_time": "2023-11-07T05:42:17.691Z"
   },
   {
    "duration": 10,
    "start_time": "2023-11-07T05:42:17.707Z"
   },
   {
    "duration": 46,
    "start_time": "2023-11-07T05:42:17.719Z"
   },
   {
    "duration": 17,
    "start_time": "2023-11-07T05:42:17.767Z"
   },
   {
    "duration": 44,
    "start_time": "2023-11-07T05:42:17.786Z"
   },
   {
    "duration": 64,
    "start_time": "2023-11-07T05:42:17.832Z"
   },
   {
    "duration": 6,
    "start_time": "2023-11-07T05:42:17.898Z"
   },
   {
    "duration": 24,
    "start_time": "2023-11-07T05:42:17.906Z"
   },
   {
    "duration": 33,
    "start_time": "2023-11-07T05:42:17.932Z"
   },
   {
    "duration": 58,
    "start_time": "2023-11-07T05:42:17.968Z"
   },
   {
    "duration": 112,
    "start_time": "2023-11-07T05:42:18.028Z"
   },
   {
    "duration": 32,
    "start_time": "2023-11-07T05:42:18.142Z"
   },
   {
    "duration": 521,
    "start_time": "2023-11-07T05:42:18.177Z"
   },
   {
    "duration": 83,
    "start_time": "2023-11-07T05:42:18.699Z"
   },
   {
    "duration": 287,
    "start_time": "2023-11-07T05:42:18.784Z"
   },
   {
    "duration": 6,
    "start_time": "2023-11-07T05:42:19.073Z"
   },
   {
    "duration": 42,
    "start_time": "2023-11-07T05:42:19.080Z"
   },
   {
    "duration": 39,
    "start_time": "2023-11-07T05:42:19.124Z"
   },
   {
    "duration": 34,
    "start_time": "2023-11-07T05:42:19.168Z"
   },
   {
    "duration": 953,
    "start_time": "2023-11-07T05:42:19.203Z"
   },
   {
    "duration": 28,
    "start_time": "2023-11-07T05:42:20.158Z"
   },
   {
    "duration": 141,
    "start_time": "2023-11-07T05:42:20.188Z"
   },
   {
    "duration": 138,
    "start_time": "2023-11-07T05:42:20.331Z"
   },
   {
    "duration": 114,
    "start_time": "2023-11-07T05:42:20.472Z"
   },
   {
    "duration": 109,
    "start_time": "2023-11-07T05:42:20.589Z"
   },
   {
    "duration": 13,
    "start_time": "2023-11-07T05:42:20.699Z"
   },
   {
    "duration": 114,
    "start_time": "2023-11-07T05:42:20.714Z"
   },
   {
    "duration": 111,
    "start_time": "2023-11-07T05:42:20.830Z"
   },
   {
    "duration": 90,
    "start_time": "2023-11-07T05:42:20.943Z"
   },
   {
    "duration": 82,
    "start_time": "2023-11-07T05:42:21.034Z"
   },
   {
    "duration": 52,
    "start_time": "2023-11-07T05:42:21.117Z"
   },
   {
    "duration": 10,
    "start_time": "2023-11-07T05:42:21.172Z"
   },
   {
    "duration": 35,
    "start_time": "2023-11-07T05:42:21.185Z"
   },
   {
    "duration": 15,
    "start_time": "2023-11-07T05:43:07.898Z"
   },
   {
    "duration": 7,
    "start_time": "2023-11-07T05:43:18.922Z"
   },
   {
    "duration": 6,
    "start_time": "2023-11-07T05:43:42.766Z"
   },
   {
    "duration": 8,
    "start_time": "2023-11-07T05:43:59.504Z"
   },
   {
    "duration": 18543,
    "start_time": "2023-11-07T05:44:10.168Z"
   },
   {
    "duration": 15,
    "start_time": "2023-11-07T05:44:31.899Z"
   },
   {
    "duration": 27,
    "start_time": "2023-11-07T05:44:35.144Z"
   },
   {
    "duration": 84,
    "start_time": "2023-11-07T05:44:39.993Z"
   },
   {
    "duration": 4,
    "start_time": "2023-11-07T05:45:04.363Z"
   },
   {
    "duration": 29,
    "start_time": "2023-11-07T06:18:40.784Z"
   },
   {
    "duration": 60,
    "start_time": "2023-11-07T06:19:00.947Z"
   },
   {
    "duration": 74,
    "start_time": "2023-11-07T06:19:22.293Z"
   },
   {
    "duration": 1309,
    "start_time": "2023-11-07T06:47:58.116Z"
   },
   {
    "duration": 35,
    "start_time": "2023-11-07T06:47:59.427Z"
   },
   {
    "duration": 15,
    "start_time": "2023-11-07T06:47:59.464Z"
   },
   {
    "duration": 92,
    "start_time": "2023-11-07T06:47:59.481Z"
   },
   {
    "duration": 8,
    "start_time": "2023-11-07T06:47:59.576Z"
   },
   {
    "duration": 632,
    "start_time": "2023-11-07T06:47:59.586Z"
   },
   {
    "duration": 9,
    "start_time": "2023-11-07T06:48:00.220Z"
   },
   {
    "duration": 94,
    "start_time": "2023-11-07T06:48:00.230Z"
   },
   {
    "duration": 26,
    "start_time": "2023-11-07T06:48:00.326Z"
   },
   {
    "duration": 194,
    "start_time": "2023-11-07T06:48:00.354Z"
   },
   {
    "duration": 2054,
    "start_time": "2023-11-07T06:48:00.550Z"
   },
   {
    "duration": 13,
    "start_time": "2023-11-07T06:48:02.606Z"
   },
   {
    "duration": 42,
    "start_time": "2023-11-07T06:48:02.621Z"
   },
   {
    "duration": 10,
    "start_time": "2023-11-07T06:48:02.666Z"
   },
   {
    "duration": 46,
    "start_time": "2023-11-07T06:52:12.330Z"
   },
   {
    "duration": 19,
    "start_time": "2023-11-07T06:52:23.134Z"
   },
   {
    "duration": 17,
    "start_time": "2023-11-07T06:52:44.084Z"
   },
   {
    "duration": 38,
    "start_time": "2023-11-07T06:59:38.437Z"
   },
   {
    "duration": 40,
    "start_time": "2023-11-07T06:59:58.277Z"
   },
   {
    "duration": 12,
    "start_time": "2023-11-07T07:11:10.474Z"
   },
   {
    "duration": 22,
    "start_time": "2023-11-07T07:11:15.293Z"
   },
   {
    "duration": 16,
    "start_time": "2023-11-07T07:11:28.657Z"
   },
   {
    "duration": 7,
    "start_time": "2023-11-07T07:11:32.725Z"
   },
   {
    "duration": 23,
    "start_time": "2023-11-07T07:11:42.280Z"
   },
   {
    "duration": 7,
    "start_time": "2023-11-07T07:13:19.576Z"
   },
   {
    "duration": 131,
    "start_time": "2023-11-07T07:15:09.954Z"
   },
   {
    "duration": 132,
    "start_time": "2023-11-07T07:15:17.501Z"
   },
   {
    "duration": 13,
    "start_time": "2023-11-07T07:15:34.026Z"
   },
   {
    "duration": 8,
    "start_time": "2023-11-07T07:20:05.111Z"
   },
   {
    "duration": 36,
    "start_time": "2023-11-07T07:20:38.912Z"
   },
   {
    "duration": 36,
    "start_time": "2023-11-07T07:20:56.244Z"
   },
   {
    "duration": 9,
    "start_time": "2023-11-07T07:21:09.042Z"
   },
   {
    "duration": 14,
    "start_time": "2023-11-07T07:22:25.525Z"
   },
   {
    "duration": 9,
    "start_time": "2023-11-07T07:23:40.070Z"
   },
   {
    "duration": 14,
    "start_time": "2023-11-07T07:24:10.578Z"
   },
   {
    "duration": 9,
    "start_time": "2023-11-07T07:24:18.223Z"
   },
   {
    "duration": 7,
    "start_time": "2023-11-07T07:24:27.300Z"
   },
   {
    "duration": 13,
    "start_time": "2023-11-07T07:24:31.046Z"
   },
   {
    "duration": 15,
    "start_time": "2023-11-07T07:36:26.261Z"
   },
   {
    "duration": 36,
    "start_time": "2023-11-07T07:37:47.671Z"
   },
   {
    "duration": 55,
    "start_time": "2023-11-07T07:39:01.049Z"
   },
   {
    "duration": 5,
    "start_time": "2023-11-07T07:39:04.101Z"
   },
   {
    "duration": 15,
    "start_time": "2023-11-07T07:40:05.284Z"
   },
   {
    "duration": 3,
    "start_time": "2023-11-07T07:40:12.563Z"
   },
   {
    "duration": 52,
    "start_time": "2023-11-07T07:40:16.808Z"
   },
   {
    "duration": 16605,
    "start_time": "2023-11-07T07:40:42.911Z"
   },
   {
    "duration": 18,
    "start_time": "2023-11-07T07:41:06.718Z"
   },
   {
    "duration": 1463,
    "start_time": "2023-11-07T07:41:12.778Z"
   },
   {
    "duration": 16,
    "start_time": "2023-11-07T07:42:36.489Z"
   },
   {
    "duration": 26,
    "start_time": "2023-11-07T07:44:58.507Z"
   },
   {
    "duration": 28,
    "start_time": "2023-11-07T07:45:22.756Z"
   },
   {
    "duration": 73,
    "start_time": "2023-11-07T07:46:08.166Z"
   },
   {
    "duration": 11,
    "start_time": "2023-11-07T07:48:25.930Z"
   },
   {
    "duration": 33,
    "start_time": "2023-11-07T07:48:34.770Z"
   },
   {
    "duration": 25,
    "start_time": "2023-11-07T07:48:47.458Z"
   },
   {
    "duration": 20,
    "start_time": "2023-11-07T07:49:23.426Z"
   },
   {
    "duration": 109,
    "start_time": "2023-11-07T07:49:39.010Z"
   },
   {
    "duration": 67,
    "start_time": "2023-11-07T07:49:52.543Z"
   },
   {
    "duration": 154,
    "start_time": "2023-11-07T07:50:09.471Z"
   },
   {
    "duration": 52,
    "start_time": "2023-11-07T07:58:18.977Z"
   },
   {
    "duration": 167,
    "start_time": "2023-11-07T07:58:26.906Z"
   },
   {
    "duration": 5,
    "start_time": "2023-11-07T07:58:29.542Z"
   },
   {
    "duration": 32,
    "start_time": "2023-11-07T07:58:31.710Z"
   },
   {
    "duration": 19,
    "start_time": "2023-11-07T07:58:37.667Z"
   },
   {
    "duration": 40,
    "start_time": "2023-11-07T07:59:02.220Z"
   },
   {
    "duration": 27,
    "start_time": "2023-11-07T07:59:21.028Z"
   },
   {
    "duration": 15,
    "start_time": "2023-11-07T08:11:52.120Z"
   },
   {
    "duration": 147,
    "start_time": "2023-11-07T08:13:36.148Z"
   },
   {
    "duration": 140,
    "start_time": "2023-11-07T08:16:08.762Z"
   },
   {
    "duration": 221,
    "start_time": "2023-11-07T08:16:57.185Z"
   },
   {
    "duration": 37,
    "start_time": "2023-11-07T08:30:05.724Z"
   },
   {
    "duration": 729,
    "start_time": "2023-11-07T08:30:11.071Z"
   },
   {
    "duration": 19,
    "start_time": "2023-11-07T08:30:15.578Z"
   },
   {
    "duration": 83,
    "start_time": "2023-11-07T08:31:06.935Z"
   },
   {
    "duration": 74,
    "start_time": "2023-11-07T08:32:49.874Z"
   },
   {
    "duration": 102,
    "start_time": "2023-11-07T08:39:28.062Z"
   },
   {
    "duration": 71,
    "start_time": "2023-11-07T08:39:36.206Z"
   },
   {
    "duration": 12,
    "start_time": "2023-11-07T08:47:51.486Z"
   },
   {
    "duration": 84,
    "start_time": "2023-11-07T08:47:55.696Z"
   },
   {
    "duration": 74,
    "start_time": "2023-11-07T08:47:58.256Z"
   },
   {
    "duration": 82,
    "start_time": "2023-11-07T08:48:05.702Z"
   },
   {
    "duration": 68,
    "start_time": "2023-11-07T08:48:13.121Z"
   },
   {
    "duration": 26,
    "start_time": "2023-11-07T08:52:16.116Z"
   },
   {
    "duration": 7,
    "start_time": "2023-11-07T08:52:19.314Z"
   },
   {
    "duration": 8,
    "start_time": "2023-11-07T08:52:22.046Z"
   },
   {
    "duration": 9,
    "start_time": "2023-11-07T08:53:09.855Z"
   },
   {
    "duration": 11,
    "start_time": "2023-11-07T08:53:30.752Z"
   },
   {
    "duration": 7,
    "start_time": "2023-11-07T08:53:38.422Z"
   },
   {
    "duration": 8,
    "start_time": "2023-11-07T08:53:43.073Z"
   },
   {
    "duration": 4,
    "start_time": "2023-11-07T08:56:52.017Z"
   },
   {
    "duration": 8,
    "start_time": "2023-11-07T09:07:00.822Z"
   },
   {
    "duration": 9,
    "start_time": "2023-11-07T09:07:13.459Z"
   },
   {
    "duration": 8,
    "start_time": "2023-11-07T09:07:21.866Z"
   },
   {
    "duration": 8,
    "start_time": "2023-11-07T09:07:28.414Z"
   },
   {
    "duration": 7,
    "start_time": "2023-11-07T09:07:34.129Z"
   },
   {
    "duration": 8,
    "start_time": "2023-11-07T09:07:59.611Z"
   },
   {
    "duration": 1362,
    "start_time": "2023-11-07T09:19:59.906Z"
   },
   {
    "duration": 37,
    "start_time": "2023-11-07T09:20:01.270Z"
   },
   {
    "duration": 50,
    "start_time": "2023-11-07T09:20:01.309Z"
   },
   {
    "duration": 172,
    "start_time": "2023-11-07T09:20:01.362Z"
   },
   {
    "duration": 12,
    "start_time": "2023-11-07T09:20:01.537Z"
   },
   {
    "duration": 740,
    "start_time": "2023-11-07T09:20:01.551Z"
   },
   {
    "duration": 10,
    "start_time": "2023-11-07T09:20:02.293Z"
   },
   {
    "duration": 105,
    "start_time": "2023-11-07T09:20:02.305Z"
   },
   {
    "duration": 17,
    "start_time": "2023-11-07T09:20:02.412Z"
   },
   {
    "duration": 165,
    "start_time": "2023-11-07T09:20:02.430Z"
   },
   {
    "duration": 2217,
    "start_time": "2023-11-07T09:20:02.596Z"
   },
   {
    "duration": 15,
    "start_time": "2023-11-07T09:20:04.815Z"
   },
   {
    "duration": 53,
    "start_time": "2023-11-07T09:20:04.832Z"
   },
   {
    "duration": 10,
    "start_time": "2023-11-07T09:20:04.888Z"
   },
   {
    "duration": 72,
    "start_time": "2023-11-07T09:20:04.899Z"
   },
   {
    "duration": 16,
    "start_time": "2023-11-07T09:20:04.973Z"
   },
   {
    "duration": 57,
    "start_time": "2023-11-07T09:20:04.991Z"
   },
   {
    "duration": 16,
    "start_time": "2023-11-07T09:20:05.050Z"
   },
   {
    "duration": 41,
    "start_time": "2023-11-07T09:20:05.068Z"
   },
   {
    "duration": 23,
    "start_time": "2023-11-07T09:20:05.111Z"
   },
   {
    "duration": 45,
    "start_time": "2023-11-07T09:20:05.135Z"
   },
   {
    "duration": 74,
    "start_time": "2023-11-07T09:20:05.181Z"
   },
   {
    "duration": 16,
    "start_time": "2023-11-07T09:20:05.257Z"
   },
   {
    "duration": 48,
    "start_time": "2023-11-07T09:20:05.276Z"
   },
   {
    "duration": 14,
    "start_time": "2023-11-07T09:20:05.326Z"
   },
   {
    "duration": 9,
    "start_time": "2023-11-07T09:20:05.342Z"
   },
   {
    "duration": 14,
    "start_time": "2023-11-07T09:20:05.353Z"
   },
   {
    "duration": 22,
    "start_time": "2023-11-07T09:20:05.369Z"
   },
   {
    "duration": 61,
    "start_time": "2023-11-07T09:20:05.393Z"
   },
   {
    "duration": 76,
    "start_time": "2023-11-07T09:20:05.456Z"
   },
   {
    "duration": 18,
    "start_time": "2023-11-07T09:20:05.534Z"
   },
   {
    "duration": 26,
    "start_time": "2023-11-07T09:20:05.554Z"
   },
   {
    "duration": 16,
    "start_time": "2023-11-07T09:20:05.582Z"
   },
   {
    "duration": 79,
    "start_time": "2023-11-07T09:20:05.600Z"
   },
   {
    "duration": 17315,
    "start_time": "2023-11-07T09:20:05.681Z"
   },
   {
    "duration": 17,
    "start_time": "2023-11-07T09:20:22.998Z"
   },
   {
    "duration": 435,
    "start_time": "2023-11-07T09:20:23.017Z"
   },
   {
    "duration": 21,
    "start_time": "2023-11-07T09:20:23.454Z"
   },
   {
    "duration": 218,
    "start_time": "2023-11-07T09:20:23.477Z"
   },
   {
    "duration": 116,
    "start_time": "2023-11-07T09:20:23.697Z"
   },
   {
    "duration": 69,
    "start_time": "2023-11-07T09:20:23.818Z"
   },
   {
    "duration": 159,
    "start_time": "2023-11-07T09:20:23.889Z"
   },
   {
    "duration": 4,
    "start_time": "2023-11-07T09:20:24.050Z"
   },
   {
    "duration": 36,
    "start_time": "2023-11-07T09:20:24.057Z"
   },
   {
    "duration": 30,
    "start_time": "2023-11-07T09:20:24.094Z"
   },
   {
    "duration": 246,
    "start_time": "2023-11-07T09:20:24.126Z"
   },
   {
    "duration": 35,
    "start_time": "2023-11-07T09:20:24.373Z"
   },
   {
    "duration": 760,
    "start_time": "2023-11-07T09:20:24.410Z"
   },
   {
    "duration": 21,
    "start_time": "2023-11-07T09:20:25.173Z"
   },
   {
    "duration": 150,
    "start_time": "2023-11-07T09:20:25.197Z"
   },
   {
    "duration": 91,
    "start_time": "2023-11-07T09:20:25.349Z"
   },
   {
    "duration": 119,
    "start_time": "2023-11-07T09:20:25.449Z"
   },
   {
    "duration": 178,
    "start_time": "2023-11-07T09:20:25.570Z"
   },
   {
    "duration": 13,
    "start_time": "2023-11-07T09:20:25.750Z"
   },
   {
    "duration": 104,
    "start_time": "2023-11-07T09:20:25.765Z"
   },
   {
    "duration": 112,
    "start_time": "2023-11-07T09:20:25.871Z"
   },
   {
    "duration": 100,
    "start_time": "2023-11-07T09:20:25.985Z"
   },
   {
    "duration": 67,
    "start_time": "2023-11-07T09:20:26.086Z"
   },
   {
    "duration": 28,
    "start_time": "2023-11-07T09:20:26.155Z"
   },
   {
    "duration": 8,
    "start_time": "2023-11-07T09:20:26.185Z"
   },
   {
    "duration": 15,
    "start_time": "2023-11-07T09:20:26.194Z"
   }
  ],
  "kernelspec": {
   "display_name": "Python 3 (ipykernel)",
   "language": "python",
   "name": "python3"
  },
  "language_info": {
   "codemirror_mode": {
    "name": "ipython",
    "version": 3
   },
   "file_extension": ".py",
   "mimetype": "text/x-python",
   "name": "python",
   "nbconvert_exporter": "python",
   "pygments_lexer": "ipython3",
   "version": "3.9.13"
  },
  "toc": {
   "base_numbering": 1,
   "nav_menu": {},
   "number_sections": true,
   "sideBar": true,
   "skip_h1_title": true,
   "title_cell": "Table of Contents",
   "title_sidebar": "Contents",
   "toc_cell": false,
   "toc_position": {
    "height": "calc(100% - 180px)",
    "left": "10px",
    "top": "150px",
    "width": "607px"
   },
   "toc_section_display": true,
   "toc_window_display": true
  }
 },
 "nbformat": 4,
 "nbformat_minor": 2
}
