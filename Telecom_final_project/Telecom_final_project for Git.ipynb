{
 "cells": [
  {
   "cell_type": "markdown",
   "metadata": {},
   "source": [
    "<div class=\"alert alert-info\" style=\"border:solid blue 2px; padding: 20px\"> <b>Д.Р.:</b> Ссылка на дашборд (использовал уже очищенные и дополненные данные, чтобы соблюдать канву и цели моего исследования): https://public.tableau.com/views/DAR_Telecom_Final_DB/CallMePls_DB?:language=en-US&publish=yes&:display_count=n&:origin=viz_share_link   \n",
    "(разрешение установлено для 1080р)\n",
    "</div>"
   ]
  },
  {
   "cell_type": "markdown",
   "metadata": {},
   "source": [
    "# Проект Телеком, кейс \"Нупозвони\""
   ]
  },
  {
   "cell_type": "markdown",
   "metadata": {},
   "source": [
    "##  Цель проекта"
   ]
  },
  {
   "cell_type": "markdown",
   "metadata": {},
   "source": [
    "Я работаю в компании \"Нупозвони\" и перед руководством стоит задача определить неэффективных менеджеров, и выработать методику автоматизации определения неэффективности менеджера колл-центра.\n",
    "\n",
    "Имеется два датасета: датасет с данными о звонках менеджеров (telecom_dataset.csv) и датасет с данными пользователей (telecom_clients.csv).\n",
    "\n",
    "В датасете с данными о звонках представлены следующие поля:\n",
    "\n",
    "* user_id - идентификатор клиента\n",
    "* date - дата события\n",
    "* direction - направление вызова (in - входящий, out - исходящий)\n",
    "* internal - маркер внутренних вызовов между сотрудниками по ВАТС\n",
    "* operator_id - идентификатор оператора\n",
    "* is_missed_call - маркер пропущенного звонка\n",
    "* calls_count - количество звонков\n",
    "* call_duration - длительность звонка без учета времени ожидания\n",
    "* total_call_duration - длительность звонка с учетом времени ожидания\n",
    "\n",
    "В датасете с данными пользователей представлены следующие поля:\n",
    "\n",
    "* user_id - идентификатор клиента\n",
    "* tariff_plan - тарифный план клиента\n",
    "* date_start - дата регистрации клиента в сервисе\n",
    "\n",
    "Конечной целью анализа является определение эффективности работы сотрудников колл-центра, при определении критерия рассматриваются следующие показатели:\n",
    "\n",
    "- количество пропущенных входящих вызовов\n",
    "- время ожидания ответа оператора\n",
    "- число исходящих вызовов для операторов, ориентированных на обзвон клиентов."
   ]
  },
  {
   "cell_type": "markdown",
   "metadata": {},
   "source": [
    "## Введение и исходные данные"
   ]
  },
  {
   "cell_type": "markdown",
   "metadata": {},
   "source": [
    "Для исследования, как отмечено выше, предоставлены два датасета, в которых содержатся данные о звонках операторов колл-центров по различным направлениям. План работы будет следующим:\n",
    "\n",
    "1. Загрузка данных и изучение датасетов (соответствие типов данных столбцам, наименования столбцов и прочее);\n",
    "2. Предобработка данных: приведение данных к требуемым типам, работа с пропусками (исключение или заполнение), работа с дубликатами явными и неявными, дополнение данных (при необходимости) категориями для характерных групп;\n",
    "3. Исследовательский анализ данных: составление сводных таблиц и графиков, характеризующих имеющиеся данные, отслеживание закономерностей и характерных черт;\n",
    "4. Определение границ показателей эффективности операторов колл-центров;\n",
    "5. Постановка статистических гипотез (не менее двух) и их проверка."
   ]
  },
  {
   "cell_type": "markdown",
   "metadata": {},
   "source": [
    "### Загрузка библиотек и данных"
   ]
  },
  {
   "cell_type": "code",
   "execution_count": 1,
   "metadata": {},
   "outputs": [],
   "source": [
    "# загружаем библиотеки, которые понадобятся для работы с данными, а также для рисования графиков (возможно к финальной версии дополнится)\n",
    "import pandas as pd\n",
    "import numpy as np\n",
    "from datetime import datetime, timedelta\n",
    "from matplotlib import pyplot as plt\n",
    "import plotly.express as px\n",
    "from plotly import graph_objects as go \n",
    "from plotly.subplots import make_subplots\n",
    "import seaborn as sns\n",
    "from scipy import stats as st"
   ]
  },
  {
   "cell_type": "code",
   "execution_count": 2,
   "metadata": {},
   "outputs": [
    {
     "data": {
      "text/html": [
       "<div>\n",
       "<style scoped>\n",
       "    .dataframe tbody tr th:only-of-type {\n",
       "        vertical-align: middle;\n",
       "    }\n",
       "\n",
       "    .dataframe tbody tr th {\n",
       "        vertical-align: top;\n",
       "    }\n",
       "\n",
       "    .dataframe thead th {\n",
       "        text-align: right;\n",
       "    }\n",
       "</style>\n",
       "<table border=\"1\" class=\"dataframe\">\n",
       "  <thead>\n",
       "    <tr style=\"text-align: right;\">\n",
       "      <th></th>\n",
       "      <th>user_id</th>\n",
       "      <th>date</th>\n",
       "      <th>direction</th>\n",
       "      <th>internal</th>\n",
       "      <th>operator_id</th>\n",
       "      <th>is_missed_call</th>\n",
       "      <th>calls_count</th>\n",
       "      <th>call_duration</th>\n",
       "      <th>total_call_duration</th>\n",
       "    </tr>\n",
       "  </thead>\n",
       "  <tbody>\n",
       "    <tr>\n",
       "      <th>0</th>\n",
       "      <td>166377</td>\n",
       "      <td>2019-08-04 00:00:00+03:00</td>\n",
       "      <td>in</td>\n",
       "      <td>False</td>\n",
       "      <td>NaN</td>\n",
       "      <td>True</td>\n",
       "      <td>2</td>\n",
       "      <td>0</td>\n",
       "      <td>4</td>\n",
       "    </tr>\n",
       "    <tr>\n",
       "      <th>1</th>\n",
       "      <td>166377</td>\n",
       "      <td>2019-08-05 00:00:00+03:00</td>\n",
       "      <td>out</td>\n",
       "      <td>True</td>\n",
       "      <td>880022.0</td>\n",
       "      <td>True</td>\n",
       "      <td>3</td>\n",
       "      <td>0</td>\n",
       "      <td>5</td>\n",
       "    </tr>\n",
       "    <tr>\n",
       "      <th>2</th>\n",
       "      <td>166377</td>\n",
       "      <td>2019-08-05 00:00:00+03:00</td>\n",
       "      <td>out</td>\n",
       "      <td>True</td>\n",
       "      <td>880020.0</td>\n",
       "      <td>True</td>\n",
       "      <td>1</td>\n",
       "      <td>0</td>\n",
       "      <td>1</td>\n",
       "    </tr>\n",
       "    <tr>\n",
       "      <th>3</th>\n",
       "      <td>166377</td>\n",
       "      <td>2019-08-05 00:00:00+03:00</td>\n",
       "      <td>out</td>\n",
       "      <td>True</td>\n",
       "      <td>880020.0</td>\n",
       "      <td>False</td>\n",
       "      <td>1</td>\n",
       "      <td>10</td>\n",
       "      <td>18</td>\n",
       "    </tr>\n",
       "    <tr>\n",
       "      <th>4</th>\n",
       "      <td>166377</td>\n",
       "      <td>2019-08-05 00:00:00+03:00</td>\n",
       "      <td>out</td>\n",
       "      <td>False</td>\n",
       "      <td>880022.0</td>\n",
       "      <td>True</td>\n",
       "      <td>3</td>\n",
       "      <td>0</td>\n",
       "      <td>25</td>\n",
       "    </tr>\n",
       "    <tr>\n",
       "      <th>...</th>\n",
       "      <td>...</td>\n",
       "      <td>...</td>\n",
       "      <td>...</td>\n",
       "      <td>...</td>\n",
       "      <td>...</td>\n",
       "      <td>...</td>\n",
       "      <td>...</td>\n",
       "      <td>...</td>\n",
       "      <td>...</td>\n",
       "    </tr>\n",
       "    <tr>\n",
       "      <th>53897</th>\n",
       "      <td>168606</td>\n",
       "      <td>2019-11-10 00:00:00+03:00</td>\n",
       "      <td>out</td>\n",
       "      <td>True</td>\n",
       "      <td>957922.0</td>\n",
       "      <td>True</td>\n",
       "      <td>1</td>\n",
       "      <td>0</td>\n",
       "      <td>38</td>\n",
       "    </tr>\n",
       "    <tr>\n",
       "      <th>53898</th>\n",
       "      <td>168606</td>\n",
       "      <td>2019-11-11 00:00:00+03:00</td>\n",
       "      <td>out</td>\n",
       "      <td>True</td>\n",
       "      <td>957922.0</td>\n",
       "      <td>False</td>\n",
       "      <td>2</td>\n",
       "      <td>479</td>\n",
       "      <td>501</td>\n",
       "    </tr>\n",
       "    <tr>\n",
       "      <th>53899</th>\n",
       "      <td>168606</td>\n",
       "      <td>2019-11-15 00:00:00+03:00</td>\n",
       "      <td>out</td>\n",
       "      <td>True</td>\n",
       "      <td>957922.0</td>\n",
       "      <td>False</td>\n",
       "      <td>4</td>\n",
       "      <td>3130</td>\n",
       "      <td>3190</td>\n",
       "    </tr>\n",
       "    <tr>\n",
       "      <th>53900</th>\n",
       "      <td>168606</td>\n",
       "      <td>2019-11-15 00:00:00+03:00</td>\n",
       "      <td>out</td>\n",
       "      <td>True</td>\n",
       "      <td>957922.0</td>\n",
       "      <td>False</td>\n",
       "      <td>4</td>\n",
       "      <td>3130</td>\n",
       "      <td>3190</td>\n",
       "    </tr>\n",
       "    <tr>\n",
       "      <th>53901</th>\n",
       "      <td>168606</td>\n",
       "      <td>2019-11-19 00:00:00+03:00</td>\n",
       "      <td>in</td>\n",
       "      <td>False</td>\n",
       "      <td>NaN</td>\n",
       "      <td>True</td>\n",
       "      <td>2</td>\n",
       "      <td>0</td>\n",
       "      <td>64</td>\n",
       "    </tr>\n",
       "  </tbody>\n",
       "</table>\n",
       "<p>53902 rows × 9 columns</p>\n",
       "</div>"
      ],
      "text/plain": [
       "       user_id                       date direction internal  operator_id  \\\n",
       "0       166377  2019-08-04 00:00:00+03:00        in    False          NaN   \n",
       "1       166377  2019-08-05 00:00:00+03:00       out     True     880022.0   \n",
       "2       166377  2019-08-05 00:00:00+03:00       out     True     880020.0   \n",
       "3       166377  2019-08-05 00:00:00+03:00       out     True     880020.0   \n",
       "4       166377  2019-08-05 00:00:00+03:00       out    False     880022.0   \n",
       "...        ...                        ...       ...      ...          ...   \n",
       "53897   168606  2019-11-10 00:00:00+03:00       out     True     957922.0   \n",
       "53898   168606  2019-11-11 00:00:00+03:00       out     True     957922.0   \n",
       "53899   168606  2019-11-15 00:00:00+03:00       out     True     957922.0   \n",
       "53900   168606  2019-11-15 00:00:00+03:00       out     True     957922.0   \n",
       "53901   168606  2019-11-19 00:00:00+03:00        in    False          NaN   \n",
       "\n",
       "       is_missed_call  calls_count  call_duration  total_call_duration  \n",
       "0                True            2              0                    4  \n",
       "1                True            3              0                    5  \n",
       "2                True            1              0                    1  \n",
       "3               False            1             10                   18  \n",
       "4                True            3              0                   25  \n",
       "...               ...          ...            ...                  ...  \n",
       "53897            True            1              0                   38  \n",
       "53898           False            2            479                  501  \n",
       "53899           False            4           3130                 3190  \n",
       "53900           False            4           3130                 3190  \n",
       "53901            True            2              0                   64  \n",
       "\n",
       "[53902 rows x 9 columns]"
      ]
     },
     "execution_count": 2,
     "metadata": {},
     "output_type": "execute_result"
    }
   ],
   "source": [
    "df1=pd.read_csv('telecom_dataset.csv')\n",
    "df1"
   ]
  },
  {
   "cell_type": "code",
   "execution_count": 3,
   "metadata": {},
   "outputs": [
    {
     "data": {
      "text/html": [
       "<div>\n",
       "<style scoped>\n",
       "    .dataframe tbody tr th:only-of-type {\n",
       "        vertical-align: middle;\n",
       "    }\n",
       "\n",
       "    .dataframe tbody tr th {\n",
       "        vertical-align: top;\n",
       "    }\n",
       "\n",
       "    .dataframe thead th {\n",
       "        text-align: right;\n",
       "    }\n",
       "</style>\n",
       "<table border=\"1\" class=\"dataframe\">\n",
       "  <thead>\n",
       "    <tr style=\"text-align: right;\">\n",
       "      <th></th>\n",
       "      <th>user_id</th>\n",
       "      <th>tariff_plan</th>\n",
       "      <th>date_start</th>\n",
       "    </tr>\n",
       "  </thead>\n",
       "  <tbody>\n",
       "    <tr>\n",
       "      <th>0</th>\n",
       "      <td>166713</td>\n",
       "      <td>A</td>\n",
       "      <td>2019-08-15</td>\n",
       "    </tr>\n",
       "    <tr>\n",
       "      <th>1</th>\n",
       "      <td>166901</td>\n",
       "      <td>A</td>\n",
       "      <td>2019-08-23</td>\n",
       "    </tr>\n",
       "    <tr>\n",
       "      <th>2</th>\n",
       "      <td>168527</td>\n",
       "      <td>A</td>\n",
       "      <td>2019-10-29</td>\n",
       "    </tr>\n",
       "    <tr>\n",
       "      <th>3</th>\n",
       "      <td>167097</td>\n",
       "      <td>A</td>\n",
       "      <td>2019-09-01</td>\n",
       "    </tr>\n",
       "    <tr>\n",
       "      <th>4</th>\n",
       "      <td>168193</td>\n",
       "      <td>A</td>\n",
       "      <td>2019-10-16</td>\n",
       "    </tr>\n",
       "    <tr>\n",
       "      <th>...</th>\n",
       "      <td>...</td>\n",
       "      <td>...</td>\n",
       "      <td>...</td>\n",
       "    </tr>\n",
       "    <tr>\n",
       "      <th>727</th>\n",
       "      <td>166554</td>\n",
       "      <td>B</td>\n",
       "      <td>2019-08-08</td>\n",
       "    </tr>\n",
       "    <tr>\n",
       "      <th>728</th>\n",
       "      <td>166911</td>\n",
       "      <td>B</td>\n",
       "      <td>2019-08-23</td>\n",
       "    </tr>\n",
       "    <tr>\n",
       "      <th>729</th>\n",
       "      <td>167012</td>\n",
       "      <td>B</td>\n",
       "      <td>2019-08-28</td>\n",
       "    </tr>\n",
       "    <tr>\n",
       "      <th>730</th>\n",
       "      <td>166867</td>\n",
       "      <td>B</td>\n",
       "      <td>2019-08-22</td>\n",
       "    </tr>\n",
       "    <tr>\n",
       "      <th>731</th>\n",
       "      <td>166565</td>\n",
       "      <td>B</td>\n",
       "      <td>2019-08-08</td>\n",
       "    </tr>\n",
       "  </tbody>\n",
       "</table>\n",
       "<p>732 rows × 3 columns</p>\n",
       "</div>"
      ],
      "text/plain": [
       "     user_id tariff_plan  date_start\n",
       "0     166713           A  2019-08-15\n",
       "1     166901           A  2019-08-23\n",
       "2     168527           A  2019-10-29\n",
       "3     167097           A  2019-09-01\n",
       "4     168193           A  2019-10-16\n",
       "..       ...         ...         ...\n",
       "727   166554           B  2019-08-08\n",
       "728   166911           B  2019-08-23\n",
       "729   167012           B  2019-08-28\n",
       "730   166867           B  2019-08-22\n",
       "731   166565           B  2019-08-08\n",
       "\n",
       "[732 rows x 3 columns]"
      ]
     },
     "execution_count": 3,
     "metadata": {},
     "output_type": "execute_result"
    }
   ],
   "source": [
    "df2=pd.read_csv('telecom_clients.csv')\n",
    "df2"
   ]
  },
  {
   "cell_type": "code",
   "execution_count": 4,
   "metadata": {},
   "outputs": [
    {
     "name": "stdout",
     "output_type": "stream",
     "text": [
      "Уникальных пользователей в датасете telecom_dataset: 307\n"
     ]
    }
   ],
   "source": [
    "print('Уникальных пользователей в датасете telecom_dataset:',df1['user_id'].nunique())"
   ]
  },
  {
   "cell_type": "code",
   "execution_count": 5,
   "metadata": {},
   "outputs": [
    {
     "name": "stdout",
     "output_type": "stream",
     "text": [
      "Уникальных пользователей в датасете telecom_clients: 732\n"
     ]
    }
   ],
   "source": [
    "print('Уникальных пользователей в датасете telecom_clients:',df2['user_id'].nunique())"
   ]
  },
  {
   "cell_type": "markdown",
   "metadata": {},
   "source": [
    "Перед объединением датафреймов в один общий необходимо определить, какова полнота данных по пользователям в наборе данных о звонках. В данном случае больше половины известных пользователей с тарифными планами не вошли в первый датасет. Это могло произойти по разным причинам, начиная от их неактивности (то есть, существующий пользователь не совершил первый звонок или не совершал звонков за имеющийся период наблюдений) до искусственно набранной базы, состоящей из \"пустых\" пользователей. В данном исследовании причины этого не рассматриваются, равно как не проводятся мероприятия по дополнению данных по отсутствующим пользователям из базы."
   ]
  },
  {
   "cell_type": "code",
   "execution_count": 6,
   "metadata": {},
   "outputs": [
    {
     "data": {
      "text/html": [
       "<div>\n",
       "<style scoped>\n",
       "    .dataframe tbody tr th:only-of-type {\n",
       "        vertical-align: middle;\n",
       "    }\n",
       "\n",
       "    .dataframe tbody tr th {\n",
       "        vertical-align: top;\n",
       "    }\n",
       "\n",
       "    .dataframe thead th {\n",
       "        text-align: right;\n",
       "    }\n",
       "</style>\n",
       "<table border=\"1\" class=\"dataframe\">\n",
       "  <thead>\n",
       "    <tr style=\"text-align: right;\">\n",
       "      <th></th>\n",
       "      <th>user_id</th>\n",
       "      <th>date</th>\n",
       "      <th>direction</th>\n",
       "      <th>internal</th>\n",
       "      <th>operator_id</th>\n",
       "      <th>is_missed_call</th>\n",
       "      <th>calls_count</th>\n",
       "      <th>call_duration</th>\n",
       "      <th>total_call_duration</th>\n",
       "      <th>tariff_plan</th>\n",
       "      <th>date_start</th>\n",
       "    </tr>\n",
       "  </thead>\n",
       "  <tbody>\n",
       "    <tr>\n",
       "      <th>0</th>\n",
       "      <td>166377</td>\n",
       "      <td>2019-08-04 00:00:00+03:00</td>\n",
       "      <td>in</td>\n",
       "      <td>False</td>\n",
       "      <td>NaN</td>\n",
       "      <td>True</td>\n",
       "      <td>2</td>\n",
       "      <td>0</td>\n",
       "      <td>4</td>\n",
       "      <td>B</td>\n",
       "      <td>2019-08-01</td>\n",
       "    </tr>\n",
       "    <tr>\n",
       "      <th>1</th>\n",
       "      <td>166377</td>\n",
       "      <td>2019-08-05 00:00:00+03:00</td>\n",
       "      <td>out</td>\n",
       "      <td>True</td>\n",
       "      <td>880022.0</td>\n",
       "      <td>True</td>\n",
       "      <td>3</td>\n",
       "      <td>0</td>\n",
       "      <td>5</td>\n",
       "      <td>B</td>\n",
       "      <td>2019-08-01</td>\n",
       "    </tr>\n",
       "    <tr>\n",
       "      <th>2</th>\n",
       "      <td>166377</td>\n",
       "      <td>2019-08-05 00:00:00+03:00</td>\n",
       "      <td>out</td>\n",
       "      <td>True</td>\n",
       "      <td>880020.0</td>\n",
       "      <td>True</td>\n",
       "      <td>1</td>\n",
       "      <td>0</td>\n",
       "      <td>1</td>\n",
       "      <td>B</td>\n",
       "      <td>2019-08-01</td>\n",
       "    </tr>\n",
       "    <tr>\n",
       "      <th>3</th>\n",
       "      <td>166377</td>\n",
       "      <td>2019-08-05 00:00:00+03:00</td>\n",
       "      <td>out</td>\n",
       "      <td>True</td>\n",
       "      <td>880020.0</td>\n",
       "      <td>False</td>\n",
       "      <td>1</td>\n",
       "      <td>10</td>\n",
       "      <td>18</td>\n",
       "      <td>B</td>\n",
       "      <td>2019-08-01</td>\n",
       "    </tr>\n",
       "    <tr>\n",
       "      <th>4</th>\n",
       "      <td>166377</td>\n",
       "      <td>2019-08-05 00:00:00+03:00</td>\n",
       "      <td>out</td>\n",
       "      <td>False</td>\n",
       "      <td>880022.0</td>\n",
       "      <td>True</td>\n",
       "      <td>3</td>\n",
       "      <td>0</td>\n",
       "      <td>25</td>\n",
       "      <td>B</td>\n",
       "      <td>2019-08-01</td>\n",
       "    </tr>\n",
       "    <tr>\n",
       "      <th>...</th>\n",
       "      <td>...</td>\n",
       "      <td>...</td>\n",
       "      <td>...</td>\n",
       "      <td>...</td>\n",
       "      <td>...</td>\n",
       "      <td>...</td>\n",
       "      <td>...</td>\n",
       "      <td>...</td>\n",
       "      <td>...</td>\n",
       "      <td>...</td>\n",
       "      <td>...</td>\n",
       "    </tr>\n",
       "    <tr>\n",
       "      <th>53897</th>\n",
       "      <td>168606</td>\n",
       "      <td>2019-11-10 00:00:00+03:00</td>\n",
       "      <td>out</td>\n",
       "      <td>True</td>\n",
       "      <td>957922.0</td>\n",
       "      <td>True</td>\n",
       "      <td>1</td>\n",
       "      <td>0</td>\n",
       "      <td>38</td>\n",
       "      <td>C</td>\n",
       "      <td>2019-10-31</td>\n",
       "    </tr>\n",
       "    <tr>\n",
       "      <th>53898</th>\n",
       "      <td>168606</td>\n",
       "      <td>2019-11-11 00:00:00+03:00</td>\n",
       "      <td>out</td>\n",
       "      <td>True</td>\n",
       "      <td>957922.0</td>\n",
       "      <td>False</td>\n",
       "      <td>2</td>\n",
       "      <td>479</td>\n",
       "      <td>501</td>\n",
       "      <td>C</td>\n",
       "      <td>2019-10-31</td>\n",
       "    </tr>\n",
       "    <tr>\n",
       "      <th>53899</th>\n",
       "      <td>168606</td>\n",
       "      <td>2019-11-15 00:00:00+03:00</td>\n",
       "      <td>out</td>\n",
       "      <td>True</td>\n",
       "      <td>957922.0</td>\n",
       "      <td>False</td>\n",
       "      <td>4</td>\n",
       "      <td>3130</td>\n",
       "      <td>3190</td>\n",
       "      <td>C</td>\n",
       "      <td>2019-10-31</td>\n",
       "    </tr>\n",
       "    <tr>\n",
       "      <th>53900</th>\n",
       "      <td>168606</td>\n",
       "      <td>2019-11-15 00:00:00+03:00</td>\n",
       "      <td>out</td>\n",
       "      <td>True</td>\n",
       "      <td>957922.0</td>\n",
       "      <td>False</td>\n",
       "      <td>4</td>\n",
       "      <td>3130</td>\n",
       "      <td>3190</td>\n",
       "      <td>C</td>\n",
       "      <td>2019-10-31</td>\n",
       "    </tr>\n",
       "    <tr>\n",
       "      <th>53901</th>\n",
       "      <td>168606</td>\n",
       "      <td>2019-11-19 00:00:00+03:00</td>\n",
       "      <td>in</td>\n",
       "      <td>False</td>\n",
       "      <td>NaN</td>\n",
       "      <td>True</td>\n",
       "      <td>2</td>\n",
       "      <td>0</td>\n",
       "      <td>64</td>\n",
       "      <td>C</td>\n",
       "      <td>2019-10-31</td>\n",
       "    </tr>\n",
       "  </tbody>\n",
       "</table>\n",
       "<p>53902 rows × 11 columns</p>\n",
       "</div>"
      ],
      "text/plain": [
       "       user_id                       date direction internal  operator_id  \\\n",
       "0       166377  2019-08-04 00:00:00+03:00        in    False          NaN   \n",
       "1       166377  2019-08-05 00:00:00+03:00       out     True     880022.0   \n",
       "2       166377  2019-08-05 00:00:00+03:00       out     True     880020.0   \n",
       "3       166377  2019-08-05 00:00:00+03:00       out     True     880020.0   \n",
       "4       166377  2019-08-05 00:00:00+03:00       out    False     880022.0   \n",
       "...        ...                        ...       ...      ...          ...   \n",
       "53897   168606  2019-11-10 00:00:00+03:00       out     True     957922.0   \n",
       "53898   168606  2019-11-11 00:00:00+03:00       out     True     957922.0   \n",
       "53899   168606  2019-11-15 00:00:00+03:00       out     True     957922.0   \n",
       "53900   168606  2019-11-15 00:00:00+03:00       out     True     957922.0   \n",
       "53901   168606  2019-11-19 00:00:00+03:00        in    False          NaN   \n",
       "\n",
       "       is_missed_call  calls_count  call_duration  total_call_duration  \\\n",
       "0                True            2              0                    4   \n",
       "1                True            3              0                    5   \n",
       "2                True            1              0                    1   \n",
       "3               False            1             10                   18   \n",
       "4                True            3              0                   25   \n",
       "...               ...          ...            ...                  ...   \n",
       "53897            True            1              0                   38   \n",
       "53898           False            2            479                  501   \n",
       "53899           False            4           3130                 3190   \n",
       "53900           False            4           3130                 3190   \n",
       "53901            True            2              0                   64   \n",
       "\n",
       "      tariff_plan  date_start  \n",
       "0               B  2019-08-01  \n",
       "1               B  2019-08-01  \n",
       "2               B  2019-08-01  \n",
       "3               B  2019-08-01  \n",
       "4               B  2019-08-01  \n",
       "...           ...         ...  \n",
       "53897           C  2019-10-31  \n",
       "53898           C  2019-10-31  \n",
       "53899           C  2019-10-31  \n",
       "53900           C  2019-10-31  \n",
       "53901           C  2019-10-31  \n",
       "\n",
       "[53902 rows x 11 columns]"
      ]
     },
     "execution_count": 6,
     "metadata": {},
     "output_type": "execute_result"
    }
   ],
   "source": [
    "df=df1.merge(df2,on='user_id',how='left')\n",
    "df"
   ]
  },
  {
   "cell_type": "code",
   "execution_count": 7,
   "metadata": {},
   "outputs": [
    {
     "name": "stdout",
     "output_type": "stream",
     "text": [
      "<class 'pandas.core.frame.DataFrame'>\n",
      "Int64Index: 53902 entries, 0 to 53901\n",
      "Data columns (total 11 columns):\n",
      " #   Column               Non-Null Count  Dtype  \n",
      "---  ------               --------------  -----  \n",
      " 0   user_id              53902 non-null  int64  \n",
      " 1   date                 53902 non-null  object \n",
      " 2   direction            53902 non-null  object \n",
      " 3   internal             53785 non-null  object \n",
      " 4   operator_id          45730 non-null  float64\n",
      " 5   is_missed_call       53902 non-null  bool   \n",
      " 6   calls_count          53902 non-null  int64  \n",
      " 7   call_duration        53902 non-null  int64  \n",
      " 8   total_call_duration  53902 non-null  int64  \n",
      " 9   tariff_plan          53902 non-null  object \n",
      " 10  date_start           53902 non-null  object \n",
      "dtypes: bool(1), float64(1), int64(4), object(5)\n",
      "memory usage: 4.6+ MB\n"
     ]
    }
   ],
   "source": [
    "df.info()"
   ]
  },
  {
   "cell_type": "code",
   "execution_count": 8,
   "metadata": {
    "scrolled": true
   },
   "outputs": [
    {
     "data": {
      "text/plain": [
       "168187    2580\n",
       "166658    2107\n",
       "167497    1405\n",
       "167626    1311\n",
       "166916    1308\n",
       "          ... \n",
       "166584       1\n",
       "167981       1\n",
       "168578       1\n",
       "168013       1\n",
       "166554       1\n",
       "Name: user_id, Length: 307, dtype: int64"
      ]
     },
     "metadata": {},
     "output_type": "display_data"
    },
    {
     "data": {
      "text/plain": [
       "2019-11-25 00:00:00+03:00    1220\n",
       "2019-11-28 00:00:00+03:00    1198\n",
       "2019-11-21 00:00:00+03:00    1186\n",
       "2019-11-27 00:00:00+03:00    1180\n",
       "2019-11-22 00:00:00+03:00    1176\n",
       "                             ... \n",
       "2019-08-03 00:00:00+03:00       9\n",
       "2019-08-02 00:00:00+03:00       8\n",
       "2019-08-10 00:00:00+03:00       7\n",
       "2019-08-04 00:00:00+03:00       4\n",
       "2019-08-11 00:00:00+03:00       2\n",
       "Name: date, Length: 119, dtype: int64"
      ]
     },
     "metadata": {},
     "output_type": "display_data"
    },
    {
     "data": {
      "text/plain": [
       "out    31917\n",
       "in     21985\n",
       "Name: direction, dtype: int64"
      ]
     },
     "metadata": {},
     "output_type": "display_data"
    },
    {
     "data": {
      "text/plain": [
       "False    47621\n",
       "True      6164\n",
       "Name: internal, dtype: int64"
      ]
     },
     "metadata": {},
     "output_type": "display_data"
    },
    {
     "data": {
      "text/plain": [
       "901884.0    348\n",
       "901880.0    337\n",
       "893804.0    325\n",
       "885876.0    319\n",
       "891410.0    290\n",
       "           ... \n",
       "911152.0      1\n",
       "891250.0      1\n",
       "962904.0      1\n",
       "940512.0      1\n",
       "937772.0      1\n",
       "Name: operator_id, Length: 1092, dtype: int64"
      ]
     },
     "metadata": {},
     "output_type": "display_data"
    },
    {
     "data": {
      "text/plain": [
       "False    30334\n",
       "True     23568\n",
       "Name: is_missed_call, dtype: int64"
      ]
     },
     "metadata": {},
     "output_type": "display_data"
    },
    {
     "data": {
      "text/plain": [
       "1      14321\n",
       "2       7015\n",
       "3       4483\n",
       "4       3342\n",
       "5       2454\n",
       "       ...  \n",
       "995        1\n",
       "519        1\n",
       "314        1\n",
       "464        1\n",
       "748        1\n",
       "Name: calls_count, Length: 502, dtype: int64"
      ]
     },
     "metadata": {},
     "output_type": "display_data"
    },
    {
     "data": {
      "text/plain": [
       "0        23263\n",
       "1          200\n",
       "7          144\n",
       "15         126\n",
       "13         125\n",
       "         ...  \n",
       "10061        1\n",
       "57988        1\n",
       "12935        1\n",
       "1108         1\n",
       "3296         1\n",
       "Name: call_duration, Length: 5373, dtype: int64"
      ]
     },
     "metadata": {},
     "output_type": "display_data"
    },
    {
     "data": {
      "text/plain": [
       "0       1320\n",
       "2        850\n",
       "1        527\n",
       "4        461\n",
       "6        380\n",
       "        ... \n",
       "2801       1\n",
       "2175       1\n",
       "2480       1\n",
       "3337       1\n",
       "2699       1\n",
       "Name: total_call_duration, Length: 6040, dtype: int64"
      ]
     },
     "metadata": {},
     "output_type": "display_data"
    },
    {
     "data": {
      "text/plain": [
       "C    20061\n",
       "B    18944\n",
       "A    14897\n",
       "Name: tariff_plan, dtype: int64"
      ]
     },
     "metadata": {},
     "output_type": "display_data"
    },
    {
     "data": {
      "text/plain": [
       "2019-09-24    2802\n",
       "2019-10-16    2720\n",
       "2019-08-06    2321\n",
       "2019-08-13    2228\n",
       "2019-08-23    2204\n",
       "              ... \n",
       "2019-10-29       7\n",
       "2019-10-30       5\n",
       "2019-10-25       4\n",
       "2019-09-25       2\n",
       "2019-10-26       2\n",
       "Name: date_start, Length: 66, dtype: int64"
      ]
     },
     "metadata": {},
     "output_type": "display_data"
    }
   ],
   "source": [
    "for col in df.columns:\n",
    "    display(df[col].value_counts())"
   ]
  },
  {
   "cell_type": "markdown",
   "metadata": {},
   "source": [
    "Сразу бросается в глаза наличие пропусков в некоторых столбцах датасета, а также несоответствие типа данных в некоторых столбцах (date, internal, operator_id, date_start). Приведением данных к нужным типам займемся в следующем разделе."
   ]
  },
  {
   "cell_type": "markdown",
   "metadata": {},
   "source": [
    "## Предобработка данных"
   ]
  },
  {
   "cell_type": "markdown",
   "metadata": {},
   "source": [
    "В настоящем разделе проведем предобработку данных, удалим пропуски и приведем типы данных в отдельных столбцах к тому типу, который в них подразумевается (при отсутствии пропусков)."
   ]
  },
  {
   "cell_type": "markdown",
   "metadata": {},
   "source": [
    "### Работа с пропусками"
   ]
  },
  {
   "cell_type": "markdown",
   "metadata": {},
   "source": [
    "В первую очередь изучим пропуски и примем решение об их обработке."
   ]
  },
  {
   "cell_type": "code",
   "execution_count": 9,
   "metadata": {},
   "outputs": [
    {
     "data": {
      "text/plain": [
       "user_id                   0\n",
       "date                      0\n",
       "direction                 0\n",
       "internal                117\n",
       "operator_id            8172\n",
       "is_missed_call            0\n",
       "calls_count               0\n",
       "call_duration             0\n",
       "total_call_duration       0\n",
       "tariff_plan               0\n",
       "date_start                0\n",
       "dtype: int64"
      ]
     },
     "execution_count": 9,
     "metadata": {},
     "output_type": "execute_result"
    }
   ],
   "source": [
    "df.isna().sum()"
   ]
  },
  {
   "cell_type": "markdown",
   "metadata": {},
   "source": [
    "Есть немногим более 8 тысяч записей с отсутствующим оператором, а также 117 записей с отсутствующим признаком звонка, совершенного по внутренней сети или вовне.\n",
    "\n",
    "В случае маркера звонка, совершенного во внутренней сети - достоверно и даже приблизительно невозможно установить, был ли звонок совершен операторами внутри сети или во внешнем мире. По этой причине, от этих пропусков можно избавиться.\n",
    "\n",
    "В случае отсутствия номера оператора, такие звонки невозможно использовать для целей исследования, - определения эффективности **операторов**, поэтому звонки без присвоенного оператора автоматически идут в общую статистику эффективности работы самого колл-центра, но не оператора. По этой причине, как не представляющие ценности для исследования, эти пропуски также можно убрать."
   ]
  },
  {
   "cell_type": "code",
   "execution_count": 10,
   "metadata": {},
   "outputs": [
    {
     "data": {
      "text/plain": [
       "user_id                0\n",
       "date                   0\n",
       "direction              0\n",
       "internal               0\n",
       "operator_id            0\n",
       "is_missed_call         0\n",
       "calls_count            0\n",
       "call_duration          0\n",
       "total_call_duration    0\n",
       "tariff_plan            0\n",
       "date_start             0\n",
       "dtype: int64"
      ]
     },
     "execution_count": 10,
     "metadata": {},
     "output_type": "execute_result"
    }
   ],
   "source": [
    "df=df.dropna(subset=['internal','operator_id'])\n",
    "df.isna().sum()"
   ]
  },
  {
   "cell_type": "markdown",
   "metadata": {},
   "source": [
    "### Корректировка типов данных"
   ]
  },
  {
   "cell_type": "markdown",
   "metadata": {},
   "source": [
    "Теперь, когда пропусков нет, и они не могут оказывать влияние на типы данных в столбцах, оценим, с какими данными необходимо провести работу по приведению их в нужные типы."
   ]
  },
  {
   "cell_type": "code",
   "execution_count": 11,
   "metadata": {},
   "outputs": [
    {
     "name": "stdout",
     "output_type": "stream",
     "text": [
      "<class 'pandas.core.frame.DataFrame'>\n",
      "Int64Index: 45670 entries, 1 to 53900\n",
      "Data columns (total 11 columns):\n",
      " #   Column               Non-Null Count  Dtype  \n",
      "---  ------               --------------  -----  \n",
      " 0   user_id              45670 non-null  int64  \n",
      " 1   date                 45670 non-null  object \n",
      " 2   direction            45670 non-null  object \n",
      " 3   internal             45670 non-null  object \n",
      " 4   operator_id          45670 non-null  float64\n",
      " 5   is_missed_call       45670 non-null  bool   \n",
      " 6   calls_count          45670 non-null  int64  \n",
      " 7   call_duration        45670 non-null  int64  \n",
      " 8   total_call_duration  45670 non-null  int64  \n",
      " 9   tariff_plan          45670 non-null  object \n",
      " 10  date_start           45670 non-null  object \n",
      "dtypes: bool(1), float64(1), int64(4), object(5)\n",
      "memory usage: 3.9+ MB\n"
     ]
    }
   ],
   "source": [
    "df.info()"
   ]
  },
  {
   "cell_type": "markdown",
   "metadata": {},
   "source": [
    "Будем работать со следующими столбцами: date, internal, operator_id, date_start"
   ]
  },
  {
   "cell_type": "code",
   "execution_count": 12,
   "metadata": {},
   "outputs": [
    {
     "name": "stdout",
     "output_type": "stream",
     "text": [
      "<class 'pandas.core.frame.DataFrame'>\n",
      "Int64Index: 45670 entries, 1 to 53900\n",
      "Data columns (total 11 columns):\n",
      " #   Column               Non-Null Count  Dtype \n",
      "---  ------               --------------  ----- \n",
      " 0   user_id              45670 non-null  int64 \n",
      " 1   date                 45670 non-null  object\n",
      " 2   direction            45670 non-null  object\n",
      " 3   internal             45670 non-null  bool  \n",
      " 4   operator_id          45670 non-null  int32 \n",
      " 5   is_missed_call       45670 non-null  bool  \n",
      " 6   calls_count          45670 non-null  int64 \n",
      " 7   call_duration        45670 non-null  int64 \n",
      " 8   total_call_duration  45670 non-null  int64 \n",
      " 9   tariff_plan          45670 non-null  object\n",
      " 10  date_start           45670 non-null  object\n",
      "dtypes: bool(2), int32(1), int64(4), object(4)\n",
      "memory usage: 3.4+ MB\n"
     ]
    },
    {
     "name": "stderr",
     "output_type": "stream",
     "text": [
      "C:\\Users\\Admin\\AppData\\Local\\Temp\\ipykernel_13264\\3582776517.py:1: SettingWithCopyWarning: \n",
      "A value is trying to be set on a copy of a slice from a DataFrame.\n",
      "Try using .loc[row_indexer,col_indexer] = value instead\n",
      "\n",
      "See the caveats in the documentation: https://pandas.pydata.org/pandas-docs/stable/user_guide/indexing.html#returning-a-view-versus-a-copy\n",
      "  df[['operator_id','internal']] = df[['operator_id','internal']].astype({'operator_id':int,'internal':bool})\n"
     ]
    }
   ],
   "source": [
    "df[['operator_id','internal']] = df[['operator_id','internal']].astype({'operator_id':int,'internal':bool})\n",
    "df.info()"
   ]
  },
  {
   "cell_type": "markdown",
   "metadata": {},
   "source": [
    "Выше при загрузке данных и первом рассмотрении их, можно было заметить, что в столбце date время имеет в каждой дате формат 00:00:00 - это означает, что для каждого оператора в каждом колл-центре собирается общая статистика вызовов за день. Поэтому, от указания времени в столбце date можно избавиться и привести его к дате без времени."
   ]
  },
  {
   "cell_type": "code",
   "execution_count": 13,
   "metadata": {
    "scrolled": false
   },
   "outputs": [
    {
     "name": "stdout",
     "output_type": "stream",
     "text": [
      "<class 'pandas.core.frame.DataFrame'>\n",
      "Int64Index: 45670 entries, 1 to 53900\n",
      "Data columns (total 11 columns):\n",
      " #   Column               Non-Null Count  Dtype         \n",
      "---  ------               --------------  -----         \n",
      " 0   user_id              45670 non-null  int64         \n",
      " 1   date                 45670 non-null  datetime64[ns]\n",
      " 2   direction            45670 non-null  object        \n",
      " 3   internal             45670 non-null  bool          \n",
      " 4   operator_id          45670 non-null  int32         \n",
      " 5   is_missed_call       45670 non-null  bool          \n",
      " 6   calls_count          45670 non-null  int64         \n",
      " 7   call_duration        45670 non-null  int64         \n",
      " 8   total_call_duration  45670 non-null  int64         \n",
      " 9   tariff_plan          45670 non-null  object        \n",
      " 10  date_start           45670 non-null  object        \n",
      "dtypes: bool(2), datetime64[ns](1), int32(1), int64(4), object(3)\n",
      "memory usage: 3.4+ MB\n"
     ]
    },
    {
     "name": "stderr",
     "output_type": "stream",
     "text": [
      "C:\\Users\\Admin\\AppData\\Local\\Temp\\ipykernel_13264\\2563061813.py:1: SettingWithCopyWarning: \n",
      "A value is trying to be set on a copy of a slice from a DataFrame.\n",
      "Try using .loc[row_indexer,col_indexer] = value instead\n",
      "\n",
      "See the caveats in the documentation: https://pandas.pydata.org/pandas-docs/stable/user_guide/indexing.html#returning-a-view-versus-a-copy\n",
      "  df['date']=pd.to_datetime(df['date']).dt.strftime('%Y-%m-%d')\n",
      "C:\\Users\\Admin\\AppData\\Local\\Temp\\ipykernel_13264\\2563061813.py:2: SettingWithCopyWarning: \n",
      "A value is trying to be set on a copy of a slice from a DataFrame.\n",
      "Try using .loc[row_indexer,col_indexer] = value instead\n",
      "\n",
      "See the caveats in the documentation: https://pandas.pydata.org/pandas-docs/stable/user_guide/indexing.html#returning-a-view-versus-a-copy\n",
      "  df['date']=pd.to_datetime(df['date'])\n"
     ]
    }
   ],
   "source": [
    "df['date']=pd.to_datetime(df['date']).dt.strftime('%Y-%m-%d')\n",
    "df['date']=pd.to_datetime(df['date'])\n",
    "df.info()"
   ]
  },
  {
   "cell_type": "code",
   "execution_count": 14,
   "metadata": {},
   "outputs": [
    {
     "name": "stdout",
     "output_type": "stream",
     "text": [
      "<class 'pandas.core.frame.DataFrame'>\n",
      "Int64Index: 45670 entries, 1 to 53900\n",
      "Data columns (total 11 columns):\n",
      " #   Column               Non-Null Count  Dtype         \n",
      "---  ------               --------------  -----         \n",
      " 0   user_id              45670 non-null  int64         \n",
      " 1   date                 45670 non-null  datetime64[ns]\n",
      " 2   direction            45670 non-null  object        \n",
      " 3   internal             45670 non-null  bool          \n",
      " 4   operator_id          45670 non-null  int32         \n",
      " 5   is_missed_call       45670 non-null  bool          \n",
      " 6   calls_count          45670 non-null  int64         \n",
      " 7   call_duration        45670 non-null  int64         \n",
      " 8   total_call_duration  45670 non-null  int64         \n",
      " 9   tariff_plan          45670 non-null  object        \n",
      " 10  date_start           45670 non-null  datetime64[ns]\n",
      "dtypes: bool(2), datetime64[ns](2), int32(1), int64(4), object(2)\n",
      "memory usage: 3.4+ MB\n"
     ]
    },
    {
     "name": "stderr",
     "output_type": "stream",
     "text": [
      "C:\\Users\\Admin\\AppData\\Local\\Temp\\ipykernel_13264\\1455198890.py:1: SettingWithCopyWarning: \n",
      "A value is trying to be set on a copy of a slice from a DataFrame.\n",
      "Try using .loc[row_indexer,col_indexer] = value instead\n",
      "\n",
      "See the caveats in the documentation: https://pandas.pydata.org/pandas-docs/stable/user_guide/indexing.html#returning-a-view-versus-a-copy\n",
      "  df['date_start']=pd.to_datetime(df['date_start'])\n"
     ]
    }
   ],
   "source": [
    "df['date_start']=pd.to_datetime(df['date_start'])\n",
    "df.info()"
   ]
  },
  {
   "cell_type": "markdown",
   "metadata": {},
   "source": [
    "Теперь все данные имеют нужный тип, и с ними можно продолжать дальнейшую работу."
   ]
  },
  {
   "cell_type": "markdown",
   "metadata": {},
   "source": [
    "## Работа с дубликатами и дополнение данных"
   ]
  },
  {
   "cell_type": "markdown",
   "metadata": {},
   "source": [
    "В настоящем разделе проведем работу с дубликатами в данных, примем решение об исключении тех или иных дубликатов, а также дополним категориальные данные в рамках определения типа колл-центра. Для этого построим вспомогательную таблицу, где для каждого клиента подберем соответствующего ему оператора, подсчитаем для каждого оператора количество входящих и исходящих звонков, и на основе соотношения таких звонков определим границы групп принадлежности клиентов. Полученными группами дополним основной датасет."
   ]
  },
  {
   "cell_type": "markdown",
   "metadata": {},
   "source": [
    "### Работа с дубликатами"
   ]
  },
  {
   "cell_type": "markdown",
   "metadata": {},
   "source": [
    "Проверим наличие дубликатов в датасете."
   ]
  },
  {
   "cell_type": "code",
   "execution_count": 15,
   "metadata": {},
   "outputs": [
    {
     "data": {
      "text/html": [
       "<div>\n",
       "<style scoped>\n",
       "    .dataframe tbody tr th:only-of-type {\n",
       "        vertical-align: middle;\n",
       "    }\n",
       "\n",
       "    .dataframe tbody tr th {\n",
       "        vertical-align: top;\n",
       "    }\n",
       "\n",
       "    .dataframe thead th {\n",
       "        text-align: right;\n",
       "    }\n",
       "</style>\n",
       "<table border=\"1\" class=\"dataframe\">\n",
       "  <thead>\n",
       "    <tr style=\"text-align: right;\">\n",
       "      <th></th>\n",
       "      <th>user_id</th>\n",
       "      <th>date</th>\n",
       "      <th>direction</th>\n",
       "      <th>internal</th>\n",
       "      <th>operator_id</th>\n",
       "      <th>is_missed_call</th>\n",
       "      <th>calls_count</th>\n",
       "      <th>call_duration</th>\n",
       "      <th>total_call_duration</th>\n",
       "      <th>tariff_plan</th>\n",
       "      <th>date_start</th>\n",
       "    </tr>\n",
       "  </thead>\n",
       "  <tbody>\n",
       "    <tr>\n",
       "      <th>8</th>\n",
       "      <td>166377</td>\n",
       "      <td>2019-08-05</td>\n",
       "      <td>out</td>\n",
       "      <td>False</td>\n",
       "      <td>880020</td>\n",
       "      <td>True</td>\n",
       "      <td>8</td>\n",
       "      <td>0</td>\n",
       "      <td>50</td>\n",
       "      <td>B</td>\n",
       "      <td>2019-08-01</td>\n",
       "    </tr>\n",
       "    <tr>\n",
       "      <th>44</th>\n",
       "      <td>166377</td>\n",
       "      <td>2019-08-14</td>\n",
       "      <td>out</td>\n",
       "      <td>False</td>\n",
       "      <td>880026</td>\n",
       "      <td>False</td>\n",
       "      <td>10</td>\n",
       "      <td>1567</td>\n",
       "      <td>1654</td>\n",
       "      <td>B</td>\n",
       "      <td>2019-08-01</td>\n",
       "    </tr>\n",
       "    <tr>\n",
       "      <th>51</th>\n",
       "      <td>166377</td>\n",
       "      <td>2019-08-15</td>\n",
       "      <td>out</td>\n",
       "      <td>False</td>\n",
       "      <td>880026</td>\n",
       "      <td>False</td>\n",
       "      <td>11</td>\n",
       "      <td>1413</td>\n",
       "      <td>1473</td>\n",
       "      <td>B</td>\n",
       "      <td>2019-08-01</td>\n",
       "    </tr>\n",
       "    <tr>\n",
       "      <th>62</th>\n",
       "      <td>166377</td>\n",
       "      <td>2019-08-19</td>\n",
       "      <td>out</td>\n",
       "      <td>False</td>\n",
       "      <td>880026</td>\n",
       "      <td>False</td>\n",
       "      <td>14</td>\n",
       "      <td>1519</td>\n",
       "      <td>1598</td>\n",
       "      <td>B</td>\n",
       "      <td>2019-08-01</td>\n",
       "    </tr>\n",
       "    <tr>\n",
       "      <th>78</th>\n",
       "      <td>166377</td>\n",
       "      <td>2019-08-22</td>\n",
       "      <td>out</td>\n",
       "      <td>False</td>\n",
       "      <td>880026</td>\n",
       "      <td>True</td>\n",
       "      <td>6</td>\n",
       "      <td>0</td>\n",
       "      <td>55</td>\n",
       "      <td>B</td>\n",
       "      <td>2019-08-01</td>\n",
       "    </tr>\n",
       "    <tr>\n",
       "      <th>...</th>\n",
       "      <td>...</td>\n",
       "      <td>...</td>\n",
       "      <td>...</td>\n",
       "      <td>...</td>\n",
       "      <td>...</td>\n",
       "      <td>...</td>\n",
       "      <td>...</td>\n",
       "      <td>...</td>\n",
       "      <td>...</td>\n",
       "      <td>...</td>\n",
       "      <td>...</td>\n",
       "    </tr>\n",
       "    <tr>\n",
       "      <th>53861</th>\n",
       "      <td>168601</td>\n",
       "      <td>2019-11-20</td>\n",
       "      <td>out</td>\n",
       "      <td>False</td>\n",
       "      <td>952914</td>\n",
       "      <td>True</td>\n",
       "      <td>1</td>\n",
       "      <td>0</td>\n",
       "      <td>2</td>\n",
       "      <td>C</td>\n",
       "      <td>2019-10-31</td>\n",
       "    </tr>\n",
       "    <tr>\n",
       "      <th>53869</th>\n",
       "      <td>168601</td>\n",
       "      <td>2019-11-25</td>\n",
       "      <td>in</td>\n",
       "      <td>False</td>\n",
       "      <td>952914</td>\n",
       "      <td>False</td>\n",
       "      <td>7</td>\n",
       "      <td>1229</td>\n",
       "      <td>1282</td>\n",
       "      <td>C</td>\n",
       "      <td>2019-10-31</td>\n",
       "    </tr>\n",
       "    <tr>\n",
       "      <th>53874</th>\n",
       "      <td>168601</td>\n",
       "      <td>2019-11-26</td>\n",
       "      <td>in</td>\n",
       "      <td>False</td>\n",
       "      <td>952914</td>\n",
       "      <td>False</td>\n",
       "      <td>4</td>\n",
       "      <td>539</td>\n",
       "      <td>562</td>\n",
       "      <td>C</td>\n",
       "      <td>2019-10-31</td>\n",
       "    </tr>\n",
       "    <tr>\n",
       "      <th>53885</th>\n",
       "      <td>168603</td>\n",
       "      <td>2019-11-20</td>\n",
       "      <td>out</td>\n",
       "      <td>False</td>\n",
       "      <td>959118</td>\n",
       "      <td>True</td>\n",
       "      <td>3</td>\n",
       "      <td>0</td>\n",
       "      <td>89</td>\n",
       "      <td>B</td>\n",
       "      <td>2019-10-31</td>\n",
       "    </tr>\n",
       "    <tr>\n",
       "      <th>53900</th>\n",
       "      <td>168606</td>\n",
       "      <td>2019-11-15</td>\n",
       "      <td>out</td>\n",
       "      <td>True</td>\n",
       "      <td>957922</td>\n",
       "      <td>False</td>\n",
       "      <td>4</td>\n",
       "      <td>3130</td>\n",
       "      <td>3190</td>\n",
       "      <td>C</td>\n",
       "      <td>2019-10-31</td>\n",
       "    </tr>\n",
       "  </tbody>\n",
       "</table>\n",
       "<p>4179 rows × 11 columns</p>\n",
       "</div>"
      ],
      "text/plain": [
       "       user_id       date direction  internal  operator_id  is_missed_call  \\\n",
       "8       166377 2019-08-05       out     False       880020            True   \n",
       "44      166377 2019-08-14       out     False       880026           False   \n",
       "51      166377 2019-08-15       out     False       880026           False   \n",
       "62      166377 2019-08-19       out     False       880026           False   \n",
       "78      166377 2019-08-22       out     False       880026            True   \n",
       "...        ...        ...       ...       ...          ...             ...   \n",
       "53861   168601 2019-11-20       out     False       952914            True   \n",
       "53869   168601 2019-11-25        in     False       952914           False   \n",
       "53874   168601 2019-11-26        in     False       952914           False   \n",
       "53885   168603 2019-11-20       out     False       959118            True   \n",
       "53900   168606 2019-11-15       out      True       957922           False   \n",
       "\n",
       "       calls_count  call_duration  total_call_duration tariff_plan date_start  \n",
       "8                8              0                   50           B 2019-08-01  \n",
       "44              10           1567                 1654           B 2019-08-01  \n",
       "51              11           1413                 1473           B 2019-08-01  \n",
       "62              14           1519                 1598           B 2019-08-01  \n",
       "78               6              0                   55           B 2019-08-01  \n",
       "...            ...            ...                  ...         ...        ...  \n",
       "53861            1              0                    2           C 2019-10-31  \n",
       "53869            7           1229                 1282           C 2019-10-31  \n",
       "53874            4            539                  562           C 2019-10-31  \n",
       "53885            3              0                   89           B 2019-10-31  \n",
       "53900            4           3130                 3190           C 2019-10-31  \n",
       "\n",
       "[4179 rows x 11 columns]"
      ]
     },
     "execution_count": 15,
     "metadata": {},
     "output_type": "execute_result"
    }
   ],
   "source": [
    "duplicates = df[df.duplicated()]\n",
    "duplicates"
   ]
  },
  {
   "cell_type": "markdown",
   "metadata": {},
   "source": [
    "Всего было найдено 4179 записей с дублирующимися данными. В общем количестве данных это не так уж и много, поэтому для избавления от \"шумов\" в данных в дальнейшем, от этих дубликатов можно избавиться."
   ]
  },
  {
   "cell_type": "code",
   "execution_count": 16,
   "metadata": {},
   "outputs": [
    {
     "name": "stdout",
     "output_type": "stream",
     "text": [
      "<class 'pandas.core.frame.DataFrame'>\n",
      "Int64Index: 41491 entries, 1 to 53899\n",
      "Data columns (total 11 columns):\n",
      " #   Column               Non-Null Count  Dtype         \n",
      "---  ------               --------------  -----         \n",
      " 0   user_id              41491 non-null  int64         \n",
      " 1   date                 41491 non-null  datetime64[ns]\n",
      " 2   direction            41491 non-null  object        \n",
      " 3   internal             41491 non-null  bool          \n",
      " 4   operator_id          41491 non-null  int32         \n",
      " 5   is_missed_call       41491 non-null  bool          \n",
      " 6   calls_count          41491 non-null  int64         \n",
      " 7   call_duration        41491 non-null  int64         \n",
      " 8   total_call_duration  41491 non-null  int64         \n",
      " 9   tariff_plan          41491 non-null  object        \n",
      " 10  date_start           41491 non-null  datetime64[ns]\n",
      "dtypes: bool(2), datetime64[ns](2), int32(1), int64(4), object(2)\n",
      "memory usage: 3.1+ MB\n"
     ]
    }
   ],
   "source": [
    "df=df.drop_duplicates()\n",
    "df.info()"
   ]
  },
  {
   "cell_type": "code",
   "execution_count": 17,
   "metadata": {},
   "outputs": [
    {
     "data": {
      "text/html": [
       "<div>\n",
       "<style scoped>\n",
       "    .dataframe tbody tr th:only-of-type {\n",
       "        vertical-align: middle;\n",
       "    }\n",
       "\n",
       "    .dataframe tbody tr th {\n",
       "        vertical-align: top;\n",
       "    }\n",
       "\n",
       "    .dataframe thead th {\n",
       "        text-align: right;\n",
       "    }\n",
       "</style>\n",
       "<table border=\"1\" class=\"dataframe\">\n",
       "  <thead>\n",
       "    <tr style=\"text-align: right;\">\n",
       "      <th></th>\n",
       "      <th>user_id</th>\n",
       "      <th>date</th>\n",
       "      <th>direction</th>\n",
       "      <th>internal</th>\n",
       "      <th>operator_id</th>\n",
       "      <th>is_missed_call</th>\n",
       "      <th>calls_count</th>\n",
       "      <th>call_duration</th>\n",
       "      <th>total_call_duration</th>\n",
       "      <th>tariff_plan</th>\n",
       "      <th>date_start</th>\n",
       "    </tr>\n",
       "  </thead>\n",
       "  <tbody>\n",
       "  </tbody>\n",
       "</table>\n",
       "</div>"
      ],
      "text/plain": [
       "Empty DataFrame\n",
       "Columns: [user_id, date, direction, internal, operator_id, is_missed_call, calls_count, call_duration, total_call_duration, tariff_plan, date_start]\n",
       "Index: []"
      ]
     },
     "execution_count": 17,
     "metadata": {},
     "output_type": "execute_result"
    }
   ],
   "source": [
    "duplicates = df[df.duplicated()]\n",
    "duplicates"
   ]
  },
  {
   "cell_type": "markdown",
   "metadata": {},
   "source": [
    "В качестве итога осталась 41491 запись, были удалены полные дубликаты. Теперь датасет более готов к анализу, но ему еще недостает нескольких дополнительных колонок, которые пригодятся в будущем."
   ]
  },
  {
   "cell_type": "markdown",
   "metadata": {},
   "source": [
    "### Категоризация и дополнение оставшихся данных"
   ]
  },
  {
   "cell_type": "markdown",
   "metadata": {},
   "source": [
    "В данных имеются сведения о длительности звонка с учетом времени ожидания и длительности \"чистого\" звонка. Однако, одной из основных метрик качества работы оператора колл-центра (далее возможно использование аббревиатуры \"КЦ\") является время ожидания клиента на линии. Поэтому дополним данные столбцом wait_time, который будет это показывать."
   ]
  },
  {
   "cell_type": "code",
   "execution_count": 18,
   "metadata": {},
   "outputs": [
    {
     "data": {
      "text/html": [
       "<div>\n",
       "<style scoped>\n",
       "    .dataframe tbody tr th:only-of-type {\n",
       "        vertical-align: middle;\n",
       "    }\n",
       "\n",
       "    .dataframe tbody tr th {\n",
       "        vertical-align: top;\n",
       "    }\n",
       "\n",
       "    .dataframe thead th {\n",
       "        text-align: right;\n",
       "    }\n",
       "</style>\n",
       "<table border=\"1\" class=\"dataframe\">\n",
       "  <thead>\n",
       "    <tr style=\"text-align: right;\">\n",
       "      <th></th>\n",
       "      <th>user_id</th>\n",
       "      <th>date</th>\n",
       "      <th>direction</th>\n",
       "      <th>internal</th>\n",
       "      <th>operator_id</th>\n",
       "      <th>is_missed_call</th>\n",
       "      <th>calls_count</th>\n",
       "      <th>call_duration</th>\n",
       "      <th>total_call_duration</th>\n",
       "      <th>tariff_plan</th>\n",
       "      <th>date_start</th>\n",
       "      <th>wait_time</th>\n",
       "    </tr>\n",
       "  </thead>\n",
       "  <tbody>\n",
       "    <tr>\n",
       "      <th>1</th>\n",
       "      <td>166377</td>\n",
       "      <td>2019-08-05</td>\n",
       "      <td>out</td>\n",
       "      <td>True</td>\n",
       "      <td>880022</td>\n",
       "      <td>True</td>\n",
       "      <td>3</td>\n",
       "      <td>0</td>\n",
       "      <td>5</td>\n",
       "      <td>B</td>\n",
       "      <td>2019-08-01</td>\n",
       "      <td>5</td>\n",
       "    </tr>\n",
       "    <tr>\n",
       "      <th>2</th>\n",
       "      <td>166377</td>\n",
       "      <td>2019-08-05</td>\n",
       "      <td>out</td>\n",
       "      <td>True</td>\n",
       "      <td>880020</td>\n",
       "      <td>True</td>\n",
       "      <td>1</td>\n",
       "      <td>0</td>\n",
       "      <td>1</td>\n",
       "      <td>B</td>\n",
       "      <td>2019-08-01</td>\n",
       "      <td>1</td>\n",
       "    </tr>\n",
       "    <tr>\n",
       "      <th>3</th>\n",
       "      <td>166377</td>\n",
       "      <td>2019-08-05</td>\n",
       "      <td>out</td>\n",
       "      <td>True</td>\n",
       "      <td>880020</td>\n",
       "      <td>False</td>\n",
       "      <td>1</td>\n",
       "      <td>10</td>\n",
       "      <td>18</td>\n",
       "      <td>B</td>\n",
       "      <td>2019-08-01</td>\n",
       "      <td>8</td>\n",
       "    </tr>\n",
       "    <tr>\n",
       "      <th>4</th>\n",
       "      <td>166377</td>\n",
       "      <td>2019-08-05</td>\n",
       "      <td>out</td>\n",
       "      <td>False</td>\n",
       "      <td>880022</td>\n",
       "      <td>True</td>\n",
       "      <td>3</td>\n",
       "      <td>0</td>\n",
       "      <td>25</td>\n",
       "      <td>B</td>\n",
       "      <td>2019-08-01</td>\n",
       "      <td>25</td>\n",
       "    </tr>\n",
       "    <tr>\n",
       "      <th>5</th>\n",
       "      <td>166377</td>\n",
       "      <td>2019-08-05</td>\n",
       "      <td>out</td>\n",
       "      <td>False</td>\n",
       "      <td>880020</td>\n",
       "      <td>False</td>\n",
       "      <td>2</td>\n",
       "      <td>3</td>\n",
       "      <td>29</td>\n",
       "      <td>B</td>\n",
       "      <td>2019-08-01</td>\n",
       "      <td>26</td>\n",
       "    </tr>\n",
       "  </tbody>\n",
       "</table>\n",
       "</div>"
      ],
      "text/plain": [
       "   user_id       date direction  internal  operator_id  is_missed_call  \\\n",
       "1   166377 2019-08-05       out      True       880022            True   \n",
       "2   166377 2019-08-05       out      True       880020            True   \n",
       "3   166377 2019-08-05       out      True       880020           False   \n",
       "4   166377 2019-08-05       out     False       880022            True   \n",
       "5   166377 2019-08-05       out     False       880020           False   \n",
       "\n",
       "   calls_count  call_duration  total_call_duration tariff_plan date_start  \\\n",
       "1            3              0                    5           B 2019-08-01   \n",
       "2            1              0                    1           B 2019-08-01   \n",
       "3            1             10                   18           B 2019-08-01   \n",
       "4            3              0                   25           B 2019-08-01   \n",
       "5            2              3                   29           B 2019-08-01   \n",
       "\n",
       "   wait_time  \n",
       "1          5  \n",
       "2          1  \n",
       "3          8  \n",
       "4         25  \n",
       "5         26  "
      ]
     },
     "execution_count": 18,
     "metadata": {},
     "output_type": "execute_result"
    }
   ],
   "source": [
    "df['wait_time'] = df['total_call_duration'] - df['call_duration']\n",
    "df.head(5)"
   ]
  },
  {
   "cell_type": "markdown",
   "metadata": {},
   "source": [
    "В отрасли колл-центров как правило есть три основных направления их работы: работа на исходящие вызовы (обзвоны, телемаркетинг, опросы, \"служба безопасности банка\"), работа на входящие вызовы (горячая линия, консультации), и работа в обе стороны (клиентский сервис, ресепшен/УАТС). Поэтому для исследования будет весьма важно определить принадлежность рассматриваемого КЦ к тому или иному типу, поскольку к оценке эффективности могут применяться различные показатели."
   ]
  },
  {
   "cell_type": "code",
   "execution_count": 19,
   "metadata": {},
   "outputs": [
    {
     "data": {
      "text/html": [
       "<div>\n",
       "<style scoped>\n",
       "    .dataframe tbody tr th:only-of-type {\n",
       "        vertical-align: middle;\n",
       "    }\n",
       "\n",
       "    .dataframe tbody tr th {\n",
       "        vertical-align: top;\n",
       "    }\n",
       "\n",
       "    .dataframe thead th {\n",
       "        text-align: right;\n",
       "    }\n",
       "</style>\n",
       "<table border=\"1\" class=\"dataframe\">\n",
       "  <thead>\n",
       "    <tr style=\"text-align: right;\">\n",
       "      <th>direction</th>\n",
       "      <th>user_id</th>\n",
       "      <th>in</th>\n",
       "      <th>out</th>\n",
       "    </tr>\n",
       "  </thead>\n",
       "  <tbody>\n",
       "    <tr>\n",
       "      <th>0</th>\n",
       "      <td>166377</td>\n",
       "      <td>102.0</td>\n",
       "      <td>4897.0</td>\n",
       "    </tr>\n",
       "    <tr>\n",
       "      <th>1</th>\n",
       "      <td>166391</td>\n",
       "      <td>4.0</td>\n",
       "      <td>0.0</td>\n",
       "    </tr>\n",
       "    <tr>\n",
       "      <th>2</th>\n",
       "      <td>166392</td>\n",
       "      <td>102.0</td>\n",
       "      <td>0.0</td>\n",
       "    </tr>\n",
       "    <tr>\n",
       "      <th>3</th>\n",
       "      <td>166399</td>\n",
       "      <td>11.0</td>\n",
       "      <td>0.0</td>\n",
       "    </tr>\n",
       "    <tr>\n",
       "      <th>4</th>\n",
       "      <td>166405</td>\n",
       "      <td>2191.0</td>\n",
       "      <td>9789.0</td>\n",
       "    </tr>\n",
       "    <tr>\n",
       "      <th>...</th>\n",
       "      <td>...</td>\n",
       "      <td>...</td>\n",
       "      <td>...</td>\n",
       "    </tr>\n",
       "    <tr>\n",
       "      <th>285</th>\n",
       "      <td>168583</td>\n",
       "      <td>22.0</td>\n",
       "      <td>0.0</td>\n",
       "    </tr>\n",
       "    <tr>\n",
       "      <th>286</th>\n",
       "      <td>168598</td>\n",
       "      <td>21.0</td>\n",
       "      <td>0.0</td>\n",
       "    </tr>\n",
       "    <tr>\n",
       "      <th>287</th>\n",
       "      <td>168601</td>\n",
       "      <td>79.0</td>\n",
       "      <td>586.0</td>\n",
       "    </tr>\n",
       "    <tr>\n",
       "      <th>288</th>\n",
       "      <td>168603</td>\n",
       "      <td>0.0</td>\n",
       "      <td>14.0</td>\n",
       "    </tr>\n",
       "    <tr>\n",
       "      <th>289</th>\n",
       "      <td>168606</td>\n",
       "      <td>3.0</td>\n",
       "      <td>8.0</td>\n",
       "    </tr>\n",
       "  </tbody>\n",
       "</table>\n",
       "<p>290 rows × 3 columns</p>\n",
       "</div>"
      ],
      "text/plain": [
       "direction  user_id      in     out\n",
       "0           166377   102.0  4897.0\n",
       "1           166391     4.0     0.0\n",
       "2           166392   102.0     0.0\n",
       "3           166399    11.0     0.0\n",
       "4           166405  2191.0  9789.0\n",
       "..             ...     ...     ...\n",
       "285         168583    22.0     0.0\n",
       "286         168598    21.0     0.0\n",
       "287         168601    79.0   586.0\n",
       "288         168603     0.0    14.0\n",
       "289         168606     3.0     8.0\n",
       "\n",
       "[290 rows x 3 columns]"
      ]
     },
     "execution_count": 19,
     "metadata": {},
     "output_type": "execute_result"
    }
   ],
   "source": [
    "df_temp=df.query('internal == False').pivot_table(index='user_id',columns='direction',values='calls_count',aggfunc='sum').reset_index()\n",
    "df_temp['in']=df_temp['in'].fillna(value=0)\n",
    "df_temp['out']=df_temp['out'].fillna(value=0)\n",
    "df_temp"
   ]
  },
  {
   "cell_type": "code",
   "execution_count": 20,
   "metadata": {},
   "outputs": [
    {
     "data": {
      "text/html": [
       "<div>\n",
       "<style scoped>\n",
       "    .dataframe tbody tr th:only-of-type {\n",
       "        vertical-align: middle;\n",
       "    }\n",
       "\n",
       "    .dataframe tbody tr th {\n",
       "        vertical-align: top;\n",
       "    }\n",
       "\n",
       "    .dataframe thead th {\n",
       "        text-align: right;\n",
       "    }\n",
       "</style>\n",
       "<table border=\"1\" class=\"dataframe\">\n",
       "  <thead>\n",
       "    <tr style=\"text-align: right;\">\n",
       "      <th>direction</th>\n",
       "      <th>user_id</th>\n",
       "      <th>in</th>\n",
       "      <th>out</th>\n",
       "      <th>out_share</th>\n",
       "      <th>in_share</th>\n",
       "    </tr>\n",
       "  </thead>\n",
       "  <tbody>\n",
       "    <tr>\n",
       "      <th>0</th>\n",
       "      <td>166377</td>\n",
       "      <td>102.0</td>\n",
       "      <td>4897.0</td>\n",
       "      <td>97.959592</td>\n",
       "      <td>2.040408</td>\n",
       "    </tr>\n",
       "    <tr>\n",
       "      <th>1</th>\n",
       "      <td>166391</td>\n",
       "      <td>4.0</td>\n",
       "      <td>0.0</td>\n",
       "      <td>0.000000</td>\n",
       "      <td>100.000000</td>\n",
       "    </tr>\n",
       "    <tr>\n",
       "      <th>2</th>\n",
       "      <td>166392</td>\n",
       "      <td>102.0</td>\n",
       "      <td>0.0</td>\n",
       "      <td>0.000000</td>\n",
       "      <td>100.000000</td>\n",
       "    </tr>\n",
       "    <tr>\n",
       "      <th>3</th>\n",
       "      <td>166399</td>\n",
       "      <td>11.0</td>\n",
       "      <td>0.0</td>\n",
       "      <td>0.000000</td>\n",
       "      <td>100.000000</td>\n",
       "    </tr>\n",
       "    <tr>\n",
       "      <th>4</th>\n",
       "      <td>166405</td>\n",
       "      <td>2191.0</td>\n",
       "      <td>9789.0</td>\n",
       "      <td>81.711185</td>\n",
       "      <td>18.288815</td>\n",
       "    </tr>\n",
       "    <tr>\n",
       "      <th>...</th>\n",
       "      <td>...</td>\n",
       "      <td>...</td>\n",
       "      <td>...</td>\n",
       "      <td>...</td>\n",
       "      <td>...</td>\n",
       "    </tr>\n",
       "    <tr>\n",
       "      <th>285</th>\n",
       "      <td>168583</td>\n",
       "      <td>22.0</td>\n",
       "      <td>0.0</td>\n",
       "      <td>0.000000</td>\n",
       "      <td>100.000000</td>\n",
       "    </tr>\n",
       "    <tr>\n",
       "      <th>286</th>\n",
       "      <td>168598</td>\n",
       "      <td>21.0</td>\n",
       "      <td>0.0</td>\n",
       "      <td>0.000000</td>\n",
       "      <td>100.000000</td>\n",
       "    </tr>\n",
       "    <tr>\n",
       "      <th>287</th>\n",
       "      <td>168601</td>\n",
       "      <td>79.0</td>\n",
       "      <td>586.0</td>\n",
       "      <td>88.120301</td>\n",
       "      <td>11.879699</td>\n",
       "    </tr>\n",
       "    <tr>\n",
       "      <th>288</th>\n",
       "      <td>168603</td>\n",
       "      <td>0.0</td>\n",
       "      <td>14.0</td>\n",
       "      <td>100.000000</td>\n",
       "      <td>0.000000</td>\n",
       "    </tr>\n",
       "    <tr>\n",
       "      <th>289</th>\n",
       "      <td>168606</td>\n",
       "      <td>3.0</td>\n",
       "      <td>8.0</td>\n",
       "      <td>72.727273</td>\n",
       "      <td>27.272727</td>\n",
       "    </tr>\n",
       "  </tbody>\n",
       "</table>\n",
       "<p>290 rows × 5 columns</p>\n",
       "</div>"
      ],
      "text/plain": [
       "direction  user_id      in     out   out_share    in_share\n",
       "0           166377   102.0  4897.0   97.959592    2.040408\n",
       "1           166391     4.0     0.0    0.000000  100.000000\n",
       "2           166392   102.0     0.0    0.000000  100.000000\n",
       "3           166399    11.0     0.0    0.000000  100.000000\n",
       "4           166405  2191.0  9789.0   81.711185   18.288815\n",
       "..             ...     ...     ...         ...         ...\n",
       "285         168583    22.0     0.0    0.000000  100.000000\n",
       "286         168598    21.0     0.0    0.000000  100.000000\n",
       "287         168601    79.0   586.0   88.120301   11.879699\n",
       "288         168603     0.0    14.0  100.000000    0.000000\n",
       "289         168606     3.0     8.0   72.727273   27.272727\n",
       "\n",
       "[290 rows x 5 columns]"
      ]
     },
     "execution_count": 20,
     "metadata": {},
     "output_type": "execute_result"
    }
   ],
   "source": [
    "df_temp['out_share']=df_temp['out']/(df_temp['in']+df_temp['out'])*100\n",
    "df_temp['in_share']=df_temp['in']/(df_temp['in']+df_temp['out'])*100\n",
    "df_temp"
   ]
  },
  {
   "cell_type": "code",
   "execution_count": 21,
   "metadata": {},
   "outputs": [
    {
     "data": {
      "image/svg+xml": [
       "<svg class=\"main-svg\" xmlns=\"http://www.w3.org/2000/svg\" xmlns:xlink=\"http://www.w3.org/1999/xlink\" width=\"700\" height=\"500\" style=\"\" viewBox=\"0 0 700 500\"><rect x=\"0\" y=\"0\" width=\"700\" height=\"500\" style=\"fill: rgb(255, 255, 255); fill-opacity: 1;\"/><defs id=\"defs-607d49\"><g class=\"clips\"><clipPath id=\"clip607d49xyplot\" class=\"plotclip\"><rect width=\"540\" height=\"360\"/></clipPath><clipPath class=\"axesclip\" id=\"clip607d49x\"><rect x=\"80\" y=\"0\" width=\"540\" height=\"500\"/></clipPath><clipPath class=\"axesclip\" id=\"clip607d49y\"><rect x=\"0\" y=\"60\" width=\"700\" height=\"360\"/></clipPath><clipPath class=\"axesclip\" id=\"clip607d49xy\"><rect x=\"80\" y=\"60\" width=\"540\" height=\"360\"/></clipPath></g><g class=\"gradients\"/><g class=\"patterns\"/></defs><g class=\"bglayer\"><rect class=\"bg\" x=\"80\" y=\"60\" width=\"540\" height=\"360\" style=\"fill: rgb(229, 236, 246); fill-opacity: 1; stroke-width: 0;\"/></g><g class=\"layer-below\"><g class=\"imagelayer\"/><g class=\"shapelayer\"/></g><g class=\"cartesianlayer\"><g class=\"subplot xy\"><g class=\"layer-subplot\"><g class=\"shapelayer\"/><g class=\"imagelayer\"/></g><g class=\"minor-gridlayer\"><g class=\"x\"/><g class=\"y\"/></g><g class=\"gridlayer\"><g class=\"x\"/><g class=\"y\"><path class=\"ygrid crisp\" transform=\"translate(0,337.2)\" d=\"M80,0h540\" style=\"stroke: rgb(255, 255, 255); stroke-opacity: 1; stroke-width: 1px;\"/><path class=\"ygrid crisp\" transform=\"translate(0,272.4)\" d=\"M80,0h540\" style=\"stroke: rgb(255, 255, 255); stroke-opacity: 1; stroke-width: 1px;\"/><path class=\"ygrid crisp\" transform=\"translate(0,207.6)\" d=\"M80,0h540\" style=\"stroke: rgb(255, 255, 255); stroke-opacity: 1; stroke-width: 1px;\"/><path class=\"ygrid crisp\" transform=\"translate(0,142.8)\" d=\"M80,0h540\" style=\"stroke: rgb(255, 255, 255); stroke-opacity: 1; stroke-width: 1px;\"/><path class=\"ygrid crisp\" transform=\"translate(0,78)\" d=\"M80,0h540\" style=\"stroke: rgb(255, 255, 255); stroke-opacity: 1; stroke-width: 1px;\"/></g></g><g class=\"zerolinelayer\"><path class=\"yzl zl crisp\" transform=\"translate(0,402)\" d=\"M80,0h540\" style=\"stroke: rgb(255, 255, 255); stroke-opacity: 1; stroke-width: 2px;\"/></g><path class=\"xlines-below\"/><path class=\"ylines-below\"/><g class=\"overlines-below\"/><g class=\"xaxislayer-below\"/><g class=\"yaxislayer-below\"/><g class=\"overaxes-below\"/><g class=\"plot\" transform=\"translate(80,60)\" clip-path=\"url(#clip607d49xyplot)\"><g class=\"boxlayer mlayer\"><g class=\"trace boxes\" style=\"opacity: 1;\"><path class=\"box\" d=\"M137.7,145.41H402.3M137.7,331.88H402.3V56.49H137.7ZM270,331.88V342M270,56.49V18M203.85,342H336.15M203.85,18H336.15\" style=\"vector-effect: non-scaling-stroke; stroke-width: 2px; stroke: rgb(99, 110, 250); stroke-opacity: 1; fill: rgb(99, 110, 250); fill-opacity: 0.5;\"/><g class=\"points\"/></g></g></g><g class=\"overplot\"/><path class=\"xlines-above crisp\" d=\"M0,0\" style=\"fill: none;\"/><path class=\"ylines-above crisp\" d=\"M0,0\" style=\"fill: none;\"/><g class=\"overlines-above\"/><g class=\"xaxislayer-above\"><g class=\"xtick\"><text text-anchor=\"middle\" x=\"0\" y=\"433\" transform=\"translate(350,0)\" style=\"font-family: 'Open Sans', verdana, arial, sans-serif; font-size: 12px; fill: rgb(42, 63, 95); fill-opacity: 1; white-space: pre; opacity: 1;\">out_share</text></g></g><g class=\"yaxislayer-above\"><g class=\"ytick\"><text text-anchor=\"end\" x=\"79\" y=\"4.199999999999999\" transform=\"translate(0,402)\" style=\"font-family: 'Open Sans', verdana, arial, sans-serif; font-size: 12px; fill: rgb(42, 63, 95); fill-opacity: 1; white-space: pre; opacity: 1;\">0</text></g><g class=\"ytick\"><text text-anchor=\"end\" x=\"79\" y=\"4.199999999999999\" style=\"font-family: 'Open Sans', verdana, arial, sans-serif; font-size: 12px; fill: rgb(42, 63, 95); fill-opacity: 1; white-space: pre; opacity: 1;\" transform=\"translate(0,337.2)\">20</text></g><g class=\"ytick\"><text text-anchor=\"end\" x=\"79\" y=\"4.199999999999999\" style=\"font-family: 'Open Sans', verdana, arial, sans-serif; font-size: 12px; fill: rgb(42, 63, 95); fill-opacity: 1; white-space: pre; opacity: 1;\" transform=\"translate(0,272.4)\">40</text></g><g class=\"ytick\"><text text-anchor=\"end\" x=\"79\" y=\"4.199999999999999\" style=\"font-family: 'Open Sans', verdana, arial, sans-serif; font-size: 12px; fill: rgb(42, 63, 95); fill-opacity: 1; white-space: pre; opacity: 1;\" transform=\"translate(0,207.6)\">60</text></g><g class=\"ytick\"><text text-anchor=\"end\" x=\"79\" y=\"4.199999999999999\" style=\"font-family: 'Open Sans', verdana, arial, sans-serif; font-size: 12px; fill: rgb(42, 63, 95); fill-opacity: 1; white-space: pre; opacity: 1;\" transform=\"translate(0,142.8)\">80</text></g><g class=\"ytick\"><text text-anchor=\"end\" x=\"79\" y=\"4.199999999999999\" style=\"font-family: 'Open Sans', verdana, arial, sans-serif; font-size: 12px; fill: rgb(42, 63, 95); fill-opacity: 1; white-space: pre; opacity: 1;\" transform=\"translate(0,78)\">100</text></g></g><g class=\"overaxes-above\"/></g></g><g class=\"polarlayer\"/><g class=\"smithlayer\"/><g class=\"ternarylayer\"/><g class=\"geolayer\"/><g class=\"funnelarealayer\"/><g class=\"pielayer\"/><g class=\"iciclelayer\"/><g class=\"treemaplayer\"/><g class=\"sunburstlayer\"/><g class=\"glimages\"/><defs id=\"topdefs-607d49\"><g class=\"clips\"/></defs><g class=\"layer-above\"><g class=\"imagelayer\"/><g class=\"shapelayer\"/></g><g class=\"infolayer\"><g class=\"g-gtitle\"><text class=\"gtitle\" x=\"35\" y=\"30\" text-anchor=\"start\" dy=\"0em\" style=\"font-family: 'Open Sans', verdana, arial, sans-serif; font-size: 17px; fill: rgb(42, 63, 95); opacity: 1; font-weight: normal; white-space: pre;\">Распределение долей исходящих звонков</text></g><g class=\"g-xtitle\"><text class=\"xtitle\" x=\"350\" y=\"460.8\" text-anchor=\"middle\" style=\"font-family: 'Open Sans', verdana, arial, sans-serif; font-size: 14px; fill: rgb(42, 63, 95); opacity: 1; font-weight: normal; white-space: pre;\">variable</text></g><g class=\"g-ytitle\"><text class=\"ytitle\" transform=\"rotate(-90,31.309375000000003,240)\" x=\"31.309375000000003\" y=\"240\" text-anchor=\"middle\" style=\"font-family: 'Open Sans', verdana, arial, sans-serif; font-size: 14px; fill: rgb(42, 63, 95); opacity: 1; font-weight: normal; white-space: pre;\">Доля, %</text></g></g></svg>"
      ]
     },
     "metadata": {},
     "output_type": "display_data"
    }
   ],
   "source": [
    "fig = px.box(df_temp, y=['out_share'])\n",
    "fig.update_layout(title=\"Распределение долей исходящих звонков\",\n",
    "                  yaxis_title=\"Доля, %\",\n",
    "                  showlegend=False)\n",
    "fig.show(\"svg\")"
   ]
  },
  {
   "cell_type": "markdown",
   "metadata": {},
   "source": [
    "Судя по диаграмме распределения, есть колл-центры, в которых встречаются только входящие, либо только исходящие звонки. При этом медианное значение для доли исходящих звонков составляет 60.67%, а для входящих соответственно - 39.32%. При этом, в промежутке между этими значениями будут находится колл-центры, ориентированные на работу с исходящими и входящими звонками одновременно.\n",
    "\n",
    "Для категоризации КЦ по направлениям работы, можем принять, что КЦ с долей исходящих звонков более 61% процента (округленное вверх медианное значение) - ориентированы на исходящие взаимодействия, КЦ с долей входящих звонков более 61% - ориентированы на входящее взаимодействие, а все остальные - ориентированы на двустороннее взаимодействие.\n",
    "\n",
    "Принимая такое допущение, введем критерии 'outbound' для КЦ, работающих на исходящие значения, 'inbound' - на входящие, и 'middle' - на двустороннее взаимодействие."
   ]
  },
  {
   "cell_type": "code",
   "execution_count": 22,
   "metadata": {},
   "outputs": [
    {
     "data": {
      "text/html": [
       "<div>\n",
       "<style scoped>\n",
       "    .dataframe tbody tr th:only-of-type {\n",
       "        vertical-align: middle;\n",
       "    }\n",
       "\n",
       "    .dataframe tbody tr th {\n",
       "        vertical-align: top;\n",
       "    }\n",
       "\n",
       "    .dataframe thead th {\n",
       "        text-align: right;\n",
       "    }\n",
       "</style>\n",
       "<table border=\"1\" class=\"dataframe\">\n",
       "  <thead>\n",
       "    <tr style=\"text-align: right;\">\n",
       "      <th>direction</th>\n",
       "      <th>user_id</th>\n",
       "      <th>in</th>\n",
       "      <th>out</th>\n",
       "      <th>out_share</th>\n",
       "      <th>in_share</th>\n",
       "      <th>cc_type</th>\n",
       "    </tr>\n",
       "  </thead>\n",
       "  <tbody>\n",
       "    <tr>\n",
       "      <th>0</th>\n",
       "      <td>166377</td>\n",
       "      <td>102.0</td>\n",
       "      <td>4897.0</td>\n",
       "      <td>97.959592</td>\n",
       "      <td>2.040408</td>\n",
       "      <td>outbound</td>\n",
       "    </tr>\n",
       "    <tr>\n",
       "      <th>1</th>\n",
       "      <td>166391</td>\n",
       "      <td>4.0</td>\n",
       "      <td>0.0</td>\n",
       "      <td>0.000000</td>\n",
       "      <td>100.000000</td>\n",
       "      <td>inbound</td>\n",
       "    </tr>\n",
       "    <tr>\n",
       "      <th>2</th>\n",
       "      <td>166392</td>\n",
       "      <td>102.0</td>\n",
       "      <td>0.0</td>\n",
       "      <td>0.000000</td>\n",
       "      <td>100.000000</td>\n",
       "      <td>inbound</td>\n",
       "    </tr>\n",
       "    <tr>\n",
       "      <th>3</th>\n",
       "      <td>166399</td>\n",
       "      <td>11.0</td>\n",
       "      <td>0.0</td>\n",
       "      <td>0.000000</td>\n",
       "      <td>100.000000</td>\n",
       "      <td>inbound</td>\n",
       "    </tr>\n",
       "    <tr>\n",
       "      <th>4</th>\n",
       "      <td>166405</td>\n",
       "      <td>2191.0</td>\n",
       "      <td>9789.0</td>\n",
       "      <td>81.711185</td>\n",
       "      <td>18.288815</td>\n",
       "      <td>outbound</td>\n",
       "    </tr>\n",
       "    <tr>\n",
       "      <th>...</th>\n",
       "      <td>...</td>\n",
       "      <td>...</td>\n",
       "      <td>...</td>\n",
       "      <td>...</td>\n",
       "      <td>...</td>\n",
       "      <td>...</td>\n",
       "    </tr>\n",
       "    <tr>\n",
       "      <th>285</th>\n",
       "      <td>168583</td>\n",
       "      <td>22.0</td>\n",
       "      <td>0.0</td>\n",
       "      <td>0.000000</td>\n",
       "      <td>100.000000</td>\n",
       "      <td>inbound</td>\n",
       "    </tr>\n",
       "    <tr>\n",
       "      <th>286</th>\n",
       "      <td>168598</td>\n",
       "      <td>21.0</td>\n",
       "      <td>0.0</td>\n",
       "      <td>0.000000</td>\n",
       "      <td>100.000000</td>\n",
       "      <td>inbound</td>\n",
       "    </tr>\n",
       "    <tr>\n",
       "      <th>287</th>\n",
       "      <td>168601</td>\n",
       "      <td>79.0</td>\n",
       "      <td>586.0</td>\n",
       "      <td>88.120301</td>\n",
       "      <td>11.879699</td>\n",
       "      <td>outbound</td>\n",
       "    </tr>\n",
       "    <tr>\n",
       "      <th>288</th>\n",
       "      <td>168603</td>\n",
       "      <td>0.0</td>\n",
       "      <td>14.0</td>\n",
       "      <td>100.000000</td>\n",
       "      <td>0.000000</td>\n",
       "      <td>outbound</td>\n",
       "    </tr>\n",
       "    <tr>\n",
       "      <th>289</th>\n",
       "      <td>168606</td>\n",
       "      <td>3.0</td>\n",
       "      <td>8.0</td>\n",
       "      <td>72.727273</td>\n",
       "      <td>27.272727</td>\n",
       "      <td>outbound</td>\n",
       "    </tr>\n",
       "  </tbody>\n",
       "</table>\n",
       "<p>290 rows × 6 columns</p>\n",
       "</div>"
      ],
      "text/plain": [
       "direction  user_id      in     out   out_share    in_share   cc_type\n",
       "0           166377   102.0  4897.0   97.959592    2.040408  outbound\n",
       "1           166391     4.0     0.0    0.000000  100.000000   inbound\n",
       "2           166392   102.0     0.0    0.000000  100.000000   inbound\n",
       "3           166399    11.0     0.0    0.000000  100.000000   inbound\n",
       "4           166405  2191.0  9789.0   81.711185   18.288815  outbound\n",
       "..             ...     ...     ...         ...         ...       ...\n",
       "285         168583    22.0     0.0    0.000000  100.000000   inbound\n",
       "286         168598    21.0     0.0    0.000000  100.000000   inbound\n",
       "287         168601    79.0   586.0   88.120301   11.879699  outbound\n",
       "288         168603     0.0    14.0  100.000000    0.000000  outbound\n",
       "289         168606     3.0     8.0   72.727273   27.272727  outbound\n",
       "\n",
       "[290 rows x 6 columns]"
      ]
     },
     "execution_count": 22,
     "metadata": {},
     "output_type": "execute_result"
    }
   ],
   "source": [
    "def cc_cat(row):\n",
    "    call_out = row['out_share']\n",
    "    call_in = row['in_share']\n",
    "    if call_out >= 61:\n",
    "        return 'outbound'\n",
    "    elif call_in >= 61 :\n",
    "        return 'inbound'\n",
    "    else:\n",
    "        return 'middle'\n",
    "\n",
    "df_temp['cc_type'] = df_temp.apply(cc_cat, axis=1)\n",
    "df_temp"
   ]
  },
  {
   "cell_type": "markdown",
   "metadata": {},
   "source": [
    "Теперь уберем из временного датасета все столбцы кроме user_id и cc_type и соединим его с основным датасетом."
   ]
  },
  {
   "cell_type": "code",
   "execution_count": 23,
   "metadata": {},
   "outputs": [
    {
     "data": {
      "text/html": [
       "<div>\n",
       "<style scoped>\n",
       "    .dataframe tbody tr th:only-of-type {\n",
       "        vertical-align: middle;\n",
       "    }\n",
       "\n",
       "    .dataframe tbody tr th {\n",
       "        vertical-align: top;\n",
       "    }\n",
       "\n",
       "    .dataframe thead th {\n",
       "        text-align: right;\n",
       "    }\n",
       "</style>\n",
       "<table border=\"1\" class=\"dataframe\">\n",
       "  <thead>\n",
       "    <tr style=\"text-align: right;\">\n",
       "      <th></th>\n",
       "      <th>user_id</th>\n",
       "      <th>date</th>\n",
       "      <th>direction</th>\n",
       "      <th>internal</th>\n",
       "      <th>operator_id</th>\n",
       "      <th>is_missed_call</th>\n",
       "      <th>calls_count</th>\n",
       "      <th>call_duration</th>\n",
       "      <th>total_call_duration</th>\n",
       "      <th>tariff_plan</th>\n",
       "      <th>date_start</th>\n",
       "      <th>wait_time</th>\n",
       "      <th>cc_type</th>\n",
       "    </tr>\n",
       "  </thead>\n",
       "  <tbody>\n",
       "    <tr>\n",
       "      <th>0</th>\n",
       "      <td>166377</td>\n",
       "      <td>2019-08-05</td>\n",
       "      <td>out</td>\n",
       "      <td>True</td>\n",
       "      <td>880022</td>\n",
       "      <td>True</td>\n",
       "      <td>3</td>\n",
       "      <td>0</td>\n",
       "      <td>5</td>\n",
       "      <td>B</td>\n",
       "      <td>2019-08-01</td>\n",
       "      <td>5</td>\n",
       "      <td>outbound</td>\n",
       "    </tr>\n",
       "    <tr>\n",
       "      <th>1</th>\n",
       "      <td>166377</td>\n",
       "      <td>2019-08-05</td>\n",
       "      <td>out</td>\n",
       "      <td>True</td>\n",
       "      <td>880020</td>\n",
       "      <td>True</td>\n",
       "      <td>1</td>\n",
       "      <td>0</td>\n",
       "      <td>1</td>\n",
       "      <td>B</td>\n",
       "      <td>2019-08-01</td>\n",
       "      <td>1</td>\n",
       "      <td>outbound</td>\n",
       "    </tr>\n",
       "    <tr>\n",
       "      <th>2</th>\n",
       "      <td>166377</td>\n",
       "      <td>2019-08-05</td>\n",
       "      <td>out</td>\n",
       "      <td>True</td>\n",
       "      <td>880020</td>\n",
       "      <td>False</td>\n",
       "      <td>1</td>\n",
       "      <td>10</td>\n",
       "      <td>18</td>\n",
       "      <td>B</td>\n",
       "      <td>2019-08-01</td>\n",
       "      <td>8</td>\n",
       "      <td>outbound</td>\n",
       "    </tr>\n",
       "    <tr>\n",
       "      <th>3</th>\n",
       "      <td>166377</td>\n",
       "      <td>2019-08-05</td>\n",
       "      <td>out</td>\n",
       "      <td>False</td>\n",
       "      <td>880022</td>\n",
       "      <td>True</td>\n",
       "      <td>3</td>\n",
       "      <td>0</td>\n",
       "      <td>25</td>\n",
       "      <td>B</td>\n",
       "      <td>2019-08-01</td>\n",
       "      <td>25</td>\n",
       "      <td>outbound</td>\n",
       "    </tr>\n",
       "    <tr>\n",
       "      <th>4</th>\n",
       "      <td>166377</td>\n",
       "      <td>2019-08-05</td>\n",
       "      <td>out</td>\n",
       "      <td>False</td>\n",
       "      <td>880020</td>\n",
       "      <td>False</td>\n",
       "      <td>2</td>\n",
       "      <td>3</td>\n",
       "      <td>29</td>\n",
       "      <td>B</td>\n",
       "      <td>2019-08-01</td>\n",
       "      <td>26</td>\n",
       "      <td>outbound</td>\n",
       "    </tr>\n",
       "    <tr>\n",
       "      <th>...</th>\n",
       "      <td>...</td>\n",
       "      <td>...</td>\n",
       "      <td>...</td>\n",
       "      <td>...</td>\n",
       "      <td>...</td>\n",
       "      <td>...</td>\n",
       "      <td>...</td>\n",
       "      <td>...</td>\n",
       "      <td>...</td>\n",
       "      <td>...</td>\n",
       "      <td>...</td>\n",
       "      <td>...</td>\n",
       "      <td>...</td>\n",
       "    </tr>\n",
       "    <tr>\n",
       "      <th>41486</th>\n",
       "      <td>168606</td>\n",
       "      <td>2019-11-09</td>\n",
       "      <td>out</td>\n",
       "      <td>False</td>\n",
       "      <td>957922</td>\n",
       "      <td>False</td>\n",
       "      <td>4</td>\n",
       "      <td>551</td>\n",
       "      <td>593</td>\n",
       "      <td>C</td>\n",
       "      <td>2019-10-31</td>\n",
       "      <td>42</td>\n",
       "      <td>outbound</td>\n",
       "    </tr>\n",
       "    <tr>\n",
       "      <th>41487</th>\n",
       "      <td>168606</td>\n",
       "      <td>2019-11-10</td>\n",
       "      <td>out</td>\n",
       "      <td>True</td>\n",
       "      <td>957922</td>\n",
       "      <td>False</td>\n",
       "      <td>1</td>\n",
       "      <td>0</td>\n",
       "      <td>25</td>\n",
       "      <td>C</td>\n",
       "      <td>2019-10-31</td>\n",
       "      <td>25</td>\n",
       "      <td>outbound</td>\n",
       "    </tr>\n",
       "    <tr>\n",
       "      <th>41488</th>\n",
       "      <td>168606</td>\n",
       "      <td>2019-11-10</td>\n",
       "      <td>out</td>\n",
       "      <td>True</td>\n",
       "      <td>957922</td>\n",
       "      <td>True</td>\n",
       "      <td>1</td>\n",
       "      <td>0</td>\n",
       "      <td>38</td>\n",
       "      <td>C</td>\n",
       "      <td>2019-10-31</td>\n",
       "      <td>38</td>\n",
       "      <td>outbound</td>\n",
       "    </tr>\n",
       "    <tr>\n",
       "      <th>41489</th>\n",
       "      <td>168606</td>\n",
       "      <td>2019-11-11</td>\n",
       "      <td>out</td>\n",
       "      <td>True</td>\n",
       "      <td>957922</td>\n",
       "      <td>False</td>\n",
       "      <td>2</td>\n",
       "      <td>479</td>\n",
       "      <td>501</td>\n",
       "      <td>C</td>\n",
       "      <td>2019-10-31</td>\n",
       "      <td>22</td>\n",
       "      <td>outbound</td>\n",
       "    </tr>\n",
       "    <tr>\n",
       "      <th>41490</th>\n",
       "      <td>168606</td>\n",
       "      <td>2019-11-15</td>\n",
       "      <td>out</td>\n",
       "      <td>True</td>\n",
       "      <td>957922</td>\n",
       "      <td>False</td>\n",
       "      <td>4</td>\n",
       "      <td>3130</td>\n",
       "      <td>3190</td>\n",
       "      <td>C</td>\n",
       "      <td>2019-10-31</td>\n",
       "      <td>60</td>\n",
       "      <td>outbound</td>\n",
       "    </tr>\n",
       "  </tbody>\n",
       "</table>\n",
       "<p>41491 rows × 13 columns</p>\n",
       "</div>"
      ],
      "text/plain": [
       "       user_id       date direction  internal  operator_id  is_missed_call  \\\n",
       "0       166377 2019-08-05       out      True       880022            True   \n",
       "1       166377 2019-08-05       out      True       880020            True   \n",
       "2       166377 2019-08-05       out      True       880020           False   \n",
       "3       166377 2019-08-05       out     False       880022            True   \n",
       "4       166377 2019-08-05       out     False       880020           False   \n",
       "...        ...        ...       ...       ...          ...             ...   \n",
       "41486   168606 2019-11-09       out     False       957922           False   \n",
       "41487   168606 2019-11-10       out      True       957922           False   \n",
       "41488   168606 2019-11-10       out      True       957922            True   \n",
       "41489   168606 2019-11-11       out      True       957922           False   \n",
       "41490   168606 2019-11-15       out      True       957922           False   \n",
       "\n",
       "       calls_count  call_duration  total_call_duration tariff_plan date_start  \\\n",
       "0                3              0                    5           B 2019-08-01   \n",
       "1                1              0                    1           B 2019-08-01   \n",
       "2                1             10                   18           B 2019-08-01   \n",
       "3                3              0                   25           B 2019-08-01   \n",
       "4                2              3                   29           B 2019-08-01   \n",
       "...            ...            ...                  ...         ...        ...   \n",
       "41486            4            551                  593           C 2019-10-31   \n",
       "41487            1              0                   25           C 2019-10-31   \n",
       "41488            1              0                   38           C 2019-10-31   \n",
       "41489            2            479                  501           C 2019-10-31   \n",
       "41490            4           3130                 3190           C 2019-10-31   \n",
       "\n",
       "       wait_time   cc_type  \n",
       "0              5  outbound  \n",
       "1              1  outbound  \n",
       "2              8  outbound  \n",
       "3             25  outbound  \n",
       "4             26  outbound  \n",
       "...          ...       ...  \n",
       "41486         42  outbound  \n",
       "41487         25  outbound  \n",
       "41488         38  outbound  \n",
       "41489         22  outbound  \n",
       "41490         60  outbound  \n",
       "\n",
       "[41491 rows x 13 columns]"
      ]
     },
     "execution_count": 23,
     "metadata": {},
     "output_type": "execute_result"
    }
   ],
   "source": [
    "df_temp = df_temp.drop(columns=['in','out','out_share','in_share'])\n",
    "df = df.merge(df_temp,on='user_id',how='left')\n",
    "df"
   ]
  },
  {
   "cell_type": "code",
   "execution_count": 24,
   "metadata": {},
   "outputs": [],
   "source": [
    "df.to_csv('telecom_fin_tableau.csv',index=False)"
   ]
  },
  {
   "cell_type": "markdown",
   "metadata": {},
   "source": [
    "Теперь в датасете есть дополнительная информация, которая в дальнейшем позволит провести более детальное исследование и рассмотреть эффективность сотрудников колл-центров различной направленности."
   ]
  },
  {
   "cell_type": "markdown",
   "metadata": {},
   "source": [
    "## Исследовательский анализ данных"
   ]
  },
  {
   "cell_type": "markdown",
   "metadata": {},
   "source": [
    "В рамках исследовательского анализа данных изучим основные характеристики данных, их распределени и взаимосвязь. Также построим иллюстрирующие ситуацию графики и диаграммы."
   ]
  },
  {
   "cell_type": "markdown",
   "metadata": {},
   "source": [
    "### Распределение показателей"
   ]
  },
  {
   "cell_type": "markdown",
   "metadata": {},
   "source": [
    "Для начала взглянем на датасет, с которым будем далее работать, в общем и рассмотрим распределение показателей по столбцам, построив гистограммы распределения и выведя описательные статистики."
   ]
  },
  {
   "cell_type": "code",
   "execution_count": 25,
   "metadata": {},
   "outputs": [
    {
     "data": {
      "image/png": "[encoded data removed]",
      "text/plain": [
       "<Figure size 1500x2000 with 9 Axes>"
      ]
     },
     "metadata": {},
     "output_type": "display_data"
    }
   ],
   "source": [
    "df.hist(figsize=(15, 20))\n",
    "plt.show()"
   ]
  },
  {
   "cell_type": "code",
   "execution_count": 26,
   "metadata": {},
   "outputs": [
    {
     "data": {
      "text/html": [
       "<div>\n",
       "<style scoped>\n",
       "    .dataframe tbody tr th:only-of-type {\n",
       "        vertical-align: middle;\n",
       "    }\n",
       "\n",
       "    .dataframe tbody tr th {\n",
       "        vertical-align: top;\n",
       "    }\n",
       "\n",
       "    .dataframe thead th {\n",
       "        text-align: right;\n",
       "    }\n",
       "</style>\n",
       "<table border=\"1\" class=\"dataframe\">\n",
       "  <thead>\n",
       "    <tr style=\"text-align: right;\">\n",
       "      <th></th>\n",
       "      <th>user_id</th>\n",
       "      <th>operator_id</th>\n",
       "      <th>calls_count</th>\n",
       "      <th>call_duration</th>\n",
       "      <th>total_call_duration</th>\n",
       "      <th>wait_time</th>\n",
       "    </tr>\n",
       "  </thead>\n",
       "  <tbody>\n",
       "    <tr>\n",
       "      <th>count</th>\n",
       "      <td>41491.000000</td>\n",
       "      <td>41491.000000</td>\n",
       "      <td>41491.000000</td>\n",
       "      <td>41491.000000</td>\n",
       "      <td>41491.000000</td>\n",
       "      <td>41491.000000</td>\n",
       "    </tr>\n",
       "    <tr>\n",
       "      <th>mean</th>\n",
       "      <td>167301.113543</td>\n",
       "      <td>916516.771155</td>\n",
       "      <td>16.921381</td>\n",
       "      <td>1010.940011</td>\n",
       "      <td>1323.153238</td>\n",
       "      <td>312.213227</td>\n",
       "    </tr>\n",
       "    <tr>\n",
       "      <th>std</th>\n",
       "      <td>600.513986</td>\n",
       "      <td>21234.081589</td>\n",
       "      <td>59.786187</td>\n",
       "      <td>4066.666485</td>\n",
       "      <td>4788.953155</td>\n",
       "      <td>1176.102940</td>\n",
       "    </tr>\n",
       "    <tr>\n",
       "      <th>min</th>\n",
       "      <td>166377.000000</td>\n",
       "      <td>879896.000000</td>\n",
       "      <td>1.000000</td>\n",
       "      <td>0.000000</td>\n",
       "      <td>0.000000</td>\n",
       "      <td>0.000000</td>\n",
       "    </tr>\n",
       "    <tr>\n",
       "      <th>25%</th>\n",
       "      <td>166782.000000</td>\n",
       "      <td>900790.000000</td>\n",
       "      <td>1.000000</td>\n",
       "      <td>0.000000</td>\n",
       "      <td>67.000000</td>\n",
       "      <td>19.000000</td>\n",
       "    </tr>\n",
       "    <tr>\n",
       "      <th>50%</th>\n",
       "      <td>167175.000000</td>\n",
       "      <td>913938.000000</td>\n",
       "      <td>4.000000</td>\n",
       "      <td>106.000000</td>\n",
       "      <td>289.000000</td>\n",
       "      <td>60.000000</td>\n",
       "    </tr>\n",
       "    <tr>\n",
       "      <th>75%</th>\n",
       "      <td>167827.000000</td>\n",
       "      <td>937708.000000</td>\n",
       "      <td>14.000000</td>\n",
       "      <td>772.000000</td>\n",
       "      <td>1107.000000</td>\n",
       "      <td>219.000000</td>\n",
       "    </tr>\n",
       "    <tr>\n",
       "      <th>max</th>\n",
       "      <td>168606.000000</td>\n",
       "      <td>973286.000000</td>\n",
       "      <td>4817.000000</td>\n",
       "      <td>144395.000000</td>\n",
       "      <td>166155.000000</td>\n",
       "      <td>46474.000000</td>\n",
       "    </tr>\n",
       "  </tbody>\n",
       "</table>\n",
       "</div>"
      ],
      "text/plain": [
       "             user_id    operator_id   calls_count  call_duration  \\\n",
       "count   41491.000000   41491.000000  41491.000000   41491.000000   \n",
       "mean   167301.113543  916516.771155     16.921381    1010.940011   \n",
       "std       600.513986   21234.081589     59.786187    4066.666485   \n",
       "min    166377.000000  879896.000000      1.000000       0.000000   \n",
       "25%    166782.000000  900790.000000      1.000000       0.000000   \n",
       "50%    167175.000000  913938.000000      4.000000     106.000000   \n",
       "75%    167827.000000  937708.000000     14.000000     772.000000   \n",
       "max    168606.000000  973286.000000   4817.000000  144395.000000   \n",
       "\n",
       "       total_call_duration     wait_time  \n",
       "count         41491.000000  41491.000000  \n",
       "mean           1323.153238    312.213227  \n",
       "std            4788.953155   1176.102940  \n",
       "min               0.000000      0.000000  \n",
       "25%              67.000000     19.000000  \n",
       "50%             289.000000     60.000000  \n",
       "75%            1107.000000    219.000000  \n",
       "max          166155.000000  46474.000000  "
      ]
     },
     "execution_count": 26,
     "metadata": {},
     "output_type": "execute_result"
    }
   ],
   "source": [
    "df.describe()"
   ]
  },
  {
   "cell_type": "markdown",
   "metadata": {},
   "source": [
    "Из полученных данных можно обратить внимание на то, что среднее число звонков составляет 16,92; средняя длительность разговора составляет 1010.94 секунды (или 16,84 минут); средняя длительность звонка с ожиданием составляет 1323,15 секунд (или 22,05 минут); среднее время ожидания на линии - 312,21 секунд (или 5,2035 минут).\n",
    "\n",
    "Рассмотрим распределение категориальных показателей."
   ]
  },
  {
   "cell_type": "code",
   "execution_count": 27,
   "metadata": {},
   "outputs": [
    {
     "data": {
      "text/html": [
       "<div>\n",
       "<style scoped>\n",
       "    .dataframe tbody tr th:only-of-type {\n",
       "        vertical-align: middle;\n",
       "    }\n",
       "\n",
       "    .dataframe tbody tr th {\n",
       "        vertical-align: top;\n",
       "    }\n",
       "\n",
       "    .dataframe thead th {\n",
       "        text-align: right;\n",
       "    }\n",
       "</style>\n",
       "<table border=\"1\" class=\"dataframe\">\n",
       "  <thead>\n",
       "    <tr style=\"text-align: right;\">\n",
       "      <th></th>\n",
       "      <th>direction</th>\n",
       "      <th>calls_count</th>\n",
       "    </tr>\n",
       "  </thead>\n",
       "  <tbody>\n",
       "    <tr>\n",
       "      <th>0</th>\n",
       "      <td>in</td>\n",
       "      <td>93742</td>\n",
       "    </tr>\n",
       "    <tr>\n",
       "      <th>1</th>\n",
       "      <td>out</td>\n",
       "      <td>608343</td>\n",
       "    </tr>\n",
       "  </tbody>\n",
       "</table>\n",
       "</div>"
      ],
      "text/plain": [
       "  direction  calls_count\n",
       "0        in        93742\n",
       "1       out       608343"
      ]
     },
     "execution_count": 27,
     "metadata": {},
     "output_type": "execute_result"
    }
   ],
   "source": [
    "pivot_dir = df.pivot_table(index='direction',values='calls_count',aggfunc='sum').reset_index()\n",
    "pivot_dir"
   ]
  },
  {
   "cell_type": "code",
   "execution_count": 28,
   "metadata": {},
   "outputs": [
    {
     "data": {
      "text/html": [
       "<div>\n",
       "<style scoped>\n",
       "    .dataframe tbody tr th:only-of-type {\n",
       "        vertical-align: middle;\n",
       "    }\n",
       "\n",
       "    .dataframe tbody tr th {\n",
       "        vertical-align: top;\n",
       "    }\n",
       "\n",
       "    .dataframe thead th {\n",
       "        text-align: right;\n",
       "    }\n",
       "</style>\n",
       "<table border=\"1\" class=\"dataframe\">\n",
       "  <thead>\n",
       "    <tr style=\"text-align: right;\">\n",
       "      <th></th>\n",
       "      <th>internal</th>\n",
       "      <th>calls_count</th>\n",
       "    </tr>\n",
       "  </thead>\n",
       "  <tbody>\n",
       "    <tr>\n",
       "      <th>0</th>\n",
       "      <td>False</td>\n",
       "      <td>688420</td>\n",
       "    </tr>\n",
       "    <tr>\n",
       "      <th>1</th>\n",
       "      <td>True</td>\n",
       "      <td>13665</td>\n",
       "    </tr>\n",
       "  </tbody>\n",
       "</table>\n",
       "</div>"
      ],
      "text/plain": [
       "   internal  calls_count\n",
       "0     False       688420\n",
       "1      True        13665"
      ]
     },
     "execution_count": 28,
     "metadata": {},
     "output_type": "execute_result"
    }
   ],
   "source": [
    "pivot_int = df.pivot_table(index='internal',values='calls_count',aggfunc='sum').reset_index()\n",
    "pivot_int"
   ]
  },
  {
   "cell_type": "code",
   "execution_count": 29,
   "metadata": {},
   "outputs": [
    {
     "data": {
      "text/html": [
       "<div>\n",
       "<style scoped>\n",
       "    .dataframe tbody tr th:only-of-type {\n",
       "        vertical-align: middle;\n",
       "    }\n",
       "\n",
       "    .dataframe tbody tr th {\n",
       "        vertical-align: top;\n",
       "    }\n",
       "\n",
       "    .dataframe thead th {\n",
       "        text-align: right;\n",
       "    }\n",
       "</style>\n",
       "<table border=\"1\" class=\"dataframe\">\n",
       "  <thead>\n",
       "    <tr style=\"text-align: right;\">\n",
       "      <th></th>\n",
       "      <th>is_missed_call</th>\n",
       "      <th>calls_count</th>\n",
       "    </tr>\n",
       "  </thead>\n",
       "  <tbody>\n",
       "    <tr>\n",
       "      <th>0</th>\n",
       "      <td>False</td>\n",
       "      <td>429767</td>\n",
       "    </tr>\n",
       "    <tr>\n",
       "      <th>1</th>\n",
       "      <td>True</td>\n",
       "      <td>272318</td>\n",
       "    </tr>\n",
       "  </tbody>\n",
       "</table>\n",
       "</div>"
      ],
      "text/plain": [
       "   is_missed_call  calls_count\n",
       "0           False       429767\n",
       "1            True       272318"
      ]
     },
     "execution_count": 29,
     "metadata": {},
     "output_type": "execute_result"
    }
   ],
   "source": [
    "pivot_miss = df.pivot_table(index='is_missed_call',values='calls_count',aggfunc='sum').reset_index()\n",
    "pivot_miss"
   ]
  },
  {
   "cell_type": "code",
   "execution_count": 30,
   "metadata": {},
   "outputs": [
    {
     "data": {
      "image/svg+xml": [
       "<svg class=\"main-svg\" xmlns=\"http://www.w3.org/2000/svg\" xmlns:xlink=\"http://www.w3.org/1999/xlink\" width=\"700\" height=\"500\" style=\"\" viewBox=\"0 0 700 500\"><rect x=\"0\" y=\"0\" width=\"700\" height=\"500\" style=\"fill: rgb(255, 255, 255); fill-opacity: 1;\"/><defs id=\"defs-fafd48\"><g class=\"clips\"/><g class=\"gradients\"/><g class=\"patterns\"/></defs><g class=\"bglayer\"/><g class=\"layer-below\"><g class=\"imagelayer\"/><g class=\"shapelayer\"/></g><g class=\"cartesianlayer\"/><g class=\"polarlayer\"/><g class=\"smithlayer\"/><g class=\"ternarylayer\"/><g class=\"geolayer\"/><g class=\"funnelarealayer\"/><g class=\"pielayer\"><g class=\"trace\" stroke-linejoin=\"round\" style=\"opacity: 1;\"><g class=\"slice\"><path class=\"surface\" d=\"M158,265.5l0,-78.00000000000001a78.00000000000001,78.00000000000001 0 1 1 -58.02628914618205,25.875631726382764Z\" style=\"pointer-events: all; stroke-width: 0; fill: rgb(99, 110, 250); fill-opacity: 1; stroke: rgb(68, 68, 68); stroke-opacity: 1;\"/><g class=\"slicetext\"><text data-notex=\"1\" class=\"slicetext\" transform=\"translate(173.8444953297884,297.81430449398783)\" text-anchor=\"middle\" x=\"0\" y=\"0\" style=\"font-family: 'Open Sans', verdana, arial, sans-serif; font-size: 12px; fill: rgb(255, 255, 255); fill-opacity: 1; white-space: pre;\"><tspan class=\"line\" dy=\"0em\" x=\"0\" y=\"0\">out</tspan><tspan class=\"line\" dy=\"1.3em\" x=\"0\" y=\"0\">86.6%</tspan></text></g></g><g class=\"slice\"><path class=\"surface\" d=\"M158,265.5l-58.02628914618206,-52.12436827361725a78.00000000000001,78.00000000000001 0 0 1 58.02628914618206,-25.875631726382764Z\" style=\"pointer-events: all; stroke-width: 0; fill: rgb(250, 128, 114); fill-opacity: 1; stroke: rgb(68, 68, 68); stroke-opacity: 1;\"/><g class=\"slicetext\"><text data-notex=\"1\" class=\"slicetext\" transform=\"translate(98.40866559042323,178.19122086739213)\" text-anchor=\"middle\" x=\"0\" y=\"0\" style=\"font-family: 'Open Sans', verdana, arial, sans-serif; font-size: 12px; fill: rgb(42, 63, 95); fill-opacity: 1; white-space: pre;\"><tspan class=\"line\" dy=\"0em\" x=\"0\" y=\"0\">in</tspan><tspan class=\"line\" dy=\"1.3em\" x=\"0\" y=\"0\">13.4%</tspan></text></g></g></g><g class=\"trace\" stroke-linejoin=\"round\" style=\"opacity: 1;\"><g class=\"slice\"><path class=\"surface\" d=\"M350,265.5l0,-78.00000000000001a78.00000000000001,78.00000000000001 0 1 1 -9.51505626115369,0.5825361798316209Z\" style=\"pointer-events: all; stroke-width: 0; fill: rgb(250, 128, 114); fill-opacity: 1; stroke: rgb(68, 68, 68); stroke-opacity: 1;\"/><g class=\"slicetext\"><text data-notex=\"1\" class=\"slicetext\" transform=\"translate(352.34415544080156,301.1224273718556)\" text-anchor=\"middle\" x=\"0\" y=\"0\" style=\"font-family: 'Open Sans', verdana, arial, sans-serif; font-size: 12px; fill: rgb(68, 68, 68); fill-opacity: 1; white-space: pre;\"><tspan class=\"line\" dy=\"0em\" x=\"0\" y=\"0\">false</tspan><tspan class=\"line\" dy=\"1.3em\" x=\"0\" y=\"0\">98.1%</tspan></text></g></g><g class=\"slice\"><path class=\"surface\" d=\"M350,265.5l-9.515056261153712,-77.4174638201684a78.00000000000001,78.00000000000001 0 0 1 9.515056261153712,-0.5825361798316209Z\" style=\"pointer-events: all; stroke-width: 0; fill: rgb(65, 105, 225); fill-opacity: 1; stroke: rgb(68, 68, 68); stroke-opacity: 1;\"/><g class=\"slicetext\"><text data-notex=\"1\" class=\"slicetext\" transform=\"translate(317.40934536839694,169.0935461164796)\" text-anchor=\"middle\" x=\"0\" y=\"0\" style=\"font-family: 'Open Sans', verdana, arial, sans-serif; font-size: 12px; fill: rgb(42, 63, 95); fill-opacity: 1; white-space: pre;\"><tspan class=\"line\" dy=\"0em\" x=\"0\" y=\"0\">true</tspan><tspan class=\"line\" dy=\"1.3em\" x=\"0\" y=\"0\">1.95%</tspan></text></g></g></g><g class=\"trace\" stroke-linejoin=\"round\" style=\"opacity: 1;\"><g class=\"slice\"><path class=\"surface\" d=\"M542,265.5l0,-77.99999999999999a77.99999999999999,77.99999999999999 0 1 1 -50.51876972014551,137.42940270575588Z\" style=\"pointer-events: all; stroke-width: 0; fill: rgb(250, 128, 114); fill-opacity: 1; stroke: rgb(68, 68, 68); stroke-opacity: 1;\"/><g class=\"slicetext\"><text data-notex=\"1\" class=\"slicetext\" transform=\"translate(578.5660829905061,275.65128974503426)\" text-anchor=\"middle\" x=\"0\" y=\"0\" style=\"font-family: 'Open Sans', verdana, arial, sans-serif; font-size: 12px; fill: rgb(68, 68, 68); fill-opacity: 1; white-space: pre;\"><tspan class=\"line\" dy=\"0em\" x=\"0\" y=\"0\">false</tspan><tspan class=\"line\" dy=\"1.3em\" x=\"0\" y=\"0\">61.2%</tspan></text></g></g><g class=\"slice\"><path class=\"surface\" d=\"M542,265.5l-50.51876972014553,59.42940270575589a77.99999999999999,77.99999999999999 0 0 1 50.51876972014553,-137.42940270575588Z\" style=\"pointer-events: all; stroke-width: 0; fill: rgb(65, 105, 225); fill-opacity: 1; stroke: rgb(68, 68, 68); stroke-opacity: 1;\"/><g class=\"slicetext\"><text data-notex=\"1\" class=\"slicetext\" transform=\"translate(504.1962942374854,248.31310622550154)\" text-anchor=\"middle\" x=\"0\" y=\"0\" style=\"font-family: 'Open Sans', verdana, arial, sans-serif; font-size: 12px; fill: rgb(255, 255, 255); fill-opacity: 1; white-space: pre;\"><tspan class=\"line\" dy=\"0em\" x=\"0\" y=\"0\">true</tspan><tspan class=\"line\" dy=\"1.3em\" x=\"0\" y=\"0\">38.8%</tspan></text></g></g></g></g><g class=\"iciclelayer\"/><g class=\"treemaplayer\"/><g class=\"sunburstlayer\"/><g class=\"glimages\"/><defs id=\"topdefs-fafd48\"><g class=\"clips\"/></defs><g class=\"layer-above\"><g class=\"imagelayer\"/><g class=\"shapelayer\"/></g><g class=\"infolayer\"><g class=\"g-gtitle\"/><g class=\"annotation\" data-index=\"0\" style=\"opacity: 1;\"><g class=\"annotation-text-g\" transform=\"rotate(0,158,100.5)\"><g class=\"cursor-pointer\" transform=\"translate(55,89)\"><rect class=\"bg\" x=\"0.5\" y=\"0.5\" width=\"206\" height=\"22\" style=\"stroke-width: 1px; stroke: rgb(0, 0, 0); stroke-opacity: 0; fill: rgb(0, 0, 0); fill-opacity: 0;\"/><text class=\"annotation-text\" text-anchor=\"middle\" x=\"103.9375\" y=\"18\" style=\"font-family: 'Open Sans', verdana, arial, sans-serif; font-size: 16px; fill: rgb(42, 63, 95); fill-opacity: 1; white-space: pre;\">Доля вх. и исх. вызовов</text></g></g></g><g class=\"annotation\" data-index=\"1\" style=\"opacity: 1;\"><g class=\"annotation-text-g\" transform=\"rotate(0,350,100.5)\"><g class=\"cursor-pointer\" transform=\"translate(225,89)\"><rect class=\"bg\" x=\"0.5\" y=\"0.5\" width=\"249\" height=\"22\" style=\"stroke-width: 1px; stroke: rgb(0, 0, 0); stroke-opacity: 0; fill: rgb(0, 0, 0); fill-opacity: 0;\"/><text class=\"annotation-text\" text-anchor=\"middle\" x=\"125.484375\" y=\"18\" style=\"font-family: 'Open Sans', verdana, arial, sans-serif; font-size: 16px; fill: rgb(42, 63, 95); fill-opacity: 1; white-space: pre;\">Доля внутр. и внеш. вызовов</text></g></g></g><g class=\"annotation\" data-index=\"2\" style=\"opacity: 1;\"><g class=\"annotation-text-g\" transform=\"rotate(0,542,100.5)\"><g class=\"cursor-pointer\" transform=\"translate(444,89)\"><rect class=\"bg\" x=\"0.5\" y=\"0.5\" width=\"195\" height=\"22\" style=\"stroke-width: 1px; stroke: rgb(0, 0, 0); stroke-opacity: 0; fill: rgb(0, 0, 0); fill-opacity: 0;\"/><text class=\"annotation-text\" text-anchor=\"middle\" x=\"98.53125\" y=\"18\" style=\"font-family: 'Open Sans', verdana, arial, sans-serif; font-size: 16px; fill: rgb(42, 63, 95); fill-opacity: 1; white-space: pre;\">Доля пропущ. вызовов</text></g></g></g></g></svg>"
      ]
     },
     "metadata": {},
     "output_type": "display_data"
    }
   ],
   "source": [
    "fig = make_subplots(rows=1, cols=3, specs=[[{\"type\": \"pie\"}, {\"type\": \"pie\"},{\"type\": \"pie\"}]],\n",
    "                   subplot_titles=['Доля вх. и исх. вызовов', 'Доля внутр. и внеш. вызовов','Доля пропущ. вызовов'])\n",
    "\n",
    "\n",
    "fig.add_trace(go.Pie(\n",
    "     values=pivot_dir['calls_count'],\n",
    "     labels=pivot_dir['direction'],\n",
    "     marker_colors=['Salmon','Royal Blue'],\n",
    "     domain=dict(x=[0, 0.5])), \n",
    "     row=1, col=1)\n",
    "\n",
    "fig.add_trace(go.Pie(\n",
    "     values=pivot_int['calls_count'],\n",
    "     labels=pivot_int['internal'],\n",
    "    marker_colors=['Salmon','RoyalBlue'],\n",
    "     domain=dict(x=[0.5, 1.0])),\n",
    "    row=1, col=2)\n",
    "\n",
    "fig.add_trace(go.Pie(\n",
    "     values=pivot_miss['calls_count'],\n",
    "     labels=pivot_miss['is_missed_call'],\n",
    "    marker_colors=['Salmon','RoyalBlue'],\n",
    "     domain=dict(x=[0.5, 1.0])),\n",
    "    row=1, col=3)\n",
    "\n",
    "fig.update_traces(textinfo='percent+label',hoverinfo='label+percent')\n",
    "fig.update(layout_showlegend=False)\n",
    "fig.show(\"svg\")"
   ]
  },
  {
   "cell_type": "markdown",
   "metadata": {},
   "source": [
    "Итого:\n",
    "* Операторы совершают 86,6% исходящих вызовов против 13,4% входящих;\n",
    "* Из всего количества только 1,95% вызовов внутренние;\n",
    "* Достаточно велико на общем фоне количество пропущенных вызовов: 38,8% не принимаются по той или иной причине (сами причины неизвестны). \n",
    "\n",
    "В дальнейшем анализе мы **не будем учитывать внутренние вызовы**, поскольку нас интересует только работа операторов колл-центров во взаимодействии с внешними контактами, а не между собой. При этом данные о внутренних вызовах из датасета исключать не будем, поскольку они понадобятся в дальнейшем при определении показателей эффективности оператора в качестве дополняющего фактора к остальным метрикам."
   ]
  },
  {
   "cell_type": "markdown",
   "metadata": {},
   "source": [
    "Также, поскольку у нас имеются данные по тарифным планам и категориальные данные по направленностям КЦ, можем также рассмотреть, в каких долях они представлены."
   ]
  },
  {
   "cell_type": "code",
   "execution_count": 31,
   "metadata": {},
   "outputs": [
    {
     "data": {
      "text/html": [
       "<div>\n",
       "<style scoped>\n",
       "    .dataframe tbody tr th:only-of-type {\n",
       "        vertical-align: middle;\n",
       "    }\n",
       "\n",
       "    .dataframe tbody tr th {\n",
       "        vertical-align: top;\n",
       "    }\n",
       "\n",
       "    .dataframe thead th {\n",
       "        text-align: right;\n",
       "    }\n",
       "</style>\n",
       "<table border=\"1\" class=\"dataframe\">\n",
       "  <thead>\n",
       "    <tr style=\"text-align: right;\">\n",
       "      <th></th>\n",
       "      <th>tariff_plan</th>\n",
       "      <th>user_id</th>\n",
       "    </tr>\n",
       "  </thead>\n",
       "  <tbody>\n",
       "    <tr>\n",
       "      <th>0</th>\n",
       "      <td>A</td>\n",
       "      <td>32</td>\n",
       "    </tr>\n",
       "    <tr>\n",
       "      <th>1</th>\n",
       "      <td>B</td>\n",
       "      <td>101</td>\n",
       "    </tr>\n",
       "    <tr>\n",
       "      <th>2</th>\n",
       "      <td>C</td>\n",
       "      <td>157</td>\n",
       "    </tr>\n",
       "  </tbody>\n",
       "</table>\n",
       "</div>"
      ],
      "text/plain": [
       "  tariff_plan  user_id\n",
       "0           A       32\n",
       "1           B      101\n",
       "2           C      157"
      ]
     },
     "execution_count": 31,
     "metadata": {},
     "output_type": "execute_result"
    }
   ],
   "source": [
    "pivot_tariff = df.pivot_table(index=['tariff_plan'],values=['user_id'],aggfunc=lambda x: len(x.unique())).reset_index()\n",
    "pivot_tariff"
   ]
  },
  {
   "cell_type": "code",
   "execution_count": 32,
   "metadata": {},
   "outputs": [
    {
     "data": {
      "text/html": [
       "<div>\n",
       "<style scoped>\n",
       "    .dataframe tbody tr th:only-of-type {\n",
       "        vertical-align: middle;\n",
       "    }\n",
       "\n",
       "    .dataframe tbody tr th {\n",
       "        vertical-align: top;\n",
       "    }\n",
       "\n",
       "    .dataframe thead th {\n",
       "        text-align: right;\n",
       "    }\n",
       "</style>\n",
       "<table border=\"1\" class=\"dataframe\">\n",
       "  <thead>\n",
       "    <tr style=\"text-align: right;\">\n",
       "      <th></th>\n",
       "      <th>cc_type</th>\n",
       "      <th>user_id</th>\n",
       "    </tr>\n",
       "  </thead>\n",
       "  <tbody>\n",
       "    <tr>\n",
       "      <th>0</th>\n",
       "      <td>inbound</td>\n",
       "      <td>116</td>\n",
       "    </tr>\n",
       "    <tr>\n",
       "      <th>1</th>\n",
       "      <td>middle</td>\n",
       "      <td>30</td>\n",
       "    </tr>\n",
       "    <tr>\n",
       "      <th>2</th>\n",
       "      <td>outbound</td>\n",
       "      <td>144</td>\n",
       "    </tr>\n",
       "  </tbody>\n",
       "</table>\n",
       "</div>"
      ],
      "text/plain": [
       "    cc_type  user_id\n",
       "0   inbound      116\n",
       "1    middle       30\n",
       "2  outbound      144"
      ]
     },
     "execution_count": 32,
     "metadata": {},
     "output_type": "execute_result"
    }
   ],
   "source": [
    "pivot_type = df.pivot_table(index=['cc_type'],values=['user_id'],aggfunc=lambda x: len(x.unique())).reset_index()\n",
    "pivot_type"
   ]
  },
  {
   "cell_type": "code",
   "execution_count": 33,
   "metadata": {},
   "outputs": [
    {
     "data": {
      "image/svg+xml": [
       "<svg class=\"main-svg\" xmlns=\"http://www.w3.org/2000/svg\" xmlns:xlink=\"http://www.w3.org/1999/xlink\" width=\"700\" height=\"500\" style=\"\" viewBox=\"0 0 700 500\"><rect x=\"0\" y=\"0\" width=\"700\" height=\"500\" style=\"fill: rgb(255, 255, 255); fill-opacity: 1;\"/><defs id=\"defs-f9620a\"><g class=\"clips\"/><g class=\"gradients\"/><g class=\"patterns\"/></defs><g class=\"bglayer\"/><g class=\"layer-below\"><g class=\"imagelayer\"/><g class=\"shapelayer\"/></g><g class=\"cartesianlayer\"/><g class=\"polarlayer\"/><g class=\"smithlayer\"/><g class=\"ternarylayer\"/><g class=\"geolayer\"/><g class=\"funnelarealayer\"/><g class=\"pielayer\"><g class=\"trace\" stroke-linejoin=\"round\" style=\"opacity: 1;\"><g class=\"slice\"><path class=\"surface\" d=\"M201.5,260l0,-121.5a121.5,121.5 0 1 1 -31.234567853119245,238.91657366415052Z\" style=\"pointer-events: all; stroke-width: 0; fill: rgb(99, 110, 250); fill-opacity: 1; stroke: rgb(68, 68, 68); stroke-opacity: 1;\"/><g class=\"slicetext\"><text data-notex=\"1\" class=\"slicetext\" transform=\"translate(261.6983466617849,264.57040218048706)\" text-anchor=\"middle\" x=\"0\" y=\"0\" style=\"font-family: 'Open Sans', verdana, arial, sans-serif; font-size: 12px; fill: rgb(255, 255, 255); fill-opacity: 1; white-space: pre;\"><tspan class=\"line\" dy=\"0em\" x=\"0\" y=\"0\">C</tspan><tspan class=\"line\" dy=\"1.3em\" x=\"0\" y=\"0\">54.1%</tspan></text></g></g><g class=\"slice\"><path class=\"surface\" d=\"M201.5,260l-99.0634360861044,70.34689496213963a121.5,121.5 0 0 1 99.0634360861044,-191.84689496213963Z\" style=\"pointer-events: all; stroke-width: 0; fill: rgb(239, 85, 59); fill-opacity: 1; stroke: rgb(68, 68, 68); stroke-opacity: 1;\"/><g class=\"slicetext\"><text data-notex=\"1\" class=\"slicetext\" transform=\"translate(144.29654052621714,227.17749524718184)\" text-anchor=\"middle\" x=\"0\" y=\"0\" style=\"font-family: 'Open Sans', verdana, arial, sans-serif; font-size: 12px; fill: rgb(68, 68, 68); fill-opacity: 1; white-space: pre;\"><tspan class=\"line\" dy=\"0em\" x=\"0\" y=\"0\">B</tspan><tspan class=\"line\" dy=\"1.3em\" x=\"0\" y=\"0\">34.8%</tspan></text></g></g><g class=\"slice\"><path class=\"surface\" d=\"M201.5,260l-31.234567853119223,117.41657366415053a121.5,121.5 0 0 1 -67.82886823298517,-47.069678702010904Z\" style=\"pointer-events: all; stroke-width: 0; fill: rgb(0, 204, 150); fill-opacity: 1; stroke: rgb(68, 68, 68); stroke-opacity: 1;\"/><g class=\"slicetext\"><text data-notex=\"1\" class=\"slicetext\" transform=\"translate(149.7578099640226,331.2011243427567)\" text-anchor=\"middle\" x=\"0\" y=\"0\" style=\"font-family: 'Open Sans', verdana, arial, sans-serif; font-size: 12px; fill: rgb(68, 68, 68); fill-opacity: 1; white-space: pre;\"><tspan class=\"line\" dy=\"0em\" x=\"0\" y=\"0\">A</tspan><tspan class=\"line\" dy=\"1.3em\" x=\"0\" y=\"0\">11%</tspan></text></g></g></g><g class=\"trace\" stroke-linejoin=\"round\" style=\"opacity: 1;\"><g class=\"slice\"><path class=\"surface\" d=\"M498.5,260l0,-121.49999999999999a121.49999999999999,121.49999999999999 0 0 1 2.6322320327864706,242.97148370924577Z\" style=\"pointer-events: all; stroke-width: 0; fill: rgb(171, 99, 250); fill-opacity: 1; stroke: rgb(68, 68, 68); stroke-opacity: 1;\"/><g class=\"slicetext\"><text data-notex=\"1\" class=\"slicetext\" transform=\"translate(559.2482176272447,256.0371965683194)\" text-anchor=\"middle\" x=\"0\" y=\"0\" style=\"font-family: 'Open Sans', verdana, arial, sans-serif; font-size: 12px; fill: rgb(68, 68, 68); fill-opacity: 1; white-space: pre;\"><tspan class=\"line\" dy=\"0em\" x=\"0\" y=\"0\">outbound</tspan><tspan class=\"line\" dy=\"1.3em\" x=\"0\" y=\"0\">49.7%</tspan></text></g></g><g class=\"slice\"><path class=\"surface\" d=\"M498.5,260l-71.4159081535355,98.2955648165561a121.49999999999999,121.49999999999999 0 0 1 71.4159081535355,-219.79556481655607Z\" style=\"pointer-events: all; stroke-width: 0; fill: rgb(255, 161, 90); fill-opacity: 1; stroke: rgb(68, 68, 68); stroke-opacity: 1;\"/><g class=\"slicetext\"><text data-notex=\"1\" class=\"slicetext\" transform=\"translate(439.2739520794177,237.45160300056884)\" text-anchor=\"middle\" x=\"0\" y=\"0\" style=\"font-family: 'Open Sans', verdana, arial, sans-serif; font-size: 12px; fill: rgb(68, 68, 68); fill-opacity: 1; white-space: pre;\"><tspan class=\"line\" dy=\"0em\" x=\"0\" y=\"0\">inbound</tspan><tspan class=\"line\" dy=\"1.3em\" x=\"0\" y=\"0\">40%</tspan></text></g></g><g class=\"slice\"><path class=\"surface\" d=\"M498.5,260l2.632232032786495,121.4714837092458a121.49999999999999,121.49999999999999 0 0 1 -74.04814018632199,-23.175918892689708Z\" style=\"pointer-events: all; stroke-width: 0; fill: rgb(25, 211, 243); fill-opacity: 1; stroke: rgb(68, 68, 68); stroke-opacity: 1;\"/><g class=\"slicetext\"><text data-notex=\"1\" class=\"slicetext\" transform=\"translate(470.9918172577649,344.5852374431912)\" text-anchor=\"middle\" x=\"0\" y=\"0\" style=\"font-family: 'Open Sans', verdana, arial, sans-serif; font-size: 12px; fill: rgb(68, 68, 68); fill-opacity: 1; white-space: pre;\"><tspan class=\"line\" dy=\"0em\" x=\"0\" y=\"0\">middle</tspan><tspan class=\"line\" dy=\"1.3em\" x=\"0\" y=\"0\">10.3%</tspan></text></g></g></g></g><g class=\"iciclelayer\"/><g class=\"treemaplayer\"/><g class=\"sunburstlayer\"/><g class=\"glimages\"/><defs id=\"topdefs-f9620a\"><g class=\"clips\"/></defs><g class=\"layer-above\"><g class=\"imagelayer\"/><g class=\"shapelayer\"/></g><g class=\"infolayer\"><g class=\"g-gtitle\"/><g class=\"annotation\" data-index=\"0\" style=\"opacity: 1;\"><g class=\"annotation-text-g\" transform=\"rotate(0,201.5,88.49999999999999)\"><g class=\"cursor-pointer\" transform=\"translate(71,77)\"><rect class=\"bg\" x=\"0.5\" y=\"0.5\" width=\"261\" height=\"22\" style=\"stroke-width: 1px; stroke: rgb(0, 0, 0); stroke-opacity: 0; fill: rgb(0, 0, 0); fill-opacity: 0;\"/><text class=\"annotation-text\" text-anchor=\"middle\" x=\"131.21875\" y=\"18\" style=\"font-family: 'Open Sans', verdana, arial, sans-serif; font-size: 16px; fill: rgb(42, 63, 95); fill-opacity: 1; white-space: pre;\">Распределение КЦ по тарифам</text></g></g></g><g class=\"annotation\" data-index=\"1\" style=\"opacity: 1;\"><g class=\"annotation-text-g\" transform=\"rotate(0,498.5,88.5)\"><g class=\"cursor-pointer\" transform=\"translate(379,77)\"><rect class=\"bg\" x=\"0.5\" y=\"0.5\" width=\"239\" height=\"22\" style=\"stroke-width: 1px; stroke: rgb(0, 0, 0); stroke-opacity: 0; fill: rgb(0, 0, 0); fill-opacity: 0;\"/><text class=\"annotation-text\" text-anchor=\"middle\" x=\"119.796875\" y=\"18\" style=\"font-family: 'Open Sans', verdana, arial, sans-serif; font-size: 16px; fill: rgb(42, 63, 95); fill-opacity: 1; white-space: pre;\">Распределение КЦ по типам</text></g></g></g></g></svg>"
      ]
     },
     "metadata": {},
     "output_type": "display_data"
    }
   ],
   "source": [
    "fig = make_subplots(rows=1, cols=2, specs=[[{\"type\": \"pie\"}, {\"type\": \"pie\"}]],\n",
    "                   subplot_titles=['Распределение КЦ по тарифам', 'Распределение КЦ по типам'])\n",
    "\n",
    "\n",
    "fig.add_trace(go.Pie(\n",
    "     values=pivot_tariff['user_id'],\n",
    "     labels=pivot_tariff['tariff_plan'],\n",
    "     domain=dict(x=[0, 0.5])), \n",
    "     row=1, col=1)\n",
    "\n",
    "fig.add_trace(go.Pie(\n",
    "     values=pivot_type['user_id'],\n",
    "     labels=pivot_type['cc_type'],\n",
    "     domain=dict(x=[0.5, 1.0])),\n",
    "    row=1, col=2)\n",
    "\n",
    "fig.update_traces(textinfo='percent+label',hoverinfo='label+percent')\n",
    "fig.update(layout_showlegend=False)\n",
    "fig.show(\"svg\")"
   ]
  },
  {
   "cell_type": "markdown",
   "metadata": {},
   "source": [
    "Итого, в датасете есть 54.1% колл-центров с тарифом С, 34,8% колл-центров с тарифом В и 11% колл-центров с тарифом А.\n",
    "\n",
    "Среди всех колл-центров 49,7% ориентированы на исходящий обзвон, 40% - на входящие звонки, и 10,3% работают со звонками обоих типов.\n",
    "\n",
    "Тем не менее, похожие доли могут не означать, что какой-то конкретный тарифный план ориентирован на направление звонка. Отрасль колл-центров имеет тенденцию вводить разные уровни тарификации в зависимости от количества задействованных операторов. Эти распределения рассмотрим позже."
   ]
  },
  {
   "cell_type": "markdown",
   "metadata": {},
   "source": [
    "### Средние показатели по датам"
   ]
  },
  {
   "cell_type": "markdown",
   "metadata": {},
   "source": [
    "Дополнительно, справочно покажем, какие временные рамки рассматриваются, а также покажем минимальную и максимальную даты регистрации колл-центров в системе."
   ]
  },
  {
   "cell_type": "code",
   "execution_count": 34,
   "metadata": {},
   "outputs": [
    {
     "name": "stdout",
     "output_type": "stream",
     "text": [
      "Минимальная дата совершения звонка 2019-08-02 00:00:00\n",
      "Максимальная дата совершения звонка 2019-11-28 00:00:00\n",
      "Минимальная дата регистрации КЦ 2019-08-01 00:00:00\n",
      "Максимальная дата регистрации КЦ 2019-10-31 00:00:00\n"
     ]
    }
   ],
   "source": [
    "print('Минимальная дата совершения звонка',df['date'].min())\n",
    "print('Максимальная дата совершения звонка',df['date'].max())\n",
    "print('Минимальная дата регистрации КЦ',df['date_start'].min())\n",
    "print('Максимальная дата регистрации КЦ',df['date_start'].max())"
   ]
  },
  {
   "cell_type": "markdown",
   "metadata": {},
   "source": [
    "Итого получается, что в датасете есть колл-центры, зарегистрированные в компании с 01 августа 2019 года по 31 октября 2019 года, а звонки этими колл-центрами совершаются с 02 августа 2019 года по 28 ноября 2019 года. Таким образом, даже для самых недавно зарегистрированных колл-центров могут быть доступны данные как минимум за 4 недели их работы."
   ]
  },
  {
   "cell_type": "markdown",
   "metadata": {},
   "source": [
    "В первую очередь изучим количество активных операторов на каждую дату, количество звонков, ими совершаемых, а также изменение среднего времени длительности звонков изо дня в день. Дополнительно введем информационную колонку с днем недели."
   ]
  },
  {
   "cell_type": "code",
   "execution_count": 35,
   "metadata": {},
   "outputs": [
    {
     "data": {
      "text/html": [
       "<div>\n",
       "<style scoped>\n",
       "    .dataframe tbody tr th:only-of-type {\n",
       "        vertical-align: middle;\n",
       "    }\n",
       "\n",
       "    .dataframe tbody tr th {\n",
       "        vertical-align: top;\n",
       "    }\n",
       "\n",
       "    .dataframe thead th {\n",
       "        text-align: right;\n",
       "    }\n",
       "</style>\n",
       "<table border=\"1\" class=\"dataframe\">\n",
       "  <thead>\n",
       "    <tr style=\"text-align: right;\">\n",
       "      <th></th>\n",
       "      <th>date</th>\n",
       "      <th>call_duration</th>\n",
       "      <th>calls_count</th>\n",
       "      <th>operator_id</th>\n",
       "      <th>total_call_duration</th>\n",
       "    </tr>\n",
       "  </thead>\n",
       "  <tbody>\n",
       "    <tr>\n",
       "      <th>0</th>\n",
       "      <td>2019-08-02</td>\n",
       "      <td>34.750000</td>\n",
       "      <td>16</td>\n",
       "      <td>2</td>\n",
       "      <td>111.750000</td>\n",
       "    </tr>\n",
       "    <tr>\n",
       "      <th>1</th>\n",
       "      <td>2019-08-03</td>\n",
       "      <td>190.400000</td>\n",
       "      <td>26</td>\n",
       "      <td>2</td>\n",
       "      <td>281.800000</td>\n",
       "    </tr>\n",
       "    <tr>\n",
       "      <th>2</th>\n",
       "      <td>2019-08-04</td>\n",
       "      <td>57.000000</td>\n",
       "      <td>2</td>\n",
       "      <td>1</td>\n",
       "      <td>70.000000</td>\n",
       "    </tr>\n",
       "    <tr>\n",
       "      <th>3</th>\n",
       "      <td>2019-08-05</td>\n",
       "      <td>836.000000</td>\n",
       "      <td>176</td>\n",
       "      <td>4</td>\n",
       "      <td>1048.666667</td>\n",
       "    </tr>\n",
       "    <tr>\n",
       "      <th>4</th>\n",
       "      <td>2019-08-06</td>\n",
       "      <td>930.166667</td>\n",
       "      <td>178</td>\n",
       "      <td>7</td>\n",
       "      <td>1079.083333</td>\n",
       "    </tr>\n",
       "    <tr>\n",
       "      <th>...</th>\n",
       "      <td>...</td>\n",
       "      <td>...</td>\n",
       "      <td>...</td>\n",
       "      <td>...</td>\n",
       "      <td>...</td>\n",
       "    </tr>\n",
       "    <tr>\n",
       "      <th>113</th>\n",
       "      <td>2019-11-24</td>\n",
       "      <td>1045.790244</td>\n",
       "      <td>3326</td>\n",
       "      <td>114</td>\n",
       "      <td>1349.043902</td>\n",
       "    </tr>\n",
       "    <tr>\n",
       "      <th>114</th>\n",
       "      <td>2019-11-25</td>\n",
       "      <td>1025.177340</td>\n",
       "      <td>13395</td>\n",
       "      <td>397</td>\n",
       "      <td>1303.439655</td>\n",
       "    </tr>\n",
       "    <tr>\n",
       "      <th>115</th>\n",
       "      <td>2019-11-26</td>\n",
       "      <td>1039.845855</td>\n",
       "      <td>12899</td>\n",
       "      <td>385</td>\n",
       "      <td>1329.341969</td>\n",
       "    </tr>\n",
       "    <tr>\n",
       "      <th>116</th>\n",
       "      <td>2019-11-27</td>\n",
       "      <td>936.523114</td>\n",
       "      <td>12525</td>\n",
       "      <td>414</td>\n",
       "      <td>1192.985401</td>\n",
       "    </tr>\n",
       "    <tr>\n",
       "      <th>117</th>\n",
       "      <td>2019-11-28</td>\n",
       "      <td>896.273067</td>\n",
       "      <td>12018</td>\n",
       "      <td>397</td>\n",
       "      <td>1150.426434</td>\n",
       "    </tr>\n",
       "  </tbody>\n",
       "</table>\n",
       "<p>118 rows × 5 columns</p>\n",
       "</div>"
      ],
      "text/plain": [
       "          date  call_duration  calls_count  operator_id  total_call_duration\n",
       "0   2019-08-02      34.750000           16            2           111.750000\n",
       "1   2019-08-03     190.400000           26            2           281.800000\n",
       "2   2019-08-04      57.000000            2            1            70.000000\n",
       "3   2019-08-05     836.000000          176            4          1048.666667\n",
       "4   2019-08-06     930.166667          178            7          1079.083333\n",
       "..         ...            ...          ...          ...                  ...\n",
       "113 2019-11-24    1045.790244         3326          114          1349.043902\n",
       "114 2019-11-25    1025.177340        13395          397          1303.439655\n",
       "115 2019-11-26    1039.845855        12899          385          1329.341969\n",
       "116 2019-11-27     936.523114        12525          414          1192.985401\n",
       "117 2019-11-28     896.273067        12018          397          1150.426434\n",
       "\n",
       "[118 rows x 5 columns]"
      ]
     },
     "execution_count": 35,
     "metadata": {},
     "output_type": "execute_result"
    }
   ],
   "source": [
    "timetable = df.query('internal == False').pivot_table(index=['date'],values=['operator_id','calls_count','call_duration','total_call_duration'],\n",
    "                                                     aggfunc={'operator_id':'nunique',\n",
    "                                                              'calls_count':'sum',\n",
    "                                                              'call_duration':'mean',\n",
    "                                                              'total_call_duration':'mean'}).reset_index()\n",
    "timetable"
   ]
  },
  {
   "cell_type": "code",
   "execution_count": 36,
   "metadata": {},
   "outputs": [
    {
     "data": {
      "text/html": [
       "<div>\n",
       "<style scoped>\n",
       "    .dataframe tbody tr th:only-of-type {\n",
       "        vertical-align: middle;\n",
       "    }\n",
       "\n",
       "    .dataframe tbody tr th {\n",
       "        vertical-align: top;\n",
       "    }\n",
       "\n",
       "    .dataframe thead th {\n",
       "        text-align: right;\n",
       "    }\n",
       "</style>\n",
       "<table border=\"1\" class=\"dataframe\">\n",
       "  <thead>\n",
       "    <tr style=\"text-align: right;\">\n",
       "      <th></th>\n",
       "      <th>date</th>\n",
       "      <th>call_duration</th>\n",
       "      <th>calls_count</th>\n",
       "      <th>operator_id</th>\n",
       "      <th>total_call_duration</th>\n",
       "      <th>day_of_week</th>\n",
       "      <th>calls_per_operator</th>\n",
       "    </tr>\n",
       "  </thead>\n",
       "  <tbody>\n",
       "    <tr>\n",
       "      <th>0</th>\n",
       "      <td>2019-08-02</td>\n",
       "      <td>34.750000</td>\n",
       "      <td>16</td>\n",
       "      <td>2</td>\n",
       "      <td>111.750000</td>\n",
       "      <td>Friday</td>\n",
       "      <td>8.00</td>\n",
       "    </tr>\n",
       "    <tr>\n",
       "      <th>1</th>\n",
       "      <td>2019-08-03</td>\n",
       "      <td>190.400000</td>\n",
       "      <td>26</td>\n",
       "      <td>2</td>\n",
       "      <td>281.800000</td>\n",
       "      <td>Saturday</td>\n",
       "      <td>13.00</td>\n",
       "    </tr>\n",
       "    <tr>\n",
       "      <th>2</th>\n",
       "      <td>2019-08-04</td>\n",
       "      <td>57.000000</td>\n",
       "      <td>2</td>\n",
       "      <td>1</td>\n",
       "      <td>70.000000</td>\n",
       "      <td>Sunday</td>\n",
       "      <td>2.00</td>\n",
       "    </tr>\n",
       "    <tr>\n",
       "      <th>3</th>\n",
       "      <td>2019-08-05</td>\n",
       "      <td>836.000000</td>\n",
       "      <td>176</td>\n",
       "      <td>4</td>\n",
       "      <td>1048.666667</td>\n",
       "      <td>Monday</td>\n",
       "      <td>44.00</td>\n",
       "    </tr>\n",
       "    <tr>\n",
       "      <th>4</th>\n",
       "      <td>2019-08-06</td>\n",
       "      <td>930.166667</td>\n",
       "      <td>178</td>\n",
       "      <td>7</td>\n",
       "      <td>1079.083333</td>\n",
       "      <td>Tuesday</td>\n",
       "      <td>25.43</td>\n",
       "    </tr>\n",
       "    <tr>\n",
       "      <th>...</th>\n",
       "      <td>...</td>\n",
       "      <td>...</td>\n",
       "      <td>...</td>\n",
       "      <td>...</td>\n",
       "      <td>...</td>\n",
       "      <td>...</td>\n",
       "      <td>...</td>\n",
       "    </tr>\n",
       "    <tr>\n",
       "      <th>113</th>\n",
       "      <td>2019-11-24</td>\n",
       "      <td>1045.790244</td>\n",
       "      <td>3326</td>\n",
       "      <td>114</td>\n",
       "      <td>1349.043902</td>\n",
       "      <td>Sunday</td>\n",
       "      <td>29.18</td>\n",
       "    </tr>\n",
       "    <tr>\n",
       "      <th>114</th>\n",
       "      <td>2019-11-25</td>\n",
       "      <td>1025.177340</td>\n",
       "      <td>13395</td>\n",
       "      <td>397</td>\n",
       "      <td>1303.439655</td>\n",
       "      <td>Monday</td>\n",
       "      <td>33.74</td>\n",
       "    </tr>\n",
       "    <tr>\n",
       "      <th>115</th>\n",
       "      <td>2019-11-26</td>\n",
       "      <td>1039.845855</td>\n",
       "      <td>12899</td>\n",
       "      <td>385</td>\n",
       "      <td>1329.341969</td>\n",
       "      <td>Tuesday</td>\n",
       "      <td>33.50</td>\n",
       "    </tr>\n",
       "    <tr>\n",
       "      <th>116</th>\n",
       "      <td>2019-11-27</td>\n",
       "      <td>936.523114</td>\n",
       "      <td>12525</td>\n",
       "      <td>414</td>\n",
       "      <td>1192.985401</td>\n",
       "      <td>Wednesday</td>\n",
       "      <td>30.25</td>\n",
       "    </tr>\n",
       "    <tr>\n",
       "      <th>117</th>\n",
       "      <td>2019-11-28</td>\n",
       "      <td>896.273067</td>\n",
       "      <td>12018</td>\n",
       "      <td>397</td>\n",
       "      <td>1150.426434</td>\n",
       "      <td>Thursday</td>\n",
       "      <td>30.27</td>\n",
       "    </tr>\n",
       "  </tbody>\n",
       "</table>\n",
       "<p>118 rows × 7 columns</p>\n",
       "</div>"
      ],
      "text/plain": [
       "          date  call_duration  calls_count  operator_id  total_call_duration  \\\n",
       "0   2019-08-02      34.750000           16            2           111.750000   \n",
       "1   2019-08-03     190.400000           26            2           281.800000   \n",
       "2   2019-08-04      57.000000            2            1            70.000000   \n",
       "3   2019-08-05     836.000000          176            4          1048.666667   \n",
       "4   2019-08-06     930.166667          178            7          1079.083333   \n",
       "..         ...            ...          ...          ...                  ...   \n",
       "113 2019-11-24    1045.790244         3326          114          1349.043902   \n",
       "114 2019-11-25    1025.177340        13395          397          1303.439655   \n",
       "115 2019-11-26    1039.845855        12899          385          1329.341969   \n",
       "116 2019-11-27     936.523114        12525          414          1192.985401   \n",
       "117 2019-11-28     896.273067        12018          397          1150.426434   \n",
       "\n",
       "    day_of_week  calls_per_operator  \n",
       "0        Friday                8.00  \n",
       "1      Saturday               13.00  \n",
       "2        Sunday                2.00  \n",
       "3        Monday               44.00  \n",
       "4       Tuesday               25.43  \n",
       "..          ...                 ...  \n",
       "113      Sunday               29.18  \n",
       "114      Monday               33.74  \n",
       "115     Tuesday               33.50  \n",
       "116   Wednesday               30.25  \n",
       "117    Thursday               30.27  \n",
       "\n",
       "[118 rows x 7 columns]"
      ]
     },
     "execution_count": 36,
     "metadata": {},
     "output_type": "execute_result"
    }
   ],
   "source": [
    "timetable['day_of_week'] = timetable['date'].dt.day_name()\n",
    "timetable['calls_per_operator'] = round(timetable['calls_count']/timetable['operator_id'],2)\n",
    "timetable"
   ]
  },
  {
   "cell_type": "code",
   "execution_count": 37,
   "metadata": {},
   "outputs": [
    {
     "data": {
      "image/svg+xml": [
       "<svg class=\"main-svg\" xmlns=\"http://www.w3.org/2000/svg\" xmlns:xlink=\"http://www.w3.org/1999/xlink\" width=\"700\" height=\"500\" style=\"\" viewBox=\"0 0 700 500\"><rect x=\"0\" y=\"0\" width=\"700\" height=\"500\" style=\"fill: rgb(255, 255, 255); fill-opacity: 1;\"/><defs id=\"defs-b8ddf1\"><g class=\"clips\"><clipPath id=\"clipb8ddf1xyplot\" class=\"plotclip\"><rect width=\"483\" height=\"360\"/></clipPath><clipPath class=\"axesclip\" id=\"clipb8ddf1x\"><rect x=\"80\" y=\"0\" width=\"483\" height=\"500\"/></clipPath><clipPath class=\"axesclip\" id=\"clipb8ddf1y\"><rect x=\"0\" y=\"60\" width=\"700\" height=\"360\"/></clipPath><clipPath class=\"axesclip\" id=\"clipb8ddf1xy\"><rect x=\"80\" y=\"60\" width=\"483\" height=\"360\"/></clipPath></g><g class=\"gradients\"/><g class=\"patterns\"/></defs><g class=\"bglayer\"><rect class=\"bg\" x=\"80\" y=\"60\" width=\"483\" height=\"360\" style=\"fill: rgb(229, 236, 246); fill-opacity: 1; stroke-width: 0;\"/></g><g class=\"layer-below\"><g class=\"imagelayer\"/><g class=\"shapelayer\"/></g><g class=\"cartesianlayer\"><g class=\"subplot xy\"><g class=\"layer-subplot\"><g class=\"shapelayer\"/><g class=\"imagelayer\"/></g><g class=\"minor-gridlayer\"><g class=\"x\"/><g class=\"y\"/></g><g class=\"gridlayer\"><g class=\"x\"><path class=\"xgrid crisp\" transform=\"translate(202.8,0)\" d=\"M0,60v360\" style=\"stroke: rgb(255, 255, 255); stroke-opacity: 1; stroke-width: 1px;\"/><path class=\"xgrid crisp\" transform=\"translate(325.59000000000003,0)\" d=\"M0,60v360\" style=\"stroke: rgb(255, 255, 255); stroke-opacity: 1; stroke-width: 1px;\"/><path class=\"xgrid crisp\" transform=\"translate(452.48,0)\" d=\"M0,60v360\" style=\"stroke: rgb(255, 255, 255); stroke-opacity: 1; stroke-width: 1px;\"/></g><g class=\"y\"><path class=\"ygrid crisp\" transform=\"translate(0,363.56)\" d=\"M80,0h483\" style=\"stroke: rgb(255, 255, 255); stroke-opacity: 1; stroke-width: 1px;\"/><path class=\"ygrid crisp\" transform=\"translate(0,324.33)\" d=\"M80,0h483\" style=\"stroke: rgb(255, 255, 255); stroke-opacity: 1; stroke-width: 1px;\"/><path class=\"ygrid crisp\" transform=\"translate(0,285.11)\" d=\"M80,0h483\" style=\"stroke: rgb(255, 255, 255); stroke-opacity: 1; stroke-width: 1px;\"/><path class=\"ygrid crisp\" transform=\"translate(0,245.88)\" d=\"M80,0h483\" style=\"stroke: rgb(255, 255, 255); stroke-opacity: 1; stroke-width: 1px;\"/><path class=\"ygrid crisp\" transform=\"translate(0,206.66)\" d=\"M80,0h483\" style=\"stroke: rgb(255, 255, 255); stroke-opacity: 1; stroke-width: 1px;\"/><path class=\"ygrid crisp\" transform=\"translate(0,167.43)\" d=\"M80,0h483\" style=\"stroke: rgb(255, 255, 255); stroke-opacity: 1; stroke-width: 1px;\"/><path class=\"ygrid crisp\" transform=\"translate(0,128.20999999999998)\" d=\"M80,0h483\" style=\"stroke: rgb(255, 255, 255); stroke-opacity: 1; stroke-width: 1px;\"/><path class=\"ygrid crisp\" transform=\"translate(0,88.98)\" d=\"M80,0h483\" style=\"stroke: rgb(255, 255, 255); stroke-opacity: 1; stroke-width: 1px;\"/></g></g><g class=\"zerolinelayer\"><path class=\"yzl zl crisp\" transform=\"translate(0,402.78)\" d=\"M80,0h483\" style=\"stroke: rgb(255, 255, 255); stroke-opacity: 1; stroke-width: 2px;\"/></g><path class=\"xlines-below\"/><path class=\"ylines-below\"/><g class=\"overlines-below\"/><g class=\"xaxislayer-below\"/><g class=\"yaxislayer-below\"/><g class=\"overaxes-below\"/><g class=\"plot\" transform=\"translate(80,60)\" clip-path=\"url(#clipb8ddf1xyplot)\"><g class=\"scatterlayer mlayer\"><g class=\"trace scatter trace0f528c\" style=\"stroke-miterlimit: 2; opacity: 1;\"><g class=\"fills\"/><g class=\"errorbars\"/><g class=\"lines\"><path class=\"js-line\" d=\"M0,341.22L28.65,334.15L57.31,330.23L85.96,308.27L114.61,280.02L143.26,263.55L171.92,248.64L200.57,232.95L229.22,196.08L257.87,173.33L286.53,155.29L315.18,127.05L343.83,105.08L372.48,94.88L401.14,64.29L429.79,56.44L458.44,34.47\" style=\"vector-effect: non-scaling-stroke; fill: none; stroke: rgb(99, 110, 250); stroke-opacity: 1; stroke-width: 2px; opacity: 1;\"/></g><g class=\"points\"/><g class=\"text\"/></g><g class=\"trace scatter tracebc569f\" style=\"stroke-miterlimit: 2; opacity: 1;\"><g class=\"fills\"/><g class=\"errorbars\"/><g class=\"lines\"><path class=\"js-line\" d=\"M4.09,341.22L32.75,340.43L61.4,332.59L90.05,334.15L118.7,327.09L147.36,321.6L176.01,313.76L204.66,304.34L233.31,284.73L261.97,270.61L290.62,263.55L319.27,269.04L347.92,261.98L376.58,251L405.23,236.09L433.88,236.88L462.53,219.62\" style=\"vector-effect: non-scaling-stroke; fill: none; stroke: rgb(239, 85, 59); stroke-opacity: 1; stroke-width: 2px; opacity: 1;\"/></g><g class=\"points\"/><g class=\"text\"/></g><g class=\"trace scatter tracef97879\" style=\"stroke-miterlimit: 2; opacity: 1;\"><g class=\"fills\"/><g class=\"errorbars\"/><g class=\"lines\"><path class=\"js-line\" d=\"M8.19,342L65.49,338.08L94.14,334.94L122.8,327.09L151.45,324.74L180.1,320.03L208.75,316.9L237.41,293.36L266.06,294.93L294.71,283.95L323.36,287.87L352.02,271.39L380.67,276.1L409.32,266.69L437.97,254.14L466.63,253.35\" style=\"vector-effect: non-scaling-stroke; fill: none; stroke: rgb(0, 204, 150); stroke-opacity: 1; stroke-width: 2px; opacity: 1;\"/></g><g class=\"points\"/><g class=\"text\"/></g><g class=\"trace scatter tracee652ee\" style=\"stroke-miterlimit: 2; opacity: 1;\"><g class=\"fills\"/><g class=\"errorbars\"/><g class=\"lines\"><path class=\"js-line\" d=\"M12.28,339.65L40.93,333.37L69.58,325.53L98.24,300.42L126.89,282.38L155.54,257.27L184.19,245.51L212.85,219.62L241.5,186.67L270.15,177.25L298.81,154.5L327.46,116.06L356.11,101.94L384.76,255.7L413.42,58.01L442.07,31.34L470.72,31.34\" style=\"vector-effect: non-scaling-stroke; fill: none; stroke: rgb(171, 99, 250); stroke-opacity: 1; stroke-width: 2px; opacity: 1;\"/></g><g class=\"points\"/><g class=\"text\"/></g><g class=\"trace scatter trace0b9abb\" style=\"stroke-miterlimit: 2; opacity: 1;\"><g class=\"fills\"/><g class=\"errorbars\"/><g class=\"lines\"><path class=\"js-line\" d=\"M16.37,337.29L45.03,332.59L73.68,314.54L102.33,298.85L130.98,269.83L159.64,245.51L188.29,242.37L216.94,222.76L245.59,190.59L274.25,161.56L302.9,146.66L331.55,109.79L360.2,104.3L388.86,61.15L417.51,44.67L446.16,35.26L474.81,40.75\" style=\"vector-effect: non-scaling-stroke; fill: none; stroke: rgb(255, 161, 90); stroke-opacity: 1; stroke-width: 2px; opacity: 1;\"/></g><g class=\"points\"/><g class=\"text\"/></g><g class=\"trace scatter trace3dd90a\" style=\"stroke-miterlimit: 2; opacity: 1;\"><g class=\"fills\"/><g class=\"errorbars\"/><g class=\"lines\"><path class=\"js-line\" d=\"M20.47,335.72L49.12,330.23L77.77,316.11L106.42,298.85L135.08,265.12L163.73,247.08L192.38,226.68L221.03,196.87L249.69,185.1L278.34,163.92L306.99,145.09L335.64,112.92L364.3,118.42L392.95,74.48L421.6,59.58L450.25,34.47L478.91,18\" style=\"vector-effect: non-scaling-stroke; fill: none; stroke: rgb(25, 211, 243); stroke-opacity: 1; stroke-width: 2px; opacity: 1;\"/></g><g class=\"points\"/><g class=\"text\"/></g><g class=\"trace scatter trace2e3b3f\" style=\"stroke-miterlimit: 2; opacity: 1;\"><g class=\"fills\"/><g class=\"errorbars\"/><g class=\"lines\"><path class=\"js-line\" d=\"M24.56,335.72L53.21,330.23L81.86,312.19L110.52,291.01L139.17,260.41L167.82,241.58L196.47,235.31L225.13,200L253.78,181.96L282.43,144.31L311.08,129.4L339.74,112.14L368.39,99.59L397.04,65.07L425.69,68.21L454.35,42.32L483,31.34\" style=\"vector-effect: non-scaling-stroke; fill: none; stroke: rgb(255, 102, 146); stroke-opacity: 1; stroke-width: 2px; opacity: 1;\"/></g><g class=\"points\"/><g class=\"text\"/></g></g></g><g class=\"overplot\"/><path class=\"xlines-above crisp\" d=\"M0,0\" style=\"fill: none;\"/><path class=\"ylines-above crisp\" d=\"M0,0\" style=\"fill: none;\"/><g class=\"overlines-above\"/><g class=\"xaxislayer-above\"><g class=\"xtick\"><text text-anchor=\"middle\" x=\"0\" y=\"433\" transform=\"translate(202.8,0)\" style=\"font-family: 'Open Sans', verdana, arial, sans-serif; font-size: 12px; fill: rgb(42, 63, 95); fill-opacity: 1; white-space: pre; opacity: 1;\">Sep 2019</text></g><g class=\"xtick\"><text text-anchor=\"middle\" x=\"0\" y=\"433\" style=\"font-family: 'Open Sans', verdana, arial, sans-serif; font-size: 12px; fill: rgb(42, 63, 95); fill-opacity: 1; white-space: pre; opacity: 1;\" transform=\"translate(325.59000000000003,0)\">Oct 2019</text></g><g class=\"xtick\"><text text-anchor=\"middle\" x=\"0\" y=\"433\" style=\"font-family: 'Open Sans', verdana, arial, sans-serif; font-size: 12px; fill: rgb(42, 63, 95); fill-opacity: 1; white-space: pre; opacity: 1;\" transform=\"translate(452.48,0)\">Nov 2019</text></g></g><g class=\"yaxislayer-above\"><g class=\"ytick\"><text text-anchor=\"end\" x=\"79\" y=\"4.199999999999999\" transform=\"translate(0,402.78)\" style=\"font-family: 'Open Sans', verdana, arial, sans-serif; font-size: 12px; fill: rgb(42, 63, 95); fill-opacity: 1; white-space: pre; opacity: 1;\">0</text></g><g class=\"ytick\"><text text-anchor=\"end\" x=\"79\" y=\"4.199999999999999\" style=\"font-family: 'Open Sans', verdana, arial, sans-serif; font-size: 12px; fill: rgb(42, 63, 95); fill-opacity: 1; white-space: pre; opacity: 1;\" transform=\"translate(0,363.56)\">50</text></g><g class=\"ytick\"><text text-anchor=\"end\" x=\"79\" y=\"4.199999999999999\" style=\"font-family: 'Open Sans', verdana, arial, sans-serif; font-size: 12px; fill: rgb(42, 63, 95); fill-opacity: 1; white-space: pre; opacity: 1;\" transform=\"translate(0,324.33)\">100</text></g><g class=\"ytick\"><text text-anchor=\"end\" x=\"79\" y=\"4.199999999999999\" style=\"font-family: 'Open Sans', verdana, arial, sans-serif; font-size: 12px; fill: rgb(42, 63, 95); fill-opacity: 1; white-space: pre; opacity: 1;\" transform=\"translate(0,285.11)\">150</text></g><g class=\"ytick\"><text text-anchor=\"end\" x=\"79\" y=\"4.199999999999999\" style=\"font-family: 'Open Sans', verdana, arial, sans-serif; font-size: 12px; fill: rgb(42, 63, 95); fill-opacity: 1; white-space: pre; opacity: 1;\" transform=\"translate(0,245.88)\">200</text></g><g class=\"ytick\"><text text-anchor=\"end\" x=\"79\" y=\"4.199999999999999\" style=\"font-family: 'Open Sans', verdana, arial, sans-serif; font-size: 12px; fill: rgb(42, 63, 95); fill-opacity: 1; white-space: pre; opacity: 1;\" transform=\"translate(0,206.66)\">250</text></g><g class=\"ytick\"><text text-anchor=\"end\" x=\"79\" y=\"4.199999999999999\" style=\"font-family: 'Open Sans', verdana, arial, sans-serif; font-size: 12px; fill: rgb(42, 63, 95); fill-opacity: 1; white-space: pre; opacity: 1;\" transform=\"translate(0,167.43)\">300</text></g><g class=\"ytick\"><text text-anchor=\"end\" x=\"79\" y=\"4.199999999999999\" style=\"font-family: 'Open Sans', verdana, arial, sans-serif; font-size: 12px; fill: rgb(42, 63, 95); fill-opacity: 1; white-space: pre; opacity: 1;\" transform=\"translate(0,128.20999999999998)\">350</text></g><g class=\"ytick\"><text text-anchor=\"end\" x=\"79\" y=\"4.199999999999999\" style=\"font-family: 'Open Sans', verdana, arial, sans-serif; font-size: 12px; fill: rgb(42, 63, 95); fill-opacity: 1; white-space: pre; opacity: 1;\" transform=\"translate(0,88.98)\">400</text></g></g><g class=\"overaxes-above\"/></g></g><g class=\"polarlayer\"/><g class=\"smithlayer\"/><g class=\"ternarylayer\"/><g class=\"geolayer\"/><g class=\"funnelarealayer\"/><g class=\"pielayer\"/><g class=\"iciclelayer\"/><g class=\"treemaplayer\"/><g class=\"sunburstlayer\"/><g class=\"glimages\"/><defs id=\"topdefs-b8ddf1\"><g class=\"clips\"/><clipPath id=\"legendb8ddf1\"><rect width=\"115\" height=\"162\" x=\"0\" y=\"0\"/></clipPath></defs><g class=\"layer-above\"><g class=\"imagelayer\"/><g class=\"shapelayer\"/></g><g class=\"infolayer\"><g class=\"legend\" pointer-events=\"all\" transform=\"translate(572.6600000000001,60)\"><rect class=\"bg\" shape-rendering=\"crispEdges\" style=\"stroke: rgb(68, 68, 68); stroke-opacity: 1; fill: rgb(255, 255, 255); fill-opacity: 1; stroke-width: 0px;\" width=\"115\" height=\"162\" x=\"0\" y=\"0\"/><g class=\"scrollbox\" transform=\"\" clip-path=\"url(#legendb8ddf1)\"><text class=\"legendtitletext\" text-anchor=\"start\" x=\"2\" y=\"18.2\" style=\"font-family: 'Open Sans', verdana, arial, sans-serif; font-size: 14px; fill: rgb(42, 63, 95); fill-opacity: 1; white-space: pre;\">День недели</text><g class=\"groups\" transform=\"\"><g class=\"traces\" transform=\"translate(0,32.7)\" style=\"opacity: 1;\"><text class=\"legendtext\" text-anchor=\"start\" x=\"40\" y=\"4.680000000000001\" style=\"font-family: 'Open Sans', verdana, arial, sans-serif; font-size: 12px; fill: rgb(42, 63, 95); fill-opacity: 1; white-space: pre;\">Friday</text><g class=\"layers\" style=\"opacity: 1;\"><g class=\"legendfill\"/><g class=\"legendlines\"><path class=\"js-line\" d=\"M5,0h30\" style=\"fill: none; stroke: rgb(99, 110, 250); stroke-opacity: 1; stroke-width: 2px;\"/></g><g class=\"legendsymbols\"><g class=\"legendpoints\"/></g></g><rect class=\"legendtoggle\" x=\"0\" y=\"-9.5\" width=\"109.5\" height=\"19\" style=\"fill: rgb(0, 0, 0); fill-opacity: 0;\"/></g></g><g class=\"groups\" transform=\"\"><g class=\"traces\" transform=\"translate(0,51.7)\" style=\"opacity: 1;\"><text class=\"legendtext\" text-anchor=\"start\" x=\"40\" y=\"4.680000000000001\" style=\"font-family: 'Open Sans', verdana, arial, sans-serif; font-size: 12px; fill: rgb(42, 63, 95); fill-opacity: 1; white-space: pre;\">Saturday</text><g class=\"layers\" style=\"opacity: 1;\"><g class=\"legendfill\"/><g class=\"legendlines\"><path class=\"js-line\" d=\"M5,0h30\" style=\"fill: none; stroke: rgb(239, 85, 59); stroke-opacity: 1; stroke-width: 2px;\"/></g><g class=\"legendsymbols\"><g class=\"legendpoints\"/></g></g><rect class=\"legendtoggle\" x=\"0\" y=\"-9.5\" width=\"109.5\" height=\"19\" style=\"fill: rgb(0, 0, 0); fill-opacity: 0;\"/></g></g><g class=\"groups\" transform=\"\"><g class=\"traces\" transform=\"translate(0,70.7)\" style=\"opacity: 1;\"><text class=\"legendtext\" text-anchor=\"start\" x=\"40\" y=\"4.680000000000001\" style=\"font-family: 'Open Sans', verdana, arial, sans-serif; font-size: 12px; fill: rgb(42, 63, 95); fill-opacity: 1; white-space: pre;\">Sunday</text><g class=\"layers\" style=\"opacity: 1;\"><g class=\"legendfill\"/><g class=\"legendlines\"><path class=\"js-line\" d=\"M5,0h30\" style=\"fill: none; stroke: rgb(0, 204, 150); stroke-opacity: 1; stroke-width: 2px;\"/></g><g class=\"legendsymbols\"><g class=\"legendpoints\"/></g></g><rect class=\"legendtoggle\" x=\"0\" y=\"-9.5\" width=\"109.5\" height=\"19\" style=\"fill: rgb(0, 0, 0); fill-opacity: 0;\"/></g></g><g class=\"groups\" transform=\"\"><g class=\"traces\" transform=\"translate(0,89.7)\" style=\"opacity: 1;\"><text class=\"legendtext\" text-anchor=\"start\" x=\"40\" y=\"4.680000000000001\" style=\"font-family: 'Open Sans', verdana, arial, sans-serif; font-size: 12px; fill: rgb(42, 63, 95); fill-opacity: 1; white-space: pre;\">Monday</text><g class=\"layers\" style=\"opacity: 1;\"><g class=\"legendfill\"/><g class=\"legendlines\"><path class=\"js-line\" d=\"M5,0h30\" style=\"fill: none; stroke: rgb(171, 99, 250); stroke-opacity: 1; stroke-width: 2px;\"/></g><g class=\"legendsymbols\"><g class=\"legendpoints\"/></g></g><rect class=\"legendtoggle\" x=\"0\" y=\"-9.5\" width=\"109.5\" height=\"19\" style=\"fill: rgb(0, 0, 0); fill-opacity: 0;\"/></g></g><g class=\"groups\" transform=\"\"><g class=\"traces\" transform=\"translate(0,108.7)\" style=\"opacity: 1;\"><text class=\"legendtext\" text-anchor=\"start\" x=\"40\" y=\"4.680000000000001\" style=\"font-family: 'Open Sans', verdana, arial, sans-serif; font-size: 12px; fill: rgb(42, 63, 95); fill-opacity: 1; white-space: pre;\">Tuesday</text><g class=\"layers\" style=\"opacity: 1;\"><g class=\"legendfill\"/><g class=\"legendlines\"><path class=\"js-line\" d=\"M5,0h30\" style=\"fill: none; stroke: rgb(255, 161, 90); stroke-opacity: 1; stroke-width: 2px;\"/></g><g class=\"legendsymbols\"><g class=\"legendpoints\"/></g></g><rect class=\"legendtoggle\" x=\"0\" y=\"-9.5\" width=\"109.5\" height=\"19\" style=\"fill: rgb(0, 0, 0); fill-opacity: 0;\"/></g></g><g class=\"groups\" transform=\"\"><g class=\"traces\" transform=\"translate(0,127.7)\" style=\"opacity: 1;\"><text class=\"legendtext\" text-anchor=\"start\" x=\"40\" y=\"4.680000000000001\" style=\"font-family: 'Open Sans', verdana, arial, sans-serif; font-size: 12px; fill: rgb(42, 63, 95); fill-opacity: 1; white-space: pre;\">Wednesday</text><g class=\"layers\" style=\"opacity: 1;\"><g class=\"legendfill\"/><g class=\"legendlines\"><path class=\"js-line\" d=\"M5,0h30\" style=\"fill: none; stroke: rgb(25, 211, 243); stroke-opacity: 1; stroke-width: 2px;\"/></g><g class=\"legendsymbols\"><g class=\"legendpoints\"/></g></g><rect class=\"legendtoggle\" x=\"0\" y=\"-9.5\" width=\"109.5\" height=\"19\" style=\"fill: rgb(0, 0, 0); fill-opacity: 0;\"/></g></g><g class=\"groups\" transform=\"\"><g class=\"traces\" transform=\"translate(0,146.7)\" style=\"opacity: 1;\"><text class=\"legendtext\" text-anchor=\"start\" x=\"40\" y=\"4.680000000000001\" style=\"font-family: 'Open Sans', verdana, arial, sans-serif; font-size: 12px; fill: rgb(42, 63, 95); fill-opacity: 1; white-space: pre;\">Thursday</text><g class=\"layers\" style=\"opacity: 1;\"><g class=\"legendfill\"/><g class=\"legendlines\"><path class=\"js-line\" d=\"M5,0h30\" style=\"fill: none; stroke: rgb(255, 102, 146); stroke-opacity: 1; stroke-width: 2px;\"/></g><g class=\"legendsymbols\"><g class=\"legendpoints\"/></g></g><rect class=\"legendtoggle\" x=\"0\" y=\"-9.5\" width=\"109.5\" height=\"19\" style=\"fill: rgb(0, 0, 0); fill-opacity: 0;\"/></g></g></g><rect class=\"scrollbar\" rx=\"20\" ry=\"3\" width=\"0\" height=\"0\" style=\"fill: rgb(128, 139, 164); fill-opacity: 1;\" x=\"0\" y=\"0\"/></g><g class=\"g-gtitle\"><text class=\"gtitle\" x=\"35\" y=\"30\" text-anchor=\"start\" dy=\"0em\" style=\"font-family: 'Open Sans', verdana, arial, sans-serif; font-size: 17px; fill: rgb(42, 63, 95); opacity: 1; font-weight: normal; white-space: pre;\">Число активных операторов</text></g><g class=\"g-xtitle\"><text class=\"xtitle\" x=\"321.5\" y=\"460.8\" text-anchor=\"middle\" style=\"font-family: 'Open Sans', verdana, arial, sans-serif; font-size: 14px; fill: rgb(42, 63, 95); opacity: 1; font-weight: normal; white-space: pre;\">Дата</text></g><g class=\"g-ytitle\"><text class=\"ytitle\" transform=\"rotate(-90,31.309375000000003,240)\" x=\"31.309375000000003\" y=\"240\" text-anchor=\"middle\" style=\"font-family: 'Open Sans', verdana, arial, sans-serif; font-size: 14px; fill: rgb(42, 63, 95); opacity: 1; font-weight: normal; white-space: pre;\">Число операторов</text></g></g></svg>"
      ]
     },
     "metadata": {},
     "output_type": "display_data"
    }
   ],
   "source": [
    "fig = px.line(timetable, x=\"date\", y=[\"operator_id\"],color='day_of_week')\n",
    "fig.update_layout(title='Число активных операторов',\n",
    "                   xaxis_title='Дата',\n",
    "                   yaxis_title='Число операторов',\n",
    "                 legend_title_text='День недели')\n",
    "fig.show(\"svg\")"
   ]
  },
  {
   "cell_type": "markdown",
   "metadata": {},
   "source": [
    "Интересно увидеть, что на момент старта работы сервиса операторов было совсем мало (два - 2 августа 2019). Затем их количество постепенно увеличивалось. Однако, в выходные дни количество активных операторов стабильно меньше - сказывается то, что работа в выходные дни оплачивается в двойном размере. И особенно примечательно, что именно 4 ноября 2019 года (понедельник) наблюдается \"провал\" в числе активных операторов - это означает, что, во-первых, сервис работает по российским законам, а во-вторых, - что в праздничные дни работает примерно столько же операторов, сколько в субботу."
   ]
  },
  {
   "cell_type": "code",
   "execution_count": 38,
   "metadata": {},
   "outputs": [
    {
     "data": {
      "image/svg+xml": [
       "<svg class=\"main-svg\" xmlns=\"http://www.w3.org/2000/svg\" xmlns:xlink=\"http://www.w3.org/1999/xlink\" width=\"700\" height=\"500\" style=\"\" viewBox=\"0 0 700 500\"><rect x=\"0\" y=\"0\" width=\"700\" height=\"500\" style=\"fill: rgb(255, 255, 255); fill-opacity: 1;\"/><defs id=\"defs-b38d7f\"><g class=\"clips\"><clipPath id=\"clipb38d7fxyplot\" class=\"plotclip\"><rect width=\"483\" height=\"360\"/></clipPath><clipPath class=\"axesclip\" id=\"clipb38d7fx\"><rect x=\"80\" y=\"0\" width=\"483\" height=\"500\"/></clipPath><clipPath class=\"axesclip\" id=\"clipb38d7fy\"><rect x=\"0\" y=\"60\" width=\"700\" height=\"360\"/></clipPath><clipPath class=\"axesclip\" id=\"clipb38d7fxy\"><rect x=\"80\" y=\"60\" width=\"483\" height=\"360\"/></clipPath></g><g class=\"gradients\"/><g class=\"patterns\"/></defs><g class=\"bglayer\"><rect class=\"bg\" x=\"80\" y=\"60\" width=\"483\" height=\"360\" style=\"fill: rgb(229, 236, 246); fill-opacity: 1; stroke-width: 0;\"/></g><g class=\"layer-below\"><g class=\"imagelayer\"/><g class=\"shapelayer\"/></g><g class=\"cartesianlayer\"><g class=\"subplot xy\"><g class=\"layer-subplot\"><g class=\"shapelayer\"/><g class=\"imagelayer\"/></g><g class=\"minor-gridlayer\"><g class=\"x\"/><g class=\"y\"/></g><g class=\"gridlayer\"><g class=\"x\"><path class=\"xgrid crisp\" transform=\"translate(202.8,0)\" d=\"M0,60v360\" style=\"stroke: rgb(255, 255, 255); stroke-opacity: 1; stroke-width: 1px;\"/><path class=\"xgrid crisp\" transform=\"translate(325.59000000000003,0)\" d=\"M0,60v360\" style=\"stroke: rgb(255, 255, 255); stroke-opacity: 1; stroke-width: 1px;\"/><path class=\"xgrid crisp\" transform=\"translate(452.48,0)\" d=\"M0,60v360\" style=\"stroke: rgb(255, 255, 255); stroke-opacity: 1; stroke-width: 1px;\"/></g><g class=\"y\"><path class=\"ygrid crisp\" transform=\"translate(0,362.34)\" d=\"M80,0h483\" style=\"stroke: rgb(255, 255, 255); stroke-opacity: 1; stroke-width: 1px;\"/><path class=\"ygrid crisp\" transform=\"translate(0,322.63)\" d=\"M80,0h483\" style=\"stroke: rgb(255, 255, 255); stroke-opacity: 1; stroke-width: 1px;\"/><path class=\"ygrid crisp\" transform=\"translate(0,282.93)\" d=\"M80,0h483\" style=\"stroke: rgb(255, 255, 255); stroke-opacity: 1; stroke-width: 1px;\"/><path class=\"ygrid crisp\" transform=\"translate(0,243.23)\" d=\"M80,0h483\" style=\"stroke: rgb(255, 255, 255); stroke-opacity: 1; stroke-width: 1px;\"/><path class=\"ygrid crisp\" transform=\"translate(0,203.52)\" d=\"M80,0h483\" style=\"stroke: rgb(255, 255, 255); stroke-opacity: 1; stroke-width: 1px;\"/><path class=\"ygrid crisp\" transform=\"translate(0,163.82)\" d=\"M80,0h483\" style=\"stroke: rgb(255, 255, 255); stroke-opacity: 1; stroke-width: 1px;\"/><path class=\"ygrid crisp\" transform=\"translate(0,124.12)\" d=\"M80,0h483\" style=\"stroke: rgb(255, 255, 255); stroke-opacity: 1; stroke-width: 1px;\"/><path class=\"ygrid crisp\" transform=\"translate(0,84.41)\" d=\"M80,0h483\" style=\"stroke: rgb(255, 255, 255); stroke-opacity: 1; stroke-width: 1px;\"/></g></g><g class=\"zerolinelayer\"><path class=\"yzl zl crisp\" transform=\"translate(0,402.04)\" d=\"M80,0h483\" style=\"stroke: rgb(255, 255, 255); stroke-opacity: 1; stroke-width: 2px;\"/></g><path class=\"xlines-below\"/><path class=\"ylines-below\"/><g class=\"overlines-below\"/><g class=\"xaxislayer-below\"/><g class=\"yaxislayer-below\"/><g class=\"overaxes-below\"/><g class=\"plot\" transform=\"translate(80,60)\" clip-path=\"url(#clipb38d7fxyplot)\"><g class=\"scatterlayer mlayer\"><g class=\"trace scatter traceec93d5\" style=\"stroke-miterlimit: 2; opacity: 1;\"><g class=\"fills\"/><g class=\"errorbars\"/><g class=\"lines\"><path class=\"js-line\" d=\"M0,341.72L28.65,335.07L57.31,315.88L85.96,298.68L114.61,280.2L143.26,269.08L171.92,247.84L200.57,244.53L229.22,169.17L257.87,139.23L286.53,88L315.18,153.01L343.83,153.71L372.48,160.06L401.14,133.74L429.79,147.55L458.44,84.56\" style=\"vector-effect: non-scaling-stroke; fill: none; stroke: rgb(99, 110, 250); stroke-opacity: 1; stroke-width: 2px; opacity: 1;\"/></g><g class=\"points\"/><g class=\"text\"/></g><g class=\"trace scatter traced2dc39\" style=\"stroke-miterlimit: 2; opacity: 1;\"><g class=\"fills\"/><g class=\"errorbars\"/><g class=\"lines\"><path class=\"js-line\" d=\"M4.09,341.52L32.75,341.94L61.4,323.52L90.05,330.74L118.7,321.53L147.36,326.16L176.01,310.44L204.66,318.59L233.31,247.35L261.97,247.88L290.62,242.68L319.27,284.33L347.92,264.98L376.58,277.7L405.23,261.38L433.88,268.75L462.53,238.89\" style=\"vector-effect: non-scaling-stroke; fill: none; stroke: rgb(239, 85, 59); stroke-opacity: 1; stroke-width: 2px; opacity: 1;\"/></g><g class=\"points\"/><g class=\"text\"/></g><g class=\"trace scatter trace4762e7\" style=\"stroke-miterlimit: 2; opacity: 1;\"><g class=\"fills\"/><g class=\"errorbars\"/><g class=\"lines\"><path class=\"js-line\" d=\"M8.19,342L65.49,334.28L94.14,334.87L122.8,332.43L151.45,322.66L180.1,317.46L208.75,326.44L237.41,267.93L266.06,268.59L294.71,271.84L323.36,316.99L352.02,280.28L380.67,299.48L409.32,270.61L437.97,287.9L466.63,276.01\" style=\"vector-effect: non-scaling-stroke; fill: none; stroke: rgb(0, 204, 150); stroke-opacity: 1; stroke-width: 2px; opacity: 1;\"/></g><g class=\"points\"/><g class=\"text\"/></g><g class=\"trace scatter trace34d927\" style=\"stroke-miterlimit: 2; opacity: 1;\"><g class=\"fills\"/><g class=\"errorbars\"/><g class=\"lines\"><path class=\"js-line\" d=\"M12.28,338.55L40.93,320.8L69.58,298.03L98.24,293.11L126.89,266.21L155.54,257.11L184.19,250.9L212.85,220.69L241.5,167.05L270.15,126.75L298.81,132.33L327.46,125.28L356.11,165.04L384.76,271.13L413.42,18L442.07,116.37L470.72,76.13\" style=\"vector-effect: non-scaling-stroke; fill: none; stroke: rgb(171, 99, 250); stroke-opacity: 1; stroke-width: 2px; opacity: 1;\"/></g><g class=\"points\"/><g class=\"text\"/></g><g class=\"trace scatter trace8a57ba\" style=\"stroke-miterlimit: 2; opacity: 1;\"><g class=\"fills\"/><g class=\"errorbars\"/><g class=\"lines\"><path class=\"js-line\" d=\"M16.37,338.51L45.03,315.38L73.68,305.1L102.33,297.89L130.98,247.66L159.64,242.58L188.29,231.86L216.94,221.94L245.59,117.32L274.25,103.34L302.9,134.17L331.55,127.38L360.2,145.35L388.86,109.79L417.51,119.86L446.16,113.03L474.81,85.97\" style=\"vector-effect: non-scaling-stroke; fill: none; stroke: rgb(255, 161, 90); stroke-opacity: 1; stroke-width: 2px; opacity: 1;\"/></g><g class=\"points\"/><g class=\"text\"/></g><g class=\"trace scatter traceb31988\" style=\"stroke-miterlimit: 2; opacity: 1;\"><g class=\"fills\"/><g class=\"errorbars\"/><g class=\"lines\"><path class=\"js-line\" d=\"M20.47,338.63L77.77,299.68L106.42,284.51L135.08,263.03L163.73,250.11L192.38,237.44L221.03,160.1L249.69,137.45L278.34,107.35L306.99,160.26L335.64,165.7L364.3,184.79L392.95,126.07L421.6,133.34L450.25,98.46L478.91,93.4\" style=\"vector-effect: non-scaling-stroke; fill: none; stroke: rgb(25, 211, 243); stroke-opacity: 1; stroke-width: 2px; opacity: 1;\"/></g><g class=\"points\"/><g class=\"text\"/></g><g class=\"trace scatter traceb6a2f4\" style=\"stroke-miterlimit: 2; opacity: 1;\"><g class=\"fills\"/><g class=\"errorbars\"/><g class=\"lines\"><path class=\"js-line\" d=\"M24.56,335.21L53.21,315.62L81.86,304.22L110.52,288.02L139.17,265.85L167.82,259.36L196.47,247.45L225.13,159.05L253.78,120.04L282.43,78.33L311.08,140.56L339.74,194.5L368.39,131.49L397.04,104.1L425.69,140.47L454.35,86.05L483,103.46\" style=\"vector-effect: non-scaling-stroke; fill: none; stroke: rgb(255, 102, 146); stroke-opacity: 1; stroke-width: 2px; opacity: 1;\"/></g><g class=\"points\"/><g class=\"text\"/></g></g></g><g class=\"overplot\"/><path class=\"xlines-above crisp\" d=\"M0,0\" style=\"fill: none;\"/><path class=\"ylines-above crisp\" d=\"M0,0\" style=\"fill: none;\"/><g class=\"overlines-above\"/><g class=\"xaxislayer-above\"><g class=\"xtick\"><text text-anchor=\"middle\" x=\"0\" y=\"433\" transform=\"translate(202.8,0)\" style=\"font-family: 'Open Sans', verdana, arial, sans-serif; font-size: 12px; fill: rgb(42, 63, 95); fill-opacity: 1; white-space: pre; opacity: 1;\">Sep 2019</text></g><g class=\"xtick\"><text text-anchor=\"middle\" x=\"0\" y=\"433\" style=\"font-family: 'Open Sans', verdana, arial, sans-serif; font-size: 12px; fill: rgb(42, 63, 95); fill-opacity: 1; white-space: pre; opacity: 1;\" transform=\"translate(325.59000000000003,0)\">Oct 2019</text></g><g class=\"xtick\"><text text-anchor=\"middle\" x=\"0\" y=\"433\" style=\"font-family: 'Open Sans', verdana, arial, sans-serif; font-size: 12px; fill: rgb(42, 63, 95); fill-opacity: 1; white-space: pre; opacity: 1;\" transform=\"translate(452.48,0)\">Nov 2019</text></g></g><g class=\"yaxislayer-above\"><g class=\"ytick\"><text text-anchor=\"end\" x=\"79\" y=\"4.199999999999999\" transform=\"translate(0,402.04)\" style=\"font-family: 'Open Sans', verdana, arial, sans-serif; font-size: 12px; fill: rgb(42, 63, 95); fill-opacity: 1; white-space: pre; opacity: 1;\">0</text></g><g class=\"ytick\"><text text-anchor=\"end\" x=\"79\" y=\"4.199999999999999\" style=\"font-family: 'Open Sans', verdana, arial, sans-serif; font-size: 12px; fill: rgb(42, 63, 95); fill-opacity: 1; white-space: pre; opacity: 1;\" transform=\"translate(0,362.34)\">2k</text></g><g class=\"ytick\"><text text-anchor=\"end\" x=\"79\" y=\"4.199999999999999\" style=\"font-family: 'Open Sans', verdana, arial, sans-serif; font-size: 12px; fill: rgb(42, 63, 95); fill-opacity: 1; white-space: pre; opacity: 1;\" transform=\"translate(0,322.63)\">4k</text></g><g class=\"ytick\"><text text-anchor=\"end\" x=\"79\" y=\"4.199999999999999\" style=\"font-family: 'Open Sans', verdana, arial, sans-serif; font-size: 12px; fill: rgb(42, 63, 95); fill-opacity: 1; white-space: pre; opacity: 1;\" transform=\"translate(0,282.93)\">6k</text></g><g class=\"ytick\"><text text-anchor=\"end\" x=\"79\" y=\"4.199999999999999\" style=\"font-family: 'Open Sans', verdana, arial, sans-serif; font-size: 12px; fill: rgb(42, 63, 95); fill-opacity: 1; white-space: pre; opacity: 1;\" transform=\"translate(0,243.23)\">8k</text></g><g class=\"ytick\"><text text-anchor=\"end\" x=\"79\" y=\"4.199999999999999\" style=\"font-family: 'Open Sans', verdana, arial, sans-serif; font-size: 12px; fill: rgb(42, 63, 95); fill-opacity: 1; white-space: pre; opacity: 1;\" transform=\"translate(0,203.52)\">10k</text></g><g class=\"ytick\"><text text-anchor=\"end\" x=\"79\" y=\"4.199999999999999\" style=\"font-family: 'Open Sans', verdana, arial, sans-serif; font-size: 12px; fill: rgb(42, 63, 95); fill-opacity: 1; white-space: pre; opacity: 1;\" transform=\"translate(0,163.82)\">12k</text></g><g class=\"ytick\"><text text-anchor=\"end\" x=\"79\" y=\"4.199999999999999\" style=\"font-family: 'Open Sans', verdana, arial, sans-serif; font-size: 12px; fill: rgb(42, 63, 95); fill-opacity: 1; white-space: pre; opacity: 1;\" transform=\"translate(0,124.12)\">14k</text></g><g class=\"ytick\"><text text-anchor=\"end\" x=\"79\" y=\"4.199999999999999\" style=\"font-family: 'Open Sans', verdana, arial, sans-serif; font-size: 12px; fill: rgb(42, 63, 95); fill-opacity: 1; white-space: pre; opacity: 1;\" transform=\"translate(0,84.41)\">16k</text></g></g><g class=\"overaxes-above\"/></g></g><g class=\"polarlayer\"/><g class=\"smithlayer\"/><g class=\"ternarylayer\"/><g class=\"geolayer\"/><g class=\"funnelarealayer\"/><g class=\"pielayer\"/><g class=\"iciclelayer\"/><g class=\"treemaplayer\"/><g class=\"sunburstlayer\"/><g class=\"glimages\"/><defs id=\"topdefs-b38d7f\"><g class=\"clips\"/><clipPath id=\"legendb38d7f\"><rect width=\"115\" height=\"162\" x=\"0\" y=\"0\"/></clipPath></defs><g class=\"layer-above\"><g class=\"imagelayer\"/><g class=\"shapelayer\"/></g><g class=\"infolayer\"><g class=\"legend\" pointer-events=\"all\" transform=\"translate(572.6600000000001,60)\"><rect class=\"bg\" shape-rendering=\"crispEdges\" width=\"115\" height=\"162\" x=\"0\" y=\"0\" style=\"stroke: rgb(68, 68, 68); stroke-opacity: 1; fill: rgb(255, 255, 255); fill-opacity: 1; stroke-width: 0px;\"/><g class=\"scrollbox\" transform=\"\" clip-path=\"url(#legendb38d7f)\"><text class=\"legendtitletext\" text-anchor=\"start\" x=\"2\" y=\"18.2\" style=\"font-family: 'Open Sans', verdana, arial, sans-serif; font-size: 14px; fill: rgb(42, 63, 95); fill-opacity: 1; white-space: pre;\">День недели</text><g class=\"groups\" transform=\"\"><g class=\"traces\" transform=\"translate(0,32.7)\" style=\"opacity: 1;\"><text class=\"legendtext\" text-anchor=\"start\" x=\"40\" y=\"4.680000000000001\" style=\"font-family: 'Open Sans', verdana, arial, sans-serif; font-size: 12px; fill: rgb(42, 63, 95); fill-opacity: 1; white-space: pre;\">Friday</text><g class=\"layers\" style=\"opacity: 1;\"><g class=\"legendfill\"/><g class=\"legendlines\"><path class=\"js-line\" d=\"M5,0h30\" style=\"fill: none; stroke: rgb(99, 110, 250); stroke-opacity: 1; stroke-width: 2px;\"/></g><g class=\"legendsymbols\"><g class=\"legendpoints\"/></g></g><rect class=\"legendtoggle\" x=\"0\" y=\"-9.5\" width=\"109.5\" height=\"19\" style=\"fill: rgb(0, 0, 0); fill-opacity: 0;\"/></g></g><g class=\"groups\" transform=\"\"><g class=\"traces\" transform=\"translate(0,51.7)\" style=\"opacity: 1;\"><text class=\"legendtext\" text-anchor=\"start\" x=\"40\" y=\"4.680000000000001\" style=\"font-family: 'Open Sans', verdana, arial, sans-serif; font-size: 12px; fill: rgb(42, 63, 95); fill-opacity: 1; white-space: pre;\">Saturday</text><g class=\"layers\" style=\"opacity: 1;\"><g class=\"legendfill\"/><g class=\"legendlines\"><path class=\"js-line\" d=\"M5,0h30\" style=\"fill: none; stroke: rgb(239, 85, 59); stroke-opacity: 1; stroke-width: 2px;\"/></g><g class=\"legendsymbols\"><g class=\"legendpoints\"/></g></g><rect class=\"legendtoggle\" x=\"0\" y=\"-9.5\" width=\"109.5\" height=\"19\" style=\"fill: rgb(0, 0, 0); fill-opacity: 0;\"/></g></g><g class=\"groups\" transform=\"\"><g class=\"traces\" transform=\"translate(0,70.7)\" style=\"opacity: 1;\"><text class=\"legendtext\" text-anchor=\"start\" x=\"40\" y=\"4.680000000000001\" style=\"font-family: 'Open Sans', verdana, arial, sans-serif; font-size: 12px; fill: rgb(42, 63, 95); fill-opacity: 1; white-space: pre;\">Sunday</text><g class=\"layers\" style=\"opacity: 1;\"><g class=\"legendfill\"/><g class=\"legendlines\"><path class=\"js-line\" d=\"M5,0h30\" style=\"fill: none; stroke: rgb(0, 204, 150); stroke-opacity: 1; stroke-width: 2px;\"/></g><g class=\"legendsymbols\"><g class=\"legendpoints\"/></g></g><rect class=\"legendtoggle\" x=\"0\" y=\"-9.5\" width=\"109.5\" height=\"19\" style=\"fill: rgb(0, 0, 0); fill-opacity: 0;\"/></g></g><g class=\"groups\" transform=\"\"><g class=\"traces\" transform=\"translate(0,89.7)\" style=\"opacity: 1;\"><text class=\"legendtext\" text-anchor=\"start\" x=\"40\" y=\"4.680000000000001\" style=\"font-family: 'Open Sans', verdana, arial, sans-serif; font-size: 12px; fill: rgb(42, 63, 95); fill-opacity: 1; white-space: pre;\">Monday</text><g class=\"layers\" style=\"opacity: 1;\"><g class=\"legendfill\"/><g class=\"legendlines\"><path class=\"js-line\" d=\"M5,0h30\" style=\"fill: none; stroke: rgb(171, 99, 250); stroke-opacity: 1; stroke-width: 2px;\"/></g><g class=\"legendsymbols\"><g class=\"legendpoints\"/></g></g><rect class=\"legendtoggle\" x=\"0\" y=\"-9.5\" width=\"109.5\" height=\"19\" style=\"fill: rgb(0, 0, 0); fill-opacity: 0;\"/></g></g><g class=\"groups\" transform=\"\"><g class=\"traces\" transform=\"translate(0,108.7)\" style=\"opacity: 1;\"><text class=\"legendtext\" text-anchor=\"start\" x=\"40\" y=\"4.680000000000001\" style=\"font-family: 'Open Sans', verdana, arial, sans-serif; font-size: 12px; fill: rgb(42, 63, 95); fill-opacity: 1; white-space: pre;\">Tuesday</text><g class=\"layers\" style=\"opacity: 1;\"><g class=\"legendfill\"/><g class=\"legendlines\"><path class=\"js-line\" d=\"M5,0h30\" style=\"fill: none; stroke: rgb(255, 161, 90); stroke-opacity: 1; stroke-width: 2px;\"/></g><g class=\"legendsymbols\"><g class=\"legendpoints\"/></g></g><rect class=\"legendtoggle\" x=\"0\" y=\"-9.5\" width=\"109.5\" height=\"19\" style=\"fill: rgb(0, 0, 0); fill-opacity: 0;\"/></g></g><g class=\"groups\" transform=\"\"><g class=\"traces\" transform=\"translate(0,127.7)\" style=\"opacity: 1;\"><text class=\"legendtext\" text-anchor=\"start\" x=\"40\" y=\"4.680000000000001\" style=\"font-family: 'Open Sans', verdana, arial, sans-serif; font-size: 12px; fill: rgb(42, 63, 95); fill-opacity: 1; white-space: pre;\">Wednesday</text><g class=\"layers\" style=\"opacity: 1;\"><g class=\"legendfill\"/><g class=\"legendlines\"><path class=\"js-line\" d=\"M5,0h30\" style=\"fill: none; stroke: rgb(25, 211, 243); stroke-opacity: 1; stroke-width: 2px;\"/></g><g class=\"legendsymbols\"><g class=\"legendpoints\"/></g></g><rect class=\"legendtoggle\" x=\"0\" y=\"-9.5\" width=\"109.5\" height=\"19\" style=\"fill: rgb(0, 0, 0); fill-opacity: 0;\"/></g></g><g class=\"groups\" transform=\"\"><g class=\"traces\" transform=\"translate(0,146.7)\" style=\"opacity: 1;\"><text class=\"legendtext\" text-anchor=\"start\" x=\"40\" y=\"4.680000000000001\" style=\"font-family: 'Open Sans', verdana, arial, sans-serif; font-size: 12px; fill: rgb(42, 63, 95); fill-opacity: 1; white-space: pre;\">Thursday</text><g class=\"layers\" style=\"opacity: 1;\"><g class=\"legendfill\"/><g class=\"legendlines\"><path class=\"js-line\" d=\"M5,0h30\" style=\"fill: none; stroke: rgb(255, 102, 146); stroke-opacity: 1; stroke-width: 2px;\"/></g><g class=\"legendsymbols\"><g class=\"legendpoints\"/></g></g><rect class=\"legendtoggle\" x=\"0\" y=\"-9.5\" width=\"109.5\" height=\"19\" style=\"fill: rgb(0, 0, 0); fill-opacity: 0;\"/></g></g></g><rect class=\"scrollbar\" rx=\"20\" ry=\"3\" width=\"0\" height=\"0\" x=\"0\" y=\"0\" style=\"fill: rgb(128, 139, 164); fill-opacity: 1;\"/></g><g class=\"g-gtitle\"><text class=\"gtitle\" x=\"35\" y=\"30\" text-anchor=\"start\" dy=\"0em\" style=\"font-family: 'Open Sans', verdana, arial, sans-serif; font-size: 17px; fill: rgb(42, 63, 95); opacity: 1; font-weight: normal; white-space: pre;\">Число звонков по дням</text></g><g class=\"g-xtitle\"><text class=\"xtitle\" x=\"321.5\" y=\"460.8\" text-anchor=\"middle\" style=\"font-family: 'Open Sans', verdana, arial, sans-serif; font-size: 14px; fill: rgb(42, 63, 95); opacity: 1; font-weight: normal; white-space: pre;\">Дата</text></g><g class=\"g-ytitle\"><text class=\"ytitle\" transform=\"rotate(-90,31.840625000000003,240)\" x=\"31.840625000000003\" y=\"240\" text-anchor=\"middle\" style=\"font-family: 'Open Sans', verdana, arial, sans-serif; font-size: 14px; fill: rgb(42, 63, 95); opacity: 1; font-weight: normal; white-space: pre;\">Число звонков</text></g></g></svg>"
      ]
     },
     "metadata": {},
     "output_type": "display_data"
    }
   ],
   "source": [
    "fig = px.line(timetable, x=\"date\", y=[\"calls_count\"],color='day_of_week')\n",
    "fig.update_layout(title='Число звонков по дням',\n",
    "                   xaxis_title='Дата',\n",
    "                   yaxis_title='Число звонков',\n",
    "                 legend_title_text='День недели')\n",
    "fig.show(\"svg\")"
   ]
  },
  {
   "cell_type": "markdown",
   "metadata": {},
   "source": [
    "С числом звонков также наблюдается заметно более низкое их количество в выходные и праздничные дни, как и с числом активных операторов. При этом, после 15 сентября начинается резкий рост их числа, и максимума их число достигает в районе 9-11 октября. Причина этого может быть любая, от самых простых (происшествия, запуск рекламных акций, рост заказов/возвратов), до максимально неочевидных (10 число каждого месяца - как правило, зарплатный день, и люди могут получать звонки от банков настоящих и от \"служб безопасности банка\" с определенными целями). Также, второй пик наблюдается 11 ноября - а этом может быть связано с резко выросшим числом заказов, которые колл-центр подтверждает, поскольку 11.11 обычно устраивается распродажа \"черная пятница/понедельник\"."
   ]
  },
  {
   "cell_type": "code",
   "execution_count": 39,
   "metadata": {},
   "outputs": [
    {
     "data": {
      "image/svg+xml": [
       "<svg class=\"main-svg\" xmlns=\"http://www.w3.org/2000/svg\" xmlns:xlink=\"http://www.w3.org/1999/xlink\" width=\"700\" height=\"500\" style=\"\" viewBox=\"0 0 700 500\"><rect x=\"0\" y=\"0\" width=\"700\" height=\"500\" style=\"fill: rgb(255, 255, 255); fill-opacity: 1;\"/><defs id=\"defs-ed176b\"><g class=\"clips\"><clipPath id=\"cliped176bxyplot\" class=\"plotclip\"><rect width=\"483\" height=\"360\"/></clipPath><clipPath class=\"axesclip\" id=\"cliped176bx\"><rect x=\"80\" y=\"0\" width=\"483\" height=\"500\"/></clipPath><clipPath class=\"axesclip\" id=\"cliped176by\"><rect x=\"0\" y=\"60\" width=\"700\" height=\"360\"/></clipPath><clipPath class=\"axesclip\" id=\"cliped176bxy\"><rect x=\"80\" y=\"60\" width=\"483\" height=\"360\"/></clipPath></g><g class=\"gradients\"/><g class=\"patterns\"/></defs><g class=\"bglayer\"><rect class=\"bg\" x=\"80\" y=\"60\" width=\"483\" height=\"360\" style=\"fill: rgb(229, 236, 246); fill-opacity: 1; stroke-width: 0;\"/></g><g class=\"layer-below\"><g class=\"imagelayer\"/><g class=\"shapelayer\"/></g><g class=\"cartesianlayer\"><g class=\"subplot xy\"><g class=\"layer-subplot\"><g class=\"shapelayer\"/><g class=\"imagelayer\"/></g><g class=\"minor-gridlayer\"><g class=\"x\"/><g class=\"y\"/></g><g class=\"gridlayer\"><g class=\"x\"><path class=\"xgrid crisp\" transform=\"translate(202.8,0)\" d=\"M0,60v360\" style=\"stroke: rgb(255, 255, 255); stroke-opacity: 1; stroke-width: 1px;\"/><path class=\"xgrid crisp\" transform=\"translate(325.59000000000003,0)\" d=\"M0,60v360\" style=\"stroke: rgb(255, 255, 255); stroke-opacity: 1; stroke-width: 1px;\"/><path class=\"xgrid crisp\" transform=\"translate(452.48,0)\" d=\"M0,60v360\" style=\"stroke: rgb(255, 255, 255); stroke-opacity: 1; stroke-width: 1px;\"/></g><g class=\"y\"><path class=\"ygrid crisp\" transform=\"translate(0,343.57)\" d=\"M80,0h483\" style=\"stroke: rgb(255, 255, 255); stroke-opacity: 1; stroke-width: 1px;\"/><path class=\"ygrid crisp\" transform=\"translate(0,279.81)\" d=\"M80,0h483\" style=\"stroke: rgb(255, 255, 255); stroke-opacity: 1; stroke-width: 1px;\"/><path class=\"ygrid crisp\" transform=\"translate(0,216.06)\" d=\"M80,0h483\" style=\"stroke: rgb(255, 255, 255); stroke-opacity: 1; stroke-width: 1px;\"/><path class=\"ygrid crisp\" transform=\"translate(0,152.31)\" d=\"M80,0h483\" style=\"stroke: rgb(255, 255, 255); stroke-opacity: 1; stroke-width: 1px;\"/><path class=\"ygrid crisp\" transform=\"translate(0,88.55)\" d=\"M80,0h483\" style=\"stroke: rgb(255, 255, 255); stroke-opacity: 1; stroke-width: 1px;\"/></g></g><g class=\"zerolinelayer\"><path class=\"yzl zl crisp\" transform=\"translate(0,407.32)\" d=\"M80,0h483\" style=\"stroke: rgb(255, 255, 255); stroke-opacity: 1; stroke-width: 2px;\"/></g><path class=\"xlines-below\"/><path class=\"ylines-below\"/><g class=\"overlines-below\"/><g class=\"xaxislayer-below\"/><g class=\"yaxislayer-below\"/><g class=\"overaxes-below\"/><g class=\"plot\" transform=\"translate(80,60)\" clip-path=\"url(#cliped176bxyplot)\"><g class=\"scatterlayer mlayer\"><g class=\"trace scatter trace840a2b\" style=\"stroke-miterlimit: 2; opacity: 1;\"><g class=\"fills\"/><g class=\"errorbars\"/><g class=\"lines\"><path class=\"js-line\" d=\"M0,321.82L28.65,245.6L57.31,84.72L85.96,189.09L114.61,223.19L143.26,231.32L171.92,221.28L200.57,235.47L229.22,198.87L257.87,196.54L286.53,176.65L315.18,236.93L343.83,247.52L372.48,254.85L401.14,253.09L429.79,261.77L458.44,242.13\" style=\"vector-effect: non-scaling-stroke; fill: none; stroke: rgb(99, 110, 250); stroke-opacity: 1; stroke-width: 2px; opacity: 1;\"/></g><g class=\"points\"/><g class=\"text\"/></g><g class=\"trace scatter trace2d41a9\" style=\"stroke-miterlimit: 2; opacity: 1;\"><g class=\"fills\"/><g class=\"errorbars\"/><g class=\"lines\"><path class=\"js-line\" d=\"M4.09,305.88L32.75,342L61.4,118.54L90.05,182.42L118.7,182.68L147.36,252.87L176.01,210.16L204.66,270.5L233.31,141.84L261.97,183L290.62,189.37L319.27,248.73L347.92,227.18L376.58,259.02L405.23,252.07L433.88,260.14L462.53,241.81\" style=\"vector-effect: non-scaling-stroke; fill: none; stroke: rgb(239, 85, 59); stroke-opacity: 1; stroke-width: 2px; opacity: 1;\"/></g><g class=\"points\"/><g class=\"text\"/></g><g class=\"trace scatter traceb5f549\" style=\"stroke-miterlimit: 2; opacity: 1;\"><g class=\"fills\"/><g class=\"errorbars\"/><g class=\"lines\"><path class=\"js-line\" d=\"M8.19,340.95L65.49,139.58L94.14,232.25L122.8,270.18L151.45,212.07L180.1,211.24L208.75,271.39L237.41,158.45L266.06,153.96L294.71,197.02L323.36,289.85L352.02,238.34L380.67,266.93L409.32,229.09L437.97,270.4L466.63,254.31\" style=\"vector-effect: non-scaling-stroke; fill: none; stroke: rgb(0, 204, 150); stroke-opacity: 1; stroke-width: 2px; opacity: 1;\"/></g><g class=\"points\"/><g class=\"text\"/></g><g class=\"trace scatter tracebc2b18\" style=\"stroke-miterlimit: 2; opacity: 1;\"><g class=\"fills\"/><g class=\"errorbars\"/><g class=\"lines\"><path class=\"js-line\" d=\"M12.28,207.06L40.93,63.07L69.58,26.1L98.24,201.8L126.89,189.18L155.54,222.21L184.19,229.31L212.85,223.19L241.5,206.11L270.15,183.47L298.81,207L327.46,226.89L356.11,254.75L384.76,244.74L413.42,203.97L442.07,256.06L470.72,239.77\" style=\"vector-effect: non-scaling-stroke; fill: none; stroke: rgb(171, 99, 250); stroke-opacity: 1; stroke-width: 2px; opacity: 1;\"/></g><g class=\"points\"/><g class=\"text\"/></g><g class=\"trace scatter trace76c324\" style=\"stroke-miterlimit: 2; opacity: 1;\"><g class=\"fills\"/><g class=\"errorbars\"/><g class=\"lines\"><path class=\"js-line\" d=\"M16.37,266.26L45.03,18L73.68,182.55L102.33,220.74L130.98,184.37L159.64,218.54L188.29,209.1L216.94,221.28L245.59,161.32L274.25,181.4L302.9,213.82L331.55,231.26L360.2,243.44L388.86,243.44L417.51,253.45L446.16,253.51L474.81,240.53\" style=\"vector-effect: non-scaling-stroke; fill: none; stroke: rgb(255, 161, 90); stroke-opacity: 1; stroke-width: 2px; opacity: 1;\"/></g><g class=\"points\"/><g class=\"text\"/></g><g class=\"trace scatter trace7d10d2\" style=\"stroke-miterlimit: 2; opacity: 1;\"><g class=\"fills\"/><g class=\"errorbars\"/><g class=\"lines\"><path class=\"js-line\" d=\"M20.47,286.41L49.12,121L77.77,147.26L106.42,182.36L135.08,219.18L192.38,233.84L221.03,190.26L249.69,183.89L278.34,182.04L306.99,231.48L335.64,250.67L364.3,259.02L392.95,245.92L421.6,254.5L450.25,247.8L478.91,250.89\" style=\"vector-effect: non-scaling-stroke; fill: none; stroke: rgb(25, 211, 243); stroke-opacity: 1; stroke-width: 2px; opacity: 1;\"/></g><g class=\"points\"/><g class=\"text\"/></g><g class=\"trace scatter trace587527\" style=\"stroke-miterlimit: 2; opacity: 1;\"><g class=\"fills\"/><g class=\"errorbars\"/><g class=\"lines\"><path class=\"js-line\" d=\"M24.56,225.49L53.21,82.14L81.86,191.6L110.52,215.89L139.17,230.81L167.82,244.39L196.47,236.45L225.13,185.87L253.78,173.43L282.43,179.94L311.08,228.39L339.74,266.74L368.39,238.27L397.04,239.39L425.69,254.85L454.35,239.99L483,250.83\" style=\"vector-effect: non-scaling-stroke; fill: none; stroke: rgb(255, 102, 146); stroke-opacity: 1; stroke-width: 2px; opacity: 1;\"/></g><g class=\"points\"/><g class=\"text\"/></g></g></g><g class=\"overplot\"/><path class=\"xlines-above crisp\" d=\"M0,0\" style=\"fill: none;\"/><path class=\"ylines-above crisp\" d=\"M0,0\" style=\"fill: none;\"/><g class=\"overlines-above\"/><g class=\"xaxislayer-above\"><g class=\"xtick\"><text text-anchor=\"middle\" x=\"0\" y=\"433\" transform=\"translate(202.8,0)\" style=\"font-family: 'Open Sans', verdana, arial, sans-serif; font-size: 12px; fill: rgb(42, 63, 95); fill-opacity: 1; white-space: pre; opacity: 1;\">Sep 2019</text></g><g class=\"xtick\"><text text-anchor=\"middle\" x=\"0\" y=\"433\" style=\"font-family: 'Open Sans', verdana, arial, sans-serif; font-size: 12px; fill: rgb(42, 63, 95); fill-opacity: 1; white-space: pre; opacity: 1;\" transform=\"translate(325.59000000000003,0)\">Oct 2019</text></g><g class=\"xtick\"><text text-anchor=\"middle\" x=\"0\" y=\"433\" style=\"font-family: 'Open Sans', verdana, arial, sans-serif; font-size: 12px; fill: rgb(42, 63, 95); fill-opacity: 1; white-space: pre; opacity: 1;\" transform=\"translate(452.48,0)\">Nov 2019</text></g></g><g class=\"yaxislayer-above\"><g class=\"ytick\"><text text-anchor=\"end\" x=\"79\" y=\"4.199999999999999\" transform=\"translate(0,407.32)\" style=\"font-family: 'Open Sans', verdana, arial, sans-serif; font-size: 12px; fill: rgb(42, 63, 95); fill-opacity: 1; white-space: pre; opacity: 1;\">0</text></g><g class=\"ytick\"><text text-anchor=\"end\" x=\"79\" y=\"4.199999999999999\" style=\"font-family: 'Open Sans', verdana, arial, sans-serif; font-size: 12px; fill: rgb(42, 63, 95); fill-opacity: 1; white-space: pre; opacity: 1;\" transform=\"translate(0,343.57)\">20</text></g><g class=\"ytick\"><text text-anchor=\"end\" x=\"79\" y=\"4.199999999999999\" style=\"font-family: 'Open Sans', verdana, arial, sans-serif; font-size: 12px; fill: rgb(42, 63, 95); fill-opacity: 1; white-space: pre; opacity: 1;\" transform=\"translate(0,279.81)\">40</text></g><g class=\"ytick\"><text text-anchor=\"end\" x=\"79\" y=\"4.199999999999999\" style=\"font-family: 'Open Sans', verdana, arial, sans-serif; font-size: 12px; fill: rgb(42, 63, 95); fill-opacity: 1; white-space: pre; opacity: 1;\" transform=\"translate(0,216.06)\">60</text></g><g class=\"ytick\"><text text-anchor=\"end\" x=\"79\" y=\"4.199999999999999\" style=\"font-family: 'Open Sans', verdana, arial, sans-serif; font-size: 12px; fill: rgb(42, 63, 95); fill-opacity: 1; white-space: pre; opacity: 1;\" transform=\"translate(0,152.31)\">80</text></g><g class=\"ytick\"><text text-anchor=\"end\" x=\"79\" y=\"4.199999999999999\" style=\"font-family: 'Open Sans', verdana, arial, sans-serif; font-size: 12px; fill: rgb(42, 63, 95); fill-opacity: 1; white-space: pre; opacity: 1;\" transform=\"translate(0,88.55)\">100</text></g></g><g class=\"overaxes-above\"/></g></g><g class=\"polarlayer\"/><g class=\"smithlayer\"/><g class=\"ternarylayer\"/><g class=\"geolayer\"/><g class=\"funnelarealayer\"/><g class=\"pielayer\"/><g class=\"iciclelayer\"/><g class=\"treemaplayer\"/><g class=\"sunburstlayer\"/><g class=\"glimages\"/><defs id=\"topdefs-ed176b\"><g class=\"clips\"/><clipPath id=\"legended176b\"><rect width=\"115\" height=\"162\" x=\"0\" y=\"0\"/></clipPath></defs><g class=\"layer-above\"><g class=\"imagelayer\"/><g class=\"shapelayer\"/></g><g class=\"infolayer\"><g class=\"legend\" pointer-events=\"all\" transform=\"translate(572.6600000000001,60)\"><rect class=\"bg\" shape-rendering=\"crispEdges\" width=\"115\" height=\"162\" x=\"0\" y=\"0\" style=\"stroke: rgb(68, 68, 68); stroke-opacity: 1; fill: rgb(255, 255, 255); fill-opacity: 1; stroke-width: 0px;\"/><g class=\"scrollbox\" transform=\"\" clip-path=\"url(#legended176b)\"><text class=\"legendtitletext\" text-anchor=\"start\" x=\"2\" y=\"18.2\" style=\"font-family: 'Open Sans', verdana, arial, sans-serif; font-size: 14px; fill: rgb(42, 63, 95); fill-opacity: 1; white-space: pre;\">День недели</text><g class=\"groups\" transform=\"\"><g class=\"traces\" transform=\"translate(0,32.7)\" style=\"opacity: 1;\"><text class=\"legendtext\" text-anchor=\"start\" x=\"40\" y=\"4.680000000000001\" style=\"font-family: 'Open Sans', verdana, arial, sans-serif; font-size: 12px; fill: rgb(42, 63, 95); fill-opacity: 1; white-space: pre;\">Friday</text><g class=\"layers\" style=\"opacity: 1;\"><g class=\"legendfill\"/><g class=\"legendlines\"><path class=\"js-line\" d=\"M5,0h30\" style=\"fill: none; stroke: rgb(99, 110, 250); stroke-opacity: 1; stroke-width: 2px;\"/></g><g class=\"legendsymbols\"><g class=\"legendpoints\"/></g></g><rect class=\"legendtoggle\" x=\"0\" y=\"-9.5\" width=\"109.5\" height=\"19\" style=\"fill: rgb(0, 0, 0); fill-opacity: 0;\"/></g></g><g class=\"groups\" transform=\"\"><g class=\"traces\" transform=\"translate(0,51.7)\" style=\"opacity: 1;\"><text class=\"legendtext\" text-anchor=\"start\" x=\"40\" y=\"4.680000000000001\" style=\"font-family: 'Open Sans', verdana, arial, sans-serif; font-size: 12px; fill: rgb(42, 63, 95); fill-opacity: 1; white-space: pre;\">Saturday</text><g class=\"layers\" style=\"opacity: 1;\"><g class=\"legendfill\"/><g class=\"legendlines\"><path class=\"js-line\" d=\"M5,0h30\" style=\"fill: none; stroke: rgb(239, 85, 59); stroke-opacity: 1; stroke-width: 2px;\"/></g><g class=\"legendsymbols\"><g class=\"legendpoints\"/></g></g><rect class=\"legendtoggle\" x=\"0\" y=\"-9.5\" width=\"109.5\" height=\"19\" style=\"fill: rgb(0, 0, 0); fill-opacity: 0;\"/></g></g><g class=\"groups\" transform=\"\"><g class=\"traces\" transform=\"translate(0,70.7)\" style=\"opacity: 1;\"><text class=\"legendtext\" text-anchor=\"start\" x=\"40\" y=\"4.680000000000001\" style=\"font-family: 'Open Sans', verdana, arial, sans-serif; font-size: 12px; fill: rgb(42, 63, 95); fill-opacity: 1; white-space: pre;\">Sunday</text><g class=\"layers\" style=\"opacity: 1;\"><g class=\"legendfill\"/><g class=\"legendlines\"><path class=\"js-line\" d=\"M5,0h30\" style=\"fill: none; stroke: rgb(0, 204, 150); stroke-opacity: 1; stroke-width: 2px;\"/></g><g class=\"legendsymbols\"><g class=\"legendpoints\"/></g></g><rect class=\"legendtoggle\" x=\"0\" y=\"-9.5\" width=\"109.5\" height=\"19\" style=\"fill: rgb(0, 0, 0); fill-opacity: 0;\"/></g></g><g class=\"groups\" transform=\"\"><g class=\"traces\" transform=\"translate(0,89.7)\" style=\"opacity: 1;\"><text class=\"legendtext\" text-anchor=\"start\" x=\"40\" y=\"4.680000000000001\" style=\"font-family: 'Open Sans', verdana, arial, sans-serif; font-size: 12px; fill: rgb(42, 63, 95); fill-opacity: 1; white-space: pre;\">Monday</text><g class=\"layers\" style=\"opacity: 1;\"><g class=\"legendfill\"/><g class=\"legendlines\"><path class=\"js-line\" d=\"M5,0h30\" style=\"fill: none; stroke: rgb(171, 99, 250); stroke-opacity: 1; stroke-width: 2px;\"/></g><g class=\"legendsymbols\"><g class=\"legendpoints\"/></g></g><rect class=\"legendtoggle\" x=\"0\" y=\"-9.5\" width=\"109.5\" height=\"19\" style=\"fill: rgb(0, 0, 0); fill-opacity: 0;\"/></g></g><g class=\"groups\" transform=\"\"><g class=\"traces\" transform=\"translate(0,108.7)\" style=\"opacity: 1;\"><text class=\"legendtext\" text-anchor=\"start\" x=\"40\" y=\"4.680000000000001\" style=\"font-family: 'Open Sans', verdana, arial, sans-serif; font-size: 12px; fill: rgb(42, 63, 95); fill-opacity: 1; white-space: pre;\">Tuesday</text><g class=\"layers\" style=\"opacity: 1;\"><g class=\"legendfill\"/><g class=\"legendlines\"><path class=\"js-line\" d=\"M5,0h30\" style=\"fill: none; stroke: rgb(255, 161, 90); stroke-opacity: 1; stroke-width: 2px;\"/></g><g class=\"legendsymbols\"><g class=\"legendpoints\"/></g></g><rect class=\"legendtoggle\" x=\"0\" y=\"-9.5\" width=\"109.5\" height=\"19\" style=\"fill: rgb(0, 0, 0); fill-opacity: 0;\"/></g></g><g class=\"groups\" transform=\"\"><g class=\"traces\" transform=\"translate(0,127.7)\" style=\"opacity: 1;\"><text class=\"legendtext\" text-anchor=\"start\" x=\"40\" y=\"4.680000000000001\" style=\"font-family: 'Open Sans', verdana, arial, sans-serif; font-size: 12px; fill: rgb(42, 63, 95); fill-opacity: 1; white-space: pre;\">Wednesday</text><g class=\"layers\" style=\"opacity: 1;\"><g class=\"legendfill\"/><g class=\"legendlines\"><path class=\"js-line\" d=\"M5,0h30\" style=\"fill: none; stroke: rgb(25, 211, 243); stroke-opacity: 1; stroke-width: 2px;\"/></g><g class=\"legendsymbols\"><g class=\"legendpoints\"/></g></g><rect class=\"legendtoggle\" x=\"0\" y=\"-9.5\" width=\"109.5\" height=\"19\" style=\"fill: rgb(0, 0, 0); fill-opacity: 0;\"/></g></g><g class=\"groups\" transform=\"\"><g class=\"traces\" transform=\"translate(0,146.7)\" style=\"opacity: 1;\"><text class=\"legendtext\" text-anchor=\"start\" x=\"40\" y=\"4.680000000000001\" style=\"font-family: 'Open Sans', verdana, arial, sans-serif; font-size: 12px; fill: rgb(42, 63, 95); fill-opacity: 1; white-space: pre;\">Thursday</text><g class=\"layers\" style=\"opacity: 1;\"><g class=\"legendfill\"/><g class=\"legendlines\"><path class=\"js-line\" d=\"M5,0h30\" style=\"fill: none; stroke: rgb(255, 102, 146); stroke-opacity: 1; stroke-width: 2px;\"/></g><g class=\"legendsymbols\"><g class=\"legendpoints\"/></g></g><rect class=\"legendtoggle\" x=\"0\" y=\"-9.5\" width=\"109.5\" height=\"19\" style=\"fill: rgb(0, 0, 0); fill-opacity: 0;\"/></g></g></g><rect class=\"scrollbar\" rx=\"20\" ry=\"3\" width=\"0\" height=\"0\" x=\"0\" y=\"0\" style=\"fill: rgb(128, 139, 164); fill-opacity: 1;\"/></g><g class=\"g-gtitle\"><text class=\"gtitle\" x=\"35\" y=\"30\" text-anchor=\"start\" dy=\"0em\" style=\"font-family: 'Open Sans', verdana, arial, sans-serif; font-size: 17px; fill: rgb(42, 63, 95); opacity: 1; font-weight: normal; white-space: pre;\">Число звонков на оператора по дням</text></g><g class=\"g-xtitle\"><text class=\"xtitle\" x=\"321.5\" y=\"460.8\" text-anchor=\"middle\" style=\"font-family: 'Open Sans', verdana, arial, sans-serif; font-size: 14px; fill: rgb(42, 63, 95); opacity: 1; font-weight: normal; white-space: pre;\">Дата</text></g><g class=\"g-ytitle\"><text class=\"ytitle\" transform=\"rotate(-90,31.309375000000003,240)\" x=\"31.309375000000003\" y=\"240\" text-anchor=\"middle\" style=\"font-family: 'Open Sans', verdana, arial, sans-serif; font-size: 14px; fill: rgb(42, 63, 95); opacity: 1; font-weight: normal; white-space: pre;\">Число звонков на оператора</text></g></g></svg>"
      ]
     },
     "metadata": {},
     "output_type": "display_data"
    }
   ],
   "source": [
    "fig = px.line(timetable, x=\"date\", y=[\"calls_per_operator\"],color='day_of_week')\n",
    "fig.update_layout(title='Число звонков на оператора по дням',\n",
    "                   xaxis_title='Дата',\n",
    "                   yaxis_title='Число звонков на оператора',\n",
    "                 legend_title_text='День недели')\n",
    "fig.show(\"svg\")"
   ]
  },
  {
   "cell_type": "markdown",
   "metadata": {},
   "source": [
    "Рассматривая число звонков на оператора в разрезе каждого дня активности сервиса, мы видим, что ежедневная нагрузка на оператора с течением времени снижается. Собственно, в первые недели существования сервиса, когда число операторов было малым, на каждого из них в пике приходилось до 103 звонков. Это, в свою очередь, могло значительно сказываться на их общей эффективности работы.\n",
    "\n",
    "В дальнейшем это число снижалось, делая небольшой подъем в первых числах октября (что совпадает с ростом общего количества звонков в эти дни на предыдущем графике, и также в районе 10-11 ноября, что также совпадает с предыдущим графиком. Таким образом выходит, что в сервисе при одновременном росте числа звонков и числа активных операторов, число звонков на оператора снижается, тем самым уменьшая общую рабочую нагрузку на одного человека, и, возможно, повышая его общую удовлетворенность от проделанной работы, а с ней и эффективность."
   ]
  },
  {
   "cell_type": "code",
   "execution_count": 40,
   "metadata": {
    "scrolled": false
   },
   "outputs": [
    {
     "data": {
      "image/svg+xml": [
       "<svg class=\"main-svg\" xmlns=\"http://www.w3.org/2000/svg\" xmlns:xlink=\"http://www.w3.org/1999/xlink\" width=\"1024\" height=\"768\" style=\"\" viewBox=\"0 0 1024 768\"><rect x=\"0\" y=\"0\" width=\"1024\" height=\"768\" style=\"fill: rgb(255, 255, 255); fill-opacity: 1;\"/><defs id=\"defs-09223f\"><g class=\"clips\"><clipPath id=\"clip09223fxyplot\" class=\"plotclip\"><rect width=\"713\" height=\"588\"/></clipPath><clipPath class=\"axesclip\" id=\"clip09223fx\"><rect x=\"80\" y=\"0\" width=\"713\" height=\"768\"/></clipPath><clipPath class=\"axesclip\" id=\"clip09223fy\"><rect x=\"0\" y=\"100\" width=\"1024\" height=\"588\"/></clipPath><clipPath class=\"axesclip\" id=\"clip09223fxy\"><rect x=\"80\" y=\"100\" width=\"713\" height=\"588\"/></clipPath></g><g class=\"gradients\"/><g class=\"patterns\"/></defs><g class=\"bglayer\"><rect class=\"bg\" x=\"80\" y=\"100\" width=\"713\" height=\"588\" style=\"fill: rgb(229, 236, 246); fill-opacity: 1; stroke-width: 0;\"/></g><g class=\"layer-below\"><g class=\"imagelayer\"/><g class=\"shapelayer\"/></g><g class=\"cartesianlayer\"><g class=\"subplot xy\"><g class=\"layer-subplot\"><g class=\"shapelayer\"/><g class=\"imagelayer\"/></g><g class=\"minor-gridlayer\"><g class=\"x\"/><g class=\"y\"/></g><g class=\"gridlayer\"><g class=\"x\"><path class=\"xgrid crisp\" transform=\"translate(130.15,0)\" d=\"M0,100v588\" style=\"stroke: rgb(255, 255, 255); stroke-opacity: 1; stroke-width: 1px;\"/><path class=\"xgrid crisp\" transform=\"translate(205.39,0)\" d=\"M0,100v588\" style=\"stroke: rgb(255, 255, 255); stroke-opacity: 1; stroke-width: 1px;\"/><path class=\"xgrid crisp\" transform=\"translate(280.64,0)\" d=\"M0,100v588\" style=\"stroke: rgb(255, 255, 255); stroke-opacity: 1; stroke-width: 1px;\"/><path class=\"xgrid crisp\" transform=\"translate(355.88,0)\" d=\"M0,100v588\" style=\"stroke: rgb(255, 255, 255); stroke-opacity: 1; stroke-width: 1px;\"/><path class=\"xgrid crisp\" transform=\"translate(431.13,0)\" d=\"M0,100v588\" style=\"stroke: rgb(255, 255, 255); stroke-opacity: 1; stroke-width: 1px;\"/><path class=\"xgrid crisp\" transform=\"translate(506.37,0)\" d=\"M0,100v588\" style=\"stroke: rgb(255, 255, 255); stroke-opacity: 1; stroke-width: 1px;\"/><path class=\"xgrid crisp\" transform=\"translate(581.61,0)\" d=\"M0,100v588\" style=\"stroke: rgb(255, 255, 255); stroke-opacity: 1; stroke-width: 1px;\"/><path class=\"xgrid crisp\" transform=\"translate(656.86,0)\" d=\"M0,100v588\" style=\"stroke: rgb(255, 255, 255); stroke-opacity: 1; stroke-width: 1px;\"/><path class=\"xgrid crisp\" transform=\"translate(732.1,0)\" d=\"M0,100v588\" style=\"stroke: rgb(255, 255, 255); stroke-opacity: 1; stroke-width: 1px;\"/></g><g class=\"y\"><path class=\"ygrid crisp\" transform=\"translate(0,591.48)\" d=\"M80,0h713\" style=\"stroke: rgb(255, 255, 255); stroke-opacity: 1; stroke-width: 1px;\"/><path class=\"ygrid crisp\" transform=\"translate(0,519.35)\" d=\"M80,0h713\" style=\"stroke: rgb(255, 255, 255); stroke-opacity: 1; stroke-width: 1px;\"/><path class=\"ygrid crisp\" transform=\"translate(0,447.22)\" d=\"M80,0h713\" style=\"stroke: rgb(255, 255, 255); stroke-opacity: 1; stroke-width: 1px;\"/><path class=\"ygrid crisp\" transform=\"translate(0,375.09)\" d=\"M80,0h713\" style=\"stroke: rgb(255, 255, 255); stroke-opacity: 1; stroke-width: 1px;\"/><path class=\"ygrid crisp\" transform=\"translate(0,302.96000000000004)\" d=\"M80,0h713\" style=\"stroke: rgb(255, 255, 255); stroke-opacity: 1; stroke-width: 1px;\"/><path class=\"ygrid crisp\" transform=\"translate(0,230.83)\" d=\"M80,0h713\" style=\"stroke: rgb(255, 255, 255); stroke-opacity: 1; stroke-width: 1px;\"/><path class=\"ygrid crisp\" transform=\"translate(0,158.7)\" d=\"M80,0h713\" style=\"stroke: rgb(255, 255, 255); stroke-opacity: 1; stroke-width: 1px;\"/></g></g><g class=\"zerolinelayer\"><path class=\"yzl zl crisp\" transform=\"translate(0,663.61)\" d=\"M80,0h713\" style=\"stroke: rgb(255, 255, 255); stroke-opacity: 1; stroke-width: 2px;\"/></g><path class=\"xlines-below\"/><path class=\"ylines-below\"/><g class=\"overlines-below\"/><g class=\"xaxislayer-below\"/><g class=\"yaxislayer-below\"/><g class=\"overaxes-below\"/><g class=\"plot\" transform=\"translate(80,100)\" clip-path=\"url(#clip09223fxyplot)\"><g class=\"scatterlayer mlayer\"><g class=\"trace scatter trace0dfe4c\" style=\"stroke-miterlimit: 2; opacity: 1;\"><g class=\"fills\"/><g class=\"errorbars\"/><g class=\"lines\"><path class=\"js-line\" d=\"M39.4,558.6L44.77,536.15L50.15,555.39L55.52,443.01L60.9,429.43L66.27,449.51L71.65,457.39L77.02,474.3L82.4,556.94L93.15,212.11L98.52,168.03L103.89,262.55L109.27,204.98L114.64,207.31L120.02,336L125.39,308.76L130.77,164.22L136.14,282.08L141.52,234.68L146.89,329.25L152.27,317.83L157.64,389.33L163.02,392.48L168.39,323.28L173.76,344.65L179.14,290.57L184.51,352.43L189.89,352.32L195.26,285.45L200.64,342.22L206.01,317.76L216.76,347.54L222.14,315.44L227.51,345.5L232.88,386.92L238.26,389.15L243.63,336.85L249.01,376.13L254.38,347.18L259.76,337.59L265.13,339.03L270.51,344.25L275.88,390.7L281.26,370.95L286.63,357.96L297.38,354.23L302.75,360.96L308.13,439.43L313.5,441.2L318.88,377.67L324.25,382.07L329.63,332.49L335,308.93L340.38,353.03L345.75,347.37L351.13,350.53L356.5,357.45L361.87,341.76L367.25,330.26L372.62,322.62L378,341.12L383.37,379.1L388.75,346.7L394.12,350.98L399.5,359.1L404.87,333L410.25,330.52L415.62,353.57L420.99,369.93L426.37,373.57L431.74,378.23L437.12,406.09L442.49,387.55L447.87,394.09L453.24,406.05L463.99,479.56L469.37,425.46L474.74,426.58L480.12,423.8L485.49,422.19L490.86,411.74L496.24,394.33L501.61,387.45L506.99,418.31L512.36,422.98L517.74,434.81L523.11,443.89L528.49,456.94L533.86,421.93L539.24,419.59L544.61,414.4L549.98,435.41L555.36,435.26L566.11,437.81L571.48,437.25L576.86,405.01L582.23,420.28L587.61,432.48L592.98,424.35L598.36,432.26L603.73,442.83L609.11,431.76L614.48,415.38L619.85,432.76L625.23,434.87L635.98,413.32L641.35,427.86L646.73,427.87L652.1,412.75L657.48,415.72L662.85,413.6L668.23,428.51L673.6,434.32\" style=\"vector-effect: non-scaling-stroke; fill: none; stroke: rgb(99, 110, 250); stroke-opacity: 1; stroke-width: 2px; opacity: 1;\"/></g><g class=\"points\"/><g class=\"text\"/></g><g class=\"trace scatter trace88df29\" style=\"stroke-miterlimit: 2; opacity: 1;\"><g class=\"fills\"/><g class=\"errorbars\"/><g class=\"lines\"><path class=\"js-line\" d=\"M39.4,547.49L44.77,522.96L50.15,553.51L55.52,412.33L60.9,407.94L66.27,431.47L71.65,431.53L77.02,443.43L82.4,552.43L93.15,81.03L98.52,33.15L103.89,169.31L109.27,82.79L114.64,80.21L120.02,196.61L125.39,220.03L130.77,42.3L136.14,207.57L141.52,152.08L146.89,253.79L152.27,244.08L157.64,303.99L163.02,328.54L168.39,253.53L173.76,286.05L179.14,217.01L184.51,291.64L189.89,293.69L195.26,200.62L200.64,291.96L206.01,244.6L211.39,257.58L216.76,285.39L222.14,258.97L227.51,290.02L232.88,335.5L238.26,314.16L243.63,280.4L249.01,317.23L254.38,287.26L259.76,287.21L265.13,277.29L270.51,273.21L275.88,325.1L281.26,316.38L286.63,292.34L292.01,297.54L297.38,298.63L302.75,305.06L308.13,398.54L313.5,394.98L318.88,315.25L324.25,320.54L329.63,254.43L335,232.5L340.38,282.35L345.75,232.71L351.13,243.07L356.5,289.64L361.87,251.56L367.25,255.31L372.62,241.65L378,269.72L383.37,301.07L388.75,246.01L394.12,274.33L399.5,278.18L404.87,263.39L410.25,259.07L415.62,280.65L420.99,292.55L426.37,289.95L431.74,315.64L437.12,345.31L442.49,334.52L447.87,341.95L453.24,357.45L458.62,389.78L463.99,445.95L469.37,379.75L474.74,379.9L480.12,384.1L485.49,386.41L490.86,368.04L496.24,335.17L501.61,330.67L506.99,378.09L512.36,380.41L517.74,399.61L523.11,400.59L528.49,419.48L533.86,377.19L539.24,378.42L544.61,332.46L549.98,394.02L555.36,394.65L560.73,393.87L566.11,399.96L571.48,395.88L576.86,355.07L582.23,379.71L587.61,395.72L592.98,388.51L598.36,395.53L603.73,408.02L614.48,376.39L619.85,397.66L625.23,399.08L630.6,385.49L635.98,372.55L641.35,386.82L646.73,381.3L652.1,369L657.48,375.58L662.85,371.84L668.23,391.51L673.6,397.65\" style=\"vector-effect: non-scaling-stroke; fill: none; stroke: rgb(239, 85, 59); stroke-opacity: 1; stroke-width: 2px; opacity: 1;\"/></g><g class=\"points\"><path class=\"point\" transform=\"translate(39.4,547.49)\" d=\"M3,0A3,3 0 1,1 0,-3A3,3 0 0,1 3,0Z\" style=\"opacity: 1; stroke-width: 0px; fill: rgb(239, 85, 59); fill-opacity: 1;\"/><path class=\"point\" transform=\"translate(44.77,522.96)\" d=\"M3,0A3,3 0 1,1 0,-3A3,3 0 0,1 3,0Z\" style=\"opacity: 1; stroke-width: 0px; fill: rgb(239, 85, 59); fill-opacity: 1;\"/><path class=\"point\" transform=\"translate(50.15,553.51)\" d=\"M3,0A3,3 0 1,1 0,-3A3,3 0 0,1 3,0Z\" style=\"opacity: 1; stroke-width: 0px; fill: rgb(239, 85, 59); fill-opacity: 1;\"/><path class=\"point\" transform=\"translate(55.52,412.33)\" d=\"M3,0A3,3 0 1,1 0,-3A3,3 0 0,1 3,0Z\" style=\"opacity: 1; stroke-width: 0px; fill: rgb(239, 85, 59); fill-opacity: 1;\"/><path class=\"point\" transform=\"translate(60.9,407.94)\" d=\"M3,0A3,3 0 1,1 0,-3A3,3 0 0,1 3,0Z\" style=\"opacity: 1; stroke-width: 0px; fill: rgb(239, 85, 59); fill-opacity: 1;\"/><path class=\"point\" transform=\"translate(66.27,431.47)\" d=\"M3,0A3,3 0 1,1 0,-3A3,3 0 0,1 3,0Z\" style=\"opacity: 1; stroke-width: 0px; fill: rgb(239, 85, 59); fill-opacity: 1;\"/><path class=\"point\" transform=\"translate(71.65,431.53)\" d=\"M3,0A3,3 0 1,1 0,-3A3,3 0 0,1 3,0Z\" style=\"opacity: 1; stroke-width: 0px; fill: rgb(239, 85, 59); fill-opacity: 1;\"/><path class=\"point\" transform=\"translate(77.02,443.43)\" d=\"M3,0A3,3 0 1,1 0,-3A3,3 0 0,1 3,0Z\" style=\"opacity: 1; stroke-width: 0px; fill: rgb(239, 85, 59); fill-opacity: 1;\"/><path class=\"point\" transform=\"translate(82.4,552.43)\" d=\"M3,0A3,3 0 1,1 0,-3A3,3 0 0,1 3,0Z\" style=\"opacity: 1; stroke-width: 0px; fill: rgb(239, 85, 59); fill-opacity: 1;\"/><path class=\"point\" transform=\"translate(93.15,81.03)\" d=\"M3,0A3,3 0 1,1 0,-3A3,3 0 0,1 3,0Z\" style=\"opacity: 1; stroke-width: 0px; fill: rgb(239, 85, 59); fill-opacity: 1;\"/><path class=\"point\" transform=\"translate(98.52,33.15)\" d=\"M3,0A3,3 0 1,1 0,-3A3,3 0 0,1 3,0Z\" style=\"opacity: 1; stroke-width: 0px; fill: rgb(239, 85, 59); fill-opacity: 1;\"/><path class=\"point\" transform=\"translate(103.89,169.31)\" d=\"M3,0A3,3 0 1,1 0,-3A3,3 0 0,1 3,0Z\" style=\"opacity: 1; stroke-width: 0px; fill: rgb(239, 85, 59); fill-opacity: 1;\"/><path class=\"point\" transform=\"translate(109.27,82.79)\" d=\"M3,0A3,3 0 1,1 0,-3A3,3 0 0,1 3,0Z\" style=\"opacity: 1; stroke-width: 0px; fill: rgb(239, 85, 59); fill-opacity: 1;\"/><path class=\"point\" transform=\"translate(114.64,80.21)\" d=\"M3,0A3,3 0 1,1 0,-3A3,3 0 0,1 3,0Z\" style=\"opacity: 1; stroke-width: 0px; fill: rgb(239, 85, 59); fill-opacity: 1;\"/><path class=\"point\" transform=\"translate(120.02,196.61)\" d=\"M3,0A3,3 0 1,1 0,-3A3,3 0 0,1 3,0Z\" style=\"opacity: 1; stroke-width: 0px; fill: rgb(239, 85, 59); fill-opacity: 1;\"/><path class=\"point\" transform=\"translate(125.39,220.03)\" d=\"M3,0A3,3 0 1,1 0,-3A3,3 0 0,1 3,0Z\" style=\"opacity: 1; stroke-width: 0px; fill: rgb(239, 85, 59); fill-opacity: 1;\"/><path class=\"point\" transform=\"translate(130.77,42.3)\" d=\"M3,0A3,3 0 1,1 0,-3A3,3 0 0,1 3,0Z\" style=\"opacity: 1; stroke-width: 0px; fill: rgb(239, 85, 59); fill-opacity: 1;\"/><path class=\"point\" transform=\"translate(136.14,207.57)\" d=\"M3,0A3,3 0 1,1 0,-3A3,3 0 0,1 3,0Z\" style=\"opacity: 1; stroke-width: 0px; fill: rgb(239, 85, 59); fill-opacity: 1;\"/><path class=\"point\" transform=\"translate(141.52,152.08)\" d=\"M3,0A3,3 0 1,1 0,-3A3,3 0 0,1 3,0Z\" style=\"opacity: 1; stroke-width: 0px; fill: rgb(239, 85, 59); fill-opacity: 1;\"/><path class=\"point\" transform=\"translate(146.89,253.79)\" d=\"M3,0A3,3 0 1,1 0,-3A3,3 0 0,1 3,0Z\" style=\"opacity: 1; stroke-width: 0px; fill: rgb(239, 85, 59); fill-opacity: 1;\"/><path class=\"point\" transform=\"translate(152.27,244.08)\" d=\"M3,0A3,3 0 1,1 0,-3A3,3 0 0,1 3,0Z\" style=\"opacity: 1; stroke-width: 0px; fill: rgb(239, 85, 59); fill-opacity: 1;\"/><path class=\"point\" transform=\"translate(157.64,303.99)\" d=\"M3,0A3,3 0 1,1 0,-3A3,3 0 0,1 3,0Z\" style=\"opacity: 1; stroke-width: 0px; fill: rgb(239, 85, 59); fill-opacity: 1;\"/><path class=\"point\" transform=\"translate(163.02,328.54)\" d=\"M3,0A3,3 0 1,1 0,-3A3,3 0 0,1 3,0Z\" style=\"opacity: 1; stroke-width: 0px; fill: rgb(239, 85, 59); fill-opacity: 1;\"/><path class=\"point\" transform=\"translate(168.39,253.53)\" d=\"M3,0A3,3 0 1,1 0,-3A3,3 0 0,1 3,0Z\" style=\"opacity: 1; stroke-width: 0px; fill: rgb(239, 85, 59); fill-opacity: 1;\"/><path class=\"point\" transform=\"translate(173.76,286.05)\" d=\"M3,0A3,3 0 1,1 0,-3A3,3 0 0,1 3,0Z\" style=\"opacity: 1; stroke-width: 0px; fill: rgb(239, 85, 59); fill-opacity: 1;\"/><path class=\"point\" transform=\"translate(179.14,217.01)\" d=\"M3,0A3,3 0 1,1 0,-3A3,3 0 0,1 3,0Z\" style=\"opacity: 1; stroke-width: 0px; fill: rgb(239, 85, 59); fill-opacity: 1;\"/><path class=\"point\" transform=\"translate(184.51,291.64)\" d=\"M3,0A3,3 0 1,1 0,-3A3,3 0 0,1 3,0Z\" style=\"opacity: 1; stroke-width: 0px; fill: rgb(239, 85, 59); fill-opacity: 1;\"/><path class=\"point\" transform=\"translate(189.89,293.69)\" d=\"M3,0A3,3 0 1,1 0,-3A3,3 0 0,1 3,0Z\" style=\"opacity: 1; stroke-width: 0px; fill: rgb(239, 85, 59); fill-opacity: 1;\"/><path class=\"point\" transform=\"translate(195.26,200.62)\" d=\"M3,0A3,3 0 1,1 0,-3A3,3 0 0,1 3,0Z\" style=\"opacity: 1; stroke-width: 0px; fill: rgb(239, 85, 59); fill-opacity: 1;\"/><path class=\"point\" transform=\"translate(200.64,291.96)\" d=\"M3,0A3,3 0 1,1 0,-3A3,3 0 0,1 3,0Z\" style=\"opacity: 1; stroke-width: 0px; fill: rgb(239, 85, 59); fill-opacity: 1;\"/><path class=\"point\" transform=\"translate(206.01,244.6)\" d=\"M3,0A3,3 0 1,1 0,-3A3,3 0 0,1 3,0Z\" style=\"opacity: 1; stroke-width: 0px; fill: rgb(239, 85, 59); fill-opacity: 1;\"/><path class=\"point\" transform=\"translate(211.39,257.58)\" d=\"M3,0A3,3 0 1,1 0,-3A3,3 0 0,1 3,0Z\" style=\"opacity: 1; stroke-width: 0px; fill: rgb(239, 85, 59); fill-opacity: 1;\"/><path class=\"point\" transform=\"translate(216.76,285.39)\" d=\"M3,0A3,3 0 1,1 0,-3A3,3 0 0,1 3,0Z\" style=\"opacity: 1; stroke-width: 0px; fill: rgb(239, 85, 59); fill-opacity: 1;\"/><path class=\"point\" transform=\"translate(222.14,258.97)\" d=\"M3,0A3,3 0 1,1 0,-3A3,3 0 0,1 3,0Z\" style=\"opacity: 1; stroke-width: 0px; fill: rgb(239, 85, 59); fill-opacity: 1;\"/><path class=\"point\" transform=\"translate(227.51,290.02)\" d=\"M3,0A3,3 0 1,1 0,-3A3,3 0 0,1 3,0Z\" style=\"opacity: 1; stroke-width: 0px; fill: rgb(239, 85, 59); fill-opacity: 1;\"/><path class=\"point\" transform=\"translate(232.88,335.5)\" d=\"M3,0A3,3 0 1,1 0,-3A3,3 0 0,1 3,0Z\" style=\"opacity: 1; stroke-width: 0px; fill: rgb(239, 85, 59); fill-opacity: 1;\"/><path class=\"point\" transform=\"translate(238.26,314.16)\" d=\"M3,0A3,3 0 1,1 0,-3A3,3 0 0,1 3,0Z\" style=\"opacity: 1; stroke-width: 0px; fill: rgb(239, 85, 59); fill-opacity: 1;\"/><path class=\"point\" transform=\"translate(243.63,280.4)\" d=\"M3,0A3,3 0 1,1 0,-3A3,3 0 0,1 3,0Z\" style=\"opacity: 1; stroke-width: 0px; fill: rgb(239, 85, 59); fill-opacity: 1;\"/><path class=\"point\" transform=\"translate(249.01,317.23)\" d=\"M3,0A3,3 0 1,1 0,-3A3,3 0 0,1 3,0Z\" style=\"opacity: 1; stroke-width: 0px; fill: rgb(239, 85, 59); fill-opacity: 1;\"/><path class=\"point\" transform=\"translate(254.38,287.26)\" d=\"M3,0A3,3 0 1,1 0,-3A3,3 0 0,1 3,0Z\" style=\"opacity: 1; stroke-width: 0px; fill: rgb(239, 85, 59); fill-opacity: 1;\"/><path class=\"point\" transform=\"translate(259.76,287.21)\" d=\"M3,0A3,3 0 1,1 0,-3A3,3 0 0,1 3,0Z\" style=\"opacity: 1; stroke-width: 0px; fill: rgb(239, 85, 59); fill-opacity: 1;\"/><path class=\"point\" transform=\"translate(265.13,277.29)\" d=\"M3,0A3,3 0 1,1 0,-3A3,3 0 0,1 3,0Z\" style=\"opacity: 1; stroke-width: 0px; fill: rgb(239, 85, 59); fill-opacity: 1;\"/><path class=\"point\" transform=\"translate(270.51,273.21)\" d=\"M3,0A3,3 0 1,1 0,-3A3,3 0 0,1 3,0Z\" style=\"opacity: 1; stroke-width: 0px; fill: rgb(239, 85, 59); fill-opacity: 1;\"/><path class=\"point\" transform=\"translate(275.88,325.1)\" d=\"M3,0A3,3 0 1,1 0,-3A3,3 0 0,1 3,0Z\" style=\"opacity: 1; stroke-width: 0px; fill: rgb(239, 85, 59); fill-opacity: 1;\"/><path class=\"point\" transform=\"translate(281.26,316.38)\" d=\"M3,0A3,3 0 1,1 0,-3A3,3 0 0,1 3,0Z\" style=\"opacity: 1; stroke-width: 0px; fill: rgb(239, 85, 59); fill-opacity: 1;\"/><path class=\"point\" transform=\"translate(286.63,292.34)\" d=\"M3,0A3,3 0 1,1 0,-3A3,3 0 0,1 3,0Z\" style=\"opacity: 1; stroke-width: 0px; fill: rgb(239, 85, 59); fill-opacity: 1;\"/><path class=\"point\" transform=\"translate(292.01,297.54)\" d=\"M3,0A3,3 0 1,1 0,-3A3,3 0 0,1 3,0Z\" style=\"opacity: 1; stroke-width: 0px; fill: rgb(239, 85, 59); fill-opacity: 1;\"/><path class=\"point\" transform=\"translate(297.38,298.63)\" d=\"M3,0A3,3 0 1,1 0,-3A3,3 0 0,1 3,0Z\" style=\"opacity: 1; stroke-width: 0px; fill: rgb(239, 85, 59); fill-opacity: 1;\"/><path class=\"point\" transform=\"translate(302.75,305.06)\" d=\"M3,0A3,3 0 1,1 0,-3A3,3 0 0,1 3,0Z\" style=\"opacity: 1; stroke-width: 0px; fill: rgb(239, 85, 59); fill-opacity: 1;\"/><path class=\"point\" transform=\"translate(308.13,398.54)\" d=\"M3,0A3,3 0 1,1 0,-3A3,3 0 0,1 3,0Z\" style=\"opacity: 1; stroke-width: 0px; fill: rgb(239, 85, 59); fill-opacity: 1;\"/><path class=\"point\" transform=\"translate(313.5,394.98)\" d=\"M3,0A3,3 0 1,1 0,-3A3,3 0 0,1 3,0Z\" style=\"opacity: 1; stroke-width: 0px; fill: rgb(239, 85, 59); fill-opacity: 1;\"/><path class=\"point\" transform=\"translate(318.88,315.25)\" d=\"M3,0A3,3 0 1,1 0,-3A3,3 0 0,1 3,0Z\" style=\"opacity: 1; stroke-width: 0px; fill: rgb(239, 85, 59); fill-opacity: 1;\"/><path class=\"point\" transform=\"translate(324.25,320.54)\" d=\"M3,0A3,3 0 1,1 0,-3A3,3 0 0,1 3,0Z\" style=\"opacity: 1; stroke-width: 0px; fill: rgb(239, 85, 59); fill-opacity: 1;\"/><path class=\"point\" transform=\"translate(329.63,254.43)\" d=\"M3,0A3,3 0 1,1 0,-3A3,3 0 0,1 3,0Z\" style=\"opacity: 1; stroke-width: 0px; fill: rgb(239, 85, 59); fill-opacity: 1;\"/><path class=\"point\" transform=\"translate(335,232.5)\" d=\"M3,0A3,3 0 1,1 0,-3A3,3 0 0,1 3,0Z\" style=\"opacity: 1; stroke-width: 0px; fill: rgb(239, 85, 59); fill-opacity: 1;\"/><path class=\"point\" transform=\"translate(340.38,282.35)\" d=\"M3,0A3,3 0 1,1 0,-3A3,3 0 0,1 3,0Z\" style=\"opacity: 1; stroke-width: 0px; fill: rgb(239, 85, 59); fill-opacity: 1;\"/><path class=\"point\" transform=\"translate(345.75,232.71)\" d=\"M3,0A3,3 0 1,1 0,-3A3,3 0 0,1 3,0Z\" style=\"opacity: 1; stroke-width: 0px; fill: rgb(239, 85, 59); fill-opacity: 1;\"/><path class=\"point\" transform=\"translate(351.13,243.07)\" d=\"M3,0A3,3 0 1,1 0,-3A3,3 0 0,1 3,0Z\" style=\"opacity: 1; stroke-width: 0px; fill: rgb(239, 85, 59); fill-opacity: 1;\"/><path class=\"point\" transform=\"translate(356.5,289.64)\" d=\"M3,0A3,3 0 1,1 0,-3A3,3 0 0,1 3,0Z\" style=\"opacity: 1; stroke-width: 0px; fill: rgb(239, 85, 59); fill-opacity: 1;\"/><path class=\"point\" transform=\"translate(361.87,251.56)\" d=\"M3,0A3,3 0 1,1 0,-3A3,3 0 0,1 3,0Z\" style=\"opacity: 1; stroke-width: 0px; fill: rgb(239, 85, 59); fill-opacity: 1;\"/><path class=\"point\" transform=\"translate(367.25,255.31)\" d=\"M3,0A3,3 0 1,1 0,-3A3,3 0 0,1 3,0Z\" style=\"opacity: 1; stroke-width: 0px; fill: rgb(239, 85, 59); fill-opacity: 1;\"/><path class=\"point\" transform=\"translate(372.62,241.65)\" d=\"M3,0A3,3 0 1,1 0,-3A3,3 0 0,1 3,0Z\" style=\"opacity: 1; stroke-width: 0px; fill: rgb(239, 85, 59); fill-opacity: 1;\"/><path class=\"point\" transform=\"translate(378,269.72)\" d=\"M3,0A3,3 0 1,1 0,-3A3,3 0 0,1 3,0Z\" style=\"opacity: 1; stroke-width: 0px; fill: rgb(239, 85, 59); fill-opacity: 1;\"/><path class=\"point\" transform=\"translate(383.37,301.07)\" d=\"M3,0A3,3 0 1,1 0,-3A3,3 0 0,1 3,0Z\" style=\"opacity: 1; stroke-width: 0px; fill: rgb(239, 85, 59); fill-opacity: 1;\"/><path class=\"point\" transform=\"translate(388.75,246.01)\" d=\"M3,0A3,3 0 1,1 0,-3A3,3 0 0,1 3,0Z\" style=\"opacity: 1; stroke-width: 0px; fill: rgb(239, 85, 59); fill-opacity: 1;\"/><path class=\"point\" transform=\"translate(394.12,274.33)\" d=\"M3,0A3,3 0 1,1 0,-3A3,3 0 0,1 3,0Z\" style=\"opacity: 1; stroke-width: 0px; fill: rgb(239, 85, 59); fill-opacity: 1;\"/><path class=\"point\" transform=\"translate(399.5,278.18)\" d=\"M3,0A3,3 0 1,1 0,-3A3,3 0 0,1 3,0Z\" style=\"opacity: 1; stroke-width: 0px; fill: rgb(239, 85, 59); fill-opacity: 1;\"/><path class=\"point\" transform=\"translate(404.87,263.39)\" d=\"M3,0A3,3 0 1,1 0,-3A3,3 0 0,1 3,0Z\" style=\"opacity: 1; stroke-width: 0px; fill: rgb(239, 85, 59); fill-opacity: 1;\"/><path class=\"point\" transform=\"translate(410.25,259.07)\" d=\"M3,0A3,3 0 1,1 0,-3A3,3 0 0,1 3,0Z\" style=\"opacity: 1; stroke-width: 0px; fill: rgb(239, 85, 59); fill-opacity: 1;\"/><path class=\"point\" transform=\"translate(415.62,280.65)\" d=\"M3,0A3,3 0 1,1 0,-3A3,3 0 0,1 3,0Z\" style=\"opacity: 1; stroke-width: 0px; fill: rgb(239, 85, 59); fill-opacity: 1;\"/><path class=\"point\" transform=\"translate(420.99,292.55)\" d=\"M3,0A3,3 0 1,1 0,-3A3,3 0 0,1 3,0Z\" style=\"opacity: 1; stroke-width: 0px; fill: rgb(239, 85, 59); fill-opacity: 1;\"/><path class=\"point\" transform=\"translate(426.37,289.95)\" d=\"M3,0A3,3 0 1,1 0,-3A3,3 0 0,1 3,0Z\" style=\"opacity: 1; stroke-width: 0px; fill: rgb(239, 85, 59); fill-opacity: 1;\"/><path class=\"point\" transform=\"translate(431.74,315.64)\" d=\"M3,0A3,3 0 1,1 0,-3A3,3 0 0,1 3,0Z\" style=\"opacity: 1; stroke-width: 0px; fill: rgb(239, 85, 59); fill-opacity: 1;\"/><path class=\"point\" transform=\"translate(437.12,345.31)\" d=\"M3,0A3,3 0 1,1 0,-3A3,3 0 0,1 3,0Z\" style=\"opacity: 1; stroke-width: 0px; fill: rgb(239, 85, 59); fill-opacity: 1;\"/><path class=\"point\" transform=\"translate(442.49,334.52)\" d=\"M3,0A3,3 0 1,1 0,-3A3,3 0 0,1 3,0Z\" style=\"opacity: 1; stroke-width: 0px; fill: rgb(239, 85, 59); fill-opacity: 1;\"/><path class=\"point\" transform=\"translate(447.87,341.95)\" d=\"M3,0A3,3 0 1,1 0,-3A3,3 0 0,1 3,0Z\" style=\"opacity: 1; stroke-width: 0px; fill: rgb(239, 85, 59); fill-opacity: 1;\"/><path class=\"point\" transform=\"translate(453.24,357.45)\" d=\"M3,0A3,3 0 1,1 0,-3A3,3 0 0,1 3,0Z\" style=\"opacity: 1; stroke-width: 0px; fill: rgb(239, 85, 59); fill-opacity: 1;\"/><path class=\"point\" transform=\"translate(458.62,389.78)\" d=\"M3,0A3,3 0 1,1 0,-3A3,3 0 0,1 3,0Z\" style=\"opacity: 1; stroke-width: 0px; fill: rgb(239, 85, 59); fill-opacity: 1;\"/><path class=\"point\" transform=\"translate(463.99,445.95)\" d=\"M3,0A3,3 0 1,1 0,-3A3,3 0 0,1 3,0Z\" style=\"opacity: 1; stroke-width: 0px; fill: rgb(239, 85, 59); fill-opacity: 1;\"/><path class=\"point\" transform=\"translate(469.37,379.75)\" d=\"M3,0A3,3 0 1,1 0,-3A3,3 0 0,1 3,0Z\" style=\"opacity: 1; stroke-width: 0px; fill: rgb(239, 85, 59); fill-opacity: 1;\"/><path class=\"point\" transform=\"translate(474.74,379.9)\" d=\"M3,0A3,3 0 1,1 0,-3A3,3 0 0,1 3,0Z\" style=\"opacity: 1; stroke-width: 0px; fill: rgb(239, 85, 59); fill-opacity: 1;\"/><path class=\"point\" transform=\"translate(480.12,384.1)\" d=\"M3,0A3,3 0 1,1 0,-3A3,3 0 0,1 3,0Z\" style=\"opacity: 1; stroke-width: 0px; fill: rgb(239, 85, 59); fill-opacity: 1;\"/><path class=\"point\" transform=\"translate(485.49,386.41)\" d=\"M3,0A3,3 0 1,1 0,-3A3,3 0 0,1 3,0Z\" style=\"opacity: 1; stroke-width: 0px; fill: rgb(239, 85, 59); fill-opacity: 1;\"/><path class=\"point\" transform=\"translate(490.86,368.04)\" d=\"M3,0A3,3 0 1,1 0,-3A3,3 0 0,1 3,0Z\" style=\"opacity: 1; stroke-width: 0px; fill: rgb(239, 85, 59); fill-opacity: 1;\"/><path class=\"point\" transform=\"translate(496.24,335.17)\" d=\"M3,0A3,3 0 1,1 0,-3A3,3 0 0,1 3,0Z\" style=\"opacity: 1; stroke-width: 0px; fill: rgb(239, 85, 59); fill-opacity: 1;\"/><path class=\"point\" transform=\"translate(501.61,330.67)\" d=\"M3,0A3,3 0 1,1 0,-3A3,3 0 0,1 3,0Z\" style=\"opacity: 1; stroke-width: 0px; fill: rgb(239, 85, 59); fill-opacity: 1;\"/><path class=\"point\" transform=\"translate(506.99,378.09)\" d=\"M3,0A3,3 0 1,1 0,-3A3,3 0 0,1 3,0Z\" style=\"opacity: 1; stroke-width: 0px; fill: rgb(239, 85, 59); fill-opacity: 1;\"/><path class=\"point\" transform=\"translate(512.36,380.41)\" d=\"M3,0A3,3 0 1,1 0,-3A3,3 0 0,1 3,0Z\" style=\"opacity: 1; stroke-width: 0px; fill: rgb(239, 85, 59); fill-opacity: 1;\"/><path class=\"point\" transform=\"translate(517.74,399.61)\" d=\"M3,0A3,3 0 1,1 0,-3A3,3 0 0,1 3,0Z\" style=\"opacity: 1; stroke-width: 0px; fill: rgb(239, 85, 59); fill-opacity: 1;\"/><path class=\"point\" transform=\"translate(523.11,400.59)\" d=\"M3,0A3,3 0 1,1 0,-3A3,3 0 0,1 3,0Z\" style=\"opacity: 1; stroke-width: 0px; fill: rgb(239, 85, 59); fill-opacity: 1;\"/><path class=\"point\" transform=\"translate(528.49,419.48)\" d=\"M3,0A3,3 0 1,1 0,-3A3,3 0 0,1 3,0Z\" style=\"opacity: 1; stroke-width: 0px; fill: rgb(239, 85, 59); fill-opacity: 1;\"/><path class=\"point\" transform=\"translate(533.86,377.19)\" d=\"M3,0A3,3 0 1,1 0,-3A3,3 0 0,1 3,0Z\" style=\"opacity: 1; stroke-width: 0px; fill: rgb(239, 85, 59); fill-opacity: 1;\"/><path class=\"point\" transform=\"translate(539.24,378.42)\" d=\"M3,0A3,3 0 1,1 0,-3A3,3 0 0,1 3,0Z\" style=\"opacity: 1; stroke-width: 0px; fill: rgb(239, 85, 59); fill-opacity: 1;\"/><path class=\"point\" transform=\"translate(544.61,332.46)\" d=\"M3,0A3,3 0 1,1 0,-3A3,3 0 0,1 3,0Z\" style=\"opacity: 1; stroke-width: 0px; fill: rgb(239, 85, 59); fill-opacity: 1;\"/><path class=\"point\" transform=\"translate(549.98,394.02)\" d=\"M3,0A3,3 0 1,1 0,-3A3,3 0 0,1 3,0Z\" style=\"opacity: 1; stroke-width: 0px; fill: rgb(239, 85, 59); fill-opacity: 1;\"/><path class=\"point\" transform=\"translate(555.36,394.65)\" d=\"M3,0A3,3 0 1,1 0,-3A3,3 0 0,1 3,0Z\" style=\"opacity: 1; stroke-width: 0px; fill: rgb(239, 85, 59); fill-opacity: 1;\"/><path class=\"point\" transform=\"translate(560.73,393.87)\" d=\"M3,0A3,3 0 1,1 0,-3A3,3 0 0,1 3,0Z\" style=\"opacity: 1; stroke-width: 0px; fill: rgb(239, 85, 59); fill-opacity: 1;\"/><path class=\"point\" transform=\"translate(566.11,399.96)\" d=\"M3,0A3,3 0 1,1 0,-3A3,3 0 0,1 3,0Z\" style=\"opacity: 1; stroke-width: 0px; fill: rgb(239, 85, 59); fill-opacity: 1;\"/><path class=\"point\" transform=\"translate(571.48,395.88)\" d=\"M3,0A3,3 0 1,1 0,-3A3,3 0 0,1 3,0Z\" style=\"opacity: 1; stroke-width: 0px; fill: rgb(239, 85, 59); fill-opacity: 1;\"/><path class=\"point\" transform=\"translate(576.86,355.07)\" d=\"M3,0A3,3 0 1,1 0,-3A3,3 0 0,1 3,0Z\" style=\"opacity: 1; stroke-width: 0px; fill: rgb(239, 85, 59); fill-opacity: 1;\"/><path class=\"point\" transform=\"translate(582.23,379.71)\" d=\"M3,0A3,3 0 1,1 0,-3A3,3 0 0,1 3,0Z\" style=\"opacity: 1; stroke-width: 0px; fill: rgb(239, 85, 59); fill-opacity: 1;\"/><path class=\"point\" transform=\"translate(587.61,395.72)\" d=\"M3,0A3,3 0 1,1 0,-3A3,3 0 0,1 3,0Z\" style=\"opacity: 1; stroke-width: 0px; fill: rgb(239, 85, 59); fill-opacity: 1;\"/><path class=\"point\" transform=\"translate(592.98,388.51)\" d=\"M3,0A3,3 0 1,1 0,-3A3,3 0 0,1 3,0Z\" style=\"opacity: 1; stroke-width: 0px; fill: rgb(239, 85, 59); fill-opacity: 1;\"/><path class=\"point\" transform=\"translate(598.36,395.53)\" d=\"M3,0A3,3 0 1,1 0,-3A3,3 0 0,1 3,0Z\" style=\"opacity: 1; stroke-width: 0px; fill: rgb(239, 85, 59); fill-opacity: 1;\"/><path class=\"point\" transform=\"translate(603.73,408.02)\" d=\"M3,0A3,3 0 1,1 0,-3A3,3 0 0,1 3,0Z\" style=\"opacity: 1; stroke-width: 0px; fill: rgb(239, 85, 59); fill-opacity: 1;\"/><path class=\"point\" transform=\"translate(609.11,390.96)\" d=\"M3,0A3,3 0 1,1 0,-3A3,3 0 0,1 3,0Z\" style=\"opacity: 1; stroke-width: 0px; fill: rgb(239, 85, 59); fill-opacity: 1;\"/><path class=\"point\" transform=\"translate(614.48,376.39)\" d=\"M3,0A3,3 0 1,1 0,-3A3,3 0 0,1 3,0Z\" style=\"opacity: 1; stroke-width: 0px; fill: rgb(239, 85, 59); fill-opacity: 1;\"/><path class=\"point\" transform=\"translate(619.85,397.66)\" d=\"M3,0A3,3 0 1,1 0,-3A3,3 0 0,1 3,0Z\" style=\"opacity: 1; stroke-width: 0px; fill: rgb(239, 85, 59); fill-opacity: 1;\"/><path class=\"point\" transform=\"translate(625.23,399.08)\" d=\"M3,0A3,3 0 1,1 0,-3A3,3 0 0,1 3,0Z\" style=\"opacity: 1; stroke-width: 0px; fill: rgb(239, 85, 59); fill-opacity: 1;\"/><path class=\"point\" transform=\"translate(630.6,385.49)\" d=\"M3,0A3,3 0 1,1 0,-3A3,3 0 0,1 3,0Z\" style=\"opacity: 1; stroke-width: 0px; fill: rgb(239, 85, 59); fill-opacity: 1;\"/><path class=\"point\" transform=\"translate(635.98,372.55)\" d=\"M3,0A3,3 0 1,1 0,-3A3,3 0 0,1 3,0Z\" style=\"opacity: 1; stroke-width: 0px; fill: rgb(239, 85, 59); fill-opacity: 1;\"/><path class=\"point\" transform=\"translate(641.35,386.82)\" d=\"M3,0A3,3 0 1,1 0,-3A3,3 0 0,1 3,0Z\" style=\"opacity: 1; stroke-width: 0px; fill: rgb(239, 85, 59); fill-opacity: 1;\"/><path class=\"point\" transform=\"translate(646.73,381.3)\" d=\"M3,0A3,3 0 1,1 0,-3A3,3 0 0,1 3,0Z\" style=\"opacity: 1; stroke-width: 0px; fill: rgb(239, 85, 59); fill-opacity: 1;\"/><path class=\"point\" transform=\"translate(652.1,369)\" d=\"M3,0A3,3 0 1,1 0,-3A3,3 0 0,1 3,0Z\" style=\"opacity: 1; stroke-width: 0px; fill: rgb(239, 85, 59); fill-opacity: 1;\"/><path class=\"point\" transform=\"translate(657.48,375.58)\" d=\"M3,0A3,3 0 1,1 0,-3A3,3 0 0,1 3,0Z\" style=\"opacity: 1; stroke-width: 0px; fill: rgb(239, 85, 59); fill-opacity: 1;\"/><path class=\"point\" transform=\"translate(662.85,371.84)\" d=\"M3,0A3,3 0 1,1 0,-3A3,3 0 0,1 3,0Z\" style=\"opacity: 1; stroke-width: 0px; fill: rgb(239, 85, 59); fill-opacity: 1;\"/><path class=\"point\" transform=\"translate(668.23,391.51)\" d=\"M3,0A3,3 0 1,1 0,-3A3,3 0 0,1 3,0Z\" style=\"opacity: 1; stroke-width: 0px; fill: rgb(239, 85, 59); fill-opacity: 1;\"/><path class=\"point\" transform=\"translate(673.6,397.65)\" d=\"M3,0A3,3 0 1,1 0,-3A3,3 0 0,1 3,0Z\" style=\"opacity: 1; stroke-width: 0px; fill: rgb(239, 85, 59); fill-opacity: 1;\"/></g><g class=\"text\"/></g></g></g><g class=\"overplot\"/><path class=\"xlines-above crisp\" d=\"M0,0\" style=\"fill: none;\"/><path class=\"ylines-above crisp\" d=\"M0,0\" style=\"fill: none;\"/><g class=\"overlines-above\"/><g class=\"xaxislayer-above\"><g class=\"xtick\"><text text-anchor=\"middle\" x=\"0\" y=\"701\" transform=\"translate(130.15,0)\" style=\"font-family: 'Open Sans', verdana, arial, sans-serif; font-size: 12px; fill: rgb(42, 63, 95); fill-opacity: 1; white-space: pre; opacity: 1;\"><tspan class=\"line\" dy=\"0em\" x=\"0\" y=\"701\">Aug 4</tspan><tspan class=\"line\" dy=\"1.3em\" x=\"0\" y=\"701\">2019</tspan></text></g><g class=\"xtick\"><text text-anchor=\"middle\" x=\"0\" y=\"701\" style=\"font-family: 'Open Sans', verdana, arial, sans-serif; font-size: 12px; fill: rgb(42, 63, 95); fill-opacity: 1; white-space: pre; opacity: 1;\" transform=\"translate(205.39,0)\">Aug 18</text></g><g class=\"xtick\"><text text-anchor=\"middle\" x=\"0\" y=\"701\" style=\"font-family: 'Open Sans', verdana, arial, sans-serif; font-size: 12px; fill: rgb(42, 63, 95); fill-opacity: 1; white-space: pre; opacity: 1;\" transform=\"translate(280.64,0)\">Sep 1</text></g><g class=\"xtick\"><text text-anchor=\"middle\" x=\"0\" y=\"701\" style=\"font-family: 'Open Sans', verdana, arial, sans-serif; font-size: 12px; fill: rgb(42, 63, 95); fill-opacity: 1; white-space: pre; opacity: 1;\" transform=\"translate(355.88,0)\">Sep 15</text></g><g class=\"xtick\"><text text-anchor=\"middle\" x=\"0\" y=\"701\" style=\"font-family: 'Open Sans', verdana, arial, sans-serif; font-size: 12px; fill: rgb(42, 63, 95); fill-opacity: 1; white-space: pre; opacity: 1;\" transform=\"translate(431.13,0)\">Sep 29</text></g><g class=\"xtick\"><text text-anchor=\"middle\" x=\"0\" y=\"701\" style=\"font-family: 'Open Sans', verdana, arial, sans-serif; font-size: 12px; fill: rgb(42, 63, 95); fill-opacity: 1; white-space: pre; opacity: 1;\" transform=\"translate(506.37,0)\">Oct 13</text></g><g class=\"xtick\"><text text-anchor=\"middle\" x=\"0\" y=\"701\" style=\"font-family: 'Open Sans', verdana, arial, sans-serif; font-size: 12px; fill: rgb(42, 63, 95); fill-opacity: 1; white-space: pre; opacity: 1;\" transform=\"translate(581.61,0)\">Oct 27</text></g><g class=\"xtick\"><text text-anchor=\"middle\" x=\"0\" y=\"701\" style=\"font-family: 'Open Sans', verdana, arial, sans-serif; font-size: 12px; fill: rgb(42, 63, 95); fill-opacity: 1; white-space: pre; opacity: 1;\" transform=\"translate(656.86,0)\">Nov 10</text></g><g class=\"xtick\"><text text-anchor=\"middle\" x=\"0\" y=\"701\" style=\"font-family: 'Open Sans', verdana, arial, sans-serif; font-size: 12px; fill: rgb(42, 63, 95); fill-opacity: 1; white-space: pre; opacity: 1;\" transform=\"translate(732.1,0)\">Nov 24</text></g></g><g class=\"yaxislayer-above\"><g class=\"ytick\"><text text-anchor=\"end\" x=\"79\" y=\"4.199999999999999\" transform=\"translate(0,663.61)\" style=\"font-family: 'Open Sans', verdana, arial, sans-serif; font-size: 12px; fill: rgb(42, 63, 95); fill-opacity: 1; white-space: pre; opacity: 1;\">0</text></g><g class=\"ytick\"><text text-anchor=\"end\" x=\"79\" y=\"4.199999999999999\" style=\"font-family: 'Open Sans', verdana, arial, sans-serif; font-size: 12px; fill: rgb(42, 63, 95); fill-opacity: 1; white-space: pre; opacity: 1;\" transform=\"translate(0,591.48)\">500</text></g><g class=\"ytick\"><text text-anchor=\"end\" x=\"79\" y=\"4.199999999999999\" style=\"font-family: 'Open Sans', verdana, arial, sans-serif; font-size: 12px; fill: rgb(42, 63, 95); fill-opacity: 1; white-space: pre; opacity: 1;\" transform=\"translate(0,519.35)\">1000</text></g><g class=\"ytick\"><text text-anchor=\"end\" x=\"79\" y=\"4.199999999999999\" style=\"font-family: 'Open Sans', verdana, arial, sans-serif; font-size: 12px; fill: rgb(42, 63, 95); fill-opacity: 1; white-space: pre; opacity: 1;\" transform=\"translate(0,447.22)\">1500</text></g><g class=\"ytick\"><text text-anchor=\"end\" x=\"79\" y=\"4.199999999999999\" style=\"font-family: 'Open Sans', verdana, arial, sans-serif; font-size: 12px; fill: rgb(42, 63, 95); fill-opacity: 1; white-space: pre; opacity: 1;\" transform=\"translate(0,375.09)\">2000</text></g><g class=\"ytick\"><text text-anchor=\"end\" x=\"79\" y=\"4.199999999999999\" style=\"font-family: 'Open Sans', verdana, arial, sans-serif; font-size: 12px; fill: rgb(42, 63, 95); fill-opacity: 1; white-space: pre; opacity: 1;\" transform=\"translate(0,302.96000000000004)\">2500</text></g><g class=\"ytick\"><text text-anchor=\"end\" x=\"79\" y=\"4.199999999999999\" style=\"font-family: 'Open Sans', verdana, arial, sans-serif; font-size: 12px; fill: rgb(42, 63, 95); fill-opacity: 1; white-space: pre; opacity: 1;\" transform=\"translate(0,230.83)\">3000</text></g><g class=\"ytick\"><text text-anchor=\"end\" x=\"79\" y=\"4.199999999999999\" style=\"font-family: 'Open Sans', verdana, arial, sans-serif; font-size: 12px; fill: rgb(42, 63, 95); fill-opacity: 1; white-space: pre; opacity: 1;\" transform=\"translate(0,158.7)\">3500</text></g></g><g class=\"overaxes-above\"/></g></g><g class=\"polarlayer\"/><g class=\"smithlayer\"/><g class=\"ternarylayer\"/><g class=\"geolayer\"/><g class=\"funnelarealayer\"/><g class=\"pielayer\"/><g class=\"iciclelayer\"/><g class=\"treemaplayer\"/><g class=\"sunburstlayer\"/><g class=\"glimages\"/><defs id=\"topdefs-09223f\"><g class=\"clips\"/><clipPath id=\"legend09223f\"><rect width=\"205\" height=\"48\" x=\"0\" y=\"0\"/></clipPath></defs><g class=\"layer-above\"><g class=\"imagelayer\"/><g class=\"shapelayer\"/></g><g class=\"infolayer\"><g class=\"legend\" pointer-events=\"all\" transform=\"translate(807.26,100)\"><rect class=\"bg\" shape-rendering=\"crispEdges\" style=\"stroke: rgb(68, 68, 68); stroke-opacity: 1; fill: rgb(255, 255, 255); fill-opacity: 1; stroke-width: 0px;\" width=\"205\" height=\"48\" x=\"0\" y=\"0\"/><g class=\"scrollbox\" transform=\"\" clip-path=\"url(#legend09223f)\"><g class=\"groups\"><g class=\"traces\" transform=\"translate(0,14.5)\" style=\"opacity: 1;\"><text class=\"legendtext\" text-anchor=\"start\" x=\"40\" y=\"4.680000000000001\" style=\"font-family: 'Open Sans', verdana, arial, sans-serif; font-size: 12px; fill: rgb(42, 63, 95); fill-opacity: 1; white-space: pre;\">среднее время разговора</text><g class=\"layers\" style=\"opacity: 1;\"><g class=\"legendfill\"/><g class=\"legendlines\"><path class=\"js-line\" d=\"M5,0h30\" style=\"fill: none; stroke: rgb(99, 110, 250); stroke-opacity: 1; stroke-width: 2px;\"/></g><g class=\"legendsymbols\"><g class=\"legendpoints\"/></g></g><rect class=\"legendtoggle\" x=\"0\" y=\"-9.5\" width=\"199.21875\" height=\"19\" style=\"fill: rgb(0, 0, 0); fill-opacity: 0;\"/></g><g class=\"traces\" transform=\"translate(0,33.5)\" style=\"opacity: 1;\"><text class=\"legendtext\" text-anchor=\"start\" x=\"40\" y=\"4.680000000000001\" style=\"font-family: 'Open Sans', verdana, arial, sans-serif; font-size: 12px; fill: rgb(42, 63, 95); fill-opacity: 1; white-space: pre;\">среднее время звонка</text><g class=\"layers\" style=\"opacity: 1;\"><g class=\"legendfill\"/><g class=\"legendlines\"><path class=\"js-line\" d=\"M5,0h30\" style=\"fill: none; stroke: rgb(239, 85, 59); stroke-opacity: 1; stroke-width: 2px;\"/></g><g class=\"legendsymbols\"><g class=\"legendpoints\"><path class=\"scatterpts\" transform=\"translate(20,0)\" d=\"M3,0A3,3 0 1,1 0,-3A3,3 0 0,1 3,0Z\" style=\"opacity: 1; stroke-width: 0px; fill: rgb(239, 85, 59); fill-opacity: 1;\"/></g></g></g><rect class=\"legendtoggle\" x=\"0\" y=\"-9.5\" width=\"199.21875\" height=\"19\" style=\"fill: rgb(0, 0, 0); fill-opacity: 0;\"/></g></g></g><rect class=\"scrollbar\" rx=\"20\" ry=\"3\" width=\"0\" height=\"0\" style=\"fill: rgb(128, 139, 164); fill-opacity: 1;\" x=\"0\" y=\"0\"/></g><g class=\"g-gtitle\"><text class=\"gtitle\" x=\"51.2\" y=\"50\" text-anchor=\"start\" dy=\"0em\" style=\"font-family: 'Open Sans', verdana, arial, sans-serif; font-size: 17px; fill: rgb(42, 63, 95); opacity: 1; font-weight: normal; white-space: pre;\">Средняя длительность звонков по дням</text></g><g class=\"g-xtitle\"><text class=\"xtitle\" x=\"436.5\" y=\"744.409375\" text-anchor=\"middle\" style=\"font-family: 'Open Sans', verdana, arial, sans-serif; font-size: 14px; fill: rgb(42, 63, 95); opacity: 1; font-weight: normal; white-space: pre;\">Дата</text></g><g class=\"g-ytitle\"><text class=\"ytitle\" transform=\"rotate(-90,23.684375000000003,394)\" x=\"23.684375000000003\" y=\"394\" text-anchor=\"middle\" style=\"font-family: 'Open Sans', verdana, arial, sans-serif; font-size: 14px; fill: rgb(42, 63, 95); opacity: 1; font-weight: normal; white-space: pre;\">Длительность, секунд</text></g></g></svg>"
      ]
     },
     "metadata": {},
     "output_type": "display_data"
    }
   ],
   "source": [
    "fig = go.Figure()\n",
    "fig.add_trace(go.Scatter(x=timetable['date'], y=timetable['call_duration'],\n",
    "                    mode='lines',\n",
    "                    name='среднее время разговора'))\n",
    "fig.add_trace(go.Scatter(x=timetable['date'], y=timetable['total_call_duration'],\n",
    "                    mode='lines+markers',\n",
    "                    name='среднее время звонка'))\n",
    "fig.update_layout(width=1024,\n",
    "                  height=768,\n",
    "                    title='Средняя длительность звонков по дням',\n",
    "                   xaxis_title='Дата',\n",
    "                   yaxis_title='Длительность, секунд')\n",
    "fig.show(\"svg\")"
   ]
  },
  {
   "cell_type": "markdown",
   "metadata": {},
   "source": [
    "На совместном графике видно, что среднее время звонка и разговора со временем уменьшается, причем наблюдаются сравнительно большие изменения в длительности разговора по выходным. При этом прослеживается и общий тренд к тому, что среднее время и разговора и звонка уменьшается. Если принять во внимание соответствующий рост числа активных операторов, числа совершаемых звонков и количества звонков на оператора, то в результате можно предположить, что уровень навыка оператора растет, операторы обучают новые кадры, и по итогу растет общая эффективность сервиса в части охватов целевых контактов."
   ]
  },
  {
   "cell_type": "markdown",
   "metadata": {},
   "source": [
    "### Характеристики показателей для типов колл-центров"
   ]
  },
  {
   "cell_type": "markdown",
   "metadata": {},
   "source": [
    "Рассмотрим основные характеристики показателей для различных колл-центров по их типам. В частности, рассмотрим, как распределяются по типа колл-центров количество задействованных операторов, количество звонков, их длительность, время ожидания и успешность вызовов (пропущен вызов или нет)."
   ]
  },
  {
   "cell_type": "code",
   "execution_count": 41,
   "metadata": {
    "scrolled": false
   },
   "outputs": [
    {
     "data": {
      "text/html": [
       "<div>\n",
       "<style scoped>\n",
       "    .dataframe tbody tr th:only-of-type {\n",
       "        vertical-align: middle;\n",
       "    }\n",
       "\n",
       "    .dataframe tbody tr th {\n",
       "        vertical-align: top;\n",
       "    }\n",
       "\n",
       "    .dataframe thead th {\n",
       "        text-align: right;\n",
       "    }\n",
       "</style>\n",
       "<table border=\"1\" class=\"dataframe\">\n",
       "  <thead>\n",
       "    <tr style=\"text-align: right;\">\n",
       "      <th></th>\n",
       "      <th>cc_type</th>\n",
       "      <th>direction</th>\n",
       "      <th>is_missed_call</th>\n",
       "      <th>call_duration</th>\n",
       "      <th>calls_count</th>\n",
       "      <th>operator_id</th>\n",
       "      <th>total_call_duration</th>\n",
       "      <th>user_id</th>\n",
       "      <th>wait_time</th>\n",
       "    </tr>\n",
       "  </thead>\n",
       "  <tbody>\n",
       "    <tr>\n",
       "      <th>0</th>\n",
       "      <td>inbound</td>\n",
       "      <td>in</td>\n",
       "      <td>False</td>\n",
       "      <td>788.228212</td>\n",
       "      <td>28021</td>\n",
       "      <td>237</td>\n",
       "      <td>917.417877</td>\n",
       "      <td>116</td>\n",
       "      <td>129.189665</td>\n",
       "    </tr>\n",
       "    <tr>\n",
       "      <th>1</th>\n",
       "      <td>inbound</td>\n",
       "      <td>in</td>\n",
       "      <td>True</td>\n",
       "      <td>13.392157</td>\n",
       "      <td>212</td>\n",
       "      <td>60</td>\n",
       "      <td>40.699346</td>\n",
       "      <td>40</td>\n",
       "      <td>27.307190</td>\n",
       "    </tr>\n",
       "    <tr>\n",
       "      <th>2</th>\n",
       "      <td>inbound</td>\n",
       "      <td>out</td>\n",
       "      <td>False</td>\n",
       "      <td>370.778267</td>\n",
       "      <td>2783</td>\n",
       "      <td>75</td>\n",
       "      <td>422.671072</td>\n",
       "      <td>42</td>\n",
       "      <td>51.892805</td>\n",
       "    </tr>\n",
       "    <tr>\n",
       "      <th>3</th>\n",
       "      <td>inbound</td>\n",
       "      <td>out</td>\n",
       "      <td>True</td>\n",
       "      <td>0.000000</td>\n",
       "      <td>1517</td>\n",
       "      <td>75</td>\n",
       "      <td>59.830149</td>\n",
       "      <td>40</td>\n",
       "      <td>59.830149</td>\n",
       "    </tr>\n",
       "    <tr>\n",
       "      <th>4</th>\n",
       "      <td>middle</td>\n",
       "      <td>in</td>\n",
       "      <td>False</td>\n",
       "      <td>1233.099730</td>\n",
       "      <td>24008</td>\n",
       "      <td>101</td>\n",
       "      <td>1390.414555</td>\n",
       "      <td>30</td>\n",
       "      <td>157.314825</td>\n",
       "    </tr>\n",
       "    <tr>\n",
       "      <th>5</th>\n",
       "      <td>middle</td>\n",
       "      <td>in</td>\n",
       "      <td>True</td>\n",
       "      <td>73.513761</td>\n",
       "      <td>317</td>\n",
       "      <td>49</td>\n",
       "      <td>111.637615</td>\n",
       "      <td>17</td>\n",
       "      <td>38.123853</td>\n",
       "    </tr>\n",
       "    <tr>\n",
       "      <th>6</th>\n",
       "      <td>middle</td>\n",
       "      <td>out</td>\n",
       "      <td>False</td>\n",
       "      <td>920.830084</td>\n",
       "      <td>19069</td>\n",
       "      <td>96</td>\n",
       "      <td>1118.467967</td>\n",
       "      <td>27</td>\n",
       "      <td>197.637883</td>\n",
       "    </tr>\n",
       "    <tr>\n",
       "      <th>7</th>\n",
       "      <td>middle</td>\n",
       "      <td>out</td>\n",
       "      <td>True</td>\n",
       "      <td>0.000000</td>\n",
       "      <td>11456</td>\n",
       "      <td>99</td>\n",
       "      <td>215.842105</td>\n",
       "      <td>30</td>\n",
       "      <td>215.842105</td>\n",
       "    </tr>\n",
       "    <tr>\n",
       "      <th>8</th>\n",
       "      <td>outbound</td>\n",
       "      <td>in</td>\n",
       "      <td>False</td>\n",
       "      <td>700.014207</td>\n",
       "      <td>40121</td>\n",
       "      <td>399</td>\n",
       "      <td>773.019051</td>\n",
       "      <td>127</td>\n",
       "      <td>73.004843</td>\n",
       "    </tr>\n",
       "    <tr>\n",
       "      <th>9</th>\n",
       "      <td>outbound</td>\n",
       "      <td>in</td>\n",
       "      <td>True</td>\n",
       "      <td>13.000000</td>\n",
       "      <td>372</td>\n",
       "      <td>122</td>\n",
       "      <td>29.321918</td>\n",
       "      <td>57</td>\n",
       "      <td>16.321918</td>\n",
       "    </tr>\n",
       "    <tr>\n",
       "      <th>10</th>\n",
       "      <td>outbound</td>\n",
       "      <td>out</td>\n",
       "      <td>False</td>\n",
       "      <td>2829.006438</td>\n",
       "      <td>307143</td>\n",
       "      <td>599</td>\n",
       "      <td>3302.557940</td>\n",
       "      <td>140</td>\n",
       "      <td>473.551502</td>\n",
       "    </tr>\n",
       "    <tr>\n",
       "      <th>11</th>\n",
       "      <td>outbound</td>\n",
       "      <td>out</td>\n",
       "      <td>True</td>\n",
       "      <td>0.000000</td>\n",
       "      <td>253401</td>\n",
       "      <td>599</td>\n",
       "      <td>631.385440</td>\n",
       "      <td>144</td>\n",
       "      <td>631.385440</td>\n",
       "    </tr>\n",
       "  </tbody>\n",
       "</table>\n",
       "</div>"
      ],
      "text/plain": [
       "     cc_type direction  is_missed_call  call_duration  calls_count  \\\n",
       "0    inbound        in           False     788.228212        28021   \n",
       "1    inbound        in            True      13.392157          212   \n",
       "2    inbound       out           False     370.778267         2783   \n",
       "3    inbound       out            True       0.000000         1517   \n",
       "4     middle        in           False    1233.099730        24008   \n",
       "5     middle        in            True      73.513761          317   \n",
       "6     middle       out           False     920.830084        19069   \n",
       "7     middle       out            True       0.000000        11456   \n",
       "8   outbound        in           False     700.014207        40121   \n",
       "9   outbound        in            True      13.000000          372   \n",
       "10  outbound       out           False    2829.006438       307143   \n",
       "11  outbound       out            True       0.000000       253401   \n",
       "\n",
       "    operator_id  total_call_duration  user_id   wait_time  \n",
       "0           237           917.417877      116  129.189665  \n",
       "1            60            40.699346       40   27.307190  \n",
       "2            75           422.671072       42   51.892805  \n",
       "3            75            59.830149       40   59.830149  \n",
       "4           101          1390.414555       30  157.314825  \n",
       "5            49           111.637615       17   38.123853  \n",
       "6            96          1118.467967       27  197.637883  \n",
       "7            99           215.842105       30  215.842105  \n",
       "8           399           773.019051      127   73.004843  \n",
       "9           122            29.321918       57   16.321918  \n",
       "10          599          3302.557940      140  473.551502  \n",
       "11          599           631.385440      144  631.385440  "
      ]
     },
     "execution_count": 41,
     "metadata": {},
     "output_type": "execute_result"
    }
   ],
   "source": [
    "cc_type_gen = df.query('internal == False').pivot_table(index=['cc_type','direction','is_missed_call'],values=['user_id','operator_id','calls_count','call_duration','total_call_duration','wait_time'],\n",
    "                                                     aggfunc={'user_id':'nunique',\n",
    "                                                              'operator_id':'nunique',\n",
    "                                                              'calls_count':'sum',\n",
    "                                                              'call_duration':'mean',\n",
    "                                                              'total_call_duration':'mean',\n",
    "                                                              'wait_time':'mean'}).reset_index()\n",
    "cc_type_gen"
   ]
  },
  {
   "cell_type": "code",
   "execution_count": 42,
   "metadata": {},
   "outputs": [
    {
     "data": {
      "image/svg+xml": [
       "<svg class=\"main-svg\" xmlns=\"http://www.w3.org/2000/svg\" xmlns:xlink=\"http://www.w3.org/1999/xlink\" width=\"700\" height=\"700\" style=\"\" viewBox=\"0 0 700 700\"><rect x=\"0\" y=\"0\" width=\"700\" height=\"700\" style=\"fill: rgb(255, 255, 255); fill-opacity: 1;\"/><defs id=\"defs-050002\"><g class=\"clips\"/><g class=\"gradients\"/><g class=\"patterns\"/></defs><g class=\"bglayer\"/><g class=\"layer-below\"><g class=\"imagelayer\"/><g class=\"shapelayer\"/></g><g class=\"cartesianlayer\"/><g class=\"polarlayer\"/><g class=\"smithlayer\"/><g class=\"ternarylayer\"/><g class=\"geolayer\"/><g class=\"funnelarealayer\"/><g class=\"pielayer\"/><g class=\"iciclelayer\"/><g class=\"treemaplayer\"/><g class=\"sunburstlayer\"><g class=\"trace sunburst\" stroke-linejoin=\"round\" style=\"opacity: 1;\"><g class=\"slice cursor-pointer\"><path class=\"surface\" d=\"M350,340L440,340A90,90 0,1,0 412.8621341539919,404.4077020984721L350,340A0,0 0,1,1 350,340Z\" style=\"pointer-events: all; stroke-width: 1; fill: rgb(229, 134, 6); fill-opacity: 1; stroke: rgb(255, 255, 255); stroke-opacity: 1;\"/><g class=\"slicetext\"><text data-notex=\"1\" class=\"slicetext\" text-anchor=\"middle\" x=\"0\" y=\"0\" style=\"font-family: 'Open Sans', verdana, arial, sans-serif; font-size: 12px; fill: rgb(68, 68, 68); fill-opacity: 1; white-space: pre;\" transform=\"translate(350,301.88832761902836)\"><tspan class=\"line\" dy=\"0em\" x=\"0\" y=\"0\">outbound</tspan><tspan class=\"line\" dy=\"1.3em\" x=\"0\" y=\"0\">87%</tspan></text></g></g><g class=\"slice cursor-pointer\"><path class=\"surface\" d=\"M350,340L412.8621341539919,404.4077020984721A90,90 0,0,0 436.06159532486043,366.33252380877985L350,340A0,0 0,0,1 350,340Z\" style=\"pointer-events: all; stroke-width: 1; fill: rgb(93, 105, 177); fill-opacity: 1; stroke: rgb(255, 255, 255); stroke-opacity: 1;\"/><g class=\"slicetext\"><text data-notex=\"1\" class=\"slicetext\" text-anchor=\"middle\" x=\"0\" y=\"0\" style=\"font-family: 'Open Sans', verdana, arial, sans-serif; font-size: 12px; fill: rgb(255, 255, 255); fill-opacity: 1; white-space: pre;\" transform=\"translate(411.59887531036367,375.2018261816808)scale(0.7052954788184508)\"><tspan class=\"line\" dy=\"0em\" x=\"0\" y=\"0\">middle</tspan><tspan class=\"line\" dy=\"1.3em\" x=\"0\" y=\"0\">8%</tspan></text></g></g><g class=\"slice cursor-pointer\"><path class=\"surface\" d=\"M350,340L436.06159532486043,366.33252380877985A90,90 0,0,0 440,340.0000000000001L350,340A0,0 0,0,1 350,340Z\" style=\"pointer-events: all; stroke-width: 1; fill: rgb(82, 188, 163); fill-opacity: 1; stroke: rgb(255, 255, 255); stroke-opacity: 1;\"/><g class=\"slicetext\"><text data-notex=\"1\" class=\"slicetext\" text-anchor=\"middle\" x=\"0\" y=\"0\" style=\"font-family: 'Open Sans', verdana, arial, sans-serif; font-size: 12px; fill: rgb(68, 68, 68); fill-opacity: 1; white-space: pre;\" transform=\"translate(427.5402746363035,350.25704337257986)scale(0.40554851969490724)\"><tspan class=\"line\" dy=\"0em\" x=\"0\" y=\"0\">inbound</tspan><tspan class=\"line\" dy=\"1.3em\" x=\"0\" y=\"0\">5%</tspan></text></g></g><g class=\"slice cursor-pointer\"><path class=\"surface\" d=\"M440,340L530,340A180,180 0,1,0 420.70436349927877,505.5321509017564L385.3521817496394,422.7660754508782A90,90 0,1,1 440,340Z\" style=\"pointer-events: all; stroke-width: 1; fill: rgb(229, 134, 6); fill-opacity: 1; stroke: rgb(255, 255, 255); stroke-opacity: 1;\"/><g class=\"slicetext\"><text data-notex=\"1\" class=\"slicetext\" text-anchor=\"middle\" x=\"0\" y=\"0\" style=\"font-family: 'Open Sans', verdana, arial, sans-serif; font-size: 12px; fill: rgb(68, 68, 68); fill-opacity: 1; white-space: pre;\" transform=\"translate(349.9609375,203.85018766614627)\"><tspan class=\"line\" dy=\"0em\" x=\"0\" y=\"0\">out</tspan><tspan class=\"line\" dy=\"1.3em\" x=\"0\" y=\"0\">93%</tspan></text></g></g><g class=\"slice cursor-pointer\"><path class=\"surface\" d=\"M385.3521817496394,422.7660754508782L420.70436349927877,505.5321509017564A180,180 0,0,0 475.72426830798383,468.81540419694414L412.8621341539919,404.4077020984721A90,90 0,0,1 385.3521817496394,422.7660754508782Z\" style=\"pointer-events: all; stroke-width: 1; fill: rgb(229, 134, 6); fill-opacity: 1; stroke: rgb(255, 255, 255); stroke-opacity: 1;\"/><g class=\"slicetext\"><text data-notex=\"1\" class=\"slicetext\" text-anchor=\"middle\" x=\"0\" y=\"0\" style=\"font-family: 'Open Sans', verdana, arial, sans-serif; font-size: 12px; fill: rgb(68, 68, 68); fill-opacity: 1; white-space: pre;\" transform=\"translate(434.36751162006476,463.17824168354343)\"><tspan class=\"line\" dy=\"0em\" x=\"0\" y=\"0\">in</tspan><tspan class=\"line\" dy=\"1.3em\" x=\"0\" y=\"0\">7%</tspan></text></g></g><g class=\"slice cursor-pointer\"><path class=\"surface\" d=\"M412.8621341539919,404.4077020984721L475.72426830798383,468.81540419694414A180,180 0,0,0 506.30208171328877,429.27294804190353L428.1510408566444,384.63647402095177A90,90 0,0,1 412.8621341539919,404.4077020984721Z\" style=\"pointer-events: all; stroke-width: 1; fill: rgb(93, 105, 177); fill-opacity: 1; stroke: rgb(255, 255, 255); stroke-opacity: 1;\"/><g class=\"slicetext\"><text data-notex=\"1\" class=\"slicetext\" text-anchor=\"middle\" x=\"0\" y=\"0\" style=\"font-family: 'Open Sans', verdana, arial, sans-serif; font-size: 12px; fill: rgb(255, 255, 255); fill-opacity: 1; white-space: pre;\" transform=\"translate(474.9927206900011,433.3812270300977)\"><tspan class=\"line\" dy=\"0em\" x=\"0\" y=\"0\">out</tspan><tspan class=\"line\" dy=\"1.3em\" x=\"0\" y=\"0\">56%</tspan></text></g></g><g class=\"slice cursor-pointer\"><path class=\"surface\" d=\"M428.1510408566444,384.63647402095177L506.30208171328877,429.27294804190353A180,180 0,0,0 522.1231906497209,392.6650476175597L436.06159532486043,366.33252380877985A90,90 0,0,1 428.1510408566444,384.63647402095177Z\" style=\"pointer-events: all; stroke-width: 1; fill: rgb(93, 105, 177); fill-opacity: 1; stroke: rgb(255, 255, 255); stroke-opacity: 1;\"/><g class=\"slicetext\"><text data-notex=\"1\" class=\"slicetext\" text-anchor=\"middle\" x=\"0\" y=\"0\" style=\"font-family: 'Open Sans', verdana, arial, sans-serif; font-size: 12px; fill: rgb(255, 255, 255); fill-opacity: 1; white-space: pre;\" transform=\"translate(498.7174674950553,401.4391291681915)scale(0.8617316816900976)\"><tspan class=\"line\" dy=\"0em\" x=\"0\" y=\"0\">in</tspan><tspan class=\"line\" dy=\"1.3em\" x=\"0\" y=\"0\">44%</tspan></text></g></g><g class=\"slice cursor-pointer\"><path class=\"surface\" d=\"M436.06159532486043,366.33252380877985L522.1231906497209,392.6650476175597A180,180 0,0,0 529.8613957793123,347.062457668374L439.93069788965613,343.531228834187A90,90 0,0,1 436.06159532486043,366.33252380877985Z\" style=\"pointer-events: all; stroke-width: 1; fill: rgb(82, 188, 163); fill-opacity: 1; stroke: rgb(255, 255, 255); stroke-opacity: 1;\"/><g class=\"slicetext\"><text data-notex=\"1\" class=\"slicetext\" text-anchor=\"middle\" x=\"0\" y=\"0\" style=\"font-family: 'Open Sans', verdana, arial, sans-serif; font-size: 12px; fill: rgb(68, 68, 68); fill-opacity: 1; white-space: pre;\" transform=\"translate(507.21953526198666,363.43367706637554)scale(0.9837806729720954)\"><tspan class=\"line\" dy=\"0em\" x=\"0\" y=\"0\">in</tspan><tspan class=\"line\" dy=\"1.3em\" x=\"0\" y=\"0\">87%</tspan></text></g></g><g class=\"slice cursor-pointer\"><path class=\"surface\" d=\"M439.93069788965613,343.531228834187L529.8613957793123,347.062457668374A180,180 0,0,0 530,340.0000000000002L440,340.0000000000001A90,90 0,0,1 439.93069788965613,343.531228834187Z\" style=\"pointer-events: all; stroke-width: 1; fill: rgb(82, 188, 163); fill-opacity: 1; stroke: rgb(255, 255, 255); stroke-opacity: 1;\"/><g class=\"slicetext\"><text data-notex=\"1\" class=\"slicetext\" text-anchor=\"middle\" x=\"0\" y=\"0\" style=\"font-family: 'Open Sans', verdana, arial, sans-serif; font-size: 12px; fill: rgb(68, 68, 68); fill-opacity: 1; white-space: pre;\" transform=\"translate(526.4955768201908,342.9144361484359)scale(0.1662802342626142)\"><tspan class=\"line\" dy=\"0em\" x=\"0\" y=\"0\">out</tspan><tspan class=\"line\" dy=\"1.3em\" x=\"0\" y=\"0\">13%</tspan></text></g></g><g class=\"slice\"><path class=\"surface\" d=\"M530,340L620,340A270,270 0,0,0 95.30436337486708,250.3889923942474L180.20290891657805,280.2593282628316A180,180 0,0,1 530,340Z\" style=\"pointer-events: all; stroke-width: 1; fill: rgb(229, 134, 6); fill-opacity: 1; stroke: rgb(255, 255, 255); stroke-opacity: 1; opacity: 0.7;\"/><g class=\"slicetext\"><text data-notex=\"1\" class=\"slicetext\" text-anchor=\"middle\" x=\"0\" y=\"0\" style=\"font-family: 'Open Sans', verdana, arial, sans-serif; font-size: 12px; fill: rgb(68, 68, 68); fill-opacity: 1; white-space: pre;\" transform=\"translate(387.87854361500433,114.90663845732888)\"><tspan class=\"line\" dy=\"0em\" x=\"0\" y=\"0\">False</tspan><tspan class=\"line\" dy=\"1.3em\" x=\"0\" y=\"0\">55%</tspan></text></g></g><g class=\"slice\"><path class=\"surface\" d=\"M180.20290891657805,280.2593282628316L95.30436337486708,250.3889923942474A270,270 0,0,0 456.0565452489184,588.2982263526345L420.7043634992789,505.5321509017564A180,180 0,0,1 180.20290891657805,280.2593282628316Z\" style=\"pointer-events: all; stroke-width: 1; fill: rgb(229, 134, 6); fill-opacity: 1; stroke: rgb(255, 255, 255); stroke-opacity: 1; opacity: 0.7;\"/><g class=\"slicetext\"><text data-notex=\"1\" class=\"slicetext\" text-anchor=\"middle\" x=\"0\" y=\"0\" style=\"font-family: 'Open Sans', verdana, arial, sans-serif; font-size: 12px; fill: rgb(68, 68, 68); fill-opacity: 1; white-space: pre;\" transform=\"translate(196.1458937383069,500.9083823592181)\"><tspan class=\"line\" dy=\"0em\" x=\"0\" y=\"0\">True</tspan><tspan class=\"line\" dy=\"1.3em\" x=\"0\" y=\"0\">45%</tspan></text></g></g><g class=\"slice\"><path class=\"surface\" d=\"M420.70436349927877,505.5321509017564L456.05654524891816,588.2982263526346A270,270 0,0,0 537.9292796667273,533.8622857699377L475.2861864444849,469.2415238466251A180,180 0,0,1 420.70436349927877,505.5321509017564Z\" style=\"pointer-events: all; stroke-width: 1; fill: rgb(229, 134, 6); fill-opacity: 1; stroke: rgb(255, 255, 255); stroke-opacity: 1; opacity: 0.7;\"/><g class=\"slicetext\"><text data-notex=\"1\" class=\"slicetext\" text-anchor=\"middle\" x=\"0\" y=\"0\" style=\"font-family: 'Open Sans', verdana, arial, sans-serif; font-size: 12px; fill: rgb(68, 68, 68); fill-opacity: 1; white-space: pre;\" transform=\"translate(476.46590663347683,526.9025446315095)\"><tspan class=\"line\" dy=\"0em\" x=\"0\" y=\"0\">False</tspan><tspan class=\"line\" dy=\"1.3em\" x=\"0\" y=\"0\">99%</tspan></text></g></g><g class=\"slice\"><path class=\"surface\" d=\"M475.2861864444849,469.2415238466251L537.9292796667273,533.8622857699377A270,270 0,0,0 538.5864024619757,533.2231062954162L475.72426830798383,468.81540419694414A180,180 0,0,1 475.2861864444849,469.2415238466251Z\" style=\"pointer-events: all; stroke-width: 1; fill: rgb(229, 134, 6); fill-opacity: 1; stroke: rgb(255, 255, 255); stroke-opacity: 1; opacity: 0.7;\"/><g class=\"slicetext\"><text data-notex=\"1\" class=\"slicetext\" text-anchor=\"middle\" x=\"0\" y=\"0\" style=\"font-family: 'Open Sans', verdana, arial, sans-serif; font-size: 12px; fill: rgb(68, 68, 68); fill-opacity: 1; white-space: pre;\" transform=\"translate(537.9502580134115,533.140986355556)scale(0.022387590477500444)\"><tspan class=\"line\" dy=\"0em\" x=\"0\" y=\"0\">True</tspan><tspan class=\"line\" dy=\"1.3em\" x=\"0\" y=\"0\">1%</tspan></text></g></g><g class=\"slice\"><path class=\"surface\" d=\"M475.72426830798383,468.81540419694414L538.5864024619757,533.2231062954162A270,270 0,0,0 569.1968401466893,497.6475349306381L496.1312267644595,445.09835662042536A180,180 0,0,1 475.72426830798383,468.81540419694414Z\" style=\"pointer-events: all; stroke-width: 1; fill: rgb(93, 105, 177); fill-opacity: 1; stroke: rgb(255, 255, 255); stroke-opacity: 1; opacity: 0.7;\"/><g class=\"slicetext\"><text data-notex=\"1\" class=\"slicetext\" text-anchor=\"middle\" x=\"0\" y=\"0\" style=\"font-family: 'Open Sans', verdana, arial, sans-serif; font-size: 12px; fill: rgb(255, 255, 255); fill-opacity: 1; white-space: pre;\" transform=\"translate(538.3006216677595,498.71560407739486)\"><tspan class=\"line\" dy=\"0em\" x=\"0\" y=\"0\">False</tspan><tspan class=\"line\" dy=\"1.3em\" x=\"0\" y=\"0\">62%</tspan></text></g></g><g class=\"slice\"><path class=\"surface\" d=\"M496.1312267644595,445.09835662042536L569.1968401466893,497.6475349306381A270,270 0,0,0 584.4531225699332,473.9094220628553L506.30208171328877,429.27294804190353A180,180 0,0,1 496.1312267644595,445.09835662042536Z\" style=\"pointer-events: all; stroke-width: 1; fill: rgb(93, 105, 177); fill-opacity: 1; stroke: rgb(255, 255, 255); stroke-opacity: 1; opacity: 0.7;\"/><g class=\"slicetext\"><text data-notex=\"1\" class=\"slicetext\" text-anchor=\"middle\" x=\"0\" y=\"0\" style=\"font-family: 'Open Sans', verdana, arial, sans-serif; font-size: 12px; fill: rgb(255, 255, 255); fill-opacity: 1; white-space: pre;\" transform=\"translate(565.8305283640362,476.601560595387)scale(0.643641969216596)\"><tspan class=\"line\" dy=\"0em\" x=\"0\" y=\"0\">True</tspan><tspan class=\"line\" dy=\"1.3em\" x=\"0\" y=\"0\">38%</tspan></text></g></g><g class=\"slice\"><path class=\"surface\" d=\"M506.30208171328877,429.27294804190353L584.4531225699332,473.9094220628553A270,270 0,0,0 607.9551461165331,419.7442323431486L521.970097411022,393.1628215620991A180,180 0,0,1 506.30208171328877,429.27294804190353Z\" style=\"pointer-events: all; stroke-width: 1; fill: rgb(93, 105, 177); fill-opacity: 1; stroke: rgb(255, 255, 255); stroke-opacity: 1; opacity: 0.7;\"/><g class=\"slicetext\"><text data-notex=\"1\" class=\"slicetext\" text-anchor=\"middle\" x=\"0\" y=\"0\" style=\"font-family: 'Open Sans', verdana, arial, sans-serif; font-size: 12px; fill: rgb(255, 255, 255); fill-opacity: 1; white-space: pre;\" transform=\"translate(573.2759786327781,433.57371972744744)\"><tspan class=\"line\" dy=\"0em\" x=\"0\" y=\"0\">False</tspan><tspan class=\"line\" dy=\"1.3em\" x=\"0\" y=\"0\">99%</tspan></text></g></g><g class=\"slice\"><path class=\"surface\" d=\"M521.970097411022,393.1628215620991L607.9551461165331,419.7442323431486A270,270 0,0,0 608.1847859745814,418.9975714263395L522.1231906497209,392.6650476175597A180,180 0,0,1 521.970097411022,393.1628215620991Z\" style=\"pointer-events: all; stroke-width: 1; fill: rgb(93, 105, 177); fill-opacity: 1; stroke: rgb(255, 255, 255); stroke-opacity: 1; opacity: 0.7;\"/><g class=\"slicetext\"><text data-notex=\"1\" class=\"slicetext\" text-anchor=\"middle\" x=\"0\" y=\"0\" style=\"font-family: 'Open Sans', verdana, arial, sans-serif; font-size: 12px; fill: rgb(255, 255, 255); fill-opacity: 1; white-space: pre;\" transform=\"translate(607.7069861006293,419.1932695611253)scale(0.019082381164345626)\"><tspan class=\"line\" dy=\"0em\" x=\"0\" y=\"0\">True</tspan><tspan class=\"line\" dy=\"1.3em\" x=\"0\" y=\"0\">1%</tspan></text></g></g><g class=\"slice\"><path class=\"surface\" d=\"M522.1231906497209,392.6650476175597L608.1847859745814,418.9975714263395A270,270 0,0,0 619.7710907444448,351.1156915463028L529.8473938296298,347.41046103086853A180,180 0,0,1 522.1231906497209,392.6650476175597Z\" style=\"pointer-events: all; stroke-width: 1; fill: rgb(82, 188, 163); fill-opacity: 1; stroke: rgb(255, 255, 255); stroke-opacity: 1; opacity: 0.7;\"/><g class=\"slicetext\"><text data-notex=\"1\" class=\"slicetext\" text-anchor=\"middle\" x=\"0\" y=\"0\" style=\"font-family: 'Open Sans', verdana, arial, sans-serif; font-size: 12px; fill: rgb(68, 68, 68); fill-opacity: 1; white-space: pre;\" transform=\"translate(586.0488129499826,376.9849080774392)\"><tspan class=\"line\" dy=\"0em\" x=\"0\" y=\"0\">False</tspan><tspan class=\"line\" dy=\"1.3em\" x=\"0\" y=\"0\">99%</tspan></text></g></g><g class=\"slice\"><path class=\"surface\" d=\"M529.8473938296298,347.41046103086853L619.7710907444448,351.1156915463028A270,270 0,0,0 619.7920936689684,350.593686502561L529.8613957793123,347.062457668374A180,180 0,0,1 529.8473938296298,347.41046103086853Z\" style=\"pointer-events: all; stroke-width: 1; fill: rgb(82, 188, 163); fill-opacity: 1; stroke: rgb(255, 255, 255); stroke-opacity: 1; opacity: 0.7;\"/><g class=\"slicetext\"><text data-notex=\"1\" class=\"slicetext\" text-anchor=\"middle\" x=\"0\" y=\"0\" style=\"font-family: 'Open Sans', verdana, arial, sans-serif; font-size: 12px; fill: rgb(68, 68, 68); fill-opacity: 1; white-space: pre;\" transform=\"translate(619.5273521194133,350.80200910321497)scale(0.012767830157738571)\"><tspan class=\"line\" dy=\"0em\" x=\"0\" y=\"0\">True</tspan><tspan class=\"line\" dy=\"1.3em\" x=\"0\" y=\"0\">1%</tspan></text></g></g><g class=\"slice\"><path class=\"surface\" d=\"M529.8613957793123,347.062457668374L619.7920936689684,350.593686502561A270,270 0,0,0 619.9741208045277,343.7381941926885L529.9827472030186,342.49212946179233A180,180 0,0,1 529.8613957793123,347.062457668374Z\" style=\"pointer-events: all; stroke-width: 1; fill: rgb(82, 188, 163); fill-opacity: 1; stroke: rgb(255, 255, 255); stroke-opacity: 1; opacity: 0.7;\"/><g class=\"slicetext\"><text data-notex=\"1\" class=\"slicetext\" text-anchor=\"middle\" x=\"0\" y=\"0\" style=\"font-family: 'Open Sans', verdana, arial, sans-serif; font-size: 12px; fill: rgb(68, 68, 68); fill-opacity: 1; white-space: pre;\" transform=\"translate(616.5201137389219,346.5563591125531)scale(0.15743908639582235)\"><tspan class=\"line\" dy=\"0em\" x=\"0\" y=\"0\">False</tspan><tspan class=\"line\" dy=\"1.3em\" x=\"0\" y=\"0\">65%</tspan></text></g></g><g class=\"slice\"><path class=\"surface\" d=\"M529.9827472030186,342.49212946179233L619.9741208045277,343.7381941926885A270,270 0,0,0 620,340.0000000000003L530,340.0000000000002A180,180 0,0,1 529.9827472030186,342.49212946179233Z\" style=\"pointer-events: all; stroke-width: 1; fill: rgb(82, 188, 163); fill-opacity: 1; stroke: rgb(255, 255, 255); stroke-opacity: 1; opacity: 0.7;\"/><g class=\"slicetext\"><text data-notex=\"1\" class=\"slicetext\" text-anchor=\"middle\" x=\"0\" y=\"0\" style=\"font-family: 'Open Sans', verdana, arial, sans-serif; font-size: 12px; fill: rgb(68, 68, 68); fill-opacity: 1; white-space: pre;\" transform=\"translate(618.1338025769736,341.5618173979831)scale(0.08910792674301565)\"><tspan class=\"line\" dy=\"0em\" x=\"0\" y=\"0\">True</tspan><tspan class=\"line\" dy=\"1.3em\" x=\"0\" y=\"0\">35%</tspan></text></g></g></g></g><g class=\"glimages\"/><defs id=\"topdefs-050002\"><g class=\"clips\"/></defs><g class=\"layer-above\"><g class=\"imagelayer\"/><g class=\"shapelayer\"/></g><g class=\"infolayer\"><g class=\"g-gtitle\"><text class=\"gtitle\" x=\"35\" y=\"30\" text-anchor=\"start\" dy=\"0em\" style=\"font-family: 'Open Sans', verdana, arial, sans-serif; font-size: 17px; fill: rgb(42, 63, 95); opacity: 1; font-weight: normal; white-space: pre;\">Количество звонков по типу колл-центра</text></g></g></svg>"
      ]
     },
     "metadata": {},
     "output_type": "display_data"
    }
   ],
   "source": [
    "fig = px.sunburst(cc_type_gen, path=['cc_type','direction', 'is_missed_call'], values='calls_count', color_discrete_sequence=px.colors.qualitative.Vivid)\n",
    "\n",
    "fig.update_layout(title='Количество звонков по типу колл-центра',\n",
    "                  width=700,\n",
    "                  height=700)\n",
    "fig.update_traces(textinfo='label+percent parent', insidetextorientation='horizontal')\n",
    "fig.show(\"svg\")"
   ]
  },
  {
   "cell_type": "markdown",
   "metadata": {},
   "source": [
    "* На КЦ с исходящими звонками приходится 87% всех совершенных вызовов, они совершают 93% исходящих звонков и 7% входящих, и из этого количества 45% исходящих звонков адресатами не принимаются, среди входящих принимается 99% звонков. \n",
    "\n",
    "* На колл-центры, работающие в оба направления, приходится всего 8% всех звонков, но из них не принимается 1% входящих и 38% исходящих звонков. \n",
    "\n",
    "* Колл-центры, работающие по входящим обращениям, занимают всего 5% от общего числа звонков. Они получили 87% входящих звонков и 13% исходящих, при этом из входящих звонков был пропущен всего 1% звонков, в то время как исходящих звонков не было принято 35%.\n",
    "\n",
    "Здесь можно заметить закономерность, что у всех типов колл-центров из исходящих звонков не принимается от 35% до 45%. Это вполне логично может быть связано с тем, что многие абоненты не любят разного рода рекламные звонки, часто запоминают номера колл-центров, и, если звонка они не ждут, скорее пропустят звонок с неизвестного номера, похожего на номер колл-центра. Тем не менее, чуть больше половины успешных исходящих звонков у специализированных КЦ с учетом объема - это достаточно высокий показатель при условии, что такие звонки приносят новых клиентов или выручку."
   ]
  },
  {
   "cell_type": "code",
   "execution_count": 43,
   "metadata": {},
   "outputs": [
    {
     "data": {
      "image/svg+xml": [
       "<svg class=\"main-svg\" xmlns=\"http://www.w3.org/2000/svg\" xmlns:xlink=\"http://www.w3.org/1999/xlink\" width=\"1024\" height=\"768\" style=\"\" viewBox=\"0 0 1024 768\"><rect x=\"0\" y=\"0\" width=\"1024\" height=\"768\" style=\"fill: rgb(255, 255, 255); fill-opacity: 1;\"/><defs id=\"defs-575b5c\"><g class=\"clips\"><clipPath id=\"clip575b5cxyplot\" class=\"plotclip\"><rect width=\"759\" height=\"628\"/></clipPath><clipPath class=\"axesclip\" id=\"clip575b5cx\"><rect x=\"80\" y=\"0\" width=\"759\" height=\"768\"/></clipPath><clipPath class=\"axesclip\" id=\"clip575b5cy\"><rect x=\"0\" y=\"60\" width=\"1024\" height=\"628\"/></clipPath><clipPath class=\"axesclip\" id=\"clip575b5cxy\"><rect x=\"80\" y=\"60\" width=\"759\" height=\"628\"/></clipPath></g><g class=\"gradients\"/><g class=\"patterns\"/></defs><g class=\"bglayer\"><rect class=\"bg\" x=\"80\" y=\"60\" width=\"759\" height=\"628\" style=\"fill: rgb(229, 236, 246); fill-opacity: 1; stroke-width: 0;\"/></g><g class=\"layer-below\"><g class=\"imagelayer\"/><g class=\"shapelayer\"/></g><g class=\"cartesianlayer\"><g class=\"subplot xy\"><g class=\"layer-subplot\"><g class=\"shapelayer\"/><g class=\"imagelayer\"/></g><g class=\"minor-gridlayer\"><g class=\"x\"/><g class=\"y\"/></g><g class=\"gridlayer\"><g class=\"x\"/><g class=\"y\"><path class=\"ygrid crisp\" transform=\"translate(0,625.02)\" d=\"M80,0h759\" style=\"stroke: rgb(255, 255, 255); stroke-opacity: 1; stroke-width: 1px;\"/><path class=\"ygrid crisp\" transform=\"translate(0,562.04)\" d=\"M80,0h759\" style=\"stroke: rgb(255, 255, 255); stroke-opacity: 1; stroke-width: 1px;\"/><path class=\"ygrid crisp\" transform=\"translate(0,499.05)\" d=\"M80,0h759\" style=\"stroke: rgb(255, 255, 255); stroke-opacity: 1; stroke-width: 1px;\"/><path class=\"ygrid crisp\" transform=\"translate(0,436.07)\" d=\"M80,0h759\" style=\"stroke: rgb(255, 255, 255); stroke-opacity: 1; stroke-width: 1px;\"/><path class=\"ygrid crisp\" transform=\"translate(0,373.09)\" d=\"M80,0h759\" style=\"stroke: rgb(255, 255, 255); stroke-opacity: 1; stroke-width: 1px;\"/><path class=\"ygrid crisp\" transform=\"translate(0,310.11)\" d=\"M80,0h759\" style=\"stroke: rgb(255, 255, 255); stroke-opacity: 1; stroke-width: 1px;\"/><path class=\"ygrid crisp\" transform=\"translate(0,247.13)\" d=\"M80,0h759\" style=\"stroke: rgb(255, 255, 255); stroke-opacity: 1; stroke-width: 1px;\"/><path class=\"ygrid crisp\" transform=\"translate(0,184.15)\" d=\"M80,0h759\" style=\"stroke: rgb(255, 255, 255); stroke-opacity: 1; stroke-width: 1px;\"/><path class=\"ygrid crisp\" transform=\"translate(0,121.16)\" d=\"M80,0h759\" style=\"stroke: rgb(255, 255, 255); stroke-opacity: 1; stroke-width: 1px;\"/></g></g><g class=\"zerolinelayer\"><path class=\"yzl zl crisp\" transform=\"translate(0,688)\" d=\"M80,0h759\" style=\"stroke: rgb(255, 255, 255); stroke-opacity: 1; stroke-width: 2px;\"/></g><path class=\"xlines-below\"/><path class=\"ylines-below\"/><g class=\"overlines-below\"/><g class=\"xaxislayer-below\"/><g class=\"yaxislayer-below\"/><g class=\"overaxes-below\"/><g class=\"plot\" transform=\"translate(80,60)\" clip-path=\"url(#clip575b5cxyplot)\"><g class=\"barlayer mlayer\"><g class=\"trace bars\" style=\"opacity: 1;\"><g class=\"points\"><g class=\"point\"><path d=\"M25.3,628V480.32H92.77V628Z\" style=\"vector-effect: non-scaling-stroke; opacity: 1; stroke-width: 0px; fill: rgb(99, 110, 250); fill-opacity: 1;\"/></g><g class=\"point\"><path d=\"M278.3,628V347.42H345.77V628Z\" style=\"vector-effect: non-scaling-stroke; opacity: 1; stroke-width: 0px; fill: rgb(99, 110, 250); fill-opacity: 1;\"/></g><g class=\"point\"><path d=\"M531.3,628V181.83H598.77V628Z\" style=\"vector-effect: non-scaling-stroke; opacity: 1; stroke-width: 0px; fill: rgb(99, 110, 250); fill-opacity: 1;\"/></g></g></g><g class=\"trace bars\" style=\"opacity: 1;\"><g class=\"points\"><g class=\"point\"><path d=\"M92.77,628V446.53H160.23V628Z\" style=\"vector-effect: non-scaling-stroke; opacity: 1; stroke-width: 0px; fill: rgb(239, 85, 59); fill-opacity: 1;\"/></g><g class=\"point\"><path d=\"M345.77,628V270.72H413.23V628Z\" style=\"vector-effect: non-scaling-stroke; opacity: 1; stroke-width: 0px; fill: rgb(239, 85, 59); fill-opacity: 1;\"/></g><g class=\"point\"><path d=\"M598.77,628V31.4H666.23V628Z\" style=\"vector-effect: non-scaling-stroke; opacity: 1; stroke-width: 0px; fill: rgb(239, 85, 59); fill-opacity: 1;\"/></g></g></g><g class=\"trace bars\" style=\"opacity: 1;\"><g class=\"points\"><g class=\"point\"><path d=\"M160.23,628V594.21H227.7V628Z\" style=\"vector-effect: non-scaling-stroke; opacity: 1; stroke-width: 0px; fill: rgb(0, 204, 150); fill-opacity: 1;\"/></g><g class=\"point\"><path d=\"M413.23,628V551.3H480.7V628Z\" style=\"vector-effect: non-scaling-stroke; opacity: 1; stroke-width: 0px; fill: rgb(0, 204, 150); fill-opacity: 1;\"/></g><g class=\"point\"><path d=\"M666.23,628V477.57H733.7V628Z\" style=\"vector-effect: non-scaling-stroke; opacity: 1; stroke-width: 0px; fill: rgb(0, 204, 150); fill-opacity: 1;\"/></g></g></g></g></g><g class=\"overplot\"/><path class=\"xlines-above crisp\" d=\"M0,0\" style=\"fill: none;\"/><path class=\"ylines-above crisp\" d=\"M0,0\" style=\"fill: none;\"/><g class=\"overlines-above\"/><g class=\"xaxislayer-above\"><g class=\"xtick\"><text text-anchor=\"middle\" x=\"0\" y=\"701\" transform=\"translate(206.5,0)\" style=\"font-family: 'Open Sans', verdana, arial, sans-serif; font-size: 12px; fill: rgb(42, 63, 95); fill-opacity: 1; white-space: pre; opacity: 1;\">inbound</text></g><g class=\"xtick\"><text text-anchor=\"middle\" x=\"0\" y=\"701\" transform=\"translate(459.5,0)\" style=\"font-family: 'Open Sans', verdana, arial, sans-serif; font-size: 12px; fill: rgb(42, 63, 95); fill-opacity: 1; white-space: pre; opacity: 1;\">middle</text></g><g class=\"xtick\"><text text-anchor=\"middle\" x=\"0\" y=\"701\" transform=\"translate(712.5,0)\" style=\"font-family: 'Open Sans', verdana, arial, sans-serif; font-size: 12px; fill: rgb(42, 63, 95); fill-opacity: 1; white-space: pre; opacity: 1;\">outbound</text></g></g><g class=\"yaxislayer-above\"><g class=\"ytick\"><text text-anchor=\"end\" x=\"79\" y=\"4.199999999999999\" transform=\"translate(0,688)\" style=\"font-family: 'Open Sans', verdana, arial, sans-serif; font-size: 12px; fill: rgb(42, 63, 95); fill-opacity: 1; white-space: pre; opacity: 1;\">0</text></g><g class=\"ytick\"><text text-anchor=\"end\" x=\"79\" y=\"4.199999999999999\" style=\"font-family: 'Open Sans', verdana, arial, sans-serif; font-size: 12px; fill: rgb(42, 63, 95); fill-opacity: 1; white-space: pre; opacity: 1;\" transform=\"translate(0,625.02)\">500</text></g><g class=\"ytick\"><text text-anchor=\"end\" x=\"79\" y=\"4.199999999999999\" style=\"font-family: 'Open Sans', verdana, arial, sans-serif; font-size: 12px; fill: rgb(42, 63, 95); fill-opacity: 1; white-space: pre; opacity: 1;\" transform=\"translate(0,562.04)\">1000</text></g><g class=\"ytick\"><text text-anchor=\"end\" x=\"79\" y=\"4.199999999999999\" style=\"font-family: 'Open Sans', verdana, arial, sans-serif; font-size: 12px; fill: rgb(42, 63, 95); fill-opacity: 1; white-space: pre; opacity: 1;\" transform=\"translate(0,499.05)\">1500</text></g><g class=\"ytick\"><text text-anchor=\"end\" x=\"79\" y=\"4.199999999999999\" style=\"font-family: 'Open Sans', verdana, arial, sans-serif; font-size: 12px; fill: rgb(42, 63, 95); fill-opacity: 1; white-space: pre; opacity: 1;\" transform=\"translate(0,436.07)\">2000</text></g><g class=\"ytick\"><text text-anchor=\"end\" x=\"79\" y=\"4.199999999999999\" style=\"font-family: 'Open Sans', verdana, arial, sans-serif; font-size: 12px; fill: rgb(42, 63, 95); fill-opacity: 1; white-space: pre; opacity: 1;\" transform=\"translate(0,373.09)\">2500</text></g><g class=\"ytick\"><text text-anchor=\"end\" x=\"79\" y=\"4.199999999999999\" style=\"font-family: 'Open Sans', verdana, arial, sans-serif; font-size: 12px; fill: rgb(42, 63, 95); fill-opacity: 1; white-space: pre; opacity: 1;\" transform=\"translate(0,310.11)\">3000</text></g><g class=\"ytick\"><text text-anchor=\"end\" x=\"79\" y=\"4.199999999999999\" style=\"font-family: 'Open Sans', verdana, arial, sans-serif; font-size: 12px; fill: rgb(42, 63, 95); fill-opacity: 1; white-space: pre; opacity: 1;\" transform=\"translate(0,247.13)\">3500</text></g><g class=\"ytick\"><text text-anchor=\"end\" x=\"79\" y=\"4.199999999999999\" style=\"font-family: 'Open Sans', verdana, arial, sans-serif; font-size: 12px; fill: rgb(42, 63, 95); fill-opacity: 1; white-space: pre; opacity: 1;\" transform=\"translate(0,184.15)\">4000</text></g><g class=\"ytick\"><text text-anchor=\"end\" x=\"79\" y=\"4.199999999999999\" style=\"font-family: 'Open Sans', verdana, arial, sans-serif; font-size: 12px; fill: rgb(42, 63, 95); fill-opacity: 1; white-space: pre; opacity: 1;\" transform=\"translate(0,121.16)\">4500</text></g></g><g class=\"overaxes-above\"/></g></g><g class=\"polarlayer\"/><g class=\"smithlayer\"/><g class=\"ternarylayer\"/><g class=\"geolayer\"/><g class=\"funnelarealayer\"/><g class=\"pielayer\"/><g class=\"iciclelayer\"/><g class=\"treemaplayer\"/><g class=\"sunburstlayer\"/><g class=\"glimages\"/><defs id=\"topdefs-575b5c\"><g class=\"clips\"/><clipPath id=\"legend575b5c\"><rect width=\"158\" height=\"86\" x=\"0\" y=\"0\"/></clipPath></defs><g class=\"layer-above\"><g class=\"imagelayer\"/><g class=\"shapelayer\"/></g><g class=\"infolayer\"><g class=\"legend\" pointer-events=\"all\" transform=\"translate(854.1800000000001,60)\"><rect class=\"bg\" shape-rendering=\"crispEdges\" style=\"stroke: rgb(68, 68, 68); stroke-opacity: 1; fill: rgb(255, 255, 255); fill-opacity: 1; stroke-width: 0px;\" width=\"158\" height=\"86\" x=\"0\" y=\"0\"/><g class=\"scrollbox\" transform=\"\" clip-path=\"url(#legend575b5c)\"><text class=\"legendtitletext\" text-anchor=\"start\" x=\"2\" y=\"18.2\" style=\"font-family: 'Open Sans', verdana, arial, sans-serif; font-size: 14px; fill: rgb(42, 63, 95); fill-opacity: 1; white-space: pre;\">Показатель</text><g class=\"groups\" transform=\"\"><g class=\"traces\" transform=\"translate(0,32.7)\" style=\"opacity: 1;\"><text class=\"legendtext\" text-anchor=\"start\" x=\"40\" y=\"4.680000000000001\" style=\"font-family: 'Open Sans', verdana, arial, sans-serif; font-size: 12px; fill: rgb(42, 63, 95); fill-opacity: 1; white-space: pre;\">call_duration</text><g class=\"layers\" style=\"opacity: 1;\"><g class=\"legendfill\"/><g class=\"legendlines\"/><g class=\"legendsymbols\"><g class=\"legendpoints\"><path class=\"legendundefined\" d=\"M6,6H-6V-6H6Z\" transform=\"translate(20,0)\" style=\"stroke-width: 0px; fill: rgb(99, 110, 250); fill-opacity: 1;\"/></g></g></g><rect class=\"legendtoggle\" x=\"0\" y=\"-9.5\" width=\"152.640625\" height=\"19\" style=\"fill: rgb(0, 0, 0); fill-opacity: 0;\"/></g></g><g class=\"groups\" transform=\"\"><g class=\"traces\" transform=\"translate(0,51.7)\" style=\"opacity: 1;\"><text class=\"legendtext\" text-anchor=\"start\" x=\"40\" y=\"4.680000000000001\" style=\"font-family: 'Open Sans', verdana, arial, sans-serif; font-size: 12px; fill: rgb(42, 63, 95); fill-opacity: 1; white-space: pre;\">total_call_duration</text><g class=\"layers\" style=\"opacity: 1;\"><g class=\"legendfill\"/><g class=\"legendlines\"/><g class=\"legendsymbols\"><g class=\"legendpoints\"><path class=\"legendundefined\" d=\"M6,6H-6V-6H6Z\" transform=\"translate(20,0)\" style=\"stroke-width: 0px; fill: rgb(239, 85, 59); fill-opacity: 1;\"/></g></g></g><rect class=\"legendtoggle\" x=\"0\" y=\"-9.5\" width=\"152.640625\" height=\"19\" style=\"fill: rgb(0, 0, 0); fill-opacity: 0;\"/></g></g><g class=\"groups\" transform=\"\"><g class=\"traces\" transform=\"translate(0,70.7)\" style=\"opacity: 1;\"><text class=\"legendtext\" text-anchor=\"start\" x=\"40\" y=\"4.680000000000001\" style=\"font-family: 'Open Sans', verdana, arial, sans-serif; font-size: 12px; fill: rgb(42, 63, 95); fill-opacity: 1; white-space: pre;\">wait_time</text><g class=\"layers\" style=\"opacity: 1;\"><g class=\"legendfill\"/><g class=\"legendlines\"/><g class=\"legendsymbols\"><g class=\"legendpoints\"><path class=\"legendundefined\" d=\"M6,6H-6V-6H6Z\" transform=\"translate(20,0)\" style=\"stroke-width: 0px; fill: rgb(0, 204, 150); fill-opacity: 1;\"/></g></g></g><rect class=\"legendtoggle\" x=\"0\" y=\"-9.5\" width=\"152.640625\" height=\"19\" style=\"fill: rgb(0, 0, 0); fill-opacity: 0;\"/></g></g></g><rect class=\"scrollbar\" rx=\"20\" ry=\"3\" width=\"0\" height=\"0\" style=\"fill: rgb(128, 139, 164); fill-opacity: 1;\" x=\"0\" y=\"0\"/></g><g class=\"g-gtitle\"><text class=\"gtitle\" x=\"51.2\" y=\"30\" text-anchor=\"start\" dy=\"0em\" style=\"font-family: 'Open Sans', verdana, arial, sans-serif; font-size: 17px; fill: rgb(42, 63, 95); opacity: 1; font-weight: normal; white-space: pre;\">Средняя длительность звонка, разговора и ожидания по типам КЦ</text></g><g class=\"g-xtitle\"><text class=\"xtitle\" x=\"459.5\" y=\"728.8\" text-anchor=\"middle\" style=\"font-family: 'Open Sans', verdana, arial, sans-serif; font-size: 14px; fill: rgb(42, 63, 95); opacity: 1; font-weight: normal; white-space: pre;\">Тип колл-центра</text></g><g class=\"g-ytitle\"><text class=\"ytitle\" transform=\"rotate(-90,23.684375000000003,374)\" x=\"23.684375000000003\" y=\"374\" text-anchor=\"middle\" style=\"font-family: 'Open Sans', verdana, arial, sans-serif; font-size: 14px; fill: rgb(42, 63, 95); opacity: 1; font-weight: normal; white-space: pre;\">Длительность, секунд</text></g></g></svg>"
      ]
     },
     "metadata": {},
     "output_type": "display_data"
    }
   ],
   "source": [
    "fig= px.histogram(cc_type_gen, x=\"cc_type\", y=['call_duration','total_call_duration','wait_time'],barmode='group')\n",
    "fig.update_layout(width=1024,\n",
    "                  height=768,\n",
    "                    title='Средняя длительность звонка, разговора и ожидания по типам КЦ',\n",
    "                   xaxis_title='Тип колл-центра',\n",
    "                   yaxis_title='Длительность, секунд',\n",
    "                 legend_title_text='Показатель')\n",
    "fig.show(\"svg\")"
   ]
  },
  {
   "cell_type": "markdown",
   "metadata": {},
   "source": [
    "На диаграмме явно видно, что наименьшее время ожидания и разговора у колл-центров, работающих с входящими обращениями. В среднем, время разговора в них составляет 1172 секунды (или 19,53 минуты), время ожидания - в среднем 268,21 секунд (4,47 минут).\n",
    "\n",
    "Наибольшее время ожидания и разговора - в КЦ, работающих на исходящие вызовы. Здесь среднее значение длительности разговора составляет 3542 секунды (или 59 минут *прим.автора: очень редко бывает так, что вызов может длиться дольше - большинством операторов мобильной связи установлен порог 1 соединения в 60 минут, и превышающие значения могут быть только на стационарных телефонах*). В свою очередь, оператор ожидает соединения в среднем в течение 1194 секунд (19,9 минут). Это достаточно высокие показатели, и, при учете длительности рабочей смены в 8 часов, количество проведенных одним оператором разговоров будет значительно меньше, чем у его коллеги из колл-центра, работающего на входящих обращениях."
   ]
  },
  {
   "cell_type": "markdown",
   "metadata": {},
   "source": [
    "Также рассмотрим на диаграммах размаха количество сотрудников, задействованных в каждом типе колл-центра."
   ]
  },
  {
   "cell_type": "code",
   "execution_count": 44,
   "metadata": {},
   "outputs": [
    {
     "data": {
      "text/html": [
       "<div>\n",
       "<style scoped>\n",
       "    .dataframe tbody tr th:only-of-type {\n",
       "        vertical-align: middle;\n",
       "    }\n",
       "\n",
       "    .dataframe tbody tr th {\n",
       "        vertical-align: top;\n",
       "    }\n",
       "\n",
       "    .dataframe thead th {\n",
       "        text-align: right;\n",
       "    }\n",
       "</style>\n",
       "<table border=\"1\" class=\"dataframe\">\n",
       "  <thead>\n",
       "    <tr style=\"text-align: right;\">\n",
       "      <th></th>\n",
       "      <th>user_id</th>\n",
       "      <th>cc_type</th>\n",
       "      <th>operator_id</th>\n",
       "    </tr>\n",
       "  </thead>\n",
       "  <tbody>\n",
       "    <tr>\n",
       "      <th>0</th>\n",
       "      <td>166377</td>\n",
       "      <td>outbound</td>\n",
       "      <td>5</td>\n",
       "    </tr>\n",
       "    <tr>\n",
       "      <th>1</th>\n",
       "      <td>166391</td>\n",
       "      <td>inbound</td>\n",
       "      <td>2</td>\n",
       "    </tr>\n",
       "    <tr>\n",
       "      <th>2</th>\n",
       "      <td>166392</td>\n",
       "      <td>inbound</td>\n",
       "      <td>3</td>\n",
       "    </tr>\n",
       "    <tr>\n",
       "      <th>3</th>\n",
       "      <td>166399</td>\n",
       "      <td>inbound</td>\n",
       "      <td>1</td>\n",
       "    </tr>\n",
       "    <tr>\n",
       "      <th>4</th>\n",
       "      <td>166405</td>\n",
       "      <td>outbound</td>\n",
       "      <td>10</td>\n",
       "    </tr>\n",
       "    <tr>\n",
       "      <th>...</th>\n",
       "      <td>...</td>\n",
       "      <td>...</td>\n",
       "      <td>...</td>\n",
       "    </tr>\n",
       "    <tr>\n",
       "      <th>285</th>\n",
       "      <td>168583</td>\n",
       "      <td>inbound</td>\n",
       "      <td>2</td>\n",
       "    </tr>\n",
       "    <tr>\n",
       "      <th>286</th>\n",
       "      <td>168598</td>\n",
       "      <td>inbound</td>\n",
       "      <td>1</td>\n",
       "    </tr>\n",
       "    <tr>\n",
       "      <th>287</th>\n",
       "      <td>168601</td>\n",
       "      <td>outbound</td>\n",
       "      <td>2</td>\n",
       "    </tr>\n",
       "    <tr>\n",
       "      <th>288</th>\n",
       "      <td>168603</td>\n",
       "      <td>outbound</td>\n",
       "      <td>1</td>\n",
       "    </tr>\n",
       "    <tr>\n",
       "      <th>289</th>\n",
       "      <td>168606</td>\n",
       "      <td>outbound</td>\n",
       "      <td>1</td>\n",
       "    </tr>\n",
       "  </tbody>\n",
       "</table>\n",
       "<p>290 rows × 3 columns</p>\n",
       "</div>"
      ],
      "text/plain": [
       "     user_id   cc_type  operator_id\n",
       "0     166377  outbound            5\n",
       "1     166391   inbound            2\n",
       "2     166392   inbound            3\n",
       "3     166399   inbound            1\n",
       "4     166405  outbound           10\n",
       "..       ...       ...          ...\n",
       "285   168583   inbound            2\n",
       "286   168598   inbound            1\n",
       "287   168601  outbound            2\n",
       "288   168603  outbound            1\n",
       "289   168606  outbound            1\n",
       "\n",
       "[290 rows x 3 columns]"
      ]
     },
     "execution_count": 44,
     "metadata": {},
     "output_type": "execute_result"
    }
   ],
   "source": [
    "cc_type_ppl = df.query('internal == False').pivot_table(index=['user_id','cc_type'],values=['operator_id'],\n",
    "                                                     aggfunc={'operator_id':'nunique'}).reset_index()\n",
    "cc_type_ppl"
   ]
  },
  {
   "cell_type": "code",
   "execution_count": 45,
   "metadata": {},
   "outputs": [
    {
     "data": {
      "image/svg+xml": [
       "<svg class=\"main-svg\" xmlns=\"http://www.w3.org/2000/svg\" xmlns:xlink=\"http://www.w3.org/1999/xlink\" width=\"700\" height=\"500\" style=\"\" viewBox=\"0 0 700 500\"><rect x=\"0\" y=\"0\" width=\"700\" height=\"500\" style=\"fill: rgb(255, 255, 255); fill-opacity: 1;\"/><defs id=\"defs-8f484e\"><g class=\"clips\"><clipPath id=\"clip8f484exyplot\" class=\"plotclip\"><rect width=\"471\" height=\"360\"/></clipPath><clipPath class=\"axesclip\" id=\"clip8f484ex\"><rect x=\"80\" y=\"0\" width=\"471\" height=\"500\"/></clipPath><clipPath class=\"axesclip\" id=\"clip8f484ey\"><rect x=\"0\" y=\"60\" width=\"700\" height=\"360\"/></clipPath><clipPath class=\"axesclip\" id=\"clip8f484exy\"><rect x=\"80\" y=\"60\" width=\"471\" height=\"360\"/></clipPath></g><g class=\"gradients\"/><g class=\"patterns\"/></defs><g class=\"bglayer\"><rect class=\"bg\" x=\"80\" y=\"60\" width=\"471\" height=\"360\" style=\"fill: rgb(229, 236, 246); fill-opacity: 1; stroke-width: 0;\"/></g><g class=\"layer-below\"><g class=\"imagelayer\"/><g class=\"shapelayer\"/></g><g class=\"cartesianlayer\"><g class=\"subplot xy\"><g class=\"layer-subplot\"><g class=\"shapelayer\"/><g class=\"imagelayer\"/></g><g class=\"minor-gridlayer\"><g class=\"x\"/><g class=\"y\"/></g><g class=\"gridlayer\"><g class=\"x\"/><g class=\"y\"><path class=\"ygrid crisp\" transform=\"translate(0,339.96)\" d=\"M80,0h471\" style=\"stroke: rgb(255, 255, 255); stroke-opacity: 1; stroke-width: 1px;\"/><path class=\"ygrid crisp\" transform=\"translate(0,271.02)\" d=\"M80,0h471\" style=\"stroke: rgb(255, 255, 255); stroke-opacity: 1; stroke-width: 1px;\"/><path class=\"ygrid crisp\" transform=\"translate(0,202.09)\" d=\"M80,0h471\" style=\"stroke: rgb(255, 255, 255); stroke-opacity: 1; stroke-width: 1px;\"/><path class=\"ygrid crisp\" transform=\"translate(0,133.15)\" d=\"M80,0h471\" style=\"stroke: rgb(255, 255, 255); stroke-opacity: 1; stroke-width: 1px;\"/><path class=\"ygrid crisp\" transform=\"translate(0,64.21)\" d=\"M80,0h471\" style=\"stroke: rgb(255, 255, 255); stroke-opacity: 1; stroke-width: 1px;\"/></g></g><g class=\"zerolinelayer\"><path class=\"yzl zl crisp\" transform=\"translate(0,408.89)\" d=\"M80,0h471\" style=\"stroke: rgb(255, 255, 255); stroke-opacity: 1; stroke-width: 2px;\"/></g><path class=\"xlines-below\"/><path class=\"ylines-below\"/><g class=\"overlines-below\"/><g class=\"xaxislayer-below\"/><g class=\"yaxislayer-below\"/><g class=\"overaxes-below\"/><g class=\"plot\" transform=\"translate(80,60)\" clip-path=\"url(#clip8f484exyplot)\"><g class=\"boxlayer mlayer\"><g class=\"trace boxes\" style=\"opacity: 1;\"><path class=\"box\" d=\"M89.03,328.21H164.98M89.03,342H164.98V314.43H89.03ZM127,342V342M127,314.43V273.06M108.01,342H145.99M108.01,273.06H145.99\" style=\"vector-effect: non-scaling-stroke; stroke-width: 2px; stroke: rgb(99, 110, 250); stroke-opacity: 1; fill: rgb(99, 110, 250); fill-opacity: 0.5;\"/><g class=\"points\"><path class=\"point\" transform=\"translate(127,259.28)\" d=\"M3,0A3,3 0 1,1 0,-3A3,3 0 0,1 3,0Z\" style=\"opacity: 1; stroke-width: 0px; fill: rgb(99, 110, 250); fill-opacity: 1;\"/><path class=\"point\" transform=\"translate(127,259.28)\" d=\"M3,0A3,3 0 1,1 0,-3A3,3 0 0,1 3,0Z\" style=\"opacity: 1; stroke-width: 0px; fill: rgb(99, 110, 250); fill-opacity: 1;\"/><path class=\"point\" transform=\"translate(127,245.49)\" d=\"M3,0A3,3 0 1,1 0,-3A3,3 0 0,1 3,0Z\" style=\"opacity: 1; stroke-width: 0px; fill: rgb(99, 110, 250); fill-opacity: 1;\"/><path class=\"point\" transform=\"translate(127,231.7)\" d=\"M3,0A3,3 0 1,1 0,-3A3,3 0 0,1 3,0Z\" style=\"opacity: 1; stroke-width: 0px; fill: rgb(99, 110, 250); fill-opacity: 1;\"/><path class=\"point\" transform=\"translate(127,224.81)\" d=\"M3,0A3,3 0 1,1 0,-3A3,3 0 0,1 3,0Z\" style=\"opacity: 1; stroke-width: 0px; fill: rgb(99, 110, 250); fill-opacity: 1;\"/><path class=\"point\" transform=\"translate(127,204.13)\" d=\"M3,0A3,3 0 1,1 0,-3A3,3 0 0,1 3,0Z\" style=\"opacity: 1; stroke-width: 0px; fill: rgb(99, 110, 250); fill-opacity: 1;\"/><path class=\"point\" transform=\"translate(127,162.77)\" d=\"M3,0A3,3 0 1,1 0,-3A3,3 0 0,1 3,0Z\" style=\"opacity: 1; stroke-width: 0px; fill: rgb(99, 110, 250); fill-opacity: 1;\"/><path class=\"point\" transform=\"translate(127,162.77)\" d=\"M3,0A3,3 0 1,1 0,-3A3,3 0 0,1 3,0Z\" style=\"opacity: 1; stroke-width: 0px; fill: rgb(99, 110, 250); fill-opacity: 1;\"/><path class=\"point\" transform=\"translate(127,142.09)\" d=\"M3,0A3,3 0 1,1 0,-3A3,3 0 0,1 3,0Z\" style=\"opacity: 1; stroke-width: 0px; fill: rgb(99, 110, 250); fill-opacity: 1;\"/><path class=\"point\" transform=\"translate(127,18)\" d=\"M3,0A3,3 0 1,1 0,-3A3,3 0 0,1 3,0Z\" style=\"opacity: 1; stroke-width: 0px; fill: rgb(99, 110, 250); fill-opacity: 1;\"/><path class=\"point\" transform=\"translate(127,18)\" d=\"M3,0A3,3 0 1,1 0,-3A3,3 0 0,1 3,0Z\" style=\"opacity: 1; stroke-width: 0px; fill: rgb(99, 110, 250); fill-opacity: 1;\"/></g></g><g class=\"trace boxes\" style=\"opacity: 1;\"><path class=\"box\" d=\"M197.53,341H273.48M197.53,342H273.48V335.11H197.53ZM235.5,342V342M235.5,335.11V328.21M216.51,342H254.49M216.51,328.21H254.49\" style=\"vector-effect: non-scaling-stroke; stroke-width: 2px; stroke: rgb(239, 85, 59); stroke-opacity: 1; fill: rgb(239, 85, 59); fill-opacity: 0.5;\"/><g class=\"points\"><path class=\"point\" transform=\"translate(235.5,321.32)\" d=\"M3,0A3,3 0 1,1 0,-3A3,3 0 0,1 3,0Z\" style=\"opacity: 1; stroke-width: 0px; fill: rgb(239, 85, 59); fill-opacity: 1;\"/><path class=\"point\" transform=\"translate(235.5,321.32)\" d=\"M3,0A3,3 0 1,1 0,-3A3,3 0 0,1 3,0Z\" style=\"opacity: 1; stroke-width: 0px; fill: rgb(239, 85, 59); fill-opacity: 1;\"/><path class=\"point\" transform=\"translate(235.5,321.32)\" d=\"M3,0A3,3 0 1,1 0,-3A3,3 0 0,1 3,0Z\" style=\"opacity: 1; stroke-width: 0px; fill: rgb(239, 85, 59); fill-opacity: 1;\"/><path class=\"point\" transform=\"translate(235.5,321.32)\" d=\"M3,0A3,3 0 1,1 0,-3A3,3 0 0,1 3,0Z\" style=\"opacity: 1; stroke-width: 0px; fill: rgb(239, 85, 59); fill-opacity: 1;\"/><path class=\"point\" transform=\"translate(235.5,321.32)\" d=\"M3,0A3,3 0 1,1 0,-3A3,3 0 0,1 3,0Z\" style=\"opacity: 1; stroke-width: 0px; fill: rgb(239, 85, 59); fill-opacity: 1;\"/><path class=\"point\" transform=\"translate(235.5,321.32)\" d=\"M3,0A3,3 0 1,1 0,-3A3,3 0 0,1 3,0Z\" style=\"opacity: 1; stroke-width: 0px; fill: rgb(239, 85, 59); fill-opacity: 1;\"/><path class=\"point\" transform=\"translate(235.5,314.43)\" d=\"M3,0A3,3 0 1,1 0,-3A3,3 0 0,1 3,0Z\" style=\"opacity: 1; stroke-width: 0px; fill: rgb(239, 85, 59); fill-opacity: 1;\"/><path class=\"point\" transform=\"translate(235.5,314.43)\" d=\"M3,0A3,3 0 1,1 0,-3A3,3 0 0,1 3,0Z\" style=\"opacity: 1; stroke-width: 0px; fill: rgb(239, 85, 59); fill-opacity: 1;\"/><path class=\"point\" transform=\"translate(235.5,307.53)\" d=\"M3,0A3,3 0 1,1 0,-3A3,3 0 0,1 3,0Z\" style=\"opacity: 1; stroke-width: 0px; fill: rgb(239, 85, 59); fill-opacity: 1;\"/><path class=\"point\" transform=\"translate(235.5,307.53)\" d=\"M3,0A3,3 0 1,1 0,-3A3,3 0 0,1 3,0Z\" style=\"opacity: 1; stroke-width: 0px; fill: rgb(239, 85, 59); fill-opacity: 1;\"/><path class=\"point\" transform=\"translate(235.5,300.64)\" d=\"M3,0A3,3 0 1,1 0,-3A3,3 0 0,1 3,0Z\" style=\"opacity: 1; stroke-width: 0px; fill: rgb(239, 85, 59); fill-opacity: 1;\"/><path class=\"point\" transform=\"translate(235.5,293.74)\" d=\"M3,0A3,3 0 1,1 0,-3A3,3 0 0,1 3,0Z\" style=\"opacity: 1; stroke-width: 0px; fill: rgb(239, 85, 59); fill-opacity: 1;\"/><path class=\"point\" transform=\"translate(235.5,266.17)\" d=\"M3,0A3,3 0 1,1 0,-3A3,3 0 0,1 3,0Z\" style=\"opacity: 1; stroke-width: 0px; fill: rgb(239, 85, 59); fill-opacity: 1;\"/><path class=\"point\" transform=\"translate(235.5,266.17)\" d=\"M3,0A3,3 0 1,1 0,-3A3,3 0 0,1 3,0Z\" style=\"opacity: 1; stroke-width: 0px; fill: rgb(239, 85, 59); fill-opacity: 1;\"/></g></g><g class=\"trace boxes\" style=\"opacity: 1;\"><path class=\"box\" d=\"M306.02,335.11H381.98M306.02,342H381.98V321.32H306.02ZM344,342V342M344,321.32V314.43M325.01,342H362.99M325.01,314.43H362.99\" style=\"vector-effect: non-scaling-stroke; stroke-width: 2px; stroke: rgb(0, 204, 150); stroke-opacity: 1; fill: rgb(0, 204, 150); fill-opacity: 0.5;\"/><g class=\"points\"><path class=\"point\" transform=\"translate(344,286.85)\" d=\"M3,0A3,3 0 1,1 0,-3A3,3 0 0,1 3,0Z\" style=\"opacity: 1; stroke-width: 0px; fill: rgb(0, 204, 150); fill-opacity: 1;\"/><path class=\"point\" transform=\"translate(344,273.06)\" d=\"M3,0A3,3 0 1,1 0,-3A3,3 0 0,1 3,0Z\" style=\"opacity: 1; stroke-width: 0px; fill: rgb(0, 204, 150); fill-opacity: 1;\"/><path class=\"point\" transform=\"translate(344,252.38)\" d=\"M3,0A3,3 0 1,1 0,-3A3,3 0 0,1 3,0Z\" style=\"opacity: 1; stroke-width: 0px; fill: rgb(0, 204, 150); fill-opacity: 1;\"/><path class=\"point\" transform=\"translate(344,183.45)\" d=\"M3,0A3,3 0 1,1 0,-3A3,3 0 0,1 3,0Z\" style=\"opacity: 1; stroke-width: 0px; fill: rgb(0, 204, 150); fill-opacity: 1;\"/></g></g></g></g><g class=\"overplot\"/><path class=\"xlines-above crisp\" d=\"M0,0\" style=\"fill: none;\"/><path class=\"ylines-above crisp\" d=\"M0,0\" style=\"fill: none;\"/><g class=\"overlines-above\"/><g class=\"xaxislayer-above\"><g class=\"xtick\"><text text-anchor=\"middle\" x=\"0\" y=\"433\" transform=\"translate(315.5,0)\" style=\"font-family: 'Open Sans', verdana, arial, sans-serif; font-size: 12px; fill: rgb(42, 63, 95); fill-opacity: 1; white-space: pre; opacity: 1;\"> </text></g></g><g class=\"yaxislayer-above\"><g class=\"ytick\"><text text-anchor=\"end\" x=\"79\" y=\"4.199999999999999\" transform=\"translate(0,408.89)\" style=\"font-family: 'Open Sans', verdana, arial, sans-serif; font-size: 12px; fill: rgb(42, 63, 95); fill-opacity: 1; white-space: pre; opacity: 1;\">0</text></g><g class=\"ytick\"><text text-anchor=\"end\" x=\"79\" y=\"4.199999999999999\" style=\"font-family: 'Open Sans', verdana, arial, sans-serif; font-size: 12px; fill: rgb(42, 63, 95); fill-opacity: 1; white-space: pre; opacity: 1;\" transform=\"translate(0,339.96)\">10</text></g><g class=\"ytick\"><text text-anchor=\"end\" x=\"79\" y=\"4.199999999999999\" style=\"font-family: 'Open Sans', verdana, arial, sans-serif; font-size: 12px; fill: rgb(42, 63, 95); fill-opacity: 1; white-space: pre; opacity: 1;\" transform=\"translate(0,271.02)\">20</text></g><g class=\"ytick\"><text text-anchor=\"end\" x=\"79\" y=\"4.199999999999999\" style=\"font-family: 'Open Sans', verdana, arial, sans-serif; font-size: 12px; fill: rgb(42, 63, 95); fill-opacity: 1; white-space: pre; opacity: 1;\" transform=\"translate(0,202.09)\">30</text></g><g class=\"ytick\"><text text-anchor=\"end\" x=\"79\" y=\"4.199999999999999\" style=\"font-family: 'Open Sans', verdana, arial, sans-serif; font-size: 12px; fill: rgb(42, 63, 95); fill-opacity: 1; white-space: pre; opacity: 1;\" transform=\"translate(0,133.15)\">40</text></g><g class=\"ytick\"><text text-anchor=\"end\" x=\"79\" y=\"4.199999999999999\" style=\"font-family: 'Open Sans', verdana, arial, sans-serif; font-size: 12px; fill: rgb(42, 63, 95); fill-opacity: 1; white-space: pre; opacity: 1;\" transform=\"translate(0,64.21)\">50</text></g></g><g class=\"overaxes-above\"/></g></g><g class=\"polarlayer\"/><g class=\"smithlayer\"/><g class=\"ternarylayer\"/><g class=\"geolayer\"/><g class=\"funnelarealayer\"/><g class=\"pielayer\"/><g class=\"iciclelayer\"/><g class=\"treemaplayer\"/><g class=\"sunburstlayer\"/><g class=\"glimages\"/><defs id=\"topdefs-8f484e\"><g class=\"clips\"/><clipPath id=\"legend8f484e\"><rect width=\"128\" height=\"86\" x=\"0\" y=\"0\"/></clipPath></defs><g class=\"layer-above\"><g class=\"imagelayer\"/><g class=\"shapelayer\"/></g><g class=\"infolayer\"><g class=\"legend\" pointer-events=\"all\" transform=\"translate(560.4200000000001,60)\"><rect class=\"bg\" shape-rendering=\"crispEdges\" style=\"stroke: rgb(68, 68, 68); stroke-opacity: 1; fill: rgb(255, 255, 255); fill-opacity: 1; stroke-width: 0px;\" width=\"128\" height=\"86\" x=\"0\" y=\"0\"/><g class=\"scrollbox\" transform=\"\" clip-path=\"url(#legend8f484e)\"><text class=\"legendtitletext\" text-anchor=\"start\" x=\"2\" y=\"18.2\" style=\"font-family: 'Open Sans', verdana, arial, sans-serif; font-size: 14px; fill: rgb(42, 63, 95); fill-opacity: 1; white-space: pre;\">Тип колл-центра</text><g class=\"groups\" transform=\"\"><g class=\"traces\" transform=\"translate(0,32.7)\" style=\"opacity: 1;\"><text class=\"legendtext\" text-anchor=\"start\" x=\"40\" y=\"4.680000000000001\" style=\"font-family: 'Open Sans', verdana, arial, sans-serif; font-size: 12px; fill: rgb(42, 63, 95); fill-opacity: 1; white-space: pre;\">outbound</text><g class=\"layers\" style=\"opacity: 1;\"><g class=\"legendfill\"/><g class=\"legendlines\"/><g class=\"legendsymbols\"><g class=\"legendpoints\"><path class=\"legendbox\" d=\"M6,6H-6V-6H6Z\" transform=\"translate(20,0)\" style=\"stroke-width: 2px; fill: rgb(99, 110, 250); fill-opacity: 0.5; stroke: rgb(99, 110, 250); stroke-opacity: 1;\"/></g></g></g><rect class=\"legendtoggle\" x=\"0\" y=\"-9.5\" width=\"97.03125\" height=\"19\" style=\"fill: rgb(0, 0, 0); fill-opacity: 0;\"/></g></g><g class=\"groups\" transform=\"\"><g class=\"traces\" transform=\"translate(0,51.7)\" style=\"opacity: 1;\"><text class=\"legendtext\" text-anchor=\"start\" x=\"40\" y=\"4.680000000000001\" style=\"font-family: 'Open Sans', verdana, arial, sans-serif; font-size: 12px; fill: rgb(42, 63, 95); fill-opacity: 1; white-space: pre;\">inbound</text><g class=\"layers\" style=\"opacity: 1;\"><g class=\"legendfill\"/><g class=\"legendlines\"/><g class=\"legendsymbols\"><g class=\"legendpoints\"><path class=\"legendbox\" d=\"M6,6H-6V-6H6Z\" transform=\"translate(20,0)\" style=\"stroke-width: 2px; fill: rgb(239, 85, 59); fill-opacity: 0.5; stroke: rgb(239, 85, 59); stroke-opacity: 1;\"/></g></g></g><rect class=\"legendtoggle\" x=\"0\" y=\"-9.5\" width=\"97.03125\" height=\"19\" style=\"fill: rgb(0, 0, 0); fill-opacity: 0;\"/></g></g><g class=\"groups\" transform=\"\"><g class=\"traces\" transform=\"translate(0,70.7)\" style=\"opacity: 1;\"><text class=\"legendtext\" text-anchor=\"start\" x=\"40\" y=\"4.680000000000001\" style=\"font-family: 'Open Sans', verdana, arial, sans-serif; font-size: 12px; fill: rgb(42, 63, 95); fill-opacity: 1; white-space: pre;\">middle</text><g class=\"layers\" style=\"opacity: 1;\"><g class=\"legendfill\"/><g class=\"legendlines\"/><g class=\"legendsymbols\"><g class=\"legendpoints\"><path class=\"legendbox\" d=\"M6,6H-6V-6H6Z\" transform=\"translate(20,0)\" style=\"stroke-width: 2px; fill: rgb(0, 204, 150); fill-opacity: 0.5; stroke: rgb(0, 204, 150); stroke-opacity: 1;\"/></g></g></g><rect class=\"legendtoggle\" x=\"0\" y=\"-9.5\" width=\"97.03125\" height=\"19\" style=\"fill: rgb(0, 0, 0); fill-opacity: 0;\"/></g></g></g><rect class=\"scrollbar\" rx=\"20\" ry=\"3\" width=\"0\" height=\"0\" style=\"fill: rgb(128, 139, 164); fill-opacity: 1;\" x=\"0\" y=\"0\"/></g><g class=\"g-gtitle\"><text class=\"gtitle\" x=\"35\" y=\"30\" text-anchor=\"start\" dy=\"0em\" style=\"font-family: 'Open Sans', verdana, arial, sans-serif; font-size: 17px; fill: rgb(42, 63, 95); opacity: 1; font-weight: normal; white-space: pre;\">Распределение числа сотрудников по типам колл-центров</text></g><g class=\"g-xtitle\"><text class=\"xtitle\" x=\"315.5\" y=\"460.8\" text-anchor=\"middle\" style=\"font-family: 'Open Sans', verdana, arial, sans-serif; font-size: 14px; fill: rgb(42, 63, 95); opacity: 1; font-weight: normal; white-space: pre;\">Тип</text></g><g class=\"g-ytitle\"><text class=\"ytitle\" transform=\"rotate(-90,38.934375,240)\" x=\"38.934375\" y=\"240\" text-anchor=\"middle\" style=\"font-family: 'Open Sans', verdana, arial, sans-serif; font-size: 14px; fill: rgb(42, 63, 95); opacity: 1; font-weight: normal; white-space: pre;\">Сотрудники, чел.</text></g></g></svg>"
      ]
     },
     "metadata": {},
     "output_type": "display_data"
    }
   ],
   "source": [
    "fig = px.box(cc_type_ppl, y=\"operator_id\", color='cc_type')\n",
    "fig.update_layout(title=\"Распределение числа сотрудников по типам колл-центров\",\n",
    "                  yaxis_title=\"Сотрудники, чел.\",\n",
    "                 xaxis_title=\"Тип\",\n",
    "                 legend_title_text='Тип колл-центра')\n",
    "fig.show(\"svg\")"
   ]
  },
  {
   "cell_type": "markdown",
   "metadata": {},
   "source": [
    "Диаграммы размаха показывают, что КЦ, работающие с входящими обращениями, самые маленькие - максимум в них встречается 12 операторов. Наиболее распространенные значения - от 1 до 3 человек.\n",
    "\n",
    "Для \"середнячков\" число сотрудников чуть выше и максимально в них может работать 24 человека, но самые часто встречающиеся - от 1 до 5 операторов.\n",
    "\n",
    "Колл-центры, работающие по исходящим звонкам - самые многочисленные: их не просто больше по количеству, как мы установили ранее, но и в них работает больше всего людей: до 48 человек. Но самые часто встречающиеся насчитывают от 1 до 11 операторов."
   ]
  },
  {
   "cell_type": "markdown",
   "metadata": {},
   "source": [
    "### Характеристики показателей по тарифным планам"
   ]
  },
  {
   "cell_type": "markdown",
   "metadata": {},
   "source": [
    "Аналогичным типам колл-центров образом рассмотрим основные показатели по тарифным планам."
   ]
  },
  {
   "cell_type": "code",
   "execution_count": 46,
   "metadata": {},
   "outputs": [
    {
     "data": {
      "text/html": [
       "<div>\n",
       "<style scoped>\n",
       "    .dataframe tbody tr th:only-of-type {\n",
       "        vertical-align: middle;\n",
       "    }\n",
       "\n",
       "    .dataframe tbody tr th {\n",
       "        vertical-align: top;\n",
       "    }\n",
       "\n",
       "    .dataframe thead th {\n",
       "        text-align: right;\n",
       "    }\n",
       "</style>\n",
       "<table border=\"1\" class=\"dataframe\">\n",
       "  <thead>\n",
       "    <tr style=\"text-align: right;\">\n",
       "      <th></th>\n",
       "      <th>tariff_plan</th>\n",
       "      <th>direction</th>\n",
       "      <th>is_missed_call</th>\n",
       "      <th>call_duration</th>\n",
       "      <th>calls_count</th>\n",
       "      <th>operator_id</th>\n",
       "      <th>total_call_duration</th>\n",
       "      <th>user_id</th>\n",
       "      <th>wait_time</th>\n",
       "    </tr>\n",
       "  </thead>\n",
       "  <tbody>\n",
       "    <tr>\n",
       "      <th>0</th>\n",
       "      <td>A</td>\n",
       "      <td>in</td>\n",
       "      <td>False</td>\n",
       "      <td>973.230458</td>\n",
       "      <td>30919</td>\n",
       "      <td>176</td>\n",
       "      <td>1072.539757</td>\n",
       "      <td>29</td>\n",
       "      <td>99.309299</td>\n",
       "    </tr>\n",
       "    <tr>\n",
       "      <th>1</th>\n",
       "      <td>A</td>\n",
       "      <td>in</td>\n",
       "      <td>True</td>\n",
       "      <td>68.039216</td>\n",
       "      <td>374</td>\n",
       "      <td>72</td>\n",
       "      <td>85.839216</td>\n",
       "      <td>20</td>\n",
       "      <td>17.800000</td>\n",
       "    </tr>\n",
       "    <tr>\n",
       "      <th>2</th>\n",
       "      <td>A</td>\n",
       "      <td>out</td>\n",
       "      <td>False</td>\n",
       "      <td>4944.221101</td>\n",
       "      <td>189676</td>\n",
       "      <td>254</td>\n",
       "      <td>5877.106870</td>\n",
       "      <td>27</td>\n",
       "      <td>932.885769</td>\n",
       "    </tr>\n",
       "    <tr>\n",
       "      <th>3</th>\n",
       "      <td>A</td>\n",
       "      <td>out</td>\n",
       "      <td>True</td>\n",
       "      <td>0.000000</td>\n",
       "      <td>154078</td>\n",
       "      <td>255</td>\n",
       "      <td>1162.314633</td>\n",
       "      <td>27</td>\n",
       "      <td>1162.314633</td>\n",
       "    </tr>\n",
       "    <tr>\n",
       "      <th>4</th>\n",
       "      <td>B</td>\n",
       "      <td>in</td>\n",
       "      <td>False</td>\n",
       "      <td>856.292324</td>\n",
       "      <td>27791</td>\n",
       "      <td>274</td>\n",
       "      <td>983.623675</td>\n",
       "      <td>93</td>\n",
       "      <td>127.331352</td>\n",
       "    </tr>\n",
       "    <tr>\n",
       "      <th>5</th>\n",
       "      <td>B</td>\n",
       "      <td>in</td>\n",
       "      <td>True</td>\n",
       "      <td>14.714286</td>\n",
       "      <td>303</td>\n",
       "      <td>69</td>\n",
       "      <td>54.580357</td>\n",
       "      <td>37</td>\n",
       "      <td>39.866071</td>\n",
       "    </tr>\n",
       "    <tr>\n",
       "      <th>6</th>\n",
       "      <td>B</td>\n",
       "      <td>out</td>\n",
       "      <td>False</td>\n",
       "      <td>1433.254898</td>\n",
       "      <td>64401</td>\n",
       "      <td>282</td>\n",
       "      <td>1618.082951</td>\n",
       "      <td>82</td>\n",
       "      <td>184.828053</td>\n",
       "    </tr>\n",
       "    <tr>\n",
       "      <th>7</th>\n",
       "      <td>B</td>\n",
       "      <td>out</td>\n",
       "      <td>True</td>\n",
       "      <td>0.000000</td>\n",
       "      <td>42031</td>\n",
       "      <td>289</td>\n",
       "      <td>232.875462</td>\n",
       "      <td>86</td>\n",
       "      <td>232.875462</td>\n",
       "    </tr>\n",
       "    <tr>\n",
       "      <th>8</th>\n",
       "      <td>C</td>\n",
       "      <td>in</td>\n",
       "      <td>False</td>\n",
       "      <td>676.878548</td>\n",
       "      <td>33440</td>\n",
       "      <td>287</td>\n",
       "      <td>764.339942</td>\n",
       "      <td>151</td>\n",
       "      <td>87.461394</td>\n",
       "    </tr>\n",
       "    <tr>\n",
       "      <th>9</th>\n",
       "      <td>C</td>\n",
       "      <td>in</td>\n",
       "      <td>True</td>\n",
       "      <td>6.657609</td>\n",
       "      <td>224</td>\n",
       "      <td>90</td>\n",
       "      <td>27.233696</td>\n",
       "      <td>57</td>\n",
       "      <td>20.576087</td>\n",
       "    </tr>\n",
       "    <tr>\n",
       "      <th>10</th>\n",
       "      <td>C</td>\n",
       "      <td>out</td>\n",
       "      <td>False</td>\n",
       "      <td>1575.633555</td>\n",
       "      <td>74918</td>\n",
       "      <td>234</td>\n",
       "      <td>1824.212634</td>\n",
       "      <td>100</td>\n",
       "      <td>248.579080</td>\n",
       "    </tr>\n",
       "    <tr>\n",
       "      <th>11</th>\n",
       "      <td>C</td>\n",
       "      <td>out</td>\n",
       "      <td>True</td>\n",
       "      <td>0.000000</td>\n",
       "      <td>70265</td>\n",
       "      <td>229</td>\n",
       "      <td>377.738781</td>\n",
       "      <td>101</td>\n",
       "      <td>377.738781</td>\n",
       "    </tr>\n",
       "  </tbody>\n",
       "</table>\n",
       "</div>"
      ],
      "text/plain": [
       "   tariff_plan direction  is_missed_call  call_duration  calls_count  \\\n",
       "0            A        in           False     973.230458        30919   \n",
       "1            A        in            True      68.039216          374   \n",
       "2            A       out           False    4944.221101       189676   \n",
       "3            A       out            True       0.000000       154078   \n",
       "4            B        in           False     856.292324        27791   \n",
       "5            B        in            True      14.714286          303   \n",
       "6            B       out           False    1433.254898        64401   \n",
       "7            B       out            True       0.000000        42031   \n",
       "8            C        in           False     676.878548        33440   \n",
       "9            C        in            True       6.657609          224   \n",
       "10           C       out           False    1575.633555        74918   \n",
       "11           C       out            True       0.000000        70265   \n",
       "\n",
       "    operator_id  total_call_duration  user_id    wait_time  \n",
       "0           176          1072.539757       29    99.309299  \n",
       "1            72            85.839216       20    17.800000  \n",
       "2           254          5877.106870       27   932.885769  \n",
       "3           255          1162.314633       27  1162.314633  \n",
       "4           274           983.623675       93   127.331352  \n",
       "5            69            54.580357       37    39.866071  \n",
       "6           282          1618.082951       82   184.828053  \n",
       "7           289           232.875462       86   232.875462  \n",
       "8           287           764.339942      151    87.461394  \n",
       "9            90            27.233696       57    20.576087  \n",
       "10          234          1824.212634      100   248.579080  \n",
       "11          229           377.738781      101   377.738781  "
      ]
     },
     "execution_count": 46,
     "metadata": {},
     "output_type": "execute_result"
    }
   ],
   "source": [
    "tariff_gen = df.query('internal == False').pivot_table(index=['tariff_plan','direction','is_missed_call'],values=['user_id','operator_id','calls_count','call_duration','total_call_duration','wait_time'],\n",
    "                                                     aggfunc={'user_id':'nunique',\n",
    "                                                              'operator_id':'nunique',\n",
    "                                                              'calls_count':'sum',\n",
    "                                                              'call_duration':'mean',\n",
    "                                                              'total_call_duration':'mean',\n",
    "                                                              'wait_time':'mean'}).reset_index()\n",
    "tariff_gen"
   ]
  },
  {
   "cell_type": "code",
   "execution_count": 47,
   "metadata": {},
   "outputs": [
    {
     "data": {
      "image/svg+xml": [
       "<svg class=\"main-svg\" xmlns=\"http://www.w3.org/2000/svg\" xmlns:xlink=\"http://www.w3.org/1999/xlink\" width=\"700\" height=\"700\" style=\"\" viewBox=\"0 0 700 700\"><rect x=\"0\" y=\"0\" width=\"700\" height=\"700\" style=\"fill: rgb(255, 255, 255); fill-opacity: 1;\"/><defs id=\"defs-669f61\"><g class=\"clips\"/><g class=\"gradients\"/><g class=\"patterns\"/></defs><g class=\"bglayer\"/><g class=\"layer-below\"><g class=\"imagelayer\"/><g class=\"shapelayer\"/></g><g class=\"cartesianlayer\"/><g class=\"polarlayer\"/><g class=\"smithlayer\"/><g class=\"ternarylayer\"/><g class=\"geolayer\"/><g class=\"funnelarealayer\"/><g class=\"pielayer\"/><g class=\"iciclelayer\"/><g class=\"treemaplayer\"/><g class=\"sunburstlayer\"><g class=\"trace sunburst\" stroke-linejoin=\"round\" style=\"opacity: 1;\"><g class=\"slice cursor-pointer\"><path class=\"surface\" d=\"M350,340L440,340A90,90 0,1,0 263.5411214460513,364.9972462322064L350,340A0,0 0,1,1 350,340Z\" style=\"pointer-events: all; stroke-width: 1; fill: rgb(229, 134, 6); fill-opacity: 1; stroke: rgb(255, 255, 255); stroke-opacity: 1;\"/><g class=\"slicetext\"><text data-notex=\"1\" class=\"slicetext\" text-anchor=\"middle\" x=\"0\" y=\"0\" style=\"font-family: 'Open Sans', verdana, arial, sans-serif; font-size: 12px; fill: rgb(68, 68, 68); fill-opacity: 1; white-space: pre;\" transform=\"translate(349.9609375,295.5631048852531)\"><tspan class=\"line\" dy=\"0em\" x=\"0\" y=\"0\">A</tspan><tspan class=\"line\" dy=\"1.3em\" x=\"0\" y=\"0\">54%</tspan></text></g></g><g class=\"slice cursor-pointer\"><path class=\"surface\" d=\"M350,340L263.5411214460513,364.9972462322064A90,90 0,0,0 380.266739709626,424.7580348247277L350,340A0,0 0,0,1 350,340Z\" style=\"pointer-events: all; stroke-width: 1; fill: rgb(93, 105, 177); fill-opacity: 1; stroke: rgb(255, 255, 255); stroke-opacity: 1;\"/><g class=\"slicetext\"><text data-notex=\"1\" class=\"slicetext\" text-anchor=\"middle\" x=\"0\" y=\"0\" style=\"font-family: 'Open Sans', verdana, arial, sans-serif; font-size: 12px; fill: rgb(255, 255, 255); fill-opacity: 1; white-space: pre;\" transform=\"translate(326.2326261388871,383.0417861528446)\"><tspan class=\"line\" dy=\"0em\" x=\"0\" y=\"0\">C</tspan><tspan class=\"line\" dy=\"1.3em\" x=\"0\" y=\"0\">26%</tspan></text></g></g><g class=\"slice cursor-pointer\"><path class=\"surface\" d=\"M350,340L380.266739709626,424.7580348247277A90,90 0,0,0 440,340L350,340A0,0 0,0,1 350,340Z\" style=\"pointer-events: all; stroke-width: 1; fill: rgb(82, 188, 163); fill-opacity: 1; stroke: rgb(255, 255, 255); stroke-opacity: 1;\"/><g class=\"slicetext\"><text data-notex=\"1\" class=\"slicetext\" text-anchor=\"middle\" x=\"0\" y=\"0\" style=\"font-family: 'Open Sans', verdana, arial, sans-serif; font-size: 12px; fill: rgb(68, 68, 68); fill-opacity: 1; white-space: pre;\" transform=\"translate(396.63813432180154,369.5910863714378)\"><tspan class=\"line\" dy=\"0em\" x=\"0\" y=\"0\">B</tspan><tspan class=\"line\" dy=\"1.3em\" x=\"0\" y=\"0\">20%</tspan></text></g></g><g class=\"slice cursor-pointer\"><path class=\"surface\" d=\"M440,340L530,340A180,180 0,0,0 170.0015589218588,339.2508608681136L260.0007794609294,339.6254304340568A90,90 0,0,1 440,340Z\" style=\"pointer-events: all; stroke-width: 1; fill: rgb(229, 134, 6); fill-opacity: 1; stroke: rgb(255, 255, 255); stroke-opacity: 1;\"/><g class=\"slicetext\"><text data-notex=\"1\" class=\"slicetext\" text-anchor=\"middle\" x=\"0\" y=\"0\" style=\"font-family: 'Open Sans', verdana, arial, sans-serif; font-size: 12px; fill: rgb(68, 68, 68); fill-opacity: 1; white-space: pre;\" transform=\"translate(350.24186528271423,201.69560479816496)\"><tspan class=\"line\" dy=\"0em\" x=\"0\" y=\"0\">out</tspan><tspan class=\"line\" dy=\"1.3em\" x=\"0\" y=\"0\">92%</tspan></text></g></g><g class=\"slice cursor-pointer\"><path class=\"surface\" d=\"M260.0007794609294,339.6254304340568L170.0015589218588,339.2508608681136A180,180 0,0,0 177.08224289210267,389.9944924644128L263.5411214460513,364.9972462322064A90,90 0,0,1 260.0007794609294,339.6254304340568Z\" style=\"pointer-events: all; stroke-width: 1; fill: rgb(229, 134, 6); fill-opacity: 1; stroke: rgb(255, 255, 255); stroke-opacity: 1;\"/><g class=\"slicetext\"><text data-notex=\"1\" class=\"slicetext\" text-anchor=\"middle\" x=\"0\" y=\"0\" style=\"font-family: 'Open Sans', verdana, arial, sans-serif; font-size: 12px; fill: rgb(68, 68, 68); fill-opacity: 1; white-space: pre;\" transform=\"translate(193.89891601516277,358.4719536100174)\"><tspan class=\"line\" dy=\"0em\" x=\"0\" y=\"0\">in</tspan><tspan class=\"line\" dy=\"1.3em\" x=\"0\" y=\"0\">8%</tspan></text></g></g><g class=\"slice cursor-pointer\"><path class=\"surface\" d=\"M263.5411214460513,364.9972462322064L177.08224289210267,389.9944924644128A180,180 0,0,0 356.43040372575035,519.8851019621243L353.2152018628752,429.94255098106214A90,90 0,0,1 263.5411214460513,364.9972462322064Z\" style=\"pointer-events: all; stroke-width: 1; fill: rgb(93, 105, 177); fill-opacity: 1; stroke: rgb(255, 255, 255); stroke-opacity: 1;\"/><g class=\"slicetext\"><text data-notex=\"1\" class=\"slicetext\" text-anchor=\"middle\" x=\"0\" y=\"0\" style=\"font-family: 'Open Sans', verdana, arial, sans-serif; font-size: 12px; fill: rgb(255, 255, 255); fill-opacity: 1; white-space: pre;\" transform=\"translate(270.77499301578007,446.03234280603147)\"><tspan class=\"line\" dy=\"0em\" x=\"0\" y=\"0\">out</tspan><tspan class=\"line\" dy=\"1.3em\" x=\"0\" y=\"0\">81%</tspan></text></g></g><g class=\"slice cursor-pointer\"><path class=\"surface\" d=\"M353.2152018628752,429.94255098106214L356.43040372575035,519.8851019621243A180,180 0,0,0 410.5334794192518,509.5160696494554L380.2667397096259,424.7580348247277A90,90 0,0,1 353.2152018628752,429.94255098106214Z\" style=\"pointer-events: all; stroke-width: 1; fill: rgb(93, 105, 177); fill-opacity: 1; stroke: rgb(255, 255, 255); stroke-opacity: 1;\"/><g class=\"slicetext\"><text data-notex=\"1\" class=\"slicetext\" text-anchor=\"middle\" x=\"0\" y=\"0\" style=\"font-family: 'Open Sans', verdana, arial, sans-serif; font-size: 12px; fill: rgb(255, 255, 255); fill-opacity: 1; white-space: pre;\" transform=\"translate(379.34543908606554,490.01645815640876)\"><tspan class=\"line\" dy=\"0em\" x=\"0\" y=\"0\">in</tspan><tspan class=\"line\" dy=\"1.3em\" x=\"0\" y=\"0\">19%</tspan></text></g></g><g class=\"slice cursor-pointer\"><path class=\"surface\" d=\"M380.266739709626,424.7580348247277L410.53347941925193,509.5160696494554A180,180 0,0,0 524.1150652197209,385.65023618265656L437.05753260986046,362.8251180913283A90,90 0,0,1 380.266739709626,424.7580348247277Z\" style=\"pointer-events: all; stroke-width: 1; fill: rgb(82, 188, 163); fill-opacity: 1; stroke: rgb(255, 255, 255); stroke-opacity: 1;\"/><g class=\"slicetext\"><text data-notex=\"1\" class=\"slicetext\" text-anchor=\"middle\" x=\"0\" y=\"0\" style=\"font-family: 'Open Sans', verdana, arial, sans-serif; font-size: 12px; fill: rgb(68, 68, 68); fill-opacity: 1; white-space: pre;\" transform=\"translate(449.46157802985687,427.9346819308997)\"><tspan class=\"line\" dy=\"0em\" x=\"0\" y=\"0\">out</tspan><tspan class=\"line\" dy=\"1.3em\" x=\"0\" y=\"0\">79%</tspan></text></g></g><g class=\"slice cursor-pointer\"><path class=\"surface\" d=\"M437.05753260986046,362.8251180913283L524.1150652197209,385.65023618265656A180,180 0,0,0 530,340.00000000000006L440,340A90,90 0,0,1 437.05753260986046,362.8251180913283Z\" style=\"pointer-events: all; stroke-width: 1; fill: rgb(82, 188, 163); fill-opacity: 1; stroke: rgb(255, 255, 255); stroke-opacity: 1;\"/><g class=\"slicetext\"><text data-notex=\"1\" class=\"slicetext\" text-anchor=\"middle\" x=\"0\" y=\"0\" style=\"font-family: 'Open Sans', verdana, arial, sans-serif; font-size: 12px; fill: rgb(68, 68, 68); fill-opacity: 1; white-space: pre;\" transform=\"translate(508.2468165569256,357.16812001676834)scale(0.9795098855636961)\"><tspan class=\"line\" dy=\"0em\" x=\"0\" y=\"0\">in</tspan><tspan class=\"line\" dy=\"1.3em\" x=\"0\" y=\"0\">21%</tspan></text></g></g><g class=\"slice\"><path class=\"surface\" d=\"M530,340L620,340A270,270 0,0,0 306.88548885074425,73.46456346601735L321.25699256716285,162.30970897734488A180,180 0,0,1 530,340Z\" style=\"pointer-events: all; stroke-width: 1; fill: rgb(229, 134, 6); fill-opacity: 1; stroke: rgb(255, 255, 255); stroke-opacity: 1; opacity: 0.7;\"/><g class=\"slicetext\"><text data-notex=\"1\" class=\"slicetext\" text-anchor=\"middle\" x=\"0\" y=\"0\" style=\"font-family: 'Open Sans', verdana, arial, sans-serif; font-size: 12px; fill: rgb(68, 68, 68); fill-opacity: 1; white-space: pre;\" transform=\"translate(495.8441448250744,165.36380512251054)\"><tspan class=\"line\" dy=\"0em\" x=\"0\" y=\"0\">False</tspan><tspan class=\"line\" dy=\"1.3em\" x=\"0\" y=\"0\">55%</tspan></text></g></g><g class=\"slice\"><path class=\"surface\" d=\"M321.25699256716285,162.30970897734488L306.88548885074425,73.46456346601735A270,270 0,0,0 80.0023383827882,338.8762913021704L170.0015589218588,339.2508608681136A180,180 0,0,1 321.25699256716285,162.30970897734488Z\" style=\"pointer-events: all; stroke-width: 1; fill: rgb(229, 134, 6); fill-opacity: 1; stroke: rgb(255, 255, 255); stroke-opacity: 1; opacity: 0.7;\"/><g class=\"slicetext\"><text data-notex=\"1\" class=\"slicetext\" text-anchor=\"middle\" x=\"0\" y=\"0\" style=\"font-family: 'Open Sans', verdana, arial, sans-serif; font-size: 12px; fill: rgb(68, 68, 68); fill-opacity: 1; white-space: pre;\" transform=\"translate(178.93329495297553,190.49495174529045)\"><tspan class=\"line\" dy=\"0em\" x=\"0\" y=\"0\">True</tspan><tspan class=\"line\" dy=\"1.3em\" x=\"0\" y=\"0\">45%</tspan></text></g></g><g class=\"slice\"><path class=\"surface\" d=\"M170.0015589218588,339.2508608681136L80.0023383827882,338.8762913021704A270,270 0,0,0 90.3688927755108,414.10592527852145L176.9125951836739,389.40395018568097A180,180 0,0,1 170.0015589218588,339.2508608681136Z\" style=\"pointer-events: all; stroke-width: 1; fill: rgb(229, 134, 6); fill-opacity: 1; stroke: rgb(255, 255, 255); stroke-opacity: 1; opacity: 0.7;\"/><g class=\"slicetext\"><text data-notex=\"1\" class=\"slicetext\" text-anchor=\"middle\" x=\"0\" y=\"0\" style=\"font-family: 'Open Sans', verdana, arial, sans-serif; font-size: 12px; fill: rgb(68, 68, 68); fill-opacity: 1; white-space: pre;\" transform=\"translate(115.50472233456006,369.0084838164995)\"><tspan class=\"line\" dy=\"0em\" x=\"0\" y=\"0\">False</tspan><tspan class=\"line\" dy=\"1.3em\" x=\"0\" y=\"0\">99%</tspan></text></g></g><g class=\"slice\"><path class=\"surface\" d=\"M176.9125951836739,389.40395018568097L90.3688927755108,414.10592527852145A270,270 0,0,0 90.62336433815403,414.9917386966192L177.08224289210267,389.9944924644128A180,180 0,0,1 176.9125951836739,389.40395018568097Z\" style=\"pointer-events: all; stroke-width: 1; fill: rgb(229, 134, 6); fill-opacity: 1; stroke: rgb(255, 255, 255); stroke-opacity: 1; opacity: 0.7;\"/><g class=\"slicetext\"><text data-notex=\"1\" class=\"slicetext\" text-anchor=\"middle\" x=\"0\" y=\"0\" style=\"font-family: 'Open Sans', verdana, arial, sans-serif; font-size: 12px; fill: rgb(68, 68, 68); fill-opacity: 1; white-space: pre;\" transform=\"translate(90.9491565369297,414.3475404985472)scale(0.02250774867160914)\"><tspan class=\"line\" dy=\"0em\" x=\"0\" y=\"0\">True</tspan><tspan class=\"line\" dy=\"1.3em\" x=\"0\" y=\"0\">1%</tspan></text></g></g><g class=\"slice\"><path class=\"surface\" d=\"M177.08224289210267,389.9944924644128L90.62336433815403,414.9917386966192A270,270 0,0,0 196.30676365731003,561.987362483791L247.53784243820667,487.991574989194A180,180 0,0,1 177.08224289210267,389.9944924644128Z\" style=\"pointer-events: all; stroke-width: 1; fill: rgb(93, 105, 177); fill-opacity: 1; stroke: rgb(255, 255, 255); stroke-opacity: 1; opacity: 0.7;\"/><g class=\"slicetext\"><text data-notex=\"1\" class=\"slicetext\" text-anchor=\"middle\" x=\"0\" y=\"0\" style=\"font-family: 'Open Sans', verdana, arial, sans-serif; font-size: 12px; fill: rgb(255, 255, 255); fill-opacity: 1; white-space: pre;\" transform=\"translate(167.31438635632753,468.03824747419196)\"><tspan class=\"line\" dy=\"0em\" x=\"0\" y=\"0\">False</tspan><tspan class=\"line\" dy=\"1.3em\" x=\"0\" y=\"0\">52%</tspan></text></g></g><g class=\"slice\"><path class=\"surface\" d=\"M247.53784243820667,487.991574989194L196.30676365731003,561.987362483791A270,270 0,0,0 359.6456055886255,609.8276529431864L356.43040372575035,519.8851019621243A180,180 0,0,1 247.53784243820667,487.991574989194Z\" style=\"pointer-events: all; stroke-width: 1; fill: rgb(93, 105, 177); fill-opacity: 1; stroke: rgb(255, 255, 255); stroke-opacity: 1; opacity: 0.7;\"/><g class=\"slicetext\"><text data-notex=\"1\" class=\"slicetext\" text-anchor=\"middle\" x=\"0\" y=\"0\" style=\"font-family: 'Open Sans', verdana, arial, sans-serif; font-size: 12px; fill: rgb(255, 255, 255); fill-opacity: 1; white-space: pre;\" transform=\"translate(286.71756208234456,552.6241791801674)\"><tspan class=\"line\" dy=\"0em\" x=\"0\" y=\"0\">True</tspan><tspan class=\"line\" dy=\"1.3em\" x=\"0\" y=\"0\">48%</tspan></text></g></g><g class=\"slice\"><path class=\"surface\" d=\"M356.43040372575035,519.8851019621243L359.6456055886255,609.8276529431864A270,270 0,0,0 440.2801815346705,594.4592085621327L410.1867876897803,509.63947237475514A180,180 0,0,1 356.43040372575035,519.8851019621243Z\" style=\"pointer-events: all; stroke-width: 1; fill: rgb(93, 105, 177); fill-opacity: 1; stroke: rgb(255, 255, 255); stroke-opacity: 1; opacity: 0.7;\"/><g class=\"slicetext\"><text data-notex=\"1\" class=\"slicetext\" text-anchor=\"middle\" x=\"0\" y=\"0\" style=\"font-family: 'Open Sans', verdana, arial, sans-serif; font-size: 12px; fill: rgb(255, 255, 255); fill-opacity: 1; white-space: pre;\" transform=\"translate(393.8800845636665,566.9236897865005)\"><tspan class=\"line\" dy=\"0em\" x=\"0\" y=\"0\">False</tspan><tspan class=\"line\" dy=\"1.3em\" x=\"0\" y=\"0\">99%</tspan></text></g></g><g class=\"slice\"><path class=\"surface\" d=\"M410.1867876897803,509.63947237475514L440.2801815346705,594.4592085621327A270,270 0,0,0 440.8002191288777,594.2741044741831L410.5334794192518,509.5160696494554A180,180 0,0,1 410.1867876897803,509.63947237475514Z\" style=\"pointer-events: all; stroke-width: 1; fill: rgb(93, 105, 177); fill-opacity: 1; stroke: rgb(255, 255, 255); stroke-opacity: 1; opacity: 0.7;\"/><g class=\"slicetext\"><text data-notex=\"1\" class=\"slicetext\" text-anchor=\"middle\" x=\"0\" y=\"0\" style=\"font-family: 'Open Sans', verdana, arial, sans-serif; font-size: 12px; fill: rgb(255, 255, 255); fill-opacity: 1; white-space: pre;\" transform=\"translate(440.45453500364755,594.0624565732302)scale(0.01348979926897487)\"><tspan class=\"line\" dy=\"0em\" x=\"0\" y=\"0\">True</tspan><tspan class=\"line\" dy=\"1.3em\" x=\"0\" y=\"0\">1%</tspan></text></g></g><g class=\"slice\"><path class=\"surface\" d=\"M410.53347941925193,509.5160696494554L440.8002191288779,594.2741044741831A270,270 0,0,0 566.5612709046219,501.2489254047138L494.3741806030813,447.49928360314254A180,180 0,0,1 410.53347941925193,509.5160696494554Z\" style=\"pointer-events: all; stroke-width: 1; fill: rgb(82, 188, 163); fill-opacity: 1; stroke: rgb(255, 255, 255); stroke-opacity: 1; opacity: 0.7;\"/><g class=\"slicetext\"><text data-notex=\"1\" class=\"slicetext\" text-anchor=\"middle\" x=\"0\" y=\"0\" style=\"font-family: 'Open Sans', verdana, arial, sans-serif; font-size: 12px; fill: rgb(68, 68, 68); fill-opacity: 1; white-space: pre;\" transform=\"translate(483.80435648874834,517.5858710834482)\"><tspan class=\"line\" dy=\"0em\" x=\"0\" y=\"0\">False</tspan><tspan class=\"line\" dy=\"1.3em\" x=\"0\" y=\"0\">61%</tspan></text></g></g><g class=\"slice\"><path class=\"surface\" d=\"M494.3741806030813,447.49928360314254L566.5612709046219,501.2489254047138A270,270 0,0,0 611.1725978295815,408.47535427398486L524.1150652197209,385.65023618265656A180,180 0,0,1 494.3741806030813,447.49928360314254Z\" style=\"pointer-events: all; stroke-width: 1; fill: rgb(82, 188, 163); fill-opacity: 1; stroke: rgb(255, 255, 255); stroke-opacity: 1; opacity: 0.7;\"/><g class=\"slicetext\"><text data-notex=\"1\" class=\"slicetext\" text-anchor=\"middle\" x=\"0\" y=\"0\" style=\"font-family: 'Open Sans', verdana, arial, sans-serif; font-size: 12px; fill: rgb(68, 68, 68); fill-opacity: 1; white-space: pre;\" transform=\"translate(554.3304910432346,434.9689571975621)\"><tspan class=\"line\" dy=\"0em\" x=\"0\" y=\"0\">True</tspan><tspan class=\"line\" dy=\"1.3em\" x=\"0\" y=\"0\">39%</tspan></text></g></g><g class=\"slice\"><path class=\"surface\" d=\"M524.1150652197209,385.65023618265656L611.1725978295815,408.47535427398486A270,270 0,0,0 619.9989675440595,340.7466760622613L529.9993116960396,340.49778404150754A180,180 0,0,1 524.1150652197209,385.65023618265656Z\" style=\"pointer-events: all; stroke-width: 1; fill: rgb(82, 188, 163); fill-opacity: 1; stroke: rgb(255, 255, 255); stroke-opacity: 1; opacity: 0.7;\"/><g class=\"slicetext\"><text data-notex=\"1\" class=\"slicetext\" text-anchor=\"middle\" x=\"0\" y=\"0\" style=\"font-family: 'Open Sans', verdana, arial, sans-serif; font-size: 12px; fill: rgb(68, 68, 68); fill-opacity: 1; white-space: pre;\" transform=\"translate(587.674088102133,367.66888866492974)\"><tspan class=\"line\" dy=\"0em\" x=\"0\" y=\"0\">False</tspan><tspan class=\"line\" dy=\"1.3em\" x=\"0\" y=\"0\">99%</tspan></text></g></g><g class=\"slice\"><path class=\"surface\" d=\"M529.9993116960396,340.49778404150754L619.9989675440595,340.7466760622613A270,270 0,0,0 620,340.00000000000006L530,340.00000000000006A180,180 0,0,1 529.9993116960396,340.49778404150754Z\" style=\"pointer-events: all; stroke-width: 1; fill: rgb(82, 188, 163); fill-opacity: 1; stroke: rgb(255, 255, 255); stroke-opacity: 1; opacity: 0.7;\"/><g class=\"slicetext\"><text data-notex=\"1\" class=\"slicetext\" text-anchor=\"middle\" x=\"0\" y=\"0\" style=\"font-family: 'Open Sans', verdana, arial, sans-serif; font-size: 12px; fill: rgb(68, 68, 68); fill-opacity: 1; white-space: pre;\" transform=\"translate(619.6360397646208,340.3125427608379)scale(0.018240790406559817)\"><tspan class=\"line\" dy=\"0em\" x=\"0\" y=\"0\">True</tspan><tspan class=\"line\" dy=\"1.3em\" x=\"0\" y=\"0\">1%</tspan></text></g></g></g></g><g class=\"glimages\"/><defs id=\"topdefs-669f61\"><g class=\"clips\"/></defs><g class=\"layer-above\"><g class=\"imagelayer\"/><g class=\"shapelayer\"/></g><g class=\"infolayer\"><g class=\"g-gtitle\"><text class=\"gtitle\" x=\"35\" y=\"30\" text-anchor=\"start\" dy=\"0em\" style=\"font-family: 'Open Sans', verdana, arial, sans-serif; font-size: 17px; fill: rgb(42, 63, 95); opacity: 1; font-weight: normal; white-space: pre;\">Количество звонков по тарифным планам</text></g></g></svg>"
      ]
     },
     "metadata": {},
     "output_type": "display_data"
    }
   ],
   "source": [
    "fig = px.sunburst(tariff_gen, path=['tariff_plan','direction', 'is_missed_call'], values='calls_count', color_discrete_sequence=px.colors.qualitative.Vivid)\n",
    "\n",
    "fig.update_layout(title='Количество звонков по тарифным планам',\n",
    "                  width=700,\n",
    "                  height=700)\n",
    "fig.update_traces(textinfo='label+percent parent', insidetextorientation='horizontal')\n",
    "fig.show(\"svg\")"
   ]
  },
  {
   "cell_type": "markdown",
   "metadata": {},
   "source": [
    "Распределение звонков по тарифным планам показывает, что все тарифные планы, в основном, работают на исходящие взаимодействия. Входящие звонки в них составляют от 8 до 21%, и из них 99% звонков принимаются и только 1% остается неотвеченным. \n",
    "* На тарифный план А приходится 54% всех звонков, из них входящих только 8%. \n",
    "* Тариф В - наименее распространенный по числу звонков, на него приходится 20% звонков и из них 21% входящих. \n",
    "* На тариф С приходится 26% всех звонков и из них 19% входящих.\n",
    "\n",
    "В части распределения успешных и неуспешных вызовов среди исходящих звонков, для тарифа А не принимается 45% звонков, для тарифа С - 48% звонков, а для тарифа В - 39% звонков. \n",
    "\n",
    "Такие данные могут показывать, что для разных тарифов могут иметься разные условия работы операторов (к примеру, разной полноты и качества базы обзвона, \"холодные\" и \"теплые\" клиенты или иное), либо иной SLA, который установлен тарифным планом. Достоверно установить многие факты невозможно из-за отсутствия информации.\n",
    "\n",
    "Одновременно с этим необходимо помнить, что самый распространенный по числу пользователей тарифный план - С (54,1%), на втором месте тариф В (34,8%), и на тариф А приходится всего 11% всех пользователей. Это дополняет предположение о том, что тарифные планы могут иметь некоторые внутренние параметры, влияющие на рассматриваемые показатели."
   ]
  },
  {
   "cell_type": "code",
   "execution_count": 48,
   "metadata": {},
   "outputs": [
    {
     "data": {
      "image/svg+xml": [
       "<svg class=\"main-svg\" xmlns=\"http://www.w3.org/2000/svg\" xmlns:xlink=\"http://www.w3.org/1999/xlink\" width=\"1024\" height=\"768\" style=\"\" viewBox=\"0 0 1024 768\"><rect x=\"0\" y=\"0\" width=\"1024\" height=\"768\" style=\"fill: rgb(255, 255, 255); fill-opacity: 1;\"/><defs id=\"defs-abff5a\"><g class=\"clips\"><clipPath id=\"clipabff5axyplot\" class=\"plotclip\"><rect width=\"759\" height=\"628\"/></clipPath><clipPath class=\"axesclip\" id=\"clipabff5ax\"><rect x=\"80\" y=\"0\" width=\"759\" height=\"768\"/></clipPath><clipPath class=\"axesclip\" id=\"clipabff5ay\"><rect x=\"0\" y=\"60\" width=\"1024\" height=\"628\"/></clipPath><clipPath class=\"axesclip\" id=\"clipabff5axy\"><rect x=\"80\" y=\"60\" width=\"759\" height=\"628\"/></clipPath></g><g class=\"gradients\"/><g class=\"patterns\"/></defs><g class=\"bglayer\"><rect class=\"bg\" x=\"80\" y=\"60\" width=\"759\" height=\"628\" style=\"fill: rgb(229, 236, 246); fill-opacity: 1; stroke-width: 0;\"/></g><g class=\"layer-below\"><g class=\"imagelayer\"/><g class=\"shapelayer\"/></g><g class=\"cartesianlayer\"><g class=\"subplot xy\"><g class=\"layer-subplot\"><g class=\"shapelayer\"/><g class=\"imagelayer\"/></g><g class=\"minor-gridlayer\"><g class=\"x\"/><g class=\"y\"/></g><g class=\"gridlayer\"><g class=\"x\"/><g class=\"y\"><path class=\"ygrid crisp\" transform=\"translate(0,615.22)\" d=\"M80,0h759\" style=\"stroke: rgb(255, 255, 255); stroke-opacity: 1; stroke-width: 1px;\"/><path class=\"ygrid crisp\" transform=\"translate(0,542.45)\" d=\"M80,0h759\" style=\"stroke: rgb(255, 255, 255); stroke-opacity: 1; stroke-width: 1px;\"/><path class=\"ygrid crisp\" transform=\"translate(0,469.67)\" d=\"M80,0h759\" style=\"stroke: rgb(255, 255, 255); stroke-opacity: 1; stroke-width: 1px;\"/><path class=\"ygrid crisp\" transform=\"translate(0,396.9)\" d=\"M80,0h759\" style=\"stroke: rgb(255, 255, 255); stroke-opacity: 1; stroke-width: 1px;\"/><path class=\"ygrid crisp\" transform=\"translate(0,324.12)\" d=\"M80,0h759\" style=\"stroke: rgb(255, 255, 255); stroke-opacity: 1; stroke-width: 1px;\"/><path class=\"ygrid crisp\" transform=\"translate(0,251.35)\" d=\"M80,0h759\" style=\"stroke: rgb(255, 255, 255); stroke-opacity: 1; stroke-width: 1px;\"/><path class=\"ygrid crisp\" transform=\"translate(0,178.57)\" d=\"M80,0h759\" style=\"stroke: rgb(255, 255, 255); stroke-opacity: 1; stroke-width: 1px;\"/><path class=\"ygrid crisp\" transform=\"translate(0,105.8)\" d=\"M80,0h759\" style=\"stroke: rgb(255, 255, 255); stroke-opacity: 1; stroke-width: 1px;\"/></g></g><g class=\"zerolinelayer\"><path class=\"yzl zl crisp\" transform=\"translate(0,688)\" d=\"M80,0h759\" style=\"stroke: rgb(255, 255, 255); stroke-opacity: 1; stroke-width: 2px;\"/></g><path class=\"xlines-below\"/><path class=\"ylines-below\"/><g class=\"overlines-below\"/><g class=\"xaxislayer-below\"/><g class=\"yaxislayer-below\"/><g class=\"overaxes-below\"/><g class=\"plot\" transform=\"translate(80,60)\" clip-path=\"url(#clipabff5axyplot)\"><g class=\"barlayer mlayer\"><g class=\"trace bars\" style=\"opacity: 1;\"><g class=\"points\"><g class=\"point\"><path d=\"M25.3,628V192.4H92.77V628Z\" style=\"vector-effect: non-scaling-stroke; opacity: 1; stroke-width: 0px; fill: rgb(99, 110, 250); fill-opacity: 1;\"/></g><g class=\"point\"><path d=\"M278.3,628V460.31H345.77V628Z\" style=\"vector-effect: non-scaling-stroke; opacity: 1; stroke-width: 0px; fill: rgb(99, 110, 250); fill-opacity: 1;\"/></g><g class=\"point\"><path d=\"M531.3,628V463.59H598.77V628Z\" style=\"vector-effect: non-scaling-stroke; opacity: 1; stroke-width: 0px; fill: rgb(99, 110, 250); fill-opacity: 1;\"/></g></g></g><g class=\"trace bars\" style=\"opacity: 1;\"><g class=\"points\"><g class=\"point\"><path d=\"M92.77,628V31.4H160.23V628Z\" style=\"vector-effect: non-scaling-stroke; opacity: 1; stroke-width: 0px; fill: rgb(239, 85, 59); fill-opacity: 1;\"/></g><g class=\"point\"><path d=\"M345.77,628V417.74H413.23V628Z\" style=\"vector-effect: non-scaling-stroke; opacity: 1; stroke-width: 0px; fill: rgb(239, 85, 59); fill-opacity: 1;\"/></g><g class=\"point\"><path d=\"M598.77,628V410.14H666.23V628Z\" style=\"vector-effect: non-scaling-stroke; opacity: 1; stroke-width: 0px; fill: rgb(239, 85, 59); fill-opacity: 1;\"/></g></g></g><g class=\"trace bars\" style=\"opacity: 1;\"><g class=\"points\"><g class=\"point\"><path d=\"M160.23,628V467H227.7V628Z\" style=\"vector-effect: non-scaling-stroke; opacity: 1; stroke-width: 0px; fill: rgb(0, 204, 150); fill-opacity: 1;\"/></g><g class=\"point\"><path d=\"M413.23,628V585.43H480.7V628Z\" style=\"vector-effect: non-scaling-stroke; opacity: 1; stroke-width: 0px; fill: rgb(0, 204, 150); fill-opacity: 1;\"/></g><g class=\"point\"><path d=\"M666.23,628V574.56H733.7V628Z\" style=\"vector-effect: non-scaling-stroke; opacity: 1; stroke-width: 0px; fill: rgb(0, 204, 150); fill-opacity: 1;\"/></g></g></g></g></g><g class=\"overplot\"/><path class=\"xlines-above crisp\" d=\"M0,0\" style=\"fill: none;\"/><path class=\"ylines-above crisp\" d=\"M0,0\" style=\"fill: none;\"/><g class=\"overlines-above\"/><g class=\"xaxislayer-above\"><g class=\"xtick\"><text text-anchor=\"middle\" x=\"0\" y=\"701\" transform=\"translate(206.5,0)\" style=\"font-family: 'Open Sans', verdana, arial, sans-serif; font-size: 12px; fill: rgb(42, 63, 95); fill-opacity: 1; white-space: pre; opacity: 1;\">A</text></g><g class=\"xtick\"><text text-anchor=\"middle\" x=\"0\" y=\"701\" transform=\"translate(459.5,0)\" style=\"font-family: 'Open Sans', verdana, arial, sans-serif; font-size: 12px; fill: rgb(42, 63, 95); fill-opacity: 1; white-space: pre; opacity: 1;\">B</text></g><g class=\"xtick\"><text text-anchor=\"middle\" x=\"0\" y=\"701\" transform=\"translate(712.5,0)\" style=\"font-family: 'Open Sans', verdana, arial, sans-serif; font-size: 12px; fill: rgb(42, 63, 95); fill-opacity: 1; white-space: pre; opacity: 1;\">C</text></g></g><g class=\"yaxislayer-above\"><g class=\"ytick\"><text text-anchor=\"end\" x=\"79\" y=\"4.199999999999999\" transform=\"translate(0,688)\" style=\"font-family: 'Open Sans', verdana, arial, sans-serif; font-size: 12px; fill: rgb(42, 63, 95); fill-opacity: 1; white-space: pre; opacity: 1;\">0</text></g><g class=\"ytick\"><text text-anchor=\"end\" x=\"79\" y=\"4.199999999999999\" style=\"font-family: 'Open Sans', verdana, arial, sans-serif; font-size: 12px; fill: rgb(42, 63, 95); fill-opacity: 1; white-space: pre; opacity: 1;\" transform=\"translate(0,615.22)\">1000</text></g><g class=\"ytick\"><text text-anchor=\"end\" x=\"79\" y=\"4.199999999999999\" style=\"font-family: 'Open Sans', verdana, arial, sans-serif; font-size: 12px; fill: rgb(42, 63, 95); fill-opacity: 1; white-space: pre; opacity: 1;\" transform=\"translate(0,542.45)\">2000</text></g><g class=\"ytick\"><text text-anchor=\"end\" x=\"79\" y=\"4.199999999999999\" style=\"font-family: 'Open Sans', verdana, arial, sans-serif; font-size: 12px; fill: rgb(42, 63, 95); fill-opacity: 1; white-space: pre; opacity: 1;\" transform=\"translate(0,469.67)\">3000</text></g><g class=\"ytick\"><text text-anchor=\"end\" x=\"79\" y=\"4.199999999999999\" style=\"font-family: 'Open Sans', verdana, arial, sans-serif; font-size: 12px; fill: rgb(42, 63, 95); fill-opacity: 1; white-space: pre; opacity: 1;\" transform=\"translate(0,396.9)\">4000</text></g><g class=\"ytick\"><text text-anchor=\"end\" x=\"79\" y=\"4.199999999999999\" style=\"font-family: 'Open Sans', verdana, arial, sans-serif; font-size: 12px; fill: rgb(42, 63, 95); fill-opacity: 1; white-space: pre; opacity: 1;\" transform=\"translate(0,324.12)\">5000</text></g><g class=\"ytick\"><text text-anchor=\"end\" x=\"79\" y=\"4.199999999999999\" style=\"font-family: 'Open Sans', verdana, arial, sans-serif; font-size: 12px; fill: rgb(42, 63, 95); fill-opacity: 1; white-space: pre; opacity: 1;\" transform=\"translate(0,251.35)\">6000</text></g><g class=\"ytick\"><text text-anchor=\"end\" x=\"79\" y=\"4.199999999999999\" style=\"font-family: 'Open Sans', verdana, arial, sans-serif; font-size: 12px; fill: rgb(42, 63, 95); fill-opacity: 1; white-space: pre; opacity: 1;\" transform=\"translate(0,178.57)\">7000</text></g><g class=\"ytick\"><text text-anchor=\"end\" x=\"79\" y=\"4.199999999999999\" style=\"font-family: 'Open Sans', verdana, arial, sans-serif; font-size: 12px; fill: rgb(42, 63, 95); fill-opacity: 1; white-space: pre; opacity: 1;\" transform=\"translate(0,105.8)\">8000</text></g></g><g class=\"overaxes-above\"/></g></g><g class=\"polarlayer\"/><g class=\"smithlayer\"/><g class=\"ternarylayer\"/><g class=\"geolayer\"/><g class=\"funnelarealayer\"/><g class=\"pielayer\"/><g class=\"iciclelayer\"/><g class=\"treemaplayer\"/><g class=\"sunburstlayer\"/><g class=\"glimages\"/><defs id=\"topdefs-abff5a\"><g class=\"clips\"/><clipPath id=\"legendabff5a\"><rect width=\"158\" height=\"86\" x=\"0\" y=\"0\"/></clipPath></defs><g class=\"layer-above\"><g class=\"imagelayer\"/><g class=\"shapelayer\"/></g><g class=\"infolayer\"><g class=\"legend\" pointer-events=\"all\" transform=\"translate(854.1800000000001,60)\"><rect class=\"bg\" shape-rendering=\"crispEdges\" width=\"158\" height=\"86\" x=\"0\" y=\"0\" style=\"stroke: rgb(68, 68, 68); stroke-opacity: 1; fill: rgb(255, 255, 255); fill-opacity: 1; stroke-width: 0px;\"/><g class=\"scrollbox\" transform=\"\" clip-path=\"url(#legendabff5a)\"><text class=\"legendtitletext\" text-anchor=\"start\" x=\"2\" y=\"18.2\" style=\"font-family: 'Open Sans', verdana, arial, sans-serif; font-size: 14px; fill: rgb(42, 63, 95); fill-opacity: 1; white-space: pre;\">Показатель</text><g class=\"groups\" transform=\"\"><g class=\"traces\" transform=\"translate(0,32.7)\" style=\"opacity: 1;\"><text class=\"legendtext\" text-anchor=\"start\" x=\"40\" y=\"4.680000000000001\" style=\"font-family: 'Open Sans', verdana, arial, sans-serif; font-size: 12px; fill: rgb(42, 63, 95); fill-opacity: 1; white-space: pre;\">call_duration</text><g class=\"layers\" style=\"opacity: 1;\"><g class=\"legendfill\"/><g class=\"legendlines\"/><g class=\"legendsymbols\"><g class=\"legendpoints\"><path class=\"legendundefined\" d=\"M6,6H-6V-6H6Z\" transform=\"translate(20,0)\" style=\"stroke-width: 0px; fill: rgb(99, 110, 250); fill-opacity: 1;\"/></g></g></g><rect class=\"legendtoggle\" x=\"0\" y=\"-9.5\" width=\"152.640625\" height=\"19\" style=\"fill: rgb(0, 0, 0); fill-opacity: 0;\"/></g></g><g class=\"groups\" transform=\"\"><g class=\"traces\" transform=\"translate(0,51.7)\" style=\"opacity: 1;\"><text class=\"legendtext\" text-anchor=\"start\" x=\"40\" y=\"4.680000000000001\" style=\"font-family: 'Open Sans', verdana, arial, sans-serif; font-size: 12px; fill: rgb(42, 63, 95); fill-opacity: 1; white-space: pre;\">total_call_duration</text><g class=\"layers\" style=\"opacity: 1;\"><g class=\"legendfill\"/><g class=\"legendlines\"/><g class=\"legendsymbols\"><g class=\"legendpoints\"><path class=\"legendundefined\" d=\"M6,6H-6V-6H6Z\" transform=\"translate(20,0)\" style=\"stroke-width: 0px; fill: rgb(239, 85, 59); fill-opacity: 1;\"/></g></g></g><rect class=\"legendtoggle\" x=\"0\" y=\"-9.5\" width=\"152.640625\" height=\"19\" style=\"fill: rgb(0, 0, 0); fill-opacity: 0;\"/></g></g><g class=\"groups\" transform=\"\"><g class=\"traces\" transform=\"translate(0,70.7)\" style=\"opacity: 1;\"><text class=\"legendtext\" text-anchor=\"start\" x=\"40\" y=\"4.680000000000001\" style=\"font-family: 'Open Sans', verdana, arial, sans-serif; font-size: 12px; fill: rgb(42, 63, 95); fill-opacity: 1; white-space: pre;\">wait_time</text><g class=\"layers\" style=\"opacity: 1;\"><g class=\"legendfill\"/><g class=\"legendlines\"/><g class=\"legendsymbols\"><g class=\"legendpoints\"><path class=\"legendundefined\" d=\"M6,6H-6V-6H6Z\" transform=\"translate(20,0)\" style=\"stroke-width: 0px; fill: rgb(0, 204, 150); fill-opacity: 1;\"/></g></g></g><rect class=\"legendtoggle\" x=\"0\" y=\"-9.5\" width=\"152.640625\" height=\"19\" style=\"fill: rgb(0, 0, 0); fill-opacity: 0;\"/></g></g></g><rect class=\"scrollbar\" rx=\"20\" ry=\"3\" width=\"0\" height=\"0\" x=\"0\" y=\"0\" style=\"fill: rgb(128, 139, 164); fill-opacity: 1;\"/></g><g class=\"g-gtitle\"><text class=\"gtitle\" x=\"51.2\" y=\"30\" text-anchor=\"start\" dy=\"0em\" style=\"font-family: 'Open Sans', verdana, arial, sans-serif; font-size: 17px; fill: rgb(42, 63, 95); opacity: 1; font-weight: normal; white-space: pre;\">Средняя длительность звонка, разговора и ожидания по тарифным планам</text></g><g class=\"g-xtitle\"><text class=\"xtitle\" x=\"459.5\" y=\"728.8\" text-anchor=\"middle\" style=\"font-family: 'Open Sans', verdana, arial, sans-serif; font-size: 14px; fill: rgb(42, 63, 95); opacity: 1; font-weight: normal; white-space: pre;\">Тарифный план</text></g><g class=\"g-ytitle\"><text class=\"ytitle\" transform=\"rotate(-90,23.684375000000003,374)\" x=\"23.684375000000003\" y=\"374\" text-anchor=\"middle\" style=\"font-family: 'Open Sans', verdana, arial, sans-serif; font-size: 14px; fill: rgb(42, 63, 95); opacity: 1; font-weight: normal; white-space: pre;\">Длительность, секунд</text></g></g></svg>"
      ]
     },
     "metadata": {},
     "output_type": "display_data"
    }
   ],
   "source": [
    "fig= px.histogram(tariff_gen, x=\"tariff_plan\", y=['call_duration','total_call_duration','wait_time'],barmode='group')\n",
    "fig.update_layout(width=1024,\n",
    "                  height=768,\n",
    "                    title='Средняя длительность звонка, разговора и ожидания по тарифным планам',\n",
    "                   xaxis_title='Тарифный план',\n",
    "                   yaxis_title='Длительность, секунд',\n",
    "                 legend_title_text='Показатель')\n",
    "fig.show(\"svg\")"
   ]
  },
  {
   "cell_type": "markdown",
   "metadata": {},
   "source": [
    "Для разных тарифных планов наблюдается разная длительность и времени ожидания и длительности разговора. \n",
    "\n",
    "* Самый большой по количеству звонков тариф А показывает также и самую высокую среднюю продолжительность вызова - 8197.8 секунд (или 136.63 минут - чуть более двух часов) и самую высокую среднюю длительность ожидания ответа - 2212.31 секунд (или 36.87 минут). \n",
    "\n",
    "* Тарифные планы В и С показывают примерно одинаковое среднее время вызова и разговора (2889.16 и 2304.26 секунд для тарифа В и 2993.52 и 2259.17 секунд для тарифа С), а также примерно одинаковое среднее время ожидания ответа (584.90 и 734.35 секунд соответственно). \n",
    "\n",
    "Это наблюдение также может говорить о том, что колл-центры тарифов В и С работают с иными клиентскими базами и могут иметь иные задачи.\n",
    "\n",
    "Длинные разговоры для исходящего обзвона часто связаны с проведением различного рода социологических опросов (например, в рамках проведения переписи населения, или опроса об использовании телевизора, радио и прочих средств массовой информации - в таких опросах длительность разговора может действительно быть значительной). Можно предположить, что тарифный план А ориентирован на подобные виды исходящего обзвона - для проведения опросов и прочего, что затрачивает действительно много времени. Остальные тарифные планы, судя по всему, ориентированы на иное взаимодействие с абонентами, в связи с чем средняя длительность звонка на них составляет не более 49 минут.\n",
    "\n",
    "Также, возможно, тарифный план А задействован в обзвонах по стационарным телефонам, где нет ограничения на длительность соединения, как в мобильной связи, где соедниение может длиться либо 59.9 минут, либо 29.9 минут. Достоверно установить это неовзможно, поскольку нет информации о том, на какие телефонные номера совершаются вызовы."
   ]
  },
  {
   "cell_type": "code",
   "execution_count": 49,
   "metadata": {},
   "outputs": [
    {
     "data": {
      "text/html": [
       "<div>\n",
       "<style scoped>\n",
       "    .dataframe tbody tr th:only-of-type {\n",
       "        vertical-align: middle;\n",
       "    }\n",
       "\n",
       "    .dataframe tbody tr th {\n",
       "        vertical-align: top;\n",
       "    }\n",
       "\n",
       "    .dataframe thead th {\n",
       "        text-align: right;\n",
       "    }\n",
       "</style>\n",
       "<table border=\"1\" class=\"dataframe\">\n",
       "  <thead>\n",
       "    <tr style=\"text-align: right;\">\n",
       "      <th></th>\n",
       "      <th>user_id</th>\n",
       "      <th>tariff_plan</th>\n",
       "      <th>operator_id</th>\n",
       "    </tr>\n",
       "  </thead>\n",
       "  <tbody>\n",
       "    <tr>\n",
       "      <th>0</th>\n",
       "      <td>166377</td>\n",
       "      <td>B</td>\n",
       "      <td>5</td>\n",
       "    </tr>\n",
       "    <tr>\n",
       "      <th>1</th>\n",
       "      <td>166391</td>\n",
       "      <td>C</td>\n",
       "      <td>2</td>\n",
       "    </tr>\n",
       "    <tr>\n",
       "      <th>2</th>\n",
       "      <td>166392</td>\n",
       "      <td>C</td>\n",
       "      <td>3</td>\n",
       "    </tr>\n",
       "    <tr>\n",
       "      <th>3</th>\n",
       "      <td>166399</td>\n",
       "      <td>C</td>\n",
       "      <td>1</td>\n",
       "    </tr>\n",
       "    <tr>\n",
       "      <th>4</th>\n",
       "      <td>166405</td>\n",
       "      <td>B</td>\n",
       "      <td>10</td>\n",
       "    </tr>\n",
       "    <tr>\n",
       "      <th>...</th>\n",
       "      <td>...</td>\n",
       "      <td>...</td>\n",
       "      <td>...</td>\n",
       "    </tr>\n",
       "    <tr>\n",
       "      <th>285</th>\n",
       "      <td>168583</td>\n",
       "      <td>B</td>\n",
       "      <td>2</td>\n",
       "    </tr>\n",
       "    <tr>\n",
       "      <th>286</th>\n",
       "      <td>168598</td>\n",
       "      <td>C</td>\n",
       "      <td>1</td>\n",
       "    </tr>\n",
       "    <tr>\n",
       "      <th>287</th>\n",
       "      <td>168601</td>\n",
       "      <td>C</td>\n",
       "      <td>2</td>\n",
       "    </tr>\n",
       "    <tr>\n",
       "      <th>288</th>\n",
       "      <td>168603</td>\n",
       "      <td>B</td>\n",
       "      <td>1</td>\n",
       "    </tr>\n",
       "    <tr>\n",
       "      <th>289</th>\n",
       "      <td>168606</td>\n",
       "      <td>C</td>\n",
       "      <td>1</td>\n",
       "    </tr>\n",
       "  </tbody>\n",
       "</table>\n",
       "<p>290 rows × 3 columns</p>\n",
       "</div>"
      ],
      "text/plain": [
       "     user_id tariff_plan  operator_id\n",
       "0     166377           B            5\n",
       "1     166391           C            2\n",
       "2     166392           C            3\n",
       "3     166399           C            1\n",
       "4     166405           B           10\n",
       "..       ...         ...          ...\n",
       "285   168583           B            2\n",
       "286   168598           C            1\n",
       "287   168601           C            2\n",
       "288   168603           B            1\n",
       "289   168606           C            1\n",
       "\n",
       "[290 rows x 3 columns]"
      ]
     },
     "execution_count": 49,
     "metadata": {},
     "output_type": "execute_result"
    }
   ],
   "source": [
    "tariff_ppl = df.query('internal == False').pivot_table(index=['user_id','tariff_plan'],values=['operator_id'],\n",
    "                                                     aggfunc={'operator_id':'nunique'}).reset_index()\n",
    "tariff_ppl"
   ]
  },
  {
   "cell_type": "code",
   "execution_count": 50,
   "metadata": {},
   "outputs": [
    {
     "data": {
      "image/svg+xml": [
       "<svg class=\"main-svg\" xmlns=\"http://www.w3.org/2000/svg\" xmlns:xlink=\"http://www.w3.org/1999/xlink\" width=\"700\" height=\"500\" style=\"\" viewBox=\"0 0 700 500\"><rect x=\"0\" y=\"0\" width=\"700\" height=\"500\" style=\"fill: rgb(255, 255, 255); fill-opacity: 1;\"/><defs id=\"defs-071642\"><g class=\"clips\"><clipPath id=\"clip071642xyplot\" class=\"plotclip\"><rect width=\"477\" height=\"360\"/></clipPath><clipPath class=\"axesclip\" id=\"clip071642x\"><rect x=\"80\" y=\"0\" width=\"477\" height=\"500\"/></clipPath><clipPath class=\"axesclip\" id=\"clip071642y\"><rect x=\"0\" y=\"60\" width=\"700\" height=\"360\"/></clipPath><clipPath class=\"axesclip\" id=\"clip071642xy\"><rect x=\"80\" y=\"60\" width=\"477\" height=\"360\"/></clipPath></g><g class=\"gradients\"/><g class=\"patterns\"/></defs><g class=\"bglayer\"><rect class=\"bg\" x=\"80\" y=\"60\" width=\"477\" height=\"360\" style=\"fill: rgb(229, 236, 246); fill-opacity: 1; stroke-width: 0;\"/></g><g class=\"layer-below\"><g class=\"imagelayer\"/><g class=\"shapelayer\"/></g><g class=\"cartesianlayer\"><g class=\"subplot xy\"><g class=\"layer-subplot\"><g class=\"shapelayer\"/><g class=\"imagelayer\"/></g><g class=\"minor-gridlayer\"><g class=\"x\"/><g class=\"y\"/></g><g class=\"gridlayer\"><g class=\"x\"/><g class=\"y\"><path class=\"ygrid crisp\" transform=\"translate(0,339.96)\" d=\"M80,0h477\" style=\"stroke: rgb(255, 255, 255); stroke-opacity: 1; stroke-width: 1px;\"/><path class=\"ygrid crisp\" transform=\"translate(0,271.02)\" d=\"M80,0h477\" style=\"stroke: rgb(255, 255, 255); stroke-opacity: 1; stroke-width: 1px;\"/><path class=\"ygrid crisp\" transform=\"translate(0,202.09)\" d=\"M80,0h477\" style=\"stroke: rgb(255, 255, 255); stroke-opacity: 1; stroke-width: 1px;\"/><path class=\"ygrid crisp\" transform=\"translate(0,133.15)\" d=\"M80,0h477\" style=\"stroke: rgb(255, 255, 255); stroke-opacity: 1; stroke-width: 1px;\"/><path class=\"ygrid crisp\" transform=\"translate(0,64.21)\" d=\"M80,0h477\" style=\"stroke: rgb(255, 255, 255); stroke-opacity: 1; stroke-width: 1px;\"/></g></g><g class=\"zerolinelayer\"><path class=\"yzl zl crisp\" transform=\"translate(0,408.89)\" d=\"M80,0h477\" style=\"stroke: rgb(255, 255, 255); stroke-opacity: 1; stroke-width: 2px;\"/></g><path class=\"xlines-below\"/><path class=\"ylines-below\"/><g class=\"overlines-below\"/><g class=\"xaxislayer-below\"/><g class=\"yaxislayer-below\"/><g class=\"overaxes-below\"/><g class=\"plot\" transform=\"translate(80,60)\" clip-path=\"url(#clip071642xyplot)\"><g class=\"boxlayer mlayer\"><g class=\"trace boxes\" style=\"opacity: 1;\"><path class=\"box\" d=\"M90.14,328.21H167.07M90.14,342H167.07V314.43H90.14ZM128.6,342V342M128.6,314.43V273.06M109.37,342H147.83M109.37,273.06H147.83\" style=\"vector-effect: non-scaling-stroke; stroke-width: 2px; stroke: rgb(99, 110, 250); stroke-opacity: 1; fill: rgb(99, 110, 250); fill-opacity: 0.5;\"/><g class=\"points\"><path class=\"point\" transform=\"translate(128.6,266.17)\" d=\"M3,0A3,3 0 1,1 0,-3A3,3 0 0,1 3,0Z\" style=\"opacity: 1; stroke-width: 0px; fill: rgb(99, 110, 250); fill-opacity: 1;\"/><path class=\"point\" transform=\"translate(128.6,266.17)\" d=\"M3,0A3,3 0 1,1 0,-3A3,3 0 0,1 3,0Z\" style=\"opacity: 1; stroke-width: 0px; fill: rgb(99, 110, 250); fill-opacity: 1;\"/><path class=\"point\" transform=\"translate(128.6,259.28)\" d=\"M3,0A3,3 0 1,1 0,-3A3,3 0 0,1 3,0Z\" style=\"opacity: 1; stroke-width: 0px; fill: rgb(99, 110, 250); fill-opacity: 1;\"/><path class=\"point\" transform=\"translate(128.6,245.49)\" d=\"M3,0A3,3 0 1,1 0,-3A3,3 0 0,1 3,0Z\" style=\"opacity: 1; stroke-width: 0px; fill: rgb(99, 110, 250); fill-opacity: 1;\"/><path class=\"point\" transform=\"translate(128.6,231.7)\" d=\"M3,0A3,3 0 1,1 0,-3A3,3 0 0,1 3,0Z\" style=\"opacity: 1; stroke-width: 0px; fill: rgb(99, 110, 250); fill-opacity: 1;\"/><path class=\"point\" transform=\"translate(128.6,204.13)\" d=\"M3,0A3,3 0 1,1 0,-3A3,3 0 0,1 3,0Z\" style=\"opacity: 1; stroke-width: 0px; fill: rgb(99, 110, 250); fill-opacity: 1;\"/></g></g><g class=\"trace boxes\" style=\"opacity: 1;\"><path class=\"box\" d=\"M200.04,335.11H276.96M200.04,342H276.96V328.21H200.04ZM238.5,342V342M238.5,328.21V307.53M219.27,342H257.73M219.27,307.53H257.73\" style=\"vector-effect: non-scaling-stroke; stroke-width: 2px; stroke: rgb(239, 85, 59); stroke-opacity: 1; fill: rgb(239, 85, 59); fill-opacity: 0.5;\"/><g class=\"points\"><path class=\"point\" transform=\"translate(238.5,300.64)\" d=\"M3,0A3,3 0 1,1 0,-3A3,3 0 0,1 3,0Z\" style=\"opacity: 1; stroke-width: 0px; fill: rgb(239, 85, 59); fill-opacity: 1;\"/><path class=\"point\" transform=\"translate(238.5,300.64)\" d=\"M3,0A3,3 0 1,1 0,-3A3,3 0 0,1 3,0Z\" style=\"opacity: 1; stroke-width: 0px; fill: rgb(239, 85, 59); fill-opacity: 1;\"/><path class=\"point\" transform=\"translate(238.5,300.64)\" d=\"M3,0A3,3 0 1,1 0,-3A3,3 0 0,1 3,0Z\" style=\"opacity: 1; stroke-width: 0px; fill: rgb(239, 85, 59); fill-opacity: 1;\"/><path class=\"point\" transform=\"translate(238.5,293.74)\" d=\"M3,0A3,3 0 1,1 0,-3A3,3 0 0,1 3,0Z\" style=\"opacity: 1; stroke-width: 0px; fill: rgb(239, 85, 59); fill-opacity: 1;\"/><path class=\"point\" transform=\"translate(238.5,286.85)\" d=\"M3,0A3,3 0 1,1 0,-3A3,3 0 0,1 3,0Z\" style=\"opacity: 1; stroke-width: 0px; fill: rgb(239, 85, 59); fill-opacity: 1;\"/><path class=\"point\" transform=\"translate(238.5,273.06)\" d=\"M3,0A3,3 0 1,1 0,-3A3,3 0 0,1 3,0Z\" style=\"opacity: 1; stroke-width: 0px; fill: rgb(239, 85, 59); fill-opacity: 1;\"/><path class=\"point\" transform=\"translate(238.5,259.28)\" d=\"M3,0A3,3 0 1,1 0,-3A3,3 0 0,1 3,0Z\" style=\"opacity: 1; stroke-width: 0px; fill: rgb(239, 85, 59); fill-opacity: 1;\"/><path class=\"point\" transform=\"translate(238.5,224.81)\" d=\"M3,0A3,3 0 1,1 0,-3A3,3 0 0,1 3,0Z\" style=\"opacity: 1; stroke-width: 0px; fill: rgb(239, 85, 59); fill-opacity: 1;\"/></g></g><g class=\"trace boxes\" style=\"opacity: 1;\"><path class=\"box\" d=\"M309.94,321.32H386.87M309.94,342H386.87V290.3H309.94ZM348.4,342V342M348.4,290.3V252.38M329.17,342H367.63M329.17,252.38H367.63\" style=\"vector-effect: non-scaling-stroke; stroke-width: 2px; stroke: rgb(0, 204, 150); stroke-opacity: 1; fill: rgb(0, 204, 150); fill-opacity: 0.5;\"/><g class=\"points\"><path class=\"point\" transform=\"translate(348.4,183.45)\" d=\"M3,0A3,3 0 1,1 0,-3A3,3 0 0,1 3,0Z\" style=\"opacity: 1; stroke-width: 0px; fill: rgb(0, 204, 150); fill-opacity: 1;\"/><path class=\"point\" transform=\"translate(348.4,162.77)\" d=\"M3,0A3,3 0 1,1 0,-3A3,3 0 0,1 3,0Z\" style=\"opacity: 1; stroke-width: 0px; fill: rgb(0, 204, 150); fill-opacity: 1;\"/><path class=\"point\" transform=\"translate(348.4,162.77)\" d=\"M3,0A3,3 0 1,1 0,-3A3,3 0 0,1 3,0Z\" style=\"opacity: 1; stroke-width: 0px; fill: rgb(0, 204, 150); fill-opacity: 1;\"/><path class=\"point\" transform=\"translate(348.4,142.09)\" d=\"M3,0A3,3 0 1,1 0,-3A3,3 0 0,1 3,0Z\" style=\"opacity: 1; stroke-width: 0px; fill: rgb(0, 204, 150); fill-opacity: 1;\"/><path class=\"point\" transform=\"translate(348.4,18)\" d=\"M3,0A3,3 0 1,1 0,-3A3,3 0 0,1 3,0Z\" style=\"opacity: 1; stroke-width: 0px; fill: rgb(0, 204, 150); fill-opacity: 1;\"/><path class=\"point\" transform=\"translate(348.4,18)\" d=\"M3,0A3,3 0 1,1 0,-3A3,3 0 0,1 3,0Z\" style=\"opacity: 1; stroke-width: 0px; fill: rgb(0, 204, 150); fill-opacity: 1;\"/></g></g></g></g><g class=\"overplot\"/><path class=\"xlines-above crisp\" d=\"M0,0\" style=\"fill: none;\"/><path class=\"ylines-above crisp\" d=\"M0,0\" style=\"fill: none;\"/><g class=\"overlines-above\"/><g class=\"xaxislayer-above\"><g class=\"xtick\"><text text-anchor=\"middle\" x=\"0\" y=\"433\" transform=\"translate(318.5,0)\" style=\"font-family: 'Open Sans', verdana, arial, sans-serif; font-size: 12px; fill: rgb(42, 63, 95); fill-opacity: 1; white-space: pre; opacity: 1;\"> </text></g></g><g class=\"yaxislayer-above\"><g class=\"ytick\"><text text-anchor=\"end\" x=\"79\" y=\"4.199999999999999\" transform=\"translate(0,408.89)\" style=\"font-family: 'Open Sans', verdana, arial, sans-serif; font-size: 12px; fill: rgb(42, 63, 95); fill-opacity: 1; white-space: pre; opacity: 1;\">0</text></g><g class=\"ytick\"><text text-anchor=\"end\" x=\"79\" y=\"4.199999999999999\" style=\"font-family: 'Open Sans', verdana, arial, sans-serif; font-size: 12px; fill: rgb(42, 63, 95); fill-opacity: 1; white-space: pre; opacity: 1;\" transform=\"translate(0,339.96)\">10</text></g><g class=\"ytick\"><text text-anchor=\"end\" x=\"79\" y=\"4.199999999999999\" style=\"font-family: 'Open Sans', verdana, arial, sans-serif; font-size: 12px; fill: rgb(42, 63, 95); fill-opacity: 1; white-space: pre; opacity: 1;\" transform=\"translate(0,271.02)\">20</text></g><g class=\"ytick\"><text text-anchor=\"end\" x=\"79\" y=\"4.199999999999999\" style=\"font-family: 'Open Sans', verdana, arial, sans-serif; font-size: 12px; fill: rgb(42, 63, 95); fill-opacity: 1; white-space: pre; opacity: 1;\" transform=\"translate(0,202.09)\">30</text></g><g class=\"ytick\"><text text-anchor=\"end\" x=\"79\" y=\"4.199999999999999\" style=\"font-family: 'Open Sans', verdana, arial, sans-serif; font-size: 12px; fill: rgb(42, 63, 95); fill-opacity: 1; white-space: pre; opacity: 1;\" transform=\"translate(0,133.15)\">40</text></g><g class=\"ytick\"><text text-anchor=\"end\" x=\"79\" y=\"4.199999999999999\" style=\"font-family: 'Open Sans', verdana, arial, sans-serif; font-size: 12px; fill: rgb(42, 63, 95); fill-opacity: 1; white-space: pre; opacity: 1;\" transform=\"translate(0,64.21)\">50</text></g></g><g class=\"overaxes-above\"/></g></g><g class=\"polarlayer\"/><g class=\"smithlayer\"/><g class=\"ternarylayer\"/><g class=\"geolayer\"/><g class=\"funnelarealayer\"/><g class=\"pielayer\"/><g class=\"iciclelayer\"/><g class=\"treemaplayer\"/><g class=\"sunburstlayer\"/><g class=\"glimages\"/><defs id=\"topdefs-071642\"><g class=\"clips\"/><clipPath id=\"legend071642\"><rect width=\"121\" height=\"86\" x=\"0\" y=\"0\"/></clipPath></defs><g class=\"layer-above\"><g class=\"imagelayer\"/><g class=\"shapelayer\"/></g><g class=\"infolayer\"><g class=\"legend\" pointer-events=\"all\" transform=\"translate(566.54,60)\"><rect class=\"bg\" shape-rendering=\"crispEdges\" style=\"stroke: rgb(68, 68, 68); stroke-opacity: 1; fill: rgb(255, 255, 255); fill-opacity: 1; stroke-width: 0px;\" width=\"121\" height=\"86\" x=\"0\" y=\"0\"/><g class=\"scrollbox\" transform=\"\" clip-path=\"url(#legend071642)\"><text class=\"legendtitletext\" text-anchor=\"start\" x=\"2\" y=\"18.2\" style=\"font-family: 'Open Sans', verdana, arial, sans-serif; font-size: 14px; fill: rgb(42, 63, 95); fill-opacity: 1; white-space: pre;\">Тарифный план</text><g class=\"groups\" transform=\"\"><g class=\"traces\" transform=\"translate(0,32.7)\" style=\"opacity: 1;\"><text class=\"legendtext\" text-anchor=\"start\" x=\"40\" y=\"4.680000000000001\" style=\"font-family: 'Open Sans', verdana, arial, sans-serif; font-size: 12px; fill: rgb(42, 63, 95); fill-opacity: 1; white-space: pre;\">B</text><g class=\"layers\" style=\"opacity: 1;\"><g class=\"legendfill\"/><g class=\"legendlines\"/><g class=\"legendsymbols\"><g class=\"legendpoints\"><path class=\"legendbox\" d=\"M6,6H-6V-6H6Z\" transform=\"translate(20,0)\" style=\"stroke-width: 2px; fill: rgb(99, 110, 250); fill-opacity: 0.5; stroke: rgb(99, 110, 250); stroke-opacity: 1;\"/></g></g></g><rect class=\"legendtoggle\" x=\"0\" y=\"-9.5\" width=\"50\" height=\"19\" style=\"fill: rgb(0, 0, 0); fill-opacity: 0;\"/></g></g><g class=\"groups\" transform=\"\"><g class=\"traces\" transform=\"translate(0,51.7)\" style=\"opacity: 1;\"><text class=\"legendtext\" text-anchor=\"start\" x=\"40\" y=\"4.680000000000001\" style=\"font-family: 'Open Sans', verdana, arial, sans-serif; font-size: 12px; fill: rgb(42, 63, 95); fill-opacity: 1; white-space: pre;\">C</text><g class=\"layers\" style=\"opacity: 1;\"><g class=\"legendfill\"/><g class=\"legendlines\"/><g class=\"legendsymbols\"><g class=\"legendpoints\"><path class=\"legendbox\" d=\"M6,6H-6V-6H6Z\" transform=\"translate(20,0)\" style=\"stroke-width: 2px; fill: rgb(239, 85, 59); fill-opacity: 0.5; stroke: rgb(239, 85, 59); stroke-opacity: 1;\"/></g></g></g><rect class=\"legendtoggle\" x=\"0\" y=\"-9.5\" width=\"50\" height=\"19\" style=\"fill: rgb(0, 0, 0); fill-opacity: 0;\"/></g></g><g class=\"groups\" transform=\"\"><g class=\"traces\" transform=\"translate(0,70.7)\" style=\"opacity: 1;\"><text class=\"legendtext\" text-anchor=\"start\" x=\"40\" y=\"4.680000000000001\" style=\"font-family: 'Open Sans', verdana, arial, sans-serif; font-size: 12px; fill: rgb(42, 63, 95); fill-opacity: 1; white-space: pre;\">A</text><g class=\"layers\" style=\"opacity: 1;\"><g class=\"legendfill\"/><g class=\"legendlines\"/><g class=\"legendsymbols\"><g class=\"legendpoints\"><path class=\"legendbox\" d=\"M6,6H-6V-6H6Z\" transform=\"translate(20,0)\" style=\"stroke-width: 2px; fill: rgb(0, 204, 150); fill-opacity: 0.5; stroke: rgb(0, 204, 150); stroke-opacity: 1;\"/></g></g></g><rect class=\"legendtoggle\" x=\"0\" y=\"-9.5\" width=\"50\" height=\"19\" style=\"fill: rgb(0, 0, 0); fill-opacity: 0;\"/></g></g></g><rect class=\"scrollbar\" rx=\"20\" ry=\"3\" width=\"0\" height=\"0\" style=\"fill: rgb(128, 139, 164); fill-opacity: 1;\" x=\"0\" y=\"0\"/></g><g class=\"g-gtitle\"><text class=\"gtitle\" x=\"35\" y=\"30\" text-anchor=\"start\" dy=\"0em\" style=\"font-family: 'Open Sans', verdana, arial, sans-serif; font-size: 17px; fill: rgb(42, 63, 95); opacity: 1; font-weight: normal; white-space: pre;\">Распределение числа сотрудников по тарифным планам</text></g><g class=\"g-xtitle\"><text class=\"xtitle\" x=\"318.5\" y=\"460.8\" text-anchor=\"middle\" style=\"font-family: 'Open Sans', verdana, arial, sans-serif; font-size: 14px; fill: rgb(42, 63, 95); opacity: 1; font-weight: normal; white-space: pre;\">Тариф</text></g><g class=\"g-ytitle\"><text class=\"ytitle\" transform=\"rotate(-90,38.934375,240)\" x=\"38.934375\" y=\"240\" text-anchor=\"middle\" style=\"font-family: 'Open Sans', verdana, arial, sans-serif; font-size: 14px; fill: rgb(42, 63, 95); opacity: 1; font-weight: normal; white-space: pre;\">Сотрудники, чел.</text></g></g></svg>"
      ]
     },
     "metadata": {},
     "output_type": "display_data"
    }
   ],
   "source": [
    "fig = px.box(tariff_ppl, y=\"operator_id\", color='tariff_plan')\n",
    "fig.update_layout(title=\"Распределение числа сотрудников по тарифным планам\",\n",
    "                  yaxis_title=\"Сотрудники, чел.\",\n",
    "                 xaxis_title=\"Тариф\",\n",
    "                 legend_title_text='Тарифный план')\n",
    "\n",
    "fig.show(\"svg\")"
   ]
  },
  {
   "cell_type": "markdown",
   "metadata": {},
   "source": [
    "Диаграммы размаха для числа сотрудников в зависимости от тарифного плана показывает, что в тарифе А задействовано чаще всего больше операторов, чем в двух других тарифах. \n",
    "* В тарифе А задействовано чаще всего от 1 до 14 операторов (макимально - 48), \n",
    "* В тарифе В - от 1 до 5 (максимально 21), \n",
    "* В тарифе С - от 1 до 3 (максимально 18). \n",
    "\n",
    "На основе этих диаграмм можно предположить, что тарифный план может зависеть от количества задействованных в колл-центре операторов (кроме уже вышеупоминавшейся направленности деятельности КЦ), но невозможно наверняка это утверждать, поскольку детальной информации о тарифных планах в нашем распоряжении нет."
   ]
  },
  {
   "cell_type": "markdown",
   "metadata": {},
   "source": [
    "### Выводы исследовательского анализа данных"
   ]
  },
  {
   "cell_type": "markdown",
   "metadata": {},
   "source": [
    "По итогам проведенного исследовательского анализа данных можно определенно заявить, что представленный набор данных позволяет собрать только общую информацию о деятельности колл-центров и определить основные характерные параметры для колл-центров по тарифным планам и их основной направленности. \n",
    "\n",
    "- Представленные данные содержат в себе информацию о звонках для каждого колл-центра и оператора в день, **период сбора** информации лежит в границах с **02 августа 2019 года по 28 ноября 2019 года.** Рассматриваемые колл-центры **регистрировались в системе с 01 августа  по 31 октября 2019 года**. Соответственно, для последнего зарегистрированного КЦ может иметься информация о его активности в течение минимум 4 недель (для зарегистированного 31 октября КЦ может иметься информация о его звонках за 28 дней ноября). \n",
    "\n",
    "- **Исследование активности КЦ и операторов по датам** показывает, что **с течением времени число операторов и совершаемых ими звонков возрастало**, показывая временные снижения в выходные и праздничные дни.\n",
    "\n",
    "- В динамике за все время исследования обнаружено, что **среднее время разговора и соединения со временем снижается**, а при принятии во внимание роста числа операторов, можно предположить, что они со временем обучаются более эффективному взаимодействию с абонентами для достижения поставленных перед ними задач.\n",
    "\n",
    "- Среди всех пользователей сервиса **87% - колл-центры, работающие в основном по исходящим взаимодействиям**. Для **исходящих** взаимодействий характерно, что только **немногим более 50%** вызовов принимаются абонентами. Для **входящих** вызовов, **99% вызовов принимаются** и только 1% остается неотвеченным. Также, было определено, что **у колл-центров, работающих с исходящими вызовами, задействовано больше сотрудников (от 1 до 11 операторов), и среднее время разговора достигает 59 минут**. Остальные типы колл-центров показывают значительно меньшую длительность разговора и ожидания (19,53 и 4,47 минут).\n",
    "\n",
    "- В рамках имеющихся данных о тарифных планах, было установлено, что **на тарифный план А приходится 54% звонков**, **тариф В** - **20% звонков** и **тариф С - 26% звонков**. Одновременно с этим, **тарифом С** пользуются **54,1%** клиентов компании, **тарифом В** - **34,8% клиентов**, и **тарифом А** - **11% клиентов**. **Число исходящих** вызовов по всем трем тарифам составляет **от 79% до 92%**, а **доля успешных** вызовов колеблется **в пределах 52-61%** от всех исходящих вызовов. Для **тарифа А** средняя длительность разговора составляет **99,75 минут**, для **тарифа В - 38,40 минут**, для **тарифа С - 37,65 минут**. По числу задейстованных операторов на тариф А приходится в основном от 1 до 14 операторов, для тарифа В - от 1 до 5 операторов, и для тарифа С - от 1 до 3 операторов.\n",
    "\n",
    "Исследование показало, что **тарифный план клиента, скорее всего, выбирается в зависимости от числа задействованных КЦ операторов и длительности совершаемых ими вызовов**. При этом направление совершения вызовов при выборе тарифного плана не играет роли.\n",
    "\n",
    "**Представленные данные дают только общую информацию** по работе пользователей сервиса \"Нупозвони\", и **не позволяют провести более детальный анализ**, чтобы выявить закономерности, которые могут оказывать влияние на работу клиента в тарифном плане или в направлении вызовов клиента.\n",
    "\n",
    "Тем не менее, **полученные данные возможно использовать для общего анализа показателей конкретного выбранного колл-центра или оператора** для того, чтобы оценить их эффективность."
   ]
  },
  {
   "cell_type": "markdown",
   "metadata": {},
   "source": [
    "## Разработка метрики определения эффективности"
   ]
  },
  {
   "cell_type": "markdown",
   "metadata": {},
   "source": [
    "В рамках исследовательского анализа данных выше было установлено, что с течением времени число операторов, колл-центров в сервисе и их активность возрастали, показывая некоторые спады в выходные дни. Поскольку имеющиеся данные охватывают промежуток между 01 августа и 28 ноября 2019 года, с последним зарегистрировавшимся в сервисе колл-центром 31 октября 2019 года.\n",
    "\n",
    "Согласно отраслевым стандартам для колл-центров, которые были разработаны в 1996 году группой компаний Microsoft, Intel, American Express, Dell, Motorola, Novell и описанным компанией COPC Inc. (Customer Operations Performance Center Inc.), большинство метрик для колл-центров долны измеряться и оцениваться ежемесячно, поэтому для оценки будет рассматриваться период 1 месяца активности для всех имеющихся колл-центров (30 дней, предшествующих дате последнего совершенного звонка). При этом, список рассматриваемых метрик будет далек от рекомендуемого COPC, поскольку в предоставленных для анализа данных отсутствуют сведения о целях проведения исходящих обзвонов и результирующие данные для звонков, позволяющие оценить бизнес-эффективность проведенных коммуникаций.\n",
    "\n",
    "Однако, принимая во внимание указанные выше рекомендации, для анализа отберем **данные для колл-центров, которые были зарегистрированы до 01 октября 2019 года (включая эту дату), и совершали звонки в промежутке между 01 и 31 октября.** Таким образом, в нашем распоряжении останутся данные за максимально полный октябрь 2019 года (поскольку имеются данные только за 28 дней ноября), и на основе этих данных мы сможем оценить основные показатели эффективности для имеющихся в этот период операторов и колл-центров."
   ]
  },
  {
   "cell_type": "markdown",
   "metadata": {},
   "source": [
    "### Основные используемые метрики эффективности"
   ]
  },
  {
   "cell_type": "markdown",
   "metadata": {},
   "source": [
    "**Метрики для входящих взаимодействий**:\n",
    "- Среднее время ожидания на линии. \n",
    "- Количество вызовов за период.\n",
    "- Доля непринятых вызовов.\n",
    "- Длительность разговора.\n",
    "- Время активности оператора - разница между первым и последним звонком за период.\n",
    "\n",
    "**Метрики для исходящих взаимодействий**:\n",
    "- Среднее время ожидания на линии.\n",
    "- Количество вызовов за период.\n",
    "- Доля успешных вызовов.\n",
    "- Длительность разговора.\n",
    "- Время активности оператора - разница между первым и последним звонком за период.\n",
    "\n",
    "При рассмотрении метрик для входящих и исходящих взаимодействий следует принимать во внимание, что существуют общемировые отраслевые практики для входящих взаимодействий, поскольку они напрямую завязаны на клиентский опыт и комфорт взаимодейстия клиента с колл-центром. Поэтому в части входящих взаимодействий будут применяться следующие пороговые значения:\n",
    "\n",
    "- Время ожидания - в среднем 28 секунд\n",
    "- Длительность разговора - в среднем 4 минуты (или 240 секунд)\n",
    "- Доля пропущенных вызовов - от 5% до 8%\n",
    "\n",
    "Количество вызовов и время занятости оператора работой необходимо оценивать индивидуально в зависимости от направленности колл-центра и рода его деятельности.\n",
    "\n",
    "Для исходящих взаимодействий средние значения должны определяться маркетинговой или клиентской службой заказчика обзвона, поэтому метрики будут измерены без пороговых значений."
   ]
  },
  {
   "cell_type": "markdown",
   "metadata": {},
   "source": [
    "Для начала подготовим общий датасет для исследования звонков по указанному выше периоду. "
   ]
  },
  {
   "cell_type": "code",
   "execution_count": 51,
   "metadata": {},
   "outputs": [
    {
     "data": {
      "text/html": [
       "<div>\n",
       "<style scoped>\n",
       "    .dataframe tbody tr th:only-of-type {\n",
       "        vertical-align: middle;\n",
       "    }\n",
       "\n",
       "    .dataframe tbody tr th {\n",
       "        vertical-align: top;\n",
       "    }\n",
       "\n",
       "    .dataframe thead th {\n",
       "        text-align: right;\n",
       "    }\n",
       "</style>\n",
       "<table border=\"1\" class=\"dataframe\">\n",
       "  <thead>\n",
       "    <tr style=\"text-align: right;\">\n",
       "      <th></th>\n",
       "      <th>user_id</th>\n",
       "      <th>date</th>\n",
       "      <th>direction</th>\n",
       "      <th>internal</th>\n",
       "      <th>operator_id</th>\n",
       "      <th>is_missed_call</th>\n",
       "      <th>calls_count</th>\n",
       "      <th>call_duration</th>\n",
       "      <th>total_call_duration</th>\n",
       "      <th>tariff_plan</th>\n",
       "      <th>date_start</th>\n",
       "      <th>wait_time</th>\n",
       "      <th>cc_type</th>\n",
       "    </tr>\n",
       "  </thead>\n",
       "  <tbody>\n",
       "    <tr>\n",
       "      <th>240</th>\n",
       "      <td>166377</td>\n",
       "      <td>2019-10-01</td>\n",
       "      <td>out</td>\n",
       "      <td>False</td>\n",
       "      <td>880026</td>\n",
       "      <td>False</td>\n",
       "      <td>19</td>\n",
       "      <td>2023</td>\n",
       "      <td>2155</td>\n",
       "      <td>B</td>\n",
       "      <td>2019-08-01</td>\n",
       "      <td>132</td>\n",
       "      <td>outbound</td>\n",
       "    </tr>\n",
       "    <tr>\n",
       "      <th>241</th>\n",
       "      <td>166377</td>\n",
       "      <td>2019-10-01</td>\n",
       "      <td>out</td>\n",
       "      <td>False</td>\n",
       "      <td>880020</td>\n",
       "      <td>False</td>\n",
       "      <td>1</td>\n",
       "      <td>106</td>\n",
       "      <td>108</td>\n",
       "      <td>B</td>\n",
       "      <td>2019-08-01</td>\n",
       "      <td>2</td>\n",
       "      <td>outbound</td>\n",
       "    </tr>\n",
       "    <tr>\n",
       "      <th>242</th>\n",
       "      <td>166377</td>\n",
       "      <td>2019-10-01</td>\n",
       "      <td>out</td>\n",
       "      <td>False</td>\n",
       "      <td>880026</td>\n",
       "      <td>True</td>\n",
       "      <td>3</td>\n",
       "      <td>0</td>\n",
       "      <td>102</td>\n",
       "      <td>B</td>\n",
       "      <td>2019-08-01</td>\n",
       "      <td>102</td>\n",
       "      <td>outbound</td>\n",
       "    </tr>\n",
       "    <tr>\n",
       "      <th>243</th>\n",
       "      <td>166377</td>\n",
       "      <td>2019-10-02</td>\n",
       "      <td>out</td>\n",
       "      <td>False</td>\n",
       "      <td>880026</td>\n",
       "      <td>True</td>\n",
       "      <td>3</td>\n",
       "      <td>0</td>\n",
       "      <td>69</td>\n",
       "      <td>B</td>\n",
       "      <td>2019-08-01</td>\n",
       "      <td>69</td>\n",
       "      <td>outbound</td>\n",
       "    </tr>\n",
       "    <tr>\n",
       "      <th>244</th>\n",
       "      <td>166377</td>\n",
       "      <td>2019-10-02</td>\n",
       "      <td>in</td>\n",
       "      <td>False</td>\n",
       "      <td>880026</td>\n",
       "      <td>False</td>\n",
       "      <td>3</td>\n",
       "      <td>556</td>\n",
       "      <td>568</td>\n",
       "      <td>B</td>\n",
       "      <td>2019-08-01</td>\n",
       "      <td>12</td>\n",
       "      <td>outbound</td>\n",
       "    </tr>\n",
       "    <tr>\n",
       "      <th>...</th>\n",
       "      <td>...</td>\n",
       "      <td>...</td>\n",
       "      <td>...</td>\n",
       "      <td>...</td>\n",
       "      <td>...</td>\n",
       "      <td>...</td>\n",
       "      <td>...</td>\n",
       "      <td>...</td>\n",
       "      <td>...</td>\n",
       "      <td>...</td>\n",
       "      <td>...</td>\n",
       "      <td>...</td>\n",
       "      <td>...</td>\n",
       "    </tr>\n",
       "    <tr>\n",
       "      <th>30984</th>\n",
       "      <td>167819</td>\n",
       "      <td>2019-10-29</td>\n",
       "      <td>out</td>\n",
       "      <td>False</td>\n",
       "      <td>927916</td>\n",
       "      <td>True</td>\n",
       "      <td>1</td>\n",
       "      <td>0</td>\n",
       "      <td>27</td>\n",
       "      <td>C</td>\n",
       "      <td>2019-10-01</td>\n",
       "      <td>27</td>\n",
       "      <td>outbound</td>\n",
       "    </tr>\n",
       "    <tr>\n",
       "      <th>30985</th>\n",
       "      <td>167819</td>\n",
       "      <td>2019-10-29</td>\n",
       "      <td>out</td>\n",
       "      <td>False</td>\n",
       "      <td>927916</td>\n",
       "      <td>False</td>\n",
       "      <td>11</td>\n",
       "      <td>1484</td>\n",
       "      <td>1665</td>\n",
       "      <td>C</td>\n",
       "      <td>2019-10-01</td>\n",
       "      <td>181</td>\n",
       "      <td>outbound</td>\n",
       "    </tr>\n",
       "    <tr>\n",
       "      <th>30986</th>\n",
       "      <td>167819</td>\n",
       "      <td>2019-10-30</td>\n",
       "      <td>out</td>\n",
       "      <td>False</td>\n",
       "      <td>927916</td>\n",
       "      <td>False</td>\n",
       "      <td>8</td>\n",
       "      <td>1023</td>\n",
       "      <td>1142</td>\n",
       "      <td>C</td>\n",
       "      <td>2019-10-01</td>\n",
       "      <td>119</td>\n",
       "      <td>outbound</td>\n",
       "    </tr>\n",
       "    <tr>\n",
       "      <th>30987</th>\n",
       "      <td>167819</td>\n",
       "      <td>2019-10-30</td>\n",
       "      <td>out</td>\n",
       "      <td>False</td>\n",
       "      <td>927916</td>\n",
       "      <td>True</td>\n",
       "      <td>1</td>\n",
       "      <td>0</td>\n",
       "      <td>31</td>\n",
       "      <td>C</td>\n",
       "      <td>2019-10-01</td>\n",
       "      <td>31</td>\n",
       "      <td>outbound</td>\n",
       "    </tr>\n",
       "    <tr>\n",
       "      <th>30988</th>\n",
       "      <td>167819</td>\n",
       "      <td>2019-10-30</td>\n",
       "      <td>in</td>\n",
       "      <td>False</td>\n",
       "      <td>927916</td>\n",
       "      <td>False</td>\n",
       "      <td>9</td>\n",
       "      <td>1478</td>\n",
       "      <td>1505</td>\n",
       "      <td>C</td>\n",
       "      <td>2019-10-01</td>\n",
       "      <td>27</td>\n",
       "      <td>outbound</td>\n",
       "    </tr>\n",
       "  </tbody>\n",
       "</table>\n",
       "<p>11802 rows × 13 columns</p>\n",
       "</div>"
      ],
      "text/plain": [
       "       user_id       date direction  internal  operator_id  is_missed_call  \\\n",
       "240     166377 2019-10-01       out     False       880026           False   \n",
       "241     166377 2019-10-01       out     False       880020           False   \n",
       "242     166377 2019-10-01       out     False       880026            True   \n",
       "243     166377 2019-10-02       out     False       880026            True   \n",
       "244     166377 2019-10-02        in     False       880026           False   \n",
       "...        ...        ...       ...       ...          ...             ...   \n",
       "30984   167819 2019-10-29       out     False       927916            True   \n",
       "30985   167819 2019-10-29       out     False       927916           False   \n",
       "30986   167819 2019-10-30       out     False       927916           False   \n",
       "30987   167819 2019-10-30       out     False       927916            True   \n",
       "30988   167819 2019-10-30        in     False       927916           False   \n",
       "\n",
       "       calls_count  call_duration  total_call_duration tariff_plan date_start  \\\n",
       "240             19           2023                 2155           B 2019-08-01   \n",
       "241              1            106                  108           B 2019-08-01   \n",
       "242              3              0                  102           B 2019-08-01   \n",
       "243              3              0                   69           B 2019-08-01   \n",
       "244              3            556                  568           B 2019-08-01   \n",
       "...            ...            ...                  ...         ...        ...   \n",
       "30984            1              0                   27           C 2019-10-01   \n",
       "30985           11           1484                 1665           C 2019-10-01   \n",
       "30986            8           1023                 1142           C 2019-10-01   \n",
       "30987            1              0                   31           C 2019-10-01   \n",
       "30988            9           1478                 1505           C 2019-10-01   \n",
       "\n",
       "       wait_time   cc_type  \n",
       "240          132  outbound  \n",
       "241            2  outbound  \n",
       "242          102  outbound  \n",
       "243           69  outbound  \n",
       "244           12  outbound  \n",
       "...          ...       ...  \n",
       "30984         27  outbound  \n",
       "30985        181  outbound  \n",
       "30986        119  outbound  \n",
       "30987         31  outbound  \n",
       "30988         27  outbound  \n",
       "\n",
       "[11802 rows x 13 columns]"
      ]
     },
     "execution_count": 51,
     "metadata": {},
     "output_type": "execute_result"
    }
   ],
   "source": [
    "df_oct = df.query('date_start <= \"2019-10-01\" & date >= \"2019-10-01\" & date <= \"2019-10-31\"')\n",
    "df_oct"
   ]
  },
  {
   "cell_type": "markdown",
   "metadata": {},
   "source": [
    "### Метрики входящих взаимодействий"
   ]
  },
  {
   "cell_type": "markdown",
   "metadata": {},
   "source": [
    "Для входящих взаимодействий рассмотрим только входящие звонки, которые не относятся к внутренним звонкам. Таким образом, отберем данные только по входящим взаимодействиям с \"внешним миром\"."
   ]
  },
  {
   "cell_type": "code",
   "execution_count": 52,
   "metadata": {},
   "outputs": [],
   "source": [
    "df_in = df_oct.query('direction == \"in\" & internal == False')"
   ]
  },
  {
   "cell_type": "code",
   "execution_count": 53,
   "metadata": {},
   "outputs": [
    {
     "data": {
      "text/html": [
       "<div>\n",
       "<style scoped>\n",
       "    .dataframe tbody tr th:only-of-type {\n",
       "        vertical-align: middle;\n",
       "    }\n",
       "\n",
       "    .dataframe tbody tr th {\n",
       "        vertical-align: top;\n",
       "    }\n",
       "\n",
       "    .dataframe thead th {\n",
       "        text-align: right;\n",
       "    }\n",
       "</style>\n",
       "<table border=\"1\" class=\"dataframe\">\n",
       "  <thead>\n",
       "    <tr style=\"text-align: right;\">\n",
       "      <th></th>\n",
       "      <th>operator</th>\n",
       "      <th>missed</th>\n",
       "      <th>call_time_mean</th>\n",
       "      <th>total_calls</th>\n",
       "      <th>day_end</th>\n",
       "      <th>day_start</th>\n",
       "      <th>wait_time_mean</th>\n",
       "    </tr>\n",
       "  </thead>\n",
       "  <tbody>\n",
       "    <tr>\n",
       "      <th>0</th>\n",
       "      <td>879896</td>\n",
       "      <td>False</td>\n",
       "      <td>47.500000</td>\n",
       "      <td>2</td>\n",
       "      <td>2019-10-19</td>\n",
       "      <td>2019-10-14</td>\n",
       "      <td>20.500000</td>\n",
       "    </tr>\n",
       "    <tr>\n",
       "      <th>1</th>\n",
       "      <td>879898</td>\n",
       "      <td>False</td>\n",
       "      <td>121.052632</td>\n",
       "      <td>44</td>\n",
       "      <td>2019-10-30</td>\n",
       "      <td>2019-10-01</td>\n",
       "      <td>45.526316</td>\n",
       "    </tr>\n",
       "    <tr>\n",
       "      <th>2</th>\n",
       "      <td>880022</td>\n",
       "      <td>False</td>\n",
       "      <td>13.000000</td>\n",
       "      <td>1</td>\n",
       "      <td>2019-10-15</td>\n",
       "      <td>2019-10-15</td>\n",
       "      <td>18.000000</td>\n",
       "    </tr>\n",
       "    <tr>\n",
       "      <th>3</th>\n",
       "      <td>880026</td>\n",
       "      <td>False</td>\n",
       "      <td>174.400000</td>\n",
       "      <td>9</td>\n",
       "      <td>2019-10-31</td>\n",
       "      <td>2019-10-02</td>\n",
       "      <td>7.600000</td>\n",
       "    </tr>\n",
       "    <tr>\n",
       "      <th>4</th>\n",
       "      <td>880028</td>\n",
       "      <td>False</td>\n",
       "      <td>106.000000</td>\n",
       "      <td>19</td>\n",
       "      <td>2019-10-31</td>\n",
       "      <td>2019-10-03</td>\n",
       "      <td>5.833333</td>\n",
       "    </tr>\n",
       "    <tr>\n",
       "      <th>...</th>\n",
       "      <td>...</td>\n",
       "      <td>...</td>\n",
       "      <td>...</td>\n",
       "      <td>...</td>\n",
       "      <td>...</td>\n",
       "      <td>...</td>\n",
       "      <td>...</td>\n",
       "    </tr>\n",
       "    <tr>\n",
       "      <th>432</th>\n",
       "      <td>944808</td>\n",
       "      <td>False</td>\n",
       "      <td>130.500000</td>\n",
       "      <td>12</td>\n",
       "      <td>2019-10-31</td>\n",
       "      <td>2019-10-23</td>\n",
       "      <td>5.000000</td>\n",
       "    </tr>\n",
       "    <tr>\n",
       "      <th>433</th>\n",
       "      <td>945710</td>\n",
       "      <td>False</td>\n",
       "      <td>50.000000</td>\n",
       "      <td>1</td>\n",
       "      <td>2019-10-24</td>\n",
       "      <td>2019-10-24</td>\n",
       "      <td>17.000000</td>\n",
       "    </tr>\n",
       "    <tr>\n",
       "      <th>434</th>\n",
       "      <td>946032</td>\n",
       "      <td>False</td>\n",
       "      <td>95.000000</td>\n",
       "      <td>1</td>\n",
       "      <td>2019-10-24</td>\n",
       "      <td>2019-10-24</td>\n",
       "      <td>8.000000</td>\n",
       "    </tr>\n",
       "    <tr>\n",
       "      <th>435</th>\n",
       "      <td>946916</td>\n",
       "      <td>False</td>\n",
       "      <td>57.750000</td>\n",
       "      <td>8</td>\n",
       "      <td>2019-10-30</td>\n",
       "      <td>2019-10-25</td>\n",
       "      <td>5.250000</td>\n",
       "    </tr>\n",
       "    <tr>\n",
       "      <th>436</th>\n",
       "      <td>951526</td>\n",
       "      <td>False</td>\n",
       "      <td>355.000000</td>\n",
       "      <td>1</td>\n",
       "      <td>2019-10-31</td>\n",
       "      <td>2019-10-31</td>\n",
       "      <td>8.000000</td>\n",
       "    </tr>\n",
       "  </tbody>\n",
       "</table>\n",
       "<p>437 rows × 7 columns</p>\n",
       "</div>"
      ],
      "text/plain": [
       "     operator  missed  call_time_mean  total_calls    day_end  day_start  \\\n",
       "0      879896   False       47.500000            2 2019-10-19 2019-10-14   \n",
       "1      879898   False      121.052632           44 2019-10-30 2019-10-01   \n",
       "2      880022   False       13.000000            1 2019-10-15 2019-10-15   \n",
       "3      880026   False      174.400000            9 2019-10-31 2019-10-02   \n",
       "4      880028   False      106.000000           19 2019-10-31 2019-10-03   \n",
       "..        ...     ...             ...          ...        ...        ...   \n",
       "432    944808   False      130.500000           12 2019-10-31 2019-10-23   \n",
       "433    945710   False       50.000000            1 2019-10-24 2019-10-24   \n",
       "434    946032   False       95.000000            1 2019-10-24 2019-10-24   \n",
       "435    946916   False       57.750000            8 2019-10-30 2019-10-25   \n",
       "436    951526   False      355.000000            1 2019-10-31 2019-10-31   \n",
       "\n",
       "     wait_time_mean  \n",
       "0         20.500000  \n",
       "1         45.526316  \n",
       "2         18.000000  \n",
       "3          7.600000  \n",
       "4          5.833333  \n",
       "..              ...  \n",
       "432        5.000000  \n",
       "433       17.000000  \n",
       "434        8.000000  \n",
       "435        5.250000  \n",
       "436        8.000000  \n",
       "\n",
       "[437 rows x 7 columns]"
      ]
     },
     "execution_count": 53,
     "metadata": {},
     "output_type": "execute_result"
    }
   ],
   "source": [
    "op_in = df_in.pivot_table(index=['operator_id','is_missed_call'],\n",
    "                  values=['date','calls_count','call_duration','wait_time'],\n",
    "                  aggfunc={'date':['min','max'],\n",
    "                          'calls_count':'sum',\n",
    "                          'call_duration':'mean',\n",
    "                          'wait_time':'mean'}).reset_index()\n",
    "op_in.columns=['operator','missed','call_time_mean','total_calls','day_end','day_start','wait_time_mean']\n",
    "op_in"
   ]
  },
  {
   "cell_type": "markdown",
   "metadata": {},
   "source": [
    "В первую очередь необходимо определить долю пропущенных звонков у каждого оператора и дополнить таблицу соответствующим столбцом."
   ]
  },
  {
   "cell_type": "code",
   "execution_count": 54,
   "metadata": {
    "scrolled": false
   },
   "outputs": [],
   "source": [
    "tmp = op_in.query('missed==True')\n",
    "tmp=tmp.drop(columns=['missed','day_end','day_start'])\n",
    "tmp.columns=['operator','missed_call_time_mean','total_missed','missed_wait_time_mean']"
   ]
  },
  {
   "cell_type": "code",
   "execution_count": 55,
   "metadata": {
    "scrolled": false
   },
   "outputs": [],
   "source": [
    "op_in=op_in.query('missed == False').drop(columns='missed').merge(tmp,how='left')\n",
    "op_in=op_in.fillna(0)"
   ]
  },
  {
   "cell_type": "code",
   "execution_count": 56,
   "metadata": {},
   "outputs": [],
   "source": [
    "def miss_share(row):\n",
    "    tot = row['total_calls']\n",
    "    mis = row['total_missed']\n",
    "    if mis == 0:\n",
    "        return 0\n",
    "    else:\n",
    "        result = round(mis/(tot+mis)*100,2)\n",
    "        return result"
   ]
  },
  {
   "cell_type": "code",
   "execution_count": 57,
   "metadata": {},
   "outputs": [],
   "source": [
    "op_in['miss_share'] = op_in.apply(miss_share,axis=1)"
   ]
  },
  {
   "cell_type": "code",
   "execution_count": 58,
   "metadata": {},
   "outputs": [],
   "source": [
    "op_in['days_active']= (op_in['day_end'] - op_in['day_start']).dt.days +1\n",
    "op_in=op_in.drop(columns=['day_end','day_start'])\n",
    "op_in['call_time_mean']=round(op_in['call_time_mean'],2)\n",
    "op_in['wait_time_mean']=round(op_in['wait_time_mean'],2)"
   ]
  },
  {
   "cell_type": "code",
   "execution_count": 59,
   "metadata": {},
   "outputs": [
    {
     "data": {
      "text/html": [
       "<div>\n",
       "<style scoped>\n",
       "    .dataframe tbody tr th:only-of-type {\n",
       "        vertical-align: middle;\n",
       "    }\n",
       "\n",
       "    .dataframe tbody tr th {\n",
       "        vertical-align: top;\n",
       "    }\n",
       "\n",
       "    .dataframe thead th {\n",
       "        text-align: right;\n",
       "    }\n",
       "</style>\n",
       "<table border=\"1\" class=\"dataframe\">\n",
       "  <thead>\n",
       "    <tr style=\"text-align: right;\">\n",
       "      <th></th>\n",
       "      <th>operator</th>\n",
       "      <th>call_time_mean</th>\n",
       "      <th>total_calls</th>\n",
       "      <th>wait_time_mean</th>\n",
       "      <th>missed_call_time_mean</th>\n",
       "      <th>total_missed</th>\n",
       "      <th>missed_wait_time_mean</th>\n",
       "      <th>miss_share</th>\n",
       "      <th>days_active</th>\n",
       "      <th>miss_flag</th>\n",
       "      <th>wait_flag</th>\n",
       "      <th>call_flag</th>\n",
       "    </tr>\n",
       "  </thead>\n",
       "  <tbody>\n",
       "    <tr>\n",
       "      <th>0</th>\n",
       "      <td>879896</td>\n",
       "      <td>47.50</td>\n",
       "      <td>2</td>\n",
       "      <td>20.50</td>\n",
       "      <td>0.0</td>\n",
       "      <td>0.0</td>\n",
       "      <td>0.0</td>\n",
       "      <td>0.0</td>\n",
       "      <td>6</td>\n",
       "      <td>Normal</td>\n",
       "      <td>Normal</td>\n",
       "      <td>Normal</td>\n",
       "    </tr>\n",
       "    <tr>\n",
       "      <th>1</th>\n",
       "      <td>879898</td>\n",
       "      <td>121.05</td>\n",
       "      <td>44</td>\n",
       "      <td>45.53</td>\n",
       "      <td>0.0</td>\n",
       "      <td>0.0</td>\n",
       "      <td>0.0</td>\n",
       "      <td>0.0</td>\n",
       "      <td>30</td>\n",
       "      <td>Normal</td>\n",
       "      <td>Long wait alert</td>\n",
       "      <td>Normal</td>\n",
       "    </tr>\n",
       "    <tr>\n",
       "      <th>2</th>\n",
       "      <td>880022</td>\n",
       "      <td>13.00</td>\n",
       "      <td>1</td>\n",
       "      <td>18.00</td>\n",
       "      <td>0.0</td>\n",
       "      <td>0.0</td>\n",
       "      <td>0.0</td>\n",
       "      <td>0.0</td>\n",
       "      <td>1</td>\n",
       "      <td>Normal</td>\n",
       "      <td>Normal</td>\n",
       "      <td>Normal</td>\n",
       "    </tr>\n",
       "    <tr>\n",
       "      <th>3</th>\n",
       "      <td>880026</td>\n",
       "      <td>174.40</td>\n",
       "      <td>9</td>\n",
       "      <td>7.60</td>\n",
       "      <td>0.0</td>\n",
       "      <td>0.0</td>\n",
       "      <td>0.0</td>\n",
       "      <td>0.0</td>\n",
       "      <td>30</td>\n",
       "      <td>Normal</td>\n",
       "      <td>Normal</td>\n",
       "      <td>Normal</td>\n",
       "    </tr>\n",
       "    <tr>\n",
       "      <th>4</th>\n",
       "      <td>880028</td>\n",
       "      <td>106.00</td>\n",
       "      <td>19</td>\n",
       "      <td>5.83</td>\n",
       "      <td>0.0</td>\n",
       "      <td>0.0</td>\n",
       "      <td>0.0</td>\n",
       "      <td>0.0</td>\n",
       "      <td>29</td>\n",
       "      <td>Normal</td>\n",
       "      <td>Normal</td>\n",
       "      <td>Normal</td>\n",
       "    </tr>\n",
       "    <tr>\n",
       "      <th>...</th>\n",
       "      <td>...</td>\n",
       "      <td>...</td>\n",
       "      <td>...</td>\n",
       "      <td>...</td>\n",
       "      <td>...</td>\n",
       "      <td>...</td>\n",
       "      <td>...</td>\n",
       "      <td>...</td>\n",
       "      <td>...</td>\n",
       "      <td>...</td>\n",
       "      <td>...</td>\n",
       "      <td>...</td>\n",
       "    </tr>\n",
       "    <tr>\n",
       "      <th>347</th>\n",
       "      <td>944808</td>\n",
       "      <td>130.50</td>\n",
       "      <td>12</td>\n",
       "      <td>5.00</td>\n",
       "      <td>0.0</td>\n",
       "      <td>0.0</td>\n",
       "      <td>0.0</td>\n",
       "      <td>0.0</td>\n",
       "      <td>9</td>\n",
       "      <td>Normal</td>\n",
       "      <td>Normal</td>\n",
       "      <td>Normal</td>\n",
       "    </tr>\n",
       "    <tr>\n",
       "      <th>348</th>\n",
       "      <td>945710</td>\n",
       "      <td>50.00</td>\n",
       "      <td>1</td>\n",
       "      <td>17.00</td>\n",
       "      <td>0.0</td>\n",
       "      <td>0.0</td>\n",
       "      <td>0.0</td>\n",
       "      <td>0.0</td>\n",
       "      <td>1</td>\n",
       "      <td>Normal</td>\n",
       "      <td>Normal</td>\n",
       "      <td>Normal</td>\n",
       "    </tr>\n",
       "    <tr>\n",
       "      <th>349</th>\n",
       "      <td>946032</td>\n",
       "      <td>95.00</td>\n",
       "      <td>1</td>\n",
       "      <td>8.00</td>\n",
       "      <td>0.0</td>\n",
       "      <td>0.0</td>\n",
       "      <td>0.0</td>\n",
       "      <td>0.0</td>\n",
       "      <td>1</td>\n",
       "      <td>Normal</td>\n",
       "      <td>Normal</td>\n",
       "      <td>Normal</td>\n",
       "    </tr>\n",
       "    <tr>\n",
       "      <th>350</th>\n",
       "      <td>946916</td>\n",
       "      <td>57.75</td>\n",
       "      <td>8</td>\n",
       "      <td>5.25</td>\n",
       "      <td>0.0</td>\n",
       "      <td>0.0</td>\n",
       "      <td>0.0</td>\n",
       "      <td>0.0</td>\n",
       "      <td>6</td>\n",
       "      <td>Normal</td>\n",
       "      <td>Normal</td>\n",
       "      <td>Normal</td>\n",
       "    </tr>\n",
       "    <tr>\n",
       "      <th>351</th>\n",
       "      <td>951526</td>\n",
       "      <td>355.00</td>\n",
       "      <td>1</td>\n",
       "      <td>8.00</td>\n",
       "      <td>0.0</td>\n",
       "      <td>0.0</td>\n",
       "      <td>0.0</td>\n",
       "      <td>0.0</td>\n",
       "      <td>1</td>\n",
       "      <td>Normal</td>\n",
       "      <td>Normal</td>\n",
       "      <td>Long call alert</td>\n",
       "    </tr>\n",
       "  </tbody>\n",
       "</table>\n",
       "<p>352 rows × 12 columns</p>\n",
       "</div>"
      ],
      "text/plain": [
       "     operator  call_time_mean  total_calls  wait_time_mean  \\\n",
       "0      879896           47.50            2           20.50   \n",
       "1      879898          121.05           44           45.53   \n",
       "2      880022           13.00            1           18.00   \n",
       "3      880026          174.40            9            7.60   \n",
       "4      880028          106.00           19            5.83   \n",
       "..        ...             ...          ...             ...   \n",
       "347    944808          130.50           12            5.00   \n",
       "348    945710           50.00            1           17.00   \n",
       "349    946032           95.00            1            8.00   \n",
       "350    946916           57.75            8            5.25   \n",
       "351    951526          355.00            1            8.00   \n",
       "\n",
       "     missed_call_time_mean  total_missed  missed_wait_time_mean  miss_share  \\\n",
       "0                      0.0           0.0                    0.0         0.0   \n",
       "1                      0.0           0.0                    0.0         0.0   \n",
       "2                      0.0           0.0                    0.0         0.0   \n",
       "3                      0.0           0.0                    0.0         0.0   \n",
       "4                      0.0           0.0                    0.0         0.0   \n",
       "..                     ...           ...                    ...         ...   \n",
       "347                    0.0           0.0                    0.0         0.0   \n",
       "348                    0.0           0.0                    0.0         0.0   \n",
       "349                    0.0           0.0                    0.0         0.0   \n",
       "350                    0.0           0.0                    0.0         0.0   \n",
       "351                    0.0           0.0                    0.0         0.0   \n",
       "\n",
       "     days_active miss_flag        wait_flag        call_flag  \n",
       "0              6    Normal           Normal           Normal  \n",
       "1             30    Normal  Long wait alert           Normal  \n",
       "2              1    Normal           Normal           Normal  \n",
       "3             30    Normal           Normal           Normal  \n",
       "4             29    Normal           Normal           Normal  \n",
       "..           ...       ...              ...              ...  \n",
       "347            9    Normal           Normal           Normal  \n",
       "348            1    Normal           Normal           Normal  \n",
       "349            1    Normal           Normal           Normal  \n",
       "350            6    Normal           Normal           Normal  \n",
       "351            1    Normal           Normal  Long call alert  \n",
       "\n",
       "[352 rows x 12 columns]"
      ]
     },
     "execution_count": 59,
     "metadata": {},
     "output_type": "execute_result"
    }
   ],
   "source": [
    "# функция присвоения флага превышения норматива пропущенных\n",
    "def cat_miss(row):\n",
    "    miss = row['miss_share']\n",
    "    if miss > 5:\n",
    "        return 'High miss alert'\n",
    "    else:\n",
    "        return 'Normal'\n",
    "op_in['miss_flag']=op_in.apply(cat_miss,axis=1)\n",
    "\n",
    "# функция присвоения флага превышения норматива ожидания\n",
    "def cat_waited(row):\n",
    "    wait = row['wait_time_mean']\n",
    "    if wait > 28:\n",
    "        return 'Long wait alert'\n",
    "    else:\n",
    "        return 'Normal'\n",
    "op_in['wait_flag']=op_in.apply(cat_waited,axis=1)\n",
    "\n",
    "# функция присвоения флага превышения времени разговора\n",
    "def cat_call(row):\n",
    "    call = row['call_time_mean']\n",
    "    if call > 240:\n",
    "        return 'Long call alert'\n",
    "    else:\n",
    "        return 'Normal'\n",
    "op_in['call_flag']=op_in.apply(cat_call,axis=1)\n",
    "\n",
    "op_in"
   ]
  },
  {
   "cell_type": "markdown",
   "metadata": {},
   "source": [
    "Как итог мы получаем общую таблицу по каждому оператору, где указаны: среднее время звонка, общее число звонков, среднее время ожидания, среднее время пропущенных звонков, общее число пропущенных звонков, среднее время ожидания для пропущенных звонков, доля пропущенных звонков и число дней активности. Также мы имеем возможность увидеть есть ли превышение норматива у того или иного оператора по времени ожидания, доле пропущенных звонков или по времени разговора.\n",
    "\n",
    "Для того, чтобы рассмотреть данные по любому из операторов, эффективность которых изучается в отдельно взятом месяце, можно предложить следующий вывод:"
   ]
  },
  {
   "cell_type": "code",
   "execution_count": 60,
   "metadata": {},
   "outputs": [],
   "source": [
    "#функция для вывода таблицы показателей по оператору\n",
    "\n",
    "def show_in_stats():\n",
    "    operator_id = int(input('Введите id оператора'))\n",
    "    if operator_id in op_in['operator'].values:\n",
    "        display(op_in.loc[op_in['operator']==operator_id].transpose())\n",
    "    else:\n",
    "        print('Оператор не найден')"
   ]
  },
  {
   "cell_type": "code",
   "execution_count": 61,
   "metadata": {},
   "outputs": [
    {
     "name": "stdout",
     "output_type": "stream",
     "text": [
      "Введите id оператора880028\n"
     ]
    },
    {
     "data": {
      "text/html": [
       "<div>\n",
       "<style scoped>\n",
       "    .dataframe tbody tr th:only-of-type {\n",
       "        vertical-align: middle;\n",
       "    }\n",
       "\n",
       "    .dataframe tbody tr th {\n",
       "        vertical-align: top;\n",
       "    }\n",
       "\n",
       "    .dataframe thead th {\n",
       "        text-align: right;\n",
       "    }\n",
       "</style>\n",
       "<table border=\"1\" class=\"dataframe\">\n",
       "  <thead>\n",
       "    <tr style=\"text-align: right;\">\n",
       "      <th></th>\n",
       "      <th>4</th>\n",
       "    </tr>\n",
       "  </thead>\n",
       "  <tbody>\n",
       "    <tr>\n",
       "      <th>operator</th>\n",
       "      <td>880028</td>\n",
       "    </tr>\n",
       "    <tr>\n",
       "      <th>call_time_mean</th>\n",
       "      <td>106.0</td>\n",
       "    </tr>\n",
       "    <tr>\n",
       "      <th>total_calls</th>\n",
       "      <td>19</td>\n",
       "    </tr>\n",
       "    <tr>\n",
       "      <th>wait_time_mean</th>\n",
       "      <td>5.83</td>\n",
       "    </tr>\n",
       "    <tr>\n",
       "      <th>missed_call_time_mean</th>\n",
       "      <td>0.0</td>\n",
       "    </tr>\n",
       "    <tr>\n",
       "      <th>total_missed</th>\n",
       "      <td>0.0</td>\n",
       "    </tr>\n",
       "    <tr>\n",
       "      <th>missed_wait_time_mean</th>\n",
       "      <td>0.0</td>\n",
       "    </tr>\n",
       "    <tr>\n",
       "      <th>miss_share</th>\n",
       "      <td>0.0</td>\n",
       "    </tr>\n",
       "    <tr>\n",
       "      <th>days_active</th>\n",
       "      <td>29</td>\n",
       "    </tr>\n",
       "    <tr>\n",
       "      <th>miss_flag</th>\n",
       "      <td>Normal</td>\n",
       "    </tr>\n",
       "    <tr>\n",
       "      <th>wait_flag</th>\n",
       "      <td>Normal</td>\n",
       "    </tr>\n",
       "    <tr>\n",
       "      <th>call_flag</th>\n",
       "      <td>Normal</td>\n",
       "    </tr>\n",
       "  </tbody>\n",
       "</table>\n",
       "</div>"
      ],
      "text/plain": [
       "                            4\n",
       "operator               880028\n",
       "call_time_mean          106.0\n",
       "total_calls                19\n",
       "wait_time_mean           5.83\n",
       "missed_call_time_mean     0.0\n",
       "total_missed              0.0\n",
       "missed_wait_time_mean     0.0\n",
       "miss_share                0.0\n",
       "days_active                29\n",
       "miss_flag              Normal\n",
       "wait_flag              Normal\n",
       "call_flag              Normal"
      ]
     },
     "metadata": {},
     "output_type": "display_data"
    }
   ],
   "source": [
    "show_in_stats() #для примера рекомендуется использовать оператора 880028"
   ]
  },
  {
   "cell_type": "markdown",
   "metadata": {},
   "source": [
    "Таким образом, предполагая, что у заказчика есть список идентификационных номеров операторов (это может быть табельный номер, личный номер и прочее), можно предложить получать вывод по каждому интересующему оператору, если необходимо проверить персональную эффективность. Аналогичным образом, можно встроить результирующую таблицу (предварительно ее выгрузив) по всем операторам в систему управления эффективностью или в иной другой подобный дашборд, где будет показываться такая сводка."
   ]
  },
  {
   "cell_type": "markdown",
   "metadata": {},
   "source": [
    "**Дополнительный вывод операторов с предупреждающими флагами**\n",
    "\n",
    "Поскольку для входящих взаимодействий мы имеем установленные флаги, можно вывести список всех операторов со сводными данными об их активности для наглядной демонстрации."
   ]
  },
  {
   "cell_type": "code",
   "execution_count": 62,
   "metadata": {},
   "outputs": [
    {
     "data": {
      "text/html": [
       "<div>\n",
       "<style scoped>\n",
       "    .dataframe tbody tr th:only-of-type {\n",
       "        vertical-align: middle;\n",
       "    }\n",
       "\n",
       "    .dataframe tbody tr th {\n",
       "        vertical-align: top;\n",
       "    }\n",
       "\n",
       "    .dataframe thead th {\n",
       "        text-align: right;\n",
       "    }\n",
       "</style>\n",
       "<table border=\"1\" class=\"dataframe\">\n",
       "  <thead>\n",
       "    <tr style=\"text-align: right;\">\n",
       "      <th></th>\n",
       "      <th>operator</th>\n",
       "      <th>call_time_mean</th>\n",
       "      <th>total_calls</th>\n",
       "      <th>wait_time_mean</th>\n",
       "      <th>missed_call_time_mean</th>\n",
       "      <th>total_missed</th>\n",
       "      <th>missed_wait_time_mean</th>\n",
       "      <th>miss_share</th>\n",
       "      <th>days_active</th>\n",
       "      <th>miss_flag</th>\n",
       "      <th>wait_flag</th>\n",
       "      <th>call_flag</th>\n",
       "    </tr>\n",
       "  </thead>\n",
       "  <tbody>\n",
       "    <tr>\n",
       "      <th>23</th>\n",
       "      <td>888532</td>\n",
       "      <td>424.80</td>\n",
       "      <td>7</td>\n",
       "      <td>29.00</td>\n",
       "      <td>0.0</td>\n",
       "      <td>1.0</td>\n",
       "      <td>67.0</td>\n",
       "      <td>12.50</td>\n",
       "      <td>15</td>\n",
       "      <td>High miss alert</td>\n",
       "      <td>Long wait alert</td>\n",
       "      <td>Long call alert</td>\n",
       "    </tr>\n",
       "    <tr>\n",
       "      <th>26</th>\n",
       "      <td>888868</td>\n",
       "      <td>372.86</td>\n",
       "      <td>14</td>\n",
       "      <td>50.29</td>\n",
       "      <td>1.0</td>\n",
       "      <td>1.0</td>\n",
       "      <td>15.0</td>\n",
       "      <td>6.67</td>\n",
       "      <td>24</td>\n",
       "      <td>High miss alert</td>\n",
       "      <td>Long wait alert</td>\n",
       "      <td>Long call alert</td>\n",
       "    </tr>\n",
       "    <tr>\n",
       "      <th>148</th>\n",
       "      <td>906396</td>\n",
       "      <td>266.60</td>\n",
       "      <td>36</td>\n",
       "      <td>116.80</td>\n",
       "      <td>87.0</td>\n",
       "      <td>2.0</td>\n",
       "      <td>48.0</td>\n",
       "      <td>5.26</td>\n",
       "      <td>30</td>\n",
       "      <td>High miss alert</td>\n",
       "      <td>Long wait alert</td>\n",
       "      <td>Long call alert</td>\n",
       "    </tr>\n",
       "    <tr>\n",
       "      <th>196</th>\n",
       "      <td>912684</td>\n",
       "      <td>266.00</td>\n",
       "      <td>17</td>\n",
       "      <td>84.00</td>\n",
       "      <td>1.0</td>\n",
       "      <td>1.0</td>\n",
       "      <td>60.0</td>\n",
       "      <td>5.56</td>\n",
       "      <td>15</td>\n",
       "      <td>High miss alert</td>\n",
       "      <td>Long wait alert</td>\n",
       "      <td>Long call alert</td>\n",
       "    </tr>\n",
       "    <tr>\n",
       "      <th>280</th>\n",
       "      <td>924930</td>\n",
       "      <td>341.00</td>\n",
       "      <td>10</td>\n",
       "      <td>70.00</td>\n",
       "      <td>0.0</td>\n",
       "      <td>1.0</td>\n",
       "      <td>9.0</td>\n",
       "      <td>9.09</td>\n",
       "      <td>18</td>\n",
       "      <td>High miss alert</td>\n",
       "      <td>Long wait alert</td>\n",
       "      <td>Long call alert</td>\n",
       "    </tr>\n",
       "    <tr>\n",
       "      <th>324</th>\n",
       "      <td>932460</td>\n",
       "      <td>255.00</td>\n",
       "      <td>18</td>\n",
       "      <td>36.33</td>\n",
       "      <td>0.0</td>\n",
       "      <td>1.0</td>\n",
       "      <td>18.0</td>\n",
       "      <td>5.26</td>\n",
       "      <td>20</td>\n",
       "      <td>High miss alert</td>\n",
       "      <td>Long wait alert</td>\n",
       "      <td>Long call alert</td>\n",
       "    </tr>\n",
       "  </tbody>\n",
       "</table>\n",
       "</div>"
      ],
      "text/plain": [
       "     operator  call_time_mean  total_calls  wait_time_mean  \\\n",
       "23     888532          424.80            7           29.00   \n",
       "26     888868          372.86           14           50.29   \n",
       "148    906396          266.60           36          116.80   \n",
       "196    912684          266.00           17           84.00   \n",
       "280    924930          341.00           10           70.00   \n",
       "324    932460          255.00           18           36.33   \n",
       "\n",
       "     missed_call_time_mean  total_missed  missed_wait_time_mean  miss_share  \\\n",
       "23                     0.0           1.0                   67.0       12.50   \n",
       "26                     1.0           1.0                   15.0        6.67   \n",
       "148                   87.0           2.0                   48.0        5.26   \n",
       "196                    1.0           1.0                   60.0        5.56   \n",
       "280                    0.0           1.0                    9.0        9.09   \n",
       "324                    0.0           1.0                   18.0        5.26   \n",
       "\n",
       "     days_active        miss_flag        wait_flag        call_flag  \n",
       "23            15  High miss alert  Long wait alert  Long call alert  \n",
       "26            24  High miss alert  Long wait alert  Long call alert  \n",
       "148           30  High miss alert  Long wait alert  Long call alert  \n",
       "196           15  High miss alert  Long wait alert  Long call alert  \n",
       "280           18  High miss alert  Long wait alert  Long call alert  \n",
       "324           20  High miss alert  Long wait alert  Long call alert  "
      ]
     },
     "execution_count": 62,
     "metadata": {},
     "output_type": "execute_result"
    }
   ],
   "source": [
    "op_in.query('miss_flag == \"High miss alert\" & wait_flag == \"Long wait alert\" & call_flag == \"Long call alert\"')"
   ]
  },
  {
   "cell_type": "markdown",
   "metadata": {},
   "source": [
    "Итого, в сервисе есть 6 операторов, которые одновременно показывают высокое время разговора, высокое время ожидания и высокую долю пропущенных вызовов. При этом, оценивая эффективность операторов, необходимо смотреть не только на критические триггеры, но в том числе и на иные параметры. К примеру, оператор 888532 принял всего 7 звонков и пропустил всего 1 звонок за 15 дней активности. Но в среднем на него пришлось по одному звонку в два дня, и для принятия управленческих решений необходимо дополнительно изучать применяемые к оператору требования SLA, а также его показатели по входящим звонкам. И для всех остальных операторов (учитывая ранее исследованый набор признаков для колл-центров) необходимо рассматривать их эффективность в разрезе задач, стоящих перед ним.\n",
    "\n",
    "Дополнительно отобразим операторов, у которых есть хотя бы один критический триггер."
   ]
  },
  {
   "cell_type": "code",
   "execution_count": 63,
   "metadata": {},
   "outputs": [
    {
     "data": {
      "text/html": [
       "<div>\n",
       "<style scoped>\n",
       "    .dataframe tbody tr th:only-of-type {\n",
       "        vertical-align: middle;\n",
       "    }\n",
       "\n",
       "    .dataframe tbody tr th {\n",
       "        vertical-align: top;\n",
       "    }\n",
       "\n",
       "    .dataframe thead th {\n",
       "        text-align: right;\n",
       "    }\n",
       "</style>\n",
       "<table border=\"1\" class=\"dataframe\">\n",
       "  <thead>\n",
       "    <tr style=\"text-align: right;\">\n",
       "      <th></th>\n",
       "      <th>operator</th>\n",
       "      <th>call_time_mean</th>\n",
       "      <th>total_calls</th>\n",
       "      <th>wait_time_mean</th>\n",
       "      <th>missed_call_time_mean</th>\n",
       "      <th>total_missed</th>\n",
       "      <th>missed_wait_time_mean</th>\n",
       "      <th>miss_share</th>\n",
       "      <th>days_active</th>\n",
       "      <th>miss_flag</th>\n",
       "      <th>wait_flag</th>\n",
       "      <th>call_flag</th>\n",
       "    </tr>\n",
       "  </thead>\n",
       "  <tbody>\n",
       "    <tr>\n",
       "      <th>1</th>\n",
       "      <td>879898</td>\n",
       "      <td>121.05</td>\n",
       "      <td>44</td>\n",
       "      <td>45.53</td>\n",
       "      <td>0.0</td>\n",
       "      <td>0.0</td>\n",
       "      <td>0.0</td>\n",
       "      <td>0.0</td>\n",
       "      <td>30</td>\n",
       "      <td>Normal</td>\n",
       "      <td>Long wait alert</td>\n",
       "      <td>Normal</td>\n",
       "    </tr>\n",
       "    <tr>\n",
       "      <th>5</th>\n",
       "      <td>882680</td>\n",
       "      <td>98.71</td>\n",
       "      <td>12</td>\n",
       "      <td>28.71</td>\n",
       "      <td>0.0</td>\n",
       "      <td>0.0</td>\n",
       "      <td>0.0</td>\n",
       "      <td>0.0</td>\n",
       "      <td>27</td>\n",
       "      <td>Normal</td>\n",
       "      <td>Long wait alert</td>\n",
       "      <td>Normal</td>\n",
       "    </tr>\n",
       "    <tr>\n",
       "      <th>6</th>\n",
       "      <td>882684</td>\n",
       "      <td>207.25</td>\n",
       "      <td>15</td>\n",
       "      <td>61.50</td>\n",
       "      <td>0.0</td>\n",
       "      <td>0.0</td>\n",
       "      <td>0.0</td>\n",
       "      <td>0.0</td>\n",
       "      <td>17</td>\n",
       "      <td>Normal</td>\n",
       "      <td>Long wait alert</td>\n",
       "      <td>Normal</td>\n",
       "    </tr>\n",
       "    <tr>\n",
       "      <th>7</th>\n",
       "      <td>882686</td>\n",
       "      <td>410.14</td>\n",
       "      <td>21</td>\n",
       "      <td>63.86</td>\n",
       "      <td>0.0</td>\n",
       "      <td>0.0</td>\n",
       "      <td>0.0</td>\n",
       "      <td>0.0</td>\n",
       "      <td>30</td>\n",
       "      <td>Normal</td>\n",
       "      <td>Long wait alert</td>\n",
       "      <td>Long call alert</td>\n",
       "    </tr>\n",
       "    <tr>\n",
       "      <th>8</th>\n",
       "      <td>882688</td>\n",
       "      <td>741.50</td>\n",
       "      <td>15</td>\n",
       "      <td>336.50</td>\n",
       "      <td>0.0</td>\n",
       "      <td>0.0</td>\n",
       "      <td>0.0</td>\n",
       "      <td>0.0</td>\n",
       "      <td>16</td>\n",
       "      <td>Normal</td>\n",
       "      <td>Long wait alert</td>\n",
       "      <td>Long call alert</td>\n",
       "    </tr>\n",
       "    <tr>\n",
       "      <th>...</th>\n",
       "      <td>...</td>\n",
       "      <td>...</td>\n",
       "      <td>...</td>\n",
       "      <td>...</td>\n",
       "      <td>...</td>\n",
       "      <td>...</td>\n",
       "      <td>...</td>\n",
       "      <td>...</td>\n",
       "      <td>...</td>\n",
       "      <td>...</td>\n",
       "      <td>...</td>\n",
       "      <td>...</td>\n",
       "    </tr>\n",
       "    <tr>\n",
       "      <th>339</th>\n",
       "      <td>940968</td>\n",
       "      <td>133.67</td>\n",
       "      <td>4</td>\n",
       "      <td>30.67</td>\n",
       "      <td>0.0</td>\n",
       "      <td>0.0</td>\n",
       "      <td>0.0</td>\n",
       "      <td>0.0</td>\n",
       "      <td>6</td>\n",
       "      <td>Normal</td>\n",
       "      <td>Long wait alert</td>\n",
       "      <td>Normal</td>\n",
       "    </tr>\n",
       "    <tr>\n",
       "      <th>341</th>\n",
       "      <td>943066</td>\n",
       "      <td>269.33</td>\n",
       "      <td>4</td>\n",
       "      <td>12.67</td>\n",
       "      <td>0.0</td>\n",
       "      <td>0.0</td>\n",
       "      <td>0.0</td>\n",
       "      <td>0.0</td>\n",
       "      <td>3</td>\n",
       "      <td>Normal</td>\n",
       "      <td>Normal</td>\n",
       "      <td>Long call alert</td>\n",
       "    </tr>\n",
       "    <tr>\n",
       "      <th>344</th>\n",
       "      <td>944644</td>\n",
       "      <td>52.00</td>\n",
       "      <td>2</td>\n",
       "      <td>99.00</td>\n",
       "      <td>0.0</td>\n",
       "      <td>0.0</td>\n",
       "      <td>0.0</td>\n",
       "      <td>0.0</td>\n",
       "      <td>1</td>\n",
       "      <td>Normal</td>\n",
       "      <td>Long wait alert</td>\n",
       "      <td>Normal</td>\n",
       "    </tr>\n",
       "    <tr>\n",
       "      <th>346</th>\n",
       "      <td>944648</td>\n",
       "      <td>26.00</td>\n",
       "      <td>2</td>\n",
       "      <td>42.00</td>\n",
       "      <td>0.0</td>\n",
       "      <td>0.0</td>\n",
       "      <td>0.0</td>\n",
       "      <td>0.0</td>\n",
       "      <td>1</td>\n",
       "      <td>Normal</td>\n",
       "      <td>Long wait alert</td>\n",
       "      <td>Normal</td>\n",
       "    </tr>\n",
       "    <tr>\n",
       "      <th>351</th>\n",
       "      <td>951526</td>\n",
       "      <td>355.00</td>\n",
       "      <td>1</td>\n",
       "      <td>8.00</td>\n",
       "      <td>0.0</td>\n",
       "      <td>0.0</td>\n",
       "      <td>0.0</td>\n",
       "      <td>0.0</td>\n",
       "      <td>1</td>\n",
       "      <td>Normal</td>\n",
       "      <td>Normal</td>\n",
       "      <td>Long call alert</td>\n",
       "    </tr>\n",
       "  </tbody>\n",
       "</table>\n",
       "<p>237 rows × 12 columns</p>\n",
       "</div>"
      ],
      "text/plain": [
       "     operator  call_time_mean  total_calls  wait_time_mean  \\\n",
       "1      879898          121.05           44           45.53   \n",
       "5      882680           98.71           12           28.71   \n",
       "6      882684          207.25           15           61.50   \n",
       "7      882686          410.14           21           63.86   \n",
       "8      882688          741.50           15          336.50   \n",
       "..        ...             ...          ...             ...   \n",
       "339    940968          133.67            4           30.67   \n",
       "341    943066          269.33            4           12.67   \n",
       "344    944644           52.00            2           99.00   \n",
       "346    944648           26.00            2           42.00   \n",
       "351    951526          355.00            1            8.00   \n",
       "\n",
       "     missed_call_time_mean  total_missed  missed_wait_time_mean  miss_share  \\\n",
       "1                      0.0           0.0                    0.0         0.0   \n",
       "5                      0.0           0.0                    0.0         0.0   \n",
       "6                      0.0           0.0                    0.0         0.0   \n",
       "7                      0.0           0.0                    0.0         0.0   \n",
       "8                      0.0           0.0                    0.0         0.0   \n",
       "..                     ...           ...                    ...         ...   \n",
       "339                    0.0           0.0                    0.0         0.0   \n",
       "341                    0.0           0.0                    0.0         0.0   \n",
       "344                    0.0           0.0                    0.0         0.0   \n",
       "346                    0.0           0.0                    0.0         0.0   \n",
       "351                    0.0           0.0                    0.0         0.0   \n",
       "\n",
       "     days_active miss_flag        wait_flag        call_flag  \n",
       "1             30    Normal  Long wait alert           Normal  \n",
       "5             27    Normal  Long wait alert           Normal  \n",
       "6             17    Normal  Long wait alert           Normal  \n",
       "7             30    Normal  Long wait alert  Long call alert  \n",
       "8             16    Normal  Long wait alert  Long call alert  \n",
       "..           ...       ...              ...              ...  \n",
       "339            6    Normal  Long wait alert           Normal  \n",
       "341            3    Normal           Normal  Long call alert  \n",
       "344            1    Normal  Long wait alert           Normal  \n",
       "346            1    Normal  Long wait alert           Normal  \n",
       "351            1    Normal           Normal  Long call alert  \n",
       "\n",
       "[237 rows x 12 columns]"
      ]
     },
     "execution_count": 63,
     "metadata": {},
     "output_type": "execute_result"
    }
   ],
   "source": [
    "op_in.query('miss_flag == \"High miss alert\" | wait_flag == \"Long wait alert\" | call_flag == \"Long call alert\"')"
   ]
  },
  {
   "cell_type": "markdown",
   "metadata": {},
   "source": [
    "Оказывается, что таких операторов 237 из общего количества 352 операторов, работавших с входящими звонками. Принимая во внимание вышеописанную позицию о том, что управленческие решения необходимо принимать в совокупности исследуемых показателей и с учетом поставленных задач, нельзя говорить о том, что какой-либо из этих операторов может быть неэффективным, основываясь исключительно на трех триггерах."
   ]
  },
  {
   "cell_type": "markdown",
   "metadata": {},
   "source": [
    "### Метрики исходящих взаимодействий"
   ]
  },
  {
   "cell_type": "markdown",
   "metadata": {},
   "source": [
    "Аналогично метрикам входящих взаимодействий измерим такие же метрики для исходящих взаимодействий. Скорее всего, картина будет совсем другая. Также, в создании набора показателей для оператора не будут применяться никакие маркеры, поскольку критичность того или иного показателя должен определять сам заказчик исходящего обзвона.\n",
    "\n",
    "Как и на прошлом этапе, отберем только входящие звонки и только звонки \"во внешний мир\", исключив внутренние коммуникации."
   ]
  },
  {
   "cell_type": "code",
   "execution_count": 64,
   "metadata": {},
   "outputs": [],
   "source": [
    "df_out = df_oct.query('direction == \"out\" & internal == False')"
   ]
  },
  {
   "cell_type": "code",
   "execution_count": 65,
   "metadata": {},
   "outputs": [],
   "source": [
    "op_out = df_out.pivot_table(index=['operator_id','is_missed_call'],\n",
    "                  values=['date','calls_count','call_duration','wait_time'],\n",
    "                  aggfunc={'date':['min','max'],\n",
    "                          'calls_count':'sum',\n",
    "                          'call_duration':'mean',\n",
    "                          'wait_time':'mean'}).reset_index()\n",
    "op_out.columns=['operator','missed','call_time_mean','total_calls','day_end','day_start','wait_time_mean']\n"
   ]
  },
  {
   "cell_type": "code",
   "execution_count": 66,
   "metadata": {},
   "outputs": [],
   "source": [
    "tmp = op_out.query('missed==True')\n",
    "tmp=tmp.drop(columns=['missed','day_end','day_start'])\n",
    "tmp.columns=['operator','missed_call_time_mean','total_missed','missed_wait_time_mean']"
   ]
  },
  {
   "cell_type": "code",
   "execution_count": 67,
   "metadata": {},
   "outputs": [],
   "source": [
    "op_out=op_out.query('missed == False').drop(columns='missed').merge(tmp,how='left')\n",
    "op_out=op_out.fillna(0)"
   ]
  },
  {
   "cell_type": "code",
   "execution_count": 68,
   "metadata": {},
   "outputs": [],
   "source": [
    "op_out['miss_share'] = op_out.apply(miss_share,axis=1)"
   ]
  },
  {
   "cell_type": "code",
   "execution_count": 69,
   "metadata": {},
   "outputs": [
    {
     "data": {
      "text/html": [
       "<div>\n",
       "<style scoped>\n",
       "    .dataframe tbody tr th:only-of-type {\n",
       "        vertical-align: middle;\n",
       "    }\n",
       "\n",
       "    .dataframe tbody tr th {\n",
       "        vertical-align: top;\n",
       "    }\n",
       "\n",
       "    .dataframe thead th {\n",
       "        text-align: right;\n",
       "    }\n",
       "</style>\n",
       "<table border=\"1\" class=\"dataframe\">\n",
       "  <thead>\n",
       "    <tr style=\"text-align: right;\">\n",
       "      <th></th>\n",
       "      <th>operator</th>\n",
       "      <th>call_time_mean</th>\n",
       "      <th>total_calls</th>\n",
       "      <th>wait_time_mean</th>\n",
       "      <th>missed_call_time_mean</th>\n",
       "      <th>total_missed</th>\n",
       "      <th>missed_wait_time_mean</th>\n",
       "      <th>miss_share</th>\n",
       "      <th>days_active</th>\n",
       "    </tr>\n",
       "  </thead>\n",
       "  <tbody>\n",
       "    <tr>\n",
       "      <th>0</th>\n",
       "      <td>879896</td>\n",
       "      <td>274.50</td>\n",
       "      <td>20</td>\n",
       "      <td>53.83</td>\n",
       "      <td>0.0</td>\n",
       "      <td>8.0</td>\n",
       "      <td>47.000000</td>\n",
       "      <td>28.57</td>\n",
       "      <td>25</td>\n",
       "    </tr>\n",
       "    <tr>\n",
       "      <th>1</th>\n",
       "      <td>879898</td>\n",
       "      <td>3110.00</td>\n",
       "      <td>1592</td>\n",
       "      <td>878.65</td>\n",
       "      <td>0.0</td>\n",
       "      <td>805.0</td>\n",
       "      <td>795.318182</td>\n",
       "      <td>33.58</td>\n",
       "      <td>31</td>\n",
       "    </tr>\n",
       "    <tr>\n",
       "      <th>2</th>\n",
       "      <td>880020</td>\n",
       "      <td>88.50</td>\n",
       "      <td>2</td>\n",
       "      <td>2.00</td>\n",
       "      <td>0.0</td>\n",
       "      <td>0.0</td>\n",
       "      <td>0.000000</td>\n",
       "      <td>0.00</td>\n",
       "      <td>3</td>\n",
       "    </tr>\n",
       "    <tr>\n",
       "      <th>3</th>\n",
       "      <td>880022</td>\n",
       "      <td>317.33</td>\n",
       "      <td>10</td>\n",
       "      <td>6.83</td>\n",
       "      <td>0.0</td>\n",
       "      <td>1.0</td>\n",
       "      <td>6.000000</td>\n",
       "      <td>9.09</td>\n",
       "      <td>21</td>\n",
       "    </tr>\n",
       "    <tr>\n",
       "      <th>4</th>\n",
       "      <td>880026</td>\n",
       "      <td>1822.26</td>\n",
       "      <td>448</td>\n",
       "      <td>122.26</td>\n",
       "      <td>0.0</td>\n",
       "      <td>149.0</td>\n",
       "      <td>136.454545</td>\n",
       "      <td>24.96</td>\n",
       "      <td>31</td>\n",
       "    </tr>\n",
       "    <tr>\n",
       "      <th>...</th>\n",
       "      <td>...</td>\n",
       "      <td>...</td>\n",
       "      <td>...</td>\n",
       "      <td>...</td>\n",
       "      <td>...</td>\n",
       "      <td>...</td>\n",
       "      <td>...</td>\n",
       "      <td>...</td>\n",
       "      <td>...</td>\n",
       "    </tr>\n",
       "    <tr>\n",
       "      <th>351</th>\n",
       "      <td>945728</td>\n",
       "      <td>137.00</td>\n",
       "      <td>3</td>\n",
       "      <td>55.00</td>\n",
       "      <td>0.0</td>\n",
       "      <td>5.0</td>\n",
       "      <td>40.500000</td>\n",
       "      <td>62.50</td>\n",
       "      <td>1</td>\n",
       "    </tr>\n",
       "    <tr>\n",
       "      <th>352</th>\n",
       "      <td>950444</td>\n",
       "      <td>2412.50</td>\n",
       "      <td>11</td>\n",
       "      <td>81.00</td>\n",
       "      <td>0.0</td>\n",
       "      <td>10.0</td>\n",
       "      <td>96.500000</td>\n",
       "      <td>47.62</td>\n",
       "      <td>2</td>\n",
       "    </tr>\n",
       "    <tr>\n",
       "      <th>353</th>\n",
       "      <td>950672</td>\n",
       "      <td>678.00</td>\n",
       "      <td>5</td>\n",
       "      <td>76.00</td>\n",
       "      <td>0.0</td>\n",
       "      <td>3.0</td>\n",
       "      <td>59.000000</td>\n",
       "      <td>37.50</td>\n",
       "      <td>1</td>\n",
       "    </tr>\n",
       "    <tr>\n",
       "      <th>354</th>\n",
       "      <td>951332</td>\n",
       "      <td>11.00</td>\n",
       "      <td>1</td>\n",
       "      <td>9.00</td>\n",
       "      <td>0.0</td>\n",
       "      <td>0.0</td>\n",
       "      <td>0.000000</td>\n",
       "      <td>0.00</td>\n",
       "      <td>1</td>\n",
       "    </tr>\n",
       "    <tr>\n",
       "      <th>355</th>\n",
       "      <td>951648</td>\n",
       "      <td>1842.00</td>\n",
       "      <td>25</td>\n",
       "      <td>413.00</td>\n",
       "      <td>0.0</td>\n",
       "      <td>42.0</td>\n",
       "      <td>626.000000</td>\n",
       "      <td>62.69</td>\n",
       "      <td>1</td>\n",
       "    </tr>\n",
       "  </tbody>\n",
       "</table>\n",
       "<p>356 rows × 9 columns</p>\n",
       "</div>"
      ],
      "text/plain": [
       "     operator  call_time_mean  total_calls  wait_time_mean  \\\n",
       "0      879896          274.50           20           53.83   \n",
       "1      879898         3110.00         1592          878.65   \n",
       "2      880020           88.50            2            2.00   \n",
       "3      880022          317.33           10            6.83   \n",
       "4      880026         1822.26          448          122.26   \n",
       "..        ...             ...          ...             ...   \n",
       "351    945728          137.00            3           55.00   \n",
       "352    950444         2412.50           11           81.00   \n",
       "353    950672          678.00            5           76.00   \n",
       "354    951332           11.00            1            9.00   \n",
       "355    951648         1842.00           25          413.00   \n",
       "\n",
       "     missed_call_time_mean  total_missed  missed_wait_time_mean  miss_share  \\\n",
       "0                      0.0           8.0              47.000000       28.57   \n",
       "1                      0.0         805.0             795.318182       33.58   \n",
       "2                      0.0           0.0               0.000000        0.00   \n",
       "3                      0.0           1.0               6.000000        9.09   \n",
       "4                      0.0         149.0             136.454545       24.96   \n",
       "..                     ...           ...                    ...         ...   \n",
       "351                    0.0           5.0              40.500000       62.50   \n",
       "352                    0.0          10.0              96.500000       47.62   \n",
       "353                    0.0           3.0              59.000000       37.50   \n",
       "354                    0.0           0.0               0.000000        0.00   \n",
       "355                    0.0          42.0             626.000000       62.69   \n",
       "\n",
       "     days_active  \n",
       "0             25  \n",
       "1             31  \n",
       "2              3  \n",
       "3             21  \n",
       "4             31  \n",
       "..           ...  \n",
       "351            1  \n",
       "352            2  \n",
       "353            1  \n",
       "354            1  \n",
       "355            1  \n",
       "\n",
       "[356 rows x 9 columns]"
      ]
     },
     "execution_count": 69,
     "metadata": {},
     "output_type": "execute_result"
    }
   ],
   "source": [
    "op_out['days_active']= (op_out['day_end'] - op_out['day_start']).dt.days +1\n",
    "op_out=op_out.drop(columns=['day_end','day_start'])\n",
    "op_out['call_time_mean']=round(op_out['call_time_mean'],2)\n",
    "op_out['wait_time_mean']=round(op_out['wait_time_mean'],2)\n",
    "op_out"
   ]
  },
  {
   "cell_type": "code",
   "execution_count": 70,
   "metadata": {},
   "outputs": [],
   "source": [
    "def show_out_stats():\n",
    "    operator_id = int(input('Введите id оператора'))\n",
    "    if operator_id in op_out['operator'].values:\n",
    "        display(op_out.loc[op_out['operator']==operator_id].transpose())\n",
    "    else:\n",
    "        print('Оператор не найден')"
   ]
  },
  {
   "cell_type": "code",
   "execution_count": 71,
   "metadata": {},
   "outputs": [
    {
     "name": "stdout",
     "output_type": "stream",
     "text": [
      "Введите id оператора880028\n"
     ]
    },
    {
     "data": {
      "text/html": [
       "<div>\n",
       "<style scoped>\n",
       "    .dataframe tbody tr th:only-of-type {\n",
       "        vertical-align: middle;\n",
       "    }\n",
       "\n",
       "    .dataframe tbody tr th {\n",
       "        vertical-align: top;\n",
       "    }\n",
       "\n",
       "    .dataframe thead th {\n",
       "        text-align: right;\n",
       "    }\n",
       "</style>\n",
       "<table border=\"1\" class=\"dataframe\">\n",
       "  <thead>\n",
       "    <tr style=\"text-align: right;\">\n",
       "      <th></th>\n",
       "      <th>5</th>\n",
       "    </tr>\n",
       "  </thead>\n",
       "  <tbody>\n",
       "    <tr>\n",
       "      <th>operator</th>\n",
       "      <td>880028.000000</td>\n",
       "    </tr>\n",
       "    <tr>\n",
       "      <th>call_time_mean</th>\n",
       "      <td>1688.230000</td>\n",
       "    </tr>\n",
       "    <tr>\n",
       "      <th>total_calls</th>\n",
       "      <td>446.000000</td>\n",
       "    </tr>\n",
       "    <tr>\n",
       "      <th>wait_time_mean</th>\n",
       "      <td>183.410000</td>\n",
       "    </tr>\n",
       "    <tr>\n",
       "      <th>missed_call_time_mean</th>\n",
       "      <td>0.000000</td>\n",
       "    </tr>\n",
       "    <tr>\n",
       "      <th>total_missed</th>\n",
       "      <td>287.000000</td>\n",
       "    </tr>\n",
       "    <tr>\n",
       "      <th>missed_wait_time_mean</th>\n",
       "      <td>349.636364</td>\n",
       "    </tr>\n",
       "    <tr>\n",
       "      <th>miss_share</th>\n",
       "      <td>39.150000</td>\n",
       "    </tr>\n",
       "    <tr>\n",
       "      <th>days_active</th>\n",
       "      <td>30.000000</td>\n",
       "    </tr>\n",
       "  </tbody>\n",
       "</table>\n",
       "</div>"
      ],
      "text/plain": [
       "                                   5\n",
       "operator               880028.000000\n",
       "call_time_mean           1688.230000\n",
       "total_calls               446.000000\n",
       "wait_time_mean            183.410000\n",
       "missed_call_time_mean       0.000000\n",
       "total_missed              287.000000\n",
       "missed_wait_time_mean     349.636364\n",
       "miss_share                 39.150000\n",
       "days_active                30.000000"
      ]
     },
     "metadata": {},
     "output_type": "display_data"
    }
   ],
   "source": [
    "show_out_stats() #для примера рекомендуется использовать оператора 880028"
   ]
  },
  {
   "cell_type": "markdown",
   "metadata": {},
   "source": [
    "Благодаря используемой выше функции, при требовании изучить показатели того или иного оператора за месяц, путем ввода его табельного или любого другого идентификационного номера, получаем общую сводку по сотруднику: среднее время звонка, число успешных звонков, ожидания ответа, число непринятых вызовов, среднее время ожидания непринятого вызова, долю непринятых вызовов и количество дней с момента первого звонка до момента последнего звонка.\n",
    "\n",
    "**Ввиду отсутствия конкретного SLA** для операторов, **сформировать триггеры** для определения превышения нормативных показателей **невозможно**."
   ]
  },
  {
   "cell_type": "markdown",
   "metadata": {},
   "source": [
    "### Итоги исследования эффективности операторов"
   ]
  },
  {
   "cell_type": "markdown",
   "metadata": {},
   "source": [
    "В данном разделе были сформированы **таблицы показателей** для операторов, **отдельно для исходящих и входящих вызовов**. Ввиду недостаточности данных, позволяющих конкретизировать эффективность оператора, для исходящих вызовов **частично были применены отраслевые стандарты**, и на основе их были сформированы дополнительные поля, которые возвращают предупреждение при превышении норматива.\n",
    "\n",
    "**В части же остальных показателей** входящих вызовов (число принятых и пропущенных вызовов, время активности), а также всех показателей исходящих вызовов, **сформировать конкретные метрики**, которые автоматически будут указывать на провалы в работе оператора, **невозможно**.\n",
    "\n",
    "Это может быть обусловлено тем, что **для каждого исходящего** обзвона заказчик формирует **свой определенный SLA**, в котором указывает число звонков в день, предельную длительность звонка, норматив по успешным и неуспешным вызовам и так далее. Поэтому, **рассматривать каждого оператора необходимо либо индивидуально** (для чего и выведена общая таблица показателей по оператору), **либо в совокупности с пользователем (колл-центром)**, который использует труд данного оператора, либо нескольких операторов. \n",
    "\n",
    "С точки зрения пользователя, необходимо иметь информацию по всем задействованным у него операторам, и эта **информация должна показываться в**, к примеру, **личном кабинете**, что решается с помощью создания соответствующего дашборда или иного программного продукта, встроенного в оболочку личного кабинета и имеющего возможность установить параметры собственного SLA для оценки нормативности показателей."
   ]
  },
  {
   "cell_type": "markdown",
   "metadata": {},
   "source": [
    "## Проверка гипотез"
   ]
  },
  {
   "cell_type": "markdown",
   "metadata": {},
   "source": [
    "В рамках исследования были определены основные закономерности в различных колл-центрах в зависимости от их направленности. Подобные закономерности могут вызывать самые разнообразные гипотезы, однако самые очевидные среди них следующие:\n",
    "\n",
    "1. Н0: Среднее число звонков (вне зависимости от направления) у оператора колл-центра по исходящим звонкам не отличается от среднего количества звонков оператора колл-центра по входящим звонкам. Альтернативная гипотеза (Н1): среднее число звонков операторов колл-центров разной направленности различается.\n",
    "\n",
    "**Мотивация для рассмотрения гипотезы:** Как правило, колл-центры с упором на входящие взаимодействия ориентированы на прием заявок/жалоб/иных данных и полученную информацию либо агрегируют по опросным листам, либо создают трабл-тикеты и запросы, направляя их в ответственные подразделения. Колл-центры, работающие по исходящим вызовам, как правило ориентированы на проведение разного рода опросов, рекламу предложений, а также иную деятельность. Время каждого звонка у них скорее всего будет больше, и, соответственно, число звонков, совершаемых оператором в день и за весь период, будет другим.\n",
    "\n",
    "2. Н0: Среднее время разговора в колл-центрах по исходящим звонкам не отличается от среднего времени вызова в колл-центрах по входящим взаимодействиям. Н1: Среднее время разговора в колл-центрах по исходящим звонкам отличается от среднего времени вызова в колл-центрах по входящим взаимодействиям.\n",
    "\n",
    "**Мотивация для рассмотрения гипотезы:** Аналогично предыдущей гипотезе, нужно проверить, насколько верно предположение о том, что время на звонок у разной направленности колл-центров разное.\n",
    "\n",
    "Для проверки указанных выше гипотез будет использоваться двусторонний тест Стьюдента (t-test) с уровнем статистической значимости 5%, то есть, с 5%-ой вероятностью того, что гипотеза будет неверно отвергнута/принята."
   ]
  },
  {
   "cell_type": "markdown",
   "metadata": {},
   "source": [
    "### Проверка гипотезы о различии среднего числа звонков колл-центров по входящим и исходящим взаимодействиям"
   ]
  },
  {
   "cell_type": "markdown",
   "metadata": {},
   "source": [
    "Для исследования установим следующие гипотезы:\n",
    "\n",
    "**Н0:** Среднее число звонков (вне зависимости от направления) у оператора колл-центра по исходящим звонкам не отличается от среднего количества звонков оператора колл-центра по входящим звонкам. \n",
    "\n",
    "**Альтернативная гипотеза (Н1):** среднее число звонков операторов колл-центров разной направленности различается."
   ]
  },
  {
   "cell_type": "code",
   "execution_count": 72,
   "metadata": {},
   "outputs": [
    {
     "name": "stdout",
     "output_type": "stream",
     "text": [
      "6.530557485511538e-210\n",
      "Отвергаем нулевую гипотезу\n"
     ]
    }
   ],
   "source": [
    "alpha = 0.05 # уровень статистической значимости\n",
    "sample_1 = df[df['cc_type'] =='inbound']['calls_count']\n",
    "sample_2 = df[df['cc_type'] =='outbound']['calls_count']\n",
    "\n",
    "# results = вызов метода для проверки гипотезы\n",
    "results = st.ttest_ind(sample_1, sample_2, equal_var=False) \n",
    "\n",
    "# вывод значения p-value на экран \n",
    "# условный оператор с выводом строки с ответом\n",
    "print(results.pvalue)\n",
    "\n",
    "if results.pvalue < alpha:\n",
    "    print('Отвергаем нулевую гипотезу')\n",
    "else:\n",
    "    print('Не получилось отвергнуть нулевую гипотезу') "
   ]
  },
  {
   "cell_type": "markdown",
   "metadata": {},
   "source": [
    "Полученные результаты проверки гипотезы показывают, что, скорее всего, среднее число звонков операторов колл-центров разной направленности различается. Как показало исследование данных в разделе **5.3**, действительно, колл-центры по исходящим обзвонам совершают значительно больше вызовов, но у них также и велик процент отказа, практически доходя до половины от общего количества.\n",
    "\n",
    "Это объясняется поведенческими характеристиками абонентов, поскольку множество людей не любят, когда им досаждают \"холодными звонками\" или \"социологическими опросами\", не говоря уже о \"службах безопасности\". Поэтому, скорее всего, доля неуспешных вызовов настолько велика."
   ]
  },
  {
   "cell_type": "markdown",
   "metadata": {},
   "source": [
    "### Проверка гипотезы о различии среднего времени разговора в колл-центрах по входящим и исходящим взаимодействиям"
   ]
  },
  {
   "cell_type": "markdown",
   "metadata": {},
   "source": [
    "Для исследования определим следующие гипотезы:\n",
    "\n",
    "**Н0:** Среднее время разговора в колл-центрах по исходящим звонкам не отличается от среднего времени разговора в колл-центрах по входящим взаимодействиям. \n",
    "\n",
    "**Н1:** Среднее время разговора в колл-центрах по исходящим звонкам отличается от среднего времени разговора в колл-центрах по входящим взаимодействиям."
   ]
  },
  {
   "cell_type": "code",
   "execution_count": 73,
   "metadata": {},
   "outputs": [
    {
     "name": "stdout",
     "output_type": "stream",
     "text": [
      "1.269363013298777e-65\n",
      "Отвергаем нулевую гипотезу\n"
     ]
    }
   ],
   "source": [
    "alpha = 0.05 # уровень статистической значимости\n",
    "sample_1 = df[df['cc_type'] =='inbound']['call_duration']\n",
    "sample_2 = df[df['cc_type'] =='outbound']['call_duration']\n",
    "\n",
    "results = st.ttest_ind(sample_1, sample_2, equal_var=False) \n",
    "\n",
    "# вывод значения p-value на экран \n",
    "# условный оператор с выводом строки с ответом\n",
    "print(results.pvalue)\n",
    "\n",
    "if results.pvalue < alpha:\n",
    "    print('Отвергаем нулевую гипотезу')\n",
    "else:\n",
    "    print('Не получилось отвергнуть нулевую гипотезу') "
   ]
  },
  {
   "cell_type": "markdown",
   "metadata": {},
   "source": [
    "Результаты статистического теста показывают, что, скорее всего, среднее время вызова в колл-центрах различной направленности отличается. Это подтверждает выводы, сделанные в разделе **5.3** , где наглядно было показано, что среднее время разговора для колл-центров различной направленности отличается.\n",
    "\n",
    "Как уже упоминалось, это обусловлено тем, что колл-центры с исходящим обзвоном чаще имеют б*о*льшее время разговора с абонентами, чем колл-центры входящего взаимодействия."
   ]
  },
  {
   "cell_type": "markdown",
   "metadata": {},
   "source": [
    "### Выводы по итогам проверки гипотез"
   ]
  },
  {
   "cell_type": "markdown",
   "metadata": {},
   "source": [
    "Проверив две гипотезы, мы получили статистическое подтверждение уже ранее показанным наглядно различиям между колл-центрами в зависимости от их специализации. \n",
    "\n",
    "Тем не менее, в отдельных случаях, поскольку берутся случайные выборки, может оказаться, что у некоторых операторов или колл-центров (пользователей) средние значения параметров будут близки к равенству. Подобную погрешность необходимо всегда иметь в виду при сравнении различных величин."
   ]
  },
  {
   "cell_type": "markdown",
   "metadata": {},
   "source": [
    "## Финальные выводы и рекомендации"
   ]
  },
  {
   "cell_type": "markdown",
   "metadata": {},
   "source": [
    "По итогам проведенного исследования звонков клиентов компании \"Нупозвони\", было установлено, что **имеющиеся данные ставят достаточно серьезные ограничения в их исследовании**, при условии использования отраслевого подхода к анализу эффективности операторов компании, а именно: **нет установленных рамок SLA по нормативным количествам звонков, их успешности, длительности дозвона и разговора и прочему**. Кроме того, отсутствуют значимые в отрасли метрики в части исследования клиентского опыта взаимодействия с оператором (NPS) и иные данные, которые могут сделать картину по сотруднику более полной.\n",
    "\n",
    "- В общем разрезе было определено, что в данных представлен **период времени с 01 августа по 28 ноября 2019 года, последний зарегистрированный пользователь сервиса был 31 октября 2019 года.**\n",
    "\n",
    "- Операторы совершают **86,6% исходящих вызовов против 13,4% входящих**, из всего количества только **1,95% вызовов внутренние**, но достаточно велико на общем фоне **количество пропущенных вызовов - 38,8%** по той или иной причине.\n",
    "\n",
    "- В датасете есть **54.1% колл-центров с тарифом С, 34,8% колл-центров с тарифом В и 11% колл-центров с тарифом А**. Среди всех колл-центров **49,7% ориентированы на исходящий обзвон, 40% - на входящие звонки, и 10,3% работают со звонками обоих типов** При этом, определенный **тариф и направленность колл-центра не связаны между собой**, и тарифный план скорее **может зависеть от количества задействованных операторов, времени работы колл-центра, либо специфического SLA**. В этой части данных заказчиком не предоставлено, поэтому предположение выше является сугубо эмпирическим.\n",
    "\n",
    "- За весь период исследования наблюдается **постоянный рост количества задействованных операторов по всем дням недели**. При этом **в выходные и праздничные дни число активных операторов значительно ниже, чем в будни**. Это, скорее всего, обусловлено трудовым законодательством, которое подразумевает повышенную оплату труда в выходные и праздники.\n",
    "\n",
    "- **Средняя длительность звонков** с течением времени **имеет тенденцию к снижению**, что может говорить как о переходе количества звонков в их качество, либо о том, что операторы сервиса со временем учатся более эффективно использовать время звонка для достижения его цели.\n",
    "\n",
    "- При разделении колл-центров по их основной направленности, было установлено, что **87% всех звонков** за время исследования приходятся на **колл-центры исходящего взаимодействия**. На втором месте идут колл-центры двусторонней направленности, и на третьем - колл-центры входящего взаимодействия. При этом, **входящие и исходящие звонки совершаются в каждом из типов колл-центров**, и в каждом из них **99% входящих звонков принимаются**, и более 55% исходящих вызовов принимаются абонентами. Также было установлено, что **в колл-центрах исходящего взаимодействия работает чаще всего от 1 до 11 операторов**, в то время как **для колл-центров входящего взаимодействия** это число находится чаще всего в промежутке **от 1 до 3 человек**.\n",
    "\n",
    "- При исследовании **тарифных планов**, было установлено, что все они, в основном, работают на исходящие взаимодействия. **Входящие звонки в них составляют от 8 до 21%**, и из них 99% звонков принимаются и только 1% остается неотвеченным. При этом интересно обратить внимание, что **самый распространенный по числу звонков тарифный план - А**, на него приходится **54% всех звонков**, из них входящих только 8%. **Тариф В - наименее распространенный**, на него приходится **20% звонков** и из них 21% входящих. На **тариф С** приходится **26% всех звонков** и из них 19% входящих. В **тарифе А** задействовано чаще всего больше операторов, чем в двух других тарифах: **от 1 до 14 операторов (максимально - 48)**, **в тарифе В - от 1 до 5 (максимально 21), а в тарифе С - от 1 до 3 (максимально 18)**. Для **тарифа А** средняя длительность разговора составляет **99,75 минут**, для **тарифа В - 38,40 минут**, для **тарифа С - 37,65 минут**. Поэтому, скорее всего, выбор тарифного плана может зависеть от длительности звонка, задействованных операторов, полноты базы обзвона, а также от индивидуального SLA.\n",
    "\n",
    "- В части основной задачи исследования - **измерения эффективности операторов**, были сформированы **оценочные таблицы для операторов отдельно по входящим и отдельно по исходящим вызовам с горизонтом исследования - 1 месяц** (был выбран октябрь 2019 года как наиболее наполненный данными месяц, при этом не имеющий праздничных дней). Ввиду отсутствия конкретизированных вводных заказчика исследования, были применены (где возможно) общепринятые отраслевые методики оценки качества работы операторов, и сформированы \"флаги\" для обозначения превышения над нормой. В остальном были **сформированы таблицы с показателями каждого оператора**, что позволяет индивидуально оценивать показатели в зависимости от установленных для человека уровней нормативности и эффективности, а также мотивации.\n",
    "\n",
    "- Проверка **статистических гипотез** о равенстве или неравенстве средних значений количества звонков и длительности разговоров у колл-центров разной направленности **подтвердила уже обозначенные наблюдения** об очевидной разнице.\n",
    "\n",
    "**Рекомендации сервису**\n",
    "\n",
    "Для проведения успешного анализа эффективности операторов сервиса \"Нупозвони\" необходимо:\n",
    "- Предоставить информацию о наполнении того или иного тарифного плана;\n",
    "- Предоставить данные об SLA для каждого колл-центра, либо тарифного плана, либо оператора;\n",
    "- Дополнить данные информацией о клиентском опыте взаимодействия с оператором;\n",
    "- Дополнить данные информацией о целях совершения звонка и достижении или недостижении цели звонка (к примеру, конверсия звонка в продажу, успешность заполнения опросного листа и т.д.);\n",
    "- Дополнить данные информацией о рабочем времени оператора и времени совершения каждого звонка для корректной оценки загруженности оператора в течение рабочего дня;\n",
    "- Для внутренних вызовов дополнить информацию о том, был ли вызов переведен оператором на следующую ступень взаимодействия или был совершен с иными целями в ущерб исполнению рабочих обязанностей."
   ]
  }
 ],
 "metadata": {
  "ExecuteTimeLog": [
   {
    "duration": 1595,
    "start_time": "2023-10-24T18:51:02.634Z"
   },
   {
    "duration": 225,
    "start_time": "2023-10-24T18:51:10.784Z"
   },
   {
    "duration": 88,
    "start_time": "2023-10-24T18:52:29.462Z"
   },
   {
    "duration": 67,
    "start_time": "2023-10-24T18:52:34.831Z"
   },
   {
    "duration": 139,
    "start_time": "2023-10-24T18:56:17.137Z"
   },
   {
    "duration": 45,
    "start_time": "2023-10-24T18:56:31.824Z"
   },
   {
    "duration": 57,
    "start_time": "2023-10-24T18:57:00.105Z"
   },
   {
    "duration": 47,
    "start_time": "2023-10-24T18:57:16.771Z"
   },
   {
    "duration": 65,
    "start_time": "2023-10-24T18:59:58.825Z"
   },
   {
    "duration": 59,
    "start_time": "2023-10-24T19:01:03.632Z"
   },
   {
    "duration": 52,
    "start_time": "2023-10-24T19:01:21.330Z"
   },
   {
    "duration": 9,
    "start_time": "2023-10-24T19:02:09.676Z"
   },
   {
    "duration": 59,
    "start_time": "2023-10-24T19:02:30.873Z"
   },
   {
    "duration": 3,
    "start_time": "2023-10-24T19:12:17.698Z"
   },
   {
    "duration": 39,
    "start_time": "2023-10-24T19:12:21.266Z"
   },
   {
    "duration": 17,
    "start_time": "2023-10-24T19:13:54.097Z"
   },
   {
    "duration": 35,
    "start_time": "2023-10-24T19:19:07.492Z"
   },
   {
    "duration": 21,
    "start_time": "2023-10-24T19:21:06.303Z"
   },
   {
    "duration": 40,
    "start_time": "2023-10-24T19:24:00.458Z"
   },
   {
    "duration": 42,
    "start_time": "2023-10-24T19:25:48.328Z"
   },
   {
    "duration": 44,
    "start_time": "2023-10-24T19:27:07.765Z"
   },
   {
    "duration": 44,
    "start_time": "2023-10-24T19:30:08.939Z"
   },
   {
    "duration": 1396,
    "start_time": "2023-10-24T19:30:25.541Z"
   },
   {
    "duration": 110,
    "start_time": "2023-10-24T19:30:26.939Z"
   },
   {
    "duration": 52,
    "start_time": "2023-10-24T19:30:27.051Z"
   },
   {
    "duration": 45,
    "start_time": "2023-10-24T19:30:27.106Z"
   },
   {
    "duration": 32,
    "start_time": "2023-10-24T19:30:27.157Z"
   },
   {
    "duration": 90,
    "start_time": "2023-10-24T19:30:27.191Z"
   },
   {
    "duration": 16,
    "start_time": "2023-10-24T19:30:27.283Z"
   },
   {
    "duration": 58,
    "start_time": "2023-10-24T19:30:27.301Z"
   },
   {
    "duration": 26,
    "start_time": "2023-10-24T19:30:27.361Z"
   },
   {
    "duration": 22,
    "start_time": "2023-10-24T19:30:27.389Z"
   },
   {
    "duration": 65,
    "start_time": "2023-10-24T19:30:27.413Z"
   },
   {
    "duration": 38,
    "start_time": "2023-10-24T19:30:27.479Z"
   },
   {
    "duration": 17,
    "start_time": "2023-10-24T19:30:44.178Z"
   },
   {
    "duration": 6,
    "start_time": "2023-10-24T19:31:02.122Z"
   },
   {
    "duration": 26,
    "start_time": "2023-10-24T19:34:28.976Z"
   },
   {
    "duration": 35,
    "start_time": "2023-10-24T19:34:46.288Z"
   },
   {
    "duration": 62,
    "start_time": "2023-10-24T19:34:59.600Z"
   },
   {
    "duration": 37,
    "start_time": "2023-10-24T19:36:23.874Z"
   },
   {
    "duration": 34,
    "start_time": "2023-10-24T19:36:55.094Z"
   },
   {
    "duration": 61,
    "start_time": "2023-10-24T19:42:56.946Z"
   },
   {
    "duration": 24,
    "start_time": "2023-10-24T19:43:07.889Z"
   },
   {
    "duration": 17,
    "start_time": "2023-10-24T19:51:03.258Z"
   },
   {
    "duration": 1735,
    "start_time": "2023-10-25T07:32:30.971Z"
   },
   {
    "duration": 187,
    "start_time": "2023-10-25T07:32:32.709Z"
   },
   {
    "duration": 92,
    "start_time": "2023-10-25T07:32:32.898Z"
   },
   {
    "duration": 46,
    "start_time": "2023-10-25T07:32:32.992Z"
   },
   {
    "duration": 46,
    "start_time": "2023-10-25T07:32:33.042Z"
   },
   {
    "duration": 126,
    "start_time": "2023-10-25T07:32:33.090Z"
   },
   {
    "duration": 38,
    "start_time": "2023-10-25T07:32:33.218Z"
   },
   {
    "duration": 59,
    "start_time": "2023-10-25T07:32:33.258Z"
   },
   {
    "duration": 47,
    "start_time": "2023-10-25T07:32:33.319Z"
   },
   {
    "duration": 39,
    "start_time": "2023-10-25T07:32:33.372Z"
   },
   {
    "duration": 63,
    "start_time": "2023-10-25T07:32:33.413Z"
   },
   {
    "duration": 44,
    "start_time": "2023-10-25T07:32:33.478Z"
   },
   {
    "duration": 42,
    "start_time": "2023-10-25T07:32:33.524Z"
   },
   {
    "duration": 69,
    "start_time": "2023-10-25T07:32:33.570Z"
   },
   {
    "duration": 52,
    "start_time": "2023-10-25T07:32:33.642Z"
   },
   {
    "duration": 49,
    "start_time": "2023-10-25T07:32:33.697Z"
   },
   {
    "duration": 23,
    "start_time": "2023-10-25T07:32:33.752Z"
   },
   {
    "duration": 24,
    "start_time": "2023-10-25T15:30:16.363Z"
   },
   {
    "duration": 162,
    "start_time": "2023-10-25T15:30:42.849Z"
   },
   {
    "duration": 23,
    "start_time": "2023-10-25T15:31:00.424Z"
   },
   {
    "duration": 35,
    "start_time": "2023-10-25T15:31:10.061Z"
   },
   {
    "duration": 33,
    "start_time": "2023-10-25T15:31:27.293Z"
   },
   {
    "duration": 45,
    "start_time": "2023-10-25T15:33:35.745Z"
   },
   {
    "duration": 37,
    "start_time": "2023-10-25T15:34:02.064Z"
   },
   {
    "duration": 15,
    "start_time": "2023-10-25T15:45:39.226Z"
   },
   {
    "duration": 163,
    "start_time": "2023-10-25T15:46:07.617Z"
   },
   {
    "duration": 1492,
    "start_time": "2023-10-25T18:09:16.051Z"
   },
   {
    "duration": 157,
    "start_time": "2023-10-25T18:09:17.545Z"
   },
   {
    "duration": 77,
    "start_time": "2023-10-25T18:09:17.703Z"
   },
   {
    "duration": 42,
    "start_time": "2023-10-25T18:09:17.782Z"
   },
   {
    "duration": 24,
    "start_time": "2023-10-25T18:09:17.829Z"
   },
   {
    "duration": 71,
    "start_time": "2023-10-25T18:09:17.854Z"
   },
   {
    "duration": 20,
    "start_time": "2023-10-25T18:09:17.929Z"
   },
   {
    "duration": 33,
    "start_time": "2023-10-25T18:09:17.950Z"
   },
   {
    "duration": 25,
    "start_time": "2023-10-25T18:09:17.985Z"
   },
   {
    "duration": 34,
    "start_time": "2023-10-25T18:09:18.012Z"
   },
   {
    "duration": 39,
    "start_time": "2023-10-25T18:09:18.047Z"
   },
   {
    "duration": 36,
    "start_time": "2023-10-25T18:09:18.087Z"
   },
   {
    "duration": 21,
    "start_time": "2023-10-25T18:09:18.125Z"
   },
   {
    "duration": 37,
    "start_time": "2023-10-25T18:09:18.150Z"
   },
   {
    "duration": 60,
    "start_time": "2023-10-25T18:09:18.188Z"
   },
   {
    "duration": 20,
    "start_time": "2023-10-25T18:09:18.249Z"
   },
   {
    "duration": 26,
    "start_time": "2023-10-25T18:09:18.271Z"
   },
   {
    "duration": 47,
    "start_time": "2023-10-25T18:09:18.299Z"
   },
   {
    "duration": 11,
    "start_time": "2023-10-25T18:09:18.348Z"
   },
   {
    "duration": 148,
    "start_time": "2023-10-25T18:09:18.361Z"
   },
   {
    "duration": 130,
    "start_time": "2023-10-25T18:11:02.438Z"
   },
   {
    "duration": 2924,
    "start_time": "2023-10-25T18:12:58.006Z"
   },
   {
    "duration": 124,
    "start_time": "2023-10-25T18:13:56.496Z"
   },
   {
    "duration": 17,
    "start_time": "2023-10-25T18:20:22.043Z"
   },
   {
    "duration": 72,
    "start_time": "2023-10-25T18:20:41.396Z"
   },
   {
    "duration": 4,
    "start_time": "2023-10-25T18:23:02.950Z"
   },
   {
    "duration": 5,
    "start_time": "2023-10-25T18:23:31.599Z"
   },
   {
    "duration": 4,
    "start_time": "2023-10-25T18:23:43.053Z"
   },
   {
    "duration": 77,
    "start_time": "2023-10-25T18:28:28.249Z"
   },
   {
    "duration": 20,
    "start_time": "2023-10-25T18:28:36.325Z"
   },
   {
    "duration": 17,
    "start_time": "2023-10-25T18:28:40.429Z"
   },
   {
    "duration": 58,
    "start_time": "2023-10-25T18:28:44.298Z"
   },
   {
    "duration": 69,
    "start_time": "2023-10-25T18:36:27.789Z"
   },
   {
    "duration": 48,
    "start_time": "2023-10-25T18:36:38.834Z"
   },
   {
    "duration": 5,
    "start_time": "2023-10-25T18:40:21.217Z"
   },
   {
    "duration": 25,
    "start_time": "2023-10-25T18:50:20.612Z"
   },
   {
    "duration": 26,
    "start_time": "2023-10-25T18:51:10.121Z"
   },
   {
    "duration": 68,
    "start_time": "2023-10-25T18:52:53.174Z"
   },
   {
    "duration": 9,
    "start_time": "2023-10-25T18:53:19.094Z"
   },
   {
    "duration": 23,
    "start_time": "2023-10-25T18:54:31.129Z"
   },
   {
    "duration": 1433,
    "start_time": "2023-10-25T18:54:45.394Z"
   },
   {
    "duration": 107,
    "start_time": "2023-10-25T18:54:46.834Z"
   },
   {
    "duration": 33,
    "start_time": "2023-10-25T18:54:46.943Z"
   },
   {
    "duration": 42,
    "start_time": "2023-10-25T18:54:46.978Z"
   },
   {
    "duration": 31,
    "start_time": "2023-10-25T18:54:47.030Z"
   },
   {
    "duration": 86,
    "start_time": "2023-10-25T18:54:47.063Z"
   },
   {
    "duration": 19,
    "start_time": "2023-10-25T18:54:47.151Z"
   },
   {
    "duration": 52,
    "start_time": "2023-10-25T18:54:47.172Z"
   },
   {
    "duration": 36,
    "start_time": "2023-10-25T18:54:47.231Z"
   },
   {
    "duration": 45,
    "start_time": "2023-10-25T18:54:47.269Z"
   },
   {
    "duration": 43,
    "start_time": "2023-10-25T18:54:47.316Z"
   },
   {
    "duration": 51,
    "start_time": "2023-10-25T18:54:47.361Z"
   },
   {
    "duration": 36,
    "start_time": "2023-10-25T18:54:47.413Z"
   },
   {
    "duration": 32,
    "start_time": "2023-10-25T18:54:47.452Z"
   },
   {
    "duration": 46,
    "start_time": "2023-10-25T18:54:47.486Z"
   },
   {
    "duration": 22,
    "start_time": "2023-10-25T18:54:47.533Z"
   },
   {
    "duration": 13,
    "start_time": "2023-10-25T18:54:47.557Z"
   },
   {
    "duration": 63,
    "start_time": "2023-10-25T18:54:47.572Z"
   },
   {
    "duration": 11,
    "start_time": "2023-10-25T18:54:47.638Z"
   },
   {
    "duration": 18,
    "start_time": "2023-10-25T18:54:47.650Z"
   },
   {
    "duration": 402,
    "start_time": "2023-10-25T18:54:47.670Z"
   },
   {
    "duration": 50,
    "start_time": "2023-10-25T18:54:48.074Z"
   },
   {
    "duration": 37,
    "start_time": "2023-10-25T18:55:44.676Z"
   },
   {
    "duration": 1495,
    "start_time": "2023-10-26T05:51:17.216Z"
   },
   {
    "duration": 179,
    "start_time": "2023-10-26T05:51:18.713Z"
   },
   {
    "duration": 89,
    "start_time": "2023-10-26T05:51:18.894Z"
   },
   {
    "duration": 35,
    "start_time": "2023-10-26T05:51:18.985Z"
   },
   {
    "duration": 31,
    "start_time": "2023-10-26T05:51:19.022Z"
   },
   {
    "duration": 66,
    "start_time": "2023-10-26T05:51:19.054Z"
   },
   {
    "duration": 48,
    "start_time": "2023-10-26T05:51:19.121Z"
   },
   {
    "duration": 36,
    "start_time": "2023-10-26T05:51:19.171Z"
   },
   {
    "duration": 48,
    "start_time": "2023-10-26T05:51:19.209Z"
   },
   {
    "duration": 23,
    "start_time": "2023-10-26T05:51:19.262Z"
   },
   {
    "duration": 29,
    "start_time": "2023-10-26T05:51:19.286Z"
   },
   {
    "duration": 52,
    "start_time": "2023-10-26T05:51:19.317Z"
   },
   {
    "duration": 18,
    "start_time": "2023-10-26T05:51:19.370Z"
   },
   {
    "duration": 38,
    "start_time": "2023-10-26T05:51:19.391Z"
   },
   {
    "duration": 38,
    "start_time": "2023-10-26T05:51:19.447Z"
   },
   {
    "duration": 20,
    "start_time": "2023-10-26T05:51:19.486Z"
   },
   {
    "duration": 13,
    "start_time": "2023-10-26T05:51:19.508Z"
   },
   {
    "duration": 71,
    "start_time": "2023-10-26T05:51:19.523Z"
   },
   {
    "duration": 13,
    "start_time": "2023-10-26T05:51:19.596Z"
   },
   {
    "duration": 34,
    "start_time": "2023-10-26T05:51:19.611Z"
   },
   {
    "duration": 462,
    "start_time": "2023-10-26T05:51:19.648Z"
   },
   {
    "duration": 47,
    "start_time": "2023-10-26T05:51:20.112Z"
   },
   {
    "duration": 35,
    "start_time": "2023-10-26T05:51:20.162Z"
   },
   {
    "duration": 1593,
    "start_time": "2023-10-26T17:02:11.637Z"
   },
   {
    "duration": 146,
    "start_time": "2023-10-26T17:02:13.232Z"
   },
   {
    "duration": 76,
    "start_time": "2023-10-26T17:02:13.380Z"
   },
   {
    "duration": 27,
    "start_time": "2023-10-26T17:02:13.458Z"
   },
   {
    "duration": 20,
    "start_time": "2023-10-26T17:02:13.487Z"
   },
   {
    "duration": 49,
    "start_time": "2023-10-26T17:02:13.509Z"
   },
   {
    "duration": 16,
    "start_time": "2023-10-26T17:02:13.560Z"
   },
   {
    "duration": 65,
    "start_time": "2023-10-26T17:02:13.577Z"
   },
   {
    "duration": 18,
    "start_time": "2023-10-26T17:02:13.644Z"
   },
   {
    "duration": 35,
    "start_time": "2023-10-26T17:02:13.664Z"
   },
   {
    "duration": 40,
    "start_time": "2023-10-26T17:02:13.701Z"
   },
   {
    "duration": 22,
    "start_time": "2023-10-26T17:02:13.743Z"
   },
   {
    "duration": 16,
    "start_time": "2023-10-26T17:02:13.767Z"
   },
   {
    "duration": 50,
    "start_time": "2023-10-26T17:02:13.786Z"
   },
   {
    "duration": 34,
    "start_time": "2023-10-26T17:02:13.838Z"
   },
   {
    "duration": 44,
    "start_time": "2023-10-26T17:02:13.873Z"
   },
   {
    "duration": 46,
    "start_time": "2023-10-26T17:02:13.919Z"
   },
   {
    "duration": 57,
    "start_time": "2023-10-26T17:02:13.967Z"
   },
   {
    "duration": 11,
    "start_time": "2023-10-26T17:02:14.026Z"
   },
   {
    "duration": 15,
    "start_time": "2023-10-26T17:02:14.038Z"
   },
   {
    "duration": 390,
    "start_time": "2023-10-26T17:02:14.054Z"
   },
   {
    "duration": 20,
    "start_time": "2023-10-26T17:02:14.445Z"
   },
   {
    "duration": 70,
    "start_time": "2023-10-26T17:02:14.467Z"
   },
   {
    "duration": 920,
    "start_time": "2023-10-26T17:07:39.455Z"
   },
   {
    "duration": 1158,
    "start_time": "2023-10-26T17:07:52.462Z"
   },
   {
    "duration": 34,
    "start_time": "2023-10-26T17:08:35.701Z"
   },
   {
    "duration": 1315,
    "start_time": "2023-10-26T17:09:48.815Z"
   },
   {
    "duration": 108,
    "start_time": "2023-10-26T17:09:50.133Z"
   },
   {
    "duration": 35,
    "start_time": "2023-10-26T17:09:50.243Z"
   },
   {
    "duration": 45,
    "start_time": "2023-10-26T17:09:50.280Z"
   },
   {
    "duration": 27,
    "start_time": "2023-10-26T17:09:50.327Z"
   },
   {
    "duration": 90,
    "start_time": "2023-10-26T17:09:50.355Z"
   },
   {
    "duration": 17,
    "start_time": "2023-10-26T17:09:50.446Z"
   },
   {
    "duration": 72,
    "start_time": "2023-10-26T17:09:50.465Z"
   },
   {
    "duration": 21,
    "start_time": "2023-10-26T17:09:50.538Z"
   },
   {
    "duration": 29,
    "start_time": "2023-10-26T17:09:50.561Z"
   },
   {
    "duration": 45,
    "start_time": "2023-10-26T17:09:50.592Z"
   },
   {
    "duration": 22,
    "start_time": "2023-10-26T17:09:50.639Z"
   },
   {
    "duration": 16,
    "start_time": "2023-10-26T17:09:50.662Z"
   },
   {
    "duration": 67,
    "start_time": "2023-10-26T17:09:50.681Z"
   },
   {
    "duration": 33,
    "start_time": "2023-10-26T17:09:50.750Z"
   },
   {
    "duration": 46,
    "start_time": "2023-10-26T17:09:50.785Z"
   },
   {
    "duration": 16,
    "start_time": "2023-10-26T17:09:50.833Z"
   },
   {
    "duration": 51,
    "start_time": "2023-10-26T17:09:50.850Z"
   },
   {
    "duration": 33,
    "start_time": "2023-10-26T17:09:50.903Z"
   },
   {
    "duration": 95,
    "start_time": "2023-10-26T17:09:50.938Z"
   },
   {
    "duration": 453,
    "start_time": "2023-10-26T17:09:51.035Z"
   },
   {
    "duration": 49,
    "start_time": "2023-10-26T17:09:51.490Z"
   },
   {
    "duration": 110,
    "start_time": "2023-10-26T17:09:51.541Z"
   },
   {
    "duration": 5,
    "start_time": "2023-10-26T17:12:19.170Z"
   },
   {
    "duration": 43,
    "start_time": "2023-10-26T17:14:11.135Z"
   },
   {
    "duration": 8,
    "start_time": "2023-10-26T17:14:13.687Z"
   },
   {
    "duration": 31,
    "start_time": "2023-10-26T17:14:49.542Z"
   },
   {
    "duration": 7,
    "start_time": "2023-10-26T17:14:52.441Z"
   },
   {
    "duration": 289,
    "start_time": "2023-10-26T17:17:03.573Z"
   },
   {
    "duration": 7,
    "start_time": "2023-10-26T17:17:09.498Z"
   },
   {
    "duration": 209,
    "start_time": "2023-10-26T17:19:12.778Z"
   },
   {
    "duration": 10,
    "start_time": "2023-10-26T17:19:16.922Z"
   },
   {
    "duration": 5,
    "start_time": "2023-10-26T17:19:35.050Z"
   },
   {
    "duration": 1322,
    "start_time": "2023-10-26T17:20:17.219Z"
   },
   {
    "duration": 99,
    "start_time": "2023-10-26T17:20:18.543Z"
   },
   {
    "duration": 32,
    "start_time": "2023-10-26T17:20:18.644Z"
   },
   {
    "duration": 46,
    "start_time": "2023-10-26T17:20:18.678Z"
   },
   {
    "duration": 23,
    "start_time": "2023-10-26T17:20:18.726Z"
   },
   {
    "duration": 90,
    "start_time": "2023-10-26T17:20:18.751Z"
   },
   {
    "duration": 17,
    "start_time": "2023-10-26T17:20:18.843Z"
   },
   {
    "duration": 61,
    "start_time": "2023-10-26T17:20:18.862Z"
   },
   {
    "duration": 20,
    "start_time": "2023-10-26T17:20:18.925Z"
   },
   {
    "duration": 20,
    "start_time": "2023-10-26T17:20:18.947Z"
   },
   {
    "duration": 455,
    "start_time": "2023-10-26T17:20:27.567Z"
   },
   {
    "duration": 33,
    "start_time": "2023-10-26T17:20:31.520Z"
   },
   {
    "duration": 6,
    "start_time": "2023-10-26T17:20:34.464Z"
   },
   {
    "duration": 19,
    "start_time": "2023-10-26T17:20:40.321Z"
   },
   {
    "duration": 43,
    "start_time": "2023-10-26T17:20:44.456Z"
   },
   {
    "duration": 44,
    "start_time": "2023-10-26T17:20:48.354Z"
   },
   {
    "duration": 34,
    "start_time": "2023-10-26T17:20:48.400Z"
   },
   {
    "duration": 20,
    "start_time": "2023-10-26T17:20:48.435Z"
   },
   {
    "duration": 12,
    "start_time": "2023-10-26T17:20:48.458Z"
   },
   {
    "duration": 50,
    "start_time": "2023-10-26T17:20:48.472Z"
   },
   {
    "duration": 14,
    "start_time": "2023-10-26T17:20:48.524Z"
   },
   {
    "duration": 38,
    "start_time": "2023-10-26T17:20:48.540Z"
   },
   {
    "duration": 359,
    "start_time": "2023-10-26T17:20:48.579Z"
   },
   {
    "duration": 19,
    "start_time": "2023-10-26T17:20:48.940Z"
   },
   {
    "duration": 73,
    "start_time": "2023-10-26T17:20:48.961Z"
   },
   {
    "duration": 1384,
    "start_time": "2023-10-26T17:20:49.036Z"
   },
   {
    "duration": 39,
    "start_time": "2023-10-26T17:20:50.423Z"
   },
   {
    "duration": 24,
    "start_time": "2023-10-26T17:31:17.039Z"
   },
   {
    "duration": 48,
    "start_time": "2023-10-26T17:37:26.950Z"
   },
   {
    "duration": 17,
    "start_time": "2023-10-26T17:37:59.118Z"
   },
   {
    "duration": 17,
    "start_time": "2023-10-26T17:39:08.412Z"
   },
   {
    "duration": 15,
    "start_time": "2023-10-26T17:40:44.107Z"
   },
   {
    "duration": 14,
    "start_time": "2023-10-26T17:41:32.899Z"
   },
   {
    "duration": 68,
    "start_time": "2023-10-26T17:44:32.256Z"
   },
   {
    "duration": 21,
    "start_time": "2023-10-26T17:45:11.975Z"
   },
   {
    "duration": 32,
    "start_time": "2023-10-26T17:46:22.368Z"
   },
   {
    "duration": 23,
    "start_time": "2023-10-26T17:47:18.131Z"
   },
   {
    "duration": 84,
    "start_time": "2023-10-26T17:48:13.991Z"
   },
   {
    "duration": 138,
    "start_time": "2023-10-26T17:48:20.571Z"
   },
   {
    "duration": 193,
    "start_time": "2023-10-26T17:48:28.100Z"
   },
   {
    "duration": 23,
    "start_time": "2023-10-26T17:48:40.267Z"
   },
   {
    "duration": 23,
    "start_time": "2023-10-26T17:56:51.324Z"
   },
   {
    "duration": 17,
    "start_time": "2023-10-26T17:57:07.882Z"
   },
   {
    "duration": 69,
    "start_time": "2023-10-26T17:58:33.073Z"
   },
   {
    "duration": 18,
    "start_time": "2023-10-26T17:58:42.443Z"
   },
   {
    "duration": 59,
    "start_time": "2023-10-26T17:59:03.081Z"
   },
   {
    "duration": 17,
    "start_time": "2023-10-26T17:59:34.482Z"
   },
   {
    "duration": 24,
    "start_time": "2023-10-26T18:00:24.231Z"
   },
   {
    "duration": 27,
    "start_time": "2023-10-26T18:01:53.238Z"
   },
   {
    "duration": 26257,
    "start_time": "2023-10-26T18:02:22.349Z"
   },
   {
    "duration": 19,
    "start_time": "2023-10-26T18:03:18.764Z"
   },
   {
    "duration": 8462,
    "start_time": "2023-10-26T18:03:28.028Z"
   },
   {
    "duration": 8874,
    "start_time": "2023-10-26T18:04:44.938Z"
   },
   {
    "duration": 21,
    "start_time": "2023-10-26T18:06:16.906Z"
   },
   {
    "duration": 1302,
    "start_time": "2023-10-26T18:10:15.118Z"
   },
   {
    "duration": 111,
    "start_time": "2023-10-26T18:10:16.422Z"
   },
   {
    "duration": 35,
    "start_time": "2023-10-26T18:10:16.534Z"
   },
   {
    "duration": 34,
    "start_time": "2023-10-26T18:10:16.571Z"
   },
   {
    "duration": 31,
    "start_time": "2023-10-26T18:10:16.607Z"
   },
   {
    "duration": 104,
    "start_time": "2023-10-26T18:10:16.640Z"
   },
   {
    "duration": 22,
    "start_time": "2023-10-26T18:10:16.746Z"
   },
   {
    "duration": 65,
    "start_time": "2023-10-26T18:10:16.770Z"
   },
   {
    "duration": 21,
    "start_time": "2023-10-26T18:10:16.837Z"
   },
   {
    "duration": 31,
    "start_time": "2023-10-26T18:10:16.860Z"
   },
   {
    "duration": 496,
    "start_time": "2023-10-26T18:10:16.893Z"
   },
   {
    "duration": 42,
    "start_time": "2023-10-26T18:10:17.391Z"
   },
   {
    "duration": 19,
    "start_time": "2023-10-26T18:10:17.435Z"
   },
   {
    "duration": 55,
    "start_time": "2023-10-26T18:10:17.457Z"
   },
   {
    "duration": 33,
    "start_time": "2023-10-26T18:10:17.514Z"
   },
   {
    "duration": 22,
    "start_time": "2023-10-26T18:10:17.548Z"
   },
   {
    "duration": 12,
    "start_time": "2023-10-26T18:10:17.572Z"
   },
   {
    "duration": 42,
    "start_time": "2023-10-26T18:10:17.607Z"
   },
   {
    "duration": 11,
    "start_time": "2023-10-26T18:10:17.650Z"
   },
   {
    "duration": 18,
    "start_time": "2023-10-26T18:10:17.662Z"
   },
   {
    "duration": 386,
    "start_time": "2023-10-26T18:10:17.681Z"
   },
   {
    "duration": 52,
    "start_time": "2023-10-26T18:10:18.069Z"
   },
   {
    "duration": 36,
    "start_time": "2023-10-26T18:10:18.123Z"
   },
   {
    "duration": 1369,
    "start_time": "2023-10-26T18:10:18.161Z"
   },
   {
    "duration": 31,
    "start_time": "2023-10-26T18:10:19.532Z"
   },
   {
    "duration": 17,
    "start_time": "2023-10-26T18:10:19.565Z"
   },
   {
    "duration": 20,
    "start_time": "2023-10-26T18:10:19.607Z"
   },
   {
    "duration": 34,
    "start_time": "2023-10-26T18:10:19.628Z"
   },
   {
    "duration": 27,
    "start_time": "2023-10-26T18:10:19.665Z"
   },
   {
    "duration": 7,
    "start_time": "2023-10-26T18:14:29.587Z"
   },
   {
    "duration": 11,
    "start_time": "2023-10-26T18:20:32.644Z"
   },
   {
    "duration": 25,
    "start_time": "2023-10-26T18:26:19.869Z"
   },
   {
    "duration": 15,
    "start_time": "2023-10-26T18:30:12.408Z"
   },
   {
    "duration": 12,
    "start_time": "2023-10-26T18:30:31.273Z"
   },
   {
    "duration": 16,
    "start_time": "2023-10-26T18:30:46.488Z"
   },
   {
    "duration": 22,
    "start_time": "2023-10-26T18:31:03.865Z"
   },
   {
    "duration": 21,
    "start_time": "2023-10-26T18:31:28.816Z"
   },
   {
    "duration": 28,
    "start_time": "2023-10-26T18:33:25.959Z"
   },
   {
    "duration": 21,
    "start_time": "2023-10-26T18:33:30.990Z"
   },
   {
    "duration": 21,
    "start_time": "2023-10-26T18:35:28.779Z"
   },
   {
    "duration": 21,
    "start_time": "2023-10-26T18:36:57.889Z"
   },
   {
    "duration": 12,
    "start_time": "2023-10-26T18:42:29.646Z"
   },
   {
    "duration": 14,
    "start_time": "2023-10-26T18:47:15.810Z"
   },
   {
    "duration": 171,
    "start_time": "2023-10-26T18:47:39.313Z"
   },
   {
    "duration": 11,
    "start_time": "2023-10-26T18:48:06.270Z"
   },
   {
    "duration": 9,
    "start_time": "2023-10-26T18:48:10.166Z"
   },
   {
    "duration": 11,
    "start_time": "2023-10-26T18:48:52.484Z"
   },
   {
    "duration": 5,
    "start_time": "2023-10-26T18:52:13.450Z"
   },
   {
    "duration": 13,
    "start_time": "2023-10-26T18:55:44.263Z"
   },
   {
    "duration": 5,
    "start_time": "2023-10-26T18:55:53.975Z"
   },
   {
    "duration": 18,
    "start_time": "2023-10-26T18:57:05.100Z"
   },
   {
    "duration": 20,
    "start_time": "2023-10-26T18:57:11.806Z"
   },
   {
    "duration": 67,
    "start_time": "2023-10-26T19:04:40.057Z"
   },
   {
    "duration": 42,
    "start_time": "2023-10-26T19:04:55.365Z"
   },
   {
    "duration": 79,
    "start_time": "2023-10-26T19:09:08.872Z"
   },
   {
    "duration": 26,
    "start_time": "2023-10-26T19:11:36.367Z"
   },
   {
    "duration": 80,
    "start_time": "2023-10-26T19:11:43.078Z"
   },
   {
    "duration": 53,
    "start_time": "2023-10-26T19:12:03.943Z"
   },
   {
    "duration": 22,
    "start_time": "2023-10-26T19:15:46.011Z"
   },
   {
    "duration": 94,
    "start_time": "2023-10-26T19:17:13.281Z"
   },
   {
    "duration": 89,
    "start_time": "2023-10-26T19:22:43.871Z"
   },
   {
    "duration": 86,
    "start_time": "2023-10-26T19:24:14.801Z"
   },
   {
    "duration": 92,
    "start_time": "2023-10-26T19:26:08.374Z"
   },
   {
    "duration": 21,
    "start_time": "2023-10-26T19:35:36.084Z"
   },
   {
    "duration": 25,
    "start_time": "2023-10-26T19:36:19.436Z"
   },
   {
    "duration": 27,
    "start_time": "2023-10-26T19:37:02.524Z"
   },
   {
    "duration": 158,
    "start_time": "2023-10-26T19:37:26.508Z"
   },
   {
    "duration": 31,
    "start_time": "2023-10-26T19:37:30.098Z"
   },
   {
    "duration": 28,
    "start_time": "2023-10-26T19:38:13.466Z"
   },
   {
    "duration": 35,
    "start_time": "2023-10-26T19:38:54.705Z"
   },
   {
    "duration": 27,
    "start_time": "2023-10-26T19:41:12.824Z"
   },
   {
    "duration": 21,
    "start_time": "2023-10-26T19:41:28.127Z"
   },
   {
    "duration": 27,
    "start_time": "2023-10-26T19:41:41.615Z"
   },
   {
    "duration": 203,
    "start_time": "2023-10-26T19:42:33.775Z"
   },
   {
    "duration": 76,
    "start_time": "2023-10-26T19:42:55.710Z"
   },
   {
    "duration": 51,
    "start_time": "2023-10-26T19:44:03.398Z"
   },
   {
    "duration": 25,
    "start_time": "2023-10-26T19:44:30.742Z"
   },
   {
    "duration": 24,
    "start_time": "2023-10-26T19:48:37.879Z"
   },
   {
    "duration": 16,
    "start_time": "2023-10-26T19:49:47.862Z"
   },
   {
    "duration": 25,
    "start_time": "2023-10-26T19:51:21.266Z"
   },
   {
    "duration": 20,
    "start_time": "2023-10-26T19:51:49.246Z"
   },
   {
    "duration": 1154,
    "start_time": "2023-10-26T19:52:33.847Z"
   },
   {
    "duration": 38,
    "start_time": "2023-10-26T19:52:52.898Z"
   },
   {
    "duration": 26,
    "start_time": "2023-10-26T19:53:17.512Z"
   },
   {
    "duration": 43,
    "start_time": "2023-10-26T20:30:59.004Z"
   },
   {
    "duration": 32,
    "start_time": "2023-10-26T20:32:09.740Z"
   },
   {
    "duration": 37,
    "start_time": "2023-10-26T20:32:55.066Z"
   },
   {
    "duration": 34,
    "start_time": "2023-10-26T20:33:14.333Z"
   },
   {
    "duration": 42,
    "start_time": "2023-10-26T20:34:01.535Z"
   },
   {
    "duration": 35,
    "start_time": "2023-10-26T20:34:20.066Z"
   },
   {
    "duration": 38,
    "start_time": "2023-10-26T20:34:55.521Z"
   },
   {
    "duration": 22,
    "start_time": "2023-10-26T20:35:32.141Z"
   },
   {
    "duration": 41,
    "start_time": "2023-10-26T20:36:07.877Z"
   },
   {
    "duration": 39,
    "start_time": "2023-10-26T20:37:34.332Z"
   },
   {
    "duration": 91,
    "start_time": "2023-10-26T20:39:13.848Z"
   },
   {
    "duration": 72,
    "start_time": "2023-10-26T20:39:39.020Z"
   },
   {
    "duration": 124,
    "start_time": "2023-10-26T20:40:59.090Z"
   },
   {
    "duration": 72,
    "start_time": "2023-10-26T20:41:16.647Z"
   },
   {
    "duration": 21,
    "start_time": "2023-10-26T20:45:56.643Z"
   },
   {
    "duration": 43,
    "start_time": "2023-10-26T20:46:13.047Z"
   },
   {
    "duration": 88,
    "start_time": "2023-10-26T20:46:15.761Z"
   },
   {
    "duration": 96,
    "start_time": "2023-10-26T20:46:46.628Z"
   },
   {
    "duration": 59,
    "start_time": "2023-10-26T20:57:12.722Z"
   },
   {
    "duration": 62,
    "start_time": "2023-10-26T20:58:00.189Z"
   },
   {
    "duration": 59,
    "start_time": "2023-10-26T20:58:51.740Z"
   },
   {
    "duration": 58,
    "start_time": "2023-10-26T20:59:48.518Z"
   },
   {
    "duration": 68,
    "start_time": "2023-10-26T21:00:23.115Z"
   },
   {
    "duration": 59,
    "start_time": "2023-10-26T21:01:45.720Z"
   },
   {
    "duration": 56,
    "start_time": "2023-10-26T21:01:59.793Z"
   },
   {
    "duration": 52,
    "start_time": "2023-10-26T21:18:56.031Z"
   },
   {
    "duration": 104,
    "start_time": "2023-10-26T21:19:49.636Z"
   },
   {
    "duration": 52,
    "start_time": "2023-10-26T21:20:15.683Z"
   },
   {
    "duration": 48,
    "start_time": "2023-10-26T21:20:58.204Z"
   },
   {
    "duration": 53,
    "start_time": "2023-10-26T21:21:16.418Z"
   },
   {
    "duration": 54,
    "start_time": "2023-10-26T21:21:30.675Z"
   },
   {
    "duration": 1998,
    "start_time": "2023-10-29T07:30:32.185Z"
   },
   {
    "duration": 309,
    "start_time": "2023-10-29T07:30:34.186Z"
   },
   {
    "duration": 64,
    "start_time": "2023-10-29T07:30:34.496Z"
   },
   {
    "duration": 26,
    "start_time": "2023-10-29T07:30:34.562Z"
   },
   {
    "duration": 69,
    "start_time": "2023-10-29T07:30:34.590Z"
   },
   {
    "duration": 106,
    "start_time": "2023-10-29T07:30:34.660Z"
   },
   {
    "duration": 17,
    "start_time": "2023-10-29T07:30:34.767Z"
   },
   {
    "duration": 89,
    "start_time": "2023-10-29T07:30:34.785Z"
   },
   {
    "duration": 71,
    "start_time": "2023-10-29T07:30:34.875Z"
   },
   {
    "duration": 20,
    "start_time": "2023-10-29T07:30:34.948Z"
   },
   {
    "duration": 907,
    "start_time": "2023-10-29T07:30:34.969Z"
   },
   {
    "duration": 22,
    "start_time": "2023-10-29T07:30:35.878Z"
   },
   {
    "duration": 59,
    "start_time": "2023-10-29T07:30:35.901Z"
   },
   {
    "duration": 32,
    "start_time": "2023-10-29T07:30:35.963Z"
   },
   {
    "duration": 30,
    "start_time": "2023-10-29T07:30:35.997Z"
   },
   {
    "duration": 26,
    "start_time": "2023-10-29T07:30:36.029Z"
   },
   {
    "duration": 12,
    "start_time": "2023-10-29T07:30:36.057Z"
   },
   {
    "duration": 44,
    "start_time": "2023-10-29T07:30:36.071Z"
   },
   {
    "duration": 34,
    "start_time": "2023-10-29T07:30:36.116Z"
   },
   {
    "duration": 20,
    "start_time": "2023-10-29T07:30:36.151Z"
   },
   {
    "duration": 706,
    "start_time": "2023-10-29T07:30:36.173Z"
   },
   {
    "duration": 19,
    "start_time": "2023-10-29T07:30:36.881Z"
   },
   {
    "duration": 62,
    "start_time": "2023-10-29T07:30:36.901Z"
   },
   {
    "duration": 1795,
    "start_time": "2023-10-29T07:30:36.965Z"
   },
   {
    "duration": 83,
    "start_time": "2023-10-29T07:30:38.762Z"
   },
   {
    "duration": 16,
    "start_time": "2023-10-29T07:30:38.847Z"
   },
   {
    "duration": 15,
    "start_time": "2023-10-29T07:30:38.865Z"
   },
   {
    "duration": 65,
    "start_time": "2023-10-29T07:30:38.881Z"
   },
   {
    "duration": 28,
    "start_time": "2023-10-29T07:30:38.947Z"
   },
   {
    "duration": 70,
    "start_time": "2023-10-29T07:30:38.977Z"
   },
   {
    "duration": 18,
    "start_time": "2023-10-29T07:30:39.048Z"
   },
   {
    "duration": 78,
    "start_time": "2023-10-29T07:30:39.067Z"
   },
   {
    "duration": 6,
    "start_time": "2023-10-29T07:30:39.146Z"
   },
   {
    "duration": 97,
    "start_time": "2023-10-29T07:30:39.154Z"
   },
   {
    "duration": 15,
    "start_time": "2023-10-29T07:30:39.252Z"
   },
   {
    "duration": 199,
    "start_time": "2023-10-29T07:30:39.268Z"
   },
   {
    "duration": 119,
    "start_time": "2023-10-29T07:30:39.469Z"
   },
   {
    "duration": 70,
    "start_time": "2023-10-29T07:30:39.590Z"
   },
   {
    "duration": 84,
    "start_time": "2023-10-29T07:30:39.661Z"
   },
   {
    "duration": 106,
    "start_time": "2023-10-29T07:30:39.746Z"
   },
   {
    "duration": 198,
    "start_time": "2023-10-29T07:30:39.855Z"
   },
   {
    "duration": 114,
    "start_time": "2023-10-29T07:30:40.054Z"
   },
   {
    "duration": 90,
    "start_time": "2023-10-29T07:30:40.170Z"
   },
   {
    "duration": 97,
    "start_time": "2023-10-29T07:30:40.262Z"
   },
   {
    "duration": 2,
    "start_time": "2023-10-29T07:30:40.361Z"
   },
   {
    "duration": 15,
    "start_time": "2023-10-29T07:30:40.365Z"
   },
   {
    "duration": 41,
    "start_time": "2023-10-29T07:33:35.839Z"
   },
   {
    "duration": 42,
    "start_time": "2023-10-29T07:33:44.548Z"
   },
   {
    "duration": 45,
    "start_time": "2023-10-29T07:34:36.013Z"
   },
   {
    "duration": 30,
    "start_time": "2023-10-29T07:36:33.154Z"
   },
   {
    "duration": 80,
    "start_time": "2023-10-29T07:37:14.658Z"
   },
   {
    "duration": 89,
    "start_time": "2023-10-29T07:37:30.004Z"
   },
   {
    "duration": 94,
    "start_time": "2023-10-29T07:37:38.250Z"
   },
   {
    "duration": 61,
    "start_time": "2023-10-29T07:39:04.282Z"
   },
   {
    "duration": 27,
    "start_time": "2023-10-29T07:40:12.639Z"
   },
   {
    "duration": 48,
    "start_time": "2023-10-29T07:40:35.207Z"
   },
   {
    "duration": 133,
    "start_time": "2023-10-29T07:40:59.590Z"
   },
   {
    "duration": 164,
    "start_time": "2023-10-29T07:41:15.494Z"
   },
   {
    "duration": 48,
    "start_time": "2023-10-29T07:41:32.419Z"
   },
   {
    "duration": 49,
    "start_time": "2023-10-29T08:21:42.115Z"
   },
   {
    "duration": 48,
    "start_time": "2023-10-29T08:21:46.826Z"
   },
   {
    "duration": 50,
    "start_time": "2023-10-29T08:21:56.113Z"
   },
   {
    "duration": 50,
    "start_time": "2023-10-29T08:26:08.694Z"
   },
   {
    "duration": 49,
    "start_time": "2023-10-29T08:26:15.750Z"
   },
   {
    "duration": 51,
    "start_time": "2023-10-29T08:26:29.958Z"
   },
   {
    "duration": 63,
    "start_time": "2023-10-29T08:26:40.598Z"
   },
   {
    "duration": 66,
    "start_time": "2023-10-29T08:26:44.229Z"
   },
   {
    "duration": 51,
    "start_time": "2023-10-29T08:26:53.804Z"
   },
   {
    "duration": 50,
    "start_time": "2023-10-29T08:27:10.764Z"
   },
   {
    "duration": 49,
    "start_time": "2023-10-29T08:27:15.380Z"
   },
   {
    "duration": 10,
    "start_time": "2023-10-29T08:31:20.648Z"
   },
   {
    "duration": 11,
    "start_time": "2023-10-29T08:31:45.988Z"
   },
   {
    "duration": 10,
    "start_time": "2023-10-29T08:32:24.791Z"
   },
   {
    "duration": 19513,
    "start_time": "2023-10-29T08:32:50.386Z"
   },
   {
    "duration": 1217,
    "start_time": "2023-10-29T08:33:21.550Z"
   },
   {
    "duration": 15143,
    "start_time": "2023-10-29T08:33:30.110Z"
   },
   {
    "duration": 21,
    "start_time": "2023-10-29T08:42:16.344Z"
   },
   {
    "duration": 76,
    "start_time": "2023-10-29T08:42:33.646Z"
   },
   {
    "duration": 109,
    "start_time": "2023-10-29T09:11:37.029Z"
   },
   {
    "duration": 64,
    "start_time": "2023-10-29T09:12:12.310Z"
   },
   {
    "duration": 59,
    "start_time": "2023-10-29T09:12:24.616Z"
   },
   {
    "duration": 30,
    "start_time": "2023-10-29T09:15:18.852Z"
   },
   {
    "duration": 22,
    "start_time": "2023-10-29T09:15:44.103Z"
   },
   {
    "duration": 47,
    "start_time": "2023-10-29T09:16:29.036Z"
   },
   {
    "duration": 17,
    "start_time": "2023-10-29T09:16:32.043Z"
   },
   {
    "duration": 21,
    "start_time": "2023-10-29T09:36:23.657Z"
   },
   {
    "duration": 22,
    "start_time": "2023-10-29T09:37:24.442Z"
   },
   {
    "duration": 21,
    "start_time": "2023-10-29T09:37:49.483Z"
   },
   {
    "duration": 27,
    "start_time": "2023-10-29T09:38:57.475Z"
   },
   {
    "duration": 26,
    "start_time": "2023-10-29T09:39:18.182Z"
   },
   {
    "duration": 23,
    "start_time": "2023-10-29T09:40:04.696Z"
   },
   {
    "duration": 26,
    "start_time": "2023-10-29T09:40:24.957Z"
   },
   {
    "duration": 33,
    "start_time": "2023-10-29T09:41:42.784Z"
   },
   {
    "duration": 41,
    "start_time": "2023-10-29T09:42:31.977Z"
   },
   {
    "duration": 27,
    "start_time": "2023-10-29T09:42:35.159Z"
   },
   {
    "duration": 33,
    "start_time": "2023-10-29T09:44:32.135Z"
   },
   {
    "duration": 49,
    "start_time": "2023-10-29T09:45:03.522Z"
   },
   {
    "duration": 29,
    "start_time": "2023-10-29T09:45:07.282Z"
   },
   {
    "duration": 37,
    "start_time": "2023-10-29T09:46:03.106Z"
   },
   {
    "duration": 27,
    "start_time": "2023-10-29T09:47:11.783Z"
   },
   {
    "duration": 39,
    "start_time": "2023-10-29T09:47:44.623Z"
   },
   {
    "duration": 55,
    "start_time": "2023-10-29T09:48:27.771Z"
   },
   {
    "duration": 29,
    "start_time": "2023-10-29T09:48:33.733Z"
   },
   {
    "duration": 20,
    "start_time": "2023-10-29T09:48:52.958Z"
   },
   {
    "duration": 45,
    "start_time": "2023-10-29T09:48:59.398Z"
   },
   {
    "duration": 18,
    "start_time": "2023-10-29T09:49:01.657Z"
   },
   {
    "duration": 24,
    "start_time": "2023-10-29T09:49:06.869Z"
   },
   {
    "duration": 25,
    "start_time": "2023-10-29T09:49:41.236Z"
   },
   {
    "duration": 20,
    "start_time": "2023-10-29T09:49:55.299Z"
   },
   {
    "duration": 19,
    "start_time": "2023-10-29T09:50:04.881Z"
   },
   {
    "duration": 19,
    "start_time": "2023-10-29T09:50:15.805Z"
   },
   {
    "duration": 20,
    "start_time": "2023-10-29T09:50:30.723Z"
   },
   {
    "duration": 18,
    "start_time": "2023-10-29T09:50:53.382Z"
   },
   {
    "duration": 18,
    "start_time": "2023-10-29T09:50:58.381Z"
   },
   {
    "duration": 19,
    "start_time": "2023-10-29T09:51:13.477Z"
   },
   {
    "duration": 19,
    "start_time": "2023-10-29T09:51:23.076Z"
   },
   {
    "duration": 20,
    "start_time": "2023-10-29T09:52:06.878Z"
   },
   {
    "duration": 14,
    "start_time": "2023-10-29T09:52:12.016Z"
   },
   {
    "duration": 18,
    "start_time": "2023-10-29T09:52:17.886Z"
   },
   {
    "duration": 46,
    "start_time": "2023-10-29T09:52:34.679Z"
   },
   {
    "duration": 97,
    "start_time": "2023-10-29T09:52:55.974Z"
   },
   {
    "duration": 4,
    "start_time": "2023-10-29T09:53:09.378Z"
   },
   {
    "duration": 58,
    "start_time": "2023-10-29T09:53:14.375Z"
   },
   {
    "duration": 62,
    "start_time": "2023-10-29T09:55:08.594Z"
   },
   {
    "duration": 45,
    "start_time": "2023-10-29T09:55:17.985Z"
   },
   {
    "duration": 17,
    "start_time": "2023-10-29T09:55:20.164Z"
   },
   {
    "duration": 28,
    "start_time": "2023-10-29T09:55:45.373Z"
   },
   {
    "duration": 26,
    "start_time": "2023-10-29T09:56:51.079Z"
   },
   {
    "duration": 26,
    "start_time": "2023-10-29T09:57:05.276Z"
   },
   {
    "duration": 28,
    "start_time": "2023-10-29T09:57:13.222Z"
   },
   {
    "duration": 29,
    "start_time": "2023-10-29T09:57:22.564Z"
   },
   {
    "duration": 1347,
    "start_time": "2023-10-29T18:54:35.262Z"
   },
   {
    "duration": 136,
    "start_time": "2023-10-29T18:54:36.610Z"
   },
   {
    "duration": 76,
    "start_time": "2023-10-29T18:54:36.747Z"
   },
   {
    "duration": 24,
    "start_time": "2023-10-29T18:54:36.824Z"
   },
   {
    "duration": 17,
    "start_time": "2023-10-29T18:54:36.850Z"
   },
   {
    "duration": 42,
    "start_time": "2023-10-29T18:54:36.869Z"
   },
   {
    "duration": 35,
    "start_time": "2023-10-29T18:54:36.912Z"
   },
   {
    "duration": 27,
    "start_time": "2023-10-29T18:54:36.948Z"
   },
   {
    "duration": 15,
    "start_time": "2023-10-29T18:54:36.977Z"
   },
   {
    "duration": 16,
    "start_time": "2023-10-29T18:54:36.993Z"
   },
   {
    "duration": 461,
    "start_time": "2023-10-29T18:54:37.010Z"
   },
   {
    "duration": 19,
    "start_time": "2023-10-29T18:54:37.473Z"
   },
   {
    "duration": 14,
    "start_time": "2023-10-29T18:54:37.493Z"
   },
   {
    "duration": 48,
    "start_time": "2023-10-29T18:54:37.510Z"
   },
   {
    "duration": 25,
    "start_time": "2023-10-29T18:54:37.560Z"
   },
   {
    "duration": 17,
    "start_time": "2023-10-29T18:54:37.587Z"
   },
   {
    "duration": 11,
    "start_time": "2023-10-29T18:54:37.606Z"
   },
   {
    "duration": 45,
    "start_time": "2023-10-29T18:54:37.618Z"
   },
   {
    "duration": 9,
    "start_time": "2023-10-29T18:54:37.664Z"
   },
   {
    "duration": 21,
    "start_time": "2023-10-29T18:54:37.675Z"
   },
   {
    "duration": 1014,
    "start_time": "2023-10-29T18:54:37.697Z"
   },
   {
    "duration": 28,
    "start_time": "2023-10-29T18:54:38.712Z"
   },
   {
    "duration": 30,
    "start_time": "2023-10-29T18:54:38.741Z"
   },
   {
    "duration": 1133,
    "start_time": "2023-10-29T18:54:38.772Z"
   },
   {
    "duration": 37,
    "start_time": "2023-10-29T18:54:39.906Z"
   },
   {
    "duration": 13,
    "start_time": "2023-10-29T18:54:39.944Z"
   },
   {
    "duration": 14,
    "start_time": "2023-10-29T18:54:39.958Z"
   },
   {
    "duration": 11,
    "start_time": "2023-10-29T18:54:39.973Z"
   },
   {
    "duration": 70,
    "start_time": "2023-10-29T18:54:39.985Z"
   },
   {
    "duration": 20,
    "start_time": "2023-10-29T18:54:40.057Z"
   },
   {
    "duration": 15,
    "start_time": "2023-10-29T18:54:40.078Z"
   },
   {
    "duration": 21,
    "start_time": "2023-10-29T18:54:40.095Z"
   },
   {
    "duration": 16,
    "start_time": "2023-10-29T18:54:40.118Z"
   },
   {
    "duration": 42,
    "start_time": "2023-10-29T18:54:40.136Z"
   },
   {
    "duration": 10,
    "start_time": "2023-10-29T18:54:40.180Z"
   },
   {
    "duration": 107,
    "start_time": "2023-10-29T18:54:40.191Z"
   },
   {
    "duration": 66,
    "start_time": "2023-10-29T18:54:40.300Z"
   },
   {
    "duration": 18,
    "start_time": "2023-10-29T18:54:40.367Z"
   },
   {
    "duration": 41,
    "start_time": "2023-10-29T18:54:40.386Z"
   },
   {
    "duration": 110,
    "start_time": "2023-10-29T18:54:40.428Z"
   },
   {
    "duration": 84,
    "start_time": "2023-10-29T18:54:40.541Z"
   },
   {
    "duration": 22,
    "start_time": "2023-10-29T18:54:40.627Z"
   },
   {
    "duration": 43,
    "start_time": "2023-10-29T18:54:40.651Z"
   },
   {
    "duration": 54,
    "start_time": "2023-10-29T18:54:40.695Z"
   },
   {
    "duration": 76,
    "start_time": "2023-10-29T18:54:40.750Z"
   },
   {
    "duration": 54,
    "start_time": "2023-10-29T18:54:40.839Z"
   },
   {
    "duration": 23,
    "start_time": "2023-10-29T18:54:40.894Z"
   },
   {
    "duration": 63,
    "start_time": "2023-10-29T18:54:40.918Z"
   },
   {
    "duration": 16,
    "start_time": "2023-10-29T18:54:40.983Z"
   },
   {
    "duration": 51,
    "start_time": "2023-10-29T18:54:41.001Z"
   },
   {
    "duration": 16,
    "start_time": "2023-10-29T18:54:41.054Z"
   },
   {
    "duration": 1363,
    "start_time": "2023-10-29T18:54:41.071Z"
   },
   {
    "duration": 21,
    "start_time": "2023-10-29T18:55:30.771Z"
   },
   {
    "duration": 20,
    "start_time": "2023-10-29T18:57:44.754Z"
   },
   {
    "duration": 24,
    "start_time": "2023-10-29T18:58:41.593Z"
   },
   {
    "duration": 19,
    "start_time": "2023-10-29T19:06:06.808Z"
   },
   {
    "duration": 42,
    "start_time": "2023-10-29T19:07:15.031Z"
   },
   {
    "duration": 46,
    "start_time": "2023-10-29T19:07:39.638Z"
   },
   {
    "duration": 22,
    "start_time": "2023-10-29T19:07:55.447Z"
   },
   {
    "duration": 21,
    "start_time": "2023-10-29T19:09:43.452Z"
   },
   {
    "duration": 12,
    "start_time": "2023-10-29T19:12:46.857Z"
   },
   {
    "duration": 38,
    "start_time": "2023-10-29T19:16:05.022Z"
   },
   {
    "duration": 36,
    "start_time": "2023-10-29T19:16:14.236Z"
   },
   {
    "duration": 37,
    "start_time": "2023-10-29T19:17:26.189Z"
   },
   {
    "duration": 37,
    "start_time": "2023-10-29T19:18:36.883Z"
   },
   {
    "duration": 38,
    "start_time": "2023-10-29T19:18:50.571Z"
   },
   {
    "duration": 46,
    "start_time": "2023-10-29T19:19:03.602Z"
   },
   {
    "duration": 18,
    "start_time": "2023-10-29T19:21:42.504Z"
   },
   {
    "duration": 15,
    "start_time": "2023-10-29T19:28:01.432Z"
   },
   {
    "duration": 13,
    "start_time": "2023-10-29T19:30:07.722Z"
   },
   {
    "duration": 17,
    "start_time": "2023-10-29T19:31:03.046Z"
   },
   {
    "duration": 22,
    "start_time": "2023-10-29T19:42:52.761Z"
   },
   {
    "duration": 27,
    "start_time": "2023-10-29T19:43:58.969Z"
   },
   {
    "duration": 15,
    "start_time": "2023-10-29T19:44:21.446Z"
   },
   {
    "duration": 17,
    "start_time": "2023-10-29T19:44:30.825Z"
   },
   {
    "duration": 3,
    "start_time": "2023-10-29T19:52:34.903Z"
   },
   {
    "duration": 26,
    "start_time": "2023-10-29T19:53:09.309Z"
   },
   {
    "duration": 10,
    "start_time": "2023-10-29T19:54:51.202Z"
   },
   {
    "duration": 19,
    "start_time": "2023-10-29T19:55:07.226Z"
   },
   {
    "duration": 18,
    "start_time": "2023-10-29T19:55:28.243Z"
   },
   {
    "duration": 1115,
    "start_time": "2023-10-29T19:55:59.686Z"
   },
   {
    "duration": 130,
    "start_time": "2023-10-29T19:56:00.803Z"
   },
   {
    "duration": 65,
    "start_time": "2023-10-29T19:56:00.935Z"
   },
   {
    "duration": 26,
    "start_time": "2023-10-29T19:56:01.001Z"
   },
   {
    "duration": 20,
    "start_time": "2023-10-29T19:56:01.029Z"
   },
   {
    "duration": 65,
    "start_time": "2023-10-29T19:56:01.050Z"
   },
   {
    "duration": 30,
    "start_time": "2023-10-29T19:56:01.117Z"
   },
   {
    "duration": 63,
    "start_time": "2023-10-29T19:56:01.148Z"
   },
   {
    "duration": 18,
    "start_time": "2023-10-29T19:56:01.213Z"
   },
   {
    "duration": 36,
    "start_time": "2023-10-29T19:56:01.233Z"
   },
   {
    "duration": 496,
    "start_time": "2023-10-29T19:56:01.271Z"
   },
   {
    "duration": 22,
    "start_time": "2023-10-29T19:56:01.769Z"
   },
   {
    "duration": 16,
    "start_time": "2023-10-29T19:56:01.792Z"
   },
   {
    "duration": 51,
    "start_time": "2023-10-29T19:56:01.812Z"
   },
   {
    "duration": 26,
    "start_time": "2023-10-29T19:56:01.865Z"
   },
   {
    "duration": 18,
    "start_time": "2023-10-29T19:56:01.892Z"
   },
   {
    "duration": 28,
    "start_time": "2023-10-29T19:56:01.912Z"
   },
   {
    "duration": 28,
    "start_time": "2023-10-29T19:56:01.942Z"
   },
   {
    "duration": 10,
    "start_time": "2023-10-29T19:56:01.972Z"
   },
   {
    "duration": 49,
    "start_time": "2023-10-29T19:56:01.984Z"
   },
   {
    "duration": 764,
    "start_time": "2023-10-29T19:56:02.035Z"
   },
   {
    "duration": 45,
    "start_time": "2023-10-29T19:56:02.800Z"
   },
   {
    "duration": 34,
    "start_time": "2023-10-29T19:56:02.846Z"
   },
   {
    "duration": 1162,
    "start_time": "2023-10-29T19:56:02.881Z"
   },
   {
    "duration": 25,
    "start_time": "2023-10-29T19:56:04.045Z"
   },
   {
    "duration": 13,
    "start_time": "2023-10-29T19:56:04.072Z"
   },
   {
    "duration": 11,
    "start_time": "2023-10-29T19:56:04.087Z"
   },
   {
    "duration": 40,
    "start_time": "2023-10-29T19:56:04.100Z"
   },
   {
    "duration": 32,
    "start_time": "2023-10-29T19:56:04.142Z"
   },
   {
    "duration": 20,
    "start_time": "2023-10-29T19:56:04.176Z"
   },
   {
    "duration": 43,
    "start_time": "2023-10-29T19:56:04.198Z"
   },
   {
    "duration": 23,
    "start_time": "2023-10-29T19:56:04.242Z"
   },
   {
    "duration": 12,
    "start_time": "2023-10-29T19:56:04.266Z"
   },
   {
    "duration": 40,
    "start_time": "2023-10-29T19:56:04.279Z"
   },
   {
    "duration": 29,
    "start_time": "2023-10-29T19:56:04.321Z"
   },
   {
    "duration": 92,
    "start_time": "2023-10-29T19:56:04.352Z"
   },
   {
    "duration": 73,
    "start_time": "2023-10-29T19:56:04.445Z"
   },
   {
    "duration": 33,
    "start_time": "2023-10-29T19:56:04.519Z"
   },
   {
    "duration": 42,
    "start_time": "2023-10-29T19:56:04.553Z"
   },
   {
    "duration": 98,
    "start_time": "2023-10-29T19:56:04.596Z"
   },
   {
    "duration": 73,
    "start_time": "2023-10-29T19:56:04.698Z"
   },
   {
    "duration": 26,
    "start_time": "2023-10-29T19:56:04.772Z"
   },
   {
    "duration": 56,
    "start_time": "2023-10-29T19:56:04.799Z"
   },
   {
    "duration": 40,
    "start_time": "2023-10-29T19:56:04.857Z"
   },
   {
    "duration": 97,
    "start_time": "2023-10-29T19:56:04.898Z"
   },
   {
    "duration": 67,
    "start_time": "2023-10-29T19:56:04.997Z"
   },
   {
    "duration": 25,
    "start_time": "2023-10-29T19:56:05.066Z"
   },
   {
    "duration": 65,
    "start_time": "2023-10-29T19:56:05.093Z"
   },
   {
    "duration": 24,
    "start_time": "2023-10-29T19:56:05.159Z"
   },
   {
    "duration": 20,
    "start_time": "2023-10-29T19:56:05.185Z"
   },
   {
    "duration": 65,
    "start_time": "2023-10-29T19:56:05.207Z"
   },
   {
    "duration": 15,
    "start_time": "2023-10-29T19:56:05.274Z"
   },
   {
    "duration": 22,
    "start_time": "2023-10-29T19:56:05.291Z"
   },
   {
    "duration": 3,
    "start_time": "2023-10-29T19:56:05.314Z"
   },
   {
    "duration": 40,
    "start_time": "2023-10-29T19:56:05.318Z"
   },
   {
    "duration": 20,
    "start_time": "2023-10-29T19:56:05.359Z"
   },
   {
    "duration": 6,
    "start_time": "2023-10-29T20:09:28.620Z"
   },
   {
    "duration": 16,
    "start_time": "2023-10-29T20:09:37.779Z"
   },
   {
    "duration": 1226,
    "start_time": "2023-10-29T20:11:16.874Z"
   },
   {
    "duration": 132,
    "start_time": "2023-10-29T20:11:18.102Z"
   },
   {
    "duration": 78,
    "start_time": "2023-10-29T20:11:18.235Z"
   },
   {
    "duration": 28,
    "start_time": "2023-10-29T20:11:18.314Z"
   },
   {
    "duration": 32,
    "start_time": "2023-10-29T20:11:18.344Z"
   },
   {
    "duration": 66,
    "start_time": "2023-10-29T20:11:18.377Z"
   },
   {
    "duration": 18,
    "start_time": "2023-10-29T20:11:18.444Z"
   },
   {
    "duration": 35,
    "start_time": "2023-10-29T20:11:18.463Z"
   },
   {
    "duration": 24,
    "start_time": "2023-10-29T20:11:18.499Z"
   },
   {
    "duration": 28,
    "start_time": "2023-10-29T20:11:18.524Z"
   },
   {
    "duration": 438,
    "start_time": "2023-10-29T20:11:18.554Z"
   },
   {
    "duration": 19,
    "start_time": "2023-10-29T20:11:18.994Z"
   },
   {
    "duration": 34,
    "start_time": "2023-10-29T20:11:19.015Z"
   },
   {
    "duration": 32,
    "start_time": "2023-10-29T20:11:19.052Z"
   },
   {
    "duration": 27,
    "start_time": "2023-10-29T20:11:19.086Z"
   },
   {
    "duration": 35,
    "start_time": "2023-10-29T20:11:19.115Z"
   },
   {
    "duration": 11,
    "start_time": "2023-10-29T20:11:19.151Z"
   },
   {
    "duration": 41,
    "start_time": "2023-10-29T20:11:19.164Z"
   },
   {
    "duration": 10,
    "start_time": "2023-10-29T20:11:19.206Z"
   },
   {
    "duration": 28,
    "start_time": "2023-10-29T20:11:19.217Z"
   },
   {
    "duration": 1992,
    "start_time": "2023-10-29T20:11:19.246Z"
   },
   {
    "duration": 17,
    "start_time": "2023-10-29T20:11:21.240Z"
   },
   {
    "duration": 90,
    "start_time": "2023-10-29T20:11:21.258Z"
   },
   {
    "duration": 1101,
    "start_time": "2023-10-29T20:11:21.349Z"
   },
   {
    "duration": 34,
    "start_time": "2023-10-29T20:11:22.452Z"
   },
   {
    "duration": 18,
    "start_time": "2023-10-29T20:11:22.488Z"
   },
   {
    "duration": 33,
    "start_time": "2023-10-29T20:11:22.507Z"
   },
   {
    "duration": 15,
    "start_time": "2023-10-29T20:11:22.542Z"
   },
   {
    "duration": 99,
    "start_time": "2023-10-29T20:11:22.559Z"
   },
   {
    "duration": 18,
    "start_time": "2023-10-29T20:11:22.660Z"
   },
   {
    "duration": 16,
    "start_time": "2023-10-29T20:11:22.679Z"
   },
   {
    "duration": 21,
    "start_time": "2023-10-29T20:11:22.696Z"
   },
   {
    "duration": 22,
    "start_time": "2023-10-29T20:11:22.718Z"
   },
   {
    "duration": 53,
    "start_time": "2023-10-29T20:11:22.742Z"
   },
   {
    "duration": 12,
    "start_time": "2023-10-29T20:11:22.797Z"
   },
   {
    "duration": 136,
    "start_time": "2023-10-29T20:11:22.811Z"
   },
   {
    "duration": 69,
    "start_time": "2023-10-29T20:11:22.948Z"
   },
   {
    "duration": 28,
    "start_time": "2023-10-29T20:11:23.018Z"
   },
   {
    "duration": 66,
    "start_time": "2023-10-29T20:11:23.048Z"
   },
   {
    "duration": 100,
    "start_time": "2023-10-29T20:11:23.115Z"
   },
   {
    "duration": 92,
    "start_time": "2023-10-29T20:11:23.219Z"
   },
   {
    "duration": 23,
    "start_time": "2023-10-29T20:11:23.313Z"
   },
   {
    "duration": 45,
    "start_time": "2023-10-29T20:11:23.337Z"
   },
   {
    "duration": 37,
    "start_time": "2023-10-29T20:11:23.383Z"
   },
   {
    "duration": 84,
    "start_time": "2023-10-29T20:11:23.421Z"
   },
   {
    "duration": 64,
    "start_time": "2023-10-29T20:11:23.506Z"
   },
   {
    "duration": 24,
    "start_time": "2023-10-29T20:11:23.571Z"
   },
   {
    "duration": 58,
    "start_time": "2023-10-29T20:11:23.597Z"
   },
   {
    "duration": 20,
    "start_time": "2023-10-29T20:11:23.657Z"
   },
   {
    "duration": 28,
    "start_time": "2023-10-29T20:11:23.679Z"
   },
   {
    "duration": 48,
    "start_time": "2023-10-29T20:11:23.709Z"
   },
   {
    "duration": 25,
    "start_time": "2023-10-29T20:11:23.759Z"
   },
   {
    "duration": 48,
    "start_time": "2023-10-29T20:11:23.786Z"
   },
   {
    "duration": 7,
    "start_time": "2023-10-29T20:11:23.835Z"
   },
   {
    "duration": 42,
    "start_time": "2023-10-29T20:11:23.843Z"
   },
   {
    "duration": 39,
    "start_time": "2023-10-29T20:11:23.887Z"
   },
   {
    "duration": 5,
    "start_time": "2023-10-29T20:17:11.789Z"
   },
   {
    "duration": 1333,
    "start_time": "2023-10-29T20:19:51.243Z"
   },
   {
    "duration": 2163,
    "start_time": "2023-10-29T20:20:02.387Z"
   },
   {
    "duration": 9,
    "start_time": "2023-10-29T20:21:30.963Z"
   },
   {
    "duration": 74,
    "start_time": "2023-10-29T20:26:11.100Z"
   },
   {
    "duration": 8,
    "start_time": "2023-10-29T20:28:11.336Z"
   },
   {
    "duration": 22,
    "start_time": "2023-10-29T20:30:05.009Z"
   },
   {
    "duration": 8,
    "start_time": "2023-10-29T20:31:07.973Z"
   },
   {
    "duration": 22,
    "start_time": "2023-10-29T20:32:10.083Z"
   },
   {
    "duration": 8,
    "start_time": "2023-10-29T20:32:49.283Z"
   },
   {
    "duration": 7,
    "start_time": "2023-10-29T20:32:56.299Z"
   },
   {
    "duration": 22,
    "start_time": "2023-10-29T20:33:36.706Z"
   },
   {
    "duration": 1181,
    "start_time": "2023-10-29T20:35:32.320Z"
   },
   {
    "duration": 81,
    "start_time": "2023-10-29T20:35:33.502Z"
   },
   {
    "duration": 33,
    "start_time": "2023-10-29T20:35:33.584Z"
   },
   {
    "duration": 24,
    "start_time": "2023-10-29T20:35:33.618Z"
   },
   {
    "duration": 18,
    "start_time": "2023-10-29T20:35:33.644Z"
   },
   {
    "duration": 45,
    "start_time": "2023-10-29T20:35:33.663Z"
   },
   {
    "duration": 41,
    "start_time": "2023-10-29T20:35:33.709Z"
   },
   {
    "duration": 30,
    "start_time": "2023-10-29T20:35:33.751Z"
   },
   {
    "duration": 18,
    "start_time": "2023-10-29T20:35:33.782Z"
   },
   {
    "duration": 37,
    "start_time": "2023-10-29T20:35:33.803Z"
   },
   {
    "duration": 422,
    "start_time": "2023-10-29T20:35:33.841Z"
   },
   {
    "duration": 20,
    "start_time": "2023-10-29T20:35:34.264Z"
   },
   {
    "duration": 14,
    "start_time": "2023-10-29T20:35:34.285Z"
   },
   {
    "duration": 50,
    "start_time": "2023-10-29T20:35:34.300Z"
   },
   {
    "duration": 25,
    "start_time": "2023-10-29T20:35:34.352Z"
   },
   {
    "duration": 18,
    "start_time": "2023-10-29T20:35:34.378Z"
   },
   {
    "duration": 11,
    "start_time": "2023-10-29T20:35:34.397Z"
   },
   {
    "duration": 42,
    "start_time": "2023-10-29T20:35:34.409Z"
   },
   {
    "duration": 10,
    "start_time": "2023-10-29T20:35:34.452Z"
   },
   {
    "duration": 39,
    "start_time": "2023-10-29T20:35:34.463Z"
   },
   {
    "duration": 321,
    "start_time": "2023-10-29T20:35:34.504Z"
   },
   {
    "duration": 24,
    "start_time": "2023-10-29T20:35:34.826Z"
   },
   {
    "duration": 29,
    "start_time": "2023-10-29T20:35:34.852Z"
   },
   {
    "duration": 1139,
    "start_time": "2023-10-29T20:35:34.882Z"
   },
   {
    "duration": 33,
    "start_time": "2023-10-29T20:35:36.022Z"
   },
   {
    "duration": 13,
    "start_time": "2023-10-29T20:35:36.056Z"
   },
   {
    "duration": 27,
    "start_time": "2023-10-29T20:35:36.071Z"
   },
   {
    "duration": 18,
    "start_time": "2023-10-29T20:35:36.102Z"
   },
   {
    "duration": 31,
    "start_time": "2023-10-29T20:35:36.121Z"
   },
   {
    "duration": 16,
    "start_time": "2023-10-29T20:35:36.153Z"
   },
   {
    "duration": 16,
    "start_time": "2023-10-29T20:35:36.170Z"
   },
   {
    "duration": 20,
    "start_time": "2023-10-29T20:35:36.188Z"
   },
   {
    "duration": 17,
    "start_time": "2023-10-29T20:35:36.209Z"
   },
   {
    "duration": 61,
    "start_time": "2023-10-29T20:35:36.227Z"
   },
   {
    "duration": 12,
    "start_time": "2023-10-29T20:35:36.290Z"
   },
   {
    "duration": 96,
    "start_time": "2023-10-29T20:35:36.303Z"
   },
   {
    "duration": 70,
    "start_time": "2023-10-29T20:35:36.400Z"
   },
   {
    "duration": 16,
    "start_time": "2023-10-29T20:35:36.471Z"
   },
   {
    "duration": 53,
    "start_time": "2023-10-29T20:35:36.488Z"
   },
   {
    "duration": 77,
    "start_time": "2023-10-29T20:35:36.542Z"
   },
   {
    "duration": 66,
    "start_time": "2023-10-29T20:35:36.621Z"
   },
   {
    "duration": 24,
    "start_time": "2023-10-29T20:35:36.688Z"
   },
   {
    "duration": 58,
    "start_time": "2023-10-29T20:35:36.713Z"
   },
   {
    "duration": 39,
    "start_time": "2023-10-29T20:35:36.773Z"
   },
   {
    "duration": 94,
    "start_time": "2023-10-29T20:35:36.813Z"
   },
   {
    "duration": 67,
    "start_time": "2023-10-29T20:35:36.909Z"
   },
   {
    "duration": 24,
    "start_time": "2023-10-29T20:35:36.978Z"
   },
   {
    "duration": 59,
    "start_time": "2023-10-29T20:35:37.004Z"
   },
   {
    "duration": 20,
    "start_time": "2023-10-29T20:35:37.065Z"
   },
   {
    "duration": 19,
    "start_time": "2023-10-29T20:35:37.086Z"
   },
   {
    "duration": 56,
    "start_time": "2023-10-29T20:35:37.106Z"
   },
   {
    "duration": 14,
    "start_time": "2023-10-29T20:35:37.164Z"
   },
   {
    "duration": 22,
    "start_time": "2023-10-29T20:35:37.180Z"
   },
   {
    "duration": 3,
    "start_time": "2023-10-29T20:35:37.203Z"
   },
   {
    "duration": 47,
    "start_time": "2023-10-29T20:35:37.208Z"
   },
   {
    "duration": 19,
    "start_time": "2023-10-29T20:35:37.256Z"
   },
   {
    "duration": 30,
    "start_time": "2023-10-29T20:35:37.277Z"
   },
   {
    "duration": 35,
    "start_time": "2023-10-29T20:35:37.309Z"
   },
   {
    "duration": 10,
    "start_time": "2023-10-29T20:36:09.671Z"
   },
   {
    "duration": 28,
    "start_time": "2023-10-29T20:37:11.705Z"
   },
   {
    "duration": 70,
    "start_time": "2023-10-29T20:37:54.503Z"
   },
   {
    "duration": 10,
    "start_time": "2023-10-29T20:37:58.397Z"
   },
   {
    "duration": 8,
    "start_time": "2023-10-29T20:39:42.493Z"
   },
   {
    "duration": 2153,
    "start_time": "2023-10-29T20:42:33.601Z"
   },
   {
    "duration": 8047,
    "start_time": "2023-10-29T20:42:41.610Z"
   },
   {
    "duration": 1519,
    "start_time": "2023-10-29T20:43:00.825Z"
   },
   {
    "duration": 3,
    "start_time": "2023-10-29T20:43:09.872Z"
   },
   {
    "duration": 7,
    "start_time": "2023-10-29T20:43:58.889Z"
   },
   {
    "duration": 2,
    "start_time": "2023-10-29T20:44:53.143Z"
   },
   {
    "duration": 4,
    "start_time": "2023-10-29T20:45:04.118Z"
   },
   {
    "duration": 10017,
    "start_time": "2023-10-29T20:45:07.910Z"
   },
   {
    "duration": 3,
    "start_time": "2023-10-29T20:45:36.262Z"
   },
   {
    "duration": 3929,
    "start_time": "2023-10-29T20:45:38.405Z"
   },
   {
    "duration": 8361,
    "start_time": "2023-10-29T20:46:03.853Z"
   },
   {
    "duration": 4,
    "start_time": "2023-10-29T20:47:39.843Z"
   },
   {
    "duration": 3,
    "start_time": "2023-10-29T20:47:47.397Z"
   },
   {
    "duration": 3,
    "start_time": "2023-10-29T20:47:49.691Z"
   },
   {
    "duration": 144,
    "start_time": "2023-10-29T20:47:52.250Z"
   },
   {
    "duration": 3,
    "start_time": "2023-10-29T20:47:59.587Z"
   },
   {
    "duration": 6261,
    "start_time": "2023-10-29T20:48:01.646Z"
   },
   {
    "duration": 3,
    "start_time": "2023-10-29T20:50:51.304Z"
   },
   {
    "duration": 7031,
    "start_time": "2023-10-29T20:50:53.858Z"
   },
   {
    "duration": 5,
    "start_time": "2023-10-29T20:51:15.047Z"
   },
   {
    "duration": 3,
    "start_time": "2023-10-29T20:51:23.911Z"
   },
   {
    "duration": 8081,
    "start_time": "2023-10-29T20:51:25.671Z"
   },
   {
    "duration": 3,
    "start_time": "2023-10-29T20:51:59.279Z"
   },
   {
    "duration": 4313,
    "start_time": "2023-10-29T20:52:02.110Z"
   },
   {
    "duration": 9,
    "start_time": "2023-10-29T20:53:52.750Z"
   },
   {
    "duration": 5319,
    "start_time": "2023-10-29T20:54:46.557Z"
   },
   {
    "duration": 4,
    "start_time": "2023-10-29T20:55:09.293Z"
   },
   {
    "duration": 8,
    "start_time": "2023-10-29T20:55:14.107Z"
   },
   {
    "duration": 10,
    "start_time": "2023-10-29T20:55:22.595Z"
   },
   {
    "duration": 242,
    "start_time": "2023-10-29T20:55:34.891Z"
   },
   {
    "duration": 5047,
    "start_time": "2023-10-29T20:55:42.179Z"
   },
   {
    "duration": 6,
    "start_time": "2023-10-29T20:56:18.447Z"
   },
   {
    "duration": 4413,
    "start_time": "2023-10-29T20:58:29.763Z"
   },
   {
    "duration": 9,
    "start_time": "2023-10-29T20:59:05.839Z"
   },
   {
    "duration": 3,
    "start_time": "2023-10-29T20:59:28.287Z"
   },
   {
    "duration": 4245,
    "start_time": "2023-10-29T20:59:30.790Z"
   },
   {
    "duration": 3,
    "start_time": "2023-10-29T21:00:13.446Z"
   },
   {
    "duration": 5412,
    "start_time": "2023-10-29T21:00:15.598Z"
   },
   {
    "duration": 3,
    "start_time": "2023-10-29T21:03:14.379Z"
   },
   {
    "duration": 82,
    "start_time": "2023-10-29T21:04:37.778Z"
   },
   {
    "duration": 8,
    "start_time": "2023-10-29T21:05:43.645Z"
   },
   {
    "duration": 3,
    "start_time": "2023-10-29T21:11:56.012Z"
   },
   {
    "duration": 6175,
    "start_time": "2023-10-29T21:11:59.995Z"
   },
   {
    "duration": 1514,
    "start_time": "2023-10-30T10:31:10.130Z"
   },
   {
    "duration": 180,
    "start_time": "2023-10-30T10:31:11.647Z"
   },
   {
    "duration": 80,
    "start_time": "2023-10-30T10:31:11.829Z"
   },
   {
    "duration": 26,
    "start_time": "2023-10-30T10:31:11.911Z"
   },
   {
    "duration": 32,
    "start_time": "2023-10-30T10:31:11.939Z"
   },
   {
    "duration": 76,
    "start_time": "2023-10-30T10:31:11.973Z"
   },
   {
    "duration": 22,
    "start_time": "2023-10-30T10:31:12.050Z"
   },
   {
    "duration": 36,
    "start_time": "2023-10-30T10:31:12.073Z"
   },
   {
    "duration": 40,
    "start_time": "2023-10-30T10:31:12.111Z"
   },
   {
    "duration": 24,
    "start_time": "2023-10-30T10:31:12.153Z"
   },
   {
    "duration": 479,
    "start_time": "2023-10-30T10:31:12.179Z"
   },
   {
    "duration": 26,
    "start_time": "2023-10-30T10:31:12.660Z"
   },
   {
    "duration": 16,
    "start_time": "2023-10-30T10:31:12.688Z"
   },
   {
    "duration": 62,
    "start_time": "2023-10-30T10:31:12.706Z"
   },
   {
    "duration": 30,
    "start_time": "2023-10-30T10:31:12.770Z"
   },
   {
    "duration": 21,
    "start_time": "2023-10-30T10:31:12.802Z"
   },
   {
    "duration": 35,
    "start_time": "2023-10-30T10:31:12.824Z"
   },
   {
    "duration": 32,
    "start_time": "2023-10-30T10:31:12.861Z"
   },
   {
    "duration": 11,
    "start_time": "2023-10-30T10:31:12.894Z"
   },
   {
    "duration": 45,
    "start_time": "2023-10-30T10:31:12.907Z"
   },
   {
    "duration": 396,
    "start_time": "2023-10-30T10:31:12.954Z"
   },
   {
    "duration": 28,
    "start_time": "2023-10-30T10:31:13.352Z"
   },
   {
    "duration": 92,
    "start_time": "2023-10-30T10:31:13.382Z"
   },
   {
    "duration": 1461,
    "start_time": "2023-10-30T10:31:13.476Z"
   },
   {
    "duration": 37,
    "start_time": "2023-10-30T10:31:14.939Z"
   },
   {
    "duration": 15,
    "start_time": "2023-10-30T10:31:14.977Z"
   },
   {
    "duration": 13,
    "start_time": "2023-10-30T10:31:14.994Z"
   },
   {
    "duration": 71,
    "start_time": "2023-10-30T10:31:15.008Z"
   },
   {
    "duration": 46,
    "start_time": "2023-10-30T10:31:15.081Z"
   },
   {
    "duration": 22,
    "start_time": "2023-10-30T10:31:15.128Z"
   },
   {
    "duration": 19,
    "start_time": "2023-10-30T10:31:15.153Z"
   },
   {
    "duration": 18,
    "start_time": "2023-10-30T10:31:15.173Z"
   },
   {
    "duration": 140,
    "start_time": "2023-10-30T10:31:15.193Z"
   },
   {
    "duration": 157,
    "start_time": "2023-10-30T10:31:15.334Z"
   },
   {
    "duration": 144,
    "start_time": "2023-10-30T10:31:15.493Z"
   },
   {
    "duration": 89,
    "start_time": "2023-10-30T10:31:15.639Z"
   },
   {
    "duration": 82,
    "start_time": "2023-10-30T10:31:15.730Z"
   },
   {
    "duration": 31,
    "start_time": "2023-10-30T10:31:15.813Z"
   },
   {
    "duration": 47,
    "start_time": "2023-10-30T10:31:15.846Z"
   },
   {
    "duration": 115,
    "start_time": "2023-10-30T10:31:15.895Z"
   },
   {
    "duration": 74,
    "start_time": "2023-10-30T10:31:16.013Z"
   },
   {
    "duration": 26,
    "start_time": "2023-10-30T10:31:16.089Z"
   },
   {
    "duration": 73,
    "start_time": "2023-10-30T10:31:16.117Z"
   },
   {
    "duration": 41,
    "start_time": "2023-10-30T10:31:16.191Z"
   },
   {
    "duration": 88,
    "start_time": "2023-10-30T10:31:16.244Z"
   },
   {
    "duration": 65,
    "start_time": "2023-10-30T10:31:16.347Z"
   },
   {
    "duration": 54,
    "start_time": "2023-10-30T10:31:16.414Z"
   },
   {
    "duration": 55,
    "start_time": "2023-10-30T10:31:16.470Z"
   },
   {
    "duration": 44,
    "start_time": "2023-10-30T10:31:16.527Z"
   },
   {
    "duration": 22,
    "start_time": "2023-10-30T10:31:16.572Z"
   },
   {
    "duration": 68,
    "start_time": "2023-10-30T10:31:16.596Z"
   },
   {
    "duration": 15,
    "start_time": "2023-10-30T10:31:16.666Z"
   },
   {
    "duration": 33,
    "start_time": "2023-10-30T10:31:16.682Z"
   },
   {
    "duration": 3,
    "start_time": "2023-10-30T10:31:16.716Z"
   },
   {
    "duration": 33,
    "start_time": "2023-10-30T10:31:16.743Z"
   },
   {
    "duration": 22,
    "start_time": "2023-10-30T10:31:16.777Z"
   },
   {
    "duration": 66,
    "start_time": "2023-10-30T10:31:16.800Z"
   },
   {
    "duration": 3,
    "start_time": "2023-10-30T10:31:16.868Z"
   },
   {
    "duration": 99197,
    "start_time": "2023-10-30T10:31:16.872Z"
   },
   {
    "duration": 25,
    "start_time": "2023-10-30T11:35:00.970Z"
   },
   {
    "duration": 47,
    "start_time": "2023-10-30T11:36:08.852Z"
   },
   {
    "duration": 43,
    "start_time": "2023-10-30T11:36:17.690Z"
   },
   {
    "duration": 43,
    "start_time": "2023-10-30T11:36:31.692Z"
   },
   {
    "duration": 19,
    "start_time": "2023-10-30T11:37:00.592Z"
   },
   {
    "duration": 6,
    "start_time": "2023-10-30T11:37:46.536Z"
   },
   {
    "duration": 24,
    "start_time": "2023-10-30T11:37:48.959Z"
   },
   {
    "duration": 26,
    "start_time": "2023-10-30T11:38:39.513Z"
   },
   {
    "duration": 19,
    "start_time": "2023-10-30T11:39:37.854Z"
   },
   {
    "duration": 3,
    "start_time": "2023-10-30T11:40:52.753Z"
   },
   {
    "duration": 7770,
    "start_time": "2023-10-30T11:41:07.115Z"
   },
   {
    "duration": 1559,
    "start_time": "2023-10-30T18:16:05.083Z"
   },
   {
    "duration": 151,
    "start_time": "2023-10-30T18:16:06.644Z"
   },
   {
    "duration": 74,
    "start_time": "2023-10-30T18:16:06.797Z"
   },
   {
    "duration": 30,
    "start_time": "2023-10-30T18:16:06.872Z"
   },
   {
    "duration": 26,
    "start_time": "2023-10-30T18:16:06.904Z"
   },
   {
    "duration": 92,
    "start_time": "2023-10-30T18:16:06.932Z"
   },
   {
    "duration": 18,
    "start_time": "2023-10-30T18:16:07.025Z"
   },
   {
    "duration": 45,
    "start_time": "2023-10-30T18:16:07.045Z"
   },
   {
    "duration": 22,
    "start_time": "2023-10-30T18:16:07.101Z"
   },
   {
    "duration": 24,
    "start_time": "2023-10-30T18:16:07.124Z"
   },
   {
    "duration": 480,
    "start_time": "2023-10-30T18:16:07.151Z"
   },
   {
    "duration": 24,
    "start_time": "2023-10-30T18:16:07.633Z"
   },
   {
    "duration": 21,
    "start_time": "2023-10-30T18:16:07.658Z"
   },
   {
    "duration": 55,
    "start_time": "2023-10-30T18:16:07.682Z"
   },
   {
    "duration": 30,
    "start_time": "2023-10-30T18:16:07.739Z"
   },
   {
    "duration": 40,
    "start_time": "2023-10-30T18:16:07.771Z"
   },
   {
    "duration": 12,
    "start_time": "2023-10-30T18:16:07.812Z"
   },
   {
    "duration": 36,
    "start_time": "2023-10-30T18:16:07.826Z"
   },
   {
    "duration": 11,
    "start_time": "2023-10-30T18:16:07.864Z"
   },
   {
    "duration": 39,
    "start_time": "2023-10-30T18:16:07.877Z"
   },
   {
    "duration": 490,
    "start_time": "2023-10-30T18:16:07.918Z"
   },
   {
    "duration": 31,
    "start_time": "2023-10-30T18:16:08.410Z"
   },
   {
    "duration": 91,
    "start_time": "2023-10-30T18:16:08.443Z"
   },
   {
    "duration": 1392,
    "start_time": "2023-10-30T18:16:08.535Z"
   },
   {
    "duration": 35,
    "start_time": "2023-10-30T18:16:09.929Z"
   },
   {
    "duration": 36,
    "start_time": "2023-10-30T18:16:09.966Z"
   },
   {
    "duration": 13,
    "start_time": "2023-10-30T18:16:10.004Z"
   },
   {
    "duration": 23,
    "start_time": "2023-10-30T18:16:10.018Z"
   },
   {
    "duration": 44,
    "start_time": "2023-10-30T18:16:10.043Z"
   },
   {
    "duration": 28,
    "start_time": "2023-10-30T18:16:10.088Z"
   },
   {
    "duration": 37,
    "start_time": "2023-10-30T18:16:10.118Z"
   },
   {
    "duration": 20,
    "start_time": "2023-10-30T18:16:10.156Z"
   },
   {
    "duration": 13,
    "start_time": "2023-10-30T18:16:10.177Z"
   },
   {
    "duration": 54,
    "start_time": "2023-10-30T18:16:10.192Z"
   },
   {
    "duration": 17,
    "start_time": "2023-10-30T18:16:10.248Z"
   },
   {
    "duration": 95,
    "start_time": "2023-10-30T18:16:10.266Z"
   },
   {
    "duration": 88,
    "start_time": "2023-10-30T18:16:10.363Z"
   },
   {
    "duration": 17,
    "start_time": "2023-10-30T18:16:10.453Z"
   },
   {
    "duration": 59,
    "start_time": "2023-10-30T18:16:10.472Z"
   },
   {
    "duration": 111,
    "start_time": "2023-10-30T18:16:10.533Z"
   },
   {
    "duration": 133,
    "start_time": "2023-10-30T18:16:10.648Z"
   },
   {
    "duration": 27,
    "start_time": "2023-10-30T18:16:10.783Z"
   },
   {
    "duration": 60,
    "start_time": "2023-10-30T18:16:10.811Z"
   },
   {
    "duration": 47,
    "start_time": "2023-10-30T18:16:10.872Z"
   },
   {
    "duration": 97,
    "start_time": "2023-10-30T18:16:10.921Z"
   },
   {
    "duration": 63,
    "start_time": "2023-10-30T18:16:11.019Z"
   },
   {
    "duration": 41,
    "start_time": "2023-10-30T18:16:11.084Z"
   },
   {
    "duration": 74,
    "start_time": "2023-10-30T18:16:11.127Z"
   },
   {
    "duration": 24,
    "start_time": "2023-10-30T18:16:11.203Z"
   },
   {
    "duration": 21,
    "start_time": "2023-10-30T18:16:11.229Z"
   },
   {
    "duration": 70,
    "start_time": "2023-10-30T18:16:11.251Z"
   },
   {
    "duration": 18,
    "start_time": "2023-10-30T18:16:11.323Z"
   },
   {
    "duration": 36,
    "start_time": "2023-10-30T18:16:11.342Z"
   },
   {
    "duration": 3,
    "start_time": "2023-10-30T18:16:11.380Z"
   },
   {
    "duration": 72,
    "start_time": "2023-10-30T18:16:11.385Z"
   },
   {
    "duration": 26,
    "start_time": "2023-10-30T18:16:11.459Z"
   },
   {
    "duration": 42,
    "start_time": "2023-10-30T18:16:11.487Z"
   },
   {
    "duration": 7,
    "start_time": "2023-10-30T18:16:11.530Z"
   },
   {
    "duration": 7205,
    "start_time": "2023-10-30T18:16:11.539Z"
   },
   {
    "duration": 21,
    "start_time": "2023-10-30T18:16:18.745Z"
   },
   {
    "duration": 67,
    "start_time": "2023-10-30T18:16:18.767Z"
   },
   {
    "duration": 17,
    "start_time": "2023-10-30T18:16:18.835Z"
   },
   {
    "duration": 47,
    "start_time": "2023-10-30T18:16:18.854Z"
   },
   {
    "duration": 11,
    "start_time": "2023-10-30T18:16:18.903Z"
   },
   {
    "duration": 38,
    "start_time": "2023-10-30T18:16:18.916Z"
   },
   {
    "duration": 4,
    "start_time": "2023-10-30T18:16:18.956Z"
   },
   {
    "duration": 8050,
    "start_time": "2023-10-30T18:16:18.962Z"
   },
   {
    "duration": 14267,
    "start_time": "2023-10-30T18:32:34.440Z"
   },
   {
    "duration": 4520,
    "start_time": "2023-10-30T18:32:54.335Z"
   },
   {
    "duration": 3821,
    "start_time": "2023-10-30T18:33:00.935Z"
   },
   {
    "duration": 2688,
    "start_time": "2023-10-30T18:33:06.510Z"
   },
   {
    "duration": 3600,
    "start_time": "2023-10-30T18:33:09.958Z"
   },
   {
    "duration": 6776,
    "start_time": "2023-10-30T18:33:17.182Z"
   },
   {
    "duration": 4307,
    "start_time": "2023-10-30T18:33:28.720Z"
   },
   {
    "duration": 10,
    "start_time": "2023-10-30T18:37:28.337Z"
   },
   {
    "duration": 23,
    "start_time": "2023-10-30T18:37:32.889Z"
   },
   {
    "duration": 26,
    "start_time": "2023-10-30T18:39:44.632Z"
   },
   {
    "duration": 4,
    "start_time": "2023-10-30T18:40:23.030Z"
   },
   {
    "duration": 16,
    "start_time": "2023-10-30T18:40:28.232Z"
   },
   {
    "duration": 14,
    "start_time": "2023-10-30T18:42:05.293Z"
   },
   {
    "duration": 1402,
    "start_time": "2023-10-30T19:31:47.221Z"
   },
   {
    "duration": 100,
    "start_time": "2023-10-30T19:31:48.625Z"
   },
   {
    "duration": 32,
    "start_time": "2023-10-30T19:31:48.727Z"
   },
   {
    "duration": 31,
    "start_time": "2023-10-30T19:31:48.761Z"
   },
   {
    "duration": 23,
    "start_time": "2023-10-30T19:31:48.794Z"
   },
   {
    "duration": 57,
    "start_time": "2023-10-30T19:31:48.818Z"
   },
   {
    "duration": 39,
    "start_time": "2023-10-30T19:31:48.876Z"
   },
   {
    "duration": 49,
    "start_time": "2023-10-30T19:31:48.917Z"
   },
   {
    "duration": 23,
    "start_time": "2023-10-30T19:31:48.967Z"
   },
   {
    "duration": 28,
    "start_time": "2023-10-30T19:31:48.992Z"
   },
   {
    "duration": 482,
    "start_time": "2023-10-30T19:31:49.022Z"
   },
   {
    "duration": 24,
    "start_time": "2023-10-30T19:31:49.506Z"
   },
   {
    "duration": 18,
    "start_time": "2023-10-30T19:31:49.532Z"
   },
   {
    "duration": 61,
    "start_time": "2023-10-30T19:31:49.554Z"
   },
   {
    "duration": 31,
    "start_time": "2023-10-30T19:31:49.617Z"
   },
   {
    "duration": 20,
    "start_time": "2023-10-30T19:31:49.650Z"
   },
   {
    "duration": 40,
    "start_time": "2023-10-30T19:31:49.671Z"
   },
   {
    "duration": 29,
    "start_time": "2023-10-30T19:31:49.713Z"
   },
   {
    "duration": 12,
    "start_time": "2023-10-30T19:31:49.744Z"
   },
   {
    "duration": 43,
    "start_time": "2023-10-30T19:31:49.758Z"
   },
   {
    "duration": 344,
    "start_time": "2023-10-30T19:31:49.803Z"
   },
   {
    "duration": 54,
    "start_time": "2023-10-30T19:31:50.148Z"
   },
   {
    "duration": 38,
    "start_time": "2023-10-30T19:31:50.204Z"
   },
   {
    "duration": 1353,
    "start_time": "2023-10-30T19:31:50.244Z"
   },
   {
    "duration": 30,
    "start_time": "2023-10-30T19:31:51.600Z"
   },
   {
    "duration": 15,
    "start_time": "2023-10-30T19:31:51.632Z"
   },
   {
    "duration": 12,
    "start_time": "2023-10-30T19:31:51.649Z"
   },
   {
    "duration": 43,
    "start_time": "2023-10-30T19:31:51.663Z"
   },
   {
    "duration": 31,
    "start_time": "2023-10-30T19:31:51.707Z"
   },
   {
    "duration": 19,
    "start_time": "2023-10-30T19:31:51.740Z"
   },
   {
    "duration": 43,
    "start_time": "2023-10-30T19:31:51.761Z"
   },
   {
    "duration": 43,
    "start_time": "2023-10-30T19:31:51.805Z"
   },
   {
    "duration": 30,
    "start_time": "2023-10-30T19:31:51.849Z"
   },
   {
    "duration": 76,
    "start_time": "2023-10-30T19:31:51.881Z"
   },
   {
    "duration": 24,
    "start_time": "2023-10-30T19:31:51.959Z"
   },
   {
    "duration": 120,
    "start_time": "2023-10-30T19:31:51.985Z"
   },
   {
    "duration": 80,
    "start_time": "2023-10-30T19:31:52.107Z"
   },
   {
    "duration": 19,
    "start_time": "2023-10-30T19:31:52.202Z"
   },
   {
    "duration": 88,
    "start_time": "2023-10-30T19:31:52.222Z"
   },
   {
    "duration": 111,
    "start_time": "2023-10-30T19:31:52.313Z"
   },
   {
    "duration": 97,
    "start_time": "2023-10-30T19:31:52.428Z"
   },
   {
    "duration": 32,
    "start_time": "2023-10-30T19:31:52.528Z"
   },
   {
    "duration": 75,
    "start_time": "2023-10-30T19:31:52.562Z"
   },
   {
    "duration": 63,
    "start_time": "2023-10-30T19:31:52.639Z"
   },
   {
    "duration": 102,
    "start_time": "2023-10-30T19:31:52.704Z"
   },
   {
    "duration": 58,
    "start_time": "2023-10-30T19:31:52.808Z"
   },
   {
    "duration": 46,
    "start_time": "2023-10-30T19:31:52.868Z"
   },
   {
    "duration": 59,
    "start_time": "2023-10-30T19:31:52.916Z"
   },
   {
    "duration": 37,
    "start_time": "2023-10-30T19:31:52.976Z"
   },
   {
    "duration": 22,
    "start_time": "2023-10-30T19:31:53.014Z"
   },
   {
    "duration": 49,
    "start_time": "2023-10-30T19:31:53.037Z"
   },
   {
    "duration": 24,
    "start_time": "2023-10-30T19:31:53.088Z"
   },
   {
    "duration": 36,
    "start_time": "2023-10-30T19:31:53.114Z"
   },
   {
    "duration": 49,
    "start_time": "2023-10-30T19:31:53.151Z"
   },
   {
    "duration": 56,
    "start_time": "2023-10-30T19:31:53.202Z"
   },
   {
    "duration": 47,
    "start_time": "2023-10-30T19:31:53.260Z"
   },
   {
    "duration": 63,
    "start_time": "2023-10-30T19:31:53.309Z"
   },
   {
    "duration": 27,
    "start_time": "2023-10-30T19:31:53.374Z"
   },
   {
    "duration": 7247,
    "start_time": "2023-10-30T19:31:53.403Z"
   },
   {
    "duration": 22,
    "start_time": "2023-10-30T19:32:00.652Z"
   },
   {
    "duration": 82,
    "start_time": "2023-10-30T19:32:00.675Z"
   },
   {
    "duration": 122,
    "start_time": "2023-10-30T19:32:00.759Z"
   },
   {
    "duration": 87,
    "start_time": "2023-10-30T19:32:00.883Z"
   },
   {
    "duration": 34,
    "start_time": "2023-10-30T19:32:00.972Z"
   },
   {
    "duration": 68,
    "start_time": "2023-10-30T19:32:01.007Z"
   },
   {
    "duration": 87,
    "start_time": "2023-10-30T19:32:01.076Z"
   },
   {
    "duration": 6328,
    "start_time": "2023-10-30T19:32:01.165Z"
   },
   {
    "duration": 13,
    "start_time": "2023-10-30T19:32:07.495Z"
   },
   {
    "duration": 25,
    "start_time": "2023-10-30T19:32:07.509Z"
   },
   {
    "duration": 1261,
    "start_time": "2023-10-30T19:34:24.771Z"
   },
   {
    "duration": 94,
    "start_time": "2023-10-30T19:34:26.034Z"
   },
   {
    "duration": 33,
    "start_time": "2023-10-30T19:34:26.129Z"
   },
   {
    "duration": 32,
    "start_time": "2023-10-30T19:34:26.165Z"
   },
   {
    "duration": 23,
    "start_time": "2023-10-30T19:34:26.198Z"
   },
   {
    "duration": 131,
    "start_time": "2023-10-30T19:34:26.222Z"
   },
   {
    "duration": 17,
    "start_time": "2023-10-30T19:34:26.354Z"
   },
   {
    "duration": 63,
    "start_time": "2023-10-30T19:34:26.372Z"
   },
   {
    "duration": 21,
    "start_time": "2023-10-30T19:34:26.436Z"
   },
   {
    "duration": 38,
    "start_time": "2023-10-30T19:34:26.459Z"
   },
   {
    "duration": 473,
    "start_time": "2023-10-30T19:34:26.501Z"
   },
   {
    "duration": 34,
    "start_time": "2023-10-30T19:34:26.975Z"
   },
   {
    "duration": 78,
    "start_time": "2023-10-30T19:34:27.011Z"
   },
   {
    "duration": 42,
    "start_time": "2023-10-30T19:34:27.091Z"
   },
   {
    "duration": 31,
    "start_time": "2023-10-30T19:34:27.134Z"
   },
   {
    "duration": 35,
    "start_time": "2023-10-30T19:34:27.167Z"
   },
   {
    "duration": 13,
    "start_time": "2023-10-30T19:34:27.204Z"
   },
   {
    "duration": 81,
    "start_time": "2023-10-30T19:34:27.218Z"
   },
   {
    "duration": 16,
    "start_time": "2023-10-30T19:34:27.300Z"
   },
   {
    "duration": 358,
    "start_time": "2023-10-30T19:34:27.318Z"
   },
   {
    "duration": 40,
    "start_time": "2023-10-30T19:34:27.678Z"
   },
   {
    "duration": 96,
    "start_time": "2023-10-30T19:34:27.720Z"
   },
   {
    "duration": 1283,
    "start_time": "2023-10-30T19:34:27.818Z"
   },
   {
    "duration": 29,
    "start_time": "2023-10-30T19:34:29.103Z"
   },
   {
    "duration": 15,
    "start_time": "2023-10-30T19:34:29.133Z"
   },
   {
    "duration": 12,
    "start_time": "2023-10-30T19:34:29.150Z"
   },
   {
    "duration": 44,
    "start_time": "2023-10-30T19:34:29.163Z"
   },
   {
    "duration": 27,
    "start_time": "2023-10-30T19:34:29.211Z"
   },
   {
    "duration": 19,
    "start_time": "2023-10-30T19:34:29.239Z"
   },
   {
    "duration": 47,
    "start_time": "2023-10-30T19:34:29.259Z"
   },
   {
    "duration": 33,
    "start_time": "2023-10-30T19:34:29.308Z"
   },
   {
    "duration": 7,
    "start_time": "2023-10-30T19:34:29.343Z"
   },
   {
    "duration": 38,
    "start_time": "2023-10-30T19:34:29.352Z"
   },
   {
    "duration": 22,
    "start_time": "2023-10-30T19:34:29.392Z"
   },
   {
    "duration": 99,
    "start_time": "2023-10-30T19:34:29.415Z"
   },
   {
    "duration": 70,
    "start_time": "2023-10-30T19:34:29.516Z"
   },
   {
    "duration": 27,
    "start_time": "2023-10-30T19:34:29.588Z"
   },
   {
    "duration": 51,
    "start_time": "2023-10-30T19:34:29.617Z"
   },
   {
    "duration": 113,
    "start_time": "2023-10-30T19:34:29.670Z"
   },
   {
    "duration": 75,
    "start_time": "2023-10-30T19:34:29.784Z"
   },
   {
    "duration": 41,
    "start_time": "2023-10-30T19:34:29.861Z"
   },
   {
    "duration": 49,
    "start_time": "2023-10-30T19:34:29.904Z"
   },
   {
    "duration": 60,
    "start_time": "2023-10-30T19:34:29.955Z"
   },
   {
    "duration": 101,
    "start_time": "2023-10-30T19:34:30.017Z"
   },
   {
    "duration": 59,
    "start_time": "2023-10-30T19:34:30.120Z"
   },
   {
    "duration": 89,
    "start_time": "2023-10-30T19:34:30.181Z"
   },
   {
    "duration": 113,
    "start_time": "2023-10-30T19:34:30.272Z"
   },
   {
    "duration": 48,
    "start_time": "2023-10-30T19:34:30.387Z"
   },
   {
    "duration": 39,
    "start_time": "2023-10-30T19:34:30.437Z"
   },
   {
    "duration": 72,
    "start_time": "2023-10-30T19:34:30.478Z"
   },
   {
    "duration": 63,
    "start_time": "2023-10-30T19:34:30.552Z"
   },
   {
    "duration": 124,
    "start_time": "2023-10-30T19:34:30.616Z"
   },
   {
    "duration": 160,
    "start_time": "2023-10-30T19:34:30.741Z"
   },
   {
    "duration": 144,
    "start_time": "2023-10-30T19:34:30.902Z"
   },
   {
    "duration": 119,
    "start_time": "2023-10-30T19:34:31.049Z"
   },
   {
    "duration": 154,
    "start_time": "2023-10-30T19:34:31.170Z"
   },
   {
    "duration": 89,
    "start_time": "2023-10-30T19:34:31.326Z"
   },
   {
    "duration": 5832,
    "start_time": "2023-10-30T19:34:31.417Z"
   },
   {
    "duration": 26,
    "start_time": "2023-10-30T19:34:37.251Z"
   },
   {
    "duration": 45,
    "start_time": "2023-10-30T19:34:37.279Z"
   },
   {
    "duration": 8,
    "start_time": "2023-10-30T19:34:37.326Z"
   },
   {
    "duration": 65,
    "start_time": "2023-10-30T19:34:37.335Z"
   },
   {
    "duration": 27,
    "start_time": "2023-10-30T19:34:37.402Z"
   },
   {
    "duration": 71,
    "start_time": "2023-10-30T19:34:37.430Z"
   },
   {
    "duration": 33,
    "start_time": "2023-10-30T19:34:37.503Z"
   },
   {
    "duration": 2709,
    "start_time": "2023-10-30T19:34:37.538Z"
   },
   {
    "duration": 14,
    "start_time": "2023-10-30T19:34:40.248Z"
   },
   {
    "duration": 37,
    "start_time": "2023-10-30T19:34:40.264Z"
   },
   {
    "duration": 1321,
    "start_time": "2023-10-31T13:41:28.026Z"
   },
   {
    "duration": 142,
    "start_time": "2023-10-31T13:41:29.349Z"
   },
   {
    "duration": 77,
    "start_time": "2023-10-31T13:41:29.492Z"
   },
   {
    "duration": 26,
    "start_time": "2023-10-31T13:41:29.570Z"
   },
   {
    "duration": 21,
    "start_time": "2023-10-31T13:41:29.598Z"
   },
   {
    "duration": 63,
    "start_time": "2023-10-31T13:41:29.621Z"
   },
   {
    "duration": 14,
    "start_time": "2023-10-31T13:41:29.686Z"
   },
   {
    "duration": 51,
    "start_time": "2023-10-31T13:41:29.701Z"
   },
   {
    "duration": 17,
    "start_time": "2023-10-31T13:41:29.754Z"
   },
   {
    "duration": 17,
    "start_time": "2023-10-31T13:41:29.772Z"
   },
   {
    "duration": 465,
    "start_time": "2023-10-31T13:41:29.790Z"
   },
   {
    "duration": 20,
    "start_time": "2023-10-31T13:41:30.256Z"
   },
   {
    "duration": 15,
    "start_time": "2023-10-31T13:41:30.277Z"
   },
   {
    "duration": 57,
    "start_time": "2023-10-31T13:41:30.295Z"
   },
   {
    "duration": 26,
    "start_time": "2023-10-31T13:41:30.354Z"
   },
   {
    "duration": 18,
    "start_time": "2023-10-31T13:41:30.382Z"
   },
   {
    "duration": 19,
    "start_time": "2023-10-31T13:41:30.402Z"
   },
   {
    "duration": 65,
    "start_time": "2023-10-31T13:41:30.423Z"
   },
   {
    "duration": 13,
    "start_time": "2023-10-31T13:41:30.490Z"
   },
   {
    "duration": 455,
    "start_time": "2023-10-31T13:41:30.504Z"
   },
   {
    "duration": 18,
    "start_time": "2023-10-31T13:41:30.960Z"
   },
   {
    "duration": 79,
    "start_time": "2023-10-31T13:41:30.979Z"
   },
   {
    "duration": 1202,
    "start_time": "2023-10-31T13:41:31.060Z"
   },
   {
    "duration": 27,
    "start_time": "2023-10-31T13:41:32.263Z"
   },
   {
    "duration": 14,
    "start_time": "2023-10-31T13:41:32.292Z"
   },
   {
    "duration": 33,
    "start_time": "2023-10-31T13:41:32.307Z"
   },
   {
    "duration": 12,
    "start_time": "2023-10-31T13:41:32.341Z"
   },
   {
    "duration": 52,
    "start_time": "2023-10-31T13:41:32.355Z"
   },
   {
    "duration": 21,
    "start_time": "2023-10-31T13:41:32.409Z"
   },
   {
    "duration": 23,
    "start_time": "2023-10-31T13:41:32.439Z"
   },
   {
    "duration": 30,
    "start_time": "2023-10-31T13:41:32.464Z"
   },
   {
    "duration": 8,
    "start_time": "2023-10-31T13:41:32.496Z"
   },
   {
    "duration": 67,
    "start_time": "2023-10-31T13:41:32.506Z"
   },
   {
    "duration": 20,
    "start_time": "2023-10-31T13:41:32.575Z"
   },
   {
    "duration": 112,
    "start_time": "2023-10-31T13:41:32.597Z"
   },
   {
    "duration": 79,
    "start_time": "2023-10-31T13:41:32.710Z"
   },
   {
    "duration": 20,
    "start_time": "2023-10-31T13:41:32.790Z"
   },
   {
    "duration": 57,
    "start_time": "2023-10-31T13:41:32.811Z"
   },
   {
    "duration": 172,
    "start_time": "2023-10-31T13:41:32.869Z"
   },
   {
    "duration": 62,
    "start_time": "2023-10-31T13:41:33.042Z"
   },
   {
    "duration": 47,
    "start_time": "2023-10-31T13:41:33.110Z"
   },
   {
    "duration": 52,
    "start_time": "2023-10-31T13:41:33.159Z"
   },
   {
    "duration": 61,
    "start_time": "2023-10-31T13:41:33.213Z"
   },
   {
    "duration": 89,
    "start_time": "2023-10-31T13:41:33.276Z"
   },
   {
    "duration": 55,
    "start_time": "2023-10-31T13:41:33.367Z"
   },
   {
    "duration": 37,
    "start_time": "2023-10-31T13:41:33.424Z"
   },
   {
    "duration": 48,
    "start_time": "2023-10-31T13:41:33.463Z"
   },
   {
    "duration": 45,
    "start_time": "2023-10-31T13:41:33.513Z"
   },
   {
    "duration": 34,
    "start_time": "2023-10-31T13:41:33.559Z"
   },
   {
    "duration": 61,
    "start_time": "2023-10-31T13:41:33.594Z"
   },
   {
    "duration": 19,
    "start_time": "2023-10-31T13:41:33.657Z"
   },
   {
    "duration": 47,
    "start_time": "2023-10-31T13:41:33.678Z"
   },
   {
    "duration": 14,
    "start_time": "2023-10-31T13:41:33.727Z"
   },
   {
    "duration": 28,
    "start_time": "2023-10-31T13:41:33.742Z"
   },
   {
    "duration": 70,
    "start_time": "2023-10-31T13:41:33.772Z"
   },
   {
    "duration": 65,
    "start_time": "2023-10-31T13:41:33.843Z"
   },
   {
    "duration": 38,
    "start_time": "2023-10-31T13:41:33.910Z"
   },
   {
    "duration": 1216095,
    "start_time": "2023-10-31T13:41:33.949Z"
   },
   {
    "duration": 21,
    "start_time": "2023-10-31T14:01:50.045Z"
   },
   {
    "duration": 38,
    "start_time": "2023-10-31T14:01:50.067Z"
   },
   {
    "duration": 21,
    "start_time": "2023-10-31T14:01:50.106Z"
   },
   {
    "duration": 75,
    "start_time": "2023-10-31T14:01:50.128Z"
   },
   {
    "duration": 9,
    "start_time": "2023-10-31T14:01:50.205Z"
   },
   {
    "duration": 49,
    "start_time": "2023-10-31T14:01:50.216Z"
   },
   {
    "duration": 19,
    "start_time": "2023-10-31T14:01:50.267Z"
   },
   {
    "duration": 5074,
    "start_time": "2023-10-31T14:01:50.288Z"
   },
   {
    "duration": 13,
    "start_time": "2023-10-31T14:01:55.364Z"
   },
   {
    "duration": 16,
    "start_time": "2023-10-31T14:01:55.378Z"
   },
   {
    "duration": 11,
    "start_time": "2023-10-31T14:01:55.397Z"
   },
   {
    "duration": 11,
    "start_time": "2023-10-31T14:05:17.160Z"
   },
   {
    "duration": 1486,
    "start_time": "2023-10-31T18:48:43.367Z"
   },
   {
    "duration": 670,
    "start_time": "2023-10-31T18:48:44.855Z"
   },
   {
    "duration": 66,
    "start_time": "2023-10-31T18:48:45.526Z"
   },
   {
    "duration": 30,
    "start_time": "2023-10-31T18:48:45.593Z"
   },
   {
    "duration": 27,
    "start_time": "2023-10-31T18:48:45.625Z"
   },
   {
    "duration": 68,
    "start_time": "2023-10-31T18:48:45.654Z"
   },
   {
    "duration": 25,
    "start_time": "2023-10-31T18:48:45.723Z"
   },
   {
    "duration": 39,
    "start_time": "2023-10-31T18:48:45.750Z"
   },
   {
    "duration": 20,
    "start_time": "2023-10-31T18:48:45.790Z"
   },
   {
    "duration": 39,
    "start_time": "2023-10-31T18:48:45.812Z"
   },
   {
    "duration": 440,
    "start_time": "2023-10-31T18:48:45.852Z"
   },
   {
    "duration": 23,
    "start_time": "2023-10-31T18:48:46.294Z"
   },
   {
    "duration": 47,
    "start_time": "2023-10-31T18:48:46.318Z"
   },
   {
    "duration": 33,
    "start_time": "2023-10-31T18:48:46.369Z"
   },
   {
    "duration": 57,
    "start_time": "2023-10-31T18:48:46.404Z"
   },
   {
    "duration": 18,
    "start_time": "2023-10-31T18:48:46.462Z"
   },
   {
    "duration": 11,
    "start_time": "2023-10-31T18:48:46.482Z"
   },
   {
    "duration": 33,
    "start_time": "2023-10-31T18:48:46.494Z"
   },
   {
    "duration": 27,
    "start_time": "2023-10-31T18:48:46.529Z"
   },
   {
    "duration": 356,
    "start_time": "2023-10-31T18:48:46.557Z"
   },
   {
    "duration": 39,
    "start_time": "2023-10-31T18:48:46.915Z"
   },
   {
    "duration": 32,
    "start_time": "2023-10-31T18:48:46.956Z"
   },
   {
    "duration": 1243,
    "start_time": "2023-10-31T18:48:46.990Z"
   },
   {
    "duration": 36,
    "start_time": "2023-10-31T18:48:48.235Z"
   },
   {
    "duration": 17,
    "start_time": "2023-10-31T18:48:48.272Z"
   },
   {
    "duration": 40,
    "start_time": "2023-10-31T18:48:48.290Z"
   },
   {
    "duration": 35,
    "start_time": "2023-10-31T18:48:48.331Z"
   },
   {
    "duration": 57,
    "start_time": "2023-10-31T18:48:48.367Z"
   },
   {
    "duration": 41,
    "start_time": "2023-10-31T18:48:48.426Z"
   },
   {
    "duration": 21,
    "start_time": "2023-10-31T18:48:48.469Z"
   },
   {
    "duration": 58,
    "start_time": "2023-10-31T18:48:48.491Z"
   },
   {
    "duration": 39,
    "start_time": "2023-10-31T18:48:48.550Z"
   },
   {
    "duration": 75,
    "start_time": "2023-10-31T18:48:48.591Z"
   },
   {
    "duration": 18,
    "start_time": "2023-10-31T18:48:48.667Z"
   },
   {
    "duration": 94,
    "start_time": "2023-10-31T18:48:48.687Z"
   },
   {
    "duration": 85,
    "start_time": "2023-10-31T18:48:48.783Z"
   },
   {
    "duration": 19,
    "start_time": "2023-10-31T18:48:48.870Z"
   },
   {
    "duration": 56,
    "start_time": "2023-10-31T18:48:48.891Z"
   },
   {
    "duration": 104,
    "start_time": "2023-10-31T18:48:48.949Z"
   },
   {
    "duration": 58,
    "start_time": "2023-10-31T18:48:49.055Z"
   },
   {
    "duration": 40,
    "start_time": "2023-10-31T18:48:49.117Z"
   },
   {
    "duration": 50,
    "start_time": "2023-10-31T18:48:49.159Z"
   },
   {
    "duration": 51,
    "start_time": "2023-10-31T18:48:49.211Z"
   },
   {
    "duration": 93,
    "start_time": "2023-10-31T18:48:49.264Z"
   },
   {
    "duration": 57,
    "start_time": "2023-10-31T18:48:49.358Z"
   },
   {
    "duration": 40,
    "start_time": "2023-10-31T18:48:49.417Z"
   },
   {
    "duration": 144,
    "start_time": "2023-10-31T18:48:49.458Z"
   },
   {
    "duration": 21,
    "start_time": "2023-10-31T18:48:49.603Z"
   },
   {
    "duration": 31,
    "start_time": "2023-10-31T18:48:49.625Z"
   },
   {
    "duration": 42,
    "start_time": "2023-10-31T18:48:49.657Z"
   },
   {
    "duration": 16,
    "start_time": "2023-10-31T18:48:49.700Z"
   },
   {
    "duration": 47,
    "start_time": "2023-10-31T18:48:49.717Z"
   },
   {
    "duration": 41,
    "start_time": "2023-10-31T18:48:49.766Z"
   },
   {
    "duration": 70,
    "start_time": "2023-10-31T18:48:49.809Z"
   },
   {
    "duration": 53,
    "start_time": "2023-10-31T18:48:49.881Z"
   },
   {
    "duration": 67,
    "start_time": "2023-10-31T18:48:49.935Z"
   },
   {
    "duration": 16,
    "start_time": "2023-10-31T18:48:50.004Z"
   },
   {
    "duration": 7231,
    "start_time": "2023-10-31T18:48:50.021Z"
   },
   {
    "duration": 21,
    "start_time": "2023-10-31T18:48:57.253Z"
   },
   {
    "duration": 45,
    "start_time": "2023-10-31T18:48:57.275Z"
   },
   {
    "duration": 22,
    "start_time": "2023-10-31T18:48:57.322Z"
   },
   {
    "duration": 26,
    "start_time": "2023-10-31T18:48:57.346Z"
   },
   {
    "duration": 9,
    "start_time": "2023-10-31T18:48:57.374Z"
   },
   {
    "duration": 21,
    "start_time": "2023-10-31T18:48:57.385Z"
   },
   {
    "duration": 3,
    "start_time": "2023-10-31T18:48:57.407Z"
   },
   {
    "duration": 2990,
    "start_time": "2023-10-31T18:48:57.411Z"
   },
   {
    "duration": 12,
    "start_time": "2023-10-31T18:49:00.403Z"
   },
   {
    "duration": 51,
    "start_time": "2023-10-31T18:49:00.417Z"
   },
   {
    "duration": 5,
    "start_time": "2023-10-31T18:49:56.104Z"
   },
   {
    "duration": 161,
    "start_time": "2023-10-31T18:50:01.613Z"
   },
   {
    "duration": 120,
    "start_time": "2023-10-31T18:50:07.237Z"
   },
   {
    "duration": 5,
    "start_time": "2023-10-31T18:50:11.564Z"
   },
   {
    "duration": 7,
    "start_time": "2023-10-31T18:50:22.423Z"
   },
   {
    "duration": 6,
    "start_time": "2023-10-31T18:50:40.917Z"
   },
   {
    "duration": 5,
    "start_time": "2023-10-31T18:52:24.275Z"
   },
   {
    "duration": 4,
    "start_time": "2023-10-31T18:52:29.074Z"
   },
   {
    "duration": 4,
    "start_time": "2023-10-31T18:52:51.834Z"
   },
   {
    "duration": 1272,
    "start_time": "2023-10-31T19:09:17.296Z"
   },
   {
    "duration": 97,
    "start_time": "2023-10-31T19:09:18.570Z"
   },
   {
    "duration": 33,
    "start_time": "2023-10-31T19:09:18.669Z"
   },
   {
    "duration": 5,
    "start_time": "2023-10-31T19:09:18.704Z"
   },
   {
    "duration": 10,
    "start_time": "2023-10-31T19:09:18.711Z"
   },
   {
    "duration": 42,
    "start_time": "2023-10-31T19:09:18.722Z"
   },
   {
    "duration": 23,
    "start_time": "2023-10-31T19:09:18.766Z"
   },
   {
    "duration": 91,
    "start_time": "2023-10-31T19:09:18.790Z"
   },
   {
    "duration": 18,
    "start_time": "2023-10-31T19:09:18.883Z"
   },
   {
    "duration": 59,
    "start_time": "2023-10-31T19:09:18.903Z"
   },
   {
    "duration": 23,
    "start_time": "2023-10-31T19:09:18.964Z"
   },
   {
    "duration": 36,
    "start_time": "2023-10-31T19:09:22.421Z"
   },
   {
    "duration": 23,
    "start_time": "2023-10-31T19:10:28.308Z"
   },
   {
    "duration": 461,
    "start_time": "2023-10-31T19:10:28.333Z"
   },
   {
    "duration": 21,
    "start_time": "2023-10-31T19:10:28.796Z"
   },
   {
    "duration": 51,
    "start_time": "2023-10-31T19:10:28.820Z"
   },
   {
    "duration": 29,
    "start_time": "2023-10-31T19:10:28.873Z"
   },
   {
    "duration": 21,
    "start_time": "2023-10-31T19:10:28.904Z"
   },
   {
    "duration": 15,
    "start_time": "2023-10-31T19:10:28.943Z"
   },
   {
    "duration": 31,
    "start_time": "2023-10-31T19:10:28.960Z"
   },
   {
    "duration": 17,
    "start_time": "2023-10-31T19:10:28.993Z"
   },
   {
    "duration": 386,
    "start_time": "2023-10-31T19:10:29.013Z"
   },
   {
    "duration": 48,
    "start_time": "2023-10-31T19:10:29.400Z"
   },
   {
    "duration": 36,
    "start_time": "2023-10-31T19:10:29.450Z"
   },
   {
    "duration": 1352,
    "start_time": "2023-10-31T19:10:29.488Z"
   },
   {
    "duration": 30,
    "start_time": "2023-10-31T19:10:30.843Z"
   },
   {
    "duration": 42,
    "start_time": "2023-10-31T19:10:30.875Z"
   },
   {
    "duration": 38,
    "start_time": "2023-10-31T19:10:30.919Z"
   },
   {
    "duration": 80,
    "start_time": "2023-10-31T19:10:30.958Z"
   },
   {
    "duration": 87,
    "start_time": "2023-10-31T19:10:31.040Z"
   },
   {
    "duration": 82,
    "start_time": "2023-10-31T19:10:31.129Z"
   },
   {
    "duration": 138,
    "start_time": "2023-10-31T19:10:31.213Z"
   },
   {
    "duration": 39,
    "start_time": "2023-10-31T19:10:31.353Z"
   },
   {
    "duration": 53,
    "start_time": "2023-10-31T19:10:31.394Z"
   },
   {
    "duration": 204,
    "start_time": "2023-10-31T19:10:31.449Z"
   },
   {
    "duration": 20,
    "start_time": "2023-10-31T19:10:31.654Z"
   },
   {
    "duration": 188,
    "start_time": "2023-10-31T19:10:31.676Z"
   },
   {
    "duration": 129,
    "start_time": "2023-10-31T19:10:31.865Z"
   },
   {
    "duration": 19,
    "start_time": "2023-10-31T19:10:32.044Z"
   },
   {
    "duration": 109,
    "start_time": "2023-10-31T19:10:32.066Z"
   },
   {
    "duration": 191,
    "start_time": "2023-10-31T19:10:32.176Z"
   },
   {
    "duration": 119,
    "start_time": "2023-10-31T19:10:32.369Z"
   },
   {
    "duration": 77,
    "start_time": "2023-10-31T19:10:32.490Z"
   },
   {
    "duration": 101,
    "start_time": "2023-10-31T19:10:32.568Z"
   },
   {
    "duration": 87,
    "start_time": "2023-10-31T19:10:32.671Z"
   },
   {
    "duration": 92,
    "start_time": "2023-10-31T19:10:32.760Z"
   },
   {
    "duration": 56,
    "start_time": "2023-10-31T19:10:32.853Z"
   },
   {
    "duration": 45,
    "start_time": "2023-10-31T19:10:32.910Z"
   },
   {
    "duration": 59,
    "start_time": "2023-10-31T19:10:32.957Z"
   },
   {
    "duration": 48,
    "start_time": "2023-10-31T19:10:33.018Z"
   },
   {
    "duration": 24,
    "start_time": "2023-10-31T19:10:33.068Z"
   },
   {
    "duration": 62,
    "start_time": "2023-10-31T19:10:33.094Z"
   },
   {
    "duration": 20,
    "start_time": "2023-10-31T19:10:33.158Z"
   },
   {
    "duration": 31,
    "start_time": "2023-10-31T19:10:33.180Z"
   },
   {
    "duration": 3,
    "start_time": "2023-10-31T19:10:33.213Z"
   },
   {
    "duration": 48,
    "start_time": "2023-10-31T19:10:33.218Z"
   },
   {
    "duration": 56,
    "start_time": "2023-10-31T19:10:33.268Z"
   },
   {
    "duration": 44,
    "start_time": "2023-10-31T19:10:33.326Z"
   },
   {
    "duration": 9,
    "start_time": "2023-10-31T19:10:33.371Z"
   },
   {
    "duration": 7676,
    "start_time": "2023-10-31T19:10:33.382Z"
   },
   {
    "duration": 21,
    "start_time": "2023-10-31T19:10:41.060Z"
   },
   {
    "duration": 42,
    "start_time": "2023-10-31T19:10:41.082Z"
   },
   {
    "duration": 22,
    "start_time": "2023-10-31T19:10:41.125Z"
   },
   {
    "duration": 24,
    "start_time": "2023-10-31T19:10:41.149Z"
   },
   {
    "duration": 9,
    "start_time": "2023-10-31T19:10:41.175Z"
   },
   {
    "duration": 21,
    "start_time": "2023-10-31T19:10:41.185Z"
   },
   {
    "duration": 4,
    "start_time": "2023-10-31T19:10:41.207Z"
   },
   {
    "duration": 3244,
    "start_time": "2023-10-31T19:10:41.212Z"
   },
   {
    "duration": 13,
    "start_time": "2023-10-31T19:10:44.458Z"
   },
   {
    "duration": 13,
    "start_time": "2023-10-31T19:10:44.473Z"
   },
   {
    "duration": 43,
    "start_time": "2023-10-31T19:12:39.631Z"
   },
   {
    "duration": 153,
    "start_time": "2023-10-31T19:12:51.354Z"
   },
   {
    "duration": 1225,
    "start_time": "2023-10-31T19:13:09.737Z"
   },
   {
    "duration": 104,
    "start_time": "2023-10-31T19:13:10.964Z"
   },
   {
    "duration": 32,
    "start_time": "2023-10-31T19:13:11.070Z"
   },
   {
    "duration": 5,
    "start_time": "2023-10-31T19:13:11.105Z"
   },
   {
    "duration": 4,
    "start_time": "2023-10-31T19:13:11.113Z"
   },
   {
    "duration": 34,
    "start_time": "2023-10-31T19:13:11.119Z"
   },
   {
    "duration": 24,
    "start_time": "2023-10-31T19:13:11.156Z"
   },
   {
    "duration": 85,
    "start_time": "2023-10-31T19:13:11.182Z"
   },
   {
    "duration": 24,
    "start_time": "2023-10-31T19:13:11.269Z"
   },
   {
    "duration": 62,
    "start_time": "2023-10-31T19:13:11.295Z"
   },
   {
    "duration": 21,
    "start_time": "2023-10-31T19:13:11.359Z"
   },
   {
    "duration": 31,
    "start_time": "2023-10-31T19:13:11.381Z"
   },
   {
    "duration": 512,
    "start_time": "2023-10-31T19:13:11.414Z"
   },
   {
    "duration": 30,
    "start_time": "2023-10-31T19:13:11.928Z"
   },
   {
    "duration": 32,
    "start_time": "2023-10-31T19:13:11.959Z"
   },
   {
    "duration": 29,
    "start_time": "2023-10-31T19:13:11.993Z"
   },
   {
    "duration": 22,
    "start_time": "2023-10-31T19:13:12.043Z"
   },
   {
    "duration": 19,
    "start_time": "2023-10-31T19:13:12.066Z"
   },
   {
    "duration": 45,
    "start_time": "2023-10-31T19:13:12.086Z"
   },
   {
    "duration": 50,
    "start_time": "2023-10-31T19:13:12.133Z"
   },
   {
    "duration": 359,
    "start_time": "2023-10-31T19:13:20.224Z"
   },
   {
    "duration": 47,
    "start_time": "2023-10-31T19:13:28.938Z"
   },
   {
    "duration": 19,
    "start_time": "2023-10-31T19:13:28.987Z"
   },
   {
    "duration": 66,
    "start_time": "2023-10-31T19:13:29.007Z"
   },
   {
    "duration": 1235,
    "start_time": "2023-10-31T19:13:29.076Z"
   },
   {
    "duration": 38,
    "start_time": "2023-10-31T19:13:30.313Z"
   },
   {
    "duration": 16,
    "start_time": "2023-10-31T19:13:30.353Z"
   },
   {
    "duration": 49,
    "start_time": "2023-10-31T19:13:30.370Z"
   },
   {
    "duration": 71,
    "start_time": "2023-10-31T19:13:30.421Z"
   },
   {
    "duration": 68,
    "start_time": "2023-10-31T19:13:30.494Z"
   },
   {
    "duration": 45,
    "start_time": "2023-10-31T19:13:30.565Z"
   },
   {
    "duration": 54,
    "start_time": "2023-10-31T19:13:30.611Z"
   },
   {
    "duration": 51,
    "start_time": "2023-10-31T19:13:30.667Z"
   },
   {
    "duration": 67,
    "start_time": "2023-10-31T19:13:30.720Z"
   },
   {
    "duration": 65,
    "start_time": "2023-10-31T19:13:30.789Z"
   },
   {
    "duration": 41,
    "start_time": "2023-10-31T19:13:30.855Z"
   },
   {
    "duration": 131,
    "start_time": "2023-10-31T19:13:30.897Z"
   },
   {
    "duration": 94,
    "start_time": "2023-10-31T19:13:31.030Z"
   },
   {
    "duration": 36,
    "start_time": "2023-10-31T19:13:31.125Z"
   },
   {
    "duration": 93,
    "start_time": "2023-10-31T19:13:31.162Z"
   },
   {
    "duration": 100,
    "start_time": "2023-10-31T19:13:31.257Z"
   },
   {
    "duration": 96,
    "start_time": "2023-10-31T19:13:31.360Z"
   },
   {
    "duration": 29,
    "start_time": "2023-10-31T19:13:31.458Z"
   },
   {
    "duration": 71,
    "start_time": "2023-10-31T19:13:31.489Z"
   },
   {
    "duration": 44,
    "start_time": "2023-10-31T19:13:31.562Z"
   },
   {
    "duration": 104,
    "start_time": "2023-10-31T19:13:31.607Z"
   },
   {
    "duration": 69,
    "start_time": "2023-10-31T19:13:31.713Z"
   },
   {
    "duration": 42,
    "start_time": "2023-10-31T19:13:31.783Z"
   },
   {
    "duration": 57,
    "start_time": "2023-10-31T19:13:31.829Z"
   },
   {
    "duration": 23,
    "start_time": "2023-10-31T19:13:31.889Z"
   },
   {
    "duration": 46,
    "start_time": "2023-10-31T19:13:31.914Z"
   },
   {
    "duration": 70,
    "start_time": "2023-10-31T19:13:31.962Z"
   },
   {
    "duration": 23,
    "start_time": "2023-10-31T19:13:32.033Z"
   },
   {
    "duration": 87,
    "start_time": "2023-10-31T19:13:32.057Z"
   },
   {
    "duration": 3,
    "start_time": "2023-10-31T19:13:32.146Z"
   },
   {
    "duration": 98,
    "start_time": "2023-10-31T19:13:32.150Z"
   },
   {
    "duration": 29,
    "start_time": "2023-10-31T19:13:32.250Z"
   },
   {
    "duration": 88,
    "start_time": "2023-10-31T19:13:32.281Z"
   },
   {
    "duration": 14,
    "start_time": "2023-10-31T19:13:32.370Z"
   },
   {
    "duration": 6430,
    "start_time": "2023-10-31T19:13:32.385Z"
   },
   {
    "duration": 33,
    "start_time": "2023-10-31T19:13:38.817Z"
   },
   {
    "duration": 46,
    "start_time": "2023-10-31T19:13:38.851Z"
   },
   {
    "duration": 7,
    "start_time": "2023-10-31T19:13:38.898Z"
   },
   {
    "duration": 46,
    "start_time": "2023-10-31T19:13:38.906Z"
   },
   {
    "duration": 9,
    "start_time": "2023-10-31T19:13:38.953Z"
   },
   {
    "duration": 49,
    "start_time": "2023-10-31T19:13:38.963Z"
   },
   {
    "duration": 3,
    "start_time": "2023-10-31T19:13:39.015Z"
   },
   {
    "duration": 2476,
    "start_time": "2023-10-31T19:13:39.020Z"
   },
   {
    "duration": 13,
    "start_time": "2023-10-31T19:13:41.498Z"
   },
   {
    "duration": 13,
    "start_time": "2023-10-31T19:13:41.513Z"
   },
   {
    "duration": 44,
    "start_time": "2023-10-31T19:14:44.985Z"
   },
   {
    "duration": 1249,
    "start_time": "2023-10-31T19:15:34.100Z"
   },
   {
    "duration": 91,
    "start_time": "2023-10-31T19:15:35.351Z"
   },
   {
    "duration": 37,
    "start_time": "2023-10-31T19:15:35.444Z"
   },
   {
    "duration": 6,
    "start_time": "2023-10-31T19:15:35.483Z"
   },
   {
    "duration": 18,
    "start_time": "2023-10-31T19:15:35.492Z"
   },
   {
    "duration": 33,
    "start_time": "2023-10-31T19:15:35.511Z"
   },
   {
    "duration": 22,
    "start_time": "2023-10-31T19:15:35.546Z"
   },
   {
    "duration": 76,
    "start_time": "2023-10-31T19:15:35.569Z"
   },
   {
    "duration": 17,
    "start_time": "2023-10-31T19:15:35.647Z"
   },
   {
    "duration": 43,
    "start_time": "2023-10-31T19:15:35.665Z"
   },
   {
    "duration": 19,
    "start_time": "2023-10-31T19:15:35.710Z"
   },
   {
    "duration": 27,
    "start_time": "2023-10-31T19:15:35.744Z"
   },
   {
    "duration": 441,
    "start_time": "2023-10-31T19:15:35.773Z"
   },
   {
    "duration": 29,
    "start_time": "2023-10-31T19:15:36.216Z"
   },
   {
    "duration": 33,
    "start_time": "2023-10-31T19:15:36.246Z"
   },
   {
    "duration": 32,
    "start_time": "2023-10-31T19:15:36.281Z"
   },
   {
    "duration": 46,
    "start_time": "2023-10-31T19:15:36.315Z"
   },
   {
    "duration": 13,
    "start_time": "2023-10-31T19:15:36.362Z"
   },
   {
    "duration": 33,
    "start_time": "2023-10-31T19:15:36.377Z"
   },
   {
    "duration": 34,
    "start_time": "2023-10-31T19:15:36.411Z"
   },
   {
    "duration": 358,
    "start_time": "2023-10-31T19:15:39.110Z"
   },
   {
    "duration": 18,
    "start_time": "2023-10-31T19:18:33.883Z"
   },
   {
    "duration": 35,
    "start_time": "2023-10-31T19:18:38.049Z"
   },
   {
    "duration": 1256,
    "start_time": "2023-10-31T19:18:49.035Z"
   },
   {
    "duration": 29,
    "start_time": "2023-10-31T19:18:56.386Z"
   },
   {
    "duration": 16,
    "start_time": "2023-10-31T19:20:21.608Z"
   },
   {
    "duration": 14,
    "start_time": "2023-10-31T19:20:23.384Z"
   },
   {
    "duration": 12,
    "start_time": "2023-10-31T19:20:25.448Z"
   },
   {
    "duration": 27,
    "start_time": "2023-10-31T19:20:27.800Z"
   },
   {
    "duration": 21,
    "start_time": "2023-10-31T19:29:43.876Z"
   },
   {
    "duration": 23,
    "start_time": "2023-10-31T19:30:09.363Z"
   },
   {
    "duration": 23,
    "start_time": "2023-10-31T19:31:41.217Z"
   },
   {
    "duration": 25,
    "start_time": "2023-10-31T19:31:57.896Z"
   },
   {
    "duration": 21,
    "start_time": "2023-10-31T19:32:07.608Z"
   },
   {
    "duration": 22,
    "start_time": "2023-10-31T19:32:16.977Z"
   },
   {
    "duration": 24,
    "start_time": "2023-10-31T19:32:21.216Z"
   },
   {
    "duration": 21,
    "start_time": "2023-10-31T19:33:15.610Z"
   },
   {
    "duration": 20,
    "start_time": "2023-10-31T19:34:52.751Z"
   },
   {
    "duration": 19,
    "start_time": "2023-10-31T19:34:55.124Z"
   },
   {
    "duration": 18,
    "start_time": "2023-10-31T19:34:58.101Z"
   },
   {
    "duration": 7,
    "start_time": "2023-10-31T19:37:46.051Z"
   },
   {
    "duration": 39,
    "start_time": "2023-10-31T19:39:46.527Z"
   },
   {
    "duration": 15,
    "start_time": "2023-10-31T19:39:48.751Z"
   },
   {
    "duration": 77,
    "start_time": "2023-10-31T19:39:51.495Z"
   },
   {
    "duration": 70,
    "start_time": "2023-10-31T19:40:19.487Z"
   },
   {
    "duration": 19,
    "start_time": "2023-10-31T19:40:44.458Z"
   },
   {
    "duration": 30,
    "start_time": "2023-10-31T19:41:59.102Z"
   },
   {
    "duration": 18,
    "start_time": "2023-10-31T19:43:16.227Z"
   },
   {
    "duration": 71,
    "start_time": "2023-10-31T19:44:26.082Z"
   },
   {
    "duration": 42,
    "start_time": "2023-10-31T19:50:46.724Z"
   },
   {
    "duration": 87,
    "start_time": "2023-10-31T19:50:50.284Z"
   },
   {
    "duration": 61,
    "start_time": "2023-10-31T19:51:09.740Z"
   },
   {
    "duration": 25,
    "start_time": "2023-10-31T19:59:34.748Z"
   },
   {
    "duration": 59,
    "start_time": "2023-10-31T19:59:37.437Z"
   },
   {
    "duration": 49,
    "start_time": "2023-10-31T20:06:02.814Z"
   },
   {
    "duration": 95,
    "start_time": "2023-10-31T20:06:06.689Z"
   },
   {
    "duration": 68,
    "start_time": "2023-10-31T20:07:24.628Z"
   },
   {
    "duration": 33,
    "start_time": "2023-10-31T20:08:21.764Z"
   },
   {
    "duration": 50,
    "start_time": "2023-10-31T20:08:24.475Z"
   },
   {
    "duration": 30,
    "start_time": "2023-10-31T20:15:44.373Z"
   },
   {
    "duration": 36,
    "start_time": "2023-10-31T20:15:48.758Z"
   },
   {
    "duration": 56,
    "start_time": "2023-10-31T20:15:52.332Z"
   },
   {
    "duration": 25,
    "start_time": "2023-10-31T20:15:54.932Z"
   },
   {
    "duration": 36,
    "start_time": "2023-10-31T20:16:36.634Z"
   },
   {
    "duration": 1377,
    "start_time": "2023-10-31T20:18:31.171Z"
   },
   {
    "duration": 105,
    "start_time": "2023-10-31T20:18:32.559Z"
   },
   {
    "duration": 33,
    "start_time": "2023-10-31T20:18:32.666Z"
   },
   {
    "duration": 5,
    "start_time": "2023-10-31T20:18:32.701Z"
   },
   {
    "duration": 9,
    "start_time": "2023-10-31T20:18:32.709Z"
   },
   {
    "duration": 52,
    "start_time": "2023-10-31T20:18:32.720Z"
   },
   {
    "duration": 23,
    "start_time": "2023-10-31T20:18:32.774Z"
   },
   {
    "duration": 81,
    "start_time": "2023-10-31T20:18:32.799Z"
   },
   {
    "duration": 20,
    "start_time": "2023-10-31T20:18:32.882Z"
   },
   {
    "duration": 62,
    "start_time": "2023-10-31T20:18:32.904Z"
   },
   {
    "duration": 22,
    "start_time": "2023-10-31T20:18:32.968Z"
   },
   {
    "duration": 29,
    "start_time": "2023-10-31T20:18:32.991Z"
   },
   {
    "duration": 488,
    "start_time": "2023-10-31T20:18:33.022Z"
   },
   {
    "duration": 21,
    "start_time": "2023-10-31T20:18:33.513Z"
   },
   {
    "duration": 49,
    "start_time": "2023-10-31T20:18:33.535Z"
   },
   {
    "duration": 28,
    "start_time": "2023-10-31T20:18:33.586Z"
   },
   {
    "duration": 43,
    "start_time": "2023-10-31T20:18:33.616Z"
   },
   {
    "duration": 14,
    "start_time": "2023-10-31T20:18:33.661Z"
   },
   {
    "duration": 52,
    "start_time": "2023-10-31T20:18:33.677Z"
   },
   {
    "duration": 32,
    "start_time": "2023-10-31T20:18:33.731Z"
   },
   {
    "duration": 428,
    "start_time": "2023-10-31T20:18:33.765Z"
   },
   {
    "duration": 65,
    "start_time": "2023-10-31T20:18:34.194Z"
   },
   {
    "duration": 102,
    "start_time": "2023-10-31T20:18:34.261Z"
   },
   {
    "duration": 1429,
    "start_time": "2023-10-31T20:18:34.365Z"
   },
   {
    "duration": 35,
    "start_time": "2023-10-31T20:18:35.796Z"
   },
   {
    "duration": 32,
    "start_time": "2023-10-31T20:18:35.834Z"
   },
   {
    "duration": 26,
    "start_time": "2023-10-31T20:18:35.869Z"
   },
   {
    "duration": 38,
    "start_time": "2023-10-31T20:18:35.897Z"
   },
   {
    "duration": 49,
    "start_time": "2023-10-31T20:18:35.938Z"
   },
   {
    "duration": 26,
    "start_time": "2023-10-31T20:18:35.989Z"
   },
   {
    "duration": 31,
    "start_time": "2023-10-31T20:18:36.030Z"
   },
   {
    "duration": 19,
    "start_time": "2023-10-31T20:18:36.063Z"
   },
   {
    "duration": 34,
    "start_time": "2023-10-31T20:18:36.084Z"
   },
   {
    "duration": 68,
    "start_time": "2023-10-31T20:18:36.119Z"
   },
   {
    "duration": 19,
    "start_time": "2023-10-31T20:18:36.189Z"
   },
   {
    "duration": 106,
    "start_time": "2023-10-31T20:18:36.209Z"
   },
   {
    "duration": 105,
    "start_time": "2023-10-31T20:18:36.317Z"
   },
   {
    "duration": 90,
    "start_time": "2023-10-31T20:18:36.424Z"
   },
   {
    "duration": 39,
    "start_time": "2023-10-31T20:18:36.516Z"
   },
   {
    "duration": 48,
    "start_time": "2023-10-31T20:18:36.557Z"
   },
   {
    "duration": 115,
    "start_time": "2023-10-31T20:18:36.608Z"
   },
   {
    "duration": 93,
    "start_time": "2023-10-31T20:18:36.725Z"
   },
   {
    "duration": 37,
    "start_time": "2023-10-31T20:18:36.820Z"
   },
   {
    "duration": 50,
    "start_time": "2023-10-31T20:18:36.859Z"
   },
   {
    "duration": 66,
    "start_time": "2023-10-31T20:18:36.911Z"
   },
   {
    "duration": 109,
    "start_time": "2023-10-31T20:18:36.979Z"
   },
   {
    "duration": 76,
    "start_time": "2023-10-31T20:18:37.089Z"
   },
   {
    "duration": 30,
    "start_time": "2023-10-31T20:18:37.167Z"
   },
   {
    "duration": 77,
    "start_time": "2023-10-31T20:18:37.199Z"
   },
   {
    "duration": 25,
    "start_time": "2023-10-31T20:18:40.265Z"
   },
   {
    "duration": 7,
    "start_time": "2023-10-31T20:18:43.027Z"
   },
   {
    "duration": 59,
    "start_time": "2023-10-31T20:18:44.758Z"
   },
   {
    "duration": 7,
    "start_time": "2023-10-31T20:18:47.993Z"
   },
   {
    "duration": 12,
    "start_time": "2023-10-31T20:18:51.297Z"
   },
   {
    "duration": 4,
    "start_time": "2023-10-31T20:18:53.365Z"
   },
   {
    "duration": 10,
    "start_time": "2023-10-31T20:18:56.209Z"
   },
   {
    "duration": 8,
    "start_time": "2023-10-31T20:18:58.366Z"
   },
   {
    "duration": 37,
    "start_time": "2023-10-31T20:19:00.157Z"
   },
   {
    "duration": 3,
    "start_time": "2023-10-31T20:20:53.639Z"
   },
   {
    "duration": 7266,
    "start_time": "2023-10-31T20:20:55.934Z"
   },
   {
    "duration": 16,
    "start_time": "2023-10-31T20:24:50.707Z"
   },
   {
    "duration": 27,
    "start_time": "2023-10-31T20:30:26.282Z"
   },
   {
    "duration": 6,
    "start_time": "2023-10-31T20:36:26.601Z"
   },
   {
    "duration": 30,
    "start_time": "2023-10-31T20:36:37.487Z"
   },
   {
    "duration": 8,
    "start_time": "2023-10-31T20:36:39.714Z"
   },
   {
    "duration": 19,
    "start_time": "2023-10-31T20:36:43.150Z"
   },
   {
    "duration": 131,
    "start_time": "2023-10-31T20:36:45.536Z"
   },
   {
    "duration": 35,
    "start_time": "2023-10-31T20:36:47.926Z"
   },
   {
    "duration": 3,
    "start_time": "2023-10-31T20:36:51.207Z"
   },
   {
    "duration": 3021,
    "start_time": "2023-10-31T20:36:58.663Z"
   },
   {
    "duration": 18,
    "start_time": "2023-10-31T20:46:28.214Z"
   },
   {
    "duration": 15,
    "start_time": "2023-10-31T20:46:33.446Z"
   },
   {
    "duration": 1448,
    "start_time": "2023-11-01T17:56:18.818Z"
   },
   {
    "duration": 154,
    "start_time": "2023-11-01T17:56:20.267Z"
   },
   {
    "duration": 82,
    "start_time": "2023-11-01T17:56:20.422Z"
   },
   {
    "duration": 4,
    "start_time": "2023-11-01T17:56:20.506Z"
   },
   {
    "duration": 16,
    "start_time": "2023-11-01T17:56:20.512Z"
   },
   {
    "duration": 33,
    "start_time": "2023-11-01T17:56:20.529Z"
   },
   {
    "duration": 23,
    "start_time": "2023-11-01T17:56:20.563Z"
   },
   {
    "duration": 62,
    "start_time": "2023-11-01T17:56:20.588Z"
   },
   {
    "duration": 16,
    "start_time": "2023-11-01T17:56:20.652Z"
   },
   {
    "duration": 66,
    "start_time": "2023-11-01T17:56:20.670Z"
   },
   {
    "duration": 20,
    "start_time": "2023-11-01T17:56:20.738Z"
   },
   {
    "duration": 49,
    "start_time": "2023-11-01T17:56:20.760Z"
   },
   {
    "duration": 433,
    "start_time": "2023-11-01T17:56:20.811Z"
   },
   {
    "duration": 20,
    "start_time": "2023-11-01T17:56:21.247Z"
   },
   {
    "duration": 48,
    "start_time": "2023-11-01T17:56:21.269Z"
   },
   {
    "duration": 29,
    "start_time": "2023-11-01T17:56:21.318Z"
   },
   {
    "duration": 19,
    "start_time": "2023-11-01T17:56:21.349Z"
   },
   {
    "duration": 12,
    "start_time": "2023-11-01T17:56:21.370Z"
   },
   {
    "duration": 31,
    "start_time": "2023-11-01T17:56:21.408Z"
   },
   {
    "duration": 15,
    "start_time": "2023-11-01T17:56:21.440Z"
   },
   {
    "duration": 431,
    "start_time": "2023-11-01T17:56:21.456Z"
   },
   {
    "duration": 22,
    "start_time": "2023-11-01T17:56:21.889Z"
   },
   {
    "duration": 34,
    "start_time": "2023-11-01T17:56:21.913Z"
   },
   {
    "duration": 1567,
    "start_time": "2023-11-01T17:56:21.948Z"
   },
   {
    "duration": 33,
    "start_time": "2023-11-01T17:56:23.516Z"
   },
   {
    "duration": 17,
    "start_time": "2023-11-01T17:56:23.606Z"
   },
   {
    "duration": 15,
    "start_time": "2023-11-01T17:56:23.625Z"
   },
   {
    "duration": 66,
    "start_time": "2023-11-01T17:56:23.642Z"
   },
   {
    "duration": 48,
    "start_time": "2023-11-01T17:56:23.710Z"
   },
   {
    "duration": 62,
    "start_time": "2023-11-01T17:56:23.759Z"
   },
   {
    "duration": 17,
    "start_time": "2023-11-01T17:56:23.823Z"
   },
   {
    "duration": 74,
    "start_time": "2023-11-01T17:56:23.842Z"
   },
   {
    "duration": 6,
    "start_time": "2023-11-01T17:56:23.918Z"
   },
   {
    "duration": 92,
    "start_time": "2023-11-01T17:56:23.926Z"
   },
   {
    "duration": 20,
    "start_time": "2023-11-01T17:56:24.020Z"
   },
   {
    "duration": 190,
    "start_time": "2023-11-01T17:56:24.042Z"
   },
   {
    "duration": 176,
    "start_time": "2023-11-01T17:56:24.234Z"
   },
   {
    "duration": 123,
    "start_time": "2023-11-01T17:56:24.412Z"
   },
   {
    "duration": 73,
    "start_time": "2023-11-01T17:56:24.537Z"
   },
   {
    "duration": 42,
    "start_time": "2023-11-01T17:56:24.612Z"
   },
   {
    "duration": 164,
    "start_time": "2023-11-01T17:56:24.710Z"
   },
   {
    "duration": 77,
    "start_time": "2023-11-01T17:56:24.876Z"
   },
   {
    "duration": 25,
    "start_time": "2023-11-01T17:56:24.955Z"
   },
   {
    "duration": 56,
    "start_time": "2023-11-01T17:56:24.982Z"
   },
   {
    "duration": 40,
    "start_time": "2023-11-01T17:56:25.039Z"
   },
   {
    "duration": 93,
    "start_time": "2023-11-01T17:56:25.081Z"
   },
   {
    "duration": 66,
    "start_time": "2023-11-01T17:56:25.176Z"
   },
   {
    "duration": 26,
    "start_time": "2023-11-01T17:56:25.244Z"
   },
   {
    "duration": 67,
    "start_time": "2023-11-01T17:56:25.271Z"
   },
   {
    "duration": 22,
    "start_time": "2023-11-01T17:56:25.339Z"
   },
   {
    "duration": 7,
    "start_time": "2023-11-01T17:56:25.363Z"
   },
   {
    "duration": 70,
    "start_time": "2023-11-01T17:56:25.371Z"
   },
   {
    "duration": 5,
    "start_time": "2023-11-01T17:56:25.443Z"
   },
   {
    "duration": 14,
    "start_time": "2023-11-01T17:56:25.450Z"
   },
   {
    "duration": 4,
    "start_time": "2023-11-01T17:56:25.466Z"
   },
   {
    "duration": 11,
    "start_time": "2023-11-01T17:56:25.471Z"
   },
   {
    "duration": 24,
    "start_time": "2023-11-01T17:56:25.483Z"
   },
   {
    "duration": 33,
    "start_time": "2023-11-01T17:56:25.508Z"
   },
   {
    "duration": 4,
    "start_time": "2023-11-01T17:56:25.542Z"
   },
   {
    "duration": 8577,
    "start_time": "2023-11-01T17:56:25.547Z"
   },
   {
    "duration": 16,
    "start_time": "2023-11-01T17:56:34.125Z"
   },
   {
    "duration": 33,
    "start_time": "2023-11-01T17:56:34.142Z"
   },
   {
    "duration": 7,
    "start_time": "2023-11-01T17:56:34.176Z"
   },
   {
    "duration": 32,
    "start_time": "2023-11-01T17:56:34.185Z"
   },
   {
    "duration": 17,
    "start_time": "2023-11-01T17:56:34.218Z"
   },
   {
    "duration": 15,
    "start_time": "2023-11-01T17:56:34.236Z"
   },
   {
    "duration": 104,
    "start_time": "2023-11-01T17:56:34.252Z"
   },
   {
    "duration": 30,
    "start_time": "2023-11-01T17:56:34.357Z"
   },
   {
    "duration": 6,
    "start_time": "2023-11-01T17:56:34.389Z"
   },
   {
    "duration": 2717,
    "start_time": "2023-11-01T17:56:34.396Z"
   },
   {
    "duration": 13,
    "start_time": "2023-11-01T17:56:37.114Z"
   },
   {
    "duration": 16,
    "start_time": "2023-11-01T17:56:37.129Z"
   },
   {
    "duration": 759,
    "start_time": "2023-11-01T19:51:02.294Z"
   },
   {
    "duration": 4,
    "start_time": "2023-11-01T19:58:48.697Z"
   },
   {
    "duration": 120,
    "start_time": "2023-11-01T19:58:48.703Z"
   },
   {
    "duration": 34,
    "start_time": "2023-11-01T19:58:48.824Z"
   },
   {
    "duration": 4,
    "start_time": "2023-11-01T19:58:48.860Z"
   },
   {
    "duration": 10,
    "start_time": "2023-11-01T19:58:48.865Z"
   },
   {
    "duration": 44,
    "start_time": "2023-11-01T19:58:48.876Z"
   },
   {
    "duration": 24,
    "start_time": "2023-11-01T19:58:48.921Z"
   },
   {
    "duration": 83,
    "start_time": "2023-11-01T19:58:48.946Z"
   },
   {
    "duration": 17,
    "start_time": "2023-11-01T19:58:49.031Z"
   },
   {
    "duration": 31,
    "start_time": "2023-11-01T19:58:49.049Z"
   },
   {
    "duration": 42,
    "start_time": "2023-11-01T19:58:49.082Z"
   },
   {
    "duration": 33,
    "start_time": "2023-11-01T19:58:49.126Z"
   },
   {
    "duration": 442,
    "start_time": "2023-11-01T19:58:49.160Z"
   },
   {
    "duration": 19,
    "start_time": "2023-11-01T19:58:49.606Z"
   },
   {
    "duration": 39,
    "start_time": "2023-11-01T19:58:49.626Z"
   },
   {
    "duration": 43,
    "start_time": "2023-11-01T19:58:49.667Z"
   },
   {
    "duration": 19,
    "start_time": "2023-11-01T19:58:49.712Z"
   },
   {
    "duration": 13,
    "start_time": "2023-11-01T19:58:49.733Z"
   },
   {
    "duration": 37,
    "start_time": "2023-11-01T19:58:49.748Z"
   },
   {
    "duration": 33,
    "start_time": "2023-11-01T19:58:49.786Z"
   },
   {
    "duration": 53,
    "start_time": "2023-11-01T19:58:49.821Z"
   },
   {
    "duration": 36,
    "start_time": "2023-11-01T19:58:49.875Z"
   },
   {
    "duration": 31,
    "start_time": "2023-11-01T19:58:49.913Z"
   },
   {
    "duration": 622,
    "start_time": "2023-11-01T19:58:49.948Z"
   },
   {
    "duration": 1069,
    "start_time": "2023-11-01T19:58:50.572Z"
   },
   {
    "duration": 27,
    "start_time": "2023-11-01T19:58:51.643Z"
   },
   {
    "duration": 14,
    "start_time": "2023-11-01T19:58:51.672Z"
   },
   {
    "duration": 31,
    "start_time": "2023-11-01T19:58:51.687Z"
   },
   {
    "duration": 19,
    "start_time": "2023-11-01T19:58:51.720Z"
   },
   {
    "duration": 21,
    "start_time": "2023-11-01T19:58:51.741Z"
   },
   {
    "duration": 29,
    "start_time": "2023-11-01T19:58:51.764Z"
   },
   {
    "duration": 26,
    "start_time": "2023-11-01T19:58:51.795Z"
   },
   {
    "duration": 18,
    "start_time": "2023-11-01T19:58:51.823Z"
   },
   {
    "duration": 44,
    "start_time": "2023-11-01T19:58:51.843Z"
   },
   {
    "duration": 52,
    "start_time": "2023-11-01T19:58:51.889Z"
   },
   {
    "duration": 49,
    "start_time": "2023-11-01T19:58:51.942Z"
   },
   {
    "duration": 73,
    "start_time": "2023-11-01T19:58:51.992Z"
   },
   {
    "duration": 82,
    "start_time": "2023-11-01T19:58:52.066Z"
   },
   {
    "duration": 87,
    "start_time": "2023-11-01T19:58:52.149Z"
   },
   {
    "duration": 17,
    "start_time": "2023-11-01T19:58:52.238Z"
   },
   {
    "duration": 59,
    "start_time": "2023-11-01T19:58:52.257Z"
   },
   {
    "duration": 92,
    "start_time": "2023-11-01T19:58:52.318Z"
   },
   {
    "duration": 63,
    "start_time": "2023-11-01T19:58:52.411Z"
   },
   {
    "duration": 41,
    "start_time": "2023-11-01T19:58:52.475Z"
   },
   {
    "duration": 47,
    "start_time": "2023-11-01T19:58:52.517Z"
   },
   {
    "duration": 58,
    "start_time": "2023-11-01T19:58:52.566Z"
   },
   {
    "duration": 97,
    "start_time": "2023-11-01T19:58:52.626Z"
   },
   {
    "duration": 61,
    "start_time": "2023-11-01T19:58:52.725Z"
   },
   {
    "duration": 43,
    "start_time": "2023-11-01T19:58:52.787Z"
   },
   {
    "duration": 183,
    "start_time": "2023-11-01T19:58:52.831Z"
   },
   {
    "duration": 22,
    "start_time": "2023-11-01T19:58:53.015Z"
   },
   {
    "duration": 6,
    "start_time": "2023-11-01T19:58:53.039Z"
   },
   {
    "duration": 61,
    "start_time": "2023-11-01T19:58:53.047Z"
   },
   {
    "duration": 7,
    "start_time": "2023-11-01T19:58:53.109Z"
   },
   {
    "duration": 28,
    "start_time": "2023-11-01T19:58:53.117Z"
   },
   {
    "duration": 20,
    "start_time": "2023-11-01T19:58:53.146Z"
   },
   {
    "duration": 19,
    "start_time": "2023-11-01T19:58:53.167Z"
   },
   {
    "duration": 29,
    "start_time": "2023-11-01T19:58:53.187Z"
   },
   {
    "duration": 53,
    "start_time": "2023-11-01T19:58:53.218Z"
   },
   {
    "duration": 3,
    "start_time": "2023-11-01T19:58:53.273Z"
   },
   {
    "duration": 5068,
    "start_time": "2023-11-01T19:58:53.278Z"
   },
   {
    "duration": 15,
    "start_time": "2023-11-01T19:58:58.347Z"
   },
   {
    "duration": 27,
    "start_time": "2023-11-01T19:58:58.363Z"
   },
   {
    "duration": 16,
    "start_time": "2023-11-01T19:58:58.391Z"
   },
   {
    "duration": 76,
    "start_time": "2023-11-01T19:58:58.408Z"
   },
   {
    "duration": 7,
    "start_time": "2023-11-01T19:58:58.486Z"
   },
   {
    "duration": 33,
    "start_time": "2023-11-01T19:58:58.495Z"
   },
   {
    "duration": 19,
    "start_time": "2023-11-01T19:58:58.530Z"
   },
   {
    "duration": 20,
    "start_time": "2023-11-01T19:58:58.555Z"
   },
   {
    "duration": 3,
    "start_time": "2023-11-01T19:58:58.578Z"
   },
   {
    "duration": 2252,
    "start_time": "2023-11-01T19:58:58.583Z"
   },
   {
    "duration": 14,
    "start_time": "2023-11-01T19:59:00.836Z"
   },
   {
    "duration": 77,
    "start_time": "2023-11-01T19:59:00.852Z"
   },
   {
    "duration": 2398,
    "start_time": "2023-11-01T19:59:07.661Z"
   },
   {
    "duration": 2731,
    "start_time": "2023-11-01T19:59:13.276Z"
   },
   {
    "duration": 1719,
    "start_time": "2023-11-02T11:15:53.009Z"
   },
   {
    "duration": 186,
    "start_time": "2023-11-02T11:15:54.731Z"
   },
   {
    "duration": 75,
    "start_time": "2023-11-02T11:15:54.919Z"
   },
   {
    "duration": 5,
    "start_time": "2023-11-02T11:15:54.995Z"
   },
   {
    "duration": 92,
    "start_time": "2023-11-02T11:15:55.003Z"
   },
   {
    "duration": 44,
    "start_time": "2023-11-02T11:15:55.097Z"
   },
   {
    "duration": 32,
    "start_time": "2023-11-02T11:15:55.143Z"
   },
   {
    "duration": 74,
    "start_time": "2023-11-02T11:15:55.176Z"
   },
   {
    "duration": 24,
    "start_time": "2023-11-02T11:15:55.258Z"
   },
   {
    "duration": 58,
    "start_time": "2023-11-02T11:15:55.284Z"
   },
   {
    "duration": 21,
    "start_time": "2023-11-02T11:15:55.344Z"
   },
   {
    "duration": 65,
    "start_time": "2023-11-02T11:15:55.367Z"
   },
   {
    "duration": 474,
    "start_time": "2023-11-02T11:15:55.434Z"
   },
   {
    "duration": 33,
    "start_time": "2023-11-02T11:15:55.911Z"
   },
   {
    "duration": 37,
    "start_time": "2023-11-02T11:15:55.953Z"
   },
   {
    "duration": 41,
    "start_time": "2023-11-02T11:15:55.992Z"
   },
   {
    "duration": 39,
    "start_time": "2023-11-02T11:15:56.035Z"
   },
   {
    "duration": 13,
    "start_time": "2023-11-02T11:15:56.076Z"
   },
   {
    "duration": 44,
    "start_time": "2023-11-02T11:15:56.091Z"
   },
   {
    "duration": 27,
    "start_time": "2023-11-02T11:15:56.137Z"
   },
   {
    "duration": 417,
    "start_time": "2023-11-02T11:15:56.167Z"
   },
   {
    "duration": 27,
    "start_time": "2023-11-02T11:15:56.585Z"
   },
   {
    "duration": 72,
    "start_time": "2023-11-02T11:15:56.613Z"
   },
   {
    "duration": 761,
    "start_time": "2023-11-02T11:15:56.686Z"
   },
   {
    "duration": 1387,
    "start_time": "2023-11-02T11:15:57.449Z"
   },
   {
    "duration": 39,
    "start_time": "2023-11-02T11:15:58.838Z"
   },
   {
    "duration": 18,
    "start_time": "2023-11-02T11:15:58.879Z"
   },
   {
    "duration": 14,
    "start_time": "2023-11-02T11:15:58.899Z"
   },
   {
    "duration": 54,
    "start_time": "2023-11-02T11:15:58.914Z"
   },
   {
    "duration": 30,
    "start_time": "2023-11-02T11:15:58.969Z"
   },
   {
    "duration": 36,
    "start_time": "2023-11-02T11:15:59.000Z"
   },
   {
    "duration": 46,
    "start_time": "2023-11-02T11:15:59.038Z"
   },
   {
    "duration": 41,
    "start_time": "2023-11-02T11:15:59.086Z"
   },
   {
    "duration": 39,
    "start_time": "2023-11-02T11:15:59.129Z"
   },
   {
    "duration": 149,
    "start_time": "2023-11-02T11:15:59.170Z"
   },
   {
    "duration": 27,
    "start_time": "2023-11-02T11:15:59.321Z"
   },
   {
    "duration": 127,
    "start_time": "2023-11-02T11:15:59.350Z"
   },
   {
    "duration": 90,
    "start_time": "2023-11-02T11:15:59.479Z"
   },
   {
    "duration": 96,
    "start_time": "2023-11-02T11:15:59.571Z"
   },
   {
    "duration": 16,
    "start_time": "2023-11-02T11:15:59.669Z"
   },
   {
    "duration": 74,
    "start_time": "2023-11-02T11:15:59.689Z"
   },
   {
    "duration": 138,
    "start_time": "2023-11-02T11:15:59.765Z"
   },
   {
    "duration": 71,
    "start_time": "2023-11-02T11:15:59.905Z"
   },
   {
    "duration": 24,
    "start_time": "2023-11-02T11:15:59.978Z"
   },
   {
    "duration": 65,
    "start_time": "2023-11-02T11:16:00.004Z"
   },
   {
    "duration": 45,
    "start_time": "2023-11-02T11:16:00.071Z"
   },
   {
    "duration": 95,
    "start_time": "2023-11-02T11:16:00.118Z"
   },
   {
    "duration": 69,
    "start_time": "2023-11-02T11:16:00.215Z"
   },
   {
    "duration": 33,
    "start_time": "2023-11-02T11:16:00.286Z"
   },
   {
    "duration": 72,
    "start_time": "2023-11-02T11:16:00.320Z"
   },
   {
    "duration": 116,
    "start_time": "2023-11-02T11:16:00.394Z"
   },
   {
    "duration": 49,
    "start_time": "2023-11-02T11:16:00.511Z"
   },
   {
    "duration": 121,
    "start_time": "2023-11-02T11:16:00.562Z"
   },
   {
    "duration": 85,
    "start_time": "2023-11-02T11:16:00.685Z"
   },
   {
    "duration": 93,
    "start_time": "2023-11-02T11:16:00.771Z"
   },
   {
    "duration": 43,
    "start_time": "2023-11-02T11:16:00.866Z"
   },
   {
    "duration": 65,
    "start_time": "2023-11-02T11:16:00.911Z"
   },
   {
    "duration": 181,
    "start_time": "2023-11-02T11:16:00.978Z"
   },
   {
    "duration": 149,
    "start_time": "2023-11-02T11:16:01.161Z"
   },
   {
    "duration": 375,
    "start_time": "2023-11-02T11:16:01.311Z"
   },
   {
    "duration": 4586,
    "start_time": "2023-11-02T11:16:01.688Z"
   },
   {
    "duration": 17,
    "start_time": "2023-11-02T11:16:06.275Z"
   },
   {
    "duration": 87,
    "start_time": "2023-11-02T11:16:06.293Z"
   },
   {
    "duration": 41,
    "start_time": "2023-11-02T11:16:06.382Z"
   },
   {
    "duration": 80,
    "start_time": "2023-11-02T11:16:06.425Z"
   },
   {
    "duration": 36,
    "start_time": "2023-11-02T11:16:06.507Z"
   },
   {
    "duration": 75,
    "start_time": "2023-11-02T11:16:06.544Z"
   },
   {
    "duration": 113,
    "start_time": "2023-11-02T11:16:06.620Z"
   },
   {
    "duration": 46,
    "start_time": "2023-11-02T11:16:06.735Z"
   },
   {
    "duration": 32,
    "start_time": "2023-11-02T11:16:06.783Z"
   },
   {
    "duration": 2281,
    "start_time": "2023-11-02T11:16:06.816Z"
   },
   {
    "duration": 12,
    "start_time": "2023-11-02T11:16:09.100Z"
   },
   {
    "duration": 35,
    "start_time": "2023-11-02T11:16:09.114Z"
   },
   {
    "duration": 1560,
    "start_time": "2023-11-02T18:14:53.406Z"
   },
   {
    "duration": 154,
    "start_time": "2023-11-02T18:14:54.968Z"
   },
   {
    "duration": 76,
    "start_time": "2023-11-02T18:14:55.124Z"
   },
   {
    "duration": 5,
    "start_time": "2023-11-02T18:14:55.202Z"
   },
   {
    "duration": 34,
    "start_time": "2023-11-02T18:14:55.210Z"
   },
   {
    "duration": 74,
    "start_time": "2023-11-02T18:14:55.246Z"
   },
   {
    "duration": 33,
    "start_time": "2023-11-02T18:14:55.321Z"
   },
   {
    "duration": 59,
    "start_time": "2023-11-02T18:14:55.356Z"
   },
   {
    "duration": 35,
    "start_time": "2023-11-02T18:14:55.417Z"
   },
   {
    "duration": 40,
    "start_time": "2023-11-02T18:14:55.454Z"
   },
   {
    "duration": 20,
    "start_time": "2023-11-02T18:14:55.496Z"
   },
   {
    "duration": 50,
    "start_time": "2023-11-02T18:14:55.518Z"
   },
   {
    "duration": 454,
    "start_time": "2023-11-02T18:14:55.571Z"
   },
   {
    "duration": 27,
    "start_time": "2023-11-02T18:14:56.030Z"
   },
   {
    "duration": 43,
    "start_time": "2023-11-02T18:14:56.059Z"
   },
   {
    "duration": 43,
    "start_time": "2023-11-02T18:14:56.104Z"
   },
   {
    "duration": 20,
    "start_time": "2023-11-02T18:14:56.149Z"
   },
   {
    "duration": 17,
    "start_time": "2023-11-02T18:14:56.170Z"
   },
   {
    "duration": 53,
    "start_time": "2023-11-02T18:14:56.189Z"
   },
   {
    "duration": 16,
    "start_time": "2023-11-02T18:14:56.244Z"
   },
   {
    "duration": 407,
    "start_time": "2023-11-02T18:14:56.262Z"
   },
   {
    "duration": 28,
    "start_time": "2023-11-02T18:14:56.670Z"
   },
   {
    "duration": 74,
    "start_time": "2023-11-02T18:14:56.699Z"
   },
   {
    "duration": 662,
    "start_time": "2023-11-02T18:14:56.774Z"
   },
   {
    "duration": 1272,
    "start_time": "2023-11-02T18:14:57.438Z"
   },
   {
    "duration": 39,
    "start_time": "2023-11-02T18:14:58.712Z"
   },
   {
    "duration": 14,
    "start_time": "2023-11-02T18:14:58.753Z"
   },
   {
    "duration": 20,
    "start_time": "2023-11-02T18:14:58.768Z"
   },
   {
    "duration": 11,
    "start_time": "2023-11-02T18:14:58.790Z"
   },
   {
    "duration": 47,
    "start_time": "2023-11-02T18:14:58.802Z"
   },
   {
    "duration": 20,
    "start_time": "2023-11-02T18:14:58.851Z"
   },
   {
    "duration": 18,
    "start_time": "2023-11-02T18:14:58.872Z"
   },
   {
    "duration": 19,
    "start_time": "2023-11-02T18:14:58.891Z"
   },
   {
    "duration": 36,
    "start_time": "2023-11-02T18:14:58.911Z"
   },
   {
    "duration": 42,
    "start_time": "2023-11-02T18:14:58.949Z"
   },
   {
    "duration": 17,
    "start_time": "2023-11-02T18:14:58.993Z"
   },
   {
    "duration": 90,
    "start_time": "2023-11-02T18:14:59.011Z"
   },
   {
    "duration": 88,
    "start_time": "2023-11-02T18:14:59.103Z"
   },
   {
    "duration": 91,
    "start_time": "2023-11-02T18:14:59.192Z"
   },
   {
    "duration": 19,
    "start_time": "2023-11-02T18:14:59.284Z"
   },
   {
    "duration": 55,
    "start_time": "2023-11-02T18:14:59.307Z"
   },
   {
    "duration": 99,
    "start_time": "2023-11-02T18:14:59.364Z"
   },
   {
    "duration": 59,
    "start_time": "2023-11-02T18:14:59.465Z"
   },
   {
    "duration": 42,
    "start_time": "2023-11-02T18:14:59.525Z"
   },
   {
    "duration": 49,
    "start_time": "2023-11-02T18:14:59.568Z"
   },
   {
    "duration": 59,
    "start_time": "2023-11-02T18:14:59.619Z"
   },
   {
    "duration": 99,
    "start_time": "2023-11-02T18:14:59.680Z"
   },
   {
    "duration": 67,
    "start_time": "2023-11-02T18:14:59.780Z"
   },
   {
    "duration": 25,
    "start_time": "2023-11-02T18:14:59.848Z"
   },
   {
    "duration": 69,
    "start_time": "2023-11-02T18:14:59.875Z"
   },
   {
    "duration": 21,
    "start_time": "2023-11-02T18:14:59.946Z"
   },
   {
    "duration": 6,
    "start_time": "2023-11-02T18:14:59.969Z"
   },
   {
    "duration": 50,
    "start_time": "2023-11-02T18:14:59.976Z"
   },
   {
    "duration": 20,
    "start_time": "2023-11-02T18:15:00.028Z"
   },
   {
    "duration": 56,
    "start_time": "2023-11-02T18:15:00.049Z"
   },
   {
    "duration": 53,
    "start_time": "2023-11-02T18:15:00.107Z"
   },
   {
    "duration": 46,
    "start_time": "2023-11-02T18:15:00.162Z"
   },
   {
    "duration": 41,
    "start_time": "2023-11-02T18:15:00.210Z"
   },
   {
    "duration": 79,
    "start_time": "2023-11-02T18:15:00.253Z"
   },
   {
    "duration": 54,
    "start_time": "2023-11-02T18:15:00.334Z"
   },
   {
    "duration": 3878,
    "start_time": "2023-11-02T18:15:00.390Z"
   },
   {
    "duration": 21,
    "start_time": "2023-11-02T18:15:04.271Z"
   },
   {
    "duration": 132,
    "start_time": "2023-11-02T18:15:04.293Z"
   },
   {
    "duration": 40,
    "start_time": "2023-11-02T18:15:04.427Z"
   },
   {
    "duration": 54,
    "start_time": "2023-11-02T18:15:04.469Z"
   },
   {
    "duration": 9,
    "start_time": "2023-11-02T18:15:04.525Z"
   },
   {
    "duration": 30,
    "start_time": "2023-11-02T18:15:04.536Z"
   },
   {
    "duration": 126,
    "start_time": "2023-11-02T18:15:04.569Z"
   },
   {
    "duration": 43,
    "start_time": "2023-11-02T18:15:04.697Z"
   },
   {
    "duration": 3,
    "start_time": "2023-11-02T18:15:04.741Z"
   },
   {
    "duration": 2850,
    "start_time": "2023-11-02T18:15:04.746Z"
   },
   {
    "duration": 14,
    "start_time": "2023-11-02T18:15:07.598Z"
   },
   {
    "duration": 32,
    "start_time": "2023-11-02T18:15:07.613Z"
   },
   {
    "duration": 1370,
    "start_time": "2023-11-04T19:19:20.233Z"
   },
   {
    "duration": 174,
    "start_time": "2023-11-04T19:19:21.605Z"
   },
   {
    "duration": 90,
    "start_time": "2023-11-04T19:19:21.781Z"
   },
   {
    "duration": 5,
    "start_time": "2023-11-04T19:19:21.872Z"
   },
   {
    "duration": 41,
    "start_time": "2023-11-04T19:19:21.878Z"
   },
   {
    "duration": 49,
    "start_time": "2023-11-04T19:19:21.921Z"
   },
   {
    "duration": 25,
    "start_time": "2023-11-04T19:19:21.972Z"
   },
   {
    "duration": 81,
    "start_time": "2023-11-04T19:19:21.999Z"
   },
   {
    "duration": 18,
    "start_time": "2023-11-04T19:19:22.081Z"
   },
   {
    "duration": 88,
    "start_time": "2023-11-04T19:19:22.102Z"
   },
   {
    "duration": 92,
    "start_time": "2023-11-04T19:19:22.192Z"
   },
   {
    "duration": 113,
    "start_time": "2023-11-04T19:19:22.286Z"
   },
   {
    "duration": 542,
    "start_time": "2023-11-04T19:19:22.401Z"
   },
   {
    "duration": 22,
    "start_time": "2023-11-04T19:19:22.945Z"
   },
   {
    "duration": 39,
    "start_time": "2023-11-04T19:19:22.969Z"
   },
   {
    "duration": 58,
    "start_time": "2023-11-04T19:19:23.009Z"
   },
   {
    "duration": 47,
    "start_time": "2023-11-04T19:19:23.069Z"
   },
   {
    "duration": 30,
    "start_time": "2023-11-04T19:19:23.118Z"
   },
   {
    "duration": 67,
    "start_time": "2023-11-04T19:19:23.150Z"
   },
   {
    "duration": 26,
    "start_time": "2023-11-04T19:19:23.219Z"
   },
   {
    "duration": 393,
    "start_time": "2023-11-04T19:19:23.248Z"
   },
   {
    "duration": 27,
    "start_time": "2023-11-04T19:19:23.644Z"
   },
   {
    "duration": 91,
    "start_time": "2023-11-04T19:19:23.673Z"
   },
   {
    "duration": 758,
    "start_time": "2023-11-04T19:19:23.766Z"
   },
   {
    "duration": 2000,
    "start_time": "2023-11-04T19:19:24.532Z"
   },
   {
    "duration": 31,
    "start_time": "2023-11-04T19:19:26.534Z"
   },
   {
    "duration": 20,
    "start_time": "2023-11-04T19:19:26.567Z"
   },
   {
    "duration": 47,
    "start_time": "2023-11-04T19:19:26.592Z"
   },
   {
    "duration": 14,
    "start_time": "2023-11-04T19:19:26.641Z"
   },
   {
    "duration": 60,
    "start_time": "2023-11-04T19:19:26.657Z"
   },
   {
    "duration": 26,
    "start_time": "2023-11-04T19:19:26.718Z"
   },
   {
    "duration": 52,
    "start_time": "2023-11-04T19:19:26.745Z"
   },
   {
    "duration": 45,
    "start_time": "2023-11-04T19:19:26.799Z"
   },
   {
    "duration": 11,
    "start_time": "2023-11-04T19:19:26.846Z"
   },
   {
    "duration": 55,
    "start_time": "2023-11-04T19:19:26.859Z"
   },
   {
    "duration": 25,
    "start_time": "2023-11-04T19:19:26.916Z"
   },
   {
    "duration": 90,
    "start_time": "2023-11-04T19:19:26.943Z"
   },
   {
    "duration": 105,
    "start_time": "2023-11-04T19:19:27.035Z"
   },
   {
    "duration": 75,
    "start_time": "2023-11-04T19:19:27.142Z"
   },
   {
    "duration": 27,
    "start_time": "2023-11-04T19:19:27.218Z"
   },
   {
    "duration": 44,
    "start_time": "2023-11-04T19:19:27.247Z"
   },
   {
    "duration": 113,
    "start_time": "2023-11-04T19:19:27.293Z"
   },
   {
    "duration": 104,
    "start_time": "2023-11-04T19:19:27.408Z"
   },
   {
    "duration": 30,
    "start_time": "2023-11-04T19:19:27.514Z"
   },
   {
    "duration": 52,
    "start_time": "2023-11-04T19:19:27.546Z"
   },
   {
    "duration": 65,
    "start_time": "2023-11-04T19:19:27.600Z"
   },
   {
    "duration": 101,
    "start_time": "2023-11-04T19:19:27.667Z"
   },
   {
    "duration": 74,
    "start_time": "2023-11-04T19:19:27.770Z"
   },
   {
    "duration": 27,
    "start_time": "2023-11-04T19:19:27.846Z"
   },
   {
    "duration": 78,
    "start_time": "2023-11-04T19:19:27.875Z"
   },
   {
    "duration": 23,
    "start_time": "2023-11-04T19:19:27.955Z"
   },
   {
    "duration": 7,
    "start_time": "2023-11-04T19:19:27.980Z"
   },
   {
    "duration": 82,
    "start_time": "2023-11-04T19:19:27.989Z"
   },
   {
    "duration": 7,
    "start_time": "2023-11-04T19:19:28.073Z"
   },
   {
    "duration": 14,
    "start_time": "2023-11-04T19:19:28.082Z"
   },
   {
    "duration": 7,
    "start_time": "2023-11-04T19:19:28.098Z"
   },
   {
    "duration": 33,
    "start_time": "2023-11-04T19:19:28.106Z"
   },
   {
    "duration": 7,
    "start_time": "2023-11-04T19:19:28.140Z"
   },
   {
    "duration": 34,
    "start_time": "2023-11-04T19:19:28.149Z"
   },
   {
    "duration": 8,
    "start_time": "2023-11-04T19:19:28.184Z"
   },
   {
    "duration": 3808784,
    "start_time": "2023-11-04T19:19:28.194Z"
   },
   {
    "duration": 19,
    "start_time": "2023-11-04T20:22:56.980Z"
   },
   {
    "duration": 63,
    "start_time": "2023-11-04T20:22:57.000Z"
   },
   {
    "duration": 8,
    "start_time": "2023-11-04T20:22:57.065Z"
   },
   {
    "duration": 49,
    "start_time": "2023-11-04T20:22:57.074Z"
   },
   {
    "duration": 29,
    "start_time": "2023-11-04T20:22:57.125Z"
   },
   {
    "duration": 35,
    "start_time": "2023-11-04T20:22:57.155Z"
   },
   {
    "duration": 152,
    "start_time": "2023-11-04T20:22:57.191Z"
   },
   {
    "duration": 35,
    "start_time": "2023-11-04T20:22:57.344Z"
   },
   {
    "duration": 5,
    "start_time": "2023-11-04T20:22:57.381Z"
   },
   {
    "duration": 2974,
    "start_time": "2023-11-04T20:22:57.387Z"
   },
   {
    "duration": 19,
    "start_time": "2023-11-04T20:23:00.363Z"
   },
   {
    "duration": 205,
    "start_time": "2023-11-04T20:23:00.384Z"
   },
   {
    "duration": 1469,
    "start_time": "2023-11-05T06:34:21.555Z"
   },
   {
    "duration": 153,
    "start_time": "2023-11-05T06:34:23.025Z"
   },
   {
    "duration": 76,
    "start_time": "2023-11-05T06:34:23.179Z"
   },
   {
    "duration": 6,
    "start_time": "2023-11-05T06:34:23.257Z"
   },
   {
    "duration": 9,
    "start_time": "2023-11-05T06:34:23.266Z"
   },
   {
    "duration": 33,
    "start_time": "2023-11-05T06:34:23.277Z"
   },
   {
    "duration": 21,
    "start_time": "2023-11-05T06:34:23.312Z"
   },
   {
    "duration": 78,
    "start_time": "2023-11-05T06:34:23.335Z"
   },
   {
    "duration": 17,
    "start_time": "2023-11-05T06:34:23.415Z"
   },
   {
    "duration": 32,
    "start_time": "2023-11-05T06:34:23.433Z"
   },
   {
    "duration": 40,
    "start_time": "2023-11-05T06:34:23.467Z"
   },
   {
    "duration": 28,
    "start_time": "2023-11-05T06:34:23.509Z"
   },
   {
    "duration": 464,
    "start_time": "2023-11-05T06:34:23.538Z"
   },
   {
    "duration": 22,
    "start_time": "2023-11-05T06:34:24.006Z"
   },
   {
    "duration": 37,
    "start_time": "2023-11-05T06:34:24.030Z"
   },
   {
    "duration": 70,
    "start_time": "2023-11-05T06:34:24.069Z"
   },
   {
    "duration": 20,
    "start_time": "2023-11-05T06:34:24.141Z"
   },
   {
    "duration": 12,
    "start_time": "2023-11-05T06:34:24.162Z"
   },
   {
    "duration": 54,
    "start_time": "2023-11-05T06:34:24.176Z"
   },
   {
    "duration": 16,
    "start_time": "2023-11-05T06:34:24.231Z"
   },
   {
    "duration": 420,
    "start_time": "2023-11-05T06:34:24.249Z"
   },
   {
    "duration": 34,
    "start_time": "2023-11-05T06:34:24.671Z"
   },
   {
    "duration": 104,
    "start_time": "2023-11-05T06:34:24.707Z"
   },
   {
    "duration": 597,
    "start_time": "2023-11-05T06:34:24.813Z"
   },
   {
    "duration": 1275,
    "start_time": "2023-11-05T06:34:25.413Z"
   },
   {
    "duration": 42,
    "start_time": "2023-11-05T06:34:26.690Z"
   },
   {
    "duration": 19,
    "start_time": "2023-11-05T06:34:26.734Z"
   },
   {
    "duration": 15,
    "start_time": "2023-11-05T06:34:26.755Z"
   },
   {
    "duration": 39,
    "start_time": "2023-11-05T06:34:26.773Z"
   },
   {
    "duration": 34,
    "start_time": "2023-11-05T06:34:26.814Z"
   },
   {
    "duration": 19,
    "start_time": "2023-11-05T06:34:26.850Z"
   },
   {
    "duration": 42,
    "start_time": "2023-11-05T06:34:26.871Z"
   },
   {
    "duration": 23,
    "start_time": "2023-11-05T06:34:26.914Z"
   },
   {
    "duration": 10,
    "start_time": "2023-11-05T06:34:26.938Z"
   },
   {
    "duration": 55,
    "start_time": "2023-11-05T06:34:26.950Z"
   },
   {
    "duration": 22,
    "start_time": "2023-11-05T06:34:27.006Z"
   },
   {
    "duration": 103,
    "start_time": "2023-11-05T06:34:27.030Z"
   },
   {
    "duration": 94,
    "start_time": "2023-11-05T06:34:27.135Z"
   },
   {
    "duration": 90,
    "start_time": "2023-11-05T06:34:27.231Z"
   },
   {
    "duration": 20,
    "start_time": "2023-11-05T06:34:27.323Z"
   },
   {
    "duration": 64,
    "start_time": "2023-11-05T06:34:27.347Z"
   },
   {
    "duration": 97,
    "start_time": "2023-11-05T06:34:27.413Z"
   },
   {
    "duration": 61,
    "start_time": "2023-11-05T06:34:27.512Z"
   },
   {
    "duration": 40,
    "start_time": "2023-11-05T06:34:27.575Z"
   },
   {
    "duration": 54,
    "start_time": "2023-11-05T06:34:27.618Z"
   },
   {
    "duration": 69,
    "start_time": "2023-11-05T06:34:27.673Z"
   },
   {
    "duration": 100,
    "start_time": "2023-11-05T06:34:27.743Z"
   },
   {
    "duration": 70,
    "start_time": "2023-11-05T06:34:27.844Z"
   },
   {
    "duration": 25,
    "start_time": "2023-11-05T06:34:27.916Z"
   },
   {
    "duration": 74,
    "start_time": "2023-11-05T06:34:27.943Z"
   },
   {
    "duration": 24,
    "start_time": "2023-11-05T06:34:28.018Z"
   },
   {
    "duration": 8,
    "start_time": "2023-11-05T06:34:28.044Z"
   },
   {
    "duration": 67,
    "start_time": "2023-11-05T06:34:28.055Z"
   },
   {
    "duration": 7,
    "start_time": "2023-11-05T06:34:28.124Z"
   },
   {
    "duration": 13,
    "start_time": "2023-11-05T06:34:28.132Z"
   },
   {
    "duration": 3,
    "start_time": "2023-11-05T06:34:28.147Z"
   },
   {
    "duration": 19,
    "start_time": "2023-11-05T06:34:28.152Z"
   },
   {
    "duration": 29,
    "start_time": "2023-11-05T06:34:28.173Z"
   },
   {
    "duration": 41,
    "start_time": "2023-11-05T06:34:28.204Z"
   },
   {
    "duration": 8,
    "start_time": "2023-11-05T06:34:28.247Z"
   },
   {
    "duration": 2603,
    "start_time": "2023-11-10T16:01:42.228Z"
   },
   {
    "duration": 301,
    "start_time": "2023-11-10T16:01:44.833Z"
   },
   {
    "duration": 97,
    "start_time": "2023-11-10T16:01:45.136Z"
   },
   {
    "duration": 6,
    "start_time": "2023-11-10T16:01:45.236Z"
   },
   {
    "duration": 17,
    "start_time": "2023-11-10T16:01:45.244Z"
   },
   {
    "duration": 74,
    "start_time": "2023-11-10T16:01:45.263Z"
   },
   {
    "duration": 88,
    "start_time": "2023-11-10T16:01:45.338Z"
   },
   {
    "duration": 104,
    "start_time": "2023-11-10T16:01:45.428Z"
   },
   {
    "duration": 18,
    "start_time": "2023-11-10T16:01:45.534Z"
   },
   {
    "duration": 132,
    "start_time": "2023-11-10T16:01:45.617Z"
   },
   {
    "duration": 73,
    "start_time": "2023-11-10T16:01:45.752Z"
   },
   {
    "duration": 96,
    "start_time": "2023-11-10T16:01:45.827Z"
   },
   {
    "duration": 1110,
    "start_time": "2023-11-10T16:01:45.924Z"
   },
   {
    "duration": 82,
    "start_time": "2023-11-10T16:01:47.036Z"
   },
   {
    "duration": 38,
    "start_time": "2023-11-10T16:01:47.120Z"
   },
   {
    "duration": 88,
    "start_time": "2023-11-10T16:01:47.159Z"
   },
   {
    "duration": 90,
    "start_time": "2023-11-10T16:01:47.249Z"
   },
   {
    "duration": 76,
    "start_time": "2023-11-10T16:01:47.341Z"
   },
   {
    "duration": 101,
    "start_time": "2023-11-10T16:01:47.419Z"
   },
   {
    "duration": 18,
    "start_time": "2023-11-10T16:01:47.522Z"
   },
   {
    "duration": 905,
    "start_time": "2023-11-10T16:01:47.542Z"
   },
   {
    "duration": 80,
    "start_time": "2023-11-10T16:01:48.453Z"
   },
   {
    "duration": 110,
    "start_time": "2023-11-10T16:01:48.535Z"
   },
   {
    "duration": 1388,
    "start_time": "2023-11-10T16:01:48.647Z"
   },
   {
    "duration": 3202,
    "start_time": "2023-11-10T16:01:50.038Z"
   },
   {
    "duration": 82,
    "start_time": "2023-11-10T16:01:53.241Z"
   },
   {
    "duration": 16,
    "start_time": "2023-11-10T16:01:53.325Z"
   },
   {
    "duration": 77,
    "start_time": "2023-11-10T16:01:53.346Z"
   },
   {
    "duration": 32,
    "start_time": "2023-11-10T16:01:53.426Z"
   },
   {
    "duration": 92,
    "start_time": "2023-11-10T16:01:53.460Z"
   },
   {
    "duration": 79,
    "start_time": "2023-11-10T16:01:53.554Z"
   },
   {
    "duration": 86,
    "start_time": "2023-11-10T16:01:53.635Z"
   },
   {
    "duration": 31,
    "start_time": "2023-11-10T16:01:53.722Z"
   },
   {
    "duration": 65,
    "start_time": "2023-11-10T16:01:53.755Z"
   },
   {
    "duration": 114,
    "start_time": "2023-11-10T16:01:53.822Z"
   },
   {
    "duration": 22,
    "start_time": "2023-11-10T16:01:53.938Z"
   },
   {
    "duration": 213,
    "start_time": "2023-11-10T16:01:54.015Z"
   },
   {
    "duration": 184,
    "start_time": "2023-11-10T16:01:54.230Z"
   },
   {
    "duration": 228,
    "start_time": "2023-11-10T16:01:54.416Z"
   },
   {
    "duration": 78,
    "start_time": "2023-11-10T16:01:54.645Z"
   },
   {
    "duration": 108,
    "start_time": "2023-11-10T16:01:54.725Z"
   },
   {
    "duration": 218,
    "start_time": "2023-11-10T16:01:54.835Z"
   },
   {
    "duration": 205,
    "start_time": "2023-11-10T16:01:55.055Z"
   },
   {
    "duration": 91,
    "start_time": "2023-11-10T16:01:55.261Z"
   },
   {
    "duration": 195,
    "start_time": "2023-11-10T16:01:55.354Z"
   },
   {
    "duration": 177,
    "start_time": "2023-11-10T16:01:55.550Z"
   },
   {
    "duration": 289,
    "start_time": "2023-11-10T16:01:55.729Z"
   },
   {
    "duration": 200,
    "start_time": "2023-11-10T16:01:56.021Z"
   },
   {
    "duration": 99,
    "start_time": "2023-11-10T16:01:56.223Z"
   },
   {
    "duration": 195,
    "start_time": "2023-11-10T16:01:56.324Z"
   },
   {
    "duration": 25,
    "start_time": "2023-11-10T16:01:56.522Z"
   },
   {
    "duration": 66,
    "start_time": "2023-11-10T16:01:56.549Z"
   },
   {
    "duration": 100,
    "start_time": "2023-11-10T16:01:56.616Z"
   },
   {
    "duration": 8,
    "start_time": "2023-11-10T16:01:56.718Z"
   },
   {
    "duration": 17,
    "start_time": "2023-11-10T16:01:56.727Z"
   },
   {
    "duration": 6,
    "start_time": "2023-11-10T16:01:56.745Z"
   },
   {
    "duration": 68,
    "start_time": "2023-11-10T16:01:56.753Z"
   },
   {
    "duration": 15,
    "start_time": "2023-11-10T16:01:56.823Z"
   },
   {
    "duration": 97,
    "start_time": "2023-11-10T16:01:56.840Z"
   },
   {
    "duration": 5,
    "start_time": "2023-11-10T16:01:56.939Z"
   },
   {
    "duration": 570064,
    "start_time": "2023-11-10T16:01:56.945Z"
   },
   {
    "duration": 26,
    "start_time": "2023-11-10T16:11:27.011Z"
   },
   {
    "duration": 40,
    "start_time": "2023-11-10T16:11:27.040Z"
   },
   {
    "duration": 7,
    "start_time": "2023-11-10T16:11:27.083Z"
   },
   {
    "duration": 55,
    "start_time": "2023-11-10T16:11:27.092Z"
   },
   {
    "duration": 7,
    "start_time": "2023-11-10T16:11:27.149Z"
   },
   {
    "duration": 15,
    "start_time": "2023-11-10T16:11:27.158Z"
   },
   {
    "duration": 135,
    "start_time": "2023-11-10T16:11:27.175Z"
   },
   {
    "duration": 25,
    "start_time": "2023-11-10T16:11:27.313Z"
   },
   {
    "duration": 13,
    "start_time": "2023-11-10T16:11:27.340Z"
   },
   {
    "duration": 4404,
    "start_time": "2023-11-10T16:11:27.354Z"
   },
   {
    "duration": 21,
    "start_time": "2023-11-10T16:11:31.760Z"
   },
   {
    "duration": 44,
    "start_time": "2023-11-10T16:11:31.782Z"
   }
  ],
  "kernelspec": {
   "display_name": "Python 3 (ipykernel)",
   "language": "python",
   "name": "python3"
  },
  "language_info": {
   "codemirror_mode": {
    "name": "ipython",
    "version": 3
   },
   "file_extension": ".py",
   "mimetype": "text/x-python",
   "name": "python",
   "nbconvert_exporter": "python",
   "pygments_lexer": "ipython3",
   "version": "3.9.13"
  },
  "toc": {
   "base_numbering": 1,
   "nav_menu": {},
   "number_sections": true,
   "sideBar": true,
   "skip_h1_title": true,
   "title_cell": "Table of Contents",
   "title_sidebar": "Contents",
   "toc_cell": false,
   "toc_position": {
    "height": "calc(100% - 180px)",
    "left": "10px",
    "top": "150px",
    "width": "416px"
   },
   "toc_section_display": true,
   "toc_window_display": true
  }
 },
 "nbformat": 4,
 "nbformat_minor": 2
}
